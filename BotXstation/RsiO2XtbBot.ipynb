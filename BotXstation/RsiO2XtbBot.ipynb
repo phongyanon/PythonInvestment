{
 "cells": [
  {
   "cell_type": "code",
   "execution_count": 2,
   "id": "fb83e722",
   "metadata": {},
   "outputs": [
    {
     "data": {
      "text/plain": [
       "True"
      ]
     },
     "execution_count": 2,
     "metadata": {},
     "output_type": "execute_result"
    }
   ],
   "source": [
    "import os, csv\n",
    "from dotenv import load_dotenv\n",
    "import pandas as pd\n",
    "import time\n",
    "\n",
    "from datetime import datetime\n",
    "from xAPIConnector import *\n",
    "import schedule\n",
    "import requests\n",
    "\n",
    "import calendar\n",
    "import pandas as pd\n",
    "import pandas_ta as ta\n",
    "import numpy as np\n",
    "\n",
    "from alpha_vantage.timeseries import TimeSeries\n",
    "from alpha_vantage.foreignexchange import ForeignExchange\n",
    "load_dotenv()"
   ]
  },
  {
   "cell_type": "code",
   "execution_count": 3,
   "id": "6c0e9bd5",
   "metadata": {},
   "outputs": [],
   "source": [
    "XTB_USER_ID = os.getenv('XTB_DEMO_USER_ID')\n",
    "XTB_USER_PASSWORD = os.getenv('XTB_DEMO_USER_PASSWORD')\n",
    "\n",
    "API_KEYS = os.getenv('ALPHA_KEYS')\n",
    "cc = ForeignExchange(key=API_KEYS)\n",
    "\n",
    "LINE_TOKEN = os.getenv('LINE_TOKEN')\n",
    "LINE_URL = 'https://notify-api.line.me/api/notify'\n",
    "LINE_HEADERS = {'content-type':'application/x-www-form-urlencoded','Authorization':'Bearer ' + LINE_TOKEN }\n",
    "\n",
    "ts = TimeSeries(key=API_KEYS, output_format='pandas')\n",
    "# XTB_USER_ID, XTB_USER_PASSWORD"
   ]
  },
  {
   "cell_type": "code",
   "execution_count": 4,
   "id": "71d7d023",
   "metadata": {},
   "outputs": [
    {
     "name": "stderr",
     "output_type": "stream",
     "text": [
      "[2022-03-31 12:28:25,000][connect:74] Socket connected\n",
      "[2022-03-31 12:28:25,004][_waitingSend:88] Sent: b'{\"command\": \"login\", \"arguments\": {\"userId\": \"13248526\", \"password\": \"veGan/1102199c\", \"appName\": \"\"}}'\n",
      "[2022-03-31 12:28:25,439][_read:107] Received: {'status': True, 'streamSessionId': 'e41f13fffecd98b2-00000385-0079d2bf-cd9cd98c39a8cb34-1769eb9c'}\n",
      "[2022-03-31 12:28:25,441][<module>:4] {'status': True, 'streamSessionId': 'e41f13fffecd98b2-00000385-0079d2bf-cd9cd98c39a8cb34-1769eb9c'}\n"
     ]
    }
   ],
   "source": [
    "client = APIClient()\n",
    "\n",
    "loginResponse = client.execute(loginCommand(userId=XTB_USER_ID, password=XTB_USER_PASSWORD))\n",
    "logger.info(str(loginResponse)) \n",
    "\n",
    "# check if user logged in correctly\n",
    "if(loginResponse['status'] == False):\n",
    "    print('Login failed. Error code: {0}'.format(loginResponse['errorCode']))\n",
    "    \n",
    "# get ssId from login response\n",
    "ssid = loginResponse['streamSessionId']"
   ]
  },
  {
   "cell_type": "code",
   "execution_count": 5,
   "id": "819f3bcf",
   "metadata": {},
   "outputs": [
    {
     "name": "stderr",
     "output_type": "stream",
     "text": [
      "[2022-03-30 16:22:28,063][_waitingSend:88] Sent: b'{\"command\": \"ping\", \"arguments\": {}}'\n",
      "[2022-03-30 16:22:28,226][_read:107] Received: {'status': True}\n"
     ]
    },
    {
     "data": {
      "text/plain": [
       "True"
      ]
     },
     "execution_count": 5,
     "metadata": {},
     "output_type": "execute_result"
    }
   ],
   "source": [
    "ping_resp = client.execute(pingCommand())\n",
    "ping_resp['status']"
   ]
  },
  {
   "cell_type": "code",
   "execution_count": null,
   "id": "3a841b02",
   "metadata": {},
   "outputs": [],
   "source": [
    "order_resp = client.execute(newPendingOrderCommand(\n",
    "    symbol='GOLD', \n",
    "    action='buy stop', \n",
    "    price=2000, \n",
    "    tp=2006, \n",
    "    sl=1995, \n",
    "    volume=0.01\n",
    "))\n",
    "order_resp"
   ]
  },
  {
   "cell_type": "code",
   "execution_count": 4,
   "id": "d88e1f21",
   "metadata": {},
   "outputs": [
    {
     "name": "stderr",
     "output_type": "stream",
     "text": [
      "[2022-03-28 13:46:42,458][_waitingSend:88] Sent: b'{\"command\": \"tradeTransaction\", \"arguments\": {\"tradeTransInfo\": {\"order\": 369035605, \"symbol\": \"GOLD\"}}}'\n",
      "[2022-03-28 13:46:42,699][_read:107] Received: {'status': False, 'errorCode': 'BE4002', 'errorDescr': 'Invalid nominal'}\n"
     ]
    },
    {
     "data": {
      "text/plain": [
       "{'status': False, 'errorCode': 'BE4002', 'errorDescr': 'Invalid nominal'}"
      ]
     },
     "execution_count": 4,
     "metadata": {},
     "output_type": "execute_result"
    }
   ],
   "source": [
    "order_resp = client.execute(stopOrderCommand(\n",
    "    orderId=369035605,\n",
    "    symbol='GOLD', \n",
    "    action='buy', \n",
    "    price=2000,\n",
    "    volume=0.01\n",
    "))\n",
    "order_resp"
   ]
  },
  {
   "cell_type": "code",
   "execution_count": 11,
   "id": "b1acdb28",
   "metadata": {},
   "outputs": [
    {
     "name": "stderr",
     "output_type": "stream",
     "text": [
      "[2022-03-30 13:23:19,689][close:115] Closing socket\n"
     ]
    }
   ],
   "source": [
    "client.disconnect()"
   ]
  },
  {
   "cell_type": "code",
   "execution_count": 5,
   "id": "40b9e932",
   "metadata": {},
   "outputs": [],
   "source": [
    "class RsiO2Notify:\n",
    "    def __init__(self, params, ts, client):\n",
    "        self.ts = ts\n",
    "        self.client = client\n",
    "        self.pair = params['pair']\n",
    "        self.tf = params['tf']\n",
    "        \n",
    "        self.order = {'action': None, 'open time': None, 'open': None, 'close time': None, \\\n",
    "                      'close': None, 'T/P': None, 'S/L': None,'result': None}\n",
    "        self.current_action = 'close'\n",
    "        self.atr_len = params['atr_len']\n",
    "        self.rsi_len = params['rsi_len']\n",
    "        \n",
    "        self.ema_len = params['ema_len']\n",
    "        self.overbought = params['overbought']\n",
    "        self.oversold = params['oversold']\n",
    "        self.pip = params['pip']\n",
    "        \n",
    "        self.pip_value = params['pip_value']\n",
    "        self.rr = params['rr']\n",
    "        \n",
    "        self.lot_size = 0.01\n",
    "        self.order_id = 0\n",
    "        self.target = 6\n",
    "        self.round = params['round']\n",
    "        \n",
    "        self.line_url = params['line_url']\n",
    "        self.line_token = params['line_token']\n",
    "        self.line_headers = {'content-type':'application/x-www-form-urlencoded','Authorization':'Bearer ' + self.line_token }\n",
    "        self.df = None\n",
    "        \n",
    "    def notifyMsg(self, *msg):\n",
    "        r = requests.post(self.line_url, headers=self.line_headers, data={'message': msg[0]})\n",
    "        print(r.text)\n",
    "        \n",
    "    def calLotSize(self, entry, exit):\n",
    "        self.lot_size = abs(round(self.target / (((entry - exit) / self.pip ) * self.pip_value ) , 2))\n",
    "        print(f'lot_size: {str(self.lot_size)}')\n",
    "        \n",
    "    def executeOrder(self, action, entry=0, exit=0, sl=0, tp=0):\n",
    "        now = calendar.timegm(time.gmtime()) * 100\n",
    "        if action == 'buy':\n",
    "            order_action='buy stop'\n",
    "            tick_resp = client.execute(getTickPricesCommand(self.pair, now))\n",
    "            if tick_resp['returnData']['quotations'][0]['ask'] > round(entry, self.round):\n",
    "                order_action='buy limit'\n",
    "                \n",
    "            order_resp = self.client.execute(newPendingOrderCommand(\n",
    "                symbol=self.pair, \n",
    "                action=order_action, \n",
    "                price=round(entry, self.round), \n",
    "                tp=round(tp, self.round), \n",
    "                sl=round(sl, self.round), \n",
    "                volume=self.lot_size\n",
    "            ))\n",
    "            self.order_id = order_resp['returnData']['order']\n",
    "        elif action == 'sell':\n",
    "            order_action='sell stop'\n",
    "            tick_resp = client.execute(getTickPricesCommand(self.pair, now))\n",
    "            if tick_resp['returnData']['quotations'][0]['bid'] < round(entry, self.round):\n",
    "                order_action='sell limit'\n",
    "                \n",
    "            order_resp = self.client.execute(newPendingOrderCommand(\n",
    "                symbol=self.pair, \n",
    "                action=order_action, \n",
    "                price=round(entry, self.round), \n",
    "                tp=round(tp, self.round), \n",
    "                sl=round(sl, self.round), \n",
    "                volume=self.lot_size\n",
    "            ))\n",
    "            self.order_id = order_resp['returnData']['order']\n",
    "            \n",
    "        elif action == 'close buy':\n",
    "            order_resp = client.execute(stopOrderCommand(\n",
    "                orderId=self.order_id,\n",
    "                symbol=self.pair, \n",
    "                action='buy', \n",
    "                price=round(exit, self.round),\n",
    "                volume=self.lot_size\n",
    "            ))\n",
    "            \n",
    "        elif action == 'close sell':\n",
    "            order_resp = client.execute(stopOrderCommand(\n",
    "                orderId=self.order_id,\n",
    "                symbol=self.pair, \n",
    "                action='sell', \n",
    "                price=round(exit, self.round),\n",
    "                volume=self.lot_size\n",
    "            ))\n",
    "        \n",
    "    def initial_bars(self):\n",
    "        bars, _ = self.ts.get_intraday(symbol=self.pair,interval=self.tf, outputsize='full')\n",
    "        df = pd.DataFrame({\n",
    "            'timestamp': bars.index,\n",
    "            'open': bars['1. open'],\n",
    "            'high': bars['2. high'],\n",
    "            'low': bars['3. low'],\n",
    "            'close': bars['4. close'],\n",
    "            'volumn': bars['5. volume']\n",
    "        }) # convert alpha vantage data to use with strategy\n",
    "\n",
    "        df['timestamp'] = pd.to_datetime(df['timestamp'], unit='ms')\n",
    "        df = df.iloc[::-1] # reverse row\n",
    "        df.reset_index(drop=True, inplace=True)\n",
    "\n",
    "        self.df = df\n",
    "    \n",
    "    def get_realtime(self):\n",
    "        bars, _ = self.ts.get_intraday(symbol=self.pair,interval=self.tf, outputsize='compact')\n",
    "        incoming_df = pd.DataFrame({\n",
    "            'timestamp': bars.index,\n",
    "            'open': bars['1. open'],\n",
    "            'high': bars['2. high'],\n",
    "            'low': bars['3. low'],\n",
    "            'close': bars['4. close'],\n",
    "            'volumn': bars['5. volume']\n",
    "        }) # convert alpha vantage data to use with rsi strategy\n",
    "\n",
    "        incoming_df['timestamp'] = pd.to_datetime(incoming_df['timestamp'], unit='ms')\n",
    "     \n",
    "        if (incoming_df['timestamp'].iloc[0] != self.df['timestamp'].iloc[-1]):\n",
    "            self.df = self.df[:900].append(incoming_df.head(1), ignore_index = True)\n",
    "\n",
    "        rsi_o2 = ta.Strategy(\n",
    "            name = 'RSI 14 Days for opposite trade',\n",
    "            description = 'RSI for alert',\n",
    "            ta = [\n",
    "                {'kind': 'ema', 'length': self.ema_len},\n",
    "                {'kind': 'rsi', 'length': self.rsi_len},\n",
    "                {'kind': 'atr', 'length': self.atr_len}\n",
    "            ]\n",
    "        )\n",
    "        self.df.ta.strategy(rsi_o2)\n",
    "    \n",
    "        row = self.df.tail(1).to_dict('records')[0]\n",
    "        \n",
    "        if self.current_action == 'close' or self.order == {}:\n",
    "            if (row['EMA_'+str(self.ema_len)] < row['low']) and (row['RSI_'+str(self.rsi_len)] > self.overbought):\n",
    "#                 row['action'] = 'buy'\n",
    "                self.order['action'] = 'buy'\n",
    "                self.order['open time'] = row['timestamp']\n",
    "                self.order['open'] = row['open']\n",
    "                \n",
    "                self.order['S/L'] = row['low']- row['ATRr_'+str(self.atr_len)]\n",
    "                self.order['T/P'] = row['open'] + (self.rr * abs(row['open'] - self.order['S/L']))\n",
    "                self.current_action = 'buy'\n",
    "                self.notifyMsg(f\"Buy {self.pair} RSI_O2\\nprice: {str(self.order['open'])}\\nTP: {str(self.order['T/P'])}\\nSL: {str(self.order['S/L'])}\")\n",
    "                \n",
    "                self.calLotSize(self.order['open'], self.order['T/P'])\n",
    "                self.executeOrder('buy', entry=self.order['open'], exit=self.order['T/P'], sl=self.order['S/L'], tp=self.order['T/P'])\n",
    "                print(f\"Buy {self.pair} \\nopen: {str(self.order['open'])}\\nclose: {str(self.order['close'])}\\n \" + \\\n",
    "                      f\"ema: {str(row['EMA_'+str(self.ema_len)])}, rsi: {str(row['RSI_'+str(self.rsi_len)] )}\")\n",
    "                \n",
    "            elif (row['EMA_'+str(self.ema_len)] > row['high']) and (row['RSI_'+str(self.rsi_len)] < self.oversold):   \n",
    "#                 row['action'] = 'sell'\n",
    "                self.order['action'] = 'sell'\n",
    "                self.order['open time'] = row['timestamp']\n",
    "                self.order['open'] = row['open']\n",
    "                \n",
    "                self.order['S/L'] = row['high'] + row['ATRr_'+str(self.atr_len)]\n",
    "                self.order['T/P'] = row['open'] - (self.rr * abs(row['open'] - self.order['S/L']))\n",
    "                self.current_action = 'sell'\n",
    "                self.notifyMsg(f\"Sell {self.pair} RSI_O2\\nprice: {str(self.order['open'])}\\nTP: {str(self.order['T/P'])}\\nSL: {str(self.order['S/L'])}\")\n",
    "                \n",
    "                self.calLotSize(self.order['open'], self.order['T/P'])\n",
    "                self.executeOrder('sell', entry=self.order['open'], exit=self.order['T/P'], sl=self.order['S/L'], tp=self.order['T/P'])\n",
    "                print(f\"Sell {self.pair} \\nopen: {str(self.order['open'])}\\nclose: {str(self.order['close'])}\\n \" + \\\n",
    "                      f\"ema: {str(row['EMA_'+str(self.ema_len)])}, rsi: {str(row['RSI_'+str(self.rsi_len)] )}\")\n",
    "\n",
    "        if (self.current_action == 'buy'):\n",
    "            if (row['low'] <= self.order['S/L']):\n",
    "                self.order['result'] = 'S/L'\n",
    "                self.order['close time'] = row['timestamp']\n",
    "                self.order['close'] = self.order['S/L']\n",
    "                \n",
    "                self.current_action = 'close'\n",
    "                self.notifyMsg(f\"S/L Buy {self.pair} RSI_O2\\nprice: {self.order['close']}\")\n",
    "                self.executeOrder('sell', entry=self.order['open'], exit=self.order['T/P'], sl=self.order['S/L'], tp=self.order['T/P'])\n",
    "                self.order = {'action': None, 'open time': None, 'open': None, 'close time': None, \\\n",
    "                              'close': None, 'T/P': None, 'S/L': None,'result': None}\n",
    "                \n",
    "            elif (row['high'] >= self.order['T/P']):\n",
    "                self.order['result'] = 'T/P'\n",
    "                self.order['close time'] = row['timestamp']\n",
    "                self.order['close'] = self.order['T/P']\n",
    "                \n",
    "                self.current_action = 'close'\n",
    "                self.notifyMsg(f\"T/P Buy {self.pair} RSI_O2\\nprice: {self.order['close']}\")\n",
    "                self.order = {'action': None, 'open time': None, 'open': None, 'close time': None, \\\n",
    "                              'close': None, 'T/P': None, 'S/L': None,'result': None}\n",
    "\n",
    "        elif (self.current_action == 'sell'):\n",
    "            if (row['high'] >= self.order['S/L']):\n",
    "                self.order['result'] = 'S/L'\n",
    "                self.order['close time'] = row['timestamp']\n",
    "                self.order['close'] = self.order['S/L']\n",
    "                \n",
    "                self.current_action = 'close'\n",
    "                self.notifyMsg(f\"S/L Sell {self.pair} RSI_O2\\nprice: {self.order['close']}\")\n",
    "                self.order = {'action': None, 'open time': None, 'open': None, 'close time': None, \\\n",
    "                              'close': None, 'T/P': None, 'S/L': None,'result': None}\n",
    "                \n",
    "            elif (row['low'] <= self.order['T/P']):\n",
    "                self.order['result'] = 'T/P'\n",
    "                self.order['close time'] = row['timestamp']\n",
    "                self.order['close'] = self.order['T/P']\n",
    "                \n",
    "                self.current_action = 'close'\n",
    "                self.notifyMsg(f\"T/P Sell {self.pair} RSI_O2\\nprice: {self.order['close']}\")\n",
    "                self.order = {'action': None, 'open time': None, 'open': None, 'close time': None, \\\n",
    "                              'close': None, 'T/P': None, 'S/L': None,'result': None}"
   ]
  },
  {
   "cell_type": "code",
   "execution_count": 6,
   "id": "80b929dd",
   "metadata": {},
   "outputs": [],
   "source": [
    "def keepConnectionAlive():\n",
    "    try:\n",
    "        ping_resp = client.execute(pingCommand())\n",
    "        print(f\"Connection Status: {ping_resp['status']}\")\n",
    "    except:\n",
    "        loginResponse = client.execute(loginCommand(userId=XTB_USER_ID, password=XTB_USER_PASSWORD))\n",
    "        logger.info(str(loginResponse)) \n",
    "\n",
    "        # check if user logged in correctly\n",
    "        if(loginResponse['status'] == False):\n",
    "            print('Login failed. Error code: {0}'.format(loginResponse['errorCode']))"
   ]
  },
  {
   "cell_type": "code",
   "execution_count": 7,
   "id": "bd195cf0",
   "metadata": {},
   "outputs": [],
   "source": [
    "eurusd = RsiO2Notify({\n",
    "    'pair': 'EURUSD',\n",
    "    'tf': '15min',\n",
    "    'atr_len': 13,\n",
    "    'rsi_len': 20,\n",
    "    'ema_len': 200,\n",
    "    'overbought': 76,\n",
    "    'oversold': 24,\n",
    "    'pip': 0.0001,\n",
    "    'pip_value': 10,\n",
    "    'rr': 1.5,\n",
    "    'round': 5,\n",
    "    'line_url': LINE_URL,\n",
    "    'line_token': LINE_TOKEN,\n",
    "}, ts, client)\n",
    "\n",
    "audusd = RsiO2Notify({\n",
    "    'pair': 'AUDUSD',\n",
    "    'tf': '15min',\n",
    "    'atr_len': 11,\n",
    "    'rsi_len': 11,\n",
    "    'ema_len': 200,\n",
    "    'overbought': 71,\n",
    "    'oversold': 29,\n",
    "    'pip': 0.0001,\n",
    "    'pip_value': 10,\n",
    "    'rr': 1.5,\n",
    "    'round': 5,\n",
    "    'line_url': LINE_URL,\n",
    "    'line_token': LINE_TOKEN,\n",
    "}, ts, client)\n",
    "\n",
    "gbpusd = RsiO2Notify({\n",
    "    'pair': 'GBPUSD',\n",
    "    'tf': '15min',\n",
    "    'atr_len': 10,\n",
    "    'rsi_len': 20,\n",
    "    'ema_len': 200,\n",
    "    'overbought': 70,\n",
    "    'oversold': 30,\n",
    "    'pip': 0.0001,\n",
    "    'pip_value': 10,\n",
    "    'rr': 1.5,\n",
    "    'round': 5,\n",
    "    'line_url': LINE_URL,\n",
    "    'line_token': LINE_TOKEN,\n",
    "}, ts, client)\n",
    "\n",
    "usdjpy = RsiO2Notify({\n",
    "    'pair': 'USDJPY',\n",
    "    'tf': '15min',\n",
    "    'atr_len': 17,\n",
    "    'rsi_len': 12,\n",
    "    'ema_len': 200,\n",
    "    'overbought': 73,\n",
    "    'oversold': 27,\n",
    "    'pip': 0.01,\n",
    "    'pip_value': 8.04,\n",
    "    'rr': 1.5,\n",
    "    'round': 3,\n",
    "    'line_url': LINE_URL,\n",
    "    'line_token': LINE_TOKEN,\n",
    "}, ts, client)"
   ]
  },
  {
   "cell_type": "code",
   "execution_count": 8,
   "id": "f7a6b391",
   "metadata": {},
   "outputs": [],
   "source": [
    "eurusd.initial_bars()\n",
    "audusd.initial_bars()\n",
    "# usdjpy.initial_bars()\n",
    "# gbpusd.initial_bars()"
   ]
  },
  {
   "cell_type": "code",
   "execution_count": 9,
   "id": "e0ece244",
   "metadata": {},
   "outputs": [
    {
     "data": {
      "text/plain": [
       "Every 900 seconds do get_all_realtime() (last run: [never], next run: 2022-03-31 12:43:41)"
      ]
     },
     "execution_count": 9,
     "metadata": {},
     "output_type": "execute_result"
    }
   ],
   "source": [
    "def get_all_realtime():\n",
    "    keepConnectionAlive()\n",
    "    eurusd.get_realtime()\n",
    "    audusd.get_realtime()\n",
    "#     usdjpy.get_realtime()\n",
    "    \n",
    "schedule.every(60 * 15).seconds.do(get_all_realtime) "
   ]
  },
  {
   "cell_type": "code",
   "execution_count": null,
   "id": "98d52754",
   "metadata": {},
   "outputs": [
    {
     "name": "stderr",
     "output_type": "stream",
     "text": [
      "[2022-03-31 12:43:42,287][_waitingSend:88] Sent: b'{\"command\": \"ping\", \"arguments\": {}}'\n",
      "[2022-03-31 12:43:42,451][_read:107] Received: {'status': True}\n"
     ]
    },
    {
     "name": "stdout",
     "output_type": "stream",
     "text": [
      "Connection Status: True\n"
     ]
    },
    {
     "name": "stderr",
     "output_type": "stream",
     "text": [
      "[2022-03-31 12:43:48,207][_waitingSend:88] Sent: b'{\"command\": \"getTickPrices\", \"arguments\": {\"level\": 0, \"symbols\": [\"AUDUSD\"], \"timestamp\": 164870542800}}'\n",
      "[2022-03-31 12:43:48,372][_read:107] Received: {'status': True, 'returnData': {'quotations': [{'symbol': 'AUDUSD', 'ask': 0.74862, 'bid': 0.7484, 'high': 0.75242, 'low': 0.74771, 'askVolume': 50000, 'bidVolume': 50000, 'timestamp': 1648705428209, 'level': 0, 'exemode': 1, 'spreadRaw': 0.00022, 'spreadTable': 2.2}]}}\n",
      "[2022-03-31 12:43:48,376][_waitingSend:88] Sent: b'{\"command\": \"tradeTransaction\", \"arguments\": {\"tradeTransInfo\": {\"cmd\": 5, \"customComment\": \"\", \"expiration\": 0, \"order\": 0, \"price\": 0.7481, \"sl\": 0.74996, \"tp\": 0.74531, \"symbol\": \"AUDUSD\", \"type\": 0, \"volume\": 0.02}}}'\n"
     ]
    },
    {
     "name": "stdout",
     "output_type": "stream",
     "text": [
      "{\"status\":200,\"message\":\"ok\"}\n",
      "lot_size: 0.02\n"
     ]
    },
    {
     "name": "stderr",
     "output_type": "stream",
     "text": [
      "[2022-03-31 12:43:48,614][_read:107] Received: {'status': True, 'returnData': {'order': 370867396}}\n"
     ]
    },
    {
     "name": "stdout",
     "output_type": "stream",
     "text": [
      "Sell AUDUSD \n",
      "open: 0.7481\n",
      "close: None\n",
      " ema: 0.7505267897305844, rsi: 27.195157238881748\n"
     ]
    },
    {
     "name": "stderr",
     "output_type": "stream",
     "text": [
      "[2022-03-31 12:58:49,071][_waitingSend:88] Sent: b'{\"command\": \"ping\", \"arguments\": {}}'\n",
      "[2022-03-31 12:58:49,238][_read:107] Received: {'status': True}\n"
     ]
    },
    {
     "name": "stdout",
     "output_type": "stream",
     "text": [
      "Connection Status: True\n"
     ]
    },
    {
     "name": "stderr",
     "output_type": "stream",
     "text": [
      "[2022-03-31 13:13:55,580][_waitingSend:88] Sent: b'{\"command\": \"ping\", \"arguments\": {}}'\n",
      "[2022-03-31 13:13:55,744][_read:107] Received: {'status': True}\n"
     ]
    },
    {
     "name": "stdout",
     "output_type": "stream",
     "text": [
      "Connection Status: True\n"
     ]
    },
    {
     "name": "stderr",
     "output_type": "stream",
     "text": [
      "[2022-03-31 13:13:59,591][_waitingSend:88] Sent: b'{\"command\": \"getTickPrices\", \"arguments\": {\"level\": 0, \"symbols\": [\"AUDUSD\"], \"timestamp\": 164870723900}}'\n",
      "[2022-03-31 13:13:59,754][_read:107] Received: {'status': True, 'returnData': {'quotations': [{'symbol': 'AUDUSD', 'ask': 0.74875, 'bid': 0.74857, 'high': 0.75242, 'low': 0.74771, 'askVolume': 450000, 'bidVolume': 200000, 'timestamp': 1648707239082, 'level': 0, 'exemode': 1, 'spreadRaw': 0.00018, 'spreadTable': 1.8}]}}\n",
      "[2022-03-31 13:13:59,757][_waitingSend:88] Sent: b'{\"command\": \"tradeTransaction\", \"arguments\": {\"tradeTransInfo\": {\"cmd\": 4, \"customComment\": \"\", \"expiration\": 0, \"order\": 0, \"price\": 1.1166, \"sl\": 1.1149, \"tp\": 1.11915, \"symbol\": \"EURUSD\", \"type\": 0, \"volume\": 0.02}}}'\n"
     ]
    },
    {
     "name": "stdout",
     "output_type": "stream",
     "text": [
      "{\"status\":200,\"message\":\"ok\"}\n",
      "lot_size: 0.02\n"
     ]
    },
    {
     "name": "stderr",
     "output_type": "stream",
     "text": [
      "[2022-03-31 13:14:00,005][_read:107] Received: {'status': True, 'returnData': {'order': 370874297}}\n"
     ]
    },
    {
     "name": "stdout",
     "output_type": "stream",
     "text": [
      "Buy EURUSD \n",
      "open: 1.1166\n",
      "close: None\n",
      " ema: 1.1054469711462374, rsi: 76.10956729821383\n"
     ]
    },
    {
     "name": "stderr",
     "output_type": "stream",
     "text": [
      "[2022-03-31 13:29:02,737][_waitingSend:88] Sent: b'{\"command\": \"ping\", \"arguments\": {}}'\n",
      "[2022-03-31 13:29:02,900][_read:107] Received: {'status': True}\n"
     ]
    },
    {
     "name": "stdout",
     "output_type": "stream",
     "text": [
      "Connection Status: True\n"
     ]
    },
    {
     "name": "stderr",
     "output_type": "stream",
     "text": [
      "[2022-03-31 13:44:08,634][_waitingSend:88] Sent: b'{\"command\": \"ping\", \"arguments\": {}}'\n",
      "[2022-03-31 13:44:08,798][_read:107] Received: {'status': True}\n"
     ]
    },
    {
     "name": "stdout",
     "output_type": "stream",
     "text": [
      "Connection Status: True\n"
     ]
    },
    {
     "name": "stderr",
     "output_type": "stream",
     "text": [
      "[2022-03-31 13:59:14,965][_waitingSend:88] Sent: b'{\"command\": \"ping\", \"arguments\": {}}'\n",
      "[2022-03-31 13:59:15,128][_read:107] Received: {'status': True}\n"
     ]
    },
    {
     "name": "stdout",
     "output_type": "stream",
     "text": [
      "Connection Status: True\n"
     ]
    },
    {
     "name": "stderr",
     "output_type": "stream",
     "text": [
      "[2022-03-31 14:14:21,891][_waitingSend:88] Sent: b'{\"command\": \"ping\", \"arguments\": {}}'\n",
      "[2022-03-31 14:14:22,054][_read:107] Received: {'status': True}\n"
     ]
    },
    {
     "name": "stdout",
     "output_type": "stream",
     "text": [
      "Connection Status: True\n"
     ]
    },
    {
     "name": "stderr",
     "output_type": "stream",
     "text": [
      "[2022-03-31 14:29:27,052][_waitingSend:88] Sent: b'{\"command\": \"ping\", \"arguments\": {}}'\n",
      "[2022-03-31 14:29:27,215][_read:107] Received: {'status': True}\n"
     ]
    },
    {
     "name": "stdout",
     "output_type": "stream",
     "text": [
      "Connection Status: True\n"
     ]
    },
    {
     "name": "stderr",
     "output_type": "stream",
     "text": [
      "[2022-03-31 14:44:33,135][_waitingSend:88] Sent: b'{\"command\": \"ping\", \"arguments\": {}}'\n",
      "[2022-03-31 14:44:33,298][_read:107] Received: {'status': True}\n"
     ]
    },
    {
     "name": "stdout",
     "output_type": "stream",
     "text": [
      "Connection Status: True\n"
     ]
    },
    {
     "name": "stderr",
     "output_type": "stream",
     "text": [
      "[2022-03-31 14:59:38,160][_waitingSend:88] Sent: b'{\"command\": \"ping\", \"arguments\": {}}'\n",
      "[2022-03-31 14:59:38,323][_read:107] Received: {'status': True}\n"
     ]
    },
    {
     "name": "stdout",
     "output_type": "stream",
     "text": [
      "Connection Status: True\n"
     ]
    },
    {
     "name": "stderr",
     "output_type": "stream",
     "text": [
      "[2022-03-31 15:14:44,412][_waitingSend:88] Sent: b'{\"command\": \"ping\", \"arguments\": {}}'\n",
      "[2022-03-31 15:14:44,576][_read:107] Received: {'status': True}\n"
     ]
    },
    {
     "name": "stdout",
     "output_type": "stream",
     "text": [
      "Connection Status: True\n"
     ]
    },
    {
     "name": "stderr",
     "output_type": "stream",
     "text": [
      "[2022-03-31 15:14:47,087][_waitingSend:88] Sent: b'{\"command\": \"getTickPrices\", \"arguments\": {\"level\": 0, \"symbols\": [\"AUDUSD\"], \"timestamp\": 164871448700}}'\n",
      "[2022-03-31 15:14:47,249][_read:107] Received: {'status': True, 'returnData': {'quotations': [{'symbol': 'AUDUSD', 'ask': 0.74753, 'bid': 0.74736, 'high': 0.75242, 'low': 0.74702, 'askVolume': 350000, 'bidVolume': 250000, 'timestamp': 1648714484176, 'level': 0, 'exemode': 1, 'spreadRaw': 0.00017, 'spreadTable': 1.7}]}}\n",
      "[2022-03-31 15:14:47,253][_waitingSend:88] Sent: b'{\"command\": \"tradeTransaction\", \"arguments\": {\"tradeTransInfo\": {\"cmd\": 3, \"customComment\": \"\", \"expiration\": 0, \"order\": 0, \"price\": 1.1166, \"sl\": 1.1149, \"tp\": 1.11915, \"symbol\": \"EURUSD\", \"type\": 0, \"volume\": 0.02}}}'\n"
     ]
    },
    {
     "name": "stdout",
     "output_type": "stream",
     "text": [
      "{\"status\":200,\"message\":\"ok\"}\n"
     ]
    },
    {
     "name": "stderr",
     "output_type": "stream",
     "text": [
      "[2022-03-31 15:14:47,508][_read:107] Received: {'status': True, 'returnData': {'order': 370917540}}\n",
      "[2022-03-31 15:29:49,866][_waitingSend:88] Sent: b'{\"command\": \"ping\", \"arguments\": {}}'\n",
      "[2022-03-31 15:29:50,029][_read:107] Received: {'status': True}\n"
     ]
    },
    {
     "name": "stdout",
     "output_type": "stream",
     "text": [
      "Connection Status: True\n"
     ]
    },
    {
     "name": "stderr",
     "output_type": "stream",
     "text": [
      "[2022-03-31 15:44:54,453][_waitingSend:88] Sent: b'{\"command\": \"ping\", \"arguments\": {}}'\n",
      "[2022-03-31 15:44:54,614][_read:107] Received: {'status': True}\n"
     ]
    },
    {
     "name": "stdout",
     "output_type": "stream",
     "text": [
      "Connection Status: True\n"
     ]
    },
    {
     "name": "stderr",
     "output_type": "stream",
     "text": [
      "[2022-03-31 15:59:59,146][_waitingSend:88] Sent: b'{\"command\": \"ping\", \"arguments\": {}}'\n",
      "[2022-03-31 15:59:59,315][_read:107] Received: {'status': True}\n"
     ]
    },
    {
     "name": "stdout",
     "output_type": "stream",
     "text": [
      "Connection Status: True\n"
     ]
    },
    {
     "name": "stderr",
     "output_type": "stream",
     "text": [
      "[2022-03-31 16:15:08,760][_waitingSend:88] Sent: b'{\"command\": \"ping\", \"arguments\": {}}'\n",
      "[2022-03-31 16:15:08,921][_read:107] Received: {'status': True}\n"
     ]
    },
    {
     "name": "stdout",
     "output_type": "stream",
     "text": [
      "Connection Status: True\n"
     ]
    }
   ],
   "source": [
    "while True:\n",
    "    schedule.run_pending()\n",
    "    time.sleep(1)"
   ]
  },
  {
   "cell_type": "code",
   "execution_count": null,
   "id": "199d7c39",
   "metadata": {},
   "outputs": [],
   "source": []
  }
 ],
 "metadata": {
  "kernelspec": {
   "display_name": "Python 3",
   "language": "python",
   "name": "python3"
  },
  "language_info": {
   "codemirror_mode": {
    "name": "ipython",
    "version": 3
   },
   "file_extension": ".py",
   "mimetype": "text/x-python",
   "name": "python",
   "nbconvert_exporter": "python",
   "pygments_lexer": "ipython3",
   "version": "3.8.8"
  }
 },
 "nbformat": 4,
 "nbformat_minor": 5
}
