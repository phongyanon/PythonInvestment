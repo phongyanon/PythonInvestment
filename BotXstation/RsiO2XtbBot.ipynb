{
 "cells": [
  {
   "cell_type": "code",
   "execution_count": 1,
   "id": "fb83e722",
   "metadata": {},
   "outputs": [
    {
     "data": {
      "text/plain": [
       "True"
      ]
     },
     "execution_count": 1,
     "metadata": {},
     "output_type": "execute_result"
    }
   ],
   "source": [
    "import os, csv\n",
    "from dotenv import load_dotenv\n",
    "import pandas as pd\n",
    "import time\n",
    "\n",
    "from datetime import datetime\n",
    "from xAPIConnector import *\n",
    "import schedule\n",
    "import requests\n",
    "\n",
    "import calendar\n",
    "import pandas as pd\n",
    "import pandas_ta as ta\n",
    "import numpy as np\n",
    "\n",
    "from alpha_vantage.timeseries import TimeSeries\n",
    "from alpha_vantage.foreignexchange import ForeignExchange\n",
    "load_dotenv()"
   ]
  },
  {
   "cell_type": "code",
   "execution_count": 2,
   "id": "6c0e9bd5",
   "metadata": {},
   "outputs": [],
   "source": [
    "XTB_USER_ID = os.getenv('XTB_USER_ID')\n",
    "XTB_USER_PASSWORD = os.getenv('XTB_USER_PASSWORD')\n",
    "\n",
    "API_KEYS = os.getenv('ALPHA_KEYS')\n",
    "cc = ForeignExchange(key=API_KEYS)\n",
    "\n",
    "LINE_TOKEN = os.getenv('LINE_TOKEN')\n",
    "LINE_URL = 'https://notify-api.line.me/api/notify'\n",
    "LINE_HEADERS = {'content-type':'application/x-www-form-urlencoded','Authorization':'Bearer ' + LINE_TOKEN }\n",
    "\n",
    "ts = TimeSeries(key=API_KEYS, output_format='pandas')\n",
    "# XTB_USER_ID, XTB_USER_PASSWORD\n",
    "# client = APIClient()"
   ]
  },
  {
   "cell_type": "code",
   "execution_count": 3,
   "id": "71d7d023",
   "metadata": {},
   "outputs": [
    {
     "name": "stderr",
     "output_type": "stream",
     "text": [
      "[2022-05-11 12:51:23,666][connect:74] Socket connected\n",
      "[2022-05-11 12:51:23,668][_waitingSend:88] Sent: b'{\"command\": \"login\", \"arguments\": {\"userId\": \"1959587\", \"password\": \"veGan/1102199c\", \"appName\": \"\"}}'\n",
      "[2022-05-11 12:51:24,101][_read:107] Received: {'status': True, 'streamSessionId': 'ca005bfffe1f3af5-000088aa-002d6d07-bc7a222d149ba105-36098bfd'}\n",
      "[2022-05-11 12:51:24,102][<module>:4] {'status': True, 'streamSessionId': 'ca005bfffe1f3af5-000088aa-002d6d07-bc7a222d149ba105-36098bfd'}\n"
     ]
    }
   ],
   "source": [
    "client = APIClient(port=5112)\n",
    "\n",
    "loginResponse = client.execute(loginCommand(userId=XTB_USER_ID, password=XTB_USER_PASSWORD))\n",
    "logger.info(str(loginResponse)) \n",
    "\n",
    "# check if user logged in correctly\n",
    "if(loginResponse['status'] == False):\n",
    "    print('Login failed. Error code: {0}'.format(loginResponse['errorCode']))\n",
    "    \n",
    "# get ssId from login response\n",
    "ssid = loginResponse['streamSessionId']"
   ]
  },
  {
   "cell_type": "code",
   "execution_count": 4,
   "id": "819f3bcf",
   "metadata": {},
   "outputs": [
    {
     "name": "stderr",
     "output_type": "stream",
     "text": [
      "[2022-05-10 11:15:22,936][_waitingSend:88] Sent: b'{\"command\": \"ping\", \"arguments\": {}}'\n",
      "[2022-05-10 11:15:23,152][_read:107] Received: {'status': True}\n"
     ]
    },
    {
     "data": {
      "text/plain": [
       "True"
      ]
     },
     "execution_count": 4,
     "metadata": {},
     "output_type": "execute_result"
    }
   ],
   "source": [
    "ping_resp = client.execute(pingCommand())\n",
    "ping_resp['status']"
   ]
  },
  {
   "cell_type": "code",
   "execution_count": 7,
   "id": "840034e1",
   "metadata": {},
   "outputs": [
    {
     "name": "stderr",
     "output_type": "stream",
     "text": [
      "[2022-05-10 08:59:54,208][_waitingSend:88] Sent: b'{\"command\": \"getTickPrices\", \"arguments\": {\"level\": 0, \"symbols\": [\"EURUSD\"], \"timestamp\": 165214799400}}'\n",
      "[2022-05-10 08:59:54,421][_read:107] Received: {'status': True, 'returnData': {'quotations': [{'symbol': 'EURUSD', 'ask': 1.05626, 'bid': 1.05612, 'high': 1.05685, 'low': 1.0552, 'askVolume': 50000, 'bidVolume': 200000, 'timestamp': 1652147994910, 'level': 0, 'exemode': 1, 'spreadRaw': 0.00014, 'spreadTable': 1.4}]}}\n"
     ]
    },
    {
     "data": {
      "text/plain": [
       "{'status': True,\n",
       " 'returnData': {'quotations': [{'symbol': 'EURUSD',\n",
       "    'ask': 1.05626,\n",
       "    'bid': 1.05612,\n",
       "    'high': 1.05685,\n",
       "    'low': 1.0552,\n",
       "    'askVolume': 50000,\n",
       "    'bidVolume': 200000,\n",
       "    'timestamp': 1652147994910,\n",
       "    'level': 0,\n",
       "    'exemode': 1,\n",
       "    'spreadRaw': 0.00014,\n",
       "    'spreadTable': 1.4}]}}"
      ]
     },
     "execution_count": 7,
     "metadata": {},
     "output_type": "execute_result"
    }
   ],
   "source": [
    "client.execute(getTickPricesCommand('EURUSD', calendar.timegm(time.gmtime()) * 100))"
   ]
  },
  {
   "cell_type": "code",
   "execution_count": null,
   "id": "3a841b02",
   "metadata": {},
   "outputs": [],
   "source": [
    "order_resp = client.execute(newPendingOrderCommand(\n",
    "    symbol='GOLD', \n",
    "    action='buy stop', \n",
    "    price=2000, \n",
    "    tp=2006, \n",
    "    sl=1995, \n",
    "    volume=0.01\n",
    "))\n",
    "order_resp"
   ]
  },
  {
   "cell_type": "code",
   "execution_count": 4,
   "id": "d88e1f21",
   "metadata": {},
   "outputs": [
    {
     "name": "stderr",
     "output_type": "stream",
     "text": [
      "[2022-03-28 13:46:42,458][_waitingSend:88] Sent: b'{\"command\": \"tradeTransaction\", \"arguments\": {\"tradeTransInfo\": {\"order\": 369035605, \"symbol\": \"GOLD\"}}}'\n",
      "[2022-03-28 13:46:42,699][_read:107] Received: {'status': False, 'errorCode': 'BE4002', 'errorDescr': 'Invalid nominal'}\n"
     ]
    },
    {
     "data": {
      "text/plain": [
       "{'status': False, 'errorCode': 'BE4002', 'errorDescr': 'Invalid nominal'}"
      ]
     },
     "execution_count": 4,
     "metadata": {},
     "output_type": "execute_result"
    }
   ],
   "source": [
    "order_resp = client.execute(stopOrderCommand(\n",
    "    orderId=369035605,\n",
    "    symbol='GOLD', \n",
    "    action='buy', \n",
    "    price=2000,\n",
    "    volume=0.01\n",
    "))\n",
    "order_resp"
   ]
  },
  {
   "cell_type": "code",
   "execution_count": 1,
   "id": "b1acdb28",
   "metadata": {},
   "outputs": [
    {
     "ename": "NameError",
     "evalue": "name 'client' is not defined",
     "output_type": "error",
     "traceback": [
      "\u001b[1;31m---------------------------------------------------------------------------\u001b[0m",
      "\u001b[1;31mNameError\u001b[0m                                 Traceback (most recent call last)",
      "\u001b[1;32m<ipython-input-1-1ce9c04a6562>\u001b[0m in \u001b[0;36m<module>\u001b[1;34m\u001b[0m\n\u001b[1;32m----> 1\u001b[1;33m \u001b[0mclient\u001b[0m\u001b[1;33m.\u001b[0m\u001b[0mdisconnect\u001b[0m\u001b[1;33m(\u001b[0m\u001b[1;33m)\u001b[0m\u001b[1;33m\u001b[0m\u001b[1;33m\u001b[0m\u001b[0m\n\u001b[0m",
      "\u001b[1;31mNameError\u001b[0m: name 'client' is not defined"
     ]
    }
   ],
   "source": [
    "client.disconnect()"
   ]
  },
  {
   "cell_type": "code",
   "execution_count": 3,
   "id": "40b9e932",
   "metadata": {},
   "outputs": [],
   "source": [
    "class RsiO2Notify:\n",
    "    def __init__(self, params, ts): #, client):\n",
    "        self.ts = ts\n",
    "        self.client = None # = client\n",
    "        self.pair = params['pair']\n",
    "        self.tf = params['tf']\n",
    "        \n",
    "        self.order = {'action': None, 'open time': None, 'open': None, 'close time': None, \\\n",
    "                      'close': None, 'T/P': None, 'S/L': None,'result': None}\n",
    "        self.current_action = 'close'\n",
    "        self.atr_len = params['atr_len']\n",
    "        self.rsi_len = params['rsi_len']\n",
    "        \n",
    "        self.ema_len = params['ema_len']\n",
    "        self.overbought = params['overbought']\n",
    "        self.oversold = params['oversold']\n",
    "        self.pip = params['pip']\n",
    "        \n",
    "        self.pip_value = params['pip_value']\n",
    "        self.rr = params['rr']\n",
    "        \n",
    "        self.lot_size = 0.01\n",
    "        self.order_id = 0\n",
    "        self.target = 10\n",
    "        self.round = params['round']\n",
    "        \n",
    "        self.line_url = params['line_url']\n",
    "        self.line_token = params['line_token']\n",
    "        self.line_headers = {'content-type':'application/x-www-form-urlencoded','Authorization':'Bearer ' + self.line_token }\n",
    "        self.df = None\n",
    "        \n",
    "    def notifyMsg(self, *msg):\n",
    "        r = requests.post(self.line_url, headers=self.line_headers, data={'message': msg[0]})\n",
    "        print(r.text)\n",
    "        \n",
    "    def calLotSize(self, entry, exit):\n",
    "        self.lot_size = abs(round(self.target / (((entry - exit) / self.pip ) * self.pip_value ) , 2))\n",
    "        print(f'lot_size: {str(self.lot_size)}')\n",
    "        \n",
    "    def executeOrder(self, action, entry=0, exit=0, sl=0, tp=0):\n",
    "        self.client = APIClient(port=5112)\n",
    "\n",
    "        loginResponse = self.client.execute(loginCommand(userId=XTB_USER_ID, password=XTB_USER_PASSWORD))\n",
    "        logger.info(str(loginResponse)) \n",
    "\n",
    "        # check if user logged in correctly\n",
    "        if(loginResponse['status'] == False):\n",
    "            print('Login failed. Error code: {0}'.format(loginResponse['errorCode']))\n",
    "        \n",
    "        now = calendar.timegm(time.gmtime()) * 100\n",
    "        if action == 'buy':\n",
    "            order_action='buy' # 'buy stop'\n",
    "            tick_resp = self.client.execute(getTickPricesCommand(self.pair, now))\n",
    "#             if tick_resp['returnData']['quotations'][0]['ask'] > round(entry, self.round):\n",
    "#                 order_action='buy limit'\n",
    "            print(f\"{order_action} price: {str(round(entry, self.round))}, \\\n",
    "                  ask: {str(tick_resp['returnData']['quotations'][0]['ask'])}, \\\n",
    "                  bid: {str(tick_resp['returnData']['quotations'][0]['bid'])}\")\n",
    "                \n",
    "            sl = tick_resp['returnData']['quotations'][0]['ask'] - (entry - sl)\n",
    "            tp = tick_resp['returnData']['quotations'][0]['ask'] + (tp - entry)\n",
    "                \n",
    "            order_resp = self.client.execute(newPendingOrderCommand(\n",
    "                symbol=self.pair, \n",
    "                action=order_action, \n",
    "                price=tick_resp['returnData']['quotations'][0]['ask'] , # round(entry, self.round), \n",
    "                tp=round(tp, self.round), \n",
    "                sl=round(sl, self.round), \n",
    "                volume=self.lot_size\n",
    "            ))\n",
    "            self.order_id = order_resp['returnData']['order']\n",
    "            \n",
    "        elif action == 'sell':\n",
    "            order_action='sell' # 'sell stop'\n",
    "            tick_resp = self.client.execute(getTickPricesCommand(self.pair, now))\n",
    "#             if tick_resp['returnData']['quotations'][0]['bid'] < round(entry, self.round):\n",
    "#                 order_action='sell limit'\n",
    "                \n",
    "            print(f\"{order_action} price: {str(round(entry, self.round))}, \\\n",
    "                  ask: {str(tick_resp['returnData']['quotations'][0]['ask'])}, \\\n",
    "                  bid: {str(tick_resp['returnData']['quotations'][0]['bid'])}\")\n",
    "                \n",
    "            sl = tick_resp['returnData']['quotations'][0]['bid'] + (sl - entry)\n",
    "            tp = tick_resp['returnData']['quotations'][0]['bid'] - (entry - tp)\n",
    "                \n",
    "            order_resp = self.client.execute(newPendingOrderCommand(\n",
    "                symbol=self.pair, \n",
    "                action= order_action, \n",
    "                price=tick_resp['returnData']['quotations'][0]['bid'], # round(entry, self.round), \n",
    "                tp=round(tp, self.round), \n",
    "                sl=round(sl, self.round), \n",
    "                volume=self.lot_size\n",
    "            ))\n",
    "            self.order_id = order_resp['returnData']['order']\n",
    "            \n",
    "        elif action == 'close buy':\n",
    "            order_resp = client.execute(stopOrderCommand(\n",
    "                orderId=self.order_id,\n",
    "                symbol=self.pair, \n",
    "                action='buy', \n",
    "                price=round(exit, self.round),\n",
    "                volume=self.lot_size\n",
    "            ))\n",
    "            \n",
    "        elif action == 'close sell':\n",
    "            order_resp = client.execute(stopOrderCommand(\n",
    "                orderId=self.order_id,\n",
    "                symbol=self.pair, \n",
    "                action='sell', \n",
    "                price=round(exit, self.round),\n",
    "                volume=self.lot_size\n",
    "            ))\n",
    "            \n",
    "        self.client.disconnect()\n",
    "        \n",
    "    def initial_bars(self):\n",
    "        bars, _ = self.ts.get_intraday(symbol=self.pair,interval=self.tf, outputsize='full')\n",
    "        df = pd.DataFrame({\n",
    "            'timestamp': bars.index,\n",
    "            'open': bars['1. open'],\n",
    "            'high': bars['2. high'],\n",
    "            'low': bars['3. low'],\n",
    "            'close': bars['4. close'],\n",
    "            'volumn': bars['5. volume']\n",
    "        }) # convert alpha vantage data to use with strategy\n",
    "\n",
    "        df['timestamp'] = pd.to_datetime(df['timestamp'], unit='ms')\n",
    "        df = df.iloc[::-1] # reverse row\n",
    "        df.reset_index(drop=True, inplace=True)\n",
    "\n",
    "        self.df = df\n",
    "    \n",
    "    def get_realtime(self):\n",
    "        bars, _ = self.ts.get_intraday(symbol=self.pair,interval=self.tf, outputsize='compact')\n",
    "        incoming_df = pd.DataFrame({\n",
    "            'timestamp': bars.index,\n",
    "            'open': bars['1. open'],\n",
    "            'high': bars['2. high'],\n",
    "            'low': bars['3. low'],\n",
    "            'close': bars['4. close'],\n",
    "            'volumn': bars['5. volume']\n",
    "        }) # convert alpha vantage data to use with rsi strategy\n",
    "\n",
    "        incoming_df['timestamp'] = pd.to_datetime(incoming_df['timestamp'], unit='ms')\n",
    "     \n",
    "        if (incoming_df['timestamp'].iloc[0] != self.df['timestamp'].iloc[-1]):\n",
    "            self.df = self.df[:900].append(incoming_df.head(1), ignore_index = True)\n",
    "\n",
    "        rsi_o2 = ta.Strategy(\n",
    "            name = 'RSI 14 Days for opposite trade',\n",
    "            description = 'RSI for alert',\n",
    "            ta = [\n",
    "                {'kind': 'ema', 'length': self.ema_len},\n",
    "                {'kind': 'rsi', 'length': self.rsi_len},\n",
    "                {'kind': 'atr', 'length': self.atr_len}\n",
    "            ]\n",
    "        )\n",
    "        self.df.ta.strategy(rsi_o2)\n",
    "    \n",
    "        row = self.df.tail(1).to_dict('records')[0]\n",
    "        \n",
    "        if self.current_action == 'close' or self.order == {}:\n",
    "            if (row['EMA_'+str(self.ema_len)] < row['low']) and (row['RSI_'+str(self.rsi_len)] > self.overbought):\n",
    "#                 row['action'] = 'buy'\n",
    "                self.order['action'] = 'buy'\n",
    "                self.order['open time'] = row['timestamp']\n",
    "                self.order['open'] = row['open']\n",
    "                \n",
    "                self.order['S/L'] = row['low']- row['ATRr_'+str(self.atr_len)]\n",
    "                self.order['T/P'] = row['open'] + (self.rr * abs(row['open'] - self.order['S/L']))\n",
    "                self.current_action = 'buy'\n",
    "                self.notifyMsg(f\"Buy {self.pair} RSI_O2\\nprice: {str(self.order['open'])}\\nTP: {str(self.order['T/P'])}\\nSL: {str(self.order['S/L'])}\")\n",
    "                \n",
    "                self.calLotSize(self.order['open'], self.order['T/P'])\n",
    "                self.executeOrder('buy', entry=self.order['open'], exit=self.order['T/P'], sl=self.order['S/L'], tp=self.order['T/P'])\n",
    "#                 print(f\"Buy {self.pair} \\nopen: {str(self.order['open'])}\\nclose: {str(self.order['close'])}\\n \" + \\\n",
    "#                       f\"ema: {str(row['EMA_'+str(self.ema_len)])}, rsi: {str(row['RSI_'+str(self.rsi_len)] )}\")\n",
    "                \n",
    "            elif (row['EMA_'+str(self.ema_len)] > row['high']) and (row['RSI_'+str(self.rsi_len)] < self.oversold):   \n",
    "#                 row['action'] = 'sell'\n",
    "                self.order['action'] = 'sell'\n",
    "                self.order['open time'] = row['timestamp']\n",
    "                self.order['open'] = row['open']\n",
    "                \n",
    "                self.order['S/L'] = row['high'] + row['ATRr_'+str(self.atr_len)]\n",
    "                self.order['T/P'] = row['open'] - (self.rr * abs(row['open'] - self.order['S/L']))\n",
    "                self.current_action = 'sell'\n",
    "                self.notifyMsg(f\"Sell {self.pair} RSI_O2\\nprice: {str(self.order['open'])}\\nTP: {str(self.order['T/P'])}\\nSL: {str(self.order['S/L'])}\")\n",
    "                \n",
    "                self.calLotSize(self.order['open'], self.order['T/P'])\n",
    "                self.executeOrder('sell', entry=self.order['open'], exit=self.order['T/P'], sl=self.order['S/L'], tp=self.order['T/P'])\n",
    "#                 print(f\"Sell {self.pair} \\nopen: {str(self.order['open'])}\\nclose: {str(self.order['close'])}\\n \" + \\\n",
    "#                       f\"ema: {str(row['EMA_'+str(self.ema_len)])}, rsi: {str(row['RSI_'+str(self.rsi_len)] )}\")\n",
    "\n",
    "        if (self.current_action == 'buy'):\n",
    "            if (row['low'] <= self.order['S/L']):\n",
    "                self.order['result'] = 'S/L'\n",
    "                self.order['close time'] = row['timestamp']\n",
    "                self.order['close'] = self.order['S/L']\n",
    "                \n",
    "                self.current_action = 'close'\n",
    "                self.notifyMsg(f\"S/L Buy {self.pair} RSI_O2\\nprice: {self.order['close']}\")\n",
    "                self.executeOrder('sell', entry=self.order['open'], exit=self.order['T/P'], sl=self.order['S/L'], tp=self.order['T/P'])\n",
    "                self.order = {'action': None, 'open time': None, 'open': None, 'close time': None, \\\n",
    "                              'close': None, 'T/P': None, 'S/L': None,'result': None}\n",
    "                \n",
    "            elif (row['high'] >= self.order['T/P']):\n",
    "                self.order['result'] = 'T/P'\n",
    "                self.order['close time'] = row['timestamp']\n",
    "                self.order['close'] = self.order['T/P']\n",
    "                \n",
    "                self.current_action = 'close'\n",
    "                self.notifyMsg(f\"T/P Buy {self.pair} RSI_O2\\nprice: {self.order['close']}\")\n",
    "                self.order = {'action': None, 'open time': None, 'open': None, 'close time': None, \\\n",
    "                              'close': None, 'T/P': None, 'S/L': None,'result': None}\n",
    "\n",
    "        elif (self.current_action == 'sell'):\n",
    "            if (row['high'] >= self.order['S/L']):\n",
    "                self.order['result'] = 'S/L'\n",
    "                self.order['close time'] = row['timestamp']\n",
    "                self.order['close'] = self.order['S/L']\n",
    "                \n",
    "                self.current_action = 'close'\n",
    "                self.notifyMsg(f\"S/L Sell {self.pair} RSI_O2\\nprice: {self.order['close']}\")\n",
    "                self.order = {'action': None, 'open time': None, 'open': None, 'close time': None, \\\n",
    "                              'close': None, 'T/P': None, 'S/L': None,'result': None}\n",
    "                \n",
    "            elif (row['low'] <= self.order['T/P']):\n",
    "                self.order['result'] = 'T/P'\n",
    "                self.order['close time'] = row['timestamp']\n",
    "                self.order['close'] = self.order['T/P']\n",
    "                \n",
    "                self.current_action = 'close'\n",
    "                self.notifyMsg(f\"T/P Sell {self.pair} RSI_O2\\nprice: {self.order['close']}\")\n",
    "                self.order = {'action': None, 'open time': None, 'open': None, 'close time': None, \\\n",
    "                              'close': None, 'T/P': None, 'S/L': None,'result': None}"
   ]
  },
  {
   "cell_type": "code",
   "execution_count": 4,
   "id": "80b929dd",
   "metadata": {},
   "outputs": [],
   "source": [
    "def keepConnectionAlive(client_obj):\n",
    "    try:\n",
    "        ping_resp = client_obj.execute(pingCommand())\n",
    "        print(f\"Connection Status: {ping_resp['status']}\")\n",
    "        if ping_resp['status'] == False:\n",
    "            raise('Connection Status: False')\n",
    "    except:\n",
    "        r = requests.post(LINE_URL, headers=LINE_HEADERS, data={'message': 'Xtb connection lost!'})\n",
    "        print(r.text)\n",
    "        \n",
    "#         loginResponse = client_obj.execute(loginCommand(userId=XTB_USER_ID, password=XTB_USER_PASSWORD))\n",
    "#         logger.info(str(loginResponse)) \n",
    "\n",
    "#         # check if user logged in correctly\n",
    "#         if(loginResponse['status'] == False):\n",
    "#             print('Login failed. Error code: {0}'.format(loginResponse['errorCode']))"
   ]
  },
  {
   "cell_type": "code",
   "execution_count": 5,
   "id": "bd195cf0",
   "metadata": {},
   "outputs": [],
   "source": [
    "eurusd = RsiO2Notify({\n",
    "    'pair': 'EURUSD',\n",
    "    'tf': '15min',\n",
    "    'atr_len': 19,\n",
    "    'rsi_len': 10,\n",
    "    'ema_len': 200,\n",
    "    'overbought': 80,\n",
    "    'oversold': 20,\n",
    "    'pip': 0.0001,\n",
    "    'pip_value': 10,\n",
    "    'rr': 1.5,\n",
    "    'round': 5,\n",
    "    'line_url': LINE_URL,\n",
    "    'line_token': LINE_TOKEN,\n",
    "}, ts) #, client)\n",
    "\n",
    "audusd = RsiO2Notify({\n",
    "    'pair': 'AUDUSD',\n",
    "    'tf': '15min',\n",
    "    'atr_len': 16,\n",
    "    'rsi_len': 11,\n",
    "    'ema_len': 200,\n",
    "    'overbought': 78,\n",
    "    'oversold': 22,\n",
    "    'pip': 0.0001,\n",
    "    'pip_value': 10,\n",
    "    'rr': 1.5,\n",
    "    'round': 5,\n",
    "    'line_url': LINE_URL,\n",
    "    'line_token': LINE_TOKEN,\n",
    "}, ts) #, client)\n",
    "\n",
    "gbpusd = RsiO2Notify({\n",
    "    'pair': 'GBPUSD',\n",
    "    'tf': '15min',\n",
    "    'atr_len': 10,\n",
    "    'rsi_len': 20,\n",
    "    'ema_len': 200,\n",
    "    'overbought': 70,\n",
    "    'oversold': 30,\n",
    "    'pip': 0.0001,\n",
    "    'pip_value': 10,\n",
    "    'rr': 1.5,\n",
    "    'round': 5,\n",
    "    'line_url': LINE_URL,\n",
    "    'line_token': LINE_TOKEN,\n",
    "}, ts) #, client)\n",
    "\n",
    "usdjpy = RsiO2Notify({\n",
    "    'pair': 'USDJPY',\n",
    "    'tf': '15min',\n",
    "    'atr_len': 17,\n",
    "    'rsi_len': 12,\n",
    "    'ema_len': 200,\n",
    "    'overbought': 73,\n",
    "    'oversold': 27,\n",
    "    'pip': 0.01,\n",
    "    'pip_value': 8.04,\n",
    "    'rr': 1.5,\n",
    "    'round': 3,\n",
    "    'line_url': LINE_URL,\n",
    "    'line_token': LINE_TOKEN,\n",
    "}, ts) #, client)"
   ]
  },
  {
   "cell_type": "code",
   "execution_count": 6,
   "id": "f7a6b391",
   "metadata": {},
   "outputs": [],
   "source": [
    "eurusd.initial_bars()\n",
    "audusd.initial_bars()\n",
    "# usdjpy.initial_bars()\n",
    "# gbpusd.initial_bars()"
   ]
  },
  {
   "cell_type": "code",
   "execution_count": 7,
   "id": "e0ece244",
   "metadata": {},
   "outputs": [
    {
     "data": {
      "text/plain": [
       "Every 900 seconds do get_all_realtime() (last run: [never], next run: 2022-05-12 07:50:32)"
      ]
     },
     "execution_count": 7,
     "metadata": {},
     "output_type": "execute_result"
    }
   ],
   "source": [
    "def get_all_realtime():\n",
    "#     keepConnectionAlive(client)\n",
    "    eurusd.get_realtime()\n",
    "    audusd.get_realtime()\n",
    "#     usdjpy.get_realtime()\n",
    "    \n",
    "schedule.every(60 * 15).seconds.do(get_all_realtime) "
   ]
  },
  {
   "cell_type": "code",
   "execution_count": null,
   "id": "98d52754",
   "metadata": {},
   "outputs": [
    {
     "name": "stdout",
     "output_type": "stream",
     "text": [
      "{\"status\":200,\"message\":\"ok\"}\n",
      "lot_size: 0.06\n"
     ]
    },
    {
     "name": "stderr",
     "output_type": "stream",
     "text": [
      "[2022-05-12 12:53:14,841][connect:74] Socket connected\n",
      "[2022-05-12 12:53:14,845][_waitingSend:88] Sent: b'{\"command\": \"login\", \"arguments\": {\"userId\": \"1959587\", \"password\": \"veGan/1102199c\", \"appName\": \"\"}}'\n",
      "[2022-05-12 12:53:15,648][_read:107] Received: {'status': True, 'streamSessionId': '262540fffee58c68-00004899-004b44d0-66414dad4f566728-870ae3d2'}\n",
      "[2022-05-12 12:53:15,649][executeOrder:44] {'status': True, 'streamSessionId': '262540fffee58c68-00004899-004b44d0-66414dad4f566728-870ae3d2'}\n",
      "[2022-05-12 12:53:15,651][_waitingSend:88] Sent: b'{\"command\": \"getTickPrices\", \"arguments\": {\"level\": 0, \"symbols\": [\"EURUSD\"], \"timestamp\": 165233479500}}'\n",
      "[2022-05-12 12:53:15,882][_read:107] Received: {'status': True, 'returnData': {'quotations': [{'symbol': 'EURUSD', 'ask': 1.05057, 'bid': 1.05043, 'high': 1.05287, 'low': 1.05016, 'askVolume': 300000, 'bidVolume': 200000, 'timestamp': 1652334795296, 'level': 0, 'exemode': 1, 'spreadRaw': 0.00014, 'spreadTable': 1.4}]}}\n",
      "[2022-05-12 12:53:15,885][_waitingSend:88] Sent: b'{\"command\": \"tradeTransaction\", \"arguments\": {\"tradeTransInfo\": {\"cmd\": 1, \"customComment\": \"\", \"expiration\": 0, \"order\": 0, \"price\": 1.05043, \"sl\": 1.05159, \"tp\": 1.04869, \"symbol\": \"EURUSD\", \"type\": 0, \"volume\": 0.06}}}'\n"
     ]
    },
    {
     "name": "stdout",
     "output_type": "stream",
     "text": [
      "sell price: 1.0509,                   ask: 1.05057,                   bid: 1.05043\n"
     ]
    },
    {
     "name": "stderr",
     "output_type": "stream",
     "text": [
      "[2022-05-12 12:53:16,115][_read:107] Received: {'status': True, 'returnData': {'order': 624192805}}\n",
      "[2022-05-12 12:53:16,116][close:115] Closing socket\n"
     ]
    },
    {
     "name": "stdout",
     "output_type": "stream",
     "text": [
      "{\"status\":200,\"message\":\"ok\"}\n",
      "lot_size: 0.04\n"
     ]
    },
    {
     "name": "stderr",
     "output_type": "stream",
     "text": [
      "[2022-05-12 12:53:20,584][connect:74] Socket connected\n",
      "[2022-05-12 12:53:20,585][_waitingSend:88] Sent: b'{\"command\": \"login\", \"arguments\": {\"userId\": \"1959587\", \"password\": \"veGan/1102199c\", \"appName\": \"\"}}'\n",
      "[2022-05-12 12:53:21,033][_read:107] Received: {'status': True, 'streamSessionId': '262540fffee58c68-00004899-004b44e4-be68a3d033565193-16df61fc'}\n",
      "[2022-05-12 12:53:21,034][executeOrder:44] {'status': True, 'streamSessionId': '262540fffee58c68-00004899-004b44e4-be68a3d033565193-16df61fc'}\n",
      "[2022-05-12 12:53:21,035][_waitingSend:88] Sent: b'{\"command\": \"getTickPrices\", \"arguments\": {\"level\": 0, \"symbols\": [\"AUDUSD\"], \"timestamp\": 165233480100}}'\n",
      "[2022-05-12 12:53:21,248][_read:107] Received: {'status': True, 'returnData': {'quotations': [{'symbol': 'AUDUSD', 'ask': 0.68803, 'bid': 0.68778, 'high': 0.69524, 'low': 0.68759, 'askVolume': 100000, 'bidVolume': 50000, 'timestamp': 1652334801208, 'level': 0, 'exemode': 1, 'spreadRaw': 0.00025, 'spreadTable': 2.5}]}}\n",
      "[2022-05-12 12:53:21,250][_waitingSend:88] Sent: b'{\"command\": \"tradeTransaction\", \"arguments\": {\"tradeTransInfo\": {\"cmd\": 1, \"customComment\": \"\", \"expiration\": 0, \"order\": 0, \"price\": 0.68778, \"sl\": 0.68962, \"tp\": 0.68502, \"symbol\": \"AUDUSD\", \"type\": 0, \"volume\": 0.04}}}'\n"
     ]
    },
    {
     "name": "stdout",
     "output_type": "stream",
     "text": [
      "sell price: 0.6885,                   ask: 0.68803,                   bid: 0.68778\n"
     ]
    },
    {
     "name": "stderr",
     "output_type": "stream",
     "text": [
      "[2022-05-12 12:53:21,477][_read:107] Received: {'status': True, 'returnData': {'order': 624192903}}\n",
      "[2022-05-12 12:53:21,478][close:115] Closing socket\n"
     ]
    },
    {
     "name": "stdout",
     "output_type": "stream",
     "text": [
      "{\"status\":200,\"message\":\"ok\"}\n",
      "{\"status\":200,\"message\":\"ok\"}\n",
      "lot_size: 0.06\n"
     ]
    },
    {
     "name": "stderr",
     "output_type": "stream",
     "text": [
      "[2022-05-12 14:08:54,843][connect:74] Socket connected\n",
      "[2022-05-12 14:08:54,844][_waitingSend:88] Sent: b'{\"command\": \"login\", \"arguments\": {\"userId\": \"1959587\", \"password\": \"veGan/1102199c\", \"appName\": \"\"}}'\n",
      "[2022-05-12 14:08:55,265][_read:107] Received: {'status': True, 'streamSessionId': '262540fffee58c68-00004899-004b812e-019d84c3b4bb219e-a707c9d8'}\n",
      "[2022-05-12 14:08:55,266][executeOrder:44] {'status': True, 'streamSessionId': '262540fffee58c68-00004899-004b812e-019d84c3b4bb219e-a707c9d8'}\n",
      "[2022-05-12 14:08:55,271][_waitingSend:88] Sent: b'{\"command\": \"getTickPrices\", \"arguments\": {\"level\": 0, \"symbols\": [\"EURUSD\"], \"timestamp\": 165233933500}}'\n",
      "[2022-05-12 14:08:55,471][_read:107] Received: {'status': True, 'returnData': {'quotations': [{'symbol': 'EURUSD', 'ask': 1.04947, 'bid': 1.04931, 'high': 1.05287, 'low': 1.04845, 'askVolume': 300000, 'bidVolume': 399000, 'timestamp': 1652339335017, 'level': 0, 'exemode': 1, 'spreadRaw': 0.00016, 'spreadTable': 1.6}]}}\n",
      "[2022-05-12 14:08:55,473][_waitingSend:88] Sent: b'{\"command\": \"tradeTransaction\", \"arguments\": {\"tradeTransInfo\": {\"cmd\": 1, \"customComment\": \"\", \"expiration\": 0, \"order\": 0, \"price\": 1.04931, \"sl\": 1.05036, \"tp\": 1.04774, \"symbol\": \"EURUSD\", \"type\": 0, \"volume\": 0.06}}}'\n"
     ]
    },
    {
     "name": "stdout",
     "output_type": "stream",
     "text": [
      "sell price: 1.0504,                   ask: 1.04947,                   bid: 1.04931\n"
     ]
    },
    {
     "name": "stderr",
     "output_type": "stream",
     "text": [
      "[2022-05-12 14:08:55,681][_read:107] Received: {'status': True, 'returnData': {'order': 624272485}}\n",
      "[2022-05-12 14:08:55,682][close:115] Closing socket\n"
     ]
    },
    {
     "name": "stdout",
     "output_type": "stream",
     "text": [
      "{\"status\":200,\"message\":\"ok\"}\n",
      "{\"status\":200,\"message\":\"ok\"}\n",
      "lot_size: 0.04\n"
     ]
    },
    {
     "name": "stderr",
     "output_type": "stream",
     "text": [
      "[2022-05-12 14:24:03,341][connect:74] Socket connected\n",
      "[2022-05-12 14:24:03,342][_waitingSend:88] Sent: b'{\"command\": \"login\", \"arguments\": {\"userId\": \"1959587\", \"password\": \"veGan/1102199c\", \"appName\": \"\"}}'\n",
      "[2022-05-12 14:24:03,779][_read:107] Received: {'status': True, 'streamSessionId': '262540fffee58c68-00004899-004b8d33-c5de7e129e45427c-b9d7b656'}\n",
      "[2022-05-12 14:24:03,780][executeOrder:44] {'status': True, 'streamSessionId': '262540fffee58c68-00004899-004b8d33-c5de7e129e45427c-b9d7b656'}\n",
      "[2022-05-12 14:24:03,781][_waitingSend:88] Sent: b'{\"command\": \"getTickPrices\", \"arguments\": {\"level\": 0, \"symbols\": [\"EURUSD\"], \"timestamp\": 165234024300}}'\n",
      "[2022-05-12 14:24:03,988][_read:107] Received: {'status': True, 'returnData': {'quotations': [{'symbol': 'EURUSD', 'ask': 1.04467, 'bid': 1.04453, 'high': 1.05287, 'low': 1.04424, 'askVolume': 299000, 'bidVolume': 350000, 'timestamp': 1652340242967, 'level': 0, 'exemode': 1, 'spreadRaw': 0.00014, 'spreadTable': 1.4}]}}\n",
      "[2022-05-12 14:24:03,989][_waitingSend:88] Sent: b'{\"command\": \"tradeTransaction\", \"arguments\": {\"tradeTransInfo\": {\"cmd\": 1, \"customComment\": \"\", \"expiration\": 0, \"order\": 0, \"price\": 1.04453, \"sl\": 1.0463, \"tp\": 1.04188, \"symbol\": \"EURUSD\", \"type\": 0, \"volume\": 0.04}}}'\n"
     ]
    },
    {
     "name": "stdout",
     "output_type": "stream",
     "text": [
      "sell price: 1.0462,                   ask: 1.04467,                   bid: 1.04453\n"
     ]
    },
    {
     "name": "stderr",
     "output_type": "stream",
     "text": [
      "[2022-05-12 14:24:04,208][_read:107] Received: {'status': True, 'returnData': {'order': 624311784}}\n",
      "[2022-05-12 14:24:04,208][close:115] Closing socket\n"
     ]
    },
    {
     "name": "stdout",
     "output_type": "stream",
     "text": [
      "{\"status\":200,\"message\":\"ok\"}\n",
      "{\"status\":200,\"message\":\"ok\"}\n",
      "lot_size: 0.05\n"
     ]
    },
    {
     "name": "stderr",
     "output_type": "stream",
     "text": [
      "[2022-05-12 15:09:27,519][connect:74] Socket connected\n",
      "[2022-05-12 15:09:27,520][_waitingSend:88] Sent: b'{\"command\": \"login\", \"arguments\": {\"userId\": \"1959587\", \"password\": \"veGan/1102199c\", \"appName\": \"\"}}'\n",
      "[2022-05-12 15:09:27,928][_read:107] Received: {'status': True, 'streamSessionId': '262540fffee58c68-00004899-004bb17b-f147a071c7c2b3cb-51020812'}\n",
      "[2022-05-12 15:09:27,929][executeOrder:44] {'status': True, 'streamSessionId': '262540fffee58c68-00004899-004bb17b-f147a071c7c2b3cb-51020812'}\n",
      "[2022-05-12 15:09:27,930][_waitingSend:88] Sent: b'{\"command\": \"getTickPrices\", \"arguments\": {\"level\": 0, \"symbols\": [\"EURUSD\"], \"timestamp\": 165234296700}}'\n",
      "[2022-05-12 15:09:28,121][_read:107] Received: {'status': True, 'returnData': {'quotations': [{'symbol': 'EURUSD', 'ask': 1.04576, 'bid': 1.0456, 'high': 1.05287, 'low': 1.04424, 'askVolume': 400000, 'bidVolume': 350000, 'timestamp': 1652342967800, 'level': 0, 'exemode': 1, 'spreadRaw': 0.00016, 'spreadTable': 1.6}]}}\n",
      "[2022-05-12 15:09:28,122][_waitingSend:88] Sent: b'{\"command\": \"tradeTransaction\", \"arguments\": {\"tradeTransInfo\": {\"cmd\": 1, \"customComment\": \"\", \"expiration\": 0, \"order\": 0, \"price\": 1.0456, \"sl\": 1.04692, \"tp\": 1.04362, \"symbol\": \"EURUSD\", \"type\": 0, \"volume\": 0.05}}}'\n",
      "[2022-05-12 15:09:28,326][_read:107] Received: {'status': True, 'returnData': {'order': 624400796}}\n"
     ]
    },
    {
     "name": "stdout",
     "output_type": "stream",
     "text": [
      "sell price: 1.0459,                   ask: 1.04576,                   bid: 1.0456\n"
     ]
    },
    {
     "name": "stderr",
     "output_type": "stream",
     "text": [
      "[2022-05-12 15:09:28,327][close:115] Closing socket\n"
     ]
    },
    {
     "name": "stdout",
     "output_type": "stream",
     "text": [
      "{\"status\":200,\"message\":\"ok\"}\n",
      "{\"status\":200,\"message\":\"ok\"}\n",
      "lot_size: 0.04\n"
     ]
    },
    {
     "name": "stderr",
     "output_type": "stream",
     "text": [
      "[2022-05-12 16:25:01,246][connect:74] Socket connected\n",
      "[2022-05-12 16:25:01,246][_waitingSend:88] Sent: b'{\"command\": \"login\", \"arguments\": {\"userId\": \"1959587\", \"password\": \"veGan/1102199c\", \"appName\": \"\"}}'\n",
      "[2022-05-12 16:25:01,676][_read:107] Received: {'status': True, 'streamSessionId': '262540fffee58c68-00004899-004bfdfc-d592f914c32785d3-833828dd'}\n",
      "[2022-05-12 16:25:01,677][executeOrder:44] {'status': True, 'streamSessionId': '262540fffee58c68-00004899-004bfdfc-d592f914c32785d3-833828dd'}\n",
      "[2022-05-12 16:25:01,678][_waitingSend:88] Sent: b'{\"command\": \"getTickPrices\", \"arguments\": {\"level\": 0, \"symbols\": [\"EURUSD\"], \"timestamp\": 165234750100}}'\n",
      "[2022-05-12 16:25:01,883][_read:107] Received: {'status': True, 'returnData': {'quotations': [{'symbol': 'EURUSD', 'ask': 1.0436, 'bid': 1.04345, 'high': 1.05287, 'low': 1.0422, 'askVolume': 399000, 'bidVolume': 397000, 'timestamp': 1652347501372, 'level': 0, 'exemode': 1, 'spreadRaw': 0.00015, 'spreadTable': 1.5}]}}\n",
      "[2022-05-12 16:25:01,887][_waitingSend:88] Sent: b'{\"command\": \"tradeTransaction\", \"arguments\": {\"tradeTransInfo\": {\"cmd\": 1, \"customComment\": \"\", \"expiration\": 0, \"order\": 0, \"price\": 1.04345, \"sl\": 1.04514, \"tp\": 1.04091, \"symbol\": \"EURUSD\", \"type\": 0, \"volume\": 0.04}}}'\n"
     ]
    },
    {
     "name": "stdout",
     "output_type": "stream",
     "text": [
      "sell price: 1.0438,                   ask: 1.0436,                   bid: 1.04345\n"
     ]
    },
    {
     "name": "stderr",
     "output_type": "stream",
     "text": [
      "[2022-05-12 16:25:02,109][_read:107] Received: {'status': True, 'returnData': {'order': 624500385}}\n",
      "[2022-05-12 16:25:02,109][close:115] Closing socket\n"
     ]
    }
   ],
   "source": [
    "while True:\n",
    "    schedule.run_pending()\n",
    "    time.sleep(1)"
   ]
  },
  {
   "cell_type": "code",
   "execution_count": null,
   "id": "b56dc60b",
   "metadata": {},
   "outputs": [],
   "source": []
  }
 ],
 "metadata": {
  "kernelspec": {
   "display_name": "Python 3",
   "language": "python",
   "name": "python3"
  },
  "language_info": {
   "codemirror_mode": {
    "name": "ipython",
    "version": 3
   },
   "file_extension": ".py",
   "mimetype": "text/x-python",
   "name": "python",
   "nbconvert_exporter": "python",
   "pygments_lexer": "ipython3",
   "version": "3.8.8"
  }
 },
 "nbformat": 4,
 "nbformat_minor": 5
}
