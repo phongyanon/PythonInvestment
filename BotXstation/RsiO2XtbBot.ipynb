{
 "cells": [
  {
   "cell_type": "code",
   "execution_count": 1,
   "id": "fb83e722",
   "metadata": {},
   "outputs": [
    {
     "data": {
      "text/plain": [
       "True"
      ]
     },
     "execution_count": 1,
     "metadata": {},
     "output_type": "execute_result"
    }
   ],
   "source": [
    "import os, csv\n",
    "from dotenv import load_dotenv\n",
    "import pandas as pd\n",
    "import time\n",
    "\n",
    "from datetime import datetime\n",
    "from xAPIConnector import *\n",
    "import schedule\n",
    "import requests\n",
    "\n",
    "import calendar\n",
    "import pandas as pd\n",
    "import pandas_ta as ta\n",
    "import numpy as np\n",
    "\n",
    "from alpha_vantage.timeseries import TimeSeries\n",
    "from alpha_vantage.foreignexchange import ForeignExchange\n",
    "load_dotenv()"
   ]
  },
  {
   "cell_type": "code",
   "execution_count": 2,
   "id": "6c0e9bd5",
   "metadata": {},
   "outputs": [],
   "source": [
    "XTB_USER_ID = os.getenv('XTB_DEMO_USER_ID')\n",
    "XTB_USER_PASSWORD = os.getenv('XTB_DEMO_USER_PASSWORD')\n",
    "\n",
    "API_KEYS = os.getenv('ALPHA_KEYS')\n",
    "cc = ForeignExchange(key=API_KEYS)\n",
    "\n",
    "LINE_TOKEN = os.getenv('LINE_TOKEN')\n",
    "LINE_URL = 'https://notify-api.line.me/api/notify'\n",
    "LINE_HEADERS = {'content-type':'application/x-www-form-urlencoded','Authorization':'Bearer ' + LINE_TOKEN }\n",
    "\n",
    "ts = TimeSeries(key=API_KEYS, output_format='pandas')\n",
    "# XTB_USER_ID, XTB_USER_PASSWORD"
   ]
  },
  {
   "cell_type": "code",
   "execution_count": 3,
   "id": "71d7d023",
   "metadata": {},
   "outputs": [
    {
     "name": "stderr",
     "output_type": "stream",
     "text": [
      "[2022-04-01 11:14:25,397][connect:74] Socket connected\n",
      "[2022-04-01 11:14:25,401][_waitingSend:88] Sent: b'{\"command\": \"login\", \"arguments\": {\"userId\": \"13248526\", \"password\": \"veGan/1102199c\", \"appName\": \"\"}}'\n",
      "[2022-04-01 11:14:25,874][_read:107] Received: {'status': True, 'streamSessionId': '5cf3fcfffe78123a-00000468-005623f1-6034b1508d316cc8-9a316880'}\n",
      "[2022-04-01 11:14:25,875][<module>:4] {'status': True, 'streamSessionId': '5cf3fcfffe78123a-00000468-005623f1-6034b1508d316cc8-9a316880'}\n"
     ]
    }
   ],
   "source": [
    "client = APIClient()\n",
    "\n",
    "loginResponse = client.execute(loginCommand(userId=XTB_USER_ID, password=XTB_USER_PASSWORD))\n",
    "logger.info(str(loginResponse)) \n",
    "\n",
    "# check if user logged in correctly\n",
    "if(loginResponse['status'] == False):\n",
    "    print('Login failed. Error code: {0}'.format(loginResponse['errorCode']))\n",
    "    \n",
    "# get ssId from login response\n",
    "ssid = loginResponse['streamSessionId']"
   ]
  },
  {
   "cell_type": "code",
   "execution_count": 11,
   "id": "819f3bcf",
   "metadata": {},
   "outputs": [
    {
     "name": "stderr",
     "output_type": "stream",
     "text": [
      "[2022-04-01 11:34:01,567][_waitingSend:88] Sent: b'{\"command\": \"ping\", \"arguments\": {}}'\n",
      "[2022-04-01 11:34:01,766][_read:107] Received: {'status': True}\n"
     ]
    },
    {
     "data": {
      "text/plain": [
       "True"
      ]
     },
     "execution_count": 11,
     "metadata": {},
     "output_type": "execute_result"
    }
   ],
   "source": [
    "ping_resp = client.execute(pingCommand())\n",
    "ping_resp['status']"
   ]
  },
  {
   "cell_type": "code",
   "execution_count": null,
   "id": "3a841b02",
   "metadata": {},
   "outputs": [],
   "source": [
    "order_resp = client.execute(newPendingOrderCommand(\n",
    "    symbol='GOLD', \n",
    "    action='buy stop', \n",
    "    price=2000, \n",
    "    tp=2006, \n",
    "    sl=1995, \n",
    "    volume=0.01\n",
    "))\n",
    "order_resp"
   ]
  },
  {
   "cell_type": "code",
   "execution_count": 4,
   "id": "d88e1f21",
   "metadata": {},
   "outputs": [
    {
     "name": "stderr",
     "output_type": "stream",
     "text": [
      "[2022-03-28 13:46:42,458][_waitingSend:88] Sent: b'{\"command\": \"tradeTransaction\", \"arguments\": {\"tradeTransInfo\": {\"order\": 369035605, \"symbol\": \"GOLD\"}}}'\n",
      "[2022-03-28 13:46:42,699][_read:107] Received: {'status': False, 'errorCode': 'BE4002', 'errorDescr': 'Invalid nominal'}\n"
     ]
    },
    {
     "data": {
      "text/plain": [
       "{'status': False, 'errorCode': 'BE4002', 'errorDescr': 'Invalid nominal'}"
      ]
     },
     "execution_count": 4,
     "metadata": {},
     "output_type": "execute_result"
    }
   ],
   "source": [
    "order_resp = client.execute(stopOrderCommand(\n",
    "    orderId=369035605,\n",
    "    symbol='GOLD', \n",
    "    action='buy', \n",
    "    price=2000,\n",
    "    volume=0.01\n",
    "))\n",
    "order_resp"
   ]
  },
  {
   "cell_type": "code",
   "execution_count": 23,
   "id": "b1acdb28",
   "metadata": {},
   "outputs": [
    {
     "name": "stderr",
     "output_type": "stream",
     "text": [
      "[2022-04-01 11:14:10,191][close:115] Closing socket\n"
     ]
    }
   ],
   "source": [
    "client.disconnect()"
   ]
  },
  {
   "cell_type": "code",
   "execution_count": 12,
   "id": "40b9e932",
   "metadata": {},
   "outputs": [],
   "source": [
    "class RsiO2Notify:\n",
    "    def __init__(self, params, ts, client):\n",
    "        self.ts = ts\n",
    "        self.client = client\n",
    "        self.pair = params['pair']\n",
    "        self.tf = params['tf']\n",
    "        \n",
    "        self.order = {'action': None, 'open time': None, 'open': None, 'close time': None, \\\n",
    "                      'close': None, 'T/P': None, 'S/L': None,'result': None}\n",
    "        self.current_action = 'close'\n",
    "        self.atr_len = params['atr_len']\n",
    "        self.rsi_len = params['rsi_len']\n",
    "        \n",
    "        self.ema_len = params['ema_len']\n",
    "        self.overbought = params['overbought']\n",
    "        self.oversold = params['oversold']\n",
    "        self.pip = params['pip']\n",
    "        \n",
    "        self.pip_value = params['pip_value']\n",
    "        self.rr = params['rr']\n",
    "        \n",
    "        self.lot_size = 0.01\n",
    "        self.order_id = 0\n",
    "        self.target = 6\n",
    "        self.round = params['round']\n",
    "        \n",
    "        self.line_url = params['line_url']\n",
    "        self.line_token = params['line_token']\n",
    "        self.line_headers = {'content-type':'application/x-www-form-urlencoded','Authorization':'Bearer ' + self.line_token }\n",
    "        self.df = None\n",
    "        \n",
    "    def notifyMsg(self, *msg):\n",
    "        r = requests.post(self.line_url, headers=self.line_headers, data={'message': msg[0]})\n",
    "        print(r.text)\n",
    "        \n",
    "    def calLotSize(self, entry, exit):\n",
    "        self.lot_size = abs(round(self.target / (((entry - exit) / self.pip ) * self.pip_value ) , 2))\n",
    "        print(f'lot_size: {str(self.lot_size)}')\n",
    "        \n",
    "    def executeOrder(self, action, entry=0, exit=0, sl=0, tp=0):\n",
    "        now = calendar.timegm(time.gmtime()) * 100\n",
    "        if action == 'buy':\n",
    "            order_action='buy stop'\n",
    "            tick_resp = client.execute(getTickPricesCommand(self.pair, now))\n",
    "            if tick_resp['returnData']['quotations'][0]['ask'] > round(entry, self.round):\n",
    "                order_action='buy limit'\n",
    "            print(f\"{order_action} price: {str(round(entry, self.round))}, \\\n",
    "                  ask: {str(tick_resp['returnData']['quotations'][0]['ask'])}, \\\n",
    "                  bid: {str(tick_resp['returnData']['quotations'][0]['bid'])}\")\n",
    "                \n",
    "            order_resp = self.client.execute(newPendingOrderCommand(\n",
    "                symbol=self.pair, \n",
    "                action=order_action, \n",
    "                price=round(entry, self.round), \n",
    "                tp=round(tp, self.round), \n",
    "                sl=round(sl, self.round), \n",
    "                volume=self.lot_size\n",
    "            ))\n",
    "            self.order_id = order_resp['returnData']['order']\n",
    "        elif action == 'sell':\n",
    "            order_action='sell stop'\n",
    "            tick_resp = client.execute(getTickPricesCommand(self.pair, now))\n",
    "            if tick_resp['returnData']['quotations'][0]['bid'] < round(entry, self.round):\n",
    "                order_action='sell limit'\n",
    "                \n",
    "            print(f\"{order_action} price: {str(round(entry, self.round))}, \\\n",
    "                  ask: {str(tick_resp['returnData']['quotations'][0]['ask'])}, \\\n",
    "                  bid: {str(tick_resp['returnData']['quotations'][0]['bid'])}\")\n",
    "                \n",
    "            order_resp = self.client.execute(newPendingOrderCommand(\n",
    "                symbol=self.pair, \n",
    "                action=order_action, \n",
    "                price=round(entry, self.round), \n",
    "                tp=round(tp, self.round), \n",
    "                sl=round(sl, self.round), \n",
    "                volume=self.lot_size\n",
    "            ))\n",
    "            self.order_id = order_resp['returnData']['order']\n",
    "            \n",
    "        elif action == 'close buy':\n",
    "            order_resp = client.execute(stopOrderCommand(\n",
    "                orderId=self.order_id,\n",
    "                symbol=self.pair, \n",
    "                action='buy', \n",
    "                price=round(exit, self.round),\n",
    "                volume=self.lot_size\n",
    "            ))\n",
    "            \n",
    "        elif action == 'close sell':\n",
    "            order_resp = client.execute(stopOrderCommand(\n",
    "                orderId=self.order_id,\n",
    "                symbol=self.pair, \n",
    "                action='sell', \n",
    "                price=round(exit, self.round),\n",
    "                volume=self.lot_size\n",
    "            ))\n",
    "        \n",
    "    def initial_bars(self):\n",
    "        bars, _ = self.ts.get_intraday(symbol=self.pair,interval=self.tf, outputsize='full')\n",
    "        df = pd.DataFrame({\n",
    "            'timestamp': bars.index,\n",
    "            'open': bars['1. open'],\n",
    "            'high': bars['2. high'],\n",
    "            'low': bars['3. low'],\n",
    "            'close': bars['4. close'],\n",
    "            'volumn': bars['5. volume']\n",
    "        }) # convert alpha vantage data to use with strategy\n",
    "\n",
    "        df['timestamp'] = pd.to_datetime(df['timestamp'], unit='ms')\n",
    "        df = df.iloc[::-1] # reverse row\n",
    "        df.reset_index(drop=True, inplace=True)\n",
    "\n",
    "        self.df = df\n",
    "    \n",
    "    def get_realtime(self):\n",
    "        bars, _ = self.ts.get_intraday(symbol=self.pair,interval=self.tf, outputsize='compact')\n",
    "        incoming_df = pd.DataFrame({\n",
    "            'timestamp': bars.index,\n",
    "            'open': bars['1. open'],\n",
    "            'high': bars['2. high'],\n",
    "            'low': bars['3. low'],\n",
    "            'close': bars['4. close'],\n",
    "            'volumn': bars['5. volume']\n",
    "        }) # convert alpha vantage data to use with rsi strategy\n",
    "\n",
    "        incoming_df['timestamp'] = pd.to_datetime(incoming_df['timestamp'], unit='ms')\n",
    "     \n",
    "        if (incoming_df['timestamp'].iloc[0] != self.df['timestamp'].iloc[-1]):\n",
    "            self.df = self.df[:900].append(incoming_df.head(1), ignore_index = True)\n",
    "\n",
    "        rsi_o2 = ta.Strategy(\n",
    "            name = 'RSI 14 Days for opposite trade',\n",
    "            description = 'RSI for alert',\n",
    "            ta = [\n",
    "                {'kind': 'ema', 'length': self.ema_len},\n",
    "                {'kind': 'rsi', 'length': self.rsi_len},\n",
    "                {'kind': 'atr', 'length': self.atr_len}\n",
    "            ]\n",
    "        )\n",
    "        self.df.ta.strategy(rsi_o2)\n",
    "    \n",
    "        row = self.df.tail(1).to_dict('records')[0]\n",
    "        \n",
    "        if self.current_action == 'close' or self.order == {}:\n",
    "            if (row['EMA_'+str(self.ema_len)] < row['low']) and (row['RSI_'+str(self.rsi_len)] > self.overbought):\n",
    "#                 row['action'] = 'buy'\n",
    "                self.order['action'] = 'buy'\n",
    "                self.order['open time'] = row['timestamp']\n",
    "                self.order['open'] = row['open']\n",
    "                \n",
    "                self.order['S/L'] = row['low']- row['ATRr_'+str(self.atr_len)]\n",
    "                self.order['T/P'] = row['open'] + (self.rr * abs(row['open'] - self.order['S/L']))\n",
    "                self.current_action = 'buy'\n",
    "                self.notifyMsg(f\"Buy {self.pair} RSI_O2\\nprice: {str(self.order['open'])}\\nTP: {str(self.order['T/P'])}\\nSL: {str(self.order['S/L'])}\")\n",
    "                \n",
    "                self.calLotSize(self.order['open'], self.order['T/P'])\n",
    "                self.executeOrder('buy', entry=self.order['open'], exit=self.order['T/P'], sl=self.order['S/L'], tp=self.order['T/P'])\n",
    "#                 print(f\"Buy {self.pair} \\nopen: {str(self.order['open'])}\\nclose: {str(self.order['close'])}\\n \" + \\\n",
    "#                       f\"ema: {str(row['EMA_'+str(self.ema_len)])}, rsi: {str(row['RSI_'+str(self.rsi_len)] )}\")\n",
    "                \n",
    "            elif (row['EMA_'+str(self.ema_len)] > row['high']) and (row['RSI_'+str(self.rsi_len)] < self.oversold):   \n",
    "#                 row['action'] = 'sell'\n",
    "                self.order['action'] = 'sell'\n",
    "                self.order['open time'] = row['timestamp']\n",
    "                self.order['open'] = row['open']\n",
    "                \n",
    "                self.order['S/L'] = row['high'] + row['ATRr_'+str(self.atr_len)]\n",
    "                self.order['T/P'] = row['open'] - (self.rr * abs(row['open'] - self.order['S/L']))\n",
    "                self.current_action = 'sell'\n",
    "                self.notifyMsg(f\"Sell {self.pair} RSI_O2\\nprice: {str(self.order['open'])}\\nTP: {str(self.order['T/P'])}\\nSL: {str(self.order['S/L'])}\")\n",
    "                \n",
    "                self.calLotSize(self.order['open'], self.order['T/P'])\n",
    "                self.executeOrder('sell', entry=self.order['open'], exit=self.order['T/P'], sl=self.order['S/L'], tp=self.order['T/P'])\n",
    "#                 print(f\"Sell {self.pair} \\nopen: {str(self.order['open'])}\\nclose: {str(self.order['close'])}\\n \" + \\\n",
    "#                       f\"ema: {str(row['EMA_'+str(self.ema_len)])}, rsi: {str(row['RSI_'+str(self.rsi_len)] )}\")\n",
    "\n",
    "        if (self.current_action == 'buy'):\n",
    "            if (row['low'] <= self.order['S/L']):\n",
    "                self.order['result'] = 'S/L'\n",
    "                self.order['close time'] = row['timestamp']\n",
    "                self.order['close'] = self.order['S/L']\n",
    "                \n",
    "                self.current_action = 'close'\n",
    "                self.notifyMsg(f\"S/L Buy {self.pair} RSI_O2\\nprice: {self.order['close']}\")\n",
    "                self.executeOrder('sell', entry=self.order['open'], exit=self.order['T/P'], sl=self.order['S/L'], tp=self.order['T/P'])\n",
    "                self.order = {'action': None, 'open time': None, 'open': None, 'close time': None, \\\n",
    "                              'close': None, 'T/P': None, 'S/L': None,'result': None}\n",
    "                \n",
    "            elif (row['high'] >= self.order['T/P']):\n",
    "                self.order['result'] = 'T/P'\n",
    "                self.order['close time'] = row['timestamp']\n",
    "                self.order['close'] = self.order['T/P']\n",
    "                \n",
    "                self.current_action = 'close'\n",
    "                self.notifyMsg(f\"T/P Buy {self.pair} RSI_O2\\nprice: {self.order['close']}\")\n",
    "                self.order = {'action': None, 'open time': None, 'open': None, 'close time': None, \\\n",
    "                              'close': None, 'T/P': None, 'S/L': None,'result': None}\n",
    "\n",
    "        elif (self.current_action == 'sell'):\n",
    "            if (row['high'] >= self.order['S/L']):\n",
    "                self.order['result'] = 'S/L'\n",
    "                self.order['close time'] = row['timestamp']\n",
    "                self.order['close'] = self.order['S/L']\n",
    "                \n",
    "                self.current_action = 'close'\n",
    "                self.notifyMsg(f\"S/L Sell {self.pair} RSI_O2\\nprice: {self.order['close']}\")\n",
    "                self.order = {'action': None, 'open time': None, 'open': None, 'close time': None, \\\n",
    "                              'close': None, 'T/P': None, 'S/L': None,'result': None}\n",
    "                \n",
    "            elif (row['low'] <= self.order['T/P']):\n",
    "                self.order['result'] = 'T/P'\n",
    "                self.order['close time'] = row['timestamp']\n",
    "                self.order['close'] = self.order['T/P']\n",
    "                \n",
    "                self.current_action = 'close'\n",
    "                self.notifyMsg(f\"T/P Sell {self.pair} RSI_O2\\nprice: {self.order['close']}\")\n",
    "                self.order = {'action': None, 'open time': None, 'open': None, 'close time': None, \\\n",
    "                              'close': None, 'T/P': None, 'S/L': None,'result': None}"
   ]
  },
  {
   "cell_type": "code",
   "execution_count": 13,
   "id": "80b929dd",
   "metadata": {},
   "outputs": [],
   "source": [
    "def keepConnectionAlive():\n",
    "    try:\n",
    "        ping_resp = client.execute(pingCommand())\n",
    "        print(f\"Connection Status: {ping_resp['status']}\")\n",
    "    except:\n",
    "        loginResponse = client.execute(loginCommand(userId=XTB_USER_ID, password=XTB_USER_PASSWORD))\n",
    "        logger.info(str(loginResponse)) \n",
    "\n",
    "        # check if user logged in correctly\n",
    "        if(loginResponse['status'] == False):\n",
    "            print('Login failed. Error code: {0}'.format(loginResponse['errorCode']))"
   ]
  },
  {
   "cell_type": "code",
   "execution_count": 14,
   "id": "bd195cf0",
   "metadata": {},
   "outputs": [],
   "source": [
    "eurusd = RsiO2Notify({\n",
    "    'pair': 'EURUSD',\n",
    "    'tf': '15min',\n",
    "    'atr_len': 13,\n",
    "    'rsi_len': 20,\n",
    "    'ema_len': 200,\n",
    "    'overbought': 76,\n",
    "    'oversold': 24,\n",
    "    'pip': 0.0001,\n",
    "    'pip_value': 10,\n",
    "    'rr': 1.5,\n",
    "    'round': 5,\n",
    "    'line_url': LINE_URL,\n",
    "    'line_token': LINE_TOKEN,\n",
    "}, ts, client)\n",
    "\n",
    "audusd = RsiO2Notify({\n",
    "    'pair': 'AUDUSD',\n",
    "    'tf': '15min',\n",
    "    'atr_len': 11,\n",
    "    'rsi_len': 11,\n",
    "    'ema_len': 200,\n",
    "    'overbought': 71,\n",
    "    'oversold': 29,\n",
    "    'pip': 0.0001,\n",
    "    'pip_value': 10,\n",
    "    'rr': 1.5,\n",
    "    'round': 5,\n",
    "    'line_url': LINE_URL,\n",
    "    'line_token': LINE_TOKEN,\n",
    "}, ts, client)\n",
    "\n",
    "gbpusd = RsiO2Notify({\n",
    "    'pair': 'GBPUSD',\n",
    "    'tf': '15min',\n",
    "    'atr_len': 10,\n",
    "    'rsi_len': 20,\n",
    "    'ema_len': 200,\n",
    "    'overbought': 70,\n",
    "    'oversold': 30,\n",
    "    'pip': 0.0001,\n",
    "    'pip_value': 10,\n",
    "    'rr': 1.5,\n",
    "    'round': 5,\n",
    "    'line_url': LINE_URL,\n",
    "    'line_token': LINE_TOKEN,\n",
    "}, ts, client)\n",
    "\n",
    "usdjpy = RsiO2Notify({\n",
    "    'pair': 'USDJPY',\n",
    "    'tf': '15min',\n",
    "    'atr_len': 17,\n",
    "    'rsi_len': 12,\n",
    "    'ema_len': 200,\n",
    "    'overbought': 73,\n",
    "    'oversold': 27,\n",
    "    'pip': 0.01,\n",
    "    'pip_value': 8.04,\n",
    "    'rr': 1.5,\n",
    "    'round': 3,\n",
    "    'line_url': LINE_URL,\n",
    "    'line_token': LINE_TOKEN,\n",
    "}, ts, client)"
   ]
  },
  {
   "cell_type": "code",
   "execution_count": 15,
   "id": "f7a6b391",
   "metadata": {},
   "outputs": [],
   "source": [
    "eurusd.initial_bars()\n",
    "audusd.initial_bars()\n",
    "# usdjpy.initial_bars()\n",
    "# gbpusd.initial_bars()"
   ]
  },
  {
   "cell_type": "code",
   "execution_count": 16,
   "id": "e0ece244",
   "metadata": {},
   "outputs": [
    {
     "data": {
      "text/plain": [
       "Every 900 seconds do get_all_realtime() (last run: [never], next run: 2022-04-01 11:49:25)"
      ]
     },
     "execution_count": 16,
     "metadata": {},
     "output_type": "execute_result"
    }
   ],
   "source": [
    "def get_all_realtime():\n",
    "    keepConnectionAlive()\n",
    "    eurusd.get_realtime()\n",
    "    audusd.get_realtime()\n",
    "#     usdjpy.get_realtime()\n",
    "    \n",
    "schedule.every(60 * 15).seconds.do(get_all_realtime) "
   ]
  },
  {
   "cell_type": "code",
   "execution_count": null,
   "id": "98d52754",
   "metadata": {},
   "outputs": [
    {
     "name": "stderr",
     "output_type": "stream",
     "text": [
      "[2022-04-01 11:44:44,354][_waitingSend:88] Sent: b'{\"command\": \"ping\", \"arguments\": {}}'\n",
      "[2022-04-01 11:44:44,554][_read:107] Received: {'status': True}\n"
     ]
    },
    {
     "name": "stdout",
     "output_type": "stream",
     "text": [
      "Connection Status: True\n"
     ]
    },
    {
     "name": "stderr",
     "output_type": "stream",
     "text": [
      "[2022-04-01 11:49:25,583][_waitingSend:88] Sent: b'{\"command\": \"ping\", \"arguments\": {}}'\n",
      "[2022-04-01 11:49:25,785][_read:107] Received: {'status': True}\n"
     ]
    },
    {
     "name": "stdout",
     "output_type": "stream",
     "text": [
      "Connection Status: True\n"
     ]
    },
    {
     "name": "stderr",
     "output_type": "stream",
     "text": [
      "[2022-04-01 11:49:28,962][_waitingSend:88] Sent: b'{\"command\": \"getTickPrices\", \"arguments\": {\"level\": 0, \"symbols\": [\"EURUSD\"], \"timestamp\": 164878856800}}'\n"
     ]
    },
    {
     "name": "stdout",
     "output_type": "stream",
     "text": [
      "{\"status\":200,\"message\":\"ok\"}\n",
      "lot_size: 0.02\n"
     ]
    },
    {
     "name": "stderr",
     "output_type": "stream",
     "text": [
      "[2022-04-01 11:49:29,184][_read:107] Received: {'status': True, 'returnData': {'quotations': [{'symbol': 'EURUSD', 'ask': 1.10675, 'bid': 1.10661, 'high': 1.10754, 'low': 1.10591, 'askVolume': 100000, 'bidVolume': 50000, 'timestamp': 1648788567048, 'level': 0, 'exemode': 1, 'spreadRaw': 0.00014, 'spreadTable': 1.4}]}}\n",
      "[2022-04-01 11:49:29,185][_waitingSend:88] Sent: b'{\"command\": \"tradeTransaction\", \"arguments\": {\"tradeTransInfo\": {\"cmd\": 5, \"customComment\": \"\", \"expiration\": 0, \"order\": 0, \"price\": 1.1065, \"sl\": 1.10824, \"tp\": 1.10389, \"symbol\": \"EURUSD\", \"type\": 0, \"volume\": 0.02}}}'\n"
     ]
    },
    {
     "name": "stdout",
     "output_type": "stream",
     "text": [
      "sell stop price: 1.1065,                   ask: 1.10675,                   bid: 1.10661\n"
     ]
    },
    {
     "name": "stderr",
     "output_type": "stream",
     "text": [
      "[2022-04-01 11:49:29,482][_read:107] Received: {'status': True, 'returnData': {'order': 371403341}}\n",
      "[2022-04-01 11:59:50,615][_waitingSend:88] Sent: b'{\"command\": \"ping\", \"arguments\": {}}'\n",
      "[2022-04-01 11:59:50,814][_read:107] Received: {'status': True}\n"
     ]
    },
    {
     "name": "stdout",
     "output_type": "stream",
     "text": [
      "Connection Status: True\n"
     ]
    },
    {
     "name": "stderr",
     "output_type": "stream",
     "text": [
      "[2022-04-01 12:04:32,916][_waitingSend:88] Sent: b'{\"command\": \"ping\", \"arguments\": {}}'\n",
      "[2022-04-01 12:04:33,115][_read:107] Received: {'status': True}\n"
     ]
    },
    {
     "name": "stdout",
     "output_type": "stream",
     "text": [
      "Connection Status: True\n"
     ]
    },
    {
     "name": "stderr",
     "output_type": "stream",
     "text": [
      "[2022-04-01 12:14:55,666][_waitingSend:88] Sent: b'{\"command\": \"ping\", \"arguments\": {}}'\n",
      "[2022-04-01 12:14:55,865][_read:107] Received: {'status': True}\n"
     ]
    },
    {
     "name": "stdout",
     "output_type": "stream",
     "text": [
      "Connection Status: True\n"
     ]
    },
    {
     "name": "stderr",
     "output_type": "stream",
     "text": [
      "[2022-04-01 12:19:38,532][_waitingSend:88] Sent: b'{\"command\": \"ping\", \"arguments\": {}}'\n",
      "[2022-04-01 12:19:38,731][_read:107] Received: {'status': True}\n"
     ]
    },
    {
     "name": "stdout",
     "output_type": "stream",
     "text": [
      "Connection Status: True\n"
     ]
    },
    {
     "name": "stderr",
     "output_type": "stream",
     "text": [
      "[2022-04-01 12:30:01,925][_waitingSend:88] Sent: b'{\"command\": \"ping\", \"arguments\": {}}'\n",
      "[2022-04-01 12:30:02,125][_read:107] Received: {'status': True}\n"
     ]
    },
    {
     "name": "stdout",
     "output_type": "stream",
     "text": [
      "Connection Status: True\n"
     ]
    },
    {
     "name": "stderr",
     "output_type": "stream",
     "text": [
      "[2022-04-01 12:34:44,045][_waitingSend:88] Sent: b'{\"command\": \"ping\", \"arguments\": {}}'\n",
      "[2022-04-01 12:34:44,244][_read:107] Received: {'status': True}\n"
     ]
    },
    {
     "name": "stdout",
     "output_type": "stream",
     "text": [
      "Connection Status: True\n"
     ]
    },
    {
     "name": "stderr",
     "output_type": "stream",
     "text": [
      "[2022-04-01 12:45:15,398][_waitingSend:88] Sent: b'{\"command\": \"ping\", \"arguments\": {}}'\n",
      "[2022-04-01 12:45:15,598][_read:107] Received: {'status': True}\n"
     ]
    },
    {
     "name": "stdout",
     "output_type": "stream",
     "text": [
      "Connection Status: True\n"
     ]
    },
    {
     "name": "stderr",
     "output_type": "stream",
     "text": [
      "[2022-04-01 12:49:50,319][_waitingSend:88] Sent: b'{\"command\": \"ping\", \"arguments\": {}}'\n",
      "[2022-04-01 12:49:50,519][_read:107] Received: {'status': True}\n"
     ]
    },
    {
     "name": "stdout",
     "output_type": "stream",
     "text": [
      "Connection Status: True\n"
     ]
    },
    {
     "name": "stderr",
     "output_type": "stream",
     "text": [
      "[2022-04-01 13:00:22,425][_waitingSend:88] Sent: b'{\"command\": \"ping\", \"arguments\": {}}'\n",
      "[2022-04-01 13:00:22,624][_read:107] Received: {'status': True}\n"
     ]
    },
    {
     "name": "stdout",
     "output_type": "stream",
     "text": [
      "Connection Status: True\n"
     ]
    },
    {
     "name": "stderr",
     "output_type": "stream",
     "text": [
      "[2022-04-01 13:04:56,103][_waitingSend:88] Sent: b'{\"command\": \"ping\", \"arguments\": {}}'\n",
      "[2022-04-01 13:04:56,313][_read:107] Received: {'status': True}\n"
     ]
    },
    {
     "name": "stdout",
     "output_type": "stream",
     "text": [
      "Connection Status: True\n"
     ]
    },
    {
     "name": "stderr",
     "output_type": "stream",
     "text": [
      "[2022-04-01 13:15:30,303][_waitingSend:88] Sent: b'{\"command\": \"ping\", \"arguments\": {}}'\n",
      "[2022-04-01 13:15:30,504][_read:107] Received: {'status': True}\n"
     ]
    },
    {
     "name": "stdout",
     "output_type": "stream",
     "text": [
      "Connection Status: True\n"
     ]
    },
    {
     "name": "stderr",
     "output_type": "stream",
     "text": [
      "[2022-04-01 13:20:01,419][_waitingSend:88] Sent: b'{\"command\": \"ping\", \"arguments\": {}}'\n",
      "[2022-04-01 13:20:01,617][_read:107] Received: {'status': True}\n"
     ]
    },
    {
     "name": "stdout",
     "output_type": "stream",
     "text": [
      "Connection Status: True\n"
     ]
    },
    {
     "name": "stderr",
     "output_type": "stream",
     "text": [
      "[2022-04-01 13:30:35,889][_waitingSend:88] Sent: b'{\"command\": \"ping\", \"arguments\": {}}'\n",
      "[2022-04-01 13:30:36,091][_read:107] Received: {'status': True}\n"
     ]
    },
    {
     "name": "stdout",
     "output_type": "stream",
     "text": [
      "Connection Status: True\n"
     ]
    },
    {
     "name": "stderr",
     "output_type": "stream",
     "text": [
      "[2022-04-01 13:35:09,255][_waitingSend:88] Sent: b'{\"command\": \"ping\", \"arguments\": {}}'\n",
      "[2022-04-01 13:35:09,455][_read:107] Received: {'status': True}\n"
     ]
    },
    {
     "name": "stdout",
     "output_type": "stream",
     "text": [
      "Connection Status: True\n"
     ]
    },
    {
     "name": "stderr",
     "output_type": "stream",
     "text": [
      "[2022-04-01 13:45:43,560][_waitingSend:88] Sent: b'{\"command\": \"ping\", \"arguments\": {}}'\n",
      "[2022-04-01 13:45:43,829][_read:107] Received: {'status': True}\n"
     ]
    },
    {
     "name": "stdout",
     "output_type": "stream",
     "text": [
      "Connection Status: True\n"
     ]
    },
    {
     "name": "stderr",
     "output_type": "stream",
     "text": [
      "[2022-04-01 13:50:16,294][_waitingSend:88] Sent: b'{\"command\": \"ping\", \"arguments\": {}}'\n",
      "[2022-04-01 13:50:16,561][_read:107] Received: {'status': True}\n"
     ]
    },
    {
     "name": "stdout",
     "output_type": "stream",
     "text": [
      "Connection Status: True\n"
     ]
    },
    {
     "name": "stderr",
     "output_type": "stream",
     "text": [
      "[2022-04-01 14:00:49,250][_waitingSend:88] Sent: b'{\"command\": \"ping\", \"arguments\": {}}'\n",
      "[2022-04-01 14:00:49,519][_read:107] Received: {'status': True}\n"
     ]
    },
    {
     "name": "stdout",
     "output_type": "stream",
     "text": [
      "Connection Status: True\n"
     ]
    },
    {
     "name": "stderr",
     "output_type": "stream",
     "text": [
      "[2022-04-01 14:05:23,134][_waitingSend:88] Sent: b'{\"command\": \"ping\", \"arguments\": {}}'\n",
      "[2022-04-01 14:05:23,401][_read:107] Received: {'status': True}\n"
     ]
    },
    {
     "name": "stdout",
     "output_type": "stream",
     "text": [
      "Connection Status: True\n"
     ]
    },
    {
     "name": "stderr",
     "output_type": "stream",
     "text": [
      "[2022-04-01 14:15:55,317][_waitingSend:88] Sent: b'{\"command\": \"ping\", \"arguments\": {}}'\n",
      "[2022-04-01 14:15:55,585][_read:107] Received: {'status': True}\n"
     ]
    },
    {
     "name": "stdout",
     "output_type": "stream",
     "text": [
      "Connection Status: True\n"
     ]
    }
   ],
   "source": [
    "while True:\n",
    "    schedule.run_pending()\n",
    "    time.sleep(1)"
   ]
  },
  {
   "cell_type": "code",
   "execution_count": null,
   "id": "199d7c39",
   "metadata": {},
   "outputs": [],
   "source": []
  }
 ],
 "metadata": {
  "kernelspec": {
   "display_name": "Python 3",
   "language": "python",
   "name": "python3"
  },
  "language_info": {
   "codemirror_mode": {
    "name": "ipython",
    "version": 3
   },
   "file_extension": ".py",
   "mimetype": "text/x-python",
   "name": "python",
   "nbconvert_exporter": "python",
   "pygments_lexer": "ipython3",
   "version": "3.8.8"
  }
 },
 "nbformat": 4,
 "nbformat_minor": 5
}
