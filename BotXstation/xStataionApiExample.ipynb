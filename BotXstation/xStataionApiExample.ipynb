{
 "cells": [
  {
   "cell_type": "code",
   "execution_count": 1,
   "id": "cf4fe57d",
   "metadata": {},
   "outputs": [
    {
     "data": {
      "text/plain": [
       "True"
      ]
     },
     "execution_count": 1,
     "metadata": {},
     "output_type": "execute_result"
    }
   ],
   "source": [
    "import os\n",
    "from dotenv import load_dotenv\n",
    "import pandas as pd\n",
    "import time\n",
    "\n",
    "import pandas_ta as ta\n",
    "from datetime import datetime\n",
    "from xAPIConnector import *\n",
    "load_dotenv()"
   ]
  },
  {
   "cell_type": "code",
   "execution_count": 2,
   "id": "005f5b5c",
   "metadata": {},
   "outputs": [],
   "source": [
    "XTB_USER_ID = os.getenv('XTB_USER_ID')\n",
    "XTB_USER_PASSWORD = os.getenv('XTB_USER_PASSWORD')\n",
    "# XTB_USER_ID, XTB_USER_PASSWORD"
   ]
  },
  {
   "cell_type": "code",
   "execution_count": 3,
   "id": "39098d0f",
   "metadata": {},
   "outputs": [],
   "source": [
    "# example function for processing ticks from Streaming socket\n",
    "def procTickExample(msg): \n",
    "    print(\"TICK: \", msg)\n",
    "\n",
    "# example function for processing trades from Streaming socket\n",
    "def procTradeExample(msg): \n",
    "    print(\"TRADE: \", msg)\n",
    "\n",
    "# example function for processing trades from Streaming socket\n",
    "def procBalanceExample(msg): \n",
    "    print(\"BALANCE: \", msg)\n",
    "\n",
    "# example function for processing trades from Streaming socket\n",
    "def procTradeStatusExample(msg): \n",
    "    print(\"TRADE STATUS: \", msg)\n",
    "\n",
    "# example function for processing trades from Streaming socket\n",
    "def procProfitExample(msg): \n",
    "    print(\"PROFIT: \", msg)\n",
    "\n",
    "# example function for processing news from Streaming socket\n",
    "def procNewsExample(msg): \n",
    "    print(\"NEWS: \", msg)"
   ]
  },
  {
   "cell_type": "code",
   "execution_count": 4,
   "id": "7631eb05",
   "metadata": {},
   "outputs": [
    {
     "name": "stderr",
     "output_type": "stream",
     "text": [
      "[2022-03-25 15:34:56,923][connect:74] Socket connected\n",
      "[2022-03-25 15:34:56,925][_waitingSend:88] Sent: b'{\"command\": \"login\", \"arguments\": {\"userId\": \"1959587\", \"password\": \"veGan/1102199c\", \"appName\": \"\"}}'\n",
      "[2022-03-25 15:34:57,270][_read:107] Received: {'status': True, 'streamSessionId': '262540fffee58c68-0000279f-004c11ae-56d4bc99294715fe-bacd313c'}\n",
      "[2022-03-25 15:34:57,270][<module>:4] {'status': True, 'streamSessionId': '262540fffee58c68-0000279f-004c11ae-56d4bc99294715fe-bacd313c'}\n"
     ]
    }
   ],
   "source": [
    "client = APIClient()\n",
    "\n",
    "loginResponse = client.execute(loginCommand(userId=XTB_USER_ID, password=XTB_USER_PASSWORD))\n",
    "logger.info(str(loginResponse)) \n",
    "\n",
    "# check if user logged in correctly\n",
    "if(loginResponse['status'] == False):\n",
    "    print('Login failed. Error code: {0}'.format(loginResponse['errorCode']))\n",
    "    \n",
    "# get ssId from login response\n",
    "ssid = loginResponse['streamSessionId']\n",
    "\n",
    "# second method of invoking commands\n",
    "# resp = client.commandExecute('getAllSymbols')\n",
    "    \n",
    "# create & connect to Streaming socket with given ssID\n",
    "# and functions for processing ticks, trades, profit and tradeStatus\n",
    "# sclient = APIStreamClient(ssId=ssid, tickFun=procTickExample, tradeFun=procTradeExample, profitFun=procProfitExample, tradeStatusFun=procTradeStatusExample)\n",
    "    \n",
    "# subscribe for trades\n",
    "# sclient.subscribeTrades()\n",
    "    \n",
    "# subscribe for prices\n",
    "# sclient.subscribePrices(['EURUSD', 'USDJPY'])\n",
    "\n",
    "# subscribe for profits\n",
    "# sclient.subscribeProfits()\n",
    "\n",
    "# this is an example, make it run for 5 seconds\n",
    "# time.sleep(5)\n",
    "    \n",
    "# gracefully close streaming socket\n",
    "# sclient.disconnect()\n",
    "    \n",
    "# gracefully close RR socket\n",
    "# client.disconnect()"
   ]
  },
  {
   "cell_type": "code",
   "execution_count": 5,
   "id": "1d4b46f6",
   "metadata": {},
   "outputs": [
    {
     "name": "stderr",
     "output_type": "stream",
     "text": [
      "[2022-03-25 15:35:04,168][_waitingSend:88] Sent: b'{\"command\": \"tradeTransaction\", \"arguments\": {\"tradeTransInfo\": {\"cmd\": 4, \"customComment\": \"\", \"expiration\": 0, \"order\": 0, \"price\": 2000, \"sl\": 1995, \"tp\": 2006, \"symbol\": \"GOLD\", \"type\": 0, \"volume\": 0.01}}}'\n",
      "[2022-03-25 15:35:04,339][_read:107] Received: {'status': True, 'returnData': {'order': 583639107}}\n"
     ]
    },
    {
     "data": {
      "text/plain": [
       "{'status': True, 'returnData': {'order': 583639107}}"
      ]
     },
     "execution_count": 5,
     "metadata": {},
     "output_type": "execute_result"
    }
   ],
   "source": [
    "order_resp = client.execute(newPendingOrderCommand(\n",
    "    symbol='GOLD', \n",
    "    action='buy stop', \n",
    "    price=2000, \n",
    "    tp=2006, \n",
    "    sl=1995, \n",
    "    volume=0.01\n",
    "))\n",
    "order_resp"
   ]
  },
  {
   "cell_type": "code",
   "execution_count": 10,
   "id": "b5dc3114",
   "metadata": {},
   "outputs": [
    {
     "name": "stderr",
     "output_type": "stream",
     "text": [
      "[2022-03-25 15:10:42,099][_waitingSend:88] Sent: b'{\"command\": \"tradeTransaction\", \"arguments\": {\"cmd\": 0, \"customComment\": \"\", \"expiration\": 0, \"order\": \"583598498\", \"price\": 2000, \"symbol\": \"GOLD\", \"tp\": 0, \"sl\": 0, \"type\": 2, \"volume\": 0.01}}'\n",
      "[2022-03-25 15:10:42,262][_read:107] Received: {'status': False, 'errorCode': 'INVALID_ARGUMENTS', 'errorDescr': 'No value provided for parameter(s) of method tradeTransaction'}\n"
     ]
    },
    {
     "data": {
      "text/plain": [
       "{'status': False,\n",
       " 'errorCode': 'INVALID_ARGUMENTS',\n",
       " 'errorDescr': 'No value provided for parameter(s) of method tradeTransaction'}"
      ]
     },
     "execution_count": 10,
     "metadata": {},
     "output_type": "execute_result"
    }
   ],
   "source": [
    "order_resp = client.execute(stopOrderCommand(\n",
    "    orderId=583598498,\n",
    "    symbol='GOLD', \n",
    "    action='buy', \n",
    "    price=2000,\n",
    "    volume=0.01\n",
    "))\n",
    "order_resp"
   ]
  },
  {
   "cell_type": "code",
   "execution_count": 6,
   "id": "d0461ec4",
   "metadata": {},
   "outputs": [
    {
     "name": "stderr",
     "output_type": "stream",
     "text": [
      "[2022-03-25 15:41:26,234][close:115] Closing socket\n"
     ]
    }
   ],
   "source": [
    "client.disconnect()"
   ]
  },
  {
   "cell_type": "code",
   "execution_count": null,
   "id": "51f0d44f",
   "metadata": {},
   "outputs": [],
   "source": []
  }
 ],
 "metadata": {
  "kernelspec": {
   "display_name": "Python 3",
   "language": "python",
   "name": "python3"
  },
  "language_info": {
   "codemirror_mode": {
    "name": "ipython",
    "version": 3
   },
   "file_extension": ".py",
   "mimetype": "text/x-python",
   "name": "python",
   "nbconvert_exporter": "python",
   "pygments_lexer": "ipython3",
   "version": "3.8.8"
  }
 },
 "nbformat": 4,
 "nbformat_minor": 5
}
