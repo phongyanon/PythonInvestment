{
 "cells": [
  {
   "cell_type": "code",
   "execution_count": 1,
   "id": "603bd55b",
   "metadata": {},
   "outputs": [
    {
     "data": {
      "text/plain": [
       "True"
      ]
     },
     "execution_count": 1,
     "metadata": {},
     "output_type": "execute_result"
    }
   ],
   "source": [
    "import os, csv\n",
    "from dotenv import load_dotenv\n",
    "import time\n",
    "from datetime import datetime\n",
    "import schedule\n",
    "import requests\n",
    "\n",
    "import pandas as pd\n",
    "import pandas_ta as ta\n",
    "import numpy as np\n",
    "\n",
    "from alpha_vantage.timeseries import TimeSeries\n",
    "from alpha_vantage.foreignexchange import ForeignExchange\n",
    "load_dotenv()"
   ]
  },
  {
   "cell_type": "code",
   "execution_count": 2,
   "id": "e7146156",
   "metadata": {},
   "outputs": [],
   "source": [
    "API_KEYS = os.getenv('ALPHA_KEYS')\n",
    "cc = ForeignExchange(key=API_KEYS)\n",
    "\n",
    "LINE_TOKEN = os.getenv('LINE_TOKEN')\n",
    "LINE_URL = 'https://notify-api.line.me/api/notify'\n",
    "LINE_HEADERS = {'content-type':'application/x-www-form-urlencoded','Authorization':'Bearer ' + LINE_TOKEN }\n",
    "\n",
    "ts = TimeSeries(key=API_KEYS, output_format='pandas')"
   ]
  },
  {
   "cell_type": "code",
   "execution_count": 3,
   "id": "685d5640",
   "metadata": {},
   "outputs": [],
   "source": [
    "### line alert function\n",
    "def notifyMsg(*msg, url=LINE_URL, headers=LINE_HEADERS):\n",
    "    r = requests.post(url, headers=headers, data={'message': msg[0]})\n",
    "    print(r.text)"
   ]
  },
  {
   "cell_type": "code",
   "execution_count": 4,
   "id": "0e06eb2a",
   "metadata": {},
   "outputs": [],
   "source": [
    "### create technical strategy\n",
    "rsi_o2 = ta.Strategy(\n",
    "    name = 'RSI 14 Days for opposite trade',\n",
    "    description = 'RSI for alert',\n",
    "    ta = [\n",
    "        {'kind': 'ema', 'length': 200},\n",
    "        {'kind': 'rsi', 'length': 10},\n",
    "        {'kind': 'atr', 'length': 15}\n",
    "    ]\n",
    ")"
   ]
  },
  {
   "cell_type": "code",
   "execution_count": 5,
   "id": "d4c71060",
   "metadata": {},
   "outputs": [],
   "source": [
    "def initial_bars(pair='EURUSD', tf='15min'):\n",
    "    bars, _ = ts.get_intraday(symbol=pair,interval=tf, outputsize='full')\n",
    "    df = pd.DataFrame({\n",
    "        'timestamp': bars.index,\n",
    "        'open': bars['1. open'],\n",
    "        'high': bars['2. high'],\n",
    "        'low': bars['3. low'],\n",
    "        'close': bars['4. close'],\n",
    "        'volumn': bars['5. volume']\n",
    "    }) # convert alpha vantage data to use with strategy\n",
    "    \n",
    "    df['timestamp'] = pd.to_datetime(df['timestamp'], unit='ms')\n",
    "    df = df.iloc[::-1] # reverse row\n",
    "    df.reset_index(drop=True, inplace=True)\n",
    "        \n",
    "    order = {}\n",
    "    current_action = 'close'\n",
    "    \n",
    "    return df , order, current_action"
   ]
  },
  {
   "cell_type": "code",
   "execution_count": 74,
   "id": "eb17a796",
   "metadata": {},
   "outputs": [],
   "source": [
    "def get_realtime(df=None, order={}, current_action={}, pair='EURUSD', tf='15min', ema_len=200, rsi_len=14, atr_len=14, \\\n",
    "                 strategy=None, overbought=70, oversold=30, rr=1.5, pip_value=0.0001):\n",
    "    \n",
    "    bars, _ = ts.get_intraday(symbol=pair,interval=tf, outputsize='compact')\n",
    "    incoming_df = pd.DataFrame({\n",
    "        'timestamp': bars.index,\n",
    "        'open': bars['1. open'],\n",
    "        'high': bars['2. high'],\n",
    "        'low': bars['3. low'],\n",
    "        'close': bars['4. close'],\n",
    "        'volumn': bars['5. volume']\n",
    "    }) # convert alpha vantage data to use with rsi strategy\n",
    "    \n",
    "    incoming_df['timestamp'] = pd.to_datetime(incoming_df['timestamp'], unit='ms')\n",
    "    if (incoming_df['timestamp'].iloc[0] != df['timestamp'].iloc[-1]):\n",
    "        df = df[:900].append(incoming_df.head(1), ignore_index = True)\n",
    "        \n",
    "#     df = df.iloc[::-1] # reverse row\n",
    "#     df.reset_index(drop=True, inplace=True)\n",
    "#     if strategy != None: df.ta.strategy(strategy)\n",
    "    rsi_o2 = ta.Strategy(\n",
    "        name = 'RSI 14 Days for opposite trade',\n",
    "        description = 'RSI for alert',\n",
    "        ta = [\n",
    "            {'kind': 'ema', 'length': ema_len},\n",
    "            {'kind': 'rsi', 'length': rsi_len},\n",
    "            {'kind': 'atr', 'length': atr_len}\n",
    "        ]\n",
    "    )\n",
    "    df.ta.strategy(rsi_o2)\n",
    "    \n",
    "#     orders = pd.DataFrame(columns = ['action', 'open time', 'open', 'close time', 'close', 'T/P', 'S/L','result'])\n",
    "#     current_action = 'close'\n",
    "#     order = {}\n",
    "    \n",
    "    row = df.tail(1)\n",
    "    return row\n",
    "    if current_action[pair] == 'close' or order[pair] == {}:\n",
    "        if (row['EMA_'+str(ema_len)] < row['low']).bool() and (row['RSI_'+str(rsi_len)] > overbought).bool():\n",
    "            row['action'] = 'buy'\n",
    "            order[pair]['action'] = 'buy'\n",
    "            order[pair]['open time'] = row['timestamp']\n",
    "            order[pair]['open'] = row['open']\n",
    "            order[pair]['S/L'] = row['low'] - row['ATRr_'+str(atr_len)]\n",
    "            order[pair]['T/P'] = row['open'] + (rr * abs(row['open'] - order[pair]['S/L']))\n",
    "            current_action[pair] = 'buy'\n",
    "            notifyMsg(f\"Buy {pair} RSI_O2\\nprice: {str(order[pair]['open'])}\\nTP: {str(order[pair]['T/P'])}\\nSL: {str(order[pair]['S/L'])}\")\n",
    "            \n",
    "        elif (row['EMA_'+str(ema_len)] > row['high']).bool() and (row['RSI_'+str(rsi_len)] < oversold).bool():   \n",
    "            row['action'] = 'sell'\n",
    "            order[pair]['action'] = 'sell'\n",
    "            order[pair]['open time'] = row['timestamp']\n",
    "            order[pair]['open'] = row['open']\n",
    "            order[pair]['S/L'] = row['high'] + row['ATRr_'+str(atr_len)]\n",
    "            order[pair]['T/P'] = row['open'] - (rr * abs(row['open'] - order[pair]['S/L']))\n",
    "            current_action[pair] = 'sell'\n",
    "            notifyMsg(f\"Sell {pair} RSI_O2\\nprice: {str(order[pair]['open'])}\\nTP: {str(order[pair]['T/P'])}\\nSL: {str(order[pair]['S/L'])}\")\n",
    "        \n",
    "    if current_action[pair] == 'buy':\n",
    "        if row['low'] <= order[pair]['S/L']:\n",
    "            order[pair]['result'] = 'S/L'\n",
    "            order[pair]['close time'] = row['timestamp']\n",
    "            order[pair]['close'] = order[pair]['S/L']\n",
    "            current_action[pair] = 'close'\n",
    "            order[pair] = {}\n",
    "            notifyMsg(f\"S/L Buy {pair} RSI_O2\\nprice: {order[pair]['close']}\")\n",
    "        elif row['high'] >= order[pair]['T/P']:\n",
    "            order[pair]['result'] = 'T/P'\n",
    "            order[pair]['close time'] = row['timestamp']\n",
    "            order[pair]['close'] = order['T/P']\n",
    "            current_action[pair] = 'close'\n",
    "            order[pair] = {}\n",
    "            notifyMsg(f\"T/P Buy {pair} RSI_O2\\nprice: {order[pair]['close']}\")\n",
    "                \n",
    "    elif current_action[pair] == 'sell':\n",
    "        if row['high'] >= order[pair]['S/L']:\n",
    "            order[pair]['result'] = 'S/L'\n",
    "            order[pair]['close time'] = row['timestamp']\n",
    "            order[pair]['close'] = order[pair]['S/L']\n",
    "            current_action[pair] = 'close'\n",
    "            order[pair] = {}\n",
    "            notifyMsg(f\"S/L Sell {pair} RSI_O2\\nprice: {order[pair]['close']}\")\n",
    "        elif row['low'] <= order[pair]['T/P']:\n",
    "            order[pair]['result'] = 'T/P'\n",
    "            order[pair]['close time'] = row['timestamp']\n",
    "            order[pair]['close'] = order[pair]['T/P']\n",
    "            current_action[pair] = 'close'\n",
    "            order[pair] = {}\n",
    "            notifyMsg(f\"T/P Sell {pair} RSI_O2\\nprice: {order[pair]['close']}\")\n",
    "            \n",
    "    \n",
    "# r = get_realtime()"
   ]
  },
  {
   "cell_type": "code",
   "execution_count": 75,
   "id": "e4f47da6",
   "metadata": {},
   "outputs": [],
   "source": [
    "pair_action = {}\n",
    "pair_order = {}\n",
    "eurusd, pair_order['EURUSD'], pair_action['EURUSD'] = initial_bars(pair='EURUSD')\n",
    "gbpusd, pair_order['GBPUSD'], pair_action['GBPUSD'] = initial_bars(pair='GBPUSD')\n",
    "usdjpy, pair_order['USDJPY'], pair_action['USDJPY'] = initial_bars(pair='USDJPY')"
   ]
  },
  {
   "cell_type": "code",
   "execution_count": 79,
   "id": "01413e06",
   "metadata": {},
   "outputs": [
    {
     "data": {
      "text/plain": [
       "Every 900 seconds do get_all_realtime() (last run: [never], next run: 2022-02-03 19:42:38)"
      ]
     },
     "execution_count": 79,
     "metadata": {},
     "output_type": "execute_result"
    }
   ],
   "source": [
    "def get_all_realtime():\n",
    "    get_realtime(df=gbpusd, pair='GBPUSD', order=pair_order, current_action=pair_action, \\\n",
    "                 rsi_len=20, atr_len=10, overbought=70, oversold=30) # rr 1:1   10 pip=0.001\n",
    "    \n",
    "    get_realtime(df=usdjpy, pair='USDJPY', order=pair_order, current_action=pair_action, \\\n",
    "                 rsi_len=12, atr_len=17, overbought=73, oversold=27) # rr 1:1.1 10 pip=0.1\n",
    "    \n",
    "    get_realtime(df=eurusd, pair='EURUSD', order=pair_order, current_action=pair_action, \\\n",
    "                 rsi_len=10, atr_len=15, overbought=76, oversold=24) # rr 1:1   10 pip=0.001\n",
    "    \n",
    "schedule.every(60 * 15).seconds.do(get_all_realtime) "
   ]
  },
  {
   "cell_type": "code",
   "execution_count": 80,
   "id": "31277b27",
   "metadata": {},
   "outputs": [
    {
     "ename": "JSONDecodeError",
     "evalue": "Expecting value: line 1 column 1 (char 0)",
     "output_type": "error",
     "traceback": [
      "\u001b[1;31m---------------------------------------------------------------------------\u001b[0m",
      "\u001b[1;31mJSONDecodeError\u001b[0m                           Traceback (most recent call last)",
      "\u001b[1;32m<ipython-input-80-2d78333a8181>\u001b[0m in \u001b[0;36m<module>\u001b[1;34m\u001b[0m\n\u001b[0;32m      1\u001b[0m \u001b[1;32mwhile\u001b[0m \u001b[1;32mTrue\u001b[0m\u001b[1;33m:\u001b[0m\u001b[1;33m\u001b[0m\u001b[1;33m\u001b[0m\u001b[0m\n\u001b[1;32m----> 2\u001b[1;33m     \u001b[0mschedule\u001b[0m\u001b[1;33m.\u001b[0m\u001b[0mrun_pending\u001b[0m\u001b[1;33m(\u001b[0m\u001b[1;33m)\u001b[0m\u001b[1;33m\u001b[0m\u001b[1;33m\u001b[0m\u001b[0m\n\u001b[0m\u001b[0;32m      3\u001b[0m     \u001b[0mtime\u001b[0m\u001b[1;33m.\u001b[0m\u001b[0msleep\u001b[0m\u001b[1;33m(\u001b[0m\u001b[1;36m1\u001b[0m\u001b[1;33m)\u001b[0m\u001b[1;33m\u001b[0m\u001b[1;33m\u001b[0m\u001b[0m\n",
      "\u001b[1;32m~\\anaconda3\\lib\\site-packages\\schedule\\__init__.py\u001b[0m in \u001b[0;36mrun_pending\u001b[1;34m()\u001b[0m\n\u001b[0;32m    778\u001b[0m     \u001b[1;33m:\u001b[0m\u001b[0mdata\u001b[0m\u001b[1;33m:\u001b[0m\u001b[0;31m`\u001b[0m\u001b[0mdefault\u001b[0m \u001b[0mscheduler\u001b[0m \u001b[0minstance\u001b[0m \u001b[1;33m<\u001b[0m\u001b[0mdefault_scheduler\u001b[0m\u001b[1;33m>\u001b[0m\u001b[0;31m`\u001b[0m\u001b[1;33m.\u001b[0m\u001b[1;33m\u001b[0m\u001b[1;33m\u001b[0m\u001b[0m\n\u001b[0;32m    779\u001b[0m     \"\"\"\n\u001b[1;32m--> 780\u001b[1;33m     \u001b[0mdefault_scheduler\u001b[0m\u001b[1;33m.\u001b[0m\u001b[0mrun_pending\u001b[0m\u001b[1;33m(\u001b[0m\u001b[1;33m)\u001b[0m\u001b[1;33m\u001b[0m\u001b[1;33m\u001b[0m\u001b[0m\n\u001b[0m\u001b[0;32m    781\u001b[0m \u001b[1;33m\u001b[0m\u001b[0m\n\u001b[0;32m    782\u001b[0m \u001b[1;33m\u001b[0m\u001b[0m\n",
      "\u001b[1;32m~\\anaconda3\\lib\\site-packages\\schedule\\__init__.py\u001b[0m in \u001b[0;36mrun_pending\u001b[1;34m(self)\u001b[0m\n\u001b[0;32m     98\u001b[0m         \u001b[0mrunnable_jobs\u001b[0m \u001b[1;33m=\u001b[0m \u001b[1;33m(\u001b[0m\u001b[0mjob\u001b[0m \u001b[1;32mfor\u001b[0m \u001b[0mjob\u001b[0m \u001b[1;32min\u001b[0m \u001b[0mself\u001b[0m\u001b[1;33m.\u001b[0m\u001b[0mjobs\u001b[0m \u001b[1;32mif\u001b[0m \u001b[0mjob\u001b[0m\u001b[1;33m.\u001b[0m\u001b[0mshould_run\u001b[0m\u001b[1;33m)\u001b[0m\u001b[1;33m\u001b[0m\u001b[1;33m\u001b[0m\u001b[0m\n\u001b[0;32m     99\u001b[0m         \u001b[1;32mfor\u001b[0m \u001b[0mjob\u001b[0m \u001b[1;32min\u001b[0m \u001b[0msorted\u001b[0m\u001b[1;33m(\u001b[0m\u001b[0mrunnable_jobs\u001b[0m\u001b[1;33m)\u001b[0m\u001b[1;33m:\u001b[0m\u001b[1;33m\u001b[0m\u001b[1;33m\u001b[0m\u001b[0m\n\u001b[1;32m--> 100\u001b[1;33m             \u001b[0mself\u001b[0m\u001b[1;33m.\u001b[0m\u001b[0m_run_job\u001b[0m\u001b[1;33m(\u001b[0m\u001b[0mjob\u001b[0m\u001b[1;33m)\u001b[0m\u001b[1;33m\u001b[0m\u001b[1;33m\u001b[0m\u001b[0m\n\u001b[0m\u001b[0;32m    101\u001b[0m \u001b[1;33m\u001b[0m\u001b[0m\n\u001b[0;32m    102\u001b[0m     \u001b[1;32mdef\u001b[0m \u001b[0mrun_all\u001b[0m\u001b[1;33m(\u001b[0m\u001b[0mself\u001b[0m\u001b[1;33m,\u001b[0m \u001b[0mdelay_seconds\u001b[0m\u001b[1;33m:\u001b[0m \u001b[0mint\u001b[0m \u001b[1;33m=\u001b[0m \u001b[1;36m0\u001b[0m\u001b[1;33m)\u001b[0m \u001b[1;33m->\u001b[0m \u001b[1;32mNone\u001b[0m\u001b[1;33m:\u001b[0m\u001b[1;33m\u001b[0m\u001b[1;33m\u001b[0m\u001b[0m\n",
      "\u001b[1;32m~\\anaconda3\\lib\\site-packages\\schedule\\__init__.py\u001b[0m in \u001b[0;36m_run_job\u001b[1;34m(self, job)\u001b[0m\n\u001b[0;32m    170\u001b[0m \u001b[1;33m\u001b[0m\u001b[0m\n\u001b[0;32m    171\u001b[0m     \u001b[1;32mdef\u001b[0m \u001b[0m_run_job\u001b[0m\u001b[1;33m(\u001b[0m\u001b[0mself\u001b[0m\u001b[1;33m,\u001b[0m \u001b[0mjob\u001b[0m\u001b[1;33m:\u001b[0m \u001b[1;34m\"Job\"\u001b[0m\u001b[1;33m)\u001b[0m \u001b[1;33m->\u001b[0m \u001b[1;32mNone\u001b[0m\u001b[1;33m:\u001b[0m\u001b[1;33m\u001b[0m\u001b[1;33m\u001b[0m\u001b[0m\n\u001b[1;32m--> 172\u001b[1;33m         \u001b[0mret\u001b[0m \u001b[1;33m=\u001b[0m \u001b[0mjob\u001b[0m\u001b[1;33m.\u001b[0m\u001b[0mrun\u001b[0m\u001b[1;33m(\u001b[0m\u001b[1;33m)\u001b[0m\u001b[1;33m\u001b[0m\u001b[1;33m\u001b[0m\u001b[0m\n\u001b[0m\u001b[0;32m    173\u001b[0m         \u001b[1;32mif\u001b[0m \u001b[0misinstance\u001b[0m\u001b[1;33m(\u001b[0m\u001b[0mret\u001b[0m\u001b[1;33m,\u001b[0m \u001b[0mCancelJob\u001b[0m\u001b[1;33m)\u001b[0m \u001b[1;32mor\u001b[0m \u001b[0mret\u001b[0m \u001b[1;32mis\u001b[0m \u001b[0mCancelJob\u001b[0m\u001b[1;33m:\u001b[0m\u001b[1;33m\u001b[0m\u001b[1;33m\u001b[0m\u001b[0m\n\u001b[0;32m    174\u001b[0m             \u001b[0mself\u001b[0m\u001b[1;33m.\u001b[0m\u001b[0mcancel_job\u001b[0m\u001b[1;33m(\u001b[0m\u001b[0mjob\u001b[0m\u001b[1;33m)\u001b[0m\u001b[1;33m\u001b[0m\u001b[1;33m\u001b[0m\u001b[0m\n",
      "\u001b[1;32m~\\anaconda3\\lib\\site-packages\\schedule\\__init__.py\u001b[0m in \u001b[0;36mrun\u001b[1;34m(self)\u001b[0m\n\u001b[0;32m    659\u001b[0m \u001b[1;33m\u001b[0m\u001b[0m\n\u001b[0;32m    660\u001b[0m         \u001b[0mlogger\u001b[0m\u001b[1;33m.\u001b[0m\u001b[0mdebug\u001b[0m\u001b[1;33m(\u001b[0m\u001b[1;34m\"Running job %s\"\u001b[0m\u001b[1;33m,\u001b[0m \u001b[0mself\u001b[0m\u001b[1;33m)\u001b[0m\u001b[1;33m\u001b[0m\u001b[1;33m\u001b[0m\u001b[0m\n\u001b[1;32m--> 661\u001b[1;33m         \u001b[0mret\u001b[0m \u001b[1;33m=\u001b[0m \u001b[0mself\u001b[0m\u001b[1;33m.\u001b[0m\u001b[0mjob_func\u001b[0m\u001b[1;33m(\u001b[0m\u001b[1;33m)\u001b[0m\u001b[1;33m\u001b[0m\u001b[1;33m\u001b[0m\u001b[0m\n\u001b[0m\u001b[0;32m    662\u001b[0m         \u001b[0mself\u001b[0m\u001b[1;33m.\u001b[0m\u001b[0mlast_run\u001b[0m \u001b[1;33m=\u001b[0m \u001b[0mdatetime\u001b[0m\u001b[1;33m.\u001b[0m\u001b[0mdatetime\u001b[0m\u001b[1;33m.\u001b[0m\u001b[0mnow\u001b[0m\u001b[1;33m(\u001b[0m\u001b[1;33m)\u001b[0m\u001b[1;33m\u001b[0m\u001b[1;33m\u001b[0m\u001b[0m\n\u001b[0;32m    663\u001b[0m         \u001b[0mself\u001b[0m\u001b[1;33m.\u001b[0m\u001b[0m_schedule_next_run\u001b[0m\u001b[1;33m(\u001b[0m\u001b[1;33m)\u001b[0m\u001b[1;33m\u001b[0m\u001b[1;33m\u001b[0m\u001b[0m\n",
      "\u001b[1;32m<ipython-input-76-fa8c49e0a2c5>\u001b[0m in \u001b[0;36mget_all_realtime\u001b[1;34m()\u001b[0m\n\u001b[0;32m      1\u001b[0m \u001b[1;32mdef\u001b[0m \u001b[0mget_all_realtime\u001b[0m\u001b[1;33m(\u001b[0m\u001b[1;33m)\u001b[0m\u001b[1;33m:\u001b[0m\u001b[1;33m\u001b[0m\u001b[1;33m\u001b[0m\u001b[0m\n\u001b[1;32m----> 2\u001b[1;33m     get_realtime(df=gbpusd, pair='GBPUSD', order=pair_order, current_action=pair_action, \\\n\u001b[0m\u001b[0;32m      3\u001b[0m                  rsi_len=20, atr_len=10, overbought=70, oversold=30) # rr 1:1   10 pip=0.001\n\u001b[0;32m      4\u001b[0m \u001b[1;33m\u001b[0m\u001b[0m\n\u001b[0;32m      5\u001b[0m     get_realtime(df=usdjpy, pair='USDJPY', order=pair_order, current_action=pair_action, \\\n",
      "\u001b[1;32m<ipython-input-74-b620c5c04a3c>\u001b[0m in \u001b[0;36mget_realtime\u001b[1;34m(df, order, current_action, pair, tf, ema_len, rsi_len, atr_len, strategy, overbought, oversold, rr, pip_value)\u001b[0m\n\u001b[0;32m      2\u001b[0m                  strategy=None, overbought=70, oversold=30, rr=1.5, pip_value=0.0001):\n\u001b[0;32m      3\u001b[0m \u001b[1;33m\u001b[0m\u001b[0m\n\u001b[1;32m----> 4\u001b[1;33m     \u001b[0mbars\u001b[0m\u001b[1;33m,\u001b[0m \u001b[0m_\u001b[0m \u001b[1;33m=\u001b[0m \u001b[0mts\u001b[0m\u001b[1;33m.\u001b[0m\u001b[0mget_intraday\u001b[0m\u001b[1;33m(\u001b[0m\u001b[0msymbol\u001b[0m\u001b[1;33m=\u001b[0m\u001b[0mpair\u001b[0m\u001b[1;33m,\u001b[0m\u001b[0minterval\u001b[0m\u001b[1;33m=\u001b[0m\u001b[0mtf\u001b[0m\u001b[1;33m,\u001b[0m \u001b[0moutputsize\u001b[0m\u001b[1;33m=\u001b[0m\u001b[1;34m'compact'\u001b[0m\u001b[1;33m)\u001b[0m\u001b[1;33m\u001b[0m\u001b[1;33m\u001b[0m\u001b[0m\n\u001b[0m\u001b[0;32m      5\u001b[0m     incoming_df = pd.DataFrame({\n\u001b[0;32m      6\u001b[0m         \u001b[1;34m'timestamp'\u001b[0m\u001b[1;33m:\u001b[0m \u001b[0mbars\u001b[0m\u001b[1;33m.\u001b[0m\u001b[0mindex\u001b[0m\u001b[1;33m,\u001b[0m\u001b[1;33m\u001b[0m\u001b[1;33m\u001b[0m\u001b[0m\n",
      "\u001b[1;32m~\\anaconda3\\lib\\site-packages\\alpha_vantage\\alphavantage.py\u001b[0m in \u001b[0;36m_format_wrapper\u001b[1;34m(self, *args, **kwargs)\u001b[0m\n\u001b[0;32m    216\u001b[0m         \u001b[1;33m@\u001b[0m\u001b[0mwraps\u001b[0m\u001b[1;33m(\u001b[0m\u001b[0mfunc\u001b[0m\u001b[1;33m)\u001b[0m\u001b[1;33m\u001b[0m\u001b[1;33m\u001b[0m\u001b[0m\n\u001b[0;32m    217\u001b[0m         \u001b[1;32mdef\u001b[0m \u001b[0m_format_wrapper\u001b[0m\u001b[1;33m(\u001b[0m\u001b[0mself\u001b[0m\u001b[1;33m,\u001b[0m \u001b[1;33m*\u001b[0m\u001b[0margs\u001b[0m\u001b[1;33m,\u001b[0m \u001b[1;33m**\u001b[0m\u001b[0mkwargs\u001b[0m\u001b[1;33m)\u001b[0m\u001b[1;33m:\u001b[0m\u001b[1;33m\u001b[0m\u001b[1;33m\u001b[0m\u001b[0m\n\u001b[1;32m--> 218\u001b[1;33m             call_response, data_key, meta_data_key = func(\n\u001b[0m\u001b[0;32m    219\u001b[0m                 self, *args, **kwargs)\n\u001b[0;32m    220\u001b[0m             \u001b[1;32mif\u001b[0m \u001b[1;34m'json'\u001b[0m \u001b[1;32min\u001b[0m \u001b[0mself\u001b[0m\u001b[1;33m.\u001b[0m\u001b[0moutput_format\u001b[0m\u001b[1;33m.\u001b[0m\u001b[0mlower\u001b[0m\u001b[1;33m(\u001b[0m\u001b[1;33m)\u001b[0m \u001b[1;32mor\u001b[0m \u001b[1;34m'pandas'\u001b[0m\u001b[0;31m \u001b[0m\u001b[0;31m\\\u001b[0m\u001b[1;33m\u001b[0m\u001b[1;33m\u001b[0m\u001b[0m\n",
      "\u001b[1;32m~\\anaconda3\\lib\\site-packages\\alpha_vantage\\alphavantage.py\u001b[0m in \u001b[0;36m_call_wrapper\u001b[1;34m(self, *args, **kwargs)\u001b[0m\n\u001b[0;32m    158\u001b[0m             \u001b[1;32melse\u001b[0m\u001b[1;33m:\u001b[0m\u001b[1;33m\u001b[0m\u001b[1;33m\u001b[0m\u001b[0m\n\u001b[0;32m    159\u001b[0m                 \u001b[0murl\u001b[0m \u001b[1;33m=\u001b[0m \u001b[1;34m'{}{}'\u001b[0m\u001b[1;33m.\u001b[0m\u001b[0mformat\u001b[0m\u001b[1;33m(\u001b[0m\u001b[0murl\u001b[0m\u001b[1;33m,\u001b[0m \u001b[0mapikey_parameter\u001b[0m\u001b[1;33m)\u001b[0m\u001b[1;33m\u001b[0m\u001b[1;33m\u001b[0m\u001b[0m\n\u001b[1;32m--> 160\u001b[1;33m             \u001b[1;32mreturn\u001b[0m \u001b[0mself\u001b[0m\u001b[1;33m.\u001b[0m\u001b[0m_handle_api_call\u001b[0m\u001b[1;33m(\u001b[0m\u001b[0murl\u001b[0m\u001b[1;33m)\u001b[0m\u001b[1;33m,\u001b[0m \u001b[0mdata_key\u001b[0m\u001b[1;33m,\u001b[0m \u001b[0mmeta_data_key\u001b[0m\u001b[1;33m\u001b[0m\u001b[1;33m\u001b[0m\u001b[0m\n\u001b[0m\u001b[0;32m    161\u001b[0m         \u001b[1;32mreturn\u001b[0m \u001b[0m_call_wrapper\u001b[0m\u001b[1;33m\u001b[0m\u001b[1;33m\u001b[0m\u001b[0m\n\u001b[0;32m    162\u001b[0m \u001b[1;33m\u001b[0m\u001b[0m\n",
      "\u001b[1;32m~\\anaconda3\\lib\\site-packages\\alpha_vantage\\alphavantage.py\u001b[0m in \u001b[0;36m_handle_api_call\u001b[1;34m(self, url)\u001b[0m\n\u001b[0;32m    352\u001b[0m         \u001b[1;32mif\u001b[0m \u001b[1;34m'json'\u001b[0m \u001b[1;32min\u001b[0m \u001b[0mself\u001b[0m\u001b[1;33m.\u001b[0m\u001b[0moutput_format\u001b[0m\u001b[1;33m.\u001b[0m\u001b[0mlower\u001b[0m\u001b[1;33m(\u001b[0m\u001b[1;33m)\u001b[0m \u001b[1;32mor\u001b[0m \u001b[1;34m'pandas'\u001b[0m \u001b[1;32min\u001b[0m\u001b[0;31m \u001b[0m\u001b[0;31m\\\u001b[0m\u001b[1;33m\u001b[0m\u001b[1;33m\u001b[0m\u001b[0m\n\u001b[0;32m    353\u001b[0m                 \u001b[0mself\u001b[0m\u001b[1;33m.\u001b[0m\u001b[0moutput_format\u001b[0m\u001b[1;33m.\u001b[0m\u001b[0mlower\u001b[0m\u001b[1;33m(\u001b[0m\u001b[1;33m)\u001b[0m\u001b[1;33m:\u001b[0m\u001b[1;33m\u001b[0m\u001b[1;33m\u001b[0m\u001b[0m\n\u001b[1;32m--> 354\u001b[1;33m             \u001b[0mjson_response\u001b[0m \u001b[1;33m=\u001b[0m \u001b[0mresponse\u001b[0m\u001b[1;33m.\u001b[0m\u001b[0mjson\u001b[0m\u001b[1;33m(\u001b[0m\u001b[1;33m)\u001b[0m\u001b[1;33m\u001b[0m\u001b[1;33m\u001b[0m\u001b[0m\n\u001b[0m\u001b[0;32m    355\u001b[0m             \u001b[1;32mif\u001b[0m \u001b[1;32mnot\u001b[0m \u001b[0mjson_response\u001b[0m\u001b[1;33m:\u001b[0m\u001b[1;33m\u001b[0m\u001b[1;33m\u001b[0m\u001b[0m\n\u001b[0;32m    356\u001b[0m                 raise ValueError(\n",
      "\u001b[1;32m~\\anaconda3\\lib\\site-packages\\requests\\models.py\u001b[0m in \u001b[0;36mjson\u001b[1;34m(self, **kwargs)\u001b[0m\n\u001b[0;32m    898\u001b[0m                     \u001b[1;31m# used.\u001b[0m\u001b[1;33m\u001b[0m\u001b[1;33m\u001b[0m\u001b[1;33m\u001b[0m\u001b[0m\n\u001b[0;32m    899\u001b[0m                     \u001b[1;32mpass\u001b[0m\u001b[1;33m\u001b[0m\u001b[1;33m\u001b[0m\u001b[0m\n\u001b[1;32m--> 900\u001b[1;33m         \u001b[1;32mreturn\u001b[0m \u001b[0mcomplexjson\u001b[0m\u001b[1;33m.\u001b[0m\u001b[0mloads\u001b[0m\u001b[1;33m(\u001b[0m\u001b[0mself\u001b[0m\u001b[1;33m.\u001b[0m\u001b[0mtext\u001b[0m\u001b[1;33m,\u001b[0m \u001b[1;33m**\u001b[0m\u001b[0mkwargs\u001b[0m\u001b[1;33m)\u001b[0m\u001b[1;33m\u001b[0m\u001b[1;33m\u001b[0m\u001b[0m\n\u001b[0m\u001b[0;32m    901\u001b[0m \u001b[1;33m\u001b[0m\u001b[0m\n\u001b[0;32m    902\u001b[0m     \u001b[1;33m@\u001b[0m\u001b[0mproperty\u001b[0m\u001b[1;33m\u001b[0m\u001b[1;33m\u001b[0m\u001b[0m\n",
      "\u001b[1;32m~\\anaconda3\\lib\\json\\__init__.py\u001b[0m in \u001b[0;36mloads\u001b[1;34m(s, cls, object_hook, parse_float, parse_int, parse_constant, object_pairs_hook, **kw)\u001b[0m\n\u001b[0;32m    355\u001b[0m             \u001b[0mparse_int\u001b[0m \u001b[1;32mis\u001b[0m \u001b[1;32mNone\u001b[0m \u001b[1;32mand\u001b[0m \u001b[0mparse_float\u001b[0m \u001b[1;32mis\u001b[0m \u001b[1;32mNone\u001b[0m \u001b[1;32mand\u001b[0m\u001b[1;33m\u001b[0m\u001b[1;33m\u001b[0m\u001b[0m\n\u001b[0;32m    356\u001b[0m             parse_constant is None and object_pairs_hook is None and not kw):\n\u001b[1;32m--> 357\u001b[1;33m         \u001b[1;32mreturn\u001b[0m \u001b[0m_default_decoder\u001b[0m\u001b[1;33m.\u001b[0m\u001b[0mdecode\u001b[0m\u001b[1;33m(\u001b[0m\u001b[0ms\u001b[0m\u001b[1;33m)\u001b[0m\u001b[1;33m\u001b[0m\u001b[1;33m\u001b[0m\u001b[0m\n\u001b[0m\u001b[0;32m    358\u001b[0m     \u001b[1;32mif\u001b[0m \u001b[0mcls\u001b[0m \u001b[1;32mis\u001b[0m \u001b[1;32mNone\u001b[0m\u001b[1;33m:\u001b[0m\u001b[1;33m\u001b[0m\u001b[1;33m\u001b[0m\u001b[0m\n\u001b[0;32m    359\u001b[0m         \u001b[0mcls\u001b[0m \u001b[1;33m=\u001b[0m \u001b[0mJSONDecoder\u001b[0m\u001b[1;33m\u001b[0m\u001b[1;33m\u001b[0m\u001b[0m\n",
      "\u001b[1;32m~\\anaconda3\\lib\\json\\decoder.py\u001b[0m in \u001b[0;36mdecode\u001b[1;34m(self, s, _w)\u001b[0m\n\u001b[0;32m    335\u001b[0m \u001b[1;33m\u001b[0m\u001b[0m\n\u001b[0;32m    336\u001b[0m         \"\"\"\n\u001b[1;32m--> 337\u001b[1;33m         \u001b[0mobj\u001b[0m\u001b[1;33m,\u001b[0m \u001b[0mend\u001b[0m \u001b[1;33m=\u001b[0m \u001b[0mself\u001b[0m\u001b[1;33m.\u001b[0m\u001b[0mraw_decode\u001b[0m\u001b[1;33m(\u001b[0m\u001b[0ms\u001b[0m\u001b[1;33m,\u001b[0m \u001b[0midx\u001b[0m\u001b[1;33m=\u001b[0m\u001b[0m_w\u001b[0m\u001b[1;33m(\u001b[0m\u001b[0ms\u001b[0m\u001b[1;33m,\u001b[0m \u001b[1;36m0\u001b[0m\u001b[1;33m)\u001b[0m\u001b[1;33m.\u001b[0m\u001b[0mend\u001b[0m\u001b[1;33m(\u001b[0m\u001b[1;33m)\u001b[0m\u001b[1;33m)\u001b[0m\u001b[1;33m\u001b[0m\u001b[1;33m\u001b[0m\u001b[0m\n\u001b[0m\u001b[0;32m    338\u001b[0m         \u001b[0mend\u001b[0m \u001b[1;33m=\u001b[0m \u001b[0m_w\u001b[0m\u001b[1;33m(\u001b[0m\u001b[0ms\u001b[0m\u001b[1;33m,\u001b[0m \u001b[0mend\u001b[0m\u001b[1;33m)\u001b[0m\u001b[1;33m.\u001b[0m\u001b[0mend\u001b[0m\u001b[1;33m(\u001b[0m\u001b[1;33m)\u001b[0m\u001b[1;33m\u001b[0m\u001b[1;33m\u001b[0m\u001b[0m\n\u001b[0;32m    339\u001b[0m         \u001b[1;32mif\u001b[0m \u001b[0mend\u001b[0m \u001b[1;33m!=\u001b[0m \u001b[0mlen\u001b[0m\u001b[1;33m(\u001b[0m\u001b[0ms\u001b[0m\u001b[1;33m)\u001b[0m\u001b[1;33m:\u001b[0m\u001b[1;33m\u001b[0m\u001b[1;33m\u001b[0m\u001b[0m\n",
      "\u001b[1;32m~\\anaconda3\\lib\\json\\decoder.py\u001b[0m in \u001b[0;36mraw_decode\u001b[1;34m(self, s, idx)\u001b[0m\n\u001b[0;32m    353\u001b[0m             \u001b[0mobj\u001b[0m\u001b[1;33m,\u001b[0m \u001b[0mend\u001b[0m \u001b[1;33m=\u001b[0m \u001b[0mself\u001b[0m\u001b[1;33m.\u001b[0m\u001b[0mscan_once\u001b[0m\u001b[1;33m(\u001b[0m\u001b[0ms\u001b[0m\u001b[1;33m,\u001b[0m \u001b[0midx\u001b[0m\u001b[1;33m)\u001b[0m\u001b[1;33m\u001b[0m\u001b[1;33m\u001b[0m\u001b[0m\n\u001b[0;32m    354\u001b[0m         \u001b[1;32mexcept\u001b[0m \u001b[0mStopIteration\u001b[0m \u001b[1;32mas\u001b[0m \u001b[0merr\u001b[0m\u001b[1;33m:\u001b[0m\u001b[1;33m\u001b[0m\u001b[1;33m\u001b[0m\u001b[0m\n\u001b[1;32m--> 355\u001b[1;33m             \u001b[1;32mraise\u001b[0m \u001b[0mJSONDecodeError\u001b[0m\u001b[1;33m(\u001b[0m\u001b[1;34m\"Expecting value\"\u001b[0m\u001b[1;33m,\u001b[0m \u001b[0ms\u001b[0m\u001b[1;33m,\u001b[0m \u001b[0merr\u001b[0m\u001b[1;33m.\u001b[0m\u001b[0mvalue\u001b[0m\u001b[1;33m)\u001b[0m \u001b[1;32mfrom\u001b[0m \u001b[1;32mNone\u001b[0m\u001b[1;33m\u001b[0m\u001b[1;33m\u001b[0m\u001b[0m\n\u001b[0m\u001b[0;32m    356\u001b[0m         \u001b[1;32mreturn\u001b[0m \u001b[0mobj\u001b[0m\u001b[1;33m,\u001b[0m \u001b[0mend\u001b[0m\u001b[1;33m\u001b[0m\u001b[1;33m\u001b[0m\u001b[0m\n",
      "\u001b[1;31mJSONDecodeError\u001b[0m: Expecting value: line 1 column 1 (char 0)"
     ]
    }
   ],
   "source": [
    "while True:\n",
    "    schedule.run_pending()\n",
    "    time.sleep(1)"
   ]
  },
  {
   "cell_type": "markdown",
   "id": "9db6805f",
   "metadata": {},
   "source": [
    "### === test code below ==="
   ]
  },
  {
   "cell_type": "code",
   "execution_count": 6,
   "id": "bbbf4944",
   "metadata": {},
   "outputs": [],
   "source": [
    "data, _ = cc.get_currency_exchange_rate(from_currency='EUR',to_currency='USD')\n",
    "ts = TimeSeries(key=API_KEYS, output_format='pandas')"
   ]
  },
  {
   "cell_type": "code",
   "execution_count": 7,
   "id": "980a2fcf",
   "metadata": {},
   "outputs": [
    {
     "data": {
      "text/plain": [
       "{'1. From_Currency Code': 'EUR',\n",
       " '2. From_Currency Name': 'Euro',\n",
       " '3. To_Currency Code': 'USD',\n",
       " '4. To_Currency Name': 'United States Dollar',\n",
       " '5. Exchange Rate': '1.12397430',\n",
       " '6. Last Refreshed': '2022-02-01 06:43:01',\n",
       " '7. Time Zone': 'UTC',\n",
       " '8. Bid Price': '1.12397430',\n",
       " '9. Ask Price': '1.12397430'}"
      ]
     },
     "execution_count": 7,
     "metadata": {},
     "output_type": "execute_result"
    }
   ],
   "source": [
    "data"
   ]
  },
  {
   "cell_type": "code",
   "execution_count": 8,
   "id": "1a416796",
   "metadata": {},
   "outputs": [
    {
     "data": {
      "text/html": [
       "<div>\n",
       "<style scoped>\n",
       "    .dataframe tbody tr th:only-of-type {\n",
       "        vertical-align: middle;\n",
       "    }\n",
       "\n",
       "    .dataframe tbody tr th {\n",
       "        vertical-align: top;\n",
       "    }\n",
       "\n",
       "    .dataframe thead th {\n",
       "        text-align: right;\n",
       "    }\n",
       "</style>\n",
       "<table border=\"1\" class=\"dataframe\">\n",
       "  <thead>\n",
       "    <tr style=\"text-align: right;\">\n",
       "      <th></th>\n",
       "      <th>1. open</th>\n",
       "      <th>2. high</th>\n",
       "      <th>3. low</th>\n",
       "      <th>4. close</th>\n",
       "      <th>5. volume</th>\n",
       "    </tr>\n",
       "    <tr>\n",
       "      <th>date</th>\n",
       "      <th></th>\n",
       "      <th></th>\n",
       "      <th></th>\n",
       "      <th></th>\n",
       "      <th></th>\n",
       "    </tr>\n",
       "  </thead>\n",
       "  <tbody>\n",
       "    <tr>\n",
       "      <th>2022-02-01 02:00:00</th>\n",
       "      <td>1.1238</td>\n",
       "      <td>1.1239</td>\n",
       "      <td>1.1234</td>\n",
       "      <td>1.1235</td>\n",
       "      <td>0.0</td>\n",
       "    </tr>\n",
       "    <tr>\n",
       "      <th>2022-02-01 01:30:00</th>\n",
       "      <td>1.1240</td>\n",
       "      <td>1.1243</td>\n",
       "      <td>1.1233</td>\n",
       "      <td>1.1238</td>\n",
       "      <td>0.0</td>\n",
       "    </tr>\n",
       "    <tr>\n",
       "      <th>2022-02-01 01:00:00</th>\n",
       "      <td>1.1243</td>\n",
       "      <td>1.1245</td>\n",
       "      <td>1.1237</td>\n",
       "      <td>1.1240</td>\n",
       "      <td>0.0</td>\n",
       "    </tr>\n",
       "    <tr>\n",
       "      <th>2022-02-01 00:30:00</th>\n",
       "      <td>1.1243</td>\n",
       "      <td>1.1245</td>\n",
       "      <td>1.1239</td>\n",
       "      <td>1.1243</td>\n",
       "      <td>0.0</td>\n",
       "    </tr>\n",
       "    <tr>\n",
       "      <th>2022-02-01 00:00:00</th>\n",
       "      <td>1.1238</td>\n",
       "      <td>1.1245</td>\n",
       "      <td>1.1235</td>\n",
       "      <td>1.1243</td>\n",
       "      <td>0.0</td>\n",
       "    </tr>\n",
       "    <tr>\n",
       "      <th>...</th>\n",
       "      <td>...</td>\n",
       "      <td>...</td>\n",
       "      <td>...</td>\n",
       "      <td>...</td>\n",
       "      <td>...</td>\n",
       "    </tr>\n",
       "    <tr>\n",
       "      <th>2022-01-28 02:00:00</th>\n",
       "      <td>1.1150</td>\n",
       "      <td>1.1155</td>\n",
       "      <td>1.1145</td>\n",
       "      <td>1.1147</td>\n",
       "      <td>0.0</td>\n",
       "    </tr>\n",
       "    <tr>\n",
       "      <th>2022-01-28 01:30:00</th>\n",
       "      <td>1.1154</td>\n",
       "      <td>1.1155</td>\n",
       "      <td>1.1148</td>\n",
       "      <td>1.1149</td>\n",
       "      <td>0.0</td>\n",
       "    </tr>\n",
       "    <tr>\n",
       "      <th>2022-01-28 01:00:00</th>\n",
       "      <td>1.1153</td>\n",
       "      <td>1.1155</td>\n",
       "      <td>1.1148</td>\n",
       "      <td>1.1154</td>\n",
       "      <td>0.0</td>\n",
       "    </tr>\n",
       "    <tr>\n",
       "      <th>2022-01-28 00:30:00</th>\n",
       "      <td>1.1152</td>\n",
       "      <td>1.1154</td>\n",
       "      <td>1.1148</td>\n",
       "      <td>1.1153</td>\n",
       "      <td>0.0</td>\n",
       "    </tr>\n",
       "    <tr>\n",
       "      <th>2022-01-28 00:00:00</th>\n",
       "      <td>1.1151</td>\n",
       "      <td>1.1153</td>\n",
       "      <td>1.1147</td>\n",
       "      <td>1.1151</td>\n",
       "      <td>0.0</td>\n",
       "    </tr>\n",
       "  </tbody>\n",
       "</table>\n",
       "<p>100 rows × 5 columns</p>\n",
       "</div>"
      ],
      "text/plain": [
       "                     1. open  2. high  3. low  4. close  5. volume\n",
       "date                                                              \n",
       "2022-02-01 02:00:00   1.1238   1.1239  1.1234    1.1235        0.0\n",
       "2022-02-01 01:30:00   1.1240   1.1243  1.1233    1.1238        0.0\n",
       "2022-02-01 01:00:00   1.1243   1.1245  1.1237    1.1240        0.0\n",
       "2022-02-01 00:30:00   1.1243   1.1245  1.1239    1.1243        0.0\n",
       "2022-02-01 00:00:00   1.1238   1.1245  1.1235    1.1243        0.0\n",
       "...                      ...      ...     ...       ...        ...\n",
       "2022-01-28 02:00:00   1.1150   1.1155  1.1145    1.1147        0.0\n",
       "2022-01-28 01:30:00   1.1154   1.1155  1.1148    1.1149        0.0\n",
       "2022-01-28 01:00:00   1.1153   1.1155  1.1148    1.1154        0.0\n",
       "2022-01-28 00:30:00   1.1152   1.1154  1.1148    1.1153        0.0\n",
       "2022-01-28 00:00:00   1.1151   1.1153  1.1147    1.1151        0.0\n",
       "\n",
       "[100 rows x 5 columns]"
      ]
     },
     "execution_count": 8,
     "metadata": {},
     "output_type": "execute_result"
    }
   ],
   "source": [
    "data_ts,_ = ts.get_intraday(symbol='EURUSD',interval='30min', outputsize='compact')\n",
    "data_ts"
   ]
  },
  {
   "cell_type": "code",
   "execution_count": 49,
   "id": "bd4b7723",
   "metadata": {},
   "outputs": [
    {
     "data": {
      "text/plain": [
       "10"
      ]
     },
     "execution_count": 49,
     "metadata": {},
     "output_type": "execute_result"
    }
   ],
   "source": [
    "t_order = {}\n",
    "p = 'eurusd'\n",
    "t_order['eurusd'] = {'entry': 10, 'action': 'buy'}\n",
    "t_order['gbpusd'] = {'entry': 20, 'action': 'buy'}\n",
    "t_order[p]['entry']"
   ]
  },
  {
   "cell_type": "code",
   "execution_count": null,
   "id": "cd089934",
   "metadata": {},
   "outputs": [],
   "source": [
    "all_jobs = schedule.get_jobs()\n",
    "all_jobs"
   ]
  },
  {
   "cell_type": "code",
   "execution_count": null,
   "id": "8fd23b10",
   "metadata": {},
   "outputs": [],
   "source": []
  }
 ],
 "metadata": {
  "kernelspec": {
   "display_name": "Python 3",
   "language": "python",
   "name": "python3"
  },
  "language_info": {
   "codemirror_mode": {
    "name": "ipython",
    "version": 3
   },
   "file_extension": ".py",
   "mimetype": "text/x-python",
   "name": "python",
   "nbconvert_exporter": "python",
   "pygments_lexer": "ipython3",
   "version": "3.8.8"
  }
 },
 "nbformat": 4,
 "nbformat_minor": 5
}
