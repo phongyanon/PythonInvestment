{
 "cells": [
  {
   "cell_type": "code",
   "execution_count": 1,
   "id": "603bd55b",
   "metadata": {},
   "outputs": [
    {
     "data": {
      "text/plain": [
       "True"
      ]
     },
     "execution_count": 1,
     "metadata": {},
     "output_type": "execute_result"
    }
   ],
   "source": [
    "import os\n",
    "from dotenv import load_dotenv\n",
    "import time\n",
    "from datetime import datetime\n",
    "import schedule\n",
    "import requests\n",
    "\n",
    "import pandas as pd\n",
    "import pandas_ta as ta\n",
    "import numpy as np\n",
    "\n",
    "from alpha_vantage.timeseries import TimeSeries\n",
    "from alpha_vantage.foreignexchange import ForeignExchange\n",
    "load_dotenv()"
   ]
  },
  {
   "cell_type": "code",
   "execution_count": 2,
   "id": "e7146156",
   "metadata": {},
   "outputs": [],
   "source": [
    "API_KEYS = os.getenv('ALPHA_KEYS')\n",
    "cc = ForeignExchange(key=API_KEYS)\n",
    "\n",
    "LINE_TOKEN = os.getenv('LINE_TOKEN')\n",
    "LINE_URL = 'https://notify-api.line.me/api/notify'\n",
    "LINE_HEADERS = {'content-type':'application/x-www-form-urlencoded','Authorization':'Bearer ' + LINE_TOKEN }\n",
    "\n",
    "ts = TimeSeries(key=API_KEYS, output_format='pandas')"
   ]
  },
  {
   "cell_type": "code",
   "execution_count": 3,
   "id": "685d5640",
   "metadata": {},
   "outputs": [],
   "source": [
    "### line alert function\n",
    "def notifyMsg(*msg, url=LINE_URL, headers=LINE_HEADERS):\n",
    "    r = requests.post(url, headers=headers, data={'message': msg[0]})\n",
    "    print(r.text)"
   ]
  },
  {
   "cell_type": "code",
   "execution_count": 4,
   "id": "0e06eb2a",
   "metadata": {},
   "outputs": [],
   "source": [
    "### create technical strategy\n",
    "rsi_o2 = ta.Strategy(\n",
    "    name = 'RSI 14 Days for opposite trade',\n",
    "    description = 'RSI for alert',\n",
    "    ta = [\n",
    "        {'kind': 'ema', 'length': 200},\n",
    "        {'kind': 'rsi', 'length': 14}\n",
    "    ]\n",
    ")"
   ]
  },
  {
   "cell_type": "code",
   "execution_count": 5,
   "id": "eb17a796",
   "metadata": {},
   "outputs": [],
   "source": [
    "def get_realtime(pair='EURUSD', tf='15min', back_bars=3, tp=0.001, sl=0.001):\n",
    "    bars, _ = ts.get_intraday(symbol=pair,interval=tf,  outputsize='full')\n",
    "    df = pd.DataFrame({\n",
    "        'timestamp': bars.index,\n",
    "        'open': bars['1. open'],\n",
    "        'high': bars['2. high'],\n",
    "        'low': bars['3. low'],\n",
    "        'close': bars['4. close'],\n",
    "        'volumn': bars['5. volume']\n",
    "    }) # convert alpha vantage data to use with rsi strategy\n",
    "    \n",
    "    df['timestamp'] = pd.to_datetime(df['timestamp'], unit='ms')\n",
    "    df = df.iloc[::-1] # reverse row\n",
    "    df.reset_index(drop=True, inplace=True)\n",
    "    df.ta.strategy(rsi_o2)\n",
    "    \n",
    "    # loop count latest n bars that rsi < 30 or rsi > 70\n",
    "    sell_point = 0\n",
    "    buy_point = 0\n",
    "    n_bars = back_bars  # number of latest bars to backword lookup\n",
    "    for index, row in df.tail(n_bars).iterrows():\n",
    "        if (row['RSI_14'] < 30 and row['EMA_200'] > row['high']): # rsi < 30 and ema 200 > high price then send sell signal\n",
    "            sell_point = sell_point + 1\n",
    "        elif (row['RSI_14'] > 70 and row['EMA_200'] < row['low']): # if rsi > 70 and ema 200 < low price then send buy signal\n",
    "            buy_point = buy_point + 1\n",
    "    \n",
    "        if buy_point >= n_bars:\n",
    "            notifyMsg(f\"Buy {pair}\\nprice: {str(row['open'])}\\nTP: {str(row['open']+tp)}\\nSL: {str(row['open']-sl)}\")\n",
    "        elif sell_point >= n_bars:\n",
    "            notifyMsg(f\"Sell {pair}\\nprice: {str(row['open'])}\\nTP: {str(row['open']-tp)}\\nSL: {str(row['open']+sl)}\")\n",
    "    \n",
    "# get_realtime()"
   ]
  },
  {
   "cell_type": "code",
   "execution_count": 6,
   "id": "01413e06",
   "metadata": {},
   "outputs": [
    {
     "data": {
      "text/plain": [
       "Every 900 seconds do get_all_realtime() (last run: [never], next run: 2022-01-07 09:37:05)"
      ]
     },
     "execution_count": 6,
     "metadata": {},
     "output_type": "execute_result"
    }
   ],
   "source": [
    "def get_all_realtime():\n",
    "    get_realtime(pair='GBPUSD', back_bars=1)          # rr 1:1   10 pip=0.001\n",
    "    get_realtime(pair='USDJPY', back_bars=1, tp=0.11) # rr 1:1.1 10 pip=0.1\n",
    "    get_realtime(pair='EURUSD', back_bars=1)          # rr 1:1   10 pip=0.001\n",
    "    \n",
    "schedule.every(60 * 15).seconds.do(get_all_realtime) "
   ]
  },
  {
   "cell_type": "code",
   "execution_count": null,
   "id": "31277b27",
   "metadata": {},
   "outputs": [
    {
     "name": "stdout",
     "output_type": "stream",
     "text": [
      "{\"status\":200,\"message\":\"ok\"}\n",
      "{\"status\":200,\"message\":\"ok\"}\n",
      "{\"status\":200,\"message\":\"ok\"}\n",
      "{\"status\":200,\"message\":\"ok\"}\n",
      "{\"status\":200,\"message\":\"ok\"}\n",
      "{\"status\":200,\"message\":\"ok\"}\n"
     ]
    }
   ],
   "source": [
    "while True:\n",
    "    schedule.run_pending()\n",
    "    time.sleep(1)"
   ]
  },
  {
   "cell_type": "markdown",
   "id": "9db6805f",
   "metadata": {},
   "source": [
    "### === test code below ==="
   ]
  },
  {
   "cell_type": "code",
   "execution_count": 3,
   "id": "bbbf4944",
   "metadata": {},
   "outputs": [],
   "source": [
    "data, _ = cc.get_currency_exchange_rate(from_currency='EUR',to_currency='USD')\n",
    "ts = TimeSeries(key=API_KEYS, output_format='pandas')"
   ]
  },
  {
   "cell_type": "code",
   "execution_count": 4,
   "id": "980a2fcf",
   "metadata": {},
   "outputs": [
    {
     "data": {
      "text/plain": [
       "{'1. From_Currency Code': 'EUR',\n",
       " '2. From_Currency Name': 'Euro',\n",
       " '3. To_Currency Code': 'USD',\n",
       " '4. To_Currency Name': 'United States Dollar',\n",
       " '5. Exchange Rate': '1.12876000',\n",
       " '6. Last Refreshed': '2022-01-04 07:13:42',\n",
       " '7. Time Zone': 'UTC',\n",
       " '8. Bid Price': '1.12876000',\n",
       " '9. Ask Price': '1.12876000'}"
      ]
     },
     "execution_count": 4,
     "metadata": {},
     "output_type": "execute_result"
    }
   ],
   "source": [
    "data"
   ]
  },
  {
   "cell_type": "code",
   "execution_count": 5,
   "id": "1a416796",
   "metadata": {},
   "outputs": [
    {
     "data": {
      "text/html": [
       "<div>\n",
       "<style scoped>\n",
       "    .dataframe tbody tr th:only-of-type {\n",
       "        vertical-align: middle;\n",
       "    }\n",
       "\n",
       "    .dataframe tbody tr th {\n",
       "        vertical-align: top;\n",
       "    }\n",
       "\n",
       "    .dataframe thead th {\n",
       "        text-align: right;\n",
       "    }\n",
       "</style>\n",
       "<table border=\"1\" class=\"dataframe\">\n",
       "  <thead>\n",
       "    <tr style=\"text-align: right;\">\n",
       "      <th></th>\n",
       "      <th>1. open</th>\n",
       "      <th>2. high</th>\n",
       "      <th>3. low</th>\n",
       "      <th>4. close</th>\n",
       "      <th>5. volume</th>\n",
       "    </tr>\n",
       "    <tr>\n",
       "      <th>date</th>\n",
       "      <th></th>\n",
       "      <th></th>\n",
       "      <th></th>\n",
       "      <th></th>\n",
       "      <th></th>\n",
       "    </tr>\n",
       "  </thead>\n",
       "  <tbody>\n",
       "    <tr>\n",
       "      <th>2022-01-04 02:30:00</th>\n",
       "      <td>1.1293</td>\n",
       "      <td>1.1295</td>\n",
       "      <td>1.1285</td>\n",
       "      <td>1.1287</td>\n",
       "      <td>0.0</td>\n",
       "    </tr>\n",
       "    <tr>\n",
       "      <th>2022-01-04 02:00:00</th>\n",
       "      <td>1.1295</td>\n",
       "      <td>1.1298</td>\n",
       "      <td>1.1290</td>\n",
       "      <td>1.1293</td>\n",
       "      <td>0.0</td>\n",
       "    </tr>\n",
       "    <tr>\n",
       "      <th>2022-01-04 01:30:00</th>\n",
       "      <td>1.1305</td>\n",
       "      <td>1.1307</td>\n",
       "      <td>1.1292</td>\n",
       "      <td>1.1294</td>\n",
       "      <td>0.0</td>\n",
       "    </tr>\n",
       "    <tr>\n",
       "      <th>2022-01-04 01:00:00</th>\n",
       "      <td>1.1304</td>\n",
       "      <td>1.1305</td>\n",
       "      <td>1.1299</td>\n",
       "      <td>1.1305</td>\n",
       "      <td>0.0</td>\n",
       "    </tr>\n",
       "    <tr>\n",
       "      <th>2022-01-04 00:30:00</th>\n",
       "      <td>1.1301</td>\n",
       "      <td>1.1306</td>\n",
       "      <td>1.1299</td>\n",
       "      <td>1.1304</td>\n",
       "      <td>0.0</td>\n",
       "    </tr>\n",
       "    <tr>\n",
       "      <th>...</th>\n",
       "      <td>...</td>\n",
       "      <td>...</td>\n",
       "      <td>...</td>\n",
       "      <td>...</td>\n",
       "      <td>...</td>\n",
       "    </tr>\n",
       "    <tr>\n",
       "      <th>2021-12-31 02:30:00</th>\n",
       "      <td>1.1316</td>\n",
       "      <td>1.1317</td>\n",
       "      <td>1.1308</td>\n",
       "      <td>1.1313</td>\n",
       "      <td>0.0</td>\n",
       "    </tr>\n",
       "    <tr>\n",
       "      <th>2021-12-31 02:00:00</th>\n",
       "      <td>1.1311</td>\n",
       "      <td>1.1316</td>\n",
       "      <td>1.1308</td>\n",
       "      <td>1.1315</td>\n",
       "      <td>0.0</td>\n",
       "    </tr>\n",
       "    <tr>\n",
       "      <th>2021-12-31 01:30:00</th>\n",
       "      <td>1.1309</td>\n",
       "      <td>1.1313</td>\n",
       "      <td>1.1306</td>\n",
       "      <td>1.1310</td>\n",
       "      <td>0.0</td>\n",
       "    </tr>\n",
       "    <tr>\n",
       "      <th>2021-12-31 01:00:00</th>\n",
       "      <td>1.1324</td>\n",
       "      <td>1.1325</td>\n",
       "      <td>1.1308</td>\n",
       "      <td>1.1311</td>\n",
       "      <td>0.0</td>\n",
       "    </tr>\n",
       "    <tr>\n",
       "      <th>2021-12-31 00:30:00</th>\n",
       "      <td>1.1317</td>\n",
       "      <td>1.1325</td>\n",
       "      <td>1.1316</td>\n",
       "      <td>1.1324</td>\n",
       "      <td>0.0</td>\n",
       "    </tr>\n",
       "  </tbody>\n",
       "</table>\n",
       "<p>100 rows × 5 columns</p>\n",
       "</div>"
      ],
      "text/plain": [
       "                     1. open  2. high  3. low  4. close  5. volume\n",
       "date                                                              \n",
       "2022-01-04 02:30:00   1.1293   1.1295  1.1285    1.1287        0.0\n",
       "2022-01-04 02:00:00   1.1295   1.1298  1.1290    1.1293        0.0\n",
       "2022-01-04 01:30:00   1.1305   1.1307  1.1292    1.1294        0.0\n",
       "2022-01-04 01:00:00   1.1304   1.1305  1.1299    1.1305        0.0\n",
       "2022-01-04 00:30:00   1.1301   1.1306  1.1299    1.1304        0.0\n",
       "...                      ...      ...     ...       ...        ...\n",
       "2021-12-31 02:30:00   1.1316   1.1317  1.1308    1.1313        0.0\n",
       "2021-12-31 02:00:00   1.1311   1.1316  1.1308    1.1315        0.0\n",
       "2021-12-31 01:30:00   1.1309   1.1313  1.1306    1.1310        0.0\n",
       "2021-12-31 01:00:00   1.1324   1.1325  1.1308    1.1311        0.0\n",
       "2021-12-31 00:30:00   1.1317   1.1325  1.1316    1.1324        0.0\n",
       "\n",
       "[100 rows x 5 columns]"
      ]
     },
     "execution_count": 5,
     "metadata": {},
     "output_type": "execute_result"
    }
   ],
   "source": [
    "data_ts,_ = ts.get_intraday(symbol='EURUSD',interval='30min', outputsize='compact')\n",
    "data_ts"
   ]
  },
  {
   "cell_type": "code",
   "execution_count": null,
   "id": "cd089934",
   "metadata": {},
   "outputs": [],
   "source": [
    "all_jobs = schedule.get_jobs()\n",
    "all_jobs"
   ]
  },
  {
   "cell_type": "code",
   "execution_count": null,
   "id": "8fd23b10",
   "metadata": {},
   "outputs": [],
   "source": []
  }
 ],
 "metadata": {
  "kernelspec": {
   "display_name": "Python 3",
   "language": "python",
   "name": "python3"
  },
  "language_info": {
   "codemirror_mode": {
    "name": "ipython",
    "version": 3
   },
   "file_extension": ".py",
   "mimetype": "text/x-python",
   "name": "python",
   "nbconvert_exporter": "python",
   "pygments_lexer": "ipython3",
   "version": "3.8.8"
  }
 },
 "nbformat": 4,
 "nbformat_minor": 5
}
