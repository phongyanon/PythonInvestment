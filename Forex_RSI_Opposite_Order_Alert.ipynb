{
 "cells": [
  {
   "cell_type": "code",
   "execution_count": 62,
   "id": "603bd55b",
   "metadata": {},
   "outputs": [
    {
     "data": {
      "text/plain": [
       "True"
      ]
     },
     "execution_count": 62,
     "metadata": {},
     "output_type": "execute_result"
    }
   ],
   "source": [
    "import os, csv\n",
    "from dotenv import load_dotenv\n",
    "import time\n",
    "from datetime import datetime\n",
    "import schedule\n",
    "import requests\n",
    "\n",
    "import pandas as pd\n",
    "import pandas_ta as ta\n",
    "import numpy as np\n",
    "\n",
    "from alpha_vantage.timeseries import TimeSeries\n",
    "from alpha_vantage.foreignexchange import ForeignExchange\n",
    "load_dotenv()"
   ]
  },
  {
   "cell_type": "code",
   "execution_count": 2,
   "id": "e7146156",
   "metadata": {},
   "outputs": [],
   "source": [
    "API_KEYS = os.getenv('ALPHA_KEYS')\n",
    "cc = ForeignExchange(key=API_KEYS)\n",
    "\n",
    "LINE_TOKEN = os.getenv('LINE_TOKEN')\n",
    "LINE_URL = 'https://notify-api.line.me/api/notify'\n",
    "LINE_HEADERS = {'content-type':'application/x-www-form-urlencoded','Authorization':'Bearer ' + LINE_TOKEN }\n",
    "\n",
    "ts = TimeSeries(key=API_KEYS, output_format='pandas')"
   ]
  },
  {
   "cell_type": "code",
   "execution_count": 3,
   "id": "685d5640",
   "metadata": {},
   "outputs": [],
   "source": [
    "### line alert function\n",
    "def notifyMsg(*msg, url=LINE_URL, headers=LINE_HEADERS):\n",
    "    r = requests.post(url, headers=headers, data={'message': msg[0]})\n",
    "    print(r.text)"
   ]
  },
  {
   "cell_type": "code",
   "execution_count": 4,
   "id": "0e06eb2a",
   "metadata": {},
   "outputs": [],
   "source": [
    "### create technical strategy\n",
    "rsi_o2 = ta.Strategy(\n",
    "    name = 'RSI 14 Days for opposite trade',\n",
    "    description = 'RSI for alert',\n",
    "    ta = [\n",
    "        {'kind': 'ema', 'length': 200},\n",
    "        {'kind': 'rsi', 'length': 10},\n",
    "        {'kind': 'atr', 'length': 15}\n",
    "    ]\n",
    ")"
   ]
  },
  {
   "cell_type": "code",
   "execution_count": 43,
   "id": "d4c71060",
   "metadata": {},
   "outputs": [],
   "source": [
    "def initial_bars(pair='EURUSD', tf='15min'):\n",
    "    bars, _ = ts.get_intraday(symbol=pair,interval=tf, outputsize='full')\n",
    "    df = pd.DataFrame({\n",
    "        'timestamp': bars.index,\n",
    "        'open': bars['1. open'],\n",
    "        'high': bars['2. high'],\n",
    "        'low': bars['3. low'],\n",
    "        'close': bars['4. close'],\n",
    "        'volumn': bars['5. volume']\n",
    "    }) # convert alpha vantage data to use with strategy\n",
    "    \n",
    "    df['timestamp'] = pd.to_datetime(df['timestamp'], unit='ms')\n",
    "    df = df.iloc[::-1] # reverse row\n",
    "    df.reset_index(drop=True, inplace=True)\n",
    "        \n",
    "    order = {}\n",
    "    current_action = 'close'\n",
    "    \n",
    "    return df , order, current_action"
   ]
  },
  {
   "cell_type": "code",
   "execution_count": 64,
   "id": "eb17a796",
   "metadata": {},
   "outputs": [],
   "source": [
    "def get_realtime(df=None, order=None, current_action=None, pair='EURUSD', tf='15min', ema_len=200, rsi_len=14, atr_len=14, \\\n",
    "                 strategy=None, overbought=70, oversold=30, rr=1.5, pip_value=0.0001):\n",
    "    \n",
    "    bars, _ = ts.get_intraday(symbol=pair,interval=tf, outputsize='compact')\n",
    "    incoming_df = pd.DataFrame({\n",
    "        'timestamp': bars.index,\n",
    "        'open': bars['1. open'],\n",
    "        'high': bars['2. high'],\n",
    "        'low': bars['3. low'],\n",
    "        'close': bars['4. close'],\n",
    "        'volumn': bars['5. volume']\n",
    "    }) # convert alpha vantage data to use with rsi strategy\n",
    "    \n",
    "    incoming_df['timestamp'] = pd.to_datetime(df['timestamp'], unit='ms')\n",
    "    if (incoming_df['timestamp'].iloc[0] != df['timestamp'].iloc[-1]):\n",
    "        df = df[:900].append(incoming_df.head(1), ignore_index = True)\n",
    "        \n",
    "#     df = df.iloc[::-1] # reverse row\n",
    "#     df.reset_index(drop=True, inplace=True)\n",
    "#     if strategy != None: df.ta.strategy(strategy)\n",
    "    rsi_o2 = ta.Strategy(\n",
    "        name = 'RSI 14 Days for opposite trade',\n",
    "        description = 'RSI for alert',\n",
    "        ta = [\n",
    "            {'kind': 'ema', 'length': ema_len},\n",
    "            {'kind': 'rsi', 'length': rsi_len},\n",
    "            {'kind': 'atr', 'length': atr_len}\n",
    "        ]\n",
    "    )\n",
    "    df.ta.strategy(rsi_o2)\n",
    "    \n",
    "#     orders = pd.DataFrame(columns = ['action', 'open time', 'open', 'close time', 'close', 'T/P', 'S/L','result'])\n",
    "#     current_action = 'close'\n",
    "#     order = {}\n",
    "    \n",
    "    row = df.tail(1)\n",
    "    if current_action[pair] == 'close' or order[pair].shape(0) == 0:\n",
    "        if row['EMA_'+str(ema_len)] < row['low'] and row['RSI_'+str(rsi_len)] > overbought:\n",
    "            row['action'] = 'buy'\n",
    "            order[pair]['action'] = 'buy'\n",
    "            order[pair]['open time'] = row['timestamp']\n",
    "            order[pair]['open'] = row['open']\n",
    "            order[pair]['S/L'] = row['low'] - row['ATRr_'+str(atr_len)]\n",
    "            order[pair]['T/P'] = row['open'] + (rr * abs(row['open'] - order[pair]['S/L']))\n",
    "            current_action[pair] = 'buy'\n",
    "            notifyMsg(f\"Buy {pair} RSI_O2\\nprice: {str(order[pair]['open'])}\\nTP: {str(order[pair]['T/P'])}\\nSL: {str(order[pair]['S/L'])}\")\n",
    "            \n",
    "        elif row['EMA_'+str(ema_len)] > row['high'] and row['RSI_'+str(rsi_len)] < oversold:   \n",
    "            row['action'] = 'sell'\n",
    "            order[pair]['action'] = 'sell'\n",
    "            order[pair]['open time'] = row['timestamp']\n",
    "            order[pair]['open'] = row['open']\n",
    "            order[pair]['S/L'] = row['high'] + row['ATRr_'+str(atr_len)]\n",
    "            order[pair]['T/P'] = row['open'] - (rr * abs(row['open'] - order[pair]['S/L']))\n",
    "            current_action[pair] = 'sell'\n",
    "            notifyMsg(f\"Sell {pair} RSI_O2\\nprice: {str(order[pair]['open'])}\\nTP: {str(order[pair]['T/P'])}\\nSL: {str(order[pair]['S/L'])}\")\n",
    "        \n",
    "    if current_action[pair] == 'buy':\n",
    "        if row['low'] <= order[pair]['S/L']:\n",
    "            order[pair]['result'] = 'S/L'\n",
    "            order[pair]['close time'] = row['timestamp']\n",
    "            order[pair]['close'] = order[pair]['S/L']\n",
    "            current_action[pair] = 'close'\n",
    "            order[pair] = {}\n",
    "            notifyMsg(f\"S/L Buy {pair} RSI_O2\\nprice: {order[pair]['close']}\")\n",
    "        elif row['high'] >= order[pair]['T/P']:\n",
    "            order[pair]['result'] = 'T/P'\n",
    "            order[pair]['close time'] = row['timestamp']\n",
    "            order[pair]['close'] = order['T/P']\n",
    "            current_action[pair] = 'close'\n",
    "            order[pair] = {}\n",
    "            notifyMsg(f\"T/P Buy {pair} RSI_O2\\nprice: {order[pair]['close']}\")\n",
    "                \n",
    "    elif current_action[pair] == 'sell':\n",
    "        if row['high'] >= order[pair]['S/L']:\n",
    "            order[pair]['result'] = 'S/L'\n",
    "            order[pair]['close time'] = row['timestamp']\n",
    "            order[pair]['close'] = order[pair]['S/L']\n",
    "            current_action[pair] = 'close'\n",
    "            order[pair] = {}\n",
    "            notifyMsg(f\"S/L Sell {pair} RSI_O2\\nprice: {order[pair]['close']}\")\n",
    "        elif row['low'] <= order[pair]['T/P']:\n",
    "            order[pair]['result'] = 'T/P'\n",
    "            order[pair]['close time'] = row['timestamp']\n",
    "            order[pair]['close'] = order[pair]['T/P']\n",
    "            current_action[pair] = 'close'\n",
    "            order[pair] = {}\n",
    "            notifyMsg(f\"T/P Sell {pair} RSI_O2\\nprice: {order[pair]['close']}\")\n",
    "            \n",
    "    \n",
    "# r = get_realtime()"
   ]
  },
  {
   "cell_type": "code",
   "execution_count": 65,
   "id": "50af295d",
   "metadata": {},
   "outputs": [],
   "source": [
    "pair_action = {}\n",
    "pair_order = {}\n",
    "eurusd, pair_order['EURUSD'], pair_action['EURUSD'] = initial_bars(pair='EURUSD')\n",
    "gbpusd, pair_order['GBPUSD'], pair_action['GBPUSD'] = initial_bars(pair='GBPUSD')\n",
    "usdjpy, pair_order['USDJPY'], pair_action['USDJPY'] = initial_bars(pair='USDJPY')"
   ]
  },
  {
   "cell_type": "code",
   "execution_count": 67,
   "id": "7b9e3ca3",
   "metadata": {},
   "outputs": [
    {
     "data": {
      "text/plain": [
       "(              timestamp    open    high     low   close  volumn\n",
       " 0   2022-01-19 19:15:00  1.1343  1.1346  1.1342  1.1344     0.0\n",
       " 1   2022-01-19 19:30:00  1.1345  1.1347  1.1343  1.1346     0.0\n",
       " 2   2022-01-19 19:45:00  1.1345  1.1348  1.1344  1.1346     0.0\n",
       " 3   2022-01-19 20:00:00  1.1346  1.1352  1.1345  1.1351     0.0\n",
       " 4   2022-01-19 20:15:00  1.1351  1.1357  1.1347  1.1356     0.0\n",
       " ..                  ...     ...     ...     ...     ...     ...\n",
       " 988 2022-02-03 02:45:00  1.1289  1.1293  1.1285  1.1292     0.0\n",
       " 989 2022-02-03 03:00:00  1.1292  1.1298  1.1289  1.1297     0.0\n",
       " 990 2022-02-03 03:15:00  1.1297  1.1298  1.1289  1.1294     0.0\n",
       " 991 2022-02-03 03:30:00  1.1294  1.1300  1.1292  1.1296     0.0\n",
       " 992 2022-02-03 03:45:00  1.1296  1.1297  1.1294  1.1297     0.0\n",
       " \n",
       " [993 rows x 6 columns],\n",
       " {},\n",
       " 'close')"
      ]
     },
     "execution_count": 67,
     "metadata": {},
     "output_type": "execute_result"
    }
   ],
   "source": [
    "eurusd, pair_order['EURUSD'], pair_action['EURUSD']"
   ]
  },
  {
   "cell_type": "code",
   "execution_count": 68,
   "id": "01413e06",
   "metadata": {},
   "outputs": [
    {
     "data": {
      "text/plain": [
       "Every 900 seconds do get_all_realtime() (last run: [never], next run: 2022-02-03 15:48:10)"
      ]
     },
     "execution_count": 68,
     "metadata": {},
     "output_type": "execute_result"
    }
   ],
   "source": [
    "def get_all_realtime():\n",
    "    get_realtime(df=gbpusd, pair='GBPUSD', current_action=pair_action['GBPUSD'], \\\n",
    "                 rsi_len=20, atr_len=10, overbought=70, oversold=30) # rr 1:1   10 pip=0.001\n",
    "    \n",
    "    get_realtime(df=usdjpy, pair='USDJPY', current_action=pair_action['USDJPY'], \\\n",
    "                 rsi_len=12, atr_len=17, overbought=73, oversold=27) # rr 1:1.1 10 pip=0.1\n",
    "    \n",
    "    get_realtime(df=eurusd, pair='EURUSD', current_action=pair_action['EURUSD'], \\\n",
    "                 rsi_len=10, atr_len=15, overbought=76, oversold=24) # rr 1:1   10 pip=0.001\n",
    "    \n",
    "schedule.every(60 * 15).seconds.do(get_all_realtime) "
   ]
  },
  {
   "cell_type": "code",
   "execution_count": 69,
   "id": "31277b27",
   "metadata": {},
   "outputs": [
    {
     "ename": "KeyboardInterrupt",
     "evalue": "",
     "output_type": "error",
     "traceback": [
      "\u001b[1;31m---------------------------------------------------------------------------\u001b[0m",
      "\u001b[1;31mKeyboardInterrupt\u001b[0m                         Traceback (most recent call last)",
      "\u001b[1;32m<ipython-input-69-2d78333a8181>\u001b[0m in \u001b[0;36m<module>\u001b[1;34m\u001b[0m\n\u001b[0;32m      1\u001b[0m \u001b[1;32mwhile\u001b[0m \u001b[1;32mTrue\u001b[0m\u001b[1;33m:\u001b[0m\u001b[1;33m\u001b[0m\u001b[1;33m\u001b[0m\u001b[0m\n\u001b[0;32m      2\u001b[0m     \u001b[0mschedule\u001b[0m\u001b[1;33m.\u001b[0m\u001b[0mrun_pending\u001b[0m\u001b[1;33m(\u001b[0m\u001b[1;33m)\u001b[0m\u001b[1;33m\u001b[0m\u001b[1;33m\u001b[0m\u001b[0m\n\u001b[1;32m----> 3\u001b[1;33m     \u001b[0mtime\u001b[0m\u001b[1;33m.\u001b[0m\u001b[0msleep\u001b[0m\u001b[1;33m(\u001b[0m\u001b[1;36m1\u001b[0m\u001b[1;33m)\u001b[0m\u001b[1;33m\u001b[0m\u001b[1;33m\u001b[0m\u001b[0m\n\u001b[0m",
      "\u001b[1;31mKeyboardInterrupt\u001b[0m: "
     ]
    }
   ],
   "source": [
    "while True:\n",
    "    schedule.run_pending()\n",
    "    time.sleep(1)"
   ]
  },
  {
   "cell_type": "markdown",
   "id": "9db6805f",
   "metadata": {},
   "source": [
    "### === test code below ==="
   ]
  },
  {
   "cell_type": "code",
   "execution_count": 6,
   "id": "bbbf4944",
   "metadata": {},
   "outputs": [],
   "source": [
    "data, _ = cc.get_currency_exchange_rate(from_currency='EUR',to_currency='USD')\n",
    "ts = TimeSeries(key=API_KEYS, output_format='pandas')"
   ]
  },
  {
   "cell_type": "code",
   "execution_count": 7,
   "id": "980a2fcf",
   "metadata": {},
   "outputs": [
    {
     "data": {
      "text/plain": [
       "{'1. From_Currency Code': 'EUR',\n",
       " '2. From_Currency Name': 'Euro',\n",
       " '3. To_Currency Code': 'USD',\n",
       " '4. To_Currency Name': 'United States Dollar',\n",
       " '5. Exchange Rate': '1.12397430',\n",
       " '6. Last Refreshed': '2022-02-01 06:43:01',\n",
       " '7. Time Zone': 'UTC',\n",
       " '8. Bid Price': '1.12397430',\n",
       " '9. Ask Price': '1.12397430'}"
      ]
     },
     "execution_count": 7,
     "metadata": {},
     "output_type": "execute_result"
    }
   ],
   "source": [
    "data"
   ]
  },
  {
   "cell_type": "code",
   "execution_count": 8,
   "id": "1a416796",
   "metadata": {},
   "outputs": [
    {
     "data": {
      "text/html": [
       "<div>\n",
       "<style scoped>\n",
       "    .dataframe tbody tr th:only-of-type {\n",
       "        vertical-align: middle;\n",
       "    }\n",
       "\n",
       "    .dataframe tbody tr th {\n",
       "        vertical-align: top;\n",
       "    }\n",
       "\n",
       "    .dataframe thead th {\n",
       "        text-align: right;\n",
       "    }\n",
       "</style>\n",
       "<table border=\"1\" class=\"dataframe\">\n",
       "  <thead>\n",
       "    <tr style=\"text-align: right;\">\n",
       "      <th></th>\n",
       "      <th>1. open</th>\n",
       "      <th>2. high</th>\n",
       "      <th>3. low</th>\n",
       "      <th>4. close</th>\n",
       "      <th>5. volume</th>\n",
       "    </tr>\n",
       "    <tr>\n",
       "      <th>date</th>\n",
       "      <th></th>\n",
       "      <th></th>\n",
       "      <th></th>\n",
       "      <th></th>\n",
       "      <th></th>\n",
       "    </tr>\n",
       "  </thead>\n",
       "  <tbody>\n",
       "    <tr>\n",
       "      <th>2022-02-01 02:00:00</th>\n",
       "      <td>1.1238</td>\n",
       "      <td>1.1239</td>\n",
       "      <td>1.1234</td>\n",
       "      <td>1.1235</td>\n",
       "      <td>0.0</td>\n",
       "    </tr>\n",
       "    <tr>\n",
       "      <th>2022-02-01 01:30:00</th>\n",
       "      <td>1.1240</td>\n",
       "      <td>1.1243</td>\n",
       "      <td>1.1233</td>\n",
       "      <td>1.1238</td>\n",
       "      <td>0.0</td>\n",
       "    </tr>\n",
       "    <tr>\n",
       "      <th>2022-02-01 01:00:00</th>\n",
       "      <td>1.1243</td>\n",
       "      <td>1.1245</td>\n",
       "      <td>1.1237</td>\n",
       "      <td>1.1240</td>\n",
       "      <td>0.0</td>\n",
       "    </tr>\n",
       "    <tr>\n",
       "      <th>2022-02-01 00:30:00</th>\n",
       "      <td>1.1243</td>\n",
       "      <td>1.1245</td>\n",
       "      <td>1.1239</td>\n",
       "      <td>1.1243</td>\n",
       "      <td>0.0</td>\n",
       "    </tr>\n",
       "    <tr>\n",
       "      <th>2022-02-01 00:00:00</th>\n",
       "      <td>1.1238</td>\n",
       "      <td>1.1245</td>\n",
       "      <td>1.1235</td>\n",
       "      <td>1.1243</td>\n",
       "      <td>0.0</td>\n",
       "    </tr>\n",
       "    <tr>\n",
       "      <th>...</th>\n",
       "      <td>...</td>\n",
       "      <td>...</td>\n",
       "      <td>...</td>\n",
       "      <td>...</td>\n",
       "      <td>...</td>\n",
       "    </tr>\n",
       "    <tr>\n",
       "      <th>2022-01-28 02:00:00</th>\n",
       "      <td>1.1150</td>\n",
       "      <td>1.1155</td>\n",
       "      <td>1.1145</td>\n",
       "      <td>1.1147</td>\n",
       "      <td>0.0</td>\n",
       "    </tr>\n",
       "    <tr>\n",
       "      <th>2022-01-28 01:30:00</th>\n",
       "      <td>1.1154</td>\n",
       "      <td>1.1155</td>\n",
       "      <td>1.1148</td>\n",
       "      <td>1.1149</td>\n",
       "      <td>0.0</td>\n",
       "    </tr>\n",
       "    <tr>\n",
       "      <th>2022-01-28 01:00:00</th>\n",
       "      <td>1.1153</td>\n",
       "      <td>1.1155</td>\n",
       "      <td>1.1148</td>\n",
       "      <td>1.1154</td>\n",
       "      <td>0.0</td>\n",
       "    </tr>\n",
       "    <tr>\n",
       "      <th>2022-01-28 00:30:00</th>\n",
       "      <td>1.1152</td>\n",
       "      <td>1.1154</td>\n",
       "      <td>1.1148</td>\n",
       "      <td>1.1153</td>\n",
       "      <td>0.0</td>\n",
       "    </tr>\n",
       "    <tr>\n",
       "      <th>2022-01-28 00:00:00</th>\n",
       "      <td>1.1151</td>\n",
       "      <td>1.1153</td>\n",
       "      <td>1.1147</td>\n",
       "      <td>1.1151</td>\n",
       "      <td>0.0</td>\n",
       "    </tr>\n",
       "  </tbody>\n",
       "</table>\n",
       "<p>100 rows × 5 columns</p>\n",
       "</div>"
      ],
      "text/plain": [
       "                     1. open  2. high  3. low  4. close  5. volume\n",
       "date                                                              \n",
       "2022-02-01 02:00:00   1.1238   1.1239  1.1234    1.1235        0.0\n",
       "2022-02-01 01:30:00   1.1240   1.1243  1.1233    1.1238        0.0\n",
       "2022-02-01 01:00:00   1.1243   1.1245  1.1237    1.1240        0.0\n",
       "2022-02-01 00:30:00   1.1243   1.1245  1.1239    1.1243        0.0\n",
       "2022-02-01 00:00:00   1.1238   1.1245  1.1235    1.1243        0.0\n",
       "...                      ...      ...     ...       ...        ...\n",
       "2022-01-28 02:00:00   1.1150   1.1155  1.1145    1.1147        0.0\n",
       "2022-01-28 01:30:00   1.1154   1.1155  1.1148    1.1149        0.0\n",
       "2022-01-28 01:00:00   1.1153   1.1155  1.1148    1.1154        0.0\n",
       "2022-01-28 00:30:00   1.1152   1.1154  1.1148    1.1153        0.0\n",
       "2022-01-28 00:00:00   1.1151   1.1153  1.1147    1.1151        0.0\n",
       "\n",
       "[100 rows x 5 columns]"
      ]
     },
     "execution_count": 8,
     "metadata": {},
     "output_type": "execute_result"
    }
   ],
   "source": [
    "data_ts,_ = ts.get_intraday(symbol='EURUSD',interval='30min', outputsize='compact')\n",
    "data_ts"
   ]
  },
  {
   "cell_type": "code",
   "execution_count": 49,
   "id": "bd4b7723",
   "metadata": {},
   "outputs": [
    {
     "data": {
      "text/plain": [
       "10"
      ]
     },
     "execution_count": 49,
     "metadata": {},
     "output_type": "execute_result"
    }
   ],
   "source": [
    "t_order = {}\n",
    "p = 'eurusd'\n",
    "t_order['eurusd'] = {'entry': 10, 'action': 'buy'}\n",
    "t_order['gbpusd'] = {'entry': 20, 'action': 'buy'}\n",
    "t_order[p]['entry']"
   ]
  },
  {
   "cell_type": "code",
   "execution_count": null,
   "id": "cd089934",
   "metadata": {},
   "outputs": [],
   "source": [
    "all_jobs = schedule.get_jobs()\n",
    "all_jobs"
   ]
  },
  {
   "cell_type": "code",
   "execution_count": null,
   "id": "8fd23b10",
   "metadata": {},
   "outputs": [],
   "source": []
  }
 ],
 "metadata": {
  "kernelspec": {
   "display_name": "Python 3",
   "language": "python",
   "name": "python3"
  },
  "language_info": {
   "codemirror_mode": {
    "name": "ipython",
    "version": 3
   },
   "file_extension": ".py",
   "mimetype": "text/x-python",
   "name": "python",
   "nbconvert_exporter": "python",
   "pygments_lexer": "ipython3",
   "version": "3.8.8"
  }
 },
 "nbformat": 4,
 "nbformat_minor": 5
}
