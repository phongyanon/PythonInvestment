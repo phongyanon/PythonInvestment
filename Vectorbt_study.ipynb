{
 "cells": [
  {
   "cell_type": "code",
   "execution_count": 49,
   "id": "389ff721",
   "metadata": {},
   "outputs": [],
   "source": [
    "import pandas as pd\n",
    "import pandas_ta as ta\n",
    "import numpy as np\n",
    "import yfinance as yf\n",
    "import vectorbt as vbt\n",
    "from datetime import datetime\n",
    "from numba import njit"
   ]
  },
  {
   "cell_type": "code",
   "execution_count": 9,
   "id": "32d5eca8",
   "metadata": {},
   "outputs": [
    {
     "data": {
      "text/html": [
       "<div>\n",
       "<style scoped>\n",
       "    .dataframe tbody tr th:only-of-type {\n",
       "        vertical-align: middle;\n",
       "    }\n",
       "\n",
       "    .dataframe tbody tr th {\n",
       "        vertical-align: top;\n",
       "    }\n",
       "\n",
       "    .dataframe thead th {\n",
       "        text-align: right;\n",
       "    }\n",
       "</style>\n",
       "<table border=\"1\" class=\"dataframe\">\n",
       "  <thead>\n",
       "    <tr style=\"text-align: right;\">\n",
       "      <th></th>\n",
       "      <th>Open</th>\n",
       "      <th>High</th>\n",
       "      <th>Low</th>\n",
       "      <th>Close</th>\n",
       "      <th>Volume</th>\n",
       "      <th>Dividends</th>\n",
       "      <th>Stock Splits</th>\n",
       "    </tr>\n",
       "  </thead>\n",
       "  <tbody>\n",
       "    <tr>\n",
       "      <th>2021-03-01 09:30:00-05:00</th>\n",
       "      <td>123.500000</td>\n",
       "      <td>125.250000</td>\n",
       "      <td>122.790001</td>\n",
       "      <td>125.084999</td>\n",
       "      <td>30763287</td>\n",
       "      <td>0</td>\n",
       "      <td>0</td>\n",
       "    </tr>\n",
       "    <tr>\n",
       "      <th>2021-03-01 10:30:00-05:00</th>\n",
       "      <td>125.084999</td>\n",
       "      <td>126.154999</td>\n",
       "      <td>124.880096</td>\n",
       "      <td>125.879898</td>\n",
       "      <td>15870701</td>\n",
       "      <td>0</td>\n",
       "      <td>0</td>\n",
       "    </tr>\n",
       "    <tr>\n",
       "      <th>2021-03-01 11:30:00-05:00</th>\n",
       "      <td>125.879997</td>\n",
       "      <td>126.620003</td>\n",
       "      <td>125.789902</td>\n",
       "      <td>126.230003</td>\n",
       "      <td>13509856</td>\n",
       "      <td>0</td>\n",
       "      <td>0</td>\n",
       "    </tr>\n",
       "    <tr>\n",
       "      <th>2021-03-01 12:30:00-05:00</th>\n",
       "      <td>126.239998</td>\n",
       "      <td>126.400002</td>\n",
       "      <td>125.669998</td>\n",
       "      <td>126.209297</td>\n",
       "      <td>8484702</td>\n",
       "      <td>0</td>\n",
       "      <td>0</td>\n",
       "    </tr>\n",
       "    <tr>\n",
       "      <th>2021-03-01 13:30:00-05:00</th>\n",
       "      <td>126.205002</td>\n",
       "      <td>127.230003</td>\n",
       "      <td>126.089996</td>\n",
       "      <td>127.105003</td>\n",
       "      <td>11084566</td>\n",
       "      <td>0</td>\n",
       "      <td>0</td>\n",
       "    </tr>\n",
       "    <tr>\n",
       "      <th>...</th>\n",
       "      <td>...</td>\n",
       "      <td>...</td>\n",
       "      <td>...</td>\n",
       "      <td>...</td>\n",
       "      <td>...</td>\n",
       "      <td>...</td>\n",
       "      <td>...</td>\n",
       "    </tr>\n",
       "    <tr>\n",
       "      <th>2021-03-12 12:30:00-05:00</th>\n",
       "      <td>120.849800</td>\n",
       "      <td>121.070000</td>\n",
       "      <td>120.427002</td>\n",
       "      <td>120.896698</td>\n",
       "      <td>8122057</td>\n",
       "      <td>0</td>\n",
       "      <td>0</td>\n",
       "    </tr>\n",
       "    <tr>\n",
       "      <th>2021-03-12 13:30:00-05:00</th>\n",
       "      <td>120.889999</td>\n",
       "      <td>121.010002</td>\n",
       "      <td>120.500000</td>\n",
       "      <td>120.589996</td>\n",
       "      <td>6602156</td>\n",
       "      <td>0</td>\n",
       "      <td>0</td>\n",
       "    </tr>\n",
       "    <tr>\n",
       "      <th>2021-03-12 14:30:00-05:00</th>\n",
       "      <td>120.595001</td>\n",
       "      <td>120.900002</td>\n",
       "      <td>120.464996</td>\n",
       "      <td>120.754997</td>\n",
       "      <td>7340616</td>\n",
       "      <td>0</td>\n",
       "      <td>0</td>\n",
       "    </tr>\n",
       "    <tr>\n",
       "      <th>2021-03-12 15:30:00-05:00</th>\n",
       "      <td>120.760002</td>\n",
       "      <td>121.169998</td>\n",
       "      <td>120.680000</td>\n",
       "      <td>121.040100</td>\n",
       "      <td>7978422</td>\n",
       "      <td>0</td>\n",
       "      <td>0</td>\n",
       "    </tr>\n",
       "    <tr>\n",
       "      <th>2022-03-14 16:00:00-04:00</th>\n",
       "      <td>150.619995</td>\n",
       "      <td>150.619995</td>\n",
       "      <td>150.619995</td>\n",
       "      <td>150.619995</td>\n",
       "      <td>0</td>\n",
       "      <td>0</td>\n",
       "      <td>0</td>\n",
       "    </tr>\n",
       "  </tbody>\n",
       "</table>\n",
       "<p>71 rows × 7 columns</p>\n",
       "</div>"
      ],
      "text/plain": [
       "                                 Open        High         Low       Close  \\\n",
       "2021-03-01 09:30:00-05:00  123.500000  125.250000  122.790001  125.084999   \n",
       "2021-03-01 10:30:00-05:00  125.084999  126.154999  124.880096  125.879898   \n",
       "2021-03-01 11:30:00-05:00  125.879997  126.620003  125.789902  126.230003   \n",
       "2021-03-01 12:30:00-05:00  126.239998  126.400002  125.669998  126.209297   \n",
       "2021-03-01 13:30:00-05:00  126.205002  127.230003  126.089996  127.105003   \n",
       "...                               ...         ...         ...         ...   \n",
       "2021-03-12 12:30:00-05:00  120.849800  121.070000  120.427002  120.896698   \n",
       "2021-03-12 13:30:00-05:00  120.889999  121.010002  120.500000  120.589996   \n",
       "2021-03-12 14:30:00-05:00  120.595001  120.900002  120.464996  120.754997   \n",
       "2021-03-12 15:30:00-05:00  120.760002  121.169998  120.680000  121.040100   \n",
       "2022-03-14 16:00:00-04:00  150.619995  150.619995  150.619995  150.619995   \n",
       "\n",
       "                             Volume  Dividends  Stock Splits  \n",
       "2021-03-01 09:30:00-05:00  30763287          0             0  \n",
       "2021-03-01 10:30:00-05:00  15870701          0             0  \n",
       "2021-03-01 11:30:00-05:00  13509856          0             0  \n",
       "2021-03-01 12:30:00-05:00   8484702          0             0  \n",
       "2021-03-01 13:30:00-05:00  11084566          0             0  \n",
       "...                             ...        ...           ...  \n",
       "2021-03-12 12:30:00-05:00   8122057          0             0  \n",
       "2021-03-12 13:30:00-05:00   6602156          0             0  \n",
       "2021-03-12 14:30:00-05:00   7340616          0             0  \n",
       "2021-03-12 15:30:00-05:00   7978422          0             0  \n",
       "2022-03-14 16:00:00-04:00         0          0             0  \n",
       "\n",
       "[71 rows x 7 columns]"
      ]
     },
     "execution_count": 9,
     "metadata": {},
     "output_type": "execute_result"
    }
   ],
   "source": [
    "data = pd.DataFrame()\n",
    "data = data.ta.ticker(\n",
    "     \"AAPL\",\n",
    "     start=datetime(2021, 3, 1),\n",
    "     end=datetime(2021, 3, 15),\n",
    "     interval='1h'\n",
    ")\n",
    "data"
   ]
  },
  {
   "cell_type": "code",
   "execution_count": 14,
   "id": "6946c7eb",
   "metadata": {},
   "outputs": [
    {
     "data": {
      "application/vnd.jupyter.widget-view+json": {
       "model_id": "ef76daa278c8439ab5e0ee4029f943f7",
       "version_major": 2,
       "version_minor": 0
      },
      "text/plain": [
       "FigureWidget({\n",
       "    'data': [{'name': '0',\n",
       "              'showlegend': True,\n",
       "              'type': 'scatter',\n",
       " …"
      ]
     },
     "metadata": {},
     "output_type": "display_data"
    }
   ],
   "source": [
    "gbm_data = vbt.GBMData.download( # Supports various (random) data generators, such as GBM\n",
    "    list(range(5)),\n",
    "    start='2020-01-01',\n",
    "    end='2021-01-01'\n",
    ")\n",
    "gbm_data.plot(showlegend=False)"
   ]
  },
  {
   "cell_type": "code",
   "execution_count": 18,
   "id": "d1fad2eb",
   "metadata": {},
   "outputs": [
    {
     "data": {
      "application/vnd.jupyter.widget-view+json": {
       "model_id": "88278516219f4a938c43afbacecdb2af",
       "version_major": 2,
       "version_minor": 0
      },
      "text/plain": [
       "FigureWidget({\n",
       "    'data': [{'colorscale': [[0.0, '#1f77b4'], [1.0, '#1f77b4']],\n",
       "              'hoverongaps': …"
      ]
     },
     "metadata": {},
     "output_type": "display_data"
    }
   ],
   "source": [
    "\"\"\"\n",
    "Data preparation: Transformation, rescaling, and normalization of data.\n",
    "Custom splitters for cross-validation. Supports Scikit-Learn splitters,\n",
    "such as for K-Folds cross-validation.\n",
    "\"\"\"\n",
    "from datetime import datetime, timedelta\n",
    "\n",
    "index = [datetime(2020, 1, 1) + timedelta(days=i) for i in range(10)]\n",
    "sr = pd.Series(np.arange(len(index)), index=index)\n",
    "sr.vbt.rolling_split(\n",
    "    window_len=5,\n",
    "    set_lens=(1, 1),\n",
    "    left_to_right=False,\n",
    "    plot=True,\n",
    "    trace_names=['train', 'valid', 'test']\n",
    ")"
   ]
  },
  {
   "cell_type": "code",
   "execution_count": 20,
   "id": "ac239b8c",
   "metadata": {},
   "outputs": [
    {
     "data": {
      "application/vnd.jupyter.widget-view+json": {
       "model_id": "921991df4c4747d9a9d8187167c3cfed",
       "version_major": 2,
       "version_minor": 0
      },
      "text/plain": [
       "FigureWidget({\n",
       "    'data': [{'colorscale': [[0.0, '#0d0887'], [0.1111111111111111, '#46039f'],\n",
       "               …"
      ]
     },
     "metadata": {},
     "output_type": "display_data"
    }
   ],
   "source": [
    "# Identify local extrema\n",
    "price = np.cumprod(np.random.uniform(-0.1, 0.1, size=100) + 1)\n",
    "vbt.LEXLB.run(price, 0.2, 0.2).plot()"
   ]
  },
  {
   "cell_type": "code",
   "execution_count": 21,
   "id": "e1ef8018",
   "metadata": {},
   "outputs": [
    {
     "data": {
      "text/html": [
       "<div>\n",
       "<style scoped>\n",
       "    .dataframe tbody tr th:only-of-type {\n",
       "        vertical-align: middle;\n",
       "    }\n",
       "\n",
       "    .dataframe tbody tr th {\n",
       "        vertical-align: top;\n",
       "    }\n",
       "\n",
       "    .dataframe thead th {\n",
       "        text-align: right;\n",
       "    }\n",
       "</style>\n",
       "<table border=\"1\" class=\"dataframe\">\n",
       "  <thead>\n",
       "    <tr style=\"text-align: right;\">\n",
       "      <th>ma_window</th>\n",
       "      <th>2</th>\n",
       "      <th>3</th>\n",
       "    </tr>\n",
       "  </thead>\n",
       "  <tbody>\n",
       "    <tr>\n",
       "      <th>0</th>\n",
       "      <td>NaN</td>\n",
       "      <td>NaN</td>\n",
       "    </tr>\n",
       "    <tr>\n",
       "      <th>1</th>\n",
       "      <td>1.5</td>\n",
       "      <td>NaN</td>\n",
       "    </tr>\n",
       "    <tr>\n",
       "      <th>2</th>\n",
       "      <td>2.5</td>\n",
       "      <td>2.0</td>\n",
       "    </tr>\n",
       "    <tr>\n",
       "      <th>3</th>\n",
       "      <td>3.5</td>\n",
       "      <td>3.0</td>\n",
       "    </tr>\n",
       "    <tr>\n",
       "      <th>4</th>\n",
       "      <td>4.5</td>\n",
       "      <td>4.0</td>\n",
       "    </tr>\n",
       "  </tbody>\n",
       "</table>\n",
       "</div>"
      ],
      "text/plain": [
       "ma_window    2    3\n",
       "0          NaN  NaN\n",
       "1          1.5  NaN\n",
       "2          2.5  2.0\n",
       "3          3.5  3.0\n",
       "4          4.5  4.0"
      ]
     },
     "execution_count": 21,
     "metadata": {},
     "output_type": "execute_result"
    }
   ],
   "source": [
    "# support pandas ta and ta-lib\n",
    "# compite 2 mav\n",
    "\n",
    "price = pd.Series([1, 2, 3, 4, 5], dtype=float)\n",
    "vbt.MA.run(price, [2, 3]).ma # built in"
   ]
  },
  {
   "cell_type": "code",
   "execution_count": 24,
   "id": "1a794dd3",
   "metadata": {},
   "outputs": [
    {
     "data": {
      "text/html": [
       "<div>\n",
       "<style scoped>\n",
       "    .dataframe tbody tr th:only-of-type {\n",
       "        vertical-align: middle;\n",
       "    }\n",
       "\n",
       "    .dataframe tbody tr th {\n",
       "        vertical-align: top;\n",
       "    }\n",
       "\n",
       "    .dataframe thead th {\n",
       "        text-align: right;\n",
       "    }\n",
       "</style>\n",
       "<table border=\"1\" class=\"dataframe\">\n",
       "  <thead>\n",
       "    <tr style=\"text-align: right;\">\n",
       "      <th>sma_length</th>\n",
       "      <th>2</th>\n",
       "      <th>3</th>\n",
       "    </tr>\n",
       "  </thead>\n",
       "  <tbody>\n",
       "    <tr>\n",
       "      <th>0</th>\n",
       "      <td>NaN</td>\n",
       "      <td>NaN</td>\n",
       "    </tr>\n",
       "    <tr>\n",
       "      <th>1</th>\n",
       "      <td>1.5</td>\n",
       "      <td>NaN</td>\n",
       "    </tr>\n",
       "    <tr>\n",
       "      <th>2</th>\n",
       "      <td>2.5</td>\n",
       "      <td>2.0</td>\n",
       "    </tr>\n",
       "    <tr>\n",
       "      <th>3</th>\n",
       "      <td>3.5</td>\n",
       "      <td>3.0</td>\n",
       "    </tr>\n",
       "    <tr>\n",
       "      <th>4</th>\n",
       "      <td>4.5</td>\n",
       "      <td>4.0</td>\n",
       "    </tr>\n",
       "  </tbody>\n",
       "</table>\n",
       "</div>"
      ],
      "text/plain": [
       "sma_length    2    3\n",
       "0           NaN  NaN\n",
       "1           1.5  NaN\n",
       "2           2.5  2.0\n",
       "3           3.5  3.0\n",
       "4           4.5  4.0"
      ]
     },
     "execution_count": 24,
     "metadata": {},
     "output_type": "execute_result"
    }
   ],
   "source": [
    "vbt.pandas_ta('SMA').run(price, [2, 3]).sma"
   ]
  },
  {
   "cell_type": "code",
   "execution_count": 30,
   "id": "9bffe754",
   "metadata": {
    "scrolled": true
   },
   "outputs": [
    {
     "data": {
      "text/html": [
       "<div>\n",
       "<style scoped>\n",
       "    .dataframe tbody tr th:only-of-type {\n",
       "        vertical-align: middle;\n",
       "    }\n",
       "\n",
       "    .dataframe tbody tr th {\n",
       "        vertical-align: top;\n",
       "    }\n",
       "\n",
       "    .dataframe thead tr th {\n",
       "        text-align: left;\n",
       "    }\n",
       "</style>\n",
       "<table border=\"1\" class=\"dataframe\">\n",
       "  <thead>\n",
       "    <tr>\n",
       "      <th>custom_start</th>\n",
       "      <th>100</th>\n",
       "      <th>200</th>\n",
       "    </tr>\n",
       "    <tr>\n",
       "      <th>custom_mu</th>\n",
       "      <th>-0.01</th>\n",
       "      <th>0.01</th>\n",
       "    </tr>\n",
       "    <tr>\n",
       "      <th>custom_sigma</th>\n",
       "      <th>0.01</th>\n",
       "      <th>0.01</th>\n",
       "    </tr>\n",
       "  </thead>\n",
       "  <tbody>\n",
       "    <tr>\n",
       "      <th>0</th>\n",
       "      <td>99.496714</td>\n",
       "      <td>201.531726</td>\n",
       "    </tr>\n",
       "    <tr>\n",
       "      <th>1</th>\n",
       "      <td>98.364179</td>\n",
       "      <td>206.729658</td>\n",
       "    </tr>\n",
       "    <tr>\n",
       "      <th>2</th>\n",
       "      <td>98.017630</td>\n",
       "      <td>210.383470</td>\n",
       "    </tr>\n",
       "    <tr>\n",
       "      <th>3</th>\n",
       "      <td>98.530292</td>\n",
       "      <td>211.499608</td>\n",
       "    </tr>\n",
       "    <tr>\n",
       "      <th>4</th>\n",
       "      <td>97.314277</td>\n",
       "      <td>214.762117</td>\n",
       "    </tr>\n",
       "  </tbody>\n",
       "</table>\n",
       "</div>"
      ],
      "text/plain": [
       "custom_start        100         200\n",
       "custom_mu         -0.01        0.01\n",
       "custom_sigma       0.01        0.01\n",
       "0             99.496714  201.531726\n",
       "1             98.364179  206.729658\n",
       "2             98.017630  210.383470\n",
       "3             98.530292  211.499608\n",
       "4             97.314277  214.762117"
      ]
     },
     "execution_count": 30,
     "metadata": {},
     "output_type": "execute_result"
    }
   ],
   "source": [
    "# create your own complexity indicator under vectorbt engine\n",
    "\n",
    "@njit\n",
    "def apply_func_nb(input_shape, start, mu, sigma):\n",
    "    rand_returns = np.random.normal(mu, sigma, input_shape)\n",
    "    return start * vbt.nb.nancumprod_nb(rand_returns + 1)\n",
    "\n",
    "RandomInd = vbt.IndicatorFactory(\n",
    "    param_names=['start', 'mu', 'sigma'],\n",
    "    output_names=['output']\n",
    ").from_apply_func(\n",
    "    apply_func_nb,\n",
    "    require_input_shape=True,\n",
    "    seed=42\n",
    ")\n",
    "\n",
    "RandomInd.run(5, [100, 200], [-0.01, 0.01], 0.01).output"
   ]
  },
  {
   "cell_type": "code",
   "execution_count": 35,
   "id": "439df185",
   "metadata": {},
   "outputs": [
    {
     "data": {
      "text/plain": [
       "array([3, 2])"
      ]
     },
     "execution_count": 35,
     "metadata": {},
     "output_type": "execute_result"
    }
   ],
   "source": [
    "# Signal analysis: Generation, mapping and reducing, \n",
    "# ranking, and distribution analysis of entry and exit signals.\n",
    "\n",
    "mark_sr = pd.Series([True, True, True, False, True, True])\n",
    "mark_sr.vbt.signals.partition_ranges().duration.values"
   ]
  },
  {
   "cell_type": "code",
   "execution_count": 41,
   "id": "08a0eb54",
   "metadata": {},
   "outputs": [
    {
     "data": {
      "text/html": [
       "<div>\n",
       "<style scoped>\n",
       "    .dataframe tbody tr th:only-of-type {\n",
       "        vertical-align: middle;\n",
       "    }\n",
       "\n",
       "    .dataframe tbody tr th {\n",
       "        vertical-align: top;\n",
       "    }\n",
       "\n",
       "    .dataframe thead tr th {\n",
       "        text-align: left;\n",
       "    }\n",
       "</style>\n",
       "<table border=\"1\" class=\"dataframe\">\n",
       "  <thead>\n",
       "    <tr>\n",
       "      <th>rprobnx_entry_prob</th>\n",
       "      <th colspan=\"2\" halign=\"left\">0.5</th>\n",
       "      <th colspan=\"2\" halign=\"left\">1.0</th>\n",
       "    </tr>\n",
       "    <tr>\n",
       "      <th>rprobnx_exit_prob</th>\n",
       "      <th>0.5</th>\n",
       "      <th>1.0</th>\n",
       "      <th>0.5</th>\n",
       "      <th>1.0</th>\n",
       "    </tr>\n",
       "  </thead>\n",
       "  <tbody>\n",
       "    <tr>\n",
       "      <th>0</th>\n",
       "      <td>True</td>\n",
       "      <td>True</td>\n",
       "      <td>True</td>\n",
       "      <td>True</td>\n",
       "    </tr>\n",
       "    <tr>\n",
       "      <th>1</th>\n",
       "      <td>False</td>\n",
       "      <td>False</td>\n",
       "      <td>False</td>\n",
       "      <td>False</td>\n",
       "    </tr>\n",
       "    <tr>\n",
       "      <th>2</th>\n",
       "      <td>False</td>\n",
       "      <td>False</td>\n",
       "      <td>False</td>\n",
       "      <td>True</td>\n",
       "    </tr>\n",
       "    <tr>\n",
       "      <th>3</th>\n",
       "      <td>False</td>\n",
       "      <td>False</td>\n",
       "      <td>False</td>\n",
       "      <td>False</td>\n",
       "    </tr>\n",
       "    <tr>\n",
       "      <th>4</th>\n",
       "      <td>False</td>\n",
       "      <td>False</td>\n",
       "      <td>True</td>\n",
       "      <td>True</td>\n",
       "    </tr>\n",
       "  </tbody>\n",
       "</table>\n",
       "</div>"
      ],
      "text/plain": [
       "rprobnx_entry_prob    0.5           1.0       \n",
       "rprobnx_exit_prob     0.5    1.0    0.5    1.0\n",
       "0                    True   True   True   True\n",
       "1                   False  False  False  False\n",
       "2                   False  False  False   True\n",
       "3                   False  False  False  False\n",
       "4                   False  False   True   True"
      ]
     },
     "execution_count": 41,
     "metadata": {},
     "output_type": "execute_result"
    }
   ],
   "source": [
    "# Signal generator: Random and stop loss (SL, TSL, TP, etc.)\n",
    "\n",
    "rprobnx = vbt.RPROBNX.run(\n",
    "    input_shape=(5,),\n",
    "    entry_prob=[0.5, 1],\n",
    "    exit_prob=[0.5, 1],\n",
    "    param_product=True,\n",
    "    seed=42\n",
    ")\n",
    "\n",
    "rprobnx.entries"
   ]
  },
  {
   "cell_type": "code",
   "execution_count": 42,
   "id": "de4d21d5",
   "metadata": {},
   "outputs": [
    {
     "data": {
      "text/html": [
       "<div>\n",
       "<style scoped>\n",
       "    .dataframe tbody tr th:only-of-type {\n",
       "        vertical-align: middle;\n",
       "    }\n",
       "\n",
       "    .dataframe tbody tr th {\n",
       "        vertical-align: top;\n",
       "    }\n",
       "\n",
       "    .dataframe thead tr th {\n",
       "        text-align: left;\n",
       "    }\n",
       "</style>\n",
       "<table border=\"1\" class=\"dataframe\">\n",
       "  <thead>\n",
       "    <tr>\n",
       "      <th>rprobnx_entry_prob</th>\n",
       "      <th colspan=\"2\" halign=\"left\">0.5</th>\n",
       "      <th colspan=\"2\" halign=\"left\">1.0</th>\n",
       "    </tr>\n",
       "    <tr>\n",
       "      <th>rprobnx_exit_prob</th>\n",
       "      <th>0.5</th>\n",
       "      <th>1.0</th>\n",
       "      <th>0.5</th>\n",
       "      <th>1.0</th>\n",
       "    </tr>\n",
       "  </thead>\n",
       "  <tbody>\n",
       "    <tr>\n",
       "      <th>0</th>\n",
       "      <td>False</td>\n",
       "      <td>False</td>\n",
       "      <td>False</td>\n",
       "      <td>False</td>\n",
       "    </tr>\n",
       "    <tr>\n",
       "      <th>1</th>\n",
       "      <td>False</td>\n",
       "      <td>True</td>\n",
       "      <td>False</td>\n",
       "      <td>True</td>\n",
       "    </tr>\n",
       "    <tr>\n",
       "      <th>2</th>\n",
       "      <td>False</td>\n",
       "      <td>False</td>\n",
       "      <td>False</td>\n",
       "      <td>False</td>\n",
       "    </tr>\n",
       "    <tr>\n",
       "      <th>3</th>\n",
       "      <td>False</td>\n",
       "      <td>False</td>\n",
       "      <td>True</td>\n",
       "      <td>True</td>\n",
       "    </tr>\n",
       "    <tr>\n",
       "      <th>4</th>\n",
       "      <td>True</td>\n",
       "      <td>False</td>\n",
       "      <td>False</td>\n",
       "      <td>False</td>\n",
       "    </tr>\n",
       "  </tbody>\n",
       "</table>\n",
       "</div>"
      ],
      "text/plain": [
       "rprobnx_entry_prob    0.5           1.0       \n",
       "rprobnx_exit_prob     0.5    1.0    0.5    1.0\n",
       "0                   False  False  False  False\n",
       "1                   False   True  False   True\n",
       "2                   False  False  False  False\n",
       "3                   False  False   True   True\n",
       "4                    True  False  False  False"
      ]
     },
     "execution_count": 42,
     "metadata": {},
     "output_type": "execute_result"
    }
   ],
   "source": [
    "rprobnx.exits"
   ]
  },
  {
   "cell_type": "code",
   "execution_count": 51,
   "id": "6b8bed12",
   "metadata": {},
   "outputs": [
    {
     "ename": "AttributeError",
     "evalue": "'MA' object has no attribute 'ma_crossed_above'",
     "output_type": "error",
     "traceback": [
      "\u001b[1;31m---------------------------------------------------------------------------\u001b[0m",
      "\u001b[1;31mAttributeError\u001b[0m                            Traceback (most recent call last)",
      "\u001b[1;32m<ipython-input-51-fe761425a082>\u001b[0m in \u001b[0;36m<module>\u001b[1;34m\u001b[0m\n\u001b[0;32m      5\u001b[0m \u001b[0mfast_ma\u001b[0m \u001b[1;33m=\u001b[0m \u001b[0mvbt\u001b[0m\u001b[1;33m.\u001b[0m\u001b[0mMA\u001b[0m\u001b[1;33m.\u001b[0m\u001b[0mrun\u001b[0m\u001b[1;33m(\u001b[0m\u001b[0mprice\u001b[0m\u001b[1;33m,\u001b[0m \u001b[1;36m50\u001b[0m\u001b[1;33m,\u001b[0m \u001b[0mshort_name\u001b[0m\u001b[1;33m=\u001b[0m\u001b[1;34m'fast_ma'\u001b[0m\u001b[1;33m)\u001b[0m\u001b[1;33m\u001b[0m\u001b[1;33m\u001b[0m\u001b[0m\n\u001b[0;32m      6\u001b[0m \u001b[0mslow_ma\u001b[0m \u001b[1;33m=\u001b[0m \u001b[0mvbt\u001b[0m\u001b[1;33m.\u001b[0m\u001b[0mMA\u001b[0m\u001b[1;33m.\u001b[0m\u001b[0mrun\u001b[0m\u001b[1;33m(\u001b[0m\u001b[0mprice\u001b[0m\u001b[1;33m,\u001b[0m \u001b[1;36m200\u001b[0m\u001b[1;33m,\u001b[0m \u001b[0mshort_name\u001b[0m\u001b[1;33m=\u001b[0m\u001b[1;34m'slow_ma'\u001b[0m\u001b[1;33m)\u001b[0m\u001b[1;33m\u001b[0m\u001b[1;33m\u001b[0m\u001b[0m\n\u001b[1;32m----> 7\u001b[1;33m \u001b[0mentries\u001b[0m \u001b[1;33m=\u001b[0m \u001b[0mfast_ma\u001b[0m\u001b[1;33m.\u001b[0m\u001b[0mma_crossed_above\u001b[0m\u001b[1;33m(\u001b[0m\u001b[0mslow_ma\u001b[0m\u001b[1;33m)\u001b[0m\u001b[1;33m\u001b[0m\u001b[1;33m\u001b[0m\u001b[0m\n\u001b[0m\u001b[0;32m      8\u001b[0m \u001b[0mexits\u001b[0m \u001b[1;33m=\u001b[0m \u001b[0mfast_ma\u001b[0m\u001b[1;33m.\u001b[0m\u001b[0mma_crossed_below\u001b[0m\u001b[1;33m(\u001b[0m\u001b[0mslow_ma\u001b[0m\u001b[1;33m)\u001b[0m\u001b[1;33m\u001b[0m\u001b[1;33m\u001b[0m\u001b[0m\n\u001b[0;32m      9\u001b[0m \u001b[0mpf\u001b[0m \u001b[1;33m=\u001b[0m \u001b[0mvbt\u001b[0m\u001b[1;33m.\u001b[0m\u001b[0mPortfolio\u001b[0m\u001b[1;33m.\u001b[0m\u001b[0mfrom_signals\u001b[0m\u001b[1;33m(\u001b[0m\u001b[0mprice\u001b[0m\u001b[1;33m,\u001b[0m \u001b[0mentries\u001b[0m\u001b[1;33m,\u001b[0m \u001b[0mexits\u001b[0m\u001b[1;33m,\u001b[0m \u001b[0mfees\u001b[0m\u001b[1;33m=\u001b[0m\u001b[1;36m0.005\u001b[0m\u001b[1;33m)\u001b[0m\u001b[1;33m\u001b[0m\u001b[1;33m\u001b[0m\u001b[0m\n",
      "\u001b[1;31mAttributeError\u001b[0m: 'MA' object has no attribute 'ma_crossed_above'"
     ]
    }
   ],
   "source": [
    "# Portfolio modeling\n",
    "# backtest the Golden Cross\n",
    "\n",
    "price = vbt.YFData.download('BTC-USD', start='2018-01-01').get('Close')\n",
    "fast_ma = vbt.MA.run(price, 50, short_name='fast_ma')\n",
    "slow_ma = vbt.MA.run(price, 200, short_name='slow_ma')\n",
    "entries = fast_ma.ma_crossed_above(slow_ma)\n",
    "exits = fast_ma.ma_crossed_below(slow_ma)\n",
    "pf = vbt.Portfolio.from_signals(price, entries, exits, fees=0.005)\n",
    "\n",
    "pf.orders.records_readable\n",
    "# error fix buy update buy TA-lib acess denied."
   ]
  },
  {
   "cell_type": "code",
   "execution_count": 53,
   "id": "9e08f228",
   "metadata": {},
   "outputs": [
    {
     "ename": "ModuleNotFoundError",
     "evalue": "No module named 'quantstats'",
     "output_type": "error",
     "traceback": [
      "\u001b[1;31m---------------------------------------------------------------------------\u001b[0m",
      "\u001b[1;31mModuleNotFoundError\u001b[0m                       Traceback (most recent call last)",
      "\u001b[1;32m<ipython-input-53-b9a8c2ba0337>\u001b[0m in \u001b[0;36m<module>\u001b[1;34m\u001b[0m\n\u001b[0;32m      1\u001b[0m \u001b[0mprice\u001b[0m \u001b[1;33m=\u001b[0m \u001b[0mvbt\u001b[0m\u001b[1;33m.\u001b[0m\u001b[0mYFData\u001b[0m\u001b[1;33m.\u001b[0m\u001b[0mdownload\u001b[0m\u001b[1;33m(\u001b[0m\u001b[1;34m'BTC-USD'\u001b[0m\u001b[1;33m)\u001b[0m\u001b[1;33m.\u001b[0m\u001b[0mget\u001b[0m\u001b[1;33m(\u001b[0m\u001b[1;34m'Close'\u001b[0m\u001b[1;33m)\u001b[0m\u001b[1;33m\u001b[0m\u001b[1;33m\u001b[0m\u001b[0m\n\u001b[0;32m      2\u001b[0m \u001b[0mreturns\u001b[0m \u001b[1;33m=\u001b[0m \u001b[0mprice\u001b[0m\u001b[1;33m.\u001b[0m\u001b[0mvbt\u001b[0m\u001b[1;33m.\u001b[0m\u001b[0mto_returns\u001b[0m\u001b[1;33m(\u001b[0m\u001b[1;33m)\u001b[0m\u001b[1;33m\u001b[0m\u001b[1;33m\u001b[0m\u001b[0m\n\u001b[1;32m----> 3\u001b[1;33m \u001b[0mreturns\u001b[0m\u001b[1;33m.\u001b[0m\u001b[0mvbt\u001b[0m\u001b[1;33m.\u001b[0m\u001b[0mreturns\u001b[0m\u001b[1;33m.\u001b[0m\u001b[0mqs\u001b[0m\u001b[1;33m.\u001b[0m\u001b[0mplot_snapshot\u001b[0m\u001b[1;33m(\u001b[0m\u001b[1;33m)\u001b[0m\u001b[1;33m\u001b[0m\u001b[1;33m\u001b[0m\u001b[0m\n\u001b[0m",
      "\u001b[1;32m~\\anaconda3\\lib\\site-packages\\vectorbt\\returns\\accessors.py\u001b[0m in \u001b[0;36mqs\u001b[1;34m(self)\u001b[0m\n\u001b[0;32m    878\u001b[0m     \u001b[1;33m@\u001b[0m\u001b[0mproperty\u001b[0m\u001b[1;33m\u001b[0m\u001b[1;33m\u001b[0m\u001b[0m\n\u001b[0;32m    879\u001b[0m     \u001b[1;32mdef\u001b[0m \u001b[0mqs\u001b[0m\u001b[1;33m(\u001b[0m\u001b[0mself\u001b[0m\u001b[1;33m)\u001b[0m\u001b[1;33m:\u001b[0m\u001b[1;33m\u001b[0m\u001b[1;33m\u001b[0m\u001b[0m\n\u001b[1;32m--> 880\u001b[1;33m         \u001b[1;34m\"\"\"Quantstats adapter.\"\"\"\u001b[0m\u001b[1;33m\u001b[0m\u001b[1;33m\u001b[0m\u001b[0m\n\u001b[0m\u001b[0;32m    881\u001b[0m         \u001b[1;32mfrom\u001b[0m \u001b[0mvectorbt\u001b[0m\u001b[1;33m.\u001b[0m\u001b[0mreturns\u001b[0m\u001b[1;33m.\u001b[0m\u001b[0mqs_adapter\u001b[0m \u001b[1;32mimport\u001b[0m \u001b[0mQSAdapter\u001b[0m\u001b[1;33m\u001b[0m\u001b[1;33m\u001b[0m\u001b[0m\n\u001b[0;32m    882\u001b[0m \u001b[1;33m\u001b[0m\u001b[0m\n",
      "\u001b[1;32m~\\anaconda3\\lib\\site-packages\\vectorbt\\returns\\qs_adapter.py\u001b[0m in \u001b[0;36m<module>\u001b[1;34m\u001b[0m\n\u001b[0;32m    102\u001b[0m \u001b[1;33m\u001b[0m\u001b[0m\n\u001b[0;32m    103\u001b[0m \u001b[1;32mimport\u001b[0m \u001b[0mpandas\u001b[0m \u001b[1;32mas\u001b[0m \u001b[0mpd\u001b[0m\u001b[1;33m\u001b[0m\u001b[1;33m\u001b[0m\u001b[0m\n\u001b[1;32m--> 104\u001b[1;33m \u001b[1;32mimport\u001b[0m \u001b[0mquantstats\u001b[0m \u001b[1;32mas\u001b[0m \u001b[0mqs\u001b[0m\u001b[1;33m\u001b[0m\u001b[1;33m\u001b[0m\u001b[0m\n\u001b[0m\u001b[0;32m    105\u001b[0m \u001b[1;33m\u001b[0m\u001b[0m\n\u001b[0;32m    106\u001b[0m \u001b[1;32mfrom\u001b[0m \u001b[0mvectorbt\u001b[0m \u001b[1;32mimport\u001b[0m \u001b[0m_typing\u001b[0m \u001b[1;32mas\u001b[0m \u001b[0mtp\u001b[0m\u001b[1;33m\u001b[0m\u001b[1;33m\u001b[0m\u001b[0m\n",
      "\u001b[1;31mModuleNotFoundError\u001b[0m: No module named 'quantstats'"
     ]
    }
   ],
   "source": [
    "price = vbt.YFData.download('BTC-USD').get('Close')\n",
    "returns = price.vbt.to_returns()\n",
    "returns.vbt.returns.qs.plot_snapshot()"
   ]
  },
  {
   "cell_type": "code",
   "execution_count": 54,
   "id": "ebe2e833",
   "metadata": {},
   "outputs": [
    {
     "data": {
      "text/plain": [
       "Start                                               0\n",
       "End                                                 6\n",
       "Period                                7 days 00:00:00\n",
       "Total                                               4\n",
       "Rate [%]                                    57.142857\n",
       "First Index                                         1\n",
       "Last Index                                          5\n",
       "Norm Avg Index [-1, 1]                      -0.083333\n",
       "Distance: Min                         1 days 00:00:00\n",
       "Distance: Max                         2 days 00:00:00\n",
       "Distance: Mean                        1 days 08:00:00\n",
       "Distance: Std               0 days 13:51:23.063257983\n",
       "Total Partitions                                    2\n",
       "Partition Rate [%]                               50.0\n",
       "Partition Length: Min                 1 days 00:00:00\n",
       "Partition Length: Max                 3 days 00:00:00\n",
       "Partition Length: Mean                2 days 00:00:00\n",
       "Partition Length: Std       1 days 09:56:28.051789035\n",
       "Partition Distance: Min               2 days 00:00:00\n",
       "Partition Distance: Max               2 days 00:00:00\n",
       "Partition Distance: Mean              2 days 00:00:00\n",
       "Partition Distance: Std                           NaT\n",
       "dtype: object"
      ]
     },
     "execution_count": 54,
     "metadata": {},
     "output_type": "execute_result"
    }
   ],
   "source": [
    "index = [datetime(2020, 1, 1) + timedelta(days=i) for i in range(7)]\n",
    "mask = pd.Series([False, True, True, True, False, True, False])\n",
    "mask.vbt.signals(freq='d').stats()"
   ]
  },
  {
   "cell_type": "code",
   "execution_count": 55,
   "id": "55d6a6fa",
   "metadata": {},
   "outputs": [
    {
     "data": {
      "text/plain": [
       "Date\n",
       "2015-09-17 00:00:00+00:00   -0.184730\n",
       "2016-02-20 00:00:00+00:00    0.888455\n",
       "2018-10-12 00:00:00+00:00   -0.084516\n",
       "2021-03-15 00:00:00+00:00    4.239867\n",
       "2021-08-05 00:00:00+00:00   -0.183440\n",
       "dtype: float64"
      ]
     },
     "execution_count": 55,
     "metadata": {},
     "output_type": "execute_result"
    }
   ],
   "source": [
    "price = vbt.YFData.download('BTC-USD').get('Close')\n",
    "entry_trades = vbt.Portfolio.from_random_signals(price, n=5).entry_trades\n",
    "returns_pd = entry_trades.returns.to_pd()\n",
    "returns_pd[~returns_pd.isnull()]"
   ]
  },
  {
   "cell_type": "code",
   "execution_count": 57,
   "id": "ee5132e4",
   "metadata": {},
   "outputs": [
    {
     "data": {
      "application/vnd.jupyter.widget-view+json": {
       "model_id": "3fd7bb8d8f354ce8a84a25837b4fa66f",
       "version_major": 2,
       "version_minor": 0
      },
      "text/plain": [
       "FigureWidget({\n",
       "    'data': [{'line': {'color': '#1f77b4'},\n",
       "              'name': 'Close',\n",
       "              'showl…"
      ]
     },
     "metadata": {},
     "output_type": "display_data"
    }
   ],
   "source": [
    "# Plot 3 deepest price dips\n",
    "price = vbt.YFData.download('BTC-USD').get('Close')\n",
    "price.vbt.drawdowns.plot(top_n=3)"
   ]
  },
  {
   "cell_type": "code",
   "execution_count": 61,
   "id": "84525a5c",
   "metadata": {},
   "outputs": [
    {
     "data": {
      "application/vnd.jupyter.widget-view+json": {
       "model_id": "5f8d512a6a3d454d81d64c740fb3e39c",
       "version_major": 2,
       "version_minor": 0
      },
      "text/plain": [
       "FigureWidget({\n",
       "    'data': [{'hoverinfo': 'skip',\n",
       "              'line': {'color': 'rgba(0, 0, 0, 0)', 'width':…"
      ]
     },
     "metadata": {},
     "output_type": "display_data"
    }
   ],
   "source": [
    "# Plot time series against each other\n",
    "sr1 = pd.Series(np.cumprod(np.random.normal(0, 0.01, 100) + 1))\n",
    "sr2 = pd.Series(np.cumprod(np.random.normal(0, 0.01, 100) + 1))\n",
    "sr1.vbt.plot_against(sr2)"
   ]
  },
  {
   "cell_type": "code",
   "execution_count": 62,
   "id": "77ab8f23",
   "metadata": {},
   "outputs": [
    {
     "data": {
      "application/vnd.jupyter.widget-view+json": {
       "model_id": "f71fba333a2f41ecbd8ebee1dd878ff7",
       "version_major": 2,
       "version_minor": 0
      },
      "text/plain": [
       "FigureWidget({\n",
       "    'data': [{'colorscale': [[0.0, '#0d0887'], [0.1111111111111111, '#46039f'],\n",
       "               …"
      ]
     },
     "metadata": {},
     "output_type": "display_data"
    }
   ],
   "source": [
    "# Plot a volume\n",
    "volume_widget = vbt.plotting.Volume(\n",
    "    data=np.random.randint(1, 10, size=(3,3,3)),\n",
    "    x_labels=['a', 'b', 'c'],\n",
    "    y_labels=['d', 'e', 'f'],\n",
    "    z_labels=['g', 'h', 'i']\n",
    ")\n",
    "volume_widget.fig"
   ]
  },
  {
   "cell_type": "code",
   "execution_count": 63,
   "id": "61892c3b",
   "metadata": {},
   "outputs": [
    {
     "data": {
      "image/svg+xml": [
       "<svg class=\"main-svg\" xmlns=\"http://www.w3.org/2000/svg\" xmlns:xlink=\"http://www.w3.org/1999/xlink\" width=\"750\" height=\"960\" style=\"\" viewBox=\"0 0 750 960\"><rect x=\"0\" y=\"0\" width=\"750\" height=\"960\" style=\"fill: rgb(255, 255, 255); fill-opacity: 1;\"/><defs id=\"defs-6183e8\"><g class=\"clips\"><clipPath id=\"clip6183e8xyplot\" class=\"plotclip\"><rect width=\"659\" height=\"253.91666666666669\"/></clipPath><clipPath id=\"clip6183e8x2y2plot\" class=\"plotclip\"><rect width=\"659\" height=\"253.9166666666666\"/></clipPath><clipPath id=\"clip6183e8x3y3plot\" class=\"plotclip\"><rect width=\"659\" height=\"253.91666666666663\"/></clipPath><clipPath class=\"axesclip\" id=\"clip6183e8x\"><rect x=\"61\" y=\"0\" width=\"659\" height=\"960\"/></clipPath><clipPath class=\"axesclip\" id=\"clip6183e8y\"><rect x=\"0\" y=\"76\" width=\"750\" height=\"253.91666666666669\"/></clipPath><clipPath class=\"axesclip\" id=\"clip6183e8xy\"><rect x=\"61\" y=\"76\" width=\"659\" height=\"253.91666666666669\"/></clipPath><clipPath class=\"axesclip\" id=\"clip6183e8y2\"><rect x=\"0\" y=\"364.54166666666674\" width=\"750\" height=\"253.9166666666666\"/></clipPath><clipPath class=\"axesclip\" id=\"clip6183e8xy2\"><rect x=\"61\" y=\"364.54166666666674\" width=\"659\" height=\"253.9166666666666\"/></clipPath><clipPath class=\"axesclip\" id=\"clip6183e8y3\"><rect x=\"0\" y=\"653.0833333333333\" width=\"750\" height=\"253.91666666666663\"/></clipPath><clipPath class=\"axesclip\" id=\"clip6183e8xy3\"><rect x=\"61\" y=\"653.0833333333333\" width=\"659\" height=\"253.91666666666663\"/></clipPath><clipPath class=\"axesclip\" id=\"clip6183e8x2\"><rect x=\"61\" y=\"0\" width=\"659\" height=\"960\"/></clipPath><clipPath class=\"axesclip\" id=\"clip6183e8x2y\"><rect x=\"61\" y=\"76\" width=\"659\" height=\"253.91666666666669\"/></clipPath><clipPath class=\"axesclip\" id=\"clip6183e8x2y2\"><rect x=\"61\" y=\"364.54166666666674\" width=\"659\" height=\"253.9166666666666\"/></clipPath><clipPath class=\"axesclip\" id=\"clip6183e8x2y3\"><rect x=\"61\" y=\"653.0833333333333\" width=\"659\" height=\"253.91666666666663\"/></clipPath><clipPath class=\"axesclip\" id=\"clip6183e8x3\"><rect x=\"61\" y=\"0\" width=\"659\" height=\"960\"/></clipPath><clipPath class=\"axesclip\" id=\"clip6183e8x3y\"><rect x=\"61\" y=\"76\" width=\"659\" height=\"253.91666666666669\"/></clipPath><clipPath class=\"axesclip\" id=\"clip6183e8x3y2\"><rect x=\"61\" y=\"364.54166666666674\" width=\"659\" height=\"253.9166666666666\"/></clipPath><clipPath class=\"axesclip\" id=\"clip6183e8x3y3\"><rect x=\"61\" y=\"653.0833333333333\" width=\"659\" height=\"253.91666666666663\"/></clipPath></g><g class=\"gradients\"/><g class=\"patterns\"/></defs><g class=\"bglayer\"><rect class=\"bg\" x=\"61\" y=\"76\" width=\"659\" height=\"253.91666666666669\" style=\"fill: rgb(229, 236, 246); fill-opacity: 1; stroke-width: 0;\"/><rect class=\"bg\" x=\"61\" y=\"364.54166666666674\" width=\"659\" height=\"253.9166666666666\" style=\"fill: rgb(229, 236, 246); fill-opacity: 1; stroke-width: 0;\"/><rect class=\"bg\" x=\"61\" y=\"653.0833333333333\" width=\"659\" height=\"253.91666666666663\" style=\"fill: rgb(229, 236, 246); fill-opacity: 1; stroke-width: 0;\"/></g><g class=\"layer-below\"><g class=\"imagelayer\"/><g class=\"shapelayer\"/></g><g class=\"cartesianlayer\"><g class=\"subplot xy\"><g class=\"layer-subplot\"><g class=\"shapelayer\"/><g class=\"imagelayer\"/></g><g class=\"gridlayer\"><g class=\"x\"><path class=\"xgrid crisp\" transform=\"translate(86.53,0)\" d=\"M0,76v253.91666666666669\" style=\"stroke: rgb(255, 255, 255); stroke-opacity: 1; stroke-width: 1px;\"/><path class=\"xgrid crisp\" transform=\"translate(174.45,0)\" d=\"M0,76v253.91666666666669\" style=\"stroke: rgb(255, 255, 255); stroke-opacity: 1; stroke-width: 1px;\"/><path class=\"xgrid crisp\" transform=\"translate(262.6,0)\" d=\"M0,76v253.91666666666669\" style=\"stroke: rgb(255, 255, 255); stroke-opacity: 1; stroke-width: 1px;\"/><path class=\"xgrid crisp\" transform=\"translate(350.52,0)\" d=\"M0,76v253.91666666666669\" style=\"stroke: rgb(255, 255, 255); stroke-opacity: 1; stroke-width: 1px;\"/><path class=\"xgrid crisp\" transform=\"translate(438.43,0)\" d=\"M0,76v253.91666666666669\" style=\"stroke: rgb(255, 255, 255); stroke-opacity: 1; stroke-width: 1px;\"/><path class=\"xgrid crisp\" transform=\"translate(526.35,0)\" d=\"M0,76v253.91666666666669\" style=\"stroke: rgb(255, 255, 255); stroke-opacity: 1; stroke-width: 1px;\"/><path class=\"xgrid crisp\" transform=\"translate(614.5,0)\" d=\"M0,76v253.91666666666669\" style=\"stroke: rgb(255, 255, 255); stroke-opacity: 1; stroke-width: 1px;\"/><path class=\"xgrid crisp\" transform=\"translate(702.42,0)\" d=\"M0,76v253.91666666666669\" style=\"stroke: rgb(255, 255, 255); stroke-opacity: 1; stroke-width: 1px;\"/></g><g class=\"y\"><path class=\"ygrid crisp\" transform=\"translate(0,266.48)\" d=\"M61,0h659\" style=\"stroke: rgb(255, 255, 255); stroke-opacity: 1; stroke-width: 1px;\"/><path class=\"ygrid crisp\" transform=\"translate(0,215.74)\" d=\"M61,0h659\" style=\"stroke: rgb(255, 255, 255); stroke-opacity: 1; stroke-width: 1px;\"/><path class=\"ygrid crisp\" transform=\"translate(0,165)\" d=\"M61,0h659\" style=\"stroke: rgb(255, 255, 255); stroke-opacity: 1; stroke-width: 1px;\"/><path class=\"ygrid crisp\" transform=\"translate(0,114.25)\" d=\"M61,0h659\" style=\"stroke: rgb(255, 255, 255); stroke-opacity: 1; stroke-width: 1px;\"/></g></g><g class=\"zerolinelayer\"><path class=\"yzl zl crisp\" transform=\"translate(0,317.22)\" d=\"M61,0h659\" style=\"stroke: rgb(255, 255, 255); stroke-opacity: 1; stroke-width: 2px;\"/></g><path class=\"xlines-below\"/><path class=\"ylines-below\"/><g class=\"overlines-below\"/><g class=\"xaxislayer-below\"/><g class=\"yaxislayer-below\"/><g class=\"overaxes-below\"/><g class=\"plot\" transform=\"translate(61,76)\" clip-path=\"url(#clip6183e8xyplot)\"><g class=\"scatterlayer mlayer\"><g class=\"trace scatter trace9aca4437-2ead-44ef-89cf-49b3eda3266f\" style=\"stroke-miterlimit: 2;\"><g class=\"fills\"><g><path class=\"js-fill\" d=\"M0,190.48L226.17,190.48L226.41,189.35L260.85,189.35L261.1,190.48L280.36,190.48L280.6,137.03L335.52,137.03L335.76,190.48L425.12,190.48L425.36,65.07L461.97,65.07L462.22,190.48L472.81,190.48L473.05,12.7L659,12.7L659,190.48L0,190.48Z\" style=\"fill: rgb(44, 160, 44); fill-opacity: 0.3; stroke-width: 0;\"/></g></g><g class=\"errorbars\"/><g class=\"lines\"><path class=\"js-line\" d=\"M0,190.48L659,190.48\" style=\"vector-effect: non-scaling-stroke; fill: none; stroke: rgb(0, 0, 0); stroke-opacity: 0; stroke-width: 0px; opacity: 1;\"/></g><g class=\"points\"/><g class=\"text\"/></g><g class=\"trace scatter trace4ead76a5-92ee-43a3-bf5c-f0ed546cf62f\" style=\"stroke-miterlimit: 2;\"><g class=\"fills\"/><g class=\"errorbars\"/><g class=\"lines\"><path class=\"js-line\" d=\"M0,190.48L226.17,190.48L226.41,189.35L260.85,189.35L261.1,190.48L280.36,190.48L280.6,137.03L335.52,137.03L335.76,190.48L425.12,190.48L425.36,65.07L461.97,65.07L462.22,190.48L472.81,190.48L473.05,12.7L659,12.7\" style=\"vector-effect: non-scaling-stroke; fill: none; stroke: rgb(0, 0, 0); stroke-opacity: 0; stroke-width: 0px; opacity: 1;\"/></g><g class=\"points\"/><g class=\"text\"/></g><g class=\"trace scatter trace70b1597d-1b02-41ce-926b-44979c72a8db\" style=\"stroke-miterlimit: 2;\"><g class=\"fills\"><g><path class=\"js-fill\" d=\"M0,190.48L55.16,190.48L55.4,241.22L91.53,241.22L91.77,190.48L202.08,190.48L202.32,241.22L226.17,241.22L226.41,190.48L260.85,190.48L261.1,241.22L280.36,241.22L280.6,190.48L335.52,190.48L335.76,241.22L425.12,241.22L425.36,190.48L461.97,190.48L462.22,241.22L472.81,241.22L473.05,190.48L659,190.48L659,190.48L0,190.48Z\" style=\"fill: rgb(220, 57, 18); fill-opacity: 0.3; stroke-width: 0;\"/></g></g><g class=\"errorbars\"/><g class=\"lines\"><path class=\"js-line\" d=\"M0,190.48L659,190.48\" style=\"vector-effect: non-scaling-stroke; fill: none; stroke: rgb(0, 0, 0); stroke-opacity: 0; stroke-width: 0px; opacity: 1;\"/></g><g class=\"points\"/><g class=\"text\"/></g><g class=\"trace scatter traced012ea1f-aa5e-4fe8-bf92-433d5619f3c5\" style=\"stroke-miterlimit: 2;\"><g class=\"fills\"/><g class=\"errorbars\"/><g class=\"lines\"><path class=\"js-line\" d=\"M0,190.48L55.16,190.48L55.4,241.22L91.53,241.22L91.77,190.48L202.08,190.48L202.32,241.22L226.17,241.22L226.41,190.48L260.85,190.48L261.1,241.22L280.36,241.22L280.6,190.48L335.52,190.48L335.76,241.22L425.12,241.22L425.36,190.48L461.97,190.48L462.22,241.22L472.81,241.22L473.05,190.48L659,190.48\" style=\"vector-effect: non-scaling-stroke; fill: none; stroke: rgb(0, 0, 0); stroke-opacity: 0; stroke-width: 0px; opacity: 1;\"/></g><g class=\"points\"/><g class=\"text\"/></g><g class=\"trace scatter tracedf04412f-4a41-4312-a82f-56856dcb75e6\" style=\"stroke-miterlimit: 2; opacity: 1;\"><g class=\"fills\"/><g class=\"errorbars\"/><g class=\"lines\"><path class=\"js-line\" d=\"M0,190.48L55.16,190.48L55.4,241.22L91.53,241.22L91.77,189.92L202.08,189.92L202.32,241.22L226.17,241.22L226.41,189.35L260.85,189.35L261.1,241.22L280.36,241.22L280.6,137.03L335.52,137.03L335.76,241.22L425.12,241.22L425.36,65.07L461.97,65.07L462.22,241.22L472.81,241.22L473.05,12.7L659,12.7\" style=\"vector-effect: non-scaling-stroke; fill: none; stroke: rgb(44, 160, 44); stroke-opacity: 1; stroke-width: 2px; opacity: 1;\"/></g><g class=\"points\"/><g class=\"text\"/></g><g class=\"trace scatter traced0bcab04-2338-4229-91bf-759222f91cf8\" style=\"stroke-miterlimit: 2; opacity: 0;\"><g class=\"fills\"/><g class=\"errorbars\"/><g class=\"lines\"><path class=\"js-line\" d=\"M0,190.48L659,190.48\" style=\"vector-effect: non-scaling-stroke; fill: none; stroke: rgb(0, 0, 0); stroke-opacity: 0; stroke-width: 0px; opacity: 1;\"/></g><g class=\"points\"/><g class=\"text\"/></g></g></g><g class=\"overplot\"/><path class=\"xlines-above crisp\" d=\"M0,0\" style=\"fill: none;\"/><path class=\"ylines-above crisp\" d=\"M0,0\" style=\"fill: none;\"/><g class=\"overlines-above\"/><g class=\"xaxislayer-above\"/><g class=\"yaxislayer-above\"><g class=\"ytick\"><text text-anchor=\"end\" x=\"60\" y=\"4.199999999999999\" transform=\"translate(0,317.22)\" style=\"font-family: 'Open Sans', verdana, arial, sans-serif; font-size: 12px; fill: rgb(42, 63, 95); fill-opacity: 1; white-space: pre; opacity: 1;\">0</text></g><g class=\"ytick\"><text text-anchor=\"end\" x=\"60\" y=\"4.199999999999999\" style=\"font-family: 'Open Sans', verdana, arial, sans-serif; font-size: 12px; fill: rgb(42, 63, 95); fill-opacity: 1; white-space: pre; opacity: 1;\" transform=\"translate(0,266.48)\">100</text></g><g class=\"ytick\"><text text-anchor=\"end\" x=\"60\" y=\"4.199999999999999\" style=\"font-family: 'Open Sans', verdana, arial, sans-serif; font-size: 12px; fill: rgb(42, 63, 95); fill-opacity: 1; white-space: pre; opacity: 1;\" transform=\"translate(0,215.74)\">200</text></g><g class=\"ytick\"><text text-anchor=\"end\" x=\"60\" y=\"4.199999999999999\" style=\"font-family: 'Open Sans', verdana, arial, sans-serif; font-size: 12px; fill: rgb(42, 63, 95); fill-opacity: 1; white-space: pre; opacity: 1;\" transform=\"translate(0,165)\">300</text></g><g class=\"ytick\"><text text-anchor=\"end\" x=\"60\" y=\"4.199999999999999\" style=\"font-family: 'Open Sans', verdana, arial, sans-serif; font-size: 12px; fill: rgb(42, 63, 95); fill-opacity: 1; white-space: pre; opacity: 1;\" transform=\"translate(0,114.25)\">400</text></g></g><g class=\"overaxes-above\"/></g><g class=\"subplot x2y2\"><g class=\"layer-subplot\"><g class=\"shapelayer\"/><g class=\"imagelayer\"/></g><g class=\"gridlayer\"><g class=\"x2\"><path class=\"x2grid crisp\" transform=\"translate(86.53,0)\" d=\"M0,364.54166666666674v253.9166666666666\" style=\"stroke: rgb(255, 255, 255); stroke-opacity: 1; stroke-width: 1px;\"/><path class=\"x2grid crisp\" transform=\"translate(174.45,0)\" d=\"M0,364.54166666666674v253.9166666666666\" style=\"stroke: rgb(255, 255, 255); stroke-opacity: 1; stroke-width: 1px;\"/><path class=\"x2grid crisp\" transform=\"translate(262.6,0)\" d=\"M0,364.54166666666674v253.9166666666666\" style=\"stroke: rgb(255, 255, 255); stroke-opacity: 1; stroke-width: 1px;\"/><path class=\"x2grid crisp\" transform=\"translate(350.52,0)\" d=\"M0,364.54166666666674v253.9166666666666\" style=\"stroke: rgb(255, 255, 255); stroke-opacity: 1; stroke-width: 1px;\"/><path class=\"x2grid crisp\" transform=\"translate(438.43,0)\" d=\"M0,364.54166666666674v253.9166666666666\" style=\"stroke: rgb(255, 255, 255); stroke-opacity: 1; stroke-width: 1px;\"/><path class=\"x2grid crisp\" transform=\"translate(526.35,0)\" d=\"M0,364.54166666666674v253.9166666666666\" style=\"stroke: rgb(255, 255, 255); stroke-opacity: 1; stroke-width: 1px;\"/><path class=\"x2grid crisp\" transform=\"translate(614.5,0)\" d=\"M0,364.54166666666674v253.9166666666666\" style=\"stroke: rgb(255, 255, 255); stroke-opacity: 1; stroke-width: 1px;\"/><path class=\"x2grid crisp\" transform=\"translate(702.42,0)\" d=\"M0,364.54166666666674v253.9166666666666\" style=\"stroke: rgb(255, 255, 255); stroke-opacity: 1; stroke-width: 1px;\"/></g><g class=\"y2\"><path class=\"y2grid crisp\" transform=\"translate(0,551.8016666666667)\" d=\"M61,0h659\" style=\"stroke: rgb(255, 255, 255); stroke-opacity: 1; stroke-width: 1px;\"/><path class=\"y2grid crisp\" transform=\"translate(0,497.84166666666675)\" d=\"M61,0h659\" style=\"stroke: rgb(255, 255, 255); stroke-opacity: 1; stroke-width: 1px;\"/><path class=\"y2grid crisp\" transform=\"translate(0,443.8816666666668)\" d=\"M61,0h659\" style=\"stroke: rgb(255, 255, 255); stroke-opacity: 1; stroke-width: 1px;\"/><path class=\"y2grid crisp\" transform=\"translate(0,389.92166666666674)\" d=\"M61,0h659\" style=\"stroke: rgb(255, 255, 255); stroke-opacity: 1; stroke-width: 1px;\"/></g></g><g class=\"zerolinelayer\"><path class=\"y2zl zl crisp\" transform=\"translate(0,605.7616666666668)\" d=\"M61,0h659\" style=\"stroke: rgb(255, 255, 255); stroke-opacity: 1; stroke-width: 2px;\"/></g><path class=\"xlines-below\"/><path class=\"ylines-below\"/><g class=\"overlines-below\"/><g class=\"xaxislayer-below\"/><g class=\"yaxislayer-below\"/><g class=\"overaxes-below\"/><g class=\"plot\" transform=\"translate(61,364.54166666666674)\" clip-path=\"url(#clip6183e8x2y2plot)\"><g class=\"scatterlayer mlayer\"><g class=\"trace scatter tracede8dbdc3-6de3-44c6-8ba9-285fae7da1dc\" style=\"stroke-miterlimit: 2;\"><g class=\"fills\"><g><path class=\"js-fill\" d=\"M0,241.22L55.16,241.22L55.4,12.7L91.53,12.7L91.77,241.22L202.08,241.22L202.32,193.98L226.17,193.98L226.41,241.22L260.85,241.22L261.1,228.62L280.36,228.62L280.6,241.22L335.52,241.22L335.76,223.43L425.12,223.43L425.36,241.22L461.97,241.22L462.22,215.21L472.81,215.21L473.05,241.22L659,241.22L659,241.22L0,241.22Z\" style=\"fill: rgb(140, 86, 75); fill-opacity: 0.3; stroke-width: 0;\"/></g></g><g class=\"errorbars\"/><g class=\"lines\"><path class=\"js-line\" d=\"M0,241.22L659,241.22\" style=\"vector-effect: non-scaling-stroke; fill: none; stroke: rgb(0, 0, 0); stroke-opacity: 0; stroke-width: 0px; opacity: 1;\"/></g><g class=\"points\"/><g class=\"text\"/></g><g class=\"trace scatter traceeed03821-8f02-412f-b006-b395879af967\" style=\"stroke-miterlimit: 2;\"><g class=\"fills\"/><g class=\"errorbars\"/><g class=\"lines\"><path class=\"js-line\" d=\"M0,241.22L55.16,241.22L55.4,12.7L91.53,12.7L91.77,241.22L202.08,241.22L202.32,193.98L226.17,193.98L226.41,241.22L260.85,241.22L261.1,228.62L280.36,228.62L280.6,241.22L335.52,241.22L335.76,223.43L425.12,223.43L425.36,241.22L461.97,241.22L462.22,215.21L472.81,215.21L473.05,241.22L659,241.22\" style=\"vector-effect: non-scaling-stroke; fill: none; stroke: rgb(0, 0, 0); stroke-opacity: 0; stroke-width: 0px; opacity: 1;\"/></g><g class=\"points\"/><g class=\"text\"/></g><g class=\"trace scatter trace20430422-3d1e-4620-af9f-2f6a63c4e6fd\" style=\"stroke-miterlimit: 2; opacity: 1;\"><g class=\"fills\"/><g class=\"errorbars\"/><g class=\"lines\"><path class=\"js-line\" d=\"M0,241.22L55.16,241.22L55.4,12.7L91.53,12.7L91.77,241.22L202.08,241.22L202.32,193.98L226.17,193.98L226.41,241.22L260.85,241.22L261.1,228.62L280.36,228.62L280.6,241.22L335.52,241.22L335.76,223.43L425.12,223.43L425.36,241.22L461.97,241.22L462.22,215.21L472.81,215.21L473.05,241.22L659,241.22\" style=\"vector-effect: non-scaling-stroke; fill: none; stroke: rgb(140, 86, 75); stroke-opacity: 1; stroke-width: 2px; opacity: 1;\"/></g><g class=\"points\"/><g class=\"text\"/></g><g class=\"trace scatter tracee1862889-4025-4d4b-86bf-567647759cf4\" style=\"stroke-miterlimit: 2; opacity: 0;\"><g class=\"fills\"/><g class=\"errorbars\"/><g class=\"lines\"><path class=\"js-line\" d=\"M0,241.22L659,241.22\" style=\"vector-effect: non-scaling-stroke; fill: none; stroke: rgb(0, 0, 0); stroke-opacity: 0; stroke-width: 0px; opacity: 1;\"/></g><g class=\"points\"/><g class=\"text\"/></g></g></g><g class=\"overplot\"/><path class=\"xlines-above crisp\" d=\"M0,0\" style=\"fill: none;\"/><path class=\"ylines-above crisp\" d=\"M0,0\" style=\"fill: none;\"/><g class=\"overlines-above\"/><g class=\"xaxislayer-above\"/><g class=\"yaxislayer-above\"><g class=\"y2tick\"><text text-anchor=\"end\" x=\"60\" y=\"4.199999999999999\" transform=\"translate(0,605.7616666666668)\" style=\"font-family: 'Open Sans', verdana, arial, sans-serif; font-size: 12px; fill: rgb(42, 63, 95); fill-opacity: 1; white-space: pre; opacity: 1;\">0</text></g><g class=\"y2tick\"><text text-anchor=\"end\" x=\"60\" y=\"4.199999999999999\" style=\"font-family: 'Open Sans', verdana, arial, sans-serif; font-size: 12px; fill: rgb(42, 63, 95); fill-opacity: 1; white-space: pre; opacity: 1;\" transform=\"translate(0,551.8016666666667)\">0.1</text></g><g class=\"y2tick\"><text text-anchor=\"end\" x=\"60\" y=\"4.199999999999999\" style=\"font-family: 'Open Sans', verdana, arial, sans-serif; font-size: 12px; fill: rgb(42, 63, 95); fill-opacity: 1; white-space: pre; opacity: 1;\" transform=\"translate(0,497.84166666666675)\">0.2</text></g><g class=\"y2tick\"><text text-anchor=\"end\" x=\"60\" y=\"4.199999999999999\" style=\"font-family: 'Open Sans', verdana, arial, sans-serif; font-size: 12px; fill: rgb(42, 63, 95); fill-opacity: 1; white-space: pre; opacity: 1;\" transform=\"translate(0,443.8816666666668)\">0.3</text></g><g class=\"y2tick\"><text text-anchor=\"end\" x=\"60\" y=\"4.199999999999999\" style=\"font-family: 'Open Sans', verdana, arial, sans-serif; font-size: 12px; fill: rgb(42, 63, 95); fill-opacity: 1; white-space: pre; opacity: 1;\" transform=\"translate(0,389.92166666666674)\">0.4</text></g></g><g class=\"overaxes-above\"/></g><g class=\"subplot x3y3\"><g class=\"layer-subplot\"><g class=\"shapelayer\"/><g class=\"imagelayer\"/></g><g class=\"gridlayer\"><g class=\"x3\"><path class=\"x3grid crisp\" transform=\"translate(86.53,0)\" d=\"M0,653.0833333333333v253.91666666666663\" style=\"stroke: rgb(255, 255, 255); stroke-opacity: 1; stroke-width: 1px;\"/><path class=\"x3grid crisp\" transform=\"translate(174.45,0)\" d=\"M0,653.0833333333333v253.91666666666663\" style=\"stroke: rgb(255, 255, 255); stroke-opacity: 1; stroke-width: 1px;\"/><path class=\"x3grid crisp\" transform=\"translate(262.6,0)\" d=\"M0,653.0833333333333v253.91666666666663\" style=\"stroke: rgb(255, 255, 255); stroke-opacity: 1; stroke-width: 1px;\"/><path class=\"x3grid crisp\" transform=\"translate(350.52,0)\" d=\"M0,653.0833333333333v253.91666666666663\" style=\"stroke: rgb(255, 255, 255); stroke-opacity: 1; stroke-width: 1px;\"/><path class=\"x3grid crisp\" transform=\"translate(438.43,0)\" d=\"M0,653.0833333333333v253.91666666666663\" style=\"stroke: rgb(255, 255, 255); stroke-opacity: 1; stroke-width: 1px;\"/><path class=\"x3grid crisp\" transform=\"translate(526.35,0)\" d=\"M0,653.0833333333333v253.91666666666663\" style=\"stroke: rgb(255, 255, 255); stroke-opacity: 1; stroke-width: 1px;\"/><path class=\"x3grid crisp\" transform=\"translate(614.5,0)\" d=\"M0,653.0833333333333v253.91666666666663\" style=\"stroke: rgb(255, 255, 255); stroke-opacity: 1; stroke-width: 1px;\"/><path class=\"x3grid crisp\" transform=\"translate(702.42,0)\" d=\"M0,653.0833333333333v253.91666666666663\" style=\"stroke: rgb(255, 255, 255); stroke-opacity: 1; stroke-width: 1px;\"/></g><g class=\"y3\"><path class=\"y3grid crisp\" transform=\"translate(0,875.6233333333332)\" d=\"M61,0h659\" style=\"stroke: rgb(255, 255, 255); stroke-opacity: 1; stroke-width: 1px;\"/><path class=\"y3grid crisp\" transform=\"translate(0,817.0533333333333)\" d=\"M61,0h659\" style=\"stroke: rgb(255, 255, 255); stroke-opacity: 1; stroke-width: 1px;\"/><path class=\"y3grid crisp\" transform=\"translate(0,758.4933333333332)\" d=\"M61,0h659\" style=\"stroke: rgb(255, 255, 255); stroke-opacity: 1; stroke-width: 1px;\"/><path class=\"y3grid crisp\" transform=\"translate(0,699.9233333333333)\" d=\"M61,0h659\" style=\"stroke: rgb(255, 255, 255); stroke-opacity: 1; stroke-width: 1px;\"/></g></g><g class=\"zerolinelayer\"/><path class=\"xlines-below\"/><path class=\"ylines-below\"/><g class=\"overlines-below\"/><g class=\"xaxislayer-below\"/><g class=\"yaxislayer-below\"/><g class=\"overaxes-below\"/><g class=\"plot\" transform=\"translate(61,653.0833333333333)\" clip-path=\"url(#clip6183e8x3y3plot)\"><g class=\"scatterlayer mlayer\"><g class=\"trace scatter trace414b5948-589b-4d8c-adb6-f6005fa2a16f\" style=\"stroke-miterlimit: 2;\"><g class=\"fills\"><g><path class=\"js-fill\" d=\"M0,222.54L55.88,222.24L56.12,220.62L57.33,222.47L57.57,222.34L57.81,222.17L58.77,222.54L59.01,222.54L59.25,222.54L59.49,221.49L60.7,222.25L60.94,222.22L63.59,222.54L63.83,222.54L65.27,222.36L65.51,218.87L66.72,220.6L66.96,219.84L67.44,221.45L67.92,220.68L68.16,218.85L68.4,219.34L68.65,217.34L68.89,215.85L69.13,216.96L69.37,217.75L69.85,216.39L70.09,213.66L70.57,215.08L71.05,214.33L71.3,210.44L71.78,204L72.02,208.66L73.46,213.24L73.7,211.91L74.43,212.63L74.67,209.6L74.91,209.5L75.15,208.51L75.63,208.08L75.87,209.28L77.08,211.35L77.32,210.36L77.8,212.01L78.04,211.76L78.28,216.37L79,214.04L79.24,215.03L79.48,215.6L79.73,215.21L79.97,216.23L80.45,217.12L80.69,222.54L85.02,222.54L85.27,221.61L85.51,221.61L85.75,220.68L86.71,222.54L86.95,222.54L214.13,222.54L214.37,221.28L214.61,220.92L214.85,222.45L217.02,215.83L217.26,218.36L217.98,222.54L218.22,220.81L219.18,217.03L219.43,220.19L220.39,222.54L220.63,222.54L224.24,222.54L224.48,220.46L224.97,220.8L225.21,220.19L225.45,220.23L225.69,219.31L225.93,219.55L226.17,221.14L228.34,221.23L228.58,221.23L261.1,221.23L261.34,218.22L261.58,218.18L261.82,222.54L266.88,222.54L267.12,221.75L267.6,220.78L267.84,222.04L268.08,222.54L268.32,221.89L268.56,221.31L269.04,218.03L269.28,215.82L269.77,215.08L270.01,206.59L270.49,201.33L270.97,202.78L271.21,204.42L271.45,204.62L271.69,203.01L272.17,198.59L272.42,198.91L272.66,199.98L272.9,205.5L273.38,200.33L273.62,202.02L273.86,202.4L274.1,196.92L274.34,197.24L274.58,192.62L275.79,179.77L276.03,185.03L276.51,179.06L276.75,183.38L277.47,199.71L277.71,191.37L277.96,190.33L279.16,171.17L279.4,168.92L279.88,168.2L280.12,171.14L280.36,168.2L281.33,160.85L281.57,160.85L336,160.67L336.24,159.93L336.49,158.32L336.73,150.94L337.45,136.94L337.69,139.12L337.93,137.86L338.17,137.88L338.41,132.23L338.65,118.46L339.13,127.59L339.38,123.46L339.86,122.43L340.1,123.17L340.34,130.89L342.75,161.7L342.99,159.55L343.23,159.03L343.71,161.41L343.95,159.31L344.19,158.8L344.43,154.05L345.16,159.31L345.4,155.83L345.64,157.99L345.88,154.94L346.12,151.36L346.6,151.61L346.84,148.18L347.08,144.1L347.56,146.38L347.81,145.23L348.05,142.23L348.77,138.97L349.01,149.96L349.73,160.9L349.97,159.45L350.21,158.9L350.46,159.06L350.7,158.47L350.94,155.28L351.66,155.28L351.9,159.83L352.86,151.07L353.35,151.54L353.59,153.77L353.83,156.64L354.07,155.71L354.31,152.2L355.75,155.56L355.99,154.13L356.96,152.67L357.2,152.86L357.44,153.96L357.68,160.32L358.4,159.65L358.64,153.75L358.89,153.75L359.13,154.75L359.61,156.28L360.09,155.95L360.33,155.86L361.53,155.99L361.78,155.87L362.5,159.13L362.74,157.97L363.7,157.16L363.94,156.36L364.18,155.03L364.43,156.5L364.67,157.82L365.15,157.32L365.39,158.1L365.63,158.32L365.87,170.32L366.59,173.87L366.83,172.53L367.07,187.05L368.28,206.18L368.52,203.68L368.76,208.14L369,207.34L369.24,198.91L369.48,198.49L369.72,203.54L369.96,199.73L370.21,201.18L370.45,205.92L370.69,204.71L370.93,208.63L371.41,215.08L371.65,213.99L371.89,211.32L373.34,218.61L373.58,218.3L374.54,201.28L374.78,205.87L375.02,203.6L375.26,203.9L375.5,202.36L376.23,210.54L376.47,205.35L377.19,208.84L377.43,206.9L377.67,204.97L377.91,207.03L378.15,206.62L378.4,206.87L378.64,202.4L379.12,203.28L379.36,203.2L380.32,212.51L380.56,209.55L380.8,211.01L381.29,210.08L381.53,210.48L381.77,209.12L382.01,211.58L382.25,212.06L383.21,211.6L383.45,211.55L383.69,211.91L383.93,214.1L384.42,213.8L384.66,214.34L384.9,213.76L385.14,213.12L385.38,214.22L385.62,214.32L385.86,214.18L386.1,215.19L386.34,215.47L386.58,210.31L387.07,209.86L387.31,210.66L387.79,210.98L388.03,211.27L388.51,211.02L388.75,210.17L389.47,203.88L389.72,204.76L389.96,203.77L390.2,201.12L390.44,207.54L390.68,206.14L391.16,206.75L391.4,206.68L392.12,206.83L392.37,208.48L393.09,205.59L393.33,205.79L393.57,204.58L394.53,205.68L394.77,205.34L396.22,202.19L396.46,203.31L397.18,203.45L397.42,204.59L399.11,200.82L399.35,186.89L400.8,178.98L401.04,180.61L401.28,178.3L401.52,183.33L402.24,181.33L402.48,183.27L403.44,178.7L403.69,178.05L403.93,178.5L404.17,176.86L404.41,173.52L404.65,175.6L404.89,180.51L405.61,179.07L405.85,179.79L407.06,168.52L407.3,169.21L407.54,170.15L408.26,161.89L408.5,157.95L409.71,122.69L409.95,128.87L410.43,140.72L410.67,122.83L411.39,132.83L411.63,128.93L411.88,126.89L412.12,125.64L412.36,113.65L412.6,111.09L413.08,113.92L413.32,120.48L414.04,112.31L414.28,122.62L414.52,132.29L415.01,130.09L415.25,125.8L415.73,132.67L415.97,126.64L416.21,128.05L416.45,123.83L416.69,122.19L416.93,113.25L418.38,97.17L418.62,85.25L419.82,29.8L420.06,65.2L420.31,41.56L420.55,50.21L420.79,72.26L421.03,76.78L421.27,72.56L421.51,50.17L421.99,69.15L422.23,64.7L422.47,60.03L422.95,38.35L423.2,46.4L423.44,61.81L423.68,52.98L423.92,61.16L424.16,83.09L424.4,70.76L424.64,98.12L424.88,93.95L425.12,75.17L426.09,77.79L426.33,77.79L462.46,77.34L462.7,78.12L462.94,69.08L463.42,74.41L463.66,75.75L463.9,76.77L464.14,75.33L464.38,74.54L464.62,71.59L464.86,75.25L465.11,78.05L465.35,77.87L465.59,83.93L466.79,50.67L467.03,53.04L467.27,58.7L468.48,31.92L468.72,32.51L468.96,34.86L469.44,28.68L469.68,35.35L469.92,36.73L470.16,34.24L470.4,36.07L470.65,43.82L470.89,42.72L471.13,44.91L471.37,38.44L472.33,12.7L472.57,17.17L472.81,15.97L473.78,17.34L474.02,17.34L659,17.34L659,222.54L0,222.54Z\" style=\"fill: rgb(0, 128, 0); fill-opacity: 0.3; stroke-width: 0;\"/></g></g><g class=\"errorbars\"/><g class=\"lines\"><path class=\"js-line\" d=\"M0,222.54L659,222.54\" style=\"vector-effect: non-scaling-stroke; fill: none; stroke: rgb(0, 0, 0); stroke-opacity: 0; stroke-width: 0px; opacity: 1;\"/></g><g class=\"points\"/><g class=\"text\"/></g><g class=\"trace scatter trace7272fe68-a5b9-49f3-8e1a-051c1fc2c372\" style=\"stroke-miterlimit: 2;\"><g class=\"fills\"/><g class=\"errorbars\"/><g class=\"lines\"><path class=\"js-line\" d=\"M0,222.54L55.88,222.24L56.12,220.62L57.33,222.47L57.57,222.34L57.81,222.17L58.77,222.54L59.01,222.54L59.25,222.54L59.49,221.49L60.7,222.25L60.94,222.22L63.59,222.54L63.83,222.54L65.27,222.36L65.51,218.87L66.72,220.6L66.96,219.84L67.44,221.45L67.92,220.68L68.16,218.85L68.4,219.34L68.65,217.34L68.89,215.85L69.13,216.96L69.37,217.75L69.85,216.39L70.09,213.66L70.57,215.08L71.05,214.33L71.3,210.44L71.78,204L72.02,208.66L73.46,213.24L73.7,211.91L74.43,212.63L74.67,209.6L74.91,209.5L75.15,208.51L75.63,208.08L75.87,209.28L77.08,211.35L77.32,210.36L77.8,212.01L78.04,211.76L78.28,216.37L79,214.04L79.24,215.03L79.48,215.6L79.73,215.21L79.97,216.23L80.45,217.12L80.69,222.54L85.02,222.54L85.27,221.61L85.51,221.61L85.75,220.68L86.71,222.54L86.95,222.54L214.13,222.54L214.37,221.28L214.61,220.92L214.85,222.45L217.02,215.83L217.26,218.36L217.98,222.54L218.22,220.81L219.18,217.03L219.43,220.19L220.39,222.54L220.63,222.54L224.24,222.54L224.48,220.46L224.97,220.8L225.21,220.19L225.45,220.23L225.69,219.31L225.93,219.55L226.17,221.14L228.34,221.23L228.58,221.23L261.1,221.23L261.34,218.22L261.58,218.18L261.82,222.54L266.88,222.54L267.12,221.75L267.6,220.78L267.84,222.04L268.08,222.54L268.32,221.89L268.56,221.31L269.04,218.03L269.28,215.82L269.77,215.08L270.01,206.59L270.49,201.33L270.97,202.78L271.21,204.42L271.45,204.62L271.69,203.01L272.17,198.59L272.42,198.91L272.66,199.98L272.9,205.5L273.38,200.33L273.62,202.02L273.86,202.4L274.1,196.92L274.34,197.24L274.58,192.62L275.79,179.77L276.03,185.03L276.51,179.06L276.75,183.38L277.47,199.71L277.71,191.37L277.96,190.33L279.16,171.17L279.4,168.92L279.88,168.2L280.12,171.14L280.36,168.2L281.33,160.85L281.57,160.85L336,160.67L336.24,159.93L336.49,158.32L336.73,150.94L337.45,136.94L337.69,139.12L337.93,137.86L338.17,137.88L338.41,132.23L338.65,118.46L339.13,127.59L339.38,123.46L339.86,122.43L340.1,123.17L340.34,130.89L342.75,161.7L342.99,159.55L343.23,159.03L343.71,161.41L343.95,159.31L344.19,158.8L344.43,154.05L345.16,159.31L345.4,155.83L345.64,157.99L345.88,154.94L346.12,151.36L346.6,151.61L346.84,148.18L347.08,144.1L347.56,146.38L347.81,145.23L348.05,142.23L348.77,138.97L349.01,149.96L349.73,160.9L349.97,159.45L350.21,158.9L350.46,159.06L350.7,158.47L350.94,155.28L351.66,155.28L351.9,159.83L352.86,151.07L353.35,151.54L353.59,153.77L353.83,156.64L354.07,155.71L354.31,152.2L355.75,155.56L355.99,154.13L356.96,152.67L357.2,152.86L357.44,153.96L357.68,160.32L358.4,159.65L358.64,153.75L358.89,153.75L359.13,154.75L359.61,156.28L360.09,155.95L360.33,155.86L361.53,155.99L361.78,155.87L362.5,159.13L362.74,157.97L363.7,157.16L363.94,156.36L364.18,155.03L364.43,156.5L364.67,157.82L365.15,157.32L365.39,158.1L365.63,158.32L365.87,170.32L366.59,173.87L366.83,172.53L367.07,187.05L368.28,206.18L368.52,203.68L368.76,208.14L369,207.34L369.24,198.91L369.48,198.49L369.72,203.54L369.96,199.73L370.21,201.18L370.45,205.92L370.69,204.71L370.93,208.63L371.41,215.08L371.65,213.99L371.89,211.32L373.34,218.61L373.58,218.3L374.54,201.28L374.78,205.87L375.02,203.6L375.26,203.9L375.5,202.36L376.23,210.54L376.47,205.35L377.19,208.84L377.43,206.9L377.67,204.97L377.91,207.03L378.15,206.62L378.4,206.87L378.64,202.4L379.12,203.28L379.36,203.2L380.32,212.51L380.56,209.55L380.8,211.01L381.29,210.08L381.53,210.48L381.77,209.12L382.01,211.58L382.25,212.06L383.21,211.6L383.45,211.55L383.69,211.91L383.93,214.1L384.42,213.8L384.66,214.34L384.9,213.76L385.14,213.12L385.38,214.22L385.62,214.32L385.86,214.18L386.1,215.19L386.34,215.47L386.58,210.31L387.07,209.86L387.31,210.66L387.79,210.98L388.03,211.27L388.51,211.02L388.75,210.17L389.47,203.88L389.72,204.76L389.96,203.77L390.2,201.12L390.44,207.54L390.68,206.14L391.16,206.75L391.4,206.68L392.12,206.83L392.37,208.48L393.09,205.59L393.33,205.79L393.57,204.58L394.53,205.68L394.77,205.34L396.22,202.19L396.46,203.31L397.18,203.45L397.42,204.59L399.11,200.82L399.35,186.89L400.8,178.98L401.04,180.61L401.28,178.3L401.52,183.33L402.24,181.33L402.48,183.27L403.44,178.7L403.69,178.05L403.93,178.5L404.17,176.86L404.41,173.52L404.65,175.6L404.89,180.51L405.61,179.07L405.85,179.79L407.06,168.52L407.3,169.21L407.54,170.15L408.26,161.89L408.5,157.95L409.71,122.69L409.95,128.87L410.43,140.72L410.67,122.83L411.39,132.83L411.63,128.93L411.88,126.89L412.12,125.64L412.36,113.65L412.6,111.09L413.08,113.92L413.32,120.48L414.04,112.31L414.28,122.62L414.52,132.29L415.01,130.09L415.25,125.8L415.73,132.67L415.97,126.64L416.21,128.05L416.45,123.83L416.69,122.19L416.93,113.25L418.38,97.17L418.62,85.25L419.82,29.8L420.06,65.2L420.31,41.56L420.55,50.21L420.79,72.26L421.03,76.78L421.27,72.56L421.51,50.17L421.99,69.15L422.23,64.7L422.47,60.03L422.95,38.35L423.2,46.4L423.44,61.81L423.68,52.98L423.92,61.16L424.16,83.09L424.4,70.76L424.64,98.12L424.88,93.95L425.12,75.17L426.09,77.79L426.33,77.79L462.46,77.34L462.7,78.12L462.94,69.08L463.42,74.41L463.66,75.75L463.9,76.77L464.14,75.33L464.38,74.54L464.62,71.59L464.86,75.25L465.11,78.05L465.35,77.87L465.59,83.93L466.79,50.67L467.03,53.04L467.27,58.7L468.48,31.92L468.72,32.51L468.96,34.86L469.44,28.68L469.68,35.35L469.92,36.73L470.16,34.24L470.4,36.07L470.65,43.82L470.89,42.72L471.13,44.91L471.37,38.44L472.33,12.7L472.57,17.17L472.81,15.97L473.78,17.34L474.02,17.34L659,17.34\" style=\"vector-effect: non-scaling-stroke; fill: none; stroke: rgb(0, 0, 0); stroke-opacity: 0; stroke-width: 0px; opacity: 1;\"/></g><g class=\"points\"/><g class=\"text\"/></g><g class=\"trace scatter trace882f1374-164b-4eb3-80a6-0eb9829c6a7b\" style=\"stroke-miterlimit: 2;\"><g class=\"fills\"><g><path class=\"js-fill\" d=\"M0,222.54L55.4,222.54L55.64,224.11L56.6,222.54L56.84,222.54L58.53,223.28L58.77,223.57L59.97,222.54L60.22,222.54L61.42,223.23L61.66,224.01L61.9,225.81L62.38,225.08L62.62,225.46L63.11,225.14L63.35,225.82L63.59,224.43L65.03,223.18L65.27,222.54L80.45,222.54L80.69,228.75L81.17,222.73L81.65,223.96L81.89,224.51L82.13,228.89L82.62,225.09L82.86,225.35L83.1,223.71L83.58,224.36L83.82,224.04L84.54,224.75L84.78,223.98L85.75,222.54L85.99,222.54L86.71,222.76L86.95,223.93L87.91,224.1L88.16,223.32L88.88,224.78L89.12,223.9L89.36,223.99L89.84,222.78L90.08,222.98L90.32,223.37L91.29,222.54L91.53,222.54L202.32,222.54L202.57,229.14L203.53,234.81L203.77,234.56L204.01,241.22L204.49,238.85L204.73,239.14L205.21,238.46L205.46,234.55L205.7,235.64L206.18,235.21L206.42,233.84L206.9,233.87L207.14,235.33L208.35,233.95L208.59,233.91L209.79,227.62L210.03,228.42L210.75,226.59L211,230.11L211.48,229.6L211.96,230.3L212.2,229.59L212.68,228.42L212.92,227.46L213.65,225.72L213.89,223.91L214.13,223.8L214.37,222.54L217.74,222.54L217.98,223.84L218.94,222.54L219.18,222.54L219.43,222.54L219.67,224.68L219.91,231.17L220.39,227.04L220.63,223.64L221.35,233.03L221.83,231.53L222.08,227.48L222.56,227.77L222.8,228.47L223.76,222.54L224,222.99L224.24,223.43L225.21,222.54L225.45,222.54L262.06,223.29L262.3,224.7L262.54,224.18L262.78,224.59L263.02,227.99L263.26,237.94L263.74,231.51L263.99,232.09L264.23,225.49L264.71,227.67L264.95,231.43L265.19,231.44L265.43,229.22L265.67,230.72L265.91,227.4L266.15,227.86L266.39,223.64L266.88,224.15L267.12,222.54L659,222.54L659,222.54L0,222.54Z\" style=\"fill: rgb(255, 0, 0); fill-opacity: 0.3; stroke-width: 0;\"/></g></g><g class=\"errorbars\"/><g class=\"lines\"><path class=\"js-line\" d=\"M0,222.54L659,222.54\" style=\"vector-effect: non-scaling-stroke; fill: none; stroke: rgb(0, 0, 0); stroke-opacity: 0; stroke-width: 0px; opacity: 1;\"/></g><g class=\"points\"/><g class=\"text\"/></g><g class=\"trace scatter trace7a61ba8a-811d-4408-be30-3b7ffdde658b\" style=\"stroke-miterlimit: 2;\"><g class=\"fills\"/><g class=\"errorbars\"/><g class=\"lines\"><path class=\"js-line\" d=\"M0,222.54L55.4,222.54L55.64,224.11L56.6,222.54L56.84,222.54L58.53,223.28L58.77,223.57L59.97,222.54L60.22,222.54L61.42,223.23L61.66,224.01L61.9,225.81L62.38,225.08L62.62,225.46L63.11,225.14L63.35,225.82L63.59,224.43L65.03,223.18L65.27,222.54L80.45,222.54L80.69,228.75L81.17,222.73L81.65,223.96L81.89,224.51L82.13,228.89L82.62,225.09L82.86,225.35L83.1,223.71L83.58,224.36L83.82,224.04L84.54,224.75L84.78,223.98L85.75,222.54L85.99,222.54L86.71,222.76L86.95,223.93L87.91,224.1L88.16,223.32L88.88,224.78L89.12,223.9L89.36,223.99L89.84,222.78L90.08,222.98L90.32,223.37L91.29,222.54L91.53,222.54L202.32,222.54L202.57,229.14L203.53,234.81L203.77,234.56L204.01,241.22L204.49,238.85L204.73,239.14L205.21,238.46L205.46,234.55L205.7,235.64L206.18,235.21L206.42,233.84L206.9,233.87L207.14,235.33L208.35,233.95L208.59,233.91L209.79,227.62L210.03,228.42L210.75,226.59L211,230.11L211.48,229.6L211.96,230.3L212.2,229.59L212.68,228.42L212.92,227.46L213.65,225.72L213.89,223.91L214.13,223.8L214.37,222.54L217.74,222.54L217.98,223.84L218.94,222.54L219.18,222.54L219.43,222.54L219.67,224.68L219.91,231.17L220.39,227.04L220.63,223.64L221.35,233.03L221.83,231.53L222.08,227.48L222.56,227.77L222.8,228.47L223.76,222.54L224,222.99L224.24,223.43L225.21,222.54L225.45,222.54L262.06,223.29L262.3,224.7L262.54,224.18L262.78,224.59L263.02,227.99L263.26,237.94L263.74,231.51L263.99,232.09L264.23,225.49L264.71,227.67L264.95,231.43L265.19,231.44L265.43,229.22L265.67,230.72L265.91,227.4L266.15,227.86L266.39,223.64L266.88,224.15L267.12,222.54L659,222.54\" style=\"vector-effect: non-scaling-stroke; fill: none; stroke: rgb(0, 0, 0); stroke-opacity: 0; stroke-width: 0px; opacity: 1;\"/></g><g class=\"points\"/><g class=\"text\"/></g><g class=\"trace scatter trace6ff9a139-7989-4133-82e1-73c97cccb717\" style=\"stroke-miterlimit: 2; opacity: 1;\"><g class=\"fills\"/><g class=\"errorbars\"/><g class=\"lines\"><path class=\"js-line\" d=\"M0,222.54L55.4,222.54L55.64,224.11L56.12,220.62L56.6,221.5L56.84,221.04L58.05,222.53L58.29,222.37L58.77,223.57L59.01,223.06L59.25,222.73L59.97,221.34L60.22,222.29L61.18,222.3L61.42,223.23L61.9,225.81L62.38,225.08L62.62,225.46L63.11,225.14L63.35,225.82L63.59,224.43L65.03,223.18L65.27,222.36L65.51,218.87L66,219.34L66.24,220.43L66.96,219.84L67.2,220.51L67.44,221.45L68.65,217.34L68.89,215.85L69.37,217.75L69.61,217.52L69.85,216.39L70.09,213.66L70.81,213.94L71.05,214.33L71.78,204L72.02,208.66L72.26,209.8L72.5,210.21L72.74,212.13L72.98,211.78L73.22,212.92L73.46,213.24L73.7,211.91L74.43,212.63L74.67,209.6L74.91,209.5L75.15,208.51L75.63,208.08L75.87,209.28L77.08,211.35L77.32,210.36L77.8,212.01L78.04,211.76L78.28,216.37L79,214.04L79.24,215.03L79.48,215.6L79.73,215.21L79.97,216.23L80.45,217.12L80.69,228.75L81.17,222.73L81.65,223.96L81.89,224.51L82.13,228.89L82.62,225.09L82.86,225.35L83.1,223.71L83.58,224.36L83.82,224.04L84.54,224.75L84.78,223.98L85.75,220.68L85.99,222.03L86.47,221.55L86.71,222.76L87.67,224.28L87.91,224.1L88.16,223.32L88.64,223.75L88.88,224.78L89.84,222.78L90.08,222.98L90.32,223.37L90.56,221.79L91.05,222.55L91.29,222.18L92.97,221.89L93.21,221.89L202.32,221.89L202.57,229.14L203.53,234.81L203.77,234.56L204.01,241.22L204.49,238.85L204.73,239.14L205.21,238.46L205.46,234.55L205.7,235.64L206.18,235.21L206.42,233.84L206.9,233.87L207.14,235.33L208.35,233.95L208.59,233.91L209.79,227.62L210.03,228.42L210.75,226.59L211,230.11L211.48,229.6L211.96,230.3L212.2,229.59L212.68,228.42L212.92,227.46L213.65,225.72L213.89,223.91L214.13,223.8L214.37,221.28L214.61,220.92L214.85,222.45L217.02,215.83L217.26,218.36L217.98,223.84L218.22,220.81L219.18,217.03L219.43,220.19L219.91,231.17L220.39,227.04L220.63,223.64L221.35,233.03L221.83,231.53L222.08,227.48L222.56,227.77L222.8,228.47L223.76,222.45L224,222.99L224.24,223.43L225.21,220.19L225.45,220.23L225.69,219.31L225.93,219.55L226.17,221.14L228.34,221.23L228.58,221.23L261.1,221.23L261.34,218.22L261.58,218.18L261.82,223.25L262.06,223.29L262.3,224.7L262.54,224.18L262.78,224.59L263.02,227.99L263.26,237.94L263.74,231.51L263.99,232.09L264.23,225.49L264.71,227.67L264.95,231.43L265.19,231.44L265.43,229.22L265.67,230.72L265.91,227.4L266.15,227.86L266.39,223.64L266.88,224.15L267.12,221.75L267.6,220.78L267.84,222.04L268.08,223.25L268.32,221.89L268.56,221.31L269.04,218.03L269.28,215.82L269.77,215.08L270.01,206.59L270.49,201.33L270.97,202.78L271.21,204.42L271.45,204.62L271.69,203.01L272.17,198.59L272.42,198.91L272.66,199.98L272.9,205.5L273.38,200.33L273.62,202.02L273.86,202.4L274.1,196.92L274.34,197.24L274.58,192.62L275.79,179.77L276.03,185.03L276.51,179.06L276.75,183.38L277.47,199.71L277.71,191.37L277.96,190.33L279.16,171.17L279.4,168.92L279.88,168.2L280.12,171.14L280.36,168.2L281.33,160.85L281.57,160.85L336,160.67L336.24,159.93L336.49,158.32L336.73,150.94L337.45,136.94L337.69,139.12L337.93,137.86L338.17,137.88L338.41,132.23L338.65,118.46L339.13,127.59L339.38,123.46L339.86,122.43L340.1,123.17L340.34,130.89L342.75,161.7L342.99,159.55L343.23,159.03L343.71,161.41L343.95,159.31L344.19,158.8L344.43,154.05L345.16,159.31L345.4,155.83L345.64,157.99L345.88,154.94L346.12,151.36L346.6,151.61L346.84,148.18L347.08,144.1L347.56,146.38L347.81,145.23L348.05,142.23L348.77,138.97L349.01,149.96L349.73,160.9L349.97,159.45L350.21,158.9L350.46,159.06L350.7,158.47L350.94,155.28L351.66,155.28L351.9,159.83L352.86,151.07L353.35,151.54L353.59,153.77L353.83,156.64L354.07,155.71L354.31,152.2L355.75,155.56L355.99,154.13L356.96,152.67L357.2,152.86L357.44,153.96L357.68,160.32L358.4,159.65L358.64,153.75L358.89,153.75L359.13,154.75L359.61,156.28L360.09,155.95L360.33,155.86L361.53,155.99L361.78,155.87L362.5,159.13L362.74,157.97L363.7,157.16L363.94,156.36L364.18,155.03L364.43,156.5L364.67,157.82L365.15,157.32L365.39,158.1L365.63,158.32L365.87,170.32L366.59,173.87L366.83,172.53L367.07,187.05L368.28,206.18L368.52,203.68L368.76,208.14L369,207.34L369.24,198.91L369.48,198.49L369.72,203.54L369.96,199.73L370.21,201.18L370.45,205.92L370.69,204.71L370.93,208.63L371.41,215.08L371.65,213.99L371.89,211.32L373.34,218.61L373.58,218.3L374.54,201.28L374.78,205.87L375.02,203.6L375.26,203.9L375.5,202.36L376.23,210.54L376.47,205.35L377.19,208.84L377.43,206.9L377.67,204.97L377.91,207.03L378.15,206.62L378.4,206.87L378.64,202.4L379.12,203.28L379.36,203.2L380.32,212.51L380.56,209.55L380.8,211.01L381.29,210.08L381.53,210.48L381.77,209.12L382.01,211.58L382.25,212.06L383.21,211.6L383.45,211.55L383.69,211.91L383.93,214.1L384.42,213.8L384.66,214.34L384.9,213.76L385.14,213.12L385.38,214.22L385.62,214.32L385.86,214.18L386.1,215.19L386.34,215.47L386.58,210.31L387.07,209.86L387.31,210.66L387.79,210.98L388.03,211.27L388.51,211.02L388.75,210.17L389.47,203.88L389.72,204.76L389.96,203.77L390.2,201.12L390.44,207.54L390.68,206.14L391.16,206.75L391.4,206.68L392.12,206.83L392.37,208.48L393.09,205.59L393.33,205.79L393.57,204.58L394.53,205.68L394.77,205.34L396.22,202.19L396.46,203.31L397.18,203.45L397.42,204.59L399.11,200.82L399.35,186.89L400.8,178.98L401.04,180.61L401.28,178.3L401.52,183.33L402.24,181.33L402.48,183.27L403.44,178.7L403.69,178.05L403.93,178.5L404.17,176.86L404.41,173.52L404.65,175.6L404.89,180.51L405.61,179.07L405.85,179.79L407.06,168.52L407.3,169.21L407.54,170.15L408.26,161.89L408.5,157.95L409.71,122.69L409.95,128.87L410.43,140.72L410.67,122.83L411.39,132.83L411.63,128.93L411.88,126.89L412.12,125.64L412.36,113.65L412.6,111.09L413.08,113.92L413.32,120.48L414.04,112.31L414.28,122.62L414.52,132.29L415.01,130.09L415.25,125.8L415.73,132.67L415.97,126.64L416.21,128.05L416.45,123.83L416.69,122.19L416.93,113.25L418.38,97.17L418.62,85.25L419.82,29.8L420.06,65.2L420.31,41.56L420.55,50.21L420.79,72.26L421.03,76.78L421.27,72.56L421.51,50.17L421.99,69.15L422.23,64.7L422.47,60.03L422.95,38.35L423.2,46.4L423.44,61.81L423.68,52.98L423.92,61.16L424.16,83.09L424.4,70.76L424.64,98.12L424.88,93.95L425.12,75.17L426.09,77.79L426.33,77.79L462.46,77.34L462.7,78.12L462.94,69.08L463.42,74.41L463.66,75.75L463.9,76.77L464.14,75.33L464.38,74.54L464.62,71.59L464.86,75.25L465.11,78.05L465.35,77.87L465.59,83.93L466.79,50.67L467.03,53.04L467.27,58.7L468.48,31.92L468.72,32.51L468.96,34.86L469.44,28.68L469.68,35.35L469.92,36.73L470.16,34.24L470.4,36.07L470.65,43.82L470.89,42.72L471.13,44.91L471.37,38.44L472.33,12.7L472.57,17.17L472.81,15.97L473.78,17.34L474.02,17.34L659,17.34\" style=\"vector-effect: non-scaling-stroke; fill: none; stroke: rgb(148, 103, 189); stroke-opacity: 1; stroke-width: 2px; opacity: 1;\"/></g><g class=\"points\"/><g class=\"text\"/></g><g class=\"trace scatter traceac58bdb5-37fa-42eb-a5ff-4dad92416a14\" style=\"stroke-miterlimit: 2; opacity: 0;\"><g class=\"fills\"/><g class=\"errorbars\"/><g class=\"lines\"><path class=\"js-line\" d=\"M0,222.54L659,222.54\" style=\"vector-effect: non-scaling-stroke; fill: none; stroke: rgb(0, 0, 0); stroke-opacity: 0; stroke-width: 0px; opacity: 1;\"/></g><g class=\"points\"/><g class=\"text\"/></g></g></g><g class=\"overplot\"/><path class=\"xlines-above crisp\" d=\"M0,0\" style=\"fill: none;\"/><path class=\"ylines-above crisp\" d=\"M0,0\" style=\"fill: none;\"/><g class=\"overlines-above\"/><g class=\"xaxislayer-above\"><g class=\"x3tick\"><text text-anchor=\"middle\" x=\"0\" y=\"919.9999999999999\" transform=\"translate(86.53,0)\" style=\"font-family: 'Open Sans', verdana, arial, sans-serif; font-size: 12px; fill: rgb(42, 63, 95); fill-opacity: 1; white-space: pre; opacity: 1;\">2015</text></g><g class=\"x3tick\"><text text-anchor=\"middle\" x=\"0\" y=\"919.9999999999999\" style=\"font-family: 'Open Sans', verdana, arial, sans-serif; font-size: 12px; fill: rgb(42, 63, 95); fill-opacity: 1; white-space: pre; opacity: 1;\" transform=\"translate(174.45,0)\">2016</text></g><g class=\"x3tick\"><text text-anchor=\"middle\" x=\"0\" y=\"919.9999999999999\" style=\"font-family: 'Open Sans', verdana, arial, sans-serif; font-size: 12px; fill: rgb(42, 63, 95); fill-opacity: 1; white-space: pre; opacity: 1;\" transform=\"translate(262.6,0)\">2017</text></g><g class=\"x3tick\"><text text-anchor=\"middle\" x=\"0\" y=\"919.9999999999999\" style=\"font-family: 'Open Sans', verdana, arial, sans-serif; font-size: 12px; fill: rgb(42, 63, 95); fill-opacity: 1; white-space: pre; opacity: 1;\" transform=\"translate(350.52,0)\">2018</text></g><g class=\"x3tick\"><text text-anchor=\"middle\" x=\"0\" y=\"919.9999999999999\" style=\"font-family: 'Open Sans', verdana, arial, sans-serif; font-size: 12px; fill: rgb(42, 63, 95); fill-opacity: 1; white-space: pre; opacity: 1;\" transform=\"translate(438.43,0)\">2019</text></g><g class=\"x3tick\"><text text-anchor=\"middle\" x=\"0\" y=\"919.9999999999999\" style=\"font-family: 'Open Sans', verdana, arial, sans-serif; font-size: 12px; fill: rgb(42, 63, 95); fill-opacity: 1; white-space: pre; opacity: 1;\" transform=\"translate(526.35,0)\">2020</text></g><g class=\"x3tick\"><text text-anchor=\"middle\" x=\"0\" y=\"919.9999999999999\" style=\"font-family: 'Open Sans', verdana, arial, sans-serif; font-size: 12px; fill: rgb(42, 63, 95); fill-opacity: 1; white-space: pre; opacity: 1;\" transform=\"translate(614.5,0)\">2021</text></g><g class=\"x3tick\"><text text-anchor=\"middle\" x=\"0\" y=\"919.9999999999999\" style=\"font-family: 'Open Sans', verdana, arial, sans-serif; font-size: 12px; fill: rgb(42, 63, 95); fill-opacity: 1; white-space: pre; opacity: 1;\" transform=\"translate(702.42,0)\">2022</text></g></g><g class=\"yaxislayer-above\"><g class=\"y3tick\"><text text-anchor=\"end\" x=\"60\" y=\"4.199999999999999\" transform=\"translate(0,875.6233333333332)\" style=\"font-family: 'Open Sans', verdana, arial, sans-serif; font-size: 12px; fill: rgb(42, 63, 95); fill-opacity: 1; white-space: pre; opacity: 1;\">100</text></g><g class=\"y3tick\"><text text-anchor=\"end\" x=\"60\" y=\"4.199999999999999\" style=\"font-family: 'Open Sans', verdana, arial, sans-serif; font-size: 12px; fill: rgb(42, 63, 95); fill-opacity: 1; white-space: pre; opacity: 1;\" transform=\"translate(0,817.0533333333333)\">200</text></g><g class=\"y3tick\"><text text-anchor=\"end\" x=\"60\" y=\"4.199999999999999\" style=\"font-family: 'Open Sans', verdana, arial, sans-serif; font-size: 12px; fill: rgb(42, 63, 95); fill-opacity: 1; white-space: pre; opacity: 1;\" transform=\"translate(0,758.4933333333332)\">300</text></g><g class=\"y3tick\"><text text-anchor=\"end\" x=\"60\" y=\"4.199999999999999\" style=\"font-family: 'Open Sans', verdana, arial, sans-serif; font-size: 12px; fill: rgb(42, 63, 95); fill-opacity: 1; white-space: pre; opacity: 1;\" transform=\"translate(0,699.9233333333333)\">400</text></g></g><g class=\"overaxes-above\"/></g></g><g class=\"polarlayer\"/><g class=\"ternarylayer\"/><g class=\"geolayer\"/><g class=\"funnelarealayer\"/><g class=\"pielayer\"/><g class=\"iciclelayer\"/><g class=\"treemaplayer\"/><g class=\"sunburstlayer\"/><g class=\"glimages\"/><defs id=\"topdefs-6183e8\"><g class=\"clips\"/><clipPath id=\"legend6183e8\"><rect width=\"239\" height=\"29\" x=\"0\" y=\"0\"/></clipPath></defs><g class=\"layer-above\"><g class=\"imagelayer\"/><g class=\"shapelayer\"><path data-index=\"0\" fill-rule=\"evenodd\" d=\"M61,266.48L720,266.48\" clip-path=\"url(#clip6183e8y)\" style=\"opacity: 1; stroke: rgb(128, 128, 128); stroke-opacity: 1; fill: rgb(0, 0, 0); fill-opacity: 0; stroke-dasharray: 9px, 9px; stroke-width: 2px;\"/><path data-index=\"1\" fill-rule=\"evenodd\" d=\"M61,605.7616666666668L720,605.7616666666668\" clip-path=\"url(#clip6183e8y2)\" style=\"opacity: 1; stroke: rgb(128, 128, 128); stroke-opacity: 1; fill: rgb(0, 0, 0); fill-opacity: 0; stroke-dasharray: 9px, 9px; stroke-width: 2px;\"/><path data-index=\"2\" fill-rule=\"evenodd\" d=\"M61,875.6233333333332L720,875.6233333333332\" clip-path=\"url(#clip6183e8y3)\" style=\"opacity: 1; stroke: rgb(128, 128, 128); stroke-opacity: 1; fill: rgb(0, 0, 0); fill-opacity: 0; stroke-dasharray: 9px, 9px; stroke-width: 2px;\"/></g></g><g class=\"infolayer\"><g class=\"legend\" pointer-events=\"all\" transform=\"translate(481,12.374999999999936)\"><rect class=\"bg\" shape-rendering=\"crispEdges\" style=\"stroke: rgb(68, 68, 68); stroke-opacity: 1; fill: rgb(255, 255, 255); fill-opacity: 1; stroke-width: 0px;\" width=\"239\" height=\"29\" x=\"0\" y=\"0\"/><g class=\"scrollbox\" transform=\"\" clip-path=\"url(#legend6183e8)\"><g class=\"groups\"><g class=\"traces\" transform=\"translate(0,14.5)\" style=\"opacity: 1;\"><text class=\"legendtext\" text-anchor=\"start\" x=\"40\" y=\"4.680000000000001\" style=\"font-family: 'Open Sans', verdana, arial, sans-serif; font-size: 12px; fill: rgb(42, 63, 95); fill-opacity: 1; white-space: pre;\">Cash</text><g class=\"layers\" style=\"opacity: 1;\"><g class=\"legendfill\"/><g class=\"legendlines\"><path class=\"js-line\" d=\"M5,0h30\" style=\"fill: none; stroke: rgb(44, 160, 44); stroke-opacity: 1; stroke-width: 2px;\"/></g><g class=\"legendsymbols\"><g class=\"legendpoints\"/></g></g><rect class=\"legendtoggle\" x=\"0\" y=\"-9.5\" width=\"71.9375\" height=\"19\" style=\"fill: rgb(0, 0, 0); fill-opacity: 0;\"/></g><g class=\"traces\" transform=\"translate(74.4375,14.5)\" style=\"opacity: 1;\"><text class=\"legendtext\" text-anchor=\"start\" x=\"40\" y=\"4.680000000000001\" style=\"font-family: 'Open Sans', verdana, arial, sans-serif; font-size: 12px; fill: rgb(42, 63, 95); fill-opacity: 1; white-space: pre;\">Assets</text><g class=\"layers\" style=\"opacity: 1;\"><g class=\"legendfill\"/><g class=\"legendlines\"><path class=\"js-line\" d=\"M5,0h30\" style=\"fill: none; stroke: rgb(140, 86, 75); stroke-opacity: 1; stroke-width: 2px;\"/></g><g class=\"legendsymbols\"><g class=\"legendpoints\"/></g></g><rect class=\"legendtoggle\" x=\"0\" y=\"-9.5\" width=\"83.09375\" height=\"19\" style=\"fill: rgb(0, 0, 0); fill-opacity: 0;\"/></g><g class=\"traces\" transform=\"translate(160.03125,14.5)\" style=\"opacity: 1;\"><text class=\"legendtext\" text-anchor=\"start\" x=\"40\" y=\"4.680000000000001\" style=\"font-family: 'Open Sans', verdana, arial, sans-serif; font-size: 12px; fill: rgb(42, 63, 95); fill-opacity: 1; white-space: pre;\">Value</text><g class=\"layers\" style=\"opacity: 1;\"><g class=\"legendfill\"/><g class=\"legendlines\"><path class=\"js-line\" d=\"M5,0h30\" style=\"fill: none; stroke: rgb(148, 103, 189); stroke-opacity: 1; stroke-width: 2px;\"/></g><g class=\"legendsymbols\"><g class=\"legendpoints\"/></g></g><rect class=\"legendtoggle\" x=\"0\" y=\"-9.5\" width=\"76.359375\" height=\"19\" style=\"fill: rgb(0, 0, 0); fill-opacity: 0;\"/></g></g></g><rect class=\"scrollbar\" rx=\"20\" ry=\"3\" width=\"0\" height=\"0\" style=\"fill: rgb(128, 139, 164); fill-opacity: 1;\" x=\"0\" y=\"0\"/></g><g class=\"g-gtitle\"/><g class=\"g-xtitle\"/><g class=\"g-x2title\"/><g class=\"g-x3title\"><text class=\"x3title\" x=\"390.5\" y=\"947.8\" text-anchor=\"middle\" style=\"font-family: 'Open Sans', verdana, arial, sans-serif; font-size: 14px; fill: rgb(42, 63, 95); opacity: 1; font-weight: normal; white-space: pre;\">Index</text></g><g class=\"g-ytitle\" transform=\"translate(1.6962890625,0)\"><text class=\"ytitle\" transform=\"rotate(-90,12.309375000000003,202.95833333333334)\" x=\"12.309375000000003\" y=\"202.95833333333334\" text-anchor=\"middle\" style=\"font-family: 'Open Sans', verdana, arial, sans-serif; font-size: 14px; fill: rgb(42, 63, 95); opacity: 1; font-weight: normal; white-space: pre;\">Cash</text></g><g class=\"g-y2title\"><text class=\"y2title\" transform=\"rotate(-90,15.575000000000003,491.50000000000006)\" x=\"15.575000000000003\" y=\"491.50000000000006\" text-anchor=\"middle\" style=\"font-family: 'Open Sans', verdana, arial, sans-serif; font-size: 14px; fill: rgb(42, 63, 95); opacity: 1; font-weight: normal; white-space: pre;\">Assets</text></g><g class=\"g-y3title\" transform=\"translate(1.701171875,0)\"><text class=\"y3title\" transform=\"rotate(-90,12.309375000000003,780.0416666666665)\" x=\"12.309375000000003\" y=\"780.0416666666665\" text-anchor=\"middle\" style=\"font-family: 'Open Sans', verdana, arial, sans-serif; font-size: 14px; fill: rgb(42, 63, 95); opacity: 1; font-weight: normal; white-space: pre;\">Value</text></g><g class=\"annotation\" data-index=\"0\" style=\"opacity: 1;\"><g class=\"annotation-text-g\" transform=\"rotate(0,390.5,64.5)\"><g class=\"cursor-pointer\" transform=\"translate(369,53)\"><rect class=\"bg\" x=\"0.5\" y=\"0.5\" width=\"42\" height=\"22\" style=\"stroke-width: 1px; stroke: rgb(0, 0, 0); stroke-opacity: 0; fill: rgb(0, 0, 0); fill-opacity: 0;\"/><text class=\"annotation-text\" text-anchor=\"middle\" x=\"21.625\" y=\"18\" style=\"font-family: 'Open Sans', verdana, arial, sans-serif; font-size: 16px; fill: rgb(42, 63, 95); fill-opacity: 1; white-space: pre;\">Cash</text></g></g></g><g class=\"annotation\" data-index=\"1\" style=\"opacity: 1;\"><g class=\"annotation-text-g\" transform=\"rotate(0,390.5,353.04166666666674)\"><g class=\"cursor-pointer\" transform=\"translate(362,342)\"><rect class=\"bg\" x=\"0.5\" y=\"0.5\" width=\"56\" height=\"22\" style=\"stroke-width: 1px; stroke: rgb(0, 0, 0); stroke-opacity: 0; fill: rgb(0, 0, 0); fill-opacity: 0;\"/><text class=\"annotation-text\" text-anchor=\"middle\" x=\"28.890625\" y=\"18\" style=\"font-family: 'Open Sans', verdana, arial, sans-serif; font-size: 16px; fill: rgb(42, 63, 95); fill-opacity: 1; white-space: pre;\">Assets</text></g></g></g><g class=\"annotation\" data-index=\"2\" style=\"opacity: 1;\"><g class=\"annotation-text-g\" transform=\"rotate(0,390.5,641.5833333333333)\"><g class=\"cursor-pointer\" transform=\"translate(366,630)\"><rect class=\"bg\" x=\"0.5\" y=\"0.5\" width=\"48\" height=\"22\" style=\"stroke-width: 1px; stroke: rgb(0, 0, 0); stroke-opacity: 0; fill: rgb(0, 0, 0); fill-opacity: 0;\"/><text class=\"annotation-text\" text-anchor=\"middle\" x=\"24.90625\" y=\"18\" style=\"font-family: 'Open Sans', verdana, arial, sans-serif; font-size: 16px; fill: rgb(42, 63, 95); fill-opacity: 1; white-space: pre;\">Value</text></g></g></g></g></svg>"
      ]
     },
     "metadata": {},
     "output_type": "display_data"
    }
   ],
   "source": [
    "price = vbt.YFData.download('BTC-USD').get('Close')\n",
    "pf = vbt.Portfolio.from_random_signals(price, n=5)\n",
    "pf.plot(subplots=['cash', 'assets', 'value']).show_svg()"
   ]
  },
  {
   "cell_type": "code",
   "execution_count": 68,
   "id": "2e7442d7",
   "metadata": {
    "scrolled": true
   },
   "outputs": [
    {
     "data": {
      "image/svg+xml": [
       "<svg xmlns=\"http://www.w3.org/2000/svg\" xmlns:xlink=\"http://www.w3.org/1999/xlink\" class=\"main-svg\" width=\"700\" height=\"350\" style=\"\" viewBox=\"0 0 700 350\"><rect x=\"0\" y=\"0\" width=\"700\" height=\"350\" style=\"fill: rgb(255, 255, 255); fill-opacity: 1;\"/><defs id=\"defs-c604a4\"><g class=\"clips\"><clipPath id=\"clipc604a4xyplot\" class=\"plotclip\"><rect width=\"607\" height=\"276\"/></clipPath><clipPath class=\"axesclip\" id=\"clipc604a4x\"><rect x=\"63\" y=\"0\" width=\"607\" height=\"350\"/></clipPath><clipPath class=\"axesclip\" id=\"clipc604a4y\"><rect x=\"0\" y=\"30\" width=\"700\" height=\"276\"/></clipPath><clipPath class=\"axesclip\" id=\"clipc604a4xy\"><rect x=\"63\" y=\"30\" width=\"607\" height=\"276\"/></clipPath></g><g class=\"gradients\"/><g class=\"patterns\"/></defs><g class=\"bglayer\"><rect class=\"bg\" x=\"63\" y=\"30\" width=\"607\" height=\"276\" style=\"fill: rgb(229, 236, 246); fill-opacity: 1; stroke-width: 0;\"/></g><g class=\"layer-below\"><g class=\"imagelayer\"/><g class=\"shapelayer\"/></g><g class=\"cartesianlayer\"><g class=\"subplot xy\"><g class=\"layer-subplot\"><g class=\"shapelayer\"/><g class=\"imagelayer\"/></g><g class=\"gridlayer\"><g class=\"x\"><path class=\"xgrid crisp\" transform=\"translate(119.8,0)\" d=\"M0,30v276\" style=\"stroke: rgb(255, 255, 255); stroke-opacity: 1; stroke-width: 1px;\"/><path class=\"xgrid crisp\" transform=\"translate(248.31,0)\" d=\"M0,30v276\" style=\"stroke: rgb(255, 255, 255); stroke-opacity: 1; stroke-width: 1px;\"/><path class=\"xgrid crisp\" transform=\"translate(376.81,0)\" d=\"M0,30v276\" style=\"stroke: rgb(255, 255, 255); stroke-opacity: 1; stroke-width: 1px;\"/><path class=\"xgrid crisp\" transform=\"translate(505.32,0)\" d=\"M0,30v276\" style=\"stroke: rgb(255, 255, 255); stroke-opacity: 1; stroke-width: 1px;\"/><path class=\"xgrid crisp\" transform=\"translate(633.83,0)\" d=\"M0,30v276\" style=\"stroke: rgb(255, 255, 255); stroke-opacity: 1; stroke-width: 1px;\"/></g><g class=\"y\"><path class=\"ygrid crisp\" transform=\"translate(0,298.01)\" d=\"M63,0h607\" style=\"stroke: rgb(255, 255, 255); stroke-opacity: 1; stroke-width: 1px;\"/><path class=\"ygrid crisp\" transform=\"translate(0,261.69)\" d=\"M63,0h607\" style=\"stroke: rgb(255, 255, 255); stroke-opacity: 1; stroke-width: 1px;\"/><path class=\"ygrid crisp\" transform=\"translate(0,225.38)\" d=\"M63,0h607\" style=\"stroke: rgb(255, 255, 255); stroke-opacity: 1; stroke-width: 1px;\"/><path class=\"ygrid crisp\" transform=\"translate(0,189.06)\" d=\"M63,0h607\" style=\"stroke: rgb(255, 255, 255); stroke-opacity: 1; stroke-width: 1px;\"/><path class=\"ygrid crisp\" transform=\"translate(0,152.75)\" d=\"M63,0h607\" style=\"stroke: rgb(255, 255, 255); stroke-opacity: 1; stroke-width: 1px;\"/><path class=\"ygrid crisp\" transform=\"translate(0,116.43)\" d=\"M63,0h607\" style=\"stroke: rgb(255, 255, 255); stroke-opacity: 1; stroke-width: 1px;\"/><path class=\"ygrid crisp\" transform=\"translate(0,80.12)\" d=\"M63,0h607\" style=\"stroke: rgb(255, 255, 255); stroke-opacity: 1; stroke-width: 1px;\"/><path class=\"ygrid crisp\" transform=\"translate(0,43.8)\" d=\"M63,0h607\" style=\"stroke: rgb(255, 255, 255); stroke-opacity: 1; stroke-width: 1px;\"/></g></g><g class=\"zerolinelayer\"/><path class=\"xlines-below\"/><path class=\"ylines-below\"/><g class=\"overlines-below\"/><g class=\"xaxislayer-below\"/><g class=\"yaxislayer-below\"/><g class=\"overaxes-below\"/><g class=\"plot\" transform=\"translate(63,30)\" clip-path=\"url(#clipc604a4xyplot)\"><g class=\"scatterlayer mlayer\"><g class=\"trace scatter traceb6e9a75d-435a-4031-9f70-fded15bac2f9\" style=\"stroke-miterlimit: 2; opacity: 1;\"><g class=\"fills\"/><g class=\"errorbars\"/><g class=\"lines\"><path class=\"js-line\" d=\"M0,261.84L0.71,262.2L38.1,248.4L39.07,231.33L39.39,231.33L41.57,182.67L42.6,161.24L80.51,160.52L81.28,122.75L82.31,70.09L86.48,14.16L91.95,13.8L103.19,14.16L607,14.16\" style=\"vector-effect: non-scaling-stroke; fill: none; stroke: rgb(31, 119, 180); stroke-opacity: 1; stroke-width: 2px; opacity: 1;\"/></g><g class=\"points\"/><g class=\"text\"/></g></g></g><g class=\"overplot\"/><path class=\"xlines-above crisp\" d=\"M0,0\" style=\"fill: none;\"/><path class=\"ylines-above crisp\" d=\"M0,0\" style=\"fill: none;\"/><g class=\"overlines-above\"/><g class=\"xaxislayer-above\"><g class=\"xtick\"><text text-anchor=\"middle\" x=\"0\" y=\"319\" transform=\"translate(119.8,0)\" style=\"font-family: 'Open Sans', verdana, arial, sans-serif; font-size: 12px; fill: rgb(42, 63, 95); fill-opacity: 1; white-space: pre; opacity: 1;\"><tspan class=\"line\" dy=\"0em\" x=\"0\" y=\"319\">06:24:12</tspan><tspan class=\"line\" dy=\"1.3em\" x=\"0\" y=\"319\">Mar 15, 2022</tspan></text></g><g class=\"xtick\"><text text-anchor=\"middle\" x=\"0\" y=\"319\" style=\"font-family: 'Open Sans', verdana, arial, sans-serif; font-size: 12px; fill: rgb(42, 63, 95); fill-opacity: 1; white-space: pre; opacity: 1;\" transform=\"translate(248.31,0)\">06:24:14</text></g><g class=\"xtick\"><text text-anchor=\"middle\" x=\"0\" y=\"319\" style=\"font-family: 'Open Sans', verdana, arial, sans-serif; font-size: 12px; fill: rgb(42, 63, 95); fill-opacity: 1; white-space: pre; opacity: 1;\" transform=\"translate(376.81,0)\">06:24:16</text></g><g class=\"xtick\"><text text-anchor=\"middle\" x=\"0\" y=\"319\" style=\"font-family: 'Open Sans', verdana, arial, sans-serif; font-size: 12px; fill: rgb(42, 63, 95); fill-opacity: 1; white-space: pre; opacity: 1;\" transform=\"translate(505.32,0)\">06:24:18</text></g><g class=\"xtick\"><text text-anchor=\"middle\" x=\"0\" y=\"319\" style=\"font-family: 'Open Sans', verdana, arial, sans-serif; font-size: 12px; fill: rgb(42, 63, 95); fill-opacity: 1; white-space: pre; opacity: 1;\" transform=\"translate(633.83,0)\">06:24:20</text></g></g><g class=\"yaxislayer-above\"><g class=\"ytick\"><text text-anchor=\"end\" x=\"62\" y=\"4.199999999999999\" transform=\"translate(0,298.01)\" style=\"font-family: 'Open Sans', verdana, arial, sans-serif; font-size: 12px; fill: rgb(42, 63, 95); fill-opacity: 1; white-space: pre; opacity: 1;\">38.863k</text></g><g class=\"ytick\"><text text-anchor=\"end\" x=\"62\" y=\"4.199999999999999\" style=\"font-family: 'Open Sans', verdana, arial, sans-serif; font-size: 12px; fill: rgb(42, 63, 95); fill-opacity: 1; white-space: pre; opacity: 1;\" transform=\"translate(0,261.69)\">38.864k</text></g><g class=\"ytick\"><text text-anchor=\"end\" x=\"62\" y=\"4.199999999999999\" style=\"font-family: 'Open Sans', verdana, arial, sans-serif; font-size: 12px; fill: rgb(42, 63, 95); fill-opacity: 1; white-space: pre; opacity: 1;\" transform=\"translate(0,225.38)\">38.865k</text></g><g class=\"ytick\"><text text-anchor=\"end\" x=\"62\" y=\"4.199999999999999\" style=\"font-family: 'Open Sans', verdana, arial, sans-serif; font-size: 12px; fill: rgb(42, 63, 95); fill-opacity: 1; white-space: pre; opacity: 1;\" transform=\"translate(0,189.06)\">38.866k</text></g><g class=\"ytick\"><text text-anchor=\"end\" x=\"62\" y=\"4.199999999999999\" style=\"font-family: 'Open Sans', verdana, arial, sans-serif; font-size: 12px; fill: rgb(42, 63, 95); fill-opacity: 1; white-space: pre; opacity: 1;\" transform=\"translate(0,152.75)\">38.867k</text></g><g class=\"ytick\"><text text-anchor=\"end\" x=\"62\" y=\"4.199999999999999\" style=\"font-family: 'Open Sans', verdana, arial, sans-serif; font-size: 12px; fill: rgb(42, 63, 95); fill-opacity: 1; white-space: pre; opacity: 1;\" transform=\"translate(0,116.43)\">38.868k</text></g><g class=\"ytick\"><text text-anchor=\"end\" x=\"62\" y=\"4.199999999999999\" style=\"font-family: 'Open Sans', verdana, arial, sans-serif; font-size: 12px; fill: rgb(42, 63, 95); fill-opacity: 1; white-space: pre; opacity: 1;\" transform=\"translate(0,80.12)\">38.869k</text></g><g class=\"ytick\"><text text-anchor=\"end\" x=\"62\" y=\"4.199999999999999\" style=\"font-family: 'Open Sans', verdana, arial, sans-serif; font-size: 12px; fill: rgb(42, 63, 95); fill-opacity: 1; white-space: pre; opacity: 1;\" transform=\"translate(0,43.8)\">38.87k</text></g></g><g class=\"overaxes-above\"/></g></g><g class=\"polarlayer\"/><g class=\"ternarylayer\"/><g class=\"geolayer\"/><g class=\"funnelarealayer\"/><g class=\"pielayer\"/><g class=\"iciclelayer\"/><g class=\"treemaplayer\"/><g class=\"sunburstlayer\"/><g class=\"glimages\"/><defs id=\"topdefs-c604a4\"><g class=\"clips\"/></defs><g class=\"layer-above\"><g class=\"imagelayer\"/><g class=\"shapelayer\"/></g><g class=\"infolayer\"><g class=\"g-gtitle\"/><g class=\"g-xtitle\"/><g class=\"g-ytitle\"/></g></svg>"
      ],
      "text/plain": [
       "<IPython.core.display.SVG object>"
      ]
     },
     "metadata": {},
     "output_type": "display_data"
    }
   ],
   "source": [
    "# Every 10 seconds display the latest Bitcoin trades on Binance\n",
    "from vectorbt.utils.datetime_ import datetime_to_ms, to_tzaware_datetime, get_utc_tz\n",
    "from IPython.display import SVG, display, clear_output\n",
    "import ccxt\n",
    "\n",
    "exchange = ccxt.binance()\n",
    "\n",
    "def job_func():\n",
    "    since = datetime_to_ms(to_tzaware_datetime('10 seconds ago UTC', tz=get_utc_tz()))\n",
    "    trades = exchange.fetch_trades('BTC/USDT', since)\n",
    "    price = pd.Series({t['datetime']: t['price'] for t in trades})\n",
    "    svg = price.vbt.plot().to_image(format=\"svg\")\n",
    "    clear_output()\n",
    "    display(SVG(svg))\n",
    "    \n",
    "scheduler = vbt.ScheduleManager()\n",
    "scheduler.every(10, 'seconds').do(job_func)\n",
    "scheduler.start()"
   ]
  },
  {
   "cell_type": "markdown",
   "id": "706c58cc",
   "metadata": {},
   "source": [
    "### Usage"
   ]
  },
  {
   "cell_type": "code",
   "execution_count": 69,
   "id": "5d567817",
   "metadata": {},
   "outputs": [
    {
     "data": {
      "text/plain": [
       "8402.134343294616"
      ]
     },
     "execution_count": 69,
     "metadata": {},
     "output_type": "execute_result"
    }
   ],
   "source": [
    "import vectorbt as vbt\n",
    "\n",
    "price = vbt.YFData.download('BTC-USD').get('Close')\n",
    "pf = vbt.Portfolio.from_holding(price, init_cash=100)\n",
    "pf.total_profit()"
   ]
  },
  {
   "cell_type": "code",
   "execution_count": 71,
   "id": "07a1a2d2",
   "metadata": {},
   "outputs": [
    {
     "name": "stderr",
     "output_type": "stream",
     "text": [
      "C:\\Users\\A715-72G\\anaconda3\\lib\\site-packages\\vectorbt\\data\\base.py:526: UserWarning:\n",
      "\n",
      "Symbols have mismatching index. Dropping missing data points.\n",
      "\n"
     ]
    },
    {
     "data": {
      "application/vnd.plotly.v1+json": {
       "config": {
        "plotlyServerURL": "https://plot.ly"
       },
       "data": [
        {
         "mode": "markers",
         "name": "BTC-USD",
         "showlegend": true,
         "type": "scatter",
         "uid": "dbdac9c5-3bf7-4e01-95ef-af49d90db529",
         "x": [
          10,
          11,
          12,
          13,
          14,
          15,
          16,
          17,
          18,
          19,
          20,
          21,
          22,
          23,
          24,
          25,
          26,
          27,
          28,
          29,
          30,
          31,
          32,
          33,
          34,
          35,
          36,
          37,
          38,
          39,
          40,
          41,
          42,
          43,
          44,
          45,
          46,
          47,
          48,
          49,
          50,
          51,
          52,
          53,
          54,
          55,
          56,
          57,
          58,
          59,
          60,
          61,
          62,
          63,
          64,
          65,
          66,
          67,
          68,
          69,
          70,
          71,
          72,
          73,
          74,
          75,
          76,
          77,
          78,
          79,
          80,
          81,
          82,
          83,
          84,
          85,
          86,
          87,
          88,
          89,
          90,
          91,
          92,
          93,
          94,
          95,
          96,
          97,
          98,
          99,
          100
         ],
         "y": [
          25.481828568990892,
          11.955553931101369,
          12.359924766134295,
          17.778025756533346,
          6.982706651931458,
          8.62594897021853,
          14.090448590436843,
          7.720435640119343,
          7.70749725935252,
          16.876612646185546,
          22.902612412774687,
          14.178303020321078,
          17.773294548469824,
          14.420932108715277,
          8.862288547130454,
          10.473652813853251,
          7.771981491679247,
          3.2305125739572214,
          3.9748497989981786,
          6.709775698403536,
          11.617784909896848,
          2.9693284068164982,
          4.79409881928527,
          12.033959594910774,
          4.610337300712621,
          4.8917918396869515,
          6.667437331303617,
          6.894037482258442,
          2.0449509311184704,
          3.4680141907372777,
          2.1280975861948406,
          3.5711881221143904,
          3.5773701025594185,
          11.981703127759973,
          2.5003863469987277,
          2.219193713255057,
          7.951852391427915,
          5.424722108583353,
          7.269724921088874,
          3.743743847570489,
          3.671456453653176,
          8.596363814432724,
          7.652074789722263,
          3.6588575008439292,
          4.519374065298131,
          2.0898732459135165,
          3.0132542502235697,
          2.9521252068541597,
          4.1054745156553425,
          3.894724545834063,
          4.598164314689268,
          2.5664305056057324,
          3.1966241428351765,
          4.096150395904238,
          2.93576973686701,
          3.646551936592388,
          2.014946774662175,
          2.071579297017043,
          2.090200971442092,
          4.885925560706884,
          2.574337024826814,
          1.7099259452132365,
          3.210215235875605,
          1.8786348531513972,
          4.300217614613034,
          2.5850482847536296,
          6.231376763999124,
          3.234780814672383,
          4.1426162150918495,
          3.5306495140713707,
          3.0296017459943037,
          1.777917893360048,
          2.1845537547374128,
          3.78605317080381,
          3.8200596113656418,
          3.2079730553761383,
          2.172560079758145,
          3.6980184649746826,
          1.8185253942161963,
          2.331705011061922,
          1.4274374796674292,
          1.5187645495044482,
          3.3449710619463637,
          2.5845187009187756,
          3.1147570950973886,
          1.8984484515331626,
          2.3902294382945906,
          3.228056180072787,
          3.2933982689783687,
          2.7492948215629283,
          1.491581523540477
         ]
        },
        {
         "mode": "markers",
         "name": "ETH-USD",
         "showlegend": true,
         "type": "scatter",
         "uid": "73aa4bd2-0463-4959-8c11-ffb8d69ee096",
         "x": [
          10,
          11,
          12,
          13,
          14,
          15,
          16,
          17,
          18,
          19,
          20,
          21,
          22,
          23,
          24,
          25,
          26,
          27,
          28,
          29,
          30,
          31,
          32,
          33,
          34,
          35,
          36,
          37,
          38,
          39,
          40,
          41,
          42,
          43,
          44,
          45,
          46,
          47,
          48,
          49,
          50,
          51,
          52,
          53,
          54,
          55,
          56,
          57,
          58,
          59,
          60,
          61,
          62,
          63,
          64,
          65,
          66,
          67,
          68,
          69,
          70,
          71,
          72,
          73,
          74,
          75,
          76,
          77,
          78,
          79,
          80,
          81,
          82,
          83,
          84,
          85,
          86,
          87,
          88,
          89,
          90,
          91,
          92,
          93,
          94,
          95,
          96,
          97,
          98,
          99,
          100
         ],
         "y": [
          39.66531754857902,
          12.139649696811059,
          9.052507858412417,
          40.80686348031606,
          44.288677113252916,
          9.45371144005633,
          6.912650020070618,
          13.166177844708624,
          35.58789846364453,
          45.87597101195653,
          11.570061938269932,
          38.308829458126944,
          22.846876420900198,
          20.905738826531465,
          12.708473869718055,
          23.96989238690366,
          9.508884507202506,
          8.57139695263448,
          22.61659119197198,
          18.77618301968339,
          28.6715454737535,
          13.750735182639245,
          8.343047276196257,
          11.668332850118658,
          4.362080499596607,
          5.822458245999308,
          7.5069744914783,
          12.176314237395028,
          6.5374279571031195,
          15.616218092511545,
          2.6649182348702367,
          7.341140832469577,
          10.140983792606665,
          5.544772827767631,
          6.253039508803006,
          7.233994224256447,
          16.04417973642593,
          11.722724665875816,
          4.274673603246418,
          13.402612557616262,
          15.783911034317248,
          16.030009891657944,
          9.560483399241443,
          3.4132798645326634,
          5.9407872012929825,
          21.260161338630642,
          10.609583062719567,
          26.620633074749858,
          7.84973201775581,
          11.722651594629275,
          4.212753232541442,
          9.854250969091233,
          6.955435983523149,
          6.305208368722984,
          1.5570812538847258,
          5.041199923792658,
          7.364635744488228,
          7.572416175985959,
          7.268388650521981,
          7.643267825424696,
          6.054297187898925,
          3.8050150769367312,
          4.472487800836689,
          6.006955669151952,
          2.51937187174076,
          3.338984832308006,
          4.929686874737777,
          4.9363865174659916,
          5.013582541123389,
          3.661672497712111,
          2.384866355079856,
          3.714699867500443,
          1.9183105175440351,
          2.710304630381102,
          2.1466370610643564,
          6.923896971896074,
          3.7685439497285502,
          13.800237683649698,
          3.7272859905196496,
          2.0950729417550877,
          1.419913877323032,
          6.853333022927406,
          7.037486401549346,
          7.783849045007846,
          2.8168649135030024,
          5.33121708256125,
          2.570265822366628,
          5.274134407581609,
          1.1459026514495474,
          4.2468007832258605,
          5.136892958343568
         ]
        }
       ],
       "layout": {
        "height": 350,
        "legend": {
         "orientation": "h",
         "traceorder": "normal",
         "x": 1,
         "xanchor": "right",
         "y": 1.02,
         "yanchor": "bottom"
        },
        "margin": {
         "b": 30,
         "l": 30,
         "r": 30,
         "t": 30
        },
        "template": {
         "data": {
          "bar": [
           {
            "error_x": {
             "color": "#2a3f5f"
            },
            "error_y": {
             "color": "#2a3f5f"
            },
            "marker": {
             "line": {
              "color": "#E5ECF6",
              "width": 0.5
             }
            },
            "type": "bar"
           }
          ],
          "barpolar": [
           {
            "marker": {
             "line": {
              "color": "#E5ECF6",
              "width": 0.5
             }
            },
            "type": "barpolar"
           }
          ],
          "carpet": [
           {
            "aaxis": {
             "endlinecolor": "#2a3f5f",
             "gridcolor": "white",
             "linecolor": "white",
             "minorgridcolor": "white",
             "startlinecolor": "#2a3f5f"
            },
            "baxis": {
             "endlinecolor": "#2a3f5f",
             "gridcolor": "white",
             "linecolor": "white",
             "minorgridcolor": "white",
             "startlinecolor": "#2a3f5f"
            },
            "type": "carpet"
           }
          ],
          "choropleth": [
           {
            "colorbar": {
             "outlinewidth": 0,
             "ticks": ""
            },
            "type": "choropleth"
           }
          ],
          "contour": [
           {
            "colorbar": {
             "outlinewidth": 0,
             "ticks": ""
            },
            "colorscale": [
             [
              0,
              "#0d0887"
             ],
             [
              0.1111111111111111,
              "#46039f"
             ],
             [
              0.2222222222222222,
              "#7201a8"
             ],
             [
              0.3333333333333333,
              "#9c179e"
             ],
             [
              0.4444444444444444,
              "#bd3786"
             ],
             [
              0.5555555555555556,
              "#d8576b"
             ],
             [
              0.6666666666666666,
              "#ed7953"
             ],
             [
              0.7777777777777778,
              "#fb9f3a"
             ],
             [
              0.8888888888888888,
              "#fdca26"
             ],
             [
              1,
              "#f0f921"
             ]
            ],
            "type": "contour"
           }
          ],
          "contourcarpet": [
           {
            "colorbar": {
             "outlinewidth": 0,
             "ticks": ""
            },
            "type": "contourcarpet"
           }
          ],
          "heatmap": [
           {
            "colorbar": {
             "outlinewidth": 0,
             "ticks": ""
            },
            "colorscale": [
             [
              0,
              "#0d0887"
             ],
             [
              0.1111111111111111,
              "#46039f"
             ],
             [
              0.2222222222222222,
              "#7201a8"
             ],
             [
              0.3333333333333333,
              "#9c179e"
             ],
             [
              0.4444444444444444,
              "#bd3786"
             ],
             [
              0.5555555555555556,
              "#d8576b"
             ],
             [
              0.6666666666666666,
              "#ed7953"
             ],
             [
              0.7777777777777778,
              "#fb9f3a"
             ],
             [
              0.8888888888888888,
              "#fdca26"
             ],
             [
              1,
              "#f0f921"
             ]
            ],
            "type": "heatmap"
           }
          ],
          "heatmapgl": [
           {
            "colorbar": {
             "outlinewidth": 0,
             "ticks": ""
            },
            "colorscale": [
             [
              0,
              "#0d0887"
             ],
             [
              0.1111111111111111,
              "#46039f"
             ],
             [
              0.2222222222222222,
              "#7201a8"
             ],
             [
              0.3333333333333333,
              "#9c179e"
             ],
             [
              0.4444444444444444,
              "#bd3786"
             ],
             [
              0.5555555555555556,
              "#d8576b"
             ],
             [
              0.6666666666666666,
              "#ed7953"
             ],
             [
              0.7777777777777778,
              "#fb9f3a"
             ],
             [
              0.8888888888888888,
              "#fdca26"
             ],
             [
              1,
              "#f0f921"
             ]
            ],
            "type": "heatmapgl"
           }
          ],
          "histogram": [
           {
            "marker": {
             "colorbar": {
              "outlinewidth": 0,
              "ticks": ""
             }
            },
            "type": "histogram"
           }
          ],
          "histogram2d": [
           {
            "colorbar": {
             "outlinewidth": 0,
             "ticks": ""
            },
            "colorscale": [
             [
              0,
              "#0d0887"
             ],
             [
              0.1111111111111111,
              "#46039f"
             ],
             [
              0.2222222222222222,
              "#7201a8"
             ],
             [
              0.3333333333333333,
              "#9c179e"
             ],
             [
              0.4444444444444444,
              "#bd3786"
             ],
             [
              0.5555555555555556,
              "#d8576b"
             ],
             [
              0.6666666666666666,
              "#ed7953"
             ],
             [
              0.7777777777777778,
              "#fb9f3a"
             ],
             [
              0.8888888888888888,
              "#fdca26"
             ],
             [
              1,
              "#f0f921"
             ]
            ],
            "type": "histogram2d"
           }
          ],
          "histogram2dcontour": [
           {
            "colorbar": {
             "outlinewidth": 0,
             "ticks": ""
            },
            "colorscale": [
             [
              0,
              "#0d0887"
             ],
             [
              0.1111111111111111,
              "#46039f"
             ],
             [
              0.2222222222222222,
              "#7201a8"
             ],
             [
              0.3333333333333333,
              "#9c179e"
             ],
             [
              0.4444444444444444,
              "#bd3786"
             ],
             [
              0.5555555555555556,
              "#d8576b"
             ],
             [
              0.6666666666666666,
              "#ed7953"
             ],
             [
              0.7777777777777778,
              "#fb9f3a"
             ],
             [
              0.8888888888888888,
              "#fdca26"
             ],
             [
              1,
              "#f0f921"
             ]
            ],
            "type": "histogram2dcontour"
           }
          ],
          "mesh3d": [
           {
            "colorbar": {
             "outlinewidth": 0,
             "ticks": ""
            },
            "type": "mesh3d"
           }
          ],
          "parcoords": [
           {
            "line": {
             "colorbar": {
              "outlinewidth": 0,
              "ticks": ""
             }
            },
            "type": "parcoords"
           }
          ],
          "pie": [
           {
            "automargin": true,
            "type": "pie"
           }
          ],
          "scatter": [
           {
            "marker": {
             "colorbar": {
              "outlinewidth": 0,
              "ticks": ""
             }
            },
            "type": "scatter"
           }
          ],
          "scatter3d": [
           {
            "line": {
             "colorbar": {
              "outlinewidth": 0,
              "ticks": ""
             }
            },
            "marker": {
             "colorbar": {
              "outlinewidth": 0,
              "ticks": ""
             }
            },
            "type": "scatter3d"
           }
          ],
          "scattercarpet": [
           {
            "marker": {
             "colorbar": {
              "outlinewidth": 0,
              "ticks": ""
             }
            },
            "type": "scattercarpet"
           }
          ],
          "scattergeo": [
           {
            "marker": {
             "colorbar": {
              "outlinewidth": 0,
              "ticks": ""
             }
            },
            "type": "scattergeo"
           }
          ],
          "scattergl": [
           {
            "marker": {
             "colorbar": {
              "outlinewidth": 0,
              "ticks": ""
             }
            },
            "type": "scattergl"
           }
          ],
          "scattermapbox": [
           {
            "marker": {
             "colorbar": {
              "outlinewidth": 0,
              "ticks": ""
             }
            },
            "type": "scattermapbox"
           }
          ],
          "scatterpolar": [
           {
            "marker": {
             "colorbar": {
              "outlinewidth": 0,
              "ticks": ""
             }
            },
            "type": "scatterpolar"
           }
          ],
          "scatterpolargl": [
           {
            "marker": {
             "colorbar": {
              "outlinewidth": 0,
              "ticks": ""
             }
            },
            "type": "scatterpolargl"
           }
          ],
          "scatterternary": [
           {
            "marker": {
             "colorbar": {
              "outlinewidth": 0,
              "ticks": ""
             }
            },
            "type": "scatterternary"
           }
          ],
          "surface": [
           {
            "colorbar": {
             "outlinewidth": 0,
             "ticks": ""
            },
            "colorscale": [
             [
              0,
              "#0d0887"
             ],
             [
              0.1111111111111111,
              "#46039f"
             ],
             [
              0.2222222222222222,
              "#7201a8"
             ],
             [
              0.3333333333333333,
              "#9c179e"
             ],
             [
              0.4444444444444444,
              "#bd3786"
             ],
             [
              0.5555555555555556,
              "#d8576b"
             ],
             [
              0.6666666666666666,
              "#ed7953"
             ],
             [
              0.7777777777777778,
              "#fb9f3a"
             ],
             [
              0.8888888888888888,
              "#fdca26"
             ],
             [
              1,
              "#f0f921"
             ]
            ],
            "type": "surface"
           }
          ],
          "table": [
           {
            "cells": {
             "fill": {
              "color": "#EBF0F8"
             },
             "line": {
              "color": "white"
             }
            },
            "header": {
             "fill": {
              "color": "#C8D4E3"
             },
             "line": {
              "color": "white"
             }
            },
            "type": "table"
           }
          ]
         },
         "layout": {
          "annotationdefaults": {
           "arrowcolor": "#2a3f5f",
           "arrowhead": 0,
           "arrowwidth": 1
          },
          "coloraxis": {
           "colorbar": {
            "outlinewidth": 0,
            "ticks": ""
           }
          },
          "colorscale": {
           "diverging": [
            [
             0,
             "#8e0152"
            ],
            [
             0.1,
             "#c51b7d"
            ],
            [
             0.2,
             "#de77ae"
            ],
            [
             0.3,
             "#f1b6da"
            ],
            [
             0.4,
             "#fde0ef"
            ],
            [
             0.5,
             "#f7f7f7"
            ],
            [
             0.6,
             "#e6f5d0"
            ],
            [
             0.7,
             "#b8e186"
            ],
            [
             0.8,
             "#7fbc41"
            ],
            [
             0.9,
             "#4d9221"
            ],
            [
             1,
             "#276419"
            ]
           ],
           "sequential": [
            [
             0,
             "#0d0887"
            ],
            [
             0.1111111111111111,
             "#46039f"
            ],
            [
             0.2222222222222222,
             "#7201a8"
            ],
            [
             0.3333333333333333,
             "#9c179e"
            ],
            [
             0.4444444444444444,
             "#bd3786"
            ],
            [
             0.5555555555555556,
             "#d8576b"
            ],
            [
             0.6666666666666666,
             "#ed7953"
            ],
            [
             0.7777777777777778,
             "#fb9f3a"
            ],
            [
             0.8888888888888888,
             "#fdca26"
            ],
            [
             1,
             "#f0f921"
            ]
           ],
           "sequentialminus": [
            [
             0,
             "#0d0887"
            ],
            [
             0.1111111111111111,
             "#46039f"
            ],
            [
             0.2222222222222222,
             "#7201a8"
            ],
            [
             0.3333333333333333,
             "#9c179e"
            ],
            [
             0.4444444444444444,
             "#bd3786"
            ],
            [
             0.5555555555555556,
             "#d8576b"
            ],
            [
             0.6666666666666666,
             "#ed7953"
            ],
            [
             0.7777777777777778,
             "#fb9f3a"
            ],
            [
             0.8888888888888888,
             "#fdca26"
            ],
            [
             1,
             "#f0f921"
            ]
           ]
          },
          "colorway": [
           "#1f77b4",
           "#ff7f0e",
           "#2ca02c",
           "#dc3912",
           "#9467bd",
           "#8c564b",
           "#e377c2",
           "#7f7f7f",
           "#bcbd22",
           "#17becf"
          ],
          "font": {
           "color": "#2a3f5f"
          },
          "geo": {
           "bgcolor": "white",
           "lakecolor": "white",
           "landcolor": "#E5ECF6",
           "showlakes": true,
           "showland": true,
           "subunitcolor": "white"
          },
          "hoverlabel": {
           "align": "left"
          },
          "hovermode": "closest",
          "mapbox": {
           "style": "light"
          },
          "paper_bgcolor": "white",
          "plot_bgcolor": "#E5ECF6",
          "polar": {
           "angularaxis": {
            "gridcolor": "white",
            "linecolor": "white",
            "ticks": ""
           },
           "bgcolor": "#E5ECF6",
           "radialaxis": {
            "gridcolor": "white",
            "linecolor": "white",
            "ticks": ""
           }
          },
          "scene": {
           "xaxis": {
            "backgroundcolor": "#E5ECF6",
            "gridcolor": "white",
            "gridwidth": 2,
            "linecolor": "white",
            "showbackground": true,
            "ticks": "",
            "zerolinecolor": "white"
           },
           "yaxis": {
            "backgroundcolor": "#E5ECF6",
            "gridcolor": "white",
            "gridwidth": 2,
            "linecolor": "white",
            "showbackground": true,
            "ticks": "",
            "zerolinecolor": "white"
           },
           "zaxis": {
            "backgroundcolor": "#E5ECF6",
            "gridcolor": "white",
            "gridwidth": 2,
            "linecolor": "white",
            "showbackground": true,
            "ticks": "",
            "zerolinecolor": "white"
           }
          },
          "shapedefaults": {
           "line": {
            "color": "#2a3f5f"
           }
          },
          "ternary": {
           "aaxis": {
            "gridcolor": "white",
            "linecolor": "white",
            "ticks": ""
           },
           "baxis": {
            "gridcolor": "white",
            "linecolor": "white",
            "ticks": ""
           },
           "bgcolor": "#E5ECF6",
           "caxis": {
            "gridcolor": "white",
            "linecolor": "white",
            "ticks": ""
           }
          },
          "title": {
           "x": 0.05
          },
          "xaxis": {
           "automargin": true,
           "gridcolor": "white",
           "linecolor": "white",
           "ticks": "",
           "title": {
            "standoff": 15
           },
           "zerolinecolor": "white",
           "zerolinewidth": 2
          },
          "yaxis": {
           "automargin": true,
           "gridcolor": "white",
           "linecolor": "white",
           "ticks": "",
           "title": {
            "standoff": 15
           },
           "zerolinecolor": "white",
           "zerolinewidth": 2
          }
         }
        },
        "width": 700,
        "xaxis": {
         "title": {
          "text": "randnx_n"
         }
        },
        "yaxis": {
         "title": {
          "text": "mean_expectancy"
         }
        }
       }
      },
      "text/html": [
       "<div>                            <div id=\"35dbe8f9-24b3-43de-b7c4-c91077fe54ec\" class=\"plotly-graph-div\" style=\"height:350px; width:700px;\"></div>            <script type=\"text/javascript\">                require([\"plotly\"], function(Plotly) {                    window.PLOTLYENV=window.PLOTLYENV || {};                                    if (document.getElementById(\"35dbe8f9-24b3-43de-b7c4-c91077fe54ec\")) {                    Plotly.newPlot(                        \"35dbe8f9-24b3-43de-b7c4-c91077fe54ec\",                        [{\"mode\":\"markers\",\"name\":\"BTC-USD\",\"showlegend\":true,\"type\":\"scatter\",\"uid\":\"dbdac9c5-3bf7-4e01-95ef-af49d90db529\",\"x\":[10,11,12,13,14,15,16,17,18,19,20,21,22,23,24,25,26,27,28,29,30,31,32,33,34,35,36,37,38,39,40,41,42,43,44,45,46,47,48,49,50,51,52,53,54,55,56,57,58,59,60,61,62,63,64,65,66,67,68,69,70,71,72,73,74,75,76,77,78,79,80,81,82,83,84,85,86,87,88,89,90,91,92,93,94,95,96,97,98,99,100],\"y\":[25.481828568990892,11.955553931101369,12.359924766134295,17.778025756533346,6.982706651931458,8.62594897021853,14.090448590436843,7.720435640119343,7.70749725935252,16.876612646185546,22.902612412774687,14.178303020321078,17.773294548469824,14.420932108715277,8.862288547130454,10.473652813853251,7.771981491679247,3.2305125739572214,3.9748497989981786,6.709775698403536,11.617784909896848,2.9693284068164982,4.79409881928527,12.033959594910774,4.610337300712621,4.8917918396869515,6.667437331303617,6.894037482258442,2.0449509311184704,3.4680141907372777,2.1280975861948406,3.5711881221143904,3.5773701025594185,11.981703127759973,2.5003863469987277,2.219193713255057,7.951852391427915,5.424722108583353,7.269724921088874,3.743743847570489,3.671456453653176,8.596363814432724,7.652074789722263,3.6588575008439292,4.519374065298131,2.0898732459135165,3.0132542502235697,2.9521252068541597,4.1054745156553425,3.894724545834063,4.598164314689268,2.5664305056057324,3.1966241428351765,4.096150395904238,2.93576973686701,3.646551936592388,2.014946774662175,2.071579297017043,2.090200971442092,4.885925560706884,2.574337024826814,1.7099259452132365,3.210215235875605,1.8786348531513972,4.300217614613034,2.5850482847536296,6.231376763999124,3.234780814672383,4.1426162150918495,3.5306495140713707,3.0296017459943037,1.777917893360048,2.1845537547374128,3.78605317080381,3.8200596113656418,3.2079730553761383,2.172560079758145,3.6980184649746826,1.8185253942161963,2.331705011061922,1.4274374796674292,1.5187645495044482,3.3449710619463637,2.5845187009187756,3.1147570950973886,1.8984484515331626,2.3902294382945906,3.228056180072787,3.2933982689783687,2.7492948215629283,1.491581523540477]},{\"mode\":\"markers\",\"name\":\"ETH-USD\",\"showlegend\":true,\"type\":\"scatter\",\"uid\":\"73aa4bd2-0463-4959-8c11-ffb8d69ee096\",\"x\":[10,11,12,13,14,15,16,17,18,19,20,21,22,23,24,25,26,27,28,29,30,31,32,33,34,35,36,37,38,39,40,41,42,43,44,45,46,47,48,49,50,51,52,53,54,55,56,57,58,59,60,61,62,63,64,65,66,67,68,69,70,71,72,73,74,75,76,77,78,79,80,81,82,83,84,85,86,87,88,89,90,91,92,93,94,95,96,97,98,99,100],\"y\":[39.66531754857902,12.139649696811059,9.052507858412417,40.80686348031606,44.288677113252916,9.45371144005633,6.912650020070618,13.166177844708624,35.58789846364453,45.87597101195653,11.570061938269932,38.308829458126944,22.846876420900198,20.905738826531465,12.708473869718055,23.96989238690366,9.508884507202506,8.57139695263448,22.61659119197198,18.77618301968339,28.6715454737535,13.750735182639245,8.343047276196257,11.668332850118658,4.362080499596607,5.822458245999308,7.5069744914783,12.176314237395028,6.5374279571031195,15.616218092511545,2.6649182348702367,7.341140832469577,10.140983792606665,5.544772827767631,6.253039508803006,7.233994224256447,16.04417973642593,11.722724665875816,4.274673603246418,13.402612557616262,15.783911034317248,16.030009891657944,9.560483399241443,3.4132798645326634,5.9407872012929825,21.260161338630642,10.609583062719567,26.620633074749858,7.84973201775581,11.722651594629275,4.212753232541442,9.854250969091233,6.955435983523149,6.305208368722984,1.5570812538847258,5.041199923792658,7.364635744488228,7.572416175985959,7.268388650521981,7.643267825424696,6.054297187898925,3.8050150769367312,4.472487800836689,6.006955669151952,2.51937187174076,3.338984832308006,4.929686874737777,4.9363865174659916,5.013582541123389,3.661672497712111,2.384866355079856,3.714699867500443,1.9183105175440351,2.710304630381102,2.1466370610643564,6.923896971896074,3.7685439497285502,13.800237683649698,3.7272859905196496,2.0950729417550877,1.419913877323032,6.853333022927406,7.037486401549346,7.783849045007846,2.8168649135030024,5.33121708256125,2.570265822366628,5.274134407581609,1.1459026514495474,4.2468007832258605,5.136892958343568]}],                        {\"height\":350,\"legend\":{\"orientation\":\"h\",\"traceorder\":\"normal\",\"x\":1,\"xanchor\":\"right\",\"y\":1.02,\"yanchor\":\"bottom\"},\"margin\":{\"b\":30,\"l\":30,\"r\":30,\"t\":30},\"template\":{\"data\":{\"bar\":[{\"error_x\":{\"color\":\"#2a3f5f\"},\"error_y\":{\"color\":\"#2a3f5f\"},\"marker\":{\"line\":{\"color\":\"#E5ECF6\",\"width\":0.5}},\"type\":\"bar\"}],\"barpolar\":[{\"marker\":{\"line\":{\"color\":\"#E5ECF6\",\"width\":0.5}},\"type\":\"barpolar\"}],\"carpet\":[{\"aaxis\":{\"endlinecolor\":\"#2a3f5f\",\"gridcolor\":\"white\",\"linecolor\":\"white\",\"minorgridcolor\":\"white\",\"startlinecolor\":\"#2a3f5f\"},\"baxis\":{\"endlinecolor\":\"#2a3f5f\",\"gridcolor\":\"white\",\"linecolor\":\"white\",\"minorgridcolor\":\"white\",\"startlinecolor\":\"#2a3f5f\"},\"type\":\"carpet\"}],\"choropleth\":[{\"colorbar\":{\"outlinewidth\":0,\"ticks\":\"\"},\"type\":\"choropleth\"}],\"contour\":[{\"colorbar\":{\"outlinewidth\":0,\"ticks\":\"\"},\"colorscale\":[[0.0,\"#0d0887\"],[0.1111111111111111,\"#46039f\"],[0.2222222222222222,\"#7201a8\"],[0.3333333333333333,\"#9c179e\"],[0.4444444444444444,\"#bd3786\"],[0.5555555555555556,\"#d8576b\"],[0.6666666666666666,\"#ed7953\"],[0.7777777777777778,\"#fb9f3a\"],[0.8888888888888888,\"#fdca26\"],[1.0,\"#f0f921\"]],\"type\":\"contour\"}],\"contourcarpet\":[{\"colorbar\":{\"outlinewidth\":0,\"ticks\":\"\"},\"type\":\"contourcarpet\"}],\"heatmap\":[{\"colorbar\":{\"outlinewidth\":0,\"ticks\":\"\"},\"colorscale\":[[0.0,\"#0d0887\"],[0.1111111111111111,\"#46039f\"],[0.2222222222222222,\"#7201a8\"],[0.3333333333333333,\"#9c179e\"],[0.4444444444444444,\"#bd3786\"],[0.5555555555555556,\"#d8576b\"],[0.6666666666666666,\"#ed7953\"],[0.7777777777777778,\"#fb9f3a\"],[0.8888888888888888,\"#fdca26\"],[1.0,\"#f0f921\"]],\"type\":\"heatmap\"}],\"heatmapgl\":[{\"colorbar\":{\"outlinewidth\":0,\"ticks\":\"\"},\"colorscale\":[[0.0,\"#0d0887\"],[0.1111111111111111,\"#46039f\"],[0.2222222222222222,\"#7201a8\"],[0.3333333333333333,\"#9c179e\"],[0.4444444444444444,\"#bd3786\"],[0.5555555555555556,\"#d8576b\"],[0.6666666666666666,\"#ed7953\"],[0.7777777777777778,\"#fb9f3a\"],[0.8888888888888888,\"#fdca26\"],[1.0,\"#f0f921\"]],\"type\":\"heatmapgl\"}],\"histogram\":[{\"marker\":{\"colorbar\":{\"outlinewidth\":0,\"ticks\":\"\"}},\"type\":\"histogram\"}],\"histogram2d\":[{\"colorbar\":{\"outlinewidth\":0,\"ticks\":\"\"},\"colorscale\":[[0.0,\"#0d0887\"],[0.1111111111111111,\"#46039f\"],[0.2222222222222222,\"#7201a8\"],[0.3333333333333333,\"#9c179e\"],[0.4444444444444444,\"#bd3786\"],[0.5555555555555556,\"#d8576b\"],[0.6666666666666666,\"#ed7953\"],[0.7777777777777778,\"#fb9f3a\"],[0.8888888888888888,\"#fdca26\"],[1.0,\"#f0f921\"]],\"type\":\"histogram2d\"}],\"histogram2dcontour\":[{\"colorbar\":{\"outlinewidth\":0,\"ticks\":\"\"},\"colorscale\":[[0.0,\"#0d0887\"],[0.1111111111111111,\"#46039f\"],[0.2222222222222222,\"#7201a8\"],[0.3333333333333333,\"#9c179e\"],[0.4444444444444444,\"#bd3786\"],[0.5555555555555556,\"#d8576b\"],[0.6666666666666666,\"#ed7953\"],[0.7777777777777778,\"#fb9f3a\"],[0.8888888888888888,\"#fdca26\"],[1.0,\"#f0f921\"]],\"type\":\"histogram2dcontour\"}],\"mesh3d\":[{\"colorbar\":{\"outlinewidth\":0,\"ticks\":\"\"},\"type\":\"mesh3d\"}],\"parcoords\":[{\"line\":{\"colorbar\":{\"outlinewidth\":0,\"ticks\":\"\"}},\"type\":\"parcoords\"}],\"pie\":[{\"automargin\":true,\"type\":\"pie\"}],\"scatter\":[{\"marker\":{\"colorbar\":{\"outlinewidth\":0,\"ticks\":\"\"}},\"type\":\"scatter\"}],\"scatter3d\":[{\"line\":{\"colorbar\":{\"outlinewidth\":0,\"ticks\":\"\"}},\"marker\":{\"colorbar\":{\"outlinewidth\":0,\"ticks\":\"\"}},\"type\":\"scatter3d\"}],\"scattercarpet\":[{\"marker\":{\"colorbar\":{\"outlinewidth\":0,\"ticks\":\"\"}},\"type\":\"scattercarpet\"}],\"scattergeo\":[{\"marker\":{\"colorbar\":{\"outlinewidth\":0,\"ticks\":\"\"}},\"type\":\"scattergeo\"}],\"scattergl\":[{\"marker\":{\"colorbar\":{\"outlinewidth\":0,\"ticks\":\"\"}},\"type\":\"scattergl\"}],\"scattermapbox\":[{\"marker\":{\"colorbar\":{\"outlinewidth\":0,\"ticks\":\"\"}},\"type\":\"scattermapbox\"}],\"scatterpolar\":[{\"marker\":{\"colorbar\":{\"outlinewidth\":0,\"ticks\":\"\"}},\"type\":\"scatterpolar\"}],\"scatterpolargl\":[{\"marker\":{\"colorbar\":{\"outlinewidth\":0,\"ticks\":\"\"}},\"type\":\"scatterpolargl\"}],\"scatterternary\":[{\"marker\":{\"colorbar\":{\"outlinewidth\":0,\"ticks\":\"\"}},\"type\":\"scatterternary\"}],\"surface\":[{\"colorbar\":{\"outlinewidth\":0,\"ticks\":\"\"},\"colorscale\":[[0.0,\"#0d0887\"],[0.1111111111111111,\"#46039f\"],[0.2222222222222222,\"#7201a8\"],[0.3333333333333333,\"#9c179e\"],[0.4444444444444444,\"#bd3786\"],[0.5555555555555556,\"#d8576b\"],[0.6666666666666666,\"#ed7953\"],[0.7777777777777778,\"#fb9f3a\"],[0.8888888888888888,\"#fdca26\"],[1.0,\"#f0f921\"]],\"type\":\"surface\"}],\"table\":[{\"cells\":{\"fill\":{\"color\":\"#EBF0F8\"},\"line\":{\"color\":\"white\"}},\"header\":{\"fill\":{\"color\":\"#C8D4E3\"},\"line\":{\"color\":\"white\"}},\"type\":\"table\"}]},\"layout\":{\"annotationdefaults\":{\"arrowcolor\":\"#2a3f5f\",\"arrowhead\":0,\"arrowwidth\":1},\"coloraxis\":{\"colorbar\":{\"outlinewidth\":0,\"ticks\":\"\"}},\"colorscale\":{\"diverging\":[[0,\"#8e0152\"],[0.1,\"#c51b7d\"],[0.2,\"#de77ae\"],[0.3,\"#f1b6da\"],[0.4,\"#fde0ef\"],[0.5,\"#f7f7f7\"],[0.6,\"#e6f5d0\"],[0.7,\"#b8e186\"],[0.8,\"#7fbc41\"],[0.9,\"#4d9221\"],[1,\"#276419\"]],\"sequential\":[[0.0,\"#0d0887\"],[0.1111111111111111,\"#46039f\"],[0.2222222222222222,\"#7201a8\"],[0.3333333333333333,\"#9c179e\"],[0.4444444444444444,\"#bd3786\"],[0.5555555555555556,\"#d8576b\"],[0.6666666666666666,\"#ed7953\"],[0.7777777777777778,\"#fb9f3a\"],[0.8888888888888888,\"#fdca26\"],[1.0,\"#f0f921\"]],\"sequentialminus\":[[0.0,\"#0d0887\"],[0.1111111111111111,\"#46039f\"],[0.2222222222222222,\"#7201a8\"],[0.3333333333333333,\"#9c179e\"],[0.4444444444444444,\"#bd3786\"],[0.5555555555555556,\"#d8576b\"],[0.6666666666666666,\"#ed7953\"],[0.7777777777777778,\"#fb9f3a\"],[0.8888888888888888,\"#fdca26\"],[1.0,\"#f0f921\"]]},\"colorway\":[\"#1f77b4\",\"#ff7f0e\",\"#2ca02c\",\"#dc3912\",\"#9467bd\",\"#8c564b\",\"#e377c2\",\"#7f7f7f\",\"#bcbd22\",\"#17becf\"],\"font\":{\"color\":\"#2a3f5f\"},\"geo\":{\"bgcolor\":\"white\",\"lakecolor\":\"white\",\"landcolor\":\"#E5ECF6\",\"showlakes\":true,\"showland\":true,\"subunitcolor\":\"white\"},\"hoverlabel\":{\"align\":\"left\"},\"hovermode\":\"closest\",\"mapbox\":{\"style\":\"light\"},\"paper_bgcolor\":\"white\",\"plot_bgcolor\":\"#E5ECF6\",\"polar\":{\"angularaxis\":{\"gridcolor\":\"white\",\"linecolor\":\"white\",\"ticks\":\"\"},\"bgcolor\":\"#E5ECF6\",\"radialaxis\":{\"gridcolor\":\"white\",\"linecolor\":\"white\",\"ticks\":\"\"}},\"scene\":{\"xaxis\":{\"backgroundcolor\":\"#E5ECF6\",\"gridcolor\":\"white\",\"gridwidth\":2,\"linecolor\":\"white\",\"showbackground\":true,\"ticks\":\"\",\"zerolinecolor\":\"white\"},\"yaxis\":{\"backgroundcolor\":\"#E5ECF6\",\"gridcolor\":\"white\",\"gridwidth\":2,\"linecolor\":\"white\",\"showbackground\":true,\"ticks\":\"\",\"zerolinecolor\":\"white\"},\"zaxis\":{\"backgroundcolor\":\"#E5ECF6\",\"gridcolor\":\"white\",\"gridwidth\":2,\"linecolor\":\"white\",\"showbackground\":true,\"ticks\":\"\",\"zerolinecolor\":\"white\"}},\"shapedefaults\":{\"line\":{\"color\":\"#2a3f5f\"}},\"ternary\":{\"aaxis\":{\"gridcolor\":\"white\",\"linecolor\":\"white\",\"ticks\":\"\"},\"baxis\":{\"gridcolor\":\"white\",\"linecolor\":\"white\",\"ticks\":\"\"},\"bgcolor\":\"#E5ECF6\",\"caxis\":{\"gridcolor\":\"white\",\"linecolor\":\"white\",\"ticks\":\"\"}},\"title\":{\"x\":0.05},\"xaxis\":{\"automargin\":true,\"gridcolor\":\"white\",\"linecolor\":\"white\",\"ticks\":\"\",\"title\":{\"standoff\":15},\"zerolinecolor\":\"white\",\"zerolinewidth\":2},\"yaxis\":{\"automargin\":true,\"gridcolor\":\"white\",\"linecolor\":\"white\",\"ticks\":\"\",\"title\":{\"standoff\":15},\"zerolinecolor\":\"white\",\"zerolinewidth\":2}}},\"width\":700,\"xaxis\":{\"title\":{\"text\":\"randnx_n\"}},\"yaxis\":{\"title\":{\"text\":\"mean_expectancy\"}}},                        {\"responsive\": true}                    ).then(function(){\n",
       "                            \n",
       "var gd = document.getElementById('35dbe8f9-24b3-43de-b7c4-c91077fe54ec');\n",
       "var x = new MutationObserver(function (mutations, observer) {{\n",
       "        var display = window.getComputedStyle(gd).display;\n",
       "        if (!display || display === 'none') {{\n",
       "            console.log([gd, 'removed!']);\n",
       "            Plotly.purge(gd);\n",
       "            observer.disconnect();\n",
       "        }}\n",
       "}});\n",
       "\n",
       "// Listen for the removal of the full notebook cells\n",
       "var notebookContainer = gd.closest('#notebook-container');\n",
       "if (notebookContainer) {{\n",
       "    x.observe(notebookContainer, {childList: true});\n",
       "}}\n",
       "\n",
       "// Listen for the clearing of the current output cell\n",
       "var outputEl = gd.closest('.output');\n",
       "if (outputEl) {{\n",
       "    x.observe(outputEl, {childList: true});\n",
       "}}\n",
       "\n",
       "                        })                };                });            </script>        </div>"
      ]
     },
     "metadata": {},
     "output_type": "display_data"
    }
   ],
   "source": [
    "import numpy as np\n",
    "\n",
    "symbols = [\"BTC-USD\", \"ETH-USD\"]\n",
    "price = vbt.YFData.download(symbols, missing_index='drop').get('Close')\n",
    "\n",
    "n = np.random.randint(10, 101, size=1000).tolist()\n",
    "pf = vbt.Portfolio.from_random_signals(price, n=n, init_cash=100, seed=42)\n",
    "\n",
    "mean_expectancy = pf.trades.expectancy().groupby(['randnx_n', 'symbol']).mean()\n",
    "fig = mean_expectancy.unstack().vbt.scatterplot(xaxis_title='randnx_n', yaxis_title='mean_expectancy')\n",
    "fig.show()\n"
   ]
  },
  {
   "cell_type": "code",
   "execution_count": null,
   "id": "5c9a3fab",
   "metadata": {},
   "outputs": [],
   "source": []
  }
 ],
 "metadata": {
  "kernelspec": {
   "display_name": "Python 3",
   "language": "python",
   "name": "python3"
  },
  "language_info": {
   "codemirror_mode": {
    "name": "ipython",
    "version": 3
   },
   "file_extension": ".py",
   "mimetype": "text/x-python",
   "name": "python",
   "nbconvert_exporter": "python",
   "pygments_lexer": "ipython3",
   "version": "3.8.8"
  }
 },
 "nbformat": 4,
 "nbformat_minor": 5
}
