{
 "cells": [
  {
   "cell_type": "code",
   "execution_count": 1,
   "id": "389ff721",
   "metadata": {},
   "outputs": [],
   "source": [
    "import pandas as pd\n",
    "import pandas_ta as ta\n",
    "import numpy as np\n",
    "import yfinance as yf\n",
    "import vectorbt as vbt\n",
    "from datetime import datetime, timedelta"
   ]
  },
  {
   "cell_type": "code",
   "execution_count": 2,
   "id": "32d5eca8",
   "metadata": {},
   "outputs": [
    {
     "data": {
      "text/html": [
       "<div>\n",
       "<style scoped>\n",
       "    .dataframe tbody tr th:only-of-type {\n",
       "        vertical-align: middle;\n",
       "    }\n",
       "\n",
       "    .dataframe tbody tr th {\n",
       "        vertical-align: top;\n",
       "    }\n",
       "\n",
       "    .dataframe thead th {\n",
       "        text-align: right;\n",
       "    }\n",
       "</style>\n",
       "<table border=\"1\" class=\"dataframe\">\n",
       "  <thead>\n",
       "    <tr style=\"text-align: right;\">\n",
       "      <th></th>\n",
       "      <th>Open</th>\n",
       "      <th>High</th>\n",
       "      <th>Low</th>\n",
       "      <th>Close</th>\n",
       "      <th>Volume</th>\n",
       "      <th>Dividends</th>\n",
       "      <th>Stock Splits</th>\n",
       "    </tr>\n",
       "  </thead>\n",
       "  <tbody>\n",
       "    <tr>\n",
       "      <th>2021-03-01 09:30:00-05:00</th>\n",
       "      <td>123.500000</td>\n",
       "      <td>125.250000</td>\n",
       "      <td>122.790001</td>\n",
       "      <td>125.084999</td>\n",
       "      <td>30763287</td>\n",
       "      <td>0</td>\n",
       "      <td>0</td>\n",
       "    </tr>\n",
       "    <tr>\n",
       "      <th>2021-03-01 10:30:00-05:00</th>\n",
       "      <td>125.084999</td>\n",
       "      <td>126.154999</td>\n",
       "      <td>124.880096</td>\n",
       "      <td>125.879898</td>\n",
       "      <td>15870701</td>\n",
       "      <td>0</td>\n",
       "      <td>0</td>\n",
       "    </tr>\n",
       "    <tr>\n",
       "      <th>2021-03-01 11:30:00-05:00</th>\n",
       "      <td>125.879997</td>\n",
       "      <td>126.620003</td>\n",
       "      <td>125.789902</td>\n",
       "      <td>126.230003</td>\n",
       "      <td>13509856</td>\n",
       "      <td>0</td>\n",
       "      <td>0</td>\n",
       "    </tr>\n",
       "    <tr>\n",
       "      <th>2021-03-01 12:30:00-05:00</th>\n",
       "      <td>126.239998</td>\n",
       "      <td>126.400002</td>\n",
       "      <td>125.669998</td>\n",
       "      <td>126.209297</td>\n",
       "      <td>8484702</td>\n",
       "      <td>0</td>\n",
       "      <td>0</td>\n",
       "    </tr>\n",
       "    <tr>\n",
       "      <th>2021-03-01 13:30:00-05:00</th>\n",
       "      <td>126.205002</td>\n",
       "      <td>127.230003</td>\n",
       "      <td>126.089996</td>\n",
       "      <td>127.105003</td>\n",
       "      <td>11084566</td>\n",
       "      <td>0</td>\n",
       "      <td>0</td>\n",
       "    </tr>\n",
       "    <tr>\n",
       "      <th>...</th>\n",
       "      <td>...</td>\n",
       "      <td>...</td>\n",
       "      <td>...</td>\n",
       "      <td>...</td>\n",
       "      <td>...</td>\n",
       "      <td>...</td>\n",
       "      <td>...</td>\n",
       "    </tr>\n",
       "    <tr>\n",
       "      <th>2021-03-12 12:30:00-05:00</th>\n",
       "      <td>120.849800</td>\n",
       "      <td>121.070000</td>\n",
       "      <td>120.427002</td>\n",
       "      <td>120.896698</td>\n",
       "      <td>8122057</td>\n",
       "      <td>0</td>\n",
       "      <td>0</td>\n",
       "    </tr>\n",
       "    <tr>\n",
       "      <th>2021-03-12 13:30:00-05:00</th>\n",
       "      <td>120.889999</td>\n",
       "      <td>121.010002</td>\n",
       "      <td>120.500000</td>\n",
       "      <td>120.589996</td>\n",
       "      <td>6602156</td>\n",
       "      <td>0</td>\n",
       "      <td>0</td>\n",
       "    </tr>\n",
       "    <tr>\n",
       "      <th>2021-03-12 14:30:00-05:00</th>\n",
       "      <td>120.595001</td>\n",
       "      <td>120.900002</td>\n",
       "      <td>120.464996</td>\n",
       "      <td>120.754997</td>\n",
       "      <td>7340616</td>\n",
       "      <td>0</td>\n",
       "      <td>0</td>\n",
       "    </tr>\n",
       "    <tr>\n",
       "      <th>2021-03-12 15:30:00-05:00</th>\n",
       "      <td>120.760002</td>\n",
       "      <td>121.169998</td>\n",
       "      <td>120.680000</td>\n",
       "      <td>121.040100</td>\n",
       "      <td>7978422</td>\n",
       "      <td>0</td>\n",
       "      <td>0</td>\n",
       "    </tr>\n",
       "    <tr>\n",
       "      <th>2022-07-08 16:00:00-04:00</th>\n",
       "      <td>147.039993</td>\n",
       "      <td>147.039993</td>\n",
       "      <td>147.039993</td>\n",
       "      <td>147.039993</td>\n",
       "      <td>0</td>\n",
       "      <td>0</td>\n",
       "      <td>0</td>\n",
       "    </tr>\n",
       "  </tbody>\n",
       "</table>\n",
       "<p>71 rows × 7 columns</p>\n",
       "</div>"
      ],
      "text/plain": [
       "                                 Open        High         Low       Close  \\\n",
       "2021-03-01 09:30:00-05:00  123.500000  125.250000  122.790001  125.084999   \n",
       "2021-03-01 10:30:00-05:00  125.084999  126.154999  124.880096  125.879898   \n",
       "2021-03-01 11:30:00-05:00  125.879997  126.620003  125.789902  126.230003   \n",
       "2021-03-01 12:30:00-05:00  126.239998  126.400002  125.669998  126.209297   \n",
       "2021-03-01 13:30:00-05:00  126.205002  127.230003  126.089996  127.105003   \n",
       "...                               ...         ...         ...         ...   \n",
       "2021-03-12 12:30:00-05:00  120.849800  121.070000  120.427002  120.896698   \n",
       "2021-03-12 13:30:00-05:00  120.889999  121.010002  120.500000  120.589996   \n",
       "2021-03-12 14:30:00-05:00  120.595001  120.900002  120.464996  120.754997   \n",
       "2021-03-12 15:30:00-05:00  120.760002  121.169998  120.680000  121.040100   \n",
       "2022-07-08 16:00:00-04:00  147.039993  147.039993  147.039993  147.039993   \n",
       "\n",
       "                             Volume  Dividends  Stock Splits  \n",
       "2021-03-01 09:30:00-05:00  30763287          0             0  \n",
       "2021-03-01 10:30:00-05:00  15870701          0             0  \n",
       "2021-03-01 11:30:00-05:00  13509856          0             0  \n",
       "2021-03-01 12:30:00-05:00   8484702          0             0  \n",
       "2021-03-01 13:30:00-05:00  11084566          0             0  \n",
       "...                             ...        ...           ...  \n",
       "2021-03-12 12:30:00-05:00   8122057          0             0  \n",
       "2021-03-12 13:30:00-05:00   6602156          0             0  \n",
       "2021-03-12 14:30:00-05:00   7340616          0             0  \n",
       "2021-03-12 15:30:00-05:00   7978422          0             0  \n",
       "2022-07-08 16:00:00-04:00         0          0             0  \n",
       "\n",
       "[71 rows x 7 columns]"
      ]
     },
     "execution_count": 2,
     "metadata": {},
     "output_type": "execute_result"
    }
   ],
   "source": [
    "data = pd.DataFrame()\n",
    "data = data.ta.ticker(\n",
    "     \"AAPL\",\n",
    "     start=datetime(2021, 3, 1),\n",
    "     end=datetime(2021, 3, 15),\n",
    "     interval='1h'\n",
    ")\n",
    "data"
   ]
  },
  {
   "cell_type": "code",
   "execution_count": 71,
   "id": "60ed79a2",
   "metadata": {},
   "outputs": [
    {
     "data": {
      "text/html": [
       "<div>\n",
       "<style scoped>\n",
       "    .dataframe tbody tr th:only-of-type {\n",
       "        vertical-align: middle;\n",
       "    }\n",
       "\n",
       "    .dataframe tbody tr th {\n",
       "        vertical-align: top;\n",
       "    }\n",
       "\n",
       "    .dataframe thead th {\n",
       "        text-align: right;\n",
       "    }\n",
       "</style>\n",
       "<table border=\"1\" class=\"dataframe\">\n",
       "  <thead>\n",
       "    <tr style=\"text-align: right;\">\n",
       "      <th></th>\n",
       "      <th>price_action</th>\n",
       "      <th>entries</th>\n",
       "      <th>exits</th>\n",
       "      <th>lots</th>\n",
       "    </tr>\n",
       "  </thead>\n",
       "  <tbody>\n",
       "    <tr>\n",
       "      <th>2022-01-01</th>\n",
       "      <td>1.04999</td>\n",
       "      <td>True</td>\n",
       "      <td>False</td>\n",
       "      <td>3000.0</td>\n",
       "    </tr>\n",
       "    <tr>\n",
       "      <th>2022-01-02</th>\n",
       "      <td>10.00000</td>\n",
       "      <td>False</td>\n",
       "      <td>False</td>\n",
       "      <td>NaN</td>\n",
       "    </tr>\n",
       "    <tr>\n",
       "      <th>2022-01-03</th>\n",
       "      <td>1.04775</td>\n",
       "      <td>False</td>\n",
       "      <td>True</td>\n",
       "      <td>NaN</td>\n",
       "    </tr>\n",
       "    <tr>\n",
       "      <th>2022-01-04</th>\n",
       "      <td>10.00000</td>\n",
       "      <td>False</td>\n",
       "      <td>False</td>\n",
       "      <td>NaN</td>\n",
       "    </tr>\n",
       "    <tr>\n",
       "      <th>2022-01-05</th>\n",
       "      <td>10.00000</td>\n",
       "      <td>False</td>\n",
       "      <td>False</td>\n",
       "      <td>NaN</td>\n",
       "    </tr>\n",
       "  </tbody>\n",
       "</table>\n",
       "</div>"
      ],
      "text/plain": [
       "            price_action  entries  exits    lots\n",
       "2022-01-01       1.04999     True  False  3000.0\n",
       "2022-01-02      10.00000    False  False     NaN\n",
       "2022-01-03       1.04775    False   True     NaN\n",
       "2022-01-04      10.00000    False  False     NaN\n",
       "2022-01-05      10.00000    False  False     NaN"
      ]
     },
     "execution_count": 71,
     "metadata": {},
     "output_type": "execute_result"
    }
   ],
   "source": [
    "orders = pd.DataFrame({\n",
    "        'price_action': [1.04999, 10, 1.04775, 10, 10],\n",
    "        'entries': [True, False, False, False, False],\n",
    "        'exits': [False, False, True, False, False],\n",
    "        'lots': [0.03*10**5, np.nan, np.nan, np.nan, np.nan] # 0 is close order, np.nan is skip\n",
    "    }\n",
    "    ,index=[datetime(2022, 1, 1) + timedelta(days=i) for i in range(5)])\n",
    "orders"
   ]
  },
  {
   "cell_type": "code",
   "execution_count": 72,
   "id": "577f77d4",
   "metadata": {},
   "outputs": [],
   "source": [
    "port = vbt.Portfolio.from_signals(orders.price_action,\n",
    "                                  entries=orders.entries,\n",
    "                                  exits=orders.exits,\n",
    "                                  size=orders.lots,\n",
    "                                  freq=\"D\",\n",
    "                                  init_cash=10000,\n",
    "#                                   fees=0.0025, \n",
    "#                                   slippage=0.0025\n",
    "                                 )"
   ]
  },
  {
   "cell_type": "code",
   "execution_count": 73,
   "id": "27b55c93",
   "metadata": {},
   "outputs": [
    {
     "data": {
      "application/vnd.plotly.v1+json": {
       "config": {
        "plotlyServerURL": "https://plot.ly"
       },
       "data": [
        {
         "legendgroup": "0",
         "line": {
          "color": "#1f77b4"
         },
         "name": "Close",
         "showlegend": true,
         "type": "scatter",
         "uid": "86260158-258d-46eb-955f-9a03457beff0",
         "x": [
          "2022-01-01T00:00:00",
          "2022-01-02T00:00:00",
          "2022-01-03T00:00:00",
          "2022-01-04T00:00:00",
          "2022-01-05T00:00:00"
         ],
         "xaxis": "x",
         "y": [
          1.04999,
          10,
          1.04775,
          10,
          10
         ],
         "yaxis": "y"
        },
        {
         "customdata": [
          [
           0,
           3000,
           0
          ]
         ],
         "hovertemplate": "Order Id: %{customdata[0]}<br>Timestamp: %{x}<br>Price: %{y}<br>Size: %{customdata[1]:.6f}<br>Fees: %{customdata[2]:.6f}",
         "legendgroup": "1",
         "marker": {
          "color": "#37B13F",
          "line": {
           "color": "rgb(38,123,44)",
           "width": 1
          },
          "size": 8,
          "symbol": "triangle-up"
         },
         "mode": "markers",
         "name": "Buy",
         "type": "scatter",
         "uid": "f15e4ac1-c2fd-4295-9d6c-544ff3e47d95",
         "x": [
          "2022-01-01T00:00:00"
         ],
         "xaxis": "x",
         "y": [
          1.04999
         ],
         "yaxis": "y"
        },
        {
         "customdata": [
          [
           1,
           3000,
           0
          ]
         ],
         "hovertemplate": "Order Id: %{customdata[0]}<br>Timestamp: %{x}<br>Price: %{y}<br>Size: %{customdata[1]:.6f}<br>Fees: %{customdata[2]:.6f}",
         "legendgroup": "2",
         "marker": {
          "color": "#EA4335",
          "line": {
           "color": "rgb(181,31,18)",
           "width": 1
          },
          "size": 8,
          "symbol": "triangle-down"
         },
         "mode": "markers",
         "name": "Sell",
         "type": "scatter",
         "uid": "975a72ac-7362-40b4-b00d-7ac23d002532",
         "x": [
          "2022-01-03T00:00:00"
         ],
         "xaxis": "x",
         "y": [
          1.04775
         ],
         "yaxis": "y"
        },
        {
         "customdata": [
          [
           0,
           0,
           -6.7199999999998,
           -0.002133353650987089
          ]
         ],
         "hovertemplate": "Exit Trade Id: %{customdata[0]}<br>Position Id: %{customdata[1]}<br>Exit Timestamp: %{x}<br>PnL: %{customdata[2]:.6f}<br>Return: %{customdata[3]:.2%}",
         "legendgroup": "3",
         "marker": {
          "color": "#EA4335",
          "line": {
           "color": "rgb(181,31,18)",
           "width": 1
          },
          "opacity": [
           0.9
          ],
          "size": [
           7
          ],
          "symbol": "circle"
         },
         "mode": "markers",
         "name": "Closed - Loss",
         "type": "scatter",
         "uid": "b4324e0e-a2a2-4945-ba17-8db0388857b6",
         "x": [
          "2022-01-03T00:00:00"
         ],
         "xaxis": "x2",
         "y": [
          -0.002133353650987089
         ],
         "yaxis": "y2"
        },
        {
         "legendgroup": "4",
         "line": {
          "color": "#7f7f7f"
         },
         "name": "Benchmark",
         "showlegend": true,
         "type": "scatter",
         "uid": "a513db93-05f3-4dae-8a88-831f5837c1de",
         "x": [
          "2022-01-01T00:00:00",
          "2022-01-02T00:00:00",
          "2022-01-03T00:00:00",
          "2022-01-04T00:00:00",
          "2022-01-05T00:00:00"
         ],
         "xaxis": "x3",
         "y": [
          1,
          9.523900227621215,
          0.9978666463490123,
          9.523900227621212,
          9.523900227621212
         ],
         "yaxis": "y3"
        },
        {
         "hoverinfo": "skip",
         "legendgroup": "5",
         "line": {
          "color": "rgba(0, 0, 0, 0)",
          "width": 0
         },
         "opacity": 0,
         "showlegend": false,
         "type": "scatter",
         "uid": "422a8d35-3b1e-4a5a-9cc0-8249b2044811",
         "x": [
          "2022-01-01T00:00:00",
          "2022-01-02T00:00:00",
          "2022-01-03T00:00:00",
          "2022-01-04T00:00:00",
          "2022-01-05T00:00:00"
         ],
         "xaxis": "x3",
         "y": [
          1,
          1,
          1,
          1,
          1
         ],
         "yaxis": "y3"
        },
        {
         "connectgaps": false,
         "fill": "tonexty",
         "fillcolor": "rgba(0, 128, 0, 0.3)",
         "hoverinfo": "skip",
         "legendgroup": "5",
         "line": {
          "color": "rgba(0, 0, 0, 0)",
          "width": 0
         },
         "opacity": 0,
         "showlegend": false,
         "type": "scatter",
         "uid": "81e780d3-f163-4d39-8530-b45547b5fb78",
         "x": [
          "2022-01-01T00:00:00",
          "2022-01-02T00:00:00",
          "2022-01-03T00:00:00",
          "2022-01-04T00:00:00",
          "2022-01-05T00:00:00"
         ],
         "xaxis": "x3",
         "y": [
          1,
          3.685003,
          1,
          1,
          1
         ],
         "yaxis": "y3"
        },
        {
         "hoverinfo": "skip",
         "legendgroup": "5",
         "line": {
          "color": "rgba(0, 0, 0, 0)",
          "width": 0
         },
         "opacity": 0,
         "showlegend": false,
         "type": "scatter",
         "uid": "02db003b-1b34-44b5-964e-ca9d12fe6dc9",
         "x": [
          "2022-01-01T00:00:00",
          "2022-01-02T00:00:00",
          "2022-01-03T00:00:00",
          "2022-01-04T00:00:00",
          "2022-01-05T00:00:00"
         ],
         "xaxis": "x3",
         "y": [
          1,
          1,
          1,
          1,
          1
         ],
         "yaxis": "y3"
        },
        {
         "connectgaps": false,
         "fill": "tonexty",
         "fillcolor": "rgba(255, 0, 0, 0.3)",
         "hoverinfo": "skip",
         "legendgroup": "5",
         "line": {
          "color": "rgba(0, 0, 0, 0)",
          "width": 0
         },
         "opacity": 0,
         "showlegend": false,
         "type": "scatter",
         "uid": "01a4731c-e662-4d23-b260-fceefbe82c41",
         "x": [
          "2022-01-01T00:00:00",
          "2022-01-02T00:00:00",
          "2022-01-03T00:00:00",
          "2022-01-04T00:00:00",
          "2022-01-05T00:00:00"
         ],
         "xaxis": "x3",
         "y": [
          1,
          1,
          0.999328,
          0.999328,
          0.999328
         ],
         "yaxis": "y3"
        },
        {
         "legendgroup": "6",
         "line": {
          "color": "#9467bd"
         },
         "name": "Value",
         "showlegend": true,
         "type": "scatter",
         "uid": "23c697ae-9ee5-4777-8aa9-85e8cb289663",
         "x": [
          "2022-01-01T00:00:00",
          "2022-01-02T00:00:00",
          "2022-01-03T00:00:00",
          "2022-01-04T00:00:00",
          "2022-01-05T00:00:00"
         ],
         "xaxis": "x3",
         "y": [
          1,
          3.685003,
          0.999328,
          0.999328,
          0.999328
         ],
         "yaxis": "y3"
        },
        {
         "hoverinfo": "skip",
         "legendgroup": "5",
         "line": {
          "color": "rgba(0, 0, 0, 0)",
          "width": 0
         },
         "opacity": 0,
         "showlegend": false,
         "type": "scatter",
         "uid": "da99c460-9a50-490b-ae5f-42705514aa6f",
         "x": [
          "2022-01-01T00:00:00",
          "2022-01-02T00:00:00",
          "2022-01-03T00:00:00",
          "2022-01-04T00:00:00",
          "2022-01-05T00:00:00"
         ],
         "xaxis": "x3",
         "y": [
          1,
          1,
          1,
          1,
          1
         ],
         "yaxis": "y3"
        }
       ],
       "layout": {
        "annotations": [
         {
          "font": {
           "size": 16
          },
          "showarrow": false,
          "text": "Orders",
          "x": 0.5,
          "xanchor": "center",
          "xref": "paper",
          "y": 1,
          "yanchor": "bottom",
          "yref": "paper"
         },
         {
          "font": {
           "size": 16
          },
          "showarrow": false,
          "text": "Trade PnL",
          "x": 0.5,
          "xanchor": "center",
          "xref": "paper",
          "y": 0.6527777777777777,
          "yanchor": "bottom",
          "yref": "paper"
         },
         {
          "font": {
           "size": 16
          },
          "showarrow": false,
          "text": "Cumulative Returns",
          "x": 0.5,
          "xanchor": "center",
          "xref": "paper",
          "y": 0.3055555555555555,
          "yanchor": "bottom",
          "yref": "paper"
         }
        ],
        "height": 960,
        "legend": {
         "orientation": "h",
         "traceorder": "normal",
         "x": 1,
         "xanchor": "right",
         "y": 1.0416666666666667,
         "yanchor": "bottom"
        },
        "margin": {
         "b": 30,
         "l": 30,
         "r": 30,
         "t": 30
        },
        "shapes": [
         {
          "line": {
           "color": "gray",
           "dash": "dash"
          },
          "type": "line",
          "x0": 0,
          "x1": 1,
          "xref": "paper",
          "y0": 0,
          "y1": 0,
          "yref": "y2"
         },
         {
          "line": {
           "color": "gray",
           "dash": "dash"
          },
          "type": "line",
          "x0": 0,
          "x1": 1,
          "xref": "paper",
          "y0": 1,
          "y1": 1,
          "yref": "y3"
         }
        ],
        "showlegend": true,
        "template": {
         "data": {
          "bar": [
           {
            "error_x": {
             "color": "#2a3f5f"
            },
            "error_y": {
             "color": "#2a3f5f"
            },
            "marker": {
             "line": {
              "color": "#E5ECF6",
              "width": 0.5
             }
            },
            "type": "bar"
           }
          ],
          "barpolar": [
           {
            "marker": {
             "line": {
              "color": "#E5ECF6",
              "width": 0.5
             }
            },
            "type": "barpolar"
           }
          ],
          "carpet": [
           {
            "aaxis": {
             "endlinecolor": "#2a3f5f",
             "gridcolor": "white",
             "linecolor": "white",
             "minorgridcolor": "white",
             "startlinecolor": "#2a3f5f"
            },
            "baxis": {
             "endlinecolor": "#2a3f5f",
             "gridcolor": "white",
             "linecolor": "white",
             "minorgridcolor": "white",
             "startlinecolor": "#2a3f5f"
            },
            "type": "carpet"
           }
          ],
          "choropleth": [
           {
            "colorbar": {
             "outlinewidth": 0,
             "ticks": ""
            },
            "type": "choropleth"
           }
          ],
          "contour": [
           {
            "colorbar": {
             "outlinewidth": 0,
             "ticks": ""
            },
            "colorscale": [
             [
              0,
              "#0d0887"
             ],
             [
              0.1111111111111111,
              "#46039f"
             ],
             [
              0.2222222222222222,
              "#7201a8"
             ],
             [
              0.3333333333333333,
              "#9c179e"
             ],
             [
              0.4444444444444444,
              "#bd3786"
             ],
             [
              0.5555555555555556,
              "#d8576b"
             ],
             [
              0.6666666666666666,
              "#ed7953"
             ],
             [
              0.7777777777777778,
              "#fb9f3a"
             ],
             [
              0.8888888888888888,
              "#fdca26"
             ],
             [
              1,
              "#f0f921"
             ]
            ],
            "type": "contour"
           }
          ],
          "contourcarpet": [
           {
            "colorbar": {
             "outlinewidth": 0,
             "ticks": ""
            },
            "type": "contourcarpet"
           }
          ],
          "heatmap": [
           {
            "colorbar": {
             "outlinewidth": 0,
             "ticks": ""
            },
            "colorscale": [
             [
              0,
              "#0d0887"
             ],
             [
              0.1111111111111111,
              "#46039f"
             ],
             [
              0.2222222222222222,
              "#7201a8"
             ],
             [
              0.3333333333333333,
              "#9c179e"
             ],
             [
              0.4444444444444444,
              "#bd3786"
             ],
             [
              0.5555555555555556,
              "#d8576b"
             ],
             [
              0.6666666666666666,
              "#ed7953"
             ],
             [
              0.7777777777777778,
              "#fb9f3a"
             ],
             [
              0.8888888888888888,
              "#fdca26"
             ],
             [
              1,
              "#f0f921"
             ]
            ],
            "type": "heatmap"
           }
          ],
          "heatmapgl": [
           {
            "colorbar": {
             "outlinewidth": 0,
             "ticks": ""
            },
            "colorscale": [
             [
              0,
              "#0d0887"
             ],
             [
              0.1111111111111111,
              "#46039f"
             ],
             [
              0.2222222222222222,
              "#7201a8"
             ],
             [
              0.3333333333333333,
              "#9c179e"
             ],
             [
              0.4444444444444444,
              "#bd3786"
             ],
             [
              0.5555555555555556,
              "#d8576b"
             ],
             [
              0.6666666666666666,
              "#ed7953"
             ],
             [
              0.7777777777777778,
              "#fb9f3a"
             ],
             [
              0.8888888888888888,
              "#fdca26"
             ],
             [
              1,
              "#f0f921"
             ]
            ],
            "type": "heatmapgl"
           }
          ],
          "histogram": [
           {
            "marker": {
             "colorbar": {
              "outlinewidth": 0,
              "ticks": ""
             }
            },
            "type": "histogram"
           }
          ],
          "histogram2d": [
           {
            "colorbar": {
             "outlinewidth": 0,
             "ticks": ""
            },
            "colorscale": [
             [
              0,
              "#0d0887"
             ],
             [
              0.1111111111111111,
              "#46039f"
             ],
             [
              0.2222222222222222,
              "#7201a8"
             ],
             [
              0.3333333333333333,
              "#9c179e"
             ],
             [
              0.4444444444444444,
              "#bd3786"
             ],
             [
              0.5555555555555556,
              "#d8576b"
             ],
             [
              0.6666666666666666,
              "#ed7953"
             ],
             [
              0.7777777777777778,
              "#fb9f3a"
             ],
             [
              0.8888888888888888,
              "#fdca26"
             ],
             [
              1,
              "#f0f921"
             ]
            ],
            "type": "histogram2d"
           }
          ],
          "histogram2dcontour": [
           {
            "colorbar": {
             "outlinewidth": 0,
             "ticks": ""
            },
            "colorscale": [
             [
              0,
              "#0d0887"
             ],
             [
              0.1111111111111111,
              "#46039f"
             ],
             [
              0.2222222222222222,
              "#7201a8"
             ],
             [
              0.3333333333333333,
              "#9c179e"
             ],
             [
              0.4444444444444444,
              "#bd3786"
             ],
             [
              0.5555555555555556,
              "#d8576b"
             ],
             [
              0.6666666666666666,
              "#ed7953"
             ],
             [
              0.7777777777777778,
              "#fb9f3a"
             ],
             [
              0.8888888888888888,
              "#fdca26"
             ],
             [
              1,
              "#f0f921"
             ]
            ],
            "type": "histogram2dcontour"
           }
          ],
          "mesh3d": [
           {
            "colorbar": {
             "outlinewidth": 0,
             "ticks": ""
            },
            "type": "mesh3d"
           }
          ],
          "parcoords": [
           {
            "line": {
             "colorbar": {
              "outlinewidth": 0,
              "ticks": ""
             }
            },
            "type": "parcoords"
           }
          ],
          "pie": [
           {
            "automargin": true,
            "type": "pie"
           }
          ],
          "scatter": [
           {
            "marker": {
             "colorbar": {
              "outlinewidth": 0,
              "ticks": ""
             }
            },
            "type": "scatter"
           }
          ],
          "scatter3d": [
           {
            "line": {
             "colorbar": {
              "outlinewidth": 0,
              "ticks": ""
             }
            },
            "marker": {
             "colorbar": {
              "outlinewidth": 0,
              "ticks": ""
             }
            },
            "type": "scatter3d"
           }
          ],
          "scattercarpet": [
           {
            "marker": {
             "colorbar": {
              "outlinewidth": 0,
              "ticks": ""
             }
            },
            "type": "scattercarpet"
           }
          ],
          "scattergeo": [
           {
            "marker": {
             "colorbar": {
              "outlinewidth": 0,
              "ticks": ""
             }
            },
            "type": "scattergeo"
           }
          ],
          "scattergl": [
           {
            "marker": {
             "colorbar": {
              "outlinewidth": 0,
              "ticks": ""
             }
            },
            "type": "scattergl"
           }
          ],
          "scattermapbox": [
           {
            "marker": {
             "colorbar": {
              "outlinewidth": 0,
              "ticks": ""
             }
            },
            "type": "scattermapbox"
           }
          ],
          "scatterpolar": [
           {
            "marker": {
             "colorbar": {
              "outlinewidth": 0,
              "ticks": ""
             }
            },
            "type": "scatterpolar"
           }
          ],
          "scatterpolargl": [
           {
            "marker": {
             "colorbar": {
              "outlinewidth": 0,
              "ticks": ""
             }
            },
            "type": "scatterpolargl"
           }
          ],
          "scatterternary": [
           {
            "marker": {
             "colorbar": {
              "outlinewidth": 0,
              "ticks": ""
             }
            },
            "type": "scatterternary"
           }
          ],
          "surface": [
           {
            "colorbar": {
             "outlinewidth": 0,
             "ticks": ""
            },
            "colorscale": [
             [
              0,
              "#0d0887"
             ],
             [
              0.1111111111111111,
              "#46039f"
             ],
             [
              0.2222222222222222,
              "#7201a8"
             ],
             [
              0.3333333333333333,
              "#9c179e"
             ],
             [
              0.4444444444444444,
              "#bd3786"
             ],
             [
              0.5555555555555556,
              "#d8576b"
             ],
             [
              0.6666666666666666,
              "#ed7953"
             ],
             [
              0.7777777777777778,
              "#fb9f3a"
             ],
             [
              0.8888888888888888,
              "#fdca26"
             ],
             [
              1,
              "#f0f921"
             ]
            ],
            "type": "surface"
           }
          ],
          "table": [
           {
            "cells": {
             "fill": {
              "color": "#EBF0F8"
             },
             "line": {
              "color": "white"
             }
            },
            "header": {
             "fill": {
              "color": "#C8D4E3"
             },
             "line": {
              "color": "white"
             }
            },
            "type": "table"
           }
          ]
         },
         "layout": {
          "annotationdefaults": {
           "arrowcolor": "#2a3f5f",
           "arrowhead": 0,
           "arrowwidth": 1
          },
          "coloraxis": {
           "colorbar": {
            "outlinewidth": 0,
            "ticks": ""
           }
          },
          "colorscale": {
           "diverging": [
            [
             0,
             "#8e0152"
            ],
            [
             0.1,
             "#c51b7d"
            ],
            [
             0.2,
             "#de77ae"
            ],
            [
             0.3,
             "#f1b6da"
            ],
            [
             0.4,
             "#fde0ef"
            ],
            [
             0.5,
             "#f7f7f7"
            ],
            [
             0.6,
             "#e6f5d0"
            ],
            [
             0.7,
             "#b8e186"
            ],
            [
             0.8,
             "#7fbc41"
            ],
            [
             0.9,
             "#4d9221"
            ],
            [
             1,
             "#276419"
            ]
           ],
           "sequential": [
            [
             0,
             "#0d0887"
            ],
            [
             0.1111111111111111,
             "#46039f"
            ],
            [
             0.2222222222222222,
             "#7201a8"
            ],
            [
             0.3333333333333333,
             "#9c179e"
            ],
            [
             0.4444444444444444,
             "#bd3786"
            ],
            [
             0.5555555555555556,
             "#d8576b"
            ],
            [
             0.6666666666666666,
             "#ed7953"
            ],
            [
             0.7777777777777778,
             "#fb9f3a"
            ],
            [
             0.8888888888888888,
             "#fdca26"
            ],
            [
             1,
             "#f0f921"
            ]
           ],
           "sequentialminus": [
            [
             0,
             "#0d0887"
            ],
            [
             0.1111111111111111,
             "#46039f"
            ],
            [
             0.2222222222222222,
             "#7201a8"
            ],
            [
             0.3333333333333333,
             "#9c179e"
            ],
            [
             0.4444444444444444,
             "#bd3786"
            ],
            [
             0.5555555555555556,
             "#d8576b"
            ],
            [
             0.6666666666666666,
             "#ed7953"
            ],
            [
             0.7777777777777778,
             "#fb9f3a"
            ],
            [
             0.8888888888888888,
             "#fdca26"
            ],
            [
             1,
             "#f0f921"
            ]
           ]
          },
          "colorway": [
           "#1f77b4",
           "#ff7f0e",
           "#2ca02c",
           "#dc3912",
           "#9467bd",
           "#8c564b",
           "#e377c2",
           "#7f7f7f",
           "#bcbd22",
           "#17becf"
          ],
          "font": {
           "color": "#2a3f5f"
          },
          "geo": {
           "bgcolor": "white",
           "lakecolor": "white",
           "landcolor": "#E5ECF6",
           "showlakes": true,
           "showland": true,
           "subunitcolor": "white"
          },
          "hoverlabel": {
           "align": "left"
          },
          "hovermode": "closest",
          "mapbox": {
           "style": "light"
          },
          "paper_bgcolor": "white",
          "plot_bgcolor": "#E5ECF6",
          "polar": {
           "angularaxis": {
            "gridcolor": "white",
            "linecolor": "white",
            "ticks": ""
           },
           "bgcolor": "#E5ECF6",
           "radialaxis": {
            "gridcolor": "white",
            "linecolor": "white",
            "ticks": ""
           }
          },
          "scene": {
           "xaxis": {
            "backgroundcolor": "#E5ECF6",
            "gridcolor": "white",
            "gridwidth": 2,
            "linecolor": "white",
            "showbackground": true,
            "ticks": "",
            "zerolinecolor": "white"
           },
           "yaxis": {
            "backgroundcolor": "#E5ECF6",
            "gridcolor": "white",
            "gridwidth": 2,
            "linecolor": "white",
            "showbackground": true,
            "ticks": "",
            "zerolinecolor": "white"
           },
           "zaxis": {
            "backgroundcolor": "#E5ECF6",
            "gridcolor": "white",
            "gridwidth": 2,
            "linecolor": "white",
            "showbackground": true,
            "ticks": "",
            "zerolinecolor": "white"
           }
          },
          "shapedefaults": {
           "line": {
            "color": "#2a3f5f"
           }
          },
          "ternary": {
           "aaxis": {
            "gridcolor": "white",
            "linecolor": "white",
            "ticks": ""
           },
           "baxis": {
            "gridcolor": "white",
            "linecolor": "white",
            "ticks": ""
           },
           "bgcolor": "#E5ECF6",
           "caxis": {
            "gridcolor": "white",
            "linecolor": "white",
            "ticks": ""
           }
          },
          "title": {
           "x": 0.05
          },
          "xaxis": {
           "automargin": true,
           "gridcolor": "white",
           "linecolor": "white",
           "ticks": "",
           "title": {
            "standoff": 15
           },
           "zerolinecolor": "white",
           "zerolinewidth": 2
          },
          "yaxis": {
           "automargin": true,
           "gridcolor": "white",
           "linecolor": "white",
           "ticks": "",
           "title": {
            "standoff": 15
           },
           "zerolinecolor": "white",
           "zerolinewidth": 2
          }
         }
        },
        "width": 750,
        "xaxis": {
         "anchor": "y",
         "domain": [
          0,
          1
         ],
         "matches": "x3",
         "showticklabels": false
        },
        "xaxis2": {
         "anchor": "y2",
         "domain": [
          0,
          1
         ],
         "matches": "x3",
         "showticklabels": false
        },
        "xaxis3": {
         "anchor": "y3",
         "domain": [
          0,
          1
         ],
         "title": {
          "text": "Index"
         }
        },
        "yaxis": {
         "anchor": "x",
         "domain": [
          0.6944444444444444,
          1
         ],
         "title": {
          "text": "Price"
         }
        },
        "yaxis2": {
         "anchor": "x2",
         "domain": [
          0.3472222222222222,
          0.6527777777777777
         ],
         "tickformat": ".2%",
         "title": {
          "text": "Trade PnL"
         }
        },
        "yaxis3": {
         "anchor": "x3",
         "domain": [
          0,
          0.3055555555555555
         ],
         "title": {
          "text": "Cumulative returns"
         }
        }
       }
      },
      "text/html": [
       "<div>                            <div id=\"453cfa1f-56e7-4516-b6d2-edbb5a833ce0\" class=\"plotly-graph-div\" style=\"height:960px; width:750px;\"></div>            <script type=\"text/javascript\">                require([\"plotly\"], function(Plotly) {                    window.PLOTLYENV=window.PLOTLYENV || {};                                    if (document.getElementById(\"453cfa1f-56e7-4516-b6d2-edbb5a833ce0\")) {                    Plotly.newPlot(                        \"453cfa1f-56e7-4516-b6d2-edbb5a833ce0\",                        [{\"legendgroup\":\"0\",\"line\":{\"color\":\"#1f77b4\"},\"name\":\"Close\",\"showlegend\":true,\"type\":\"scatter\",\"uid\":\"86260158-258d-46eb-955f-9a03457beff0\",\"x\":[\"2022-01-01T00:00:00\",\"2022-01-02T00:00:00\",\"2022-01-03T00:00:00\",\"2022-01-04T00:00:00\",\"2022-01-05T00:00:00\"],\"xaxis\":\"x\",\"y\":[1.04999,10.0,1.04775,10.0,10.0],\"yaxis\":\"y\"},{\"customdata\":[[0.0,3000.0,0.0]],\"hovertemplate\":\"Order Id: %{customdata[0]}<br>Timestamp: %{x}<br>Price: %{y}<br>Size: %{customdata[1]:.6f}<br>Fees: %{customdata[2]:.6f}\",\"legendgroup\":\"1\",\"marker\":{\"color\":\"#37B13F\",\"line\":{\"color\":\"rgb(38,123,44)\",\"width\":1},\"size\":8,\"symbol\":\"triangle-up\"},\"mode\":\"markers\",\"name\":\"Buy\",\"type\":\"scatter\",\"uid\":\"f15e4ac1-c2fd-4295-9d6c-544ff3e47d95\",\"x\":[\"2022-01-01T00:00:00\"],\"xaxis\":\"x\",\"y\":[1.04999],\"yaxis\":\"y\"},{\"customdata\":[[1.0,3000.0,0.0]],\"hovertemplate\":\"Order Id: %{customdata[0]}<br>Timestamp: %{x}<br>Price: %{y}<br>Size: %{customdata[1]:.6f}<br>Fees: %{customdata[2]:.6f}\",\"legendgroup\":\"2\",\"marker\":{\"color\":\"#EA4335\",\"line\":{\"color\":\"rgb(181,31,18)\",\"width\":1},\"size\":8,\"symbol\":\"triangle-down\"},\"mode\":\"markers\",\"name\":\"Sell\",\"type\":\"scatter\",\"uid\":\"975a72ac-7362-40b4-b00d-7ac23d002532\",\"x\":[\"2022-01-03T00:00:00\"],\"xaxis\":\"x\",\"y\":[1.04775],\"yaxis\":\"y\"},{\"customdata\":[[0.0,0.0,-6.7199999999998,-0.002133353650987089]],\"hovertemplate\":\"Exit Trade Id: %{customdata[0]}<br>Position Id: %{customdata[1]}<br>Exit Timestamp: %{x}<br>PnL: %{customdata[2]:.6f}<br>Return: %{customdata[3]:.2%}\",\"legendgroup\":\"3\",\"marker\":{\"color\":\"#EA4335\",\"line\":{\"color\":\"rgb(181,31,18)\",\"width\":1},\"opacity\":[0.9],\"size\":[7],\"symbol\":\"circle\"},\"mode\":\"markers\",\"name\":\"Closed - Loss\",\"type\":\"scatter\",\"uid\":\"b4324e0e-a2a2-4945-ba17-8db0388857b6\",\"x\":[\"2022-01-03T00:00:00\"],\"xaxis\":\"x2\",\"y\":[-0.002133353650987089],\"yaxis\":\"y2\"},{\"legendgroup\":\"4\",\"line\":{\"color\":\"#7f7f7f\"},\"name\":\"Benchmark\",\"showlegend\":true,\"type\":\"scatter\",\"uid\":\"a513db93-05f3-4dae-8a88-831f5837c1de\",\"x\":[\"2022-01-01T00:00:00\",\"2022-01-02T00:00:00\",\"2022-01-03T00:00:00\",\"2022-01-04T00:00:00\",\"2022-01-05T00:00:00\"],\"xaxis\":\"x3\",\"y\":[1.0,9.523900227621215,0.9978666463490123,9.523900227621212,9.523900227621212],\"yaxis\":\"y3\"},{\"hoverinfo\":\"skip\",\"legendgroup\":\"5\",\"line\":{\"color\":\"rgba(0, 0, 0, 0)\",\"width\":0},\"opacity\":0,\"showlegend\":false,\"type\":\"scatter\",\"uid\":\"422a8d35-3b1e-4a5a-9cc0-8249b2044811\",\"x\":[\"2022-01-01T00:00:00\",\"2022-01-02T00:00:00\",\"2022-01-03T00:00:00\",\"2022-01-04T00:00:00\",\"2022-01-05T00:00:00\"],\"xaxis\":\"x3\",\"y\":[1,1,1,1,1],\"yaxis\":\"y3\"},{\"connectgaps\":false,\"fill\":\"tonexty\",\"fillcolor\":\"rgba(0, 128, 0, 0.3)\",\"hoverinfo\":\"skip\",\"legendgroup\":\"5\",\"line\":{\"color\":\"rgba(0, 0, 0, 0)\",\"width\":0},\"opacity\":0,\"showlegend\":false,\"type\":\"scatter\",\"uid\":\"81e780d3-f163-4d39-8530-b45547b5fb78\",\"x\":[\"2022-01-01T00:00:00\",\"2022-01-02T00:00:00\",\"2022-01-03T00:00:00\",\"2022-01-04T00:00:00\",\"2022-01-05T00:00:00\"],\"xaxis\":\"x3\",\"y\":[1.0,3.685003,1.0,1.0,1.0],\"yaxis\":\"y3\"},{\"hoverinfo\":\"skip\",\"legendgroup\":\"5\",\"line\":{\"color\":\"rgba(0, 0, 0, 0)\",\"width\":0},\"opacity\":0,\"showlegend\":false,\"type\":\"scatter\",\"uid\":\"02db003b-1b34-44b5-964e-ca9d12fe6dc9\",\"x\":[\"2022-01-01T00:00:00\",\"2022-01-02T00:00:00\",\"2022-01-03T00:00:00\",\"2022-01-04T00:00:00\",\"2022-01-05T00:00:00\"],\"xaxis\":\"x3\",\"y\":[1,1,1,1,1],\"yaxis\":\"y3\"},{\"connectgaps\":false,\"fill\":\"tonexty\",\"fillcolor\":\"rgba(255, 0, 0, 0.3)\",\"hoverinfo\":\"skip\",\"legendgroup\":\"5\",\"line\":{\"color\":\"rgba(0, 0, 0, 0)\",\"width\":0},\"opacity\":0,\"showlegend\":false,\"type\":\"scatter\",\"uid\":\"01a4731c-e662-4d23-b260-fceefbe82c41\",\"x\":[\"2022-01-01T00:00:00\",\"2022-01-02T00:00:00\",\"2022-01-03T00:00:00\",\"2022-01-04T00:00:00\",\"2022-01-05T00:00:00\"],\"xaxis\":\"x3\",\"y\":[1.0,1.0,0.999328,0.999328,0.999328],\"yaxis\":\"y3\"},{\"legendgroup\":\"6\",\"line\":{\"color\":\"#9467bd\"},\"name\":\"Value\",\"showlegend\":true,\"type\":\"scatter\",\"uid\":\"23c697ae-9ee5-4777-8aa9-85e8cb289663\",\"x\":[\"2022-01-01T00:00:00\",\"2022-01-02T00:00:00\",\"2022-01-03T00:00:00\",\"2022-01-04T00:00:00\",\"2022-01-05T00:00:00\"],\"xaxis\":\"x3\",\"y\":[1.0,3.685003,0.999328,0.999328,0.999328],\"yaxis\":\"y3\"},{\"hoverinfo\":\"skip\",\"legendgroup\":\"5\",\"line\":{\"color\":\"rgba(0, 0, 0, 0)\",\"width\":0},\"opacity\":0.0,\"showlegend\":false,\"type\":\"scatter\",\"uid\":\"da99c460-9a50-490b-ae5f-42705514aa6f\",\"x\":[\"2022-01-01T00:00:00\",\"2022-01-02T00:00:00\",\"2022-01-03T00:00:00\",\"2022-01-04T00:00:00\",\"2022-01-05T00:00:00\"],\"xaxis\":\"x3\",\"y\":[1,1,1,1,1],\"yaxis\":\"y3\"}],                        {\"annotations\":[{\"font\":{\"size\":16},\"showarrow\":false,\"text\":\"Orders\",\"x\":0.5,\"xanchor\":\"center\",\"xref\":\"paper\",\"y\":1.0,\"yanchor\":\"bottom\",\"yref\":\"paper\"},{\"font\":{\"size\":16},\"showarrow\":false,\"text\":\"Trade PnL\",\"x\":0.5,\"xanchor\":\"center\",\"xref\":\"paper\",\"y\":0.6527777777777777,\"yanchor\":\"bottom\",\"yref\":\"paper\"},{\"font\":{\"size\":16},\"showarrow\":false,\"text\":\"Cumulative Returns\",\"x\":0.5,\"xanchor\":\"center\",\"xref\":\"paper\",\"y\":0.3055555555555555,\"yanchor\":\"bottom\",\"yref\":\"paper\"}],\"height\":960,\"legend\":{\"orientation\":\"h\",\"traceorder\":\"normal\",\"x\":1,\"xanchor\":\"right\",\"y\":1.0416666666666667,\"yanchor\":\"bottom\"},\"margin\":{\"b\":30,\"l\":30,\"r\":30,\"t\":30},\"shapes\":[{\"line\":{\"color\":\"gray\",\"dash\":\"dash\"},\"type\":\"line\",\"x0\":0.0,\"x1\":1.0,\"xref\":\"paper\",\"y0\":0,\"y1\":0,\"yref\":\"y2\"},{\"line\":{\"color\":\"gray\",\"dash\":\"dash\"},\"type\":\"line\",\"x0\":0.0,\"x1\":1.0,\"xref\":\"paper\",\"y0\":1,\"y1\":1,\"yref\":\"y3\"}],\"showlegend\":true,\"template\":{\"data\":{\"bar\":[{\"error_x\":{\"color\":\"#2a3f5f\"},\"error_y\":{\"color\":\"#2a3f5f\"},\"marker\":{\"line\":{\"color\":\"#E5ECF6\",\"width\":0.5}},\"type\":\"bar\"}],\"barpolar\":[{\"marker\":{\"line\":{\"color\":\"#E5ECF6\",\"width\":0.5}},\"type\":\"barpolar\"}],\"carpet\":[{\"aaxis\":{\"endlinecolor\":\"#2a3f5f\",\"gridcolor\":\"white\",\"linecolor\":\"white\",\"minorgridcolor\":\"white\",\"startlinecolor\":\"#2a3f5f\"},\"baxis\":{\"endlinecolor\":\"#2a3f5f\",\"gridcolor\":\"white\",\"linecolor\":\"white\",\"minorgridcolor\":\"white\",\"startlinecolor\":\"#2a3f5f\"},\"type\":\"carpet\"}],\"choropleth\":[{\"colorbar\":{\"outlinewidth\":0,\"ticks\":\"\"},\"type\":\"choropleth\"}],\"contour\":[{\"colorbar\":{\"outlinewidth\":0,\"ticks\":\"\"},\"colorscale\":[[0.0,\"#0d0887\"],[0.1111111111111111,\"#46039f\"],[0.2222222222222222,\"#7201a8\"],[0.3333333333333333,\"#9c179e\"],[0.4444444444444444,\"#bd3786\"],[0.5555555555555556,\"#d8576b\"],[0.6666666666666666,\"#ed7953\"],[0.7777777777777778,\"#fb9f3a\"],[0.8888888888888888,\"#fdca26\"],[1.0,\"#f0f921\"]],\"type\":\"contour\"}],\"contourcarpet\":[{\"colorbar\":{\"outlinewidth\":0,\"ticks\":\"\"},\"type\":\"contourcarpet\"}],\"heatmap\":[{\"colorbar\":{\"outlinewidth\":0,\"ticks\":\"\"},\"colorscale\":[[0.0,\"#0d0887\"],[0.1111111111111111,\"#46039f\"],[0.2222222222222222,\"#7201a8\"],[0.3333333333333333,\"#9c179e\"],[0.4444444444444444,\"#bd3786\"],[0.5555555555555556,\"#d8576b\"],[0.6666666666666666,\"#ed7953\"],[0.7777777777777778,\"#fb9f3a\"],[0.8888888888888888,\"#fdca26\"],[1.0,\"#f0f921\"]],\"type\":\"heatmap\"}],\"heatmapgl\":[{\"colorbar\":{\"outlinewidth\":0,\"ticks\":\"\"},\"colorscale\":[[0.0,\"#0d0887\"],[0.1111111111111111,\"#46039f\"],[0.2222222222222222,\"#7201a8\"],[0.3333333333333333,\"#9c179e\"],[0.4444444444444444,\"#bd3786\"],[0.5555555555555556,\"#d8576b\"],[0.6666666666666666,\"#ed7953\"],[0.7777777777777778,\"#fb9f3a\"],[0.8888888888888888,\"#fdca26\"],[1.0,\"#f0f921\"]],\"type\":\"heatmapgl\"}],\"histogram\":[{\"marker\":{\"colorbar\":{\"outlinewidth\":0,\"ticks\":\"\"}},\"type\":\"histogram\"}],\"histogram2d\":[{\"colorbar\":{\"outlinewidth\":0,\"ticks\":\"\"},\"colorscale\":[[0.0,\"#0d0887\"],[0.1111111111111111,\"#46039f\"],[0.2222222222222222,\"#7201a8\"],[0.3333333333333333,\"#9c179e\"],[0.4444444444444444,\"#bd3786\"],[0.5555555555555556,\"#d8576b\"],[0.6666666666666666,\"#ed7953\"],[0.7777777777777778,\"#fb9f3a\"],[0.8888888888888888,\"#fdca26\"],[1.0,\"#f0f921\"]],\"type\":\"histogram2d\"}],\"histogram2dcontour\":[{\"colorbar\":{\"outlinewidth\":0,\"ticks\":\"\"},\"colorscale\":[[0.0,\"#0d0887\"],[0.1111111111111111,\"#46039f\"],[0.2222222222222222,\"#7201a8\"],[0.3333333333333333,\"#9c179e\"],[0.4444444444444444,\"#bd3786\"],[0.5555555555555556,\"#d8576b\"],[0.6666666666666666,\"#ed7953\"],[0.7777777777777778,\"#fb9f3a\"],[0.8888888888888888,\"#fdca26\"],[1.0,\"#f0f921\"]],\"type\":\"histogram2dcontour\"}],\"mesh3d\":[{\"colorbar\":{\"outlinewidth\":0,\"ticks\":\"\"},\"type\":\"mesh3d\"}],\"parcoords\":[{\"line\":{\"colorbar\":{\"outlinewidth\":0,\"ticks\":\"\"}},\"type\":\"parcoords\"}],\"pie\":[{\"automargin\":true,\"type\":\"pie\"}],\"scatter\":[{\"marker\":{\"colorbar\":{\"outlinewidth\":0,\"ticks\":\"\"}},\"type\":\"scatter\"}],\"scatter3d\":[{\"line\":{\"colorbar\":{\"outlinewidth\":0,\"ticks\":\"\"}},\"marker\":{\"colorbar\":{\"outlinewidth\":0,\"ticks\":\"\"}},\"type\":\"scatter3d\"}],\"scattercarpet\":[{\"marker\":{\"colorbar\":{\"outlinewidth\":0,\"ticks\":\"\"}},\"type\":\"scattercarpet\"}],\"scattergeo\":[{\"marker\":{\"colorbar\":{\"outlinewidth\":0,\"ticks\":\"\"}},\"type\":\"scattergeo\"}],\"scattergl\":[{\"marker\":{\"colorbar\":{\"outlinewidth\":0,\"ticks\":\"\"}},\"type\":\"scattergl\"}],\"scattermapbox\":[{\"marker\":{\"colorbar\":{\"outlinewidth\":0,\"ticks\":\"\"}},\"type\":\"scattermapbox\"}],\"scatterpolar\":[{\"marker\":{\"colorbar\":{\"outlinewidth\":0,\"ticks\":\"\"}},\"type\":\"scatterpolar\"}],\"scatterpolargl\":[{\"marker\":{\"colorbar\":{\"outlinewidth\":0,\"ticks\":\"\"}},\"type\":\"scatterpolargl\"}],\"scatterternary\":[{\"marker\":{\"colorbar\":{\"outlinewidth\":0,\"ticks\":\"\"}},\"type\":\"scatterternary\"}],\"surface\":[{\"colorbar\":{\"outlinewidth\":0,\"ticks\":\"\"},\"colorscale\":[[0.0,\"#0d0887\"],[0.1111111111111111,\"#46039f\"],[0.2222222222222222,\"#7201a8\"],[0.3333333333333333,\"#9c179e\"],[0.4444444444444444,\"#bd3786\"],[0.5555555555555556,\"#d8576b\"],[0.6666666666666666,\"#ed7953\"],[0.7777777777777778,\"#fb9f3a\"],[0.8888888888888888,\"#fdca26\"],[1.0,\"#f0f921\"]],\"type\":\"surface\"}],\"table\":[{\"cells\":{\"fill\":{\"color\":\"#EBF0F8\"},\"line\":{\"color\":\"white\"}},\"header\":{\"fill\":{\"color\":\"#C8D4E3\"},\"line\":{\"color\":\"white\"}},\"type\":\"table\"}]},\"layout\":{\"annotationdefaults\":{\"arrowcolor\":\"#2a3f5f\",\"arrowhead\":0,\"arrowwidth\":1},\"coloraxis\":{\"colorbar\":{\"outlinewidth\":0,\"ticks\":\"\"}},\"colorscale\":{\"diverging\":[[0,\"#8e0152\"],[0.1,\"#c51b7d\"],[0.2,\"#de77ae\"],[0.3,\"#f1b6da\"],[0.4,\"#fde0ef\"],[0.5,\"#f7f7f7\"],[0.6,\"#e6f5d0\"],[0.7,\"#b8e186\"],[0.8,\"#7fbc41\"],[0.9,\"#4d9221\"],[1,\"#276419\"]],\"sequential\":[[0.0,\"#0d0887\"],[0.1111111111111111,\"#46039f\"],[0.2222222222222222,\"#7201a8\"],[0.3333333333333333,\"#9c179e\"],[0.4444444444444444,\"#bd3786\"],[0.5555555555555556,\"#d8576b\"],[0.6666666666666666,\"#ed7953\"],[0.7777777777777778,\"#fb9f3a\"],[0.8888888888888888,\"#fdca26\"],[1.0,\"#f0f921\"]],\"sequentialminus\":[[0.0,\"#0d0887\"],[0.1111111111111111,\"#46039f\"],[0.2222222222222222,\"#7201a8\"],[0.3333333333333333,\"#9c179e\"],[0.4444444444444444,\"#bd3786\"],[0.5555555555555556,\"#d8576b\"],[0.6666666666666666,\"#ed7953\"],[0.7777777777777778,\"#fb9f3a\"],[0.8888888888888888,\"#fdca26\"],[1.0,\"#f0f921\"]]},\"colorway\":[\"#1f77b4\",\"#ff7f0e\",\"#2ca02c\",\"#dc3912\",\"#9467bd\",\"#8c564b\",\"#e377c2\",\"#7f7f7f\",\"#bcbd22\",\"#17becf\"],\"font\":{\"color\":\"#2a3f5f\"},\"geo\":{\"bgcolor\":\"white\",\"lakecolor\":\"white\",\"landcolor\":\"#E5ECF6\",\"showlakes\":true,\"showland\":true,\"subunitcolor\":\"white\"},\"hoverlabel\":{\"align\":\"left\"},\"hovermode\":\"closest\",\"mapbox\":{\"style\":\"light\"},\"paper_bgcolor\":\"white\",\"plot_bgcolor\":\"#E5ECF6\",\"polar\":{\"angularaxis\":{\"gridcolor\":\"white\",\"linecolor\":\"white\",\"ticks\":\"\"},\"bgcolor\":\"#E5ECF6\",\"radialaxis\":{\"gridcolor\":\"white\",\"linecolor\":\"white\",\"ticks\":\"\"}},\"scene\":{\"xaxis\":{\"backgroundcolor\":\"#E5ECF6\",\"gridcolor\":\"white\",\"gridwidth\":2,\"linecolor\":\"white\",\"showbackground\":true,\"ticks\":\"\",\"zerolinecolor\":\"white\"},\"yaxis\":{\"backgroundcolor\":\"#E5ECF6\",\"gridcolor\":\"white\",\"gridwidth\":2,\"linecolor\":\"white\",\"showbackground\":true,\"ticks\":\"\",\"zerolinecolor\":\"white\"},\"zaxis\":{\"backgroundcolor\":\"#E5ECF6\",\"gridcolor\":\"white\",\"gridwidth\":2,\"linecolor\":\"white\",\"showbackground\":true,\"ticks\":\"\",\"zerolinecolor\":\"white\"}},\"shapedefaults\":{\"line\":{\"color\":\"#2a3f5f\"}},\"ternary\":{\"aaxis\":{\"gridcolor\":\"white\",\"linecolor\":\"white\",\"ticks\":\"\"},\"baxis\":{\"gridcolor\":\"white\",\"linecolor\":\"white\",\"ticks\":\"\"},\"bgcolor\":\"#E5ECF6\",\"caxis\":{\"gridcolor\":\"white\",\"linecolor\":\"white\",\"ticks\":\"\"}},\"title\":{\"x\":0.05},\"xaxis\":{\"automargin\":true,\"gridcolor\":\"white\",\"linecolor\":\"white\",\"ticks\":\"\",\"title\":{\"standoff\":15},\"zerolinecolor\":\"white\",\"zerolinewidth\":2},\"yaxis\":{\"automargin\":true,\"gridcolor\":\"white\",\"linecolor\":\"white\",\"ticks\":\"\",\"title\":{\"standoff\":15},\"zerolinecolor\":\"white\",\"zerolinewidth\":2}}},\"width\":750,\"xaxis\":{\"anchor\":\"y\",\"domain\":[0.0,1.0],\"matches\":\"x3\",\"showticklabels\":false},\"xaxis2\":{\"anchor\":\"y2\",\"domain\":[0.0,1.0],\"matches\":\"x3\",\"showticklabels\":false},\"xaxis3\":{\"anchor\":\"y3\",\"domain\":[0.0,1.0],\"title\":{\"text\":\"Index\"}},\"yaxis\":{\"anchor\":\"x\",\"domain\":[0.6944444444444444,1.0],\"title\":{\"text\":\"Price\"}},\"yaxis2\":{\"anchor\":\"x2\",\"domain\":[0.3472222222222222,0.6527777777777777],\"tickformat\":\".2%\",\"title\":{\"text\":\"Trade PnL\"}},\"yaxis3\":{\"anchor\":\"x3\",\"domain\":[0.0,0.3055555555555555],\"title\":{\"text\":\"Cumulative returns\"}}},                        {\"responsive\": true}                    ).then(function(){\n",
       "                            \n",
       "var gd = document.getElementById('453cfa1f-56e7-4516-b6d2-edbb5a833ce0');\n",
       "var x = new MutationObserver(function (mutations, observer) {{\n",
       "        var display = window.getComputedStyle(gd).display;\n",
       "        if (!display || display === 'none') {{\n",
       "            console.log([gd, 'removed!']);\n",
       "            Plotly.purge(gd);\n",
       "            observer.disconnect();\n",
       "        }}\n",
       "}});\n",
       "\n",
       "// Listen for the removal of the full notebook cells\n",
       "var notebookContainer = gd.closest('#notebook-container');\n",
       "if (notebookContainer) {{\n",
       "    x.observe(notebookContainer, {childList: true});\n",
       "}}\n",
       "\n",
       "// Listen for the clearing of the current output cell\n",
       "var outputEl = gd.closest('.output');\n",
       "if (outputEl) {{\n",
       "    x.observe(outputEl, {childList: true});\n",
       "}}\n",
       "\n",
       "                        })                };                });            </script>        </div>"
      ]
     },
     "metadata": {},
     "output_type": "display_data"
    }
   ],
   "source": [
    "port.plot().show()"
   ]
  },
  {
   "cell_type": "code",
   "execution_count": 74,
   "id": "0df51b77",
   "metadata": {},
   "outputs": [
    {
     "data": {
      "text/plain": [
       "<AxesSubplot:>"
      ]
     },
     "execution_count": 74,
     "metadata": {},
     "output_type": "execute_result"
    },
    {
     "data": {
      "image/png": "[encoded data removed]",
      "text/plain": [
       "<Figure size 432x288 with 1 Axes>"
      ]
     },
     "metadata": {
      "needs_background": "light"
     },
     "output_type": "display_data"
    }
   ],
   "source": [
    "port.cash().plot()"
   ]
  },
  {
   "cell_type": "code",
   "execution_count": 75,
   "id": "27b333c7",
   "metadata": {},
   "outputs": [
    {
     "data": {
      "text/plain": [
       "Start                         2022-01-01 00:00:00\n",
       "End                           2022-01-05 00:00:00\n",
       "Period                            5 days 00:00:00\n",
       "Start Value                               10000.0\n",
       "End Value                                 9993.28\n",
       "Total Return [%]                          -0.0672\n",
       "Benchmark Return [%]                   852.390023\n",
       "Max Gross Exposure [%]                   81.41106\n",
       "Total Fees Paid                               0.0\n",
       "Max Drawdown [%]                        72.881216\n",
       "Max Drawdown Duration             3 days 00:00:00\n",
       "Total Trades                                    1\n",
       "Total Closed Trades                             1\n",
       "Total Open Trades                               0\n",
       "Open Trade PnL                                0.0\n",
       "Win Rate [%]                                  0.0\n",
       "Best Trade [%]                          -0.213335\n",
       "Worst Trade [%]                         -0.213335\n",
       "Avg Winning Trade [%]                         NaN\n",
       "Avg Losing Trade [%]                    -0.213335\n",
       "Avg Winning Trade Duration                    NaT\n",
       "Avg Losing Trade Duration         2 days 00:00:00\n",
       "Profit Factor                                 0.0\n",
       "Expectancy                                  -6.72\n",
       "Sharpe Ratio                              5.66035\n",
       "Calmar Ratio                            -0.065707\n",
       "Omega Ratio                              3.684081\n",
       "Sortino Ratio                           22.932798\n",
       "dtype: object"
      ]
     },
     "execution_count": 75,
     "metadata": {},
     "output_type": "execute_result"
    }
   ],
   "source": [
    "port.stats()"
   ]
  },
  {
   "cell_type": "code",
   "execution_count": 76,
   "id": "254b4730",
   "metadata": {},
   "outputs": [
    {
     "data": {
      "text/html": [
       "<div>\n",
       "<style scoped>\n",
       "    .dataframe tbody tr th:only-of-type {\n",
       "        vertical-align: middle;\n",
       "    }\n",
       "\n",
       "    .dataframe tbody tr th {\n",
       "        vertical-align: top;\n",
       "    }\n",
       "\n",
       "    .dataframe thead th {\n",
       "        text-align: right;\n",
       "    }\n",
       "</style>\n",
       "<table border=\"1\" class=\"dataframe\">\n",
       "  <thead>\n",
       "    <tr style=\"text-align: right;\">\n",
       "      <th></th>\n",
       "      <th>Order Id</th>\n",
       "      <th>Column</th>\n",
       "      <th>Timestamp</th>\n",
       "      <th>Size</th>\n",
       "      <th>Price</th>\n",
       "      <th>Fees</th>\n",
       "      <th>Side</th>\n",
       "    </tr>\n",
       "  </thead>\n",
       "  <tbody>\n",
       "    <tr>\n",
       "      <th>0</th>\n",
       "      <td>0</td>\n",
       "      <td>0</td>\n",
       "      <td>2022-01-01</td>\n",
       "      <td>3000.0</td>\n",
       "      <td>1.04999</td>\n",
       "      <td>0.0</td>\n",
       "      <td>Buy</td>\n",
       "    </tr>\n",
       "    <tr>\n",
       "      <th>1</th>\n",
       "      <td>1</td>\n",
       "      <td>0</td>\n",
       "      <td>2022-01-03</td>\n",
       "      <td>3000.0</td>\n",
       "      <td>1.04775</td>\n",
       "      <td>0.0</td>\n",
       "      <td>Sell</td>\n",
       "    </tr>\n",
       "  </tbody>\n",
       "</table>\n",
       "</div>"
      ],
      "text/plain": [
       "   Order Id  Column  Timestamp    Size    Price  Fees  Side\n",
       "0         0       0 2022-01-01  3000.0  1.04999   0.0   Buy\n",
       "1         1       0 2022-01-03  3000.0  1.04775   0.0  Sell"
      ]
     },
     "execution_count": 76,
     "metadata": {},
     "output_type": "execute_result"
    }
   ],
   "source": [
    "# Fees = Size * Price * fees , This Fees for lot size\n",
    "# Avg Entry Price = price_action + (price_action * Slippage) = price_action * (1 + Slippage)\n",
    "# Slippage = (Avg Entry Price / price_action) - 1\n",
    "# Avg Exit Price = price_action - (price_action * Slippage) = price_action * (1 - Slippage)\n",
    "\n",
    "port.orders.records_readable"
   ]
  },
  {
   "cell_type": "code",
   "execution_count": 77,
   "id": "d4fba78a",
   "metadata": {},
   "outputs": [
    {
     "data": {
      "text/plain": [
       "0.050125"
      ]
     },
     "execution_count": 77,
     "metadata": {},
     "output_type": "execute_result"
    }
   ],
   "source": [
    "2*10.025*0.0025"
   ]
  },
  {
   "cell_type": "code",
   "execution_count": 78,
   "id": "cf851a49",
   "metadata": {},
   "outputs": [
    {
     "data": {
      "text/html": [
       "<div>\n",
       "<style scoped>\n",
       "    .dataframe tbody tr th:only-of-type {\n",
       "        vertical-align: middle;\n",
       "    }\n",
       "\n",
       "    .dataframe tbody tr th {\n",
       "        vertical-align: top;\n",
       "    }\n",
       "\n",
       "    .dataframe thead th {\n",
       "        text-align: right;\n",
       "    }\n",
       "</style>\n",
       "<table border=\"1\" class=\"dataframe\">\n",
       "  <thead>\n",
       "    <tr style=\"text-align: right;\">\n",
       "      <th></th>\n",
       "      <th>Exit Trade Id</th>\n",
       "      <th>Column</th>\n",
       "      <th>Size</th>\n",
       "      <th>Entry Timestamp</th>\n",
       "      <th>Avg Entry Price</th>\n",
       "      <th>Entry Fees</th>\n",
       "      <th>Exit Timestamp</th>\n",
       "      <th>Avg Exit Price</th>\n",
       "      <th>Exit Fees</th>\n",
       "      <th>PnL</th>\n",
       "      <th>Return</th>\n",
       "      <th>Direction</th>\n",
       "      <th>Status</th>\n",
       "      <th>Position Id</th>\n",
       "    </tr>\n",
       "  </thead>\n",
       "  <tbody>\n",
       "    <tr>\n",
       "      <th>0</th>\n",
       "      <td>0</td>\n",
       "      <td>0</td>\n",
       "      <td>3000.0</td>\n",
       "      <td>2022-01-01</td>\n",
       "      <td>1.04999</td>\n",
       "      <td>0.0</td>\n",
       "      <td>2022-01-03</td>\n",
       "      <td>1.04775</td>\n",
       "      <td>0.0</td>\n",
       "      <td>-6.72</td>\n",
       "      <td>-0.002133</td>\n",
       "      <td>Long</td>\n",
       "      <td>Closed</td>\n",
       "      <td>0</td>\n",
       "    </tr>\n",
       "  </tbody>\n",
       "</table>\n",
       "</div>"
      ],
      "text/plain": [
       "   Exit Trade Id  Column    Size Entry Timestamp  Avg Entry Price  Entry Fees  \\\n",
       "0              0       0  3000.0      2022-01-01          1.04999         0.0   \n",
       "\n",
       "  Exit Timestamp  Avg Exit Price  Exit Fees   PnL    Return Direction  Status  \\\n",
       "0     2022-01-03         1.04775        0.0 -6.72 -0.002133      Long  Closed   \n",
       "\n",
       "   Position Id  \n",
       "0            0  "
      ]
     },
     "execution_count": 78,
     "metadata": {},
     "output_type": "execute_result"
    }
   ],
   "source": [
    "# Size = Lot size\n",
    "# Cash entry side = Cash - (size * Avg Entry Price + Entry Fees)\n",
    "# Cash exit side = Cash + (size * Avg Exit Price - Exit Fees)\n",
    "# Cash order entry side = (size * Price) + (Size * Price * fees) = size * (Price + (Price * fees)) = size * (Price * (1+fees))\n",
    "# Cash order exit side = (size * Price) - (Size * Price * fees) = size * (Price - (Price * fees)) = size * (Price * (1-fees))\n",
    "# size = taget entry cash / (Price * (1 + fees))\n",
    "# PnL = (Size * Avg Entry Price + Entry Fees) - (Size * Avg Exit Price - Exit Fees)\n",
    "# Entry Fees + Exit Fees = PnL - Size * Avg Entry Price + Size * Avg Exit Price = PnL - Size*(Avg Entry Price - Avg Exit Price)\n",
    "\n",
    "port.trades.records_readable"
   ]
  },
  {
   "cell_type": "code",
   "execution_count": 21,
   "id": "34edb3c4",
   "metadata": {},
   "outputs": [
    {
     "data": {
      "text/plain": [
       "6.720000000000059"
      ]
     },
     "execution_count": 21,
     "metadata": {},
     "output_type": "execute_result"
    }
   ],
   "source": [
    "(1.04999 - 1.04775)/0.0001*10*0.03"
   ]
  },
  {
   "cell_type": "code",
   "execution_count": 24,
   "id": "9c570fc3",
   "metadata": {},
   "outputs": [
    {
     "data": {
      "text/plain": [
       "6.720000000000059e-05"
      ]
     },
     "execution_count": 24,
     "metadata": {},
     "output_type": "execute_result"
    }
   ],
   "source": [
    "(0.03*(1.04999-1.04775))"
   ]
  },
  {
   "cell_type": "code",
   "execution_count": 63,
   "id": "e8645188",
   "metadata": {},
   "outputs": [
    {
     "data": {
      "text/plain": [
       "3149.97"
      ]
     },
     "execution_count": 63,
     "metadata": {},
     "output_type": "execute_result"
    }
   ],
   "source": [
    "104999*0.03"
   ]
  },
  {
   "cell_type": "code",
   "execution_count": 12,
   "id": "a86fc701",
   "metadata": {},
   "outputs": [
    {
     "data": {
      "text/plain": [
       "2022-01-01    69.849813\n",
       "2022-01-02    69.849813\n",
       "2022-01-03    99.700000\n",
       "2022-01-04    99.700000\n",
       "2022-01-05    99.700000\n",
       "dtype: float64"
      ]
     },
     "execution_count": 12,
     "metadata": {},
     "output_type": "execute_result"
    }
   ],
   "source": [
    "port.cash()"
   ]
  },
  {
   "cell_type": "code",
   "execution_count": 271,
   "id": "b2eb9ccf",
   "metadata": {},
   "outputs": [
    {
     "name": "stdout",
     "output_type": "stream",
     "text": [
      "0.0\n",
      "-0.9975062344139369\n"
     ]
    }
   ],
   "source": [
    "stats = port.stats()\n",
    "print(stats['Win Rate [%]'])\n",
    "print(stats['Avg Losing Trade [%]'])"
   ]
  },
  {
   "cell_type": "code",
   "execution_count": 4,
   "id": "9cefffb0",
   "metadata": {},
   "outputs": [
    {
     "data": {
      "text/html": [
       "<div>\n",
       "<style scoped>\n",
       "    .dataframe tbody tr th:only-of-type {\n",
       "        vertical-align: middle;\n",
       "    }\n",
       "\n",
       "    .dataframe tbody tr th {\n",
       "        vertical-align: top;\n",
       "    }\n",
       "\n",
       "    .dataframe thead th {\n",
       "        text-align: right;\n",
       "    }\n",
       "</style>\n",
       "<table border=\"1\" class=\"dataframe\">\n",
       "  <thead>\n",
       "    <tr style=\"text-align: right;\">\n",
       "      <th></th>\n",
       "      <th>Symbol;Position;Type;Lots;Open time;Open price;Close time;Close price;Profit;Net profit;Rollover;Comment</th>\n",
       "    </tr>\n",
       "  </thead>\n",
       "  <tbody>\n",
       "    <tr>\n",
       "      <th>72</th>\n",
       "      <td>GBPUSD;513726846;Sell Limit;0.04;06.01.2022 15...</td>\n",
       "    </tr>\n",
       "    <tr>\n",
       "      <th>73</th>\n",
       "      <td>EURUSD;513722654;Sell Stop;0.04;06.01.2022 15:...</td>\n",
       "    </tr>\n",
       "    <tr>\n",
       "      <th>74</th>\n",
       "      <td>EURUSD;512787088;Buy Limit;0.04;05.01.2022 16:...</td>\n",
       "    </tr>\n",
       "    <tr>\n",
       "      <th>75</th>\n",
       "      <td>EURUSD;511460226;Sell Limit;0.04;03.01.2022 22...</td>\n",
       "    </tr>\n",
       "    <tr>\n",
       "      <th>76</th>\n",
       "      <td>EURUSD;511044910;Buy Limit;0.04;03.01.2022 13:...</td>\n",
       "    </tr>\n",
       "  </tbody>\n",
       "</table>\n",
       "</div>"
      ],
      "text/plain": [
       "   Symbol;Position;Type;Lots;Open time;Open price;Close time;Close price;Profit;Net profit;Rollover;Comment\n",
       "72  GBPUSD;513726846;Sell Limit;0.04;06.01.2022 15...                                                      \n",
       "73  EURUSD;513722654;Sell Stop;0.04;06.01.2022 15:...                                                      \n",
       "74  EURUSD;512787088;Buy Limit;0.04;05.01.2022 16:...                                                      \n",
       "75  EURUSD;511460226;Sell Limit;0.04;03.01.2022 22...                                                      \n",
       "76  EURUSD;511044910;Buy Limit;0.04;03.01.2022 13:...                                                      "
      ]
     },
     "execution_count": 4,
     "metadata": {},
     "output_type": "execute_result"
    }
   ],
   "source": [
    "data = pd.read_csv('xtb_trades.csv')\n",
    "data.tail()"
   ]
  },
  {
   "cell_type": "code",
   "execution_count": 2,
   "id": "05e8078a",
   "metadata": {},
   "outputs": [],
   "source": [
    "with open('xtb_trades.csv') as file:\n",
    "    lines = file.readlines()\n",
    "    f = open(\"trade_hist.csv\", \"w\")\n",
    "    for line in lines:\n",
    "        f.write(line.replace(';', ','))\n",
    "        f.write('\\n')\n",
    "    f.close()"
   ]
  },
  {
   "cell_type": "code",
   "execution_count": 3,
   "id": "11fb386b",
   "metadata": {},
   "outputs": [
    {
     "data": {
      "text/html": [
       "<div>\n",
       "<style scoped>\n",
       "    .dataframe tbody tr th:only-of-type {\n",
       "        vertical-align: middle;\n",
       "    }\n",
       "\n",
       "    .dataframe tbody tr th {\n",
       "        vertical-align: top;\n",
       "    }\n",
       "\n",
       "    .dataframe thead th {\n",
       "        text-align: right;\n",
       "    }\n",
       "</style>\n",
       "<table border=\"1\" class=\"dataframe\">\n",
       "  <thead>\n",
       "    <tr style=\"text-align: right;\">\n",
       "      <th></th>\n",
       "      <th>Symbol</th>\n",
       "      <th>Position</th>\n",
       "      <th>Type</th>\n",
       "      <th>Lots</th>\n",
       "      <th>Open time</th>\n",
       "      <th>Open price</th>\n",
       "      <th>Close time</th>\n",
       "      <th>Close price</th>\n",
       "      <th>Profit</th>\n",
       "      <th>Net profit</th>\n",
       "      <th>Rollover</th>\n",
       "      <th>Comment</th>\n",
       "    </tr>\n",
       "  </thead>\n",
       "  <tbody>\n",
       "    <tr>\n",
       "      <th>72</th>\n",
       "      <td>GBPUSD</td>\n",
       "      <td>513726846</td>\n",
       "      <td>Sell Limit</td>\n",
       "      <td>0.04</td>\n",
       "      <td>06.01.2022 15:08:53</td>\n",
       "      <td>1.35005</td>\n",
       "      <td>06.01.2022 15:47:15</td>\n",
       "      <td>1.34978</td>\n",
       "      <td>1.08</td>\n",
       "      <td>1.08</td>\n",
       "      <td>0</td>\n",
       "      <td>[T/P]</td>\n",
       "    </tr>\n",
       "    <tr>\n",
       "      <th>73</th>\n",
       "      <td>EURUSD</td>\n",
       "      <td>513722654</td>\n",
       "      <td>Sell Stop</td>\n",
       "      <td>0.04</td>\n",
       "      <td>06.01.2022 15:05:44</td>\n",
       "      <td>1.12889</td>\n",
       "      <td>06.01.2022 15:09:32</td>\n",
       "      <td>1.12970</td>\n",
       "      <td>-3.24</td>\n",
       "      <td>-3.24</td>\n",
       "      <td>0</td>\n",
       "      <td>[S/L]</td>\n",
       "    </tr>\n",
       "    <tr>\n",
       "      <th>74</th>\n",
       "      <td>EURUSD</td>\n",
       "      <td>512787088</td>\n",
       "      <td>Buy Limit</td>\n",
       "      <td>0.04</td>\n",
       "      <td>05.01.2022 16:52:53</td>\n",
       "      <td>1.13096</td>\n",
       "      <td>05.01.2022 18:33:22</td>\n",
       "      <td>1.13195</td>\n",
       "      <td>3.96</td>\n",
       "      <td>3.96</td>\n",
       "      <td>0</td>\n",
       "      <td>[T/P]</td>\n",
       "    </tr>\n",
       "    <tr>\n",
       "      <th>75</th>\n",
       "      <td>EURUSD</td>\n",
       "      <td>511460226</td>\n",
       "      <td>Sell Limit</td>\n",
       "      <td>0.04</td>\n",
       "      <td>03.01.2022 22:07:46</td>\n",
       "      <td>1.13052</td>\n",
       "      <td>03.01.2022 22:27:09</td>\n",
       "      <td>1.12994</td>\n",
       "      <td>2.32</td>\n",
       "      <td>2.32</td>\n",
       "      <td>0</td>\n",
       "      <td>[T/P]</td>\n",
       "    </tr>\n",
       "    <tr>\n",
       "      <th>76</th>\n",
       "      <td>EURUSD</td>\n",
       "      <td>511044910</td>\n",
       "      <td>Buy Limit</td>\n",
       "      <td>0.04</td>\n",
       "      <td>03.01.2022 13:59:28</td>\n",
       "      <td>1.13441</td>\n",
       "      <td>03.01.2022 17:03:35</td>\n",
       "      <td>1.13572</td>\n",
       "      <td>5.24</td>\n",
       "      <td>5.24</td>\n",
       "      <td>0</td>\n",
       "      <td>[T/P]</td>\n",
       "    </tr>\n",
       "  </tbody>\n",
       "</table>\n",
       "</div>"
      ],
      "text/plain": [
       "    Symbol   Position        Type  Lots            Open time  Open price  \\\n",
       "72  GBPUSD  513726846  Sell Limit  0.04  06.01.2022 15:08:53     1.35005   \n",
       "73  EURUSD  513722654   Sell Stop  0.04  06.01.2022 15:05:44     1.12889   \n",
       "74  EURUSD  512787088   Buy Limit  0.04  05.01.2022 16:52:53     1.13096   \n",
       "75  EURUSD  511460226  Sell Limit  0.04  03.01.2022 22:07:46     1.13052   \n",
       "76  EURUSD  511044910   Buy Limit  0.04  03.01.2022 13:59:28     1.13441   \n",
       "\n",
       "             Close time  Close price  Profit  Net profit  Rollover Comment  \n",
       "72  06.01.2022 15:47:15      1.34978    1.08        1.08         0   [T/P]  \n",
       "73  06.01.2022 15:09:32      1.12970   -3.24       -3.24         0   [S/L]  \n",
       "74  05.01.2022 18:33:22      1.13195    3.96        3.96         0   [T/P]  \n",
       "75  03.01.2022 22:27:09      1.12994    2.32        2.32         0   [T/P]  \n",
       "76  03.01.2022 17:03:35      1.13572    5.24        5.24         0   [T/P]  "
      ]
     },
     "execution_count": 3,
     "metadata": {},
     "output_type": "execute_result"
    }
   ],
   "source": [
    "data = pd.read_csv('trade_hist.csv')\n",
    "data.tail()"
   ]
  },
  {
   "cell_type": "code",
   "execution_count": 75,
   "id": "797d8c21",
   "metadata": {},
   "outputs": [
    {
     "data": {
      "text/plain": [
       "0.000693641618497054"
      ]
     },
     "execution_count": 75,
     "metadata": {},
     "output_type": "execute_result"
    }
   ],
   "source": [
    "p = 1.038\n",
    "a = 1.03872\n",
    "(a/p)-1"
   ]
  },
  {
   "cell_type": "code",
   "execution_count": 14,
   "id": "a602c85c",
   "metadata": {},
   "outputs": [
    {
     "data": {
      "text/plain": [
       "0.0006936416184971617"
      ]
     },
     "execution_count": 14,
     "metadata": {},
     "output_type": "execute_result"
    }
   ],
   "source": [
    "0.00021135555769058456\n",
    "-9.523809523803717e-05\n",
    "0.000693641618497054"
   ]
  },
  {
   "cell_type": "code",
   "execution_count": 15,
   "id": "3de2a9da",
   "metadata": {},
   "outputs": [
    {
     "data": {
      "text/plain": [
       "0.02113555576905649"
      ]
     },
     "execution_count": 15,
     "metadata": {},
     "output_type": "execute_result"
    }
   ],
   "source": [
    "(a-p) * 100 / p"
   ]
  },
  {
   "cell_type": "code",
   "execution_count": null,
   "id": "1ae6ee57",
   "metadata": {},
   "outputs": [],
   "source": [
    "0.06936416184971618 % => 0.000693\n",
    "-0.009523809523808475 %\n",
    "0.02113555576905649 %"
   ]
  },
  {
   "cell_type": "code",
   "execution_count": 16,
   "id": "d09a20de",
   "metadata": {},
   "outputs": [
    {
     "data": {
      "text/plain": [
       "0.013797181432935842"
      ]
     },
     "execution_count": 16,
     "metadata": {},
     "output_type": "execute_result"
    }
   ],
   "source": [
    "0.00014 * 100 / 1.0147 # 0.001"
   ]
  },
  {
   "cell_type": "code",
   "execution_count": 102,
   "id": "09ca3895",
   "metadata": {},
   "outputs": [
    {
     "data": {
      "text/plain": [
       "-6.7200672"
      ]
     },
     "execution_count": 102,
     "metadata": {},
     "output_type": "execute_result"
    }
   ],
   "source": [
    "pnl = -6.72\n",
    "entry = 1.04999\n",
    "exit = 1.04775\n",
    "size = 0.03\n",
    "pip = 0.0001\n",
    "pip_value = 10\n",
    "pnl - size*entry + size*exit"
   ]
  },
  {
   "cell_type": "code",
   "execution_count": 103,
   "id": "ecfb5740",
   "metadata": {},
   "outputs": [
    {
     "data": {
      "text/plain": [
       "6.720000000000059"
      ]
     },
     "execution_count": 103,
     "metadata": {},
     "output_type": "execute_result"
    }
   ],
   "source": [
    "((entry - exit) / pip ) * pip_value*size # net profit"
   ]
  },
  {
   "cell_type": "code",
   "execution_count": 104,
   "id": "9c8ecf49",
   "metadata": {},
   "outputs": [
    {
     "data": {
      "text/plain": [
       "-0.029999999999999732"
      ]
     },
     "execution_count": 104,
     "metadata": {},
     "output_type": "execute_result"
    }
   ],
   "source": [
    "pnl / (((entry - exit) / pip ) * pip_value) # size"
   ]
  },
  {
   "cell_type": "code",
   "execution_count": null,
   "id": "76a6f2c0",
   "metadata": {},
   "outputs": [],
   "source": []
  }
 ],
 "metadata": {
  "kernelspec": {
   "display_name": "Python 3",
   "language": "python",
   "name": "python3"
  },
  "language_info": {
   "codemirror_mode": {
    "name": "ipython",
    "version": 3
   },
   "file_extension": ".py",
   "mimetype": "text/x-python",
   "name": "python",
   "nbconvert_exporter": "python",
   "pygments_lexer": "ipython3",
   "version": "3.8.8"
  }
 },
 "nbformat": 4,
 "nbformat_minor": 5
}
