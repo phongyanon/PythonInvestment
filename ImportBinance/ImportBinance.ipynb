{
 "cells": [
  {
   "cell_type": "code",
   "execution_count": 1,
   "id": "686ff5dc",
   "metadata": {},
   "outputs": [
    {
     "data": {
      "text/plain": [
       "True"
      ]
     },
     "execution_count": 1,
     "metadata": {},
     "output_type": "execute_result"
    }
   ],
   "source": [
    "import os\n",
    "from binance.client import Client\n",
    "from dotenv import load_dotenv\n",
    "\n",
    "from datetime import datetime, timedelta\n",
    "from pandas_datareader import data as pdr\n",
    "import pandas as pd\n",
    "load_dotenv()"
   ]
  },
  {
   "cell_type": "code",
   "execution_count": 2,
   "id": "1b95d6f2",
   "metadata": {},
   "outputs": [],
   "source": [
    "API_KEY = os.getenv('BINANCE_KEY')\n",
    "API_SECRET = os.getenv('BINANCE_SECRET')\n",
    "\n",
    "client = Client(API_KEY, API_SECRET)"
   ]
  },
  {
   "cell_type": "markdown",
   "id": "f88c7151",
   "metadata": {},
   "source": [
    "### Hard-Limits:\n",
    "* 1,200 request weight per minute (keep in mind that this is not necessarily the same as 1,200 requests)\n",
    "* 50 orders per 10 seconds\n",
    "* 160,000 orders per 24 hours\n",
    "\n",
    "### Time interval\n",
    "*     KLINE_INTERVAL_1MINUTE = '1m'\n",
    "*     KLINE_INTERVAL_3MINUTE = '3m'\n",
    "*     KLINE_INTERVAL_5MINUTE = '5m'\n",
    "*     KLINE_INTERVAL_15MINUTE = '15m'\n",
    "*     KLINE_INTERVAL_30MINUTE = '30m'\n",
    "*     KLINE_INTERVAL_1HOUR = '1h'\n",
    "*     KLINE_INTERVAL_2HOUR = '2h'\n",
    "*     KLINE_INTERVAL_4HOUR = '4h'\n",
    "*     KLINE_INTERVAL_6HOUR = '6h'\n",
    "*     KLINE_INTERVAL_8HOUR = '8h'\n",
    "*     KLINE_INTERVAL_12HOUR = '12h'\n",
    "*     KLINE_INTERVAL_1DAY = '1d'\n",
    "*     KLINE_INTERVAL_3DAY = '3d'\n",
    "*     KLINE_INTERVAL_1WEEK = '1w'\n",
    "*     KLINE_INTERVAL_1MONTH = '1M'"
   ]
  },
  {
   "cell_type": "code",
   "execution_count": 3,
   "id": "17fe6c12",
   "metadata": {},
   "outputs": [],
   "source": [
    "def ImportBinance(name, symbol, start_time=\"1 Jan,2018\", end_time=\"1 Jan,2020\", interval_time=Client.KLINE_INTERVAL_1HOUR):\n",
    "    klines = client.get_historical_klines(symbol, interval_time, start_time, end_time)\n",
    "    df = pd.DataFrame(klines)\n",
    "    # create colums name\n",
    "    df.columns = ['timestamp','open', 'high', 'low', 'close', 'volume', 'close_time', \n",
    "                  'qav','num_trades','taker_base_vol','taker_quote_vol', 'ignore']\n",
    "            \n",
    "    # change the timestamp\n",
    "    df.index = [datetime.fromtimestamp(x/1000.0) for x in df.close_time]\n",
    "    df.to_csv(f\"{name}.csv\", index = None, header=True)\n",
    "    print(f\"{symbol} ==> {name} done...\")"
   ]
  },
  {
   "cell_type": "code",
   "execution_count": 7,
   "id": "34c19e48",
   "metadata": {},
   "outputs": [
    {
     "name": "stdout",
     "output_type": "stream",
     "text": [
      "GALAUSDT tf: 15m in process...\n",
      "GALAUSDT ==> GALAUSDT_15m_2022_03_23 done...\n",
      "GALAUSDT tf: 30m in process...\n",
      "GALAUSDT ==> GALAUSDT_30m_2022_03_23 done...\n",
      "GALAUSDT tf: 1h in process...\n",
      "GALAUSDT ==> GALAUSDT_1h_2022_03_23 done...\n",
      "GALAUSDT tf: 4h in process...\n",
      "GALAUSDT ==> GALAUSDT_4h_2022_03_23 done...\n",
      "GALAUSDT tf: 1d in process...\n",
      "GALAUSDT ==> GALAUSDT_1d_2022_03_23 done...\n",
      "BTCUSDT tf: 15m in process...\n",
      "BTCUSDT ==> BTCUSDT_15m_2022_03_23 done...\n",
      "BTCUSDT tf: 30m in process...\n",
      "BTCUSDT ==> BTCUSDT_30m_2022_03_23 done...\n",
      "BTCUSDT tf: 1h in process...\n",
      "BTCUSDT ==> BTCUSDT_1h_2022_03_23 done...\n",
      "BTCUSDT tf: 4h in process...\n",
      "BTCUSDT ==> BTCUSDT_4h_2022_03_23 done...\n",
      "BTCUSDT tf: 1d in process...\n",
      "BTCUSDT ==> BTCUSDT_1d_2022_03_23 done...\n",
      "ETHUSDT tf: 15m in process...\n",
      "ETHUSDT ==> ETHUSDT_15m_2022_03_23 done...\n",
      "ETHUSDT tf: 30m in process...\n",
      "ETHUSDT ==> ETHUSDT_30m_2022_03_23 done...\n",
      "ETHUSDT tf: 1h in process...\n",
      "ETHUSDT ==> ETHUSDT_1h_2022_03_23 done...\n",
      "ETHUSDT tf: 4h in process...\n",
      "ETHUSDT ==> ETHUSDT_4h_2022_03_23 done...\n",
      "ETHUSDT tf: 1d in process...\n",
      "ETHUSDT ==> ETHUSDT_1d_2022_03_23 done...\n"
     ]
    }
   ],
   "source": [
    "tf_list = [\n",
    "    Client.KLINE_INTERVAL_15MINUTE, \n",
    "    Client.KLINE_INTERVAL_30MINUTE, \n",
    "    Client.KLINE_INTERVAL_1HOUR, \n",
    "    Client.KLINE_INTERVAL_4HOUR, \n",
    "    Client.KLINE_INTERVAL_1DAY\n",
    "]\n",
    "symbol_list =  ['GALAUSDT', 'BTCUSDT', 'ETHUSDT', 'BNBUSDT', 'ADAUSDT', 'SHIBUSDT']\n",
    "# [ 'UNIUSDT', 'CAKEUSDT', 'SOLUSDT', 'LUNAUSDT', 'DOTUSDT']\n",
    "              \n",
    "start = \"1 Jan,2018\"\n",
    "end = \"23 Mar,2022\"\n",
    "\n",
    "for symbol in symbol_list:\n",
    "    t_now = datetime.today().strftime('%Y_%m_%d')\n",
    "    for tf in tf_list:\n",
    "        print(f\"{symbol} tf: {tf} in process...\")\n",
    "        ImportBinance(f\"{symbol}_{tf}_{t_now}\", symbol, start, end, tf)"
   ]
  },
  {
   "cell_type": "markdown",
   "id": "cbcfa203",
   "metadata": {},
   "source": [
    "### === test code below ==="
   ]
  },
  {
   "cell_type": "code",
   "execution_count": 15,
   "id": "2c05c29e",
   "metadata": {},
   "outputs": [
    {
     "name": "stdout",
     "output_type": "stream",
     "text": [
      "{'symbol': 'BTCUSDT', 'price': '47135.38000000'}\n"
     ]
    }
   ],
   "source": [
    "btc_price = client.get_symbol_ticker(symbol=\"BTCUSDT\")\n",
    "# print full output (dictionary)\n",
    "print(btc_price)\n",
    "timestamp = client._get_earliest_valid_timestamp('BTCUSDT', '1h')\n",
    "bars = client.get_klines(symbol='BTCUSDT', interval=Client.KLINE_INTERVAL_30MINUTE)\n",
    "\n",
    "# [0] Open time\n",
    "# [1] Open NAV price\n",
    "# [2] Highest NAV price\n",
    "# [3] Lowest NAV price\n",
    "# [4] Close (or the latest) NAV price\n",
    "with open('btc_bars.csv', 'w') as d:\n",
    "    for line in bars:\n",
    "        d.write(f'{line[0]}, {line[1]}, {line[2]}, {line[3]}, {line[4]}\\n')\n"
   ]
  },
  {
   "cell_type": "code",
   "execution_count": 8,
   "id": "0c0a3a77",
   "metadata": {},
   "outputs": [
    {
     "ename": "NameError",
     "evalue": "name 'df' is not defined",
     "output_type": "error",
     "traceback": [
      "\u001b[1;31m---------------------------------------------------------------------------\u001b[0m",
      "\u001b[1;31mNameError\u001b[0m                                 Traceback (most recent call last)",
      "\u001b[1;32m<ipython-input-8-5967ca642289>\u001b[0m in \u001b[0;36m<module>\u001b[1;34m\u001b[0m\n\u001b[0;32m     11\u001b[0m \u001b[0mdata\u001b[0m\u001b[1;33m.\u001b[0m\u001b[0mto_csv\u001b[0m\u001b[1;33m(\u001b[0m\u001b[0msymbol\u001b[0m\u001b[1;33m+\u001b[0m\u001b[1;34m'.csv'\u001b[0m\u001b[1;33m,\u001b[0m \u001b[0mindex\u001b[0m \u001b[1;33m=\u001b[0m \u001b[1;32mNone\u001b[0m\u001b[1;33m,\u001b[0m \u001b[0mheader\u001b[0m\u001b[1;33m=\u001b[0m\u001b[1;32mTrue\u001b[0m\u001b[1;33m)\u001b[0m\u001b[1;33m\u001b[0m\u001b[1;33m\u001b[0m\u001b[0m\n\u001b[0;32m     12\u001b[0m \u001b[1;31m#convert data to float and plot\u001b[0m\u001b[1;33m\u001b[0m\u001b[1;33m\u001b[0m\u001b[1;33m\u001b[0m\u001b[0m\n\u001b[1;32m---> 13\u001b[1;33m \u001b[0mdf\u001b[0m\u001b[1;33m=\u001b[0m\u001b[0mdf\u001b[0m\u001b[1;33m.\u001b[0m\u001b[0mastype\u001b[0m\u001b[1;33m(\u001b[0m\u001b[0mfloat\u001b[0m\u001b[1;33m)\u001b[0m\u001b[1;33m\u001b[0m\u001b[1;33m\u001b[0m\u001b[0m\n\u001b[0m\u001b[0;32m     14\u001b[0m \u001b[0mdf\u001b[0m\u001b[1;33m[\u001b[0m\u001b[1;34m\"close\"\u001b[0m\u001b[1;33m]\u001b[0m\u001b[1;33m.\u001b[0m\u001b[0mplot\u001b[0m\u001b[1;33m(\u001b[0m\u001b[0mtitle\u001b[0m \u001b[1;33m=\u001b[0m \u001b[1;34m'DOTUSDT'\u001b[0m\u001b[1;33m,\u001b[0m \u001b[0mlegend\u001b[0m \u001b[1;33m=\u001b[0m \u001b[1;34m'close'\u001b[0m\u001b[1;33m)\u001b[0m\u001b[1;33m\u001b[0m\u001b[1;33m\u001b[0m\u001b[0m\n",
      "\u001b[1;31mNameError\u001b[0m: name 'df' is not defined"
     ]
    }
   ],
   "source": [
    "symbol = \"DOTUSDT\"\n",
    "interval='15m'\n",
    "Client.KLINE_INTERVAL_15MINUTE \n",
    "klines = client.get_historical_klines(symbol, interval, \"1 Jan,2018\")\n",
    "data = pd.DataFrame(klines)\n",
    " # create colums name\n",
    "data.columns = ['open_time','open', 'high', 'low', 'close', 'volume','close_time', 'qav','num_trades','taker_base_vol','taker_quote_vol', 'ignore']\n",
    "            \n",
    "# change the timestamp\n",
    "data.index = [datetime.fromtimestamp(x/1000.0) for x in data.close_time]\n",
    "data.to_csv(symbol+'.csv', index = None, header=True)"
   ]
  },
  {
   "cell_type": "code",
   "execution_count": 9,
   "id": "c70da2e1",
   "metadata": {},
   "outputs": [
    {
     "data": {
      "text/plain": [
       "<AxesSubplot:title={'center':'DOTUSDT'}>"
      ]
     },
     "execution_count": 9,
     "metadata": {},
     "output_type": "execute_result"
    },
    {
     "data": {
      "image/png": "[encoded data removed]",
      "text/plain": [
       "<Figure size 432x288 with 1 Axes>"
      ]
     },
     "metadata": {
      "needs_background": "light"
     },
     "output_type": "display_data"
    }
   ],
   "source": [
    "#convert data to float and plot\n",
    "df=data.astype(float)\n",
    "df[\"close\"].plot(title = 'DOTUSDT', legend = 'close')"
   ]
  },
  {
   "cell_type": "code",
   "execution_count": 14,
   "id": "51d1c00c",
   "metadata": {},
   "outputs": [
    {
     "name": "stdout",
     "output_type": "stream",
     "text": [
      "ETHUSDT ==> test_test_test done...\n"
     ]
    }
   ],
   "source": [
    "ImportBinance(f\"test_test_test\", \"ETHUSDT\", \"1 Jan,2020\", \"1 Feb,2020\", Client.KLINE_INTERVAL_1DAY)"
   ]
  },
  {
   "cell_type": "code",
   "execution_count": null,
   "id": "40fd0177",
   "metadata": {},
   "outputs": [],
   "source": []
  }
 ],
 "metadata": {
  "kernelspec": {
   "display_name": "Python 3",
   "language": "python",
   "name": "python3"
  },
  "language_info": {
   "codemirror_mode": {
    "name": "ipython",
    "version": 3
   },
   "file_extension": ".py",
   "mimetype": "text/x-python",
   "name": "python",
   "nbconvert_exporter": "python",
   "pygments_lexer": "ipython3",
   "version": "3.8.8"
  }
 },
 "nbformat": 4,
 "nbformat_minor": 5
}
