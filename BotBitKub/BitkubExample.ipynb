{
 "cells": [
  {
   "cell_type": "code",
   "execution_count": 12,
   "id": "22a98a3e",
   "metadata": {},
   "outputs": [
    {
     "data": {
      "text/plain": [
       "True"
      ]
     },
     "execution_count": 12,
     "metadata": {},
     "output_type": "execute_result"
    }
   ],
   "source": [
    "import hashlib\n",
    "import hmac\n",
    "import json\n",
    "import os, requests\n",
    "\n",
    "from xAPIConnector import BitkubClient\n",
    "from dotenv import load_dotenv\n",
    "load_dotenv()"
   ]
  },
  {
   "cell_type": "code",
   "execution_count": 45,
   "id": "23115788",
   "metadata": {},
   "outputs": [],
   "source": [
    "API_HOST = 'https://api.bitkub.com'\n",
    "API_KEY = os.getenv('BITKUB_API_KEY')\n",
    "API_SECRET = bytes(os.getenv('BITKUB_SECRET'), 'utf-8')\n",
    "# API_KEY, API_SECRET"
   ]
  },
  {
   "cell_type": "code",
   "execution_count": 46,
   "id": "42c166b9",
   "metadata": {},
   "outputs": [],
   "source": [
    "def json_encode(data):\n",
    "    return json.dumps(data, separators=(',', ':'), sort_keys=True)"
   ]
  },
  {
   "cell_type": "code",
   "execution_count": 47,
   "id": "ed98071c",
   "metadata": {},
   "outputs": [],
   "source": [
    "def sign(data):\n",
    "    j = json_encode(data)\n",
    "    print('Signing payload: ' + j)\n",
    "    h = hmac.new(API_SECRET, msg=j.encode(), digestmod=hashlib.sha256)\n",
    "    return h.hexdigest()"
   ]
  },
  {
   "cell_type": "code",
   "execution_count": 55,
   "id": "90969832",
   "metadata": {},
   "outputs": [
    {
     "name": "stdout",
     "output_type": "stream",
     "text": [
      "Server time: 1649410190\n"
     ]
    }
   ],
   "source": [
    "# check server time\n",
    "response = requests.get(API_HOST + '/api/servertime')\n",
    "ts = int(response.text)\n",
    "print('Server time: ' + response.text)"
   ]
  },
  {
   "cell_type": "code",
   "execution_count": 56,
   "id": "9cc29b5e",
   "metadata": {},
   "outputs": [
    {
     "name": "stdout",
     "output_type": "stream",
     "text": [
      "Signing payload: {\"amt\":0.0001,\"rat\":1475998,\"sym\":\"THB_BTC\",\"ts\":1649410190,\"typ\":\"limit\"}\n",
      "Payload with signature: {\"amt\":0.0001,\"rat\":1475998,\"sig\":\"3d6e661886c1040a2f51a1e79d853210eb56543904d7c78c73a4489b06619e2a\",\"sym\":\"THB_BTC\",\"ts\":1649410190,\"typ\":\"limit\"}\n",
      "Response: {\"error\":0,\"result\":{\"id\":0,\"hash\":\"test\",\"typ\":\"limit\",\"amt\":0.0001,\"rat\":1475998,\"fee\":0.37,\"cre\":0,\"rec\":147.22,\"ts\":1649410191}}\n"
     ]
    }
   ],
   "source": [
    "# place ask\n",
    "header = {\n",
    "    'Accept': 'application/json',\n",
    "    'Content-Type': 'application/json',\n",
    "    'X-BTK-APIKEY': API_KEY,\n",
    "}\n",
    "data = {\n",
    "    'sym': 'THB_BTC',\n",
    "    'amt': 0.0001, # BTC amount you want to sell\n",
    "    'rat': 1475998, # price\n",
    "    'typ': 'limit', # limit or market (in case market set rat(price) to 0)\n",
    "    'ts': ts,\n",
    "}\n",
    "signature = sign(data)\n",
    "data['sig'] = signature\n",
    "\n",
    "print('Payload with signature: ' + json_encode(data))\n",
    "response = requests.post(API_HOST + '/api/market/place-ask/test', headers=header, data=json_encode(data))\n",
    "\n",
    "print('Response: ' + response.text)"
   ]
  },
  {
   "cell_type": "code",
   "execution_count": 15,
   "id": "7ad6b4cc",
   "metadata": {},
   "outputs": [
    {
     "data": {
      "text/plain": [
       "{'a': 0, 'b': 1}"
      ]
     },
     "execution_count": 15,
     "metadata": {},
     "output_type": "execute_result"
    }
   ],
   "source": [
    "dict(a=0, b=1)"
   ]
  },
  {
   "cell_type": "code",
   "execution_count": 24,
   "id": "cf29dc39",
   "metadata": {},
   "outputs": [],
   "source": [
    "def getMarketTicker(symbol=None):\n",
    "    url = API_HOST + '/api/market/ticker'\n",
    "    if symbol != None:\n",
    "        response = requests.get(url, params={'sym': symbol})\n",
    "    else:\n",
    "        response = requests.get(url)\n",
    "    return json.loads(response.text)"
   ]
  },
  {
   "cell_type": "code",
   "execution_count": 25,
   "id": "6d6364a8",
   "metadata": {},
   "outputs": [
    {
     "data": {
      "text/plain": [
       "{'THB_BTC': {'id': 1,\n",
       "  'last': 1480919.94,\n",
       "  'lowestAsk': 1480875,\n",
       "  'highestBid': 1480000,\n",
       "  'percentChange': 0.88,\n",
       "  'baseVolume': 212.16731697,\n",
       "  'quoteVolume': 311451603.93,\n",
       "  'isFrozen': 0,\n",
       "  'high24hr': 1483880,\n",
       "  'low24hr': 1454001.01,\n",
       "  'change': 12920.09,\n",
       "  'prevClose': 1480919.94,\n",
       "  'prevOpen': 1467999.85}}"
      ]
     },
     "execution_count": 25,
     "metadata": {},
     "output_type": "execute_result"
    }
   ],
   "source": [
    "res = getMarketTicker('THB_BTC')\n",
    "res"
   ]
  },
  {
   "cell_type": "code",
   "execution_count": 27,
   "id": "0cf6cb8e",
   "metadata": {},
   "outputs": [
    {
     "data": {
      "text/plain": [
       "1480875"
      ]
     },
     "execution_count": 27,
     "metadata": {},
     "output_type": "execute_result"
    }
   ],
   "source": [
    "res['THB_BTC']['lowestAsk']"
   ]
  },
  {
   "cell_type": "code",
   "execution_count": null,
   "id": "966da5c7",
   "metadata": {},
   "outputs": [],
   "source": []
  }
 ],
 "metadata": {
  "kernelspec": {
   "display_name": "Python 3",
   "language": "python",
   "name": "python3"
  },
  "language_info": {
   "codemirror_mode": {
    "name": "ipython",
    "version": 3
   },
   "file_extension": ".py",
   "mimetype": "text/x-python",
   "name": "python",
   "nbconvert_exporter": "python",
   "pygments_lexer": "ipython3",
   "version": "3.8.8"
  }
 },
 "nbformat": 4,
 "nbformat_minor": 5
}
