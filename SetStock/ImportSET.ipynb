{
 "cells": [
  {
   "cell_type": "code",
   "execution_count": 1,
   "id": "b1ea3ca4",
   "metadata": {},
   "outputs": [],
   "source": [
    "from bs4 import BeautifulSoup\n",
    "import requests\n",
    "import csv, time\n",
    "from datetime import datetime\n",
    "\n",
    "import pandas as pd\n",
    "import pandas_ta as ta\n",
    "import numpy as np\n",
    "import mplfinance as mpf"
   ]
  },
  {
   "cell_type": "code",
   "execution_count": 2,
   "id": "7dc4d968",
   "metadata": {},
   "outputs": [],
   "source": [
    "TECH_ETRON = ['CCET', 'DELTA', 'HANA', 'KCE', 'METCO', 'NEX', 'SMT', 'SVI', 'TEAM']\n",
    "TECH_ICT = [\n",
    "    'ADVANC', 'AIT', 'ALT', 'AMR', 'BLISS', 'DIF', 'DTAC', 'FORTH', 'HUMAN', 'ILINK', 'INET', 'INSET', \\\n",
    "    'INTUCH','ITEL', 'JAS', 'JASIF', 'JMART', 'JR', 'JTS', 'MFEC', 'MSC', 'PT', 'SAMART', 'SAMTEL', 'SDC', \\\n",
    "    'SIS', 'SKY', 'SVOA', 'SYMC', 'SYNEX', 'THCOM', 'TKC', 'TRUE', 'TWZ'\n",
    "]"
   ]
  },
  {
   "cell_type": "code",
   "execution_count": 4,
   "id": "84226d40",
   "metadata": {},
   "outputs": [],
   "source": [
    "SERVICE_COMM = [\n",
    "    'B52','BEAUTY','BIG','BJC','COM7','CPALL','CPW','CRC','CSS','DOHOME','FN','FTE','GLOBAL','HMPRO', \\\n",
    "    'ILM','IT','KAMART','LOXLEY','MAKRO','MC','MEGA','MIDA','RS','RSP','SABUY','SCM','SINGER','SPC', \\\n",
    "    'SPI','SVT'\n",
    "]\n",
    "SERVICE_HELTH = [\n",
    "    'AHC', 'BCH', 'BDMS', 'BH', 'CHG', 'CMR', 'EKH', 'KDH', 'LPH', 'M-CHAI', 'NEW', 'NTV', 'PR9', \\\n",
    "    'PRINC', 'RAM', 'RJH', 'RPH', 'SKR', 'SVH', 'THG', 'VIBHA', 'VIH', 'WPH'\n",
    "]\n",
    "SERVICE_MEDIA = [\n",
    "     'AMARIN', 'AQUA', 'AS', 'BEC', 'FE', 'GPI', 'GRAMMY', 'JKN', 'MACO', 'MAJOR', 'MATCH', 'MATI', 'MCOT', \\\n",
    "     'MONO', 'MPIC', 'NMG', 'ONEE',\t 'PLANB', 'POST', 'PRAKIT', 'SE-ED', 'TBSP', 'TH', 'TKS', 'VGI', 'WAVE', \\\n",
    "     'WORK'\n",
    "]\n",
    "SERVICE_PROF = ['BWG', 'GENCO', 'PRO', 'SISB', 'SO']\n",
    "SERVICE_TOURISM = [\n",
    "    'ASIA', 'BEYOND', 'CENTEL', 'CSR', 'DUSIT', 'ERW', 'GRAND', 'LRH', 'MANRIN', \\\n",
    "    'OHTL', 'ROH',\t'SHANG', 'SHR', 'VRANDA'\n",
    "]\n",
    "SERVICE_TRANS = [\n",
    "    'AAV', 'AOT', 'ASIMAR', 'B', 'BA', 'BEM', 'BTS', 'BTSGIF', 'DMT', 'III', 'JUTHA', \\\n",
    "    'JWD', 'KEX', 'KIAT', 'KWC', 'MENA', 'NOK', 'NYT', 'PORT', 'PRM', 'PSL', 'RCL', \\\n",
    "    'TFFIF', 'THAI', 'TSTE', 'TTA', 'WICE'\n",
    "]"
   ]
  },
  {
   "cell_type": "code",
   "execution_count": 5,
   "id": "44400c22",
   "metadata": {},
   "outputs": [],
   "source": [
    "RESOURC_ENERG = [\n",
    "    '7UP', 'ABPIF', 'ACC', 'ACE', 'AGE', 'AI', 'AIE', 'AKR', 'BAFS', 'BANPU', 'BBGI', \\\n",
    "    'BCP', 'BCPG', 'BGRIM', 'BPP', 'BRRGIF', 'CKP', 'CV', 'DEMCO', 'EA', 'EASTW', 'EGATIF', \\\n",
    "    'EGCO', 'EP', 'ESSO', 'ETC', 'GPSC', 'GREEN', 'GULF', 'GUNKUL', 'IFEC', 'IRPC', 'KBSPIF', \\\n",
    "    'LANNA', 'MDX', 'OR', 'PRIME', 'PTG', 'PTT', 'PTTEP', 'QTC', 'RATCH', 'RPC', 'SCG', 'SCI', \\\n",
    "    'SCN', 'SGP', 'SKE', 'SOLAR', 'SPCG', 'SPRC', 'SSP', 'SUPER', 'SUPEREIF', 'SUSCO', 'TAE', \\\n",
    "    'TCC', 'TOP', 'TPIPP', 'TSE', 'TTW', 'UBE', 'WHAUP', 'WP'\n",
    "]\n",
    "RESOURC_MINE = ['THL']"
   ]
  },
  {
   "cell_type": "code",
   "execution_count": 34,
   "id": "1e4ed7e5",
   "metadata": {},
   "outputs": [],
   "source": [
    "def getResponseSoup(url):\n",
    "    res = requests.get(url)\n",
    "    res.encoding = \"utf-8\"\n",
    "    if res.status_code == 200:\n",
    "        pass\n",
    "#         print(\"Successful\")\n",
    "    elif res.status_code == 404:\n",
    "        print(\"Error 404 page not found\")\n",
    "    else:\n",
    "        print(\"Not both 200 and 404\")\n",
    "        \n",
    "    soup = BeautifulSoup(res.text, 'html.parser')\n",
    "    return soup"
   ]
  },
  {
   "cell_type": "code",
   "execution_count": 39,
   "id": "f14402eb",
   "metadata": {},
   "outputs": [],
   "source": [
    "stock = 'HUMAN'\n",
    "url = f'https://www.set.or.th/set/companyhighlight.do?symbol={stock}&language=th&country=US'\n",
    "\n",
    "test_soup = getResponseSoup(url)"
   ]
  },
  {
   "cell_type": "code",
   "execution_count": 40,
   "id": "7db7a6f6",
   "metadata": {},
   "outputs": [
    {
     "ename": "AttributeError",
     "evalue": "module 'selenium.webdriver' has no attribute 'PhantomJS'",
     "output_type": "error",
     "traceback": [
      "\u001b[1;31m---------------------------------------------------------------------------\u001b[0m",
      "\u001b[1;31mAttributeError\u001b[0m                            Traceback (most recent call last)",
      "\u001b[1;32m<ipython-input-40-5bba102a56c1>\u001b[0m in \u001b[0;36m<module>\u001b[1;34m\u001b[0m\n\u001b[0;32m      2\u001b[0m \u001b[1;32mfrom\u001b[0m \u001b[0mselenium\u001b[0m \u001b[1;32mimport\u001b[0m \u001b[0mwebdriver\u001b[0m\u001b[1;33m\u001b[0m\u001b[1;33m\u001b[0m\u001b[0m\n\u001b[0;32m      3\u001b[0m \u001b[1;33m\u001b[0m\u001b[0m\n\u001b[1;32m----> 4\u001b[1;33m \u001b[0mbrowser\u001b[0m \u001b[1;33m=\u001b[0m \u001b[0mwebdriver\u001b[0m\u001b[1;33m.\u001b[0m\u001b[0mPhantomJS\u001b[0m\u001b[1;33m(\u001b[0m\u001b[1;33m)\u001b[0m\u001b[1;33m\u001b[0m\u001b[1;33m\u001b[0m\u001b[0m\n\u001b[0m\u001b[0;32m      5\u001b[0m \u001b[0mbrowser\u001b[0m\u001b[1;33m.\u001b[0m\u001b[0mget\u001b[0m\u001b[1;33m(\u001b[0m\u001b[0murl\u001b[0m\u001b[1;33m)\u001b[0m\u001b[1;33m\u001b[0m\u001b[1;33m\u001b[0m\u001b[0m\n\u001b[0;32m      6\u001b[0m \u001b[0mhtml\u001b[0m \u001b[1;33m=\u001b[0m \u001b[0mbrowser\u001b[0m\u001b[1;33m.\u001b[0m\u001b[0mpage_source\u001b[0m\u001b[1;33m\u001b[0m\u001b[1;33m\u001b[0m\u001b[0m\n",
      "\u001b[1;31mAttributeError\u001b[0m: module 'selenium.webdriver' has no attribute 'PhantomJS'"
     ]
    }
   ],
   "source": [
    "from bs4 import BeautifulSoup\n",
    "from selenium import webdriver\n",
    "\n",
    "browser = webdriver.PhantomJS()\n",
    "browser.get(url)\n",
    "html = browser.page_source\n",
    "soup = BeautifulSoup(html, 'lxml')\n",
    "a = soup.find('section', 'wrapper')"
   ]
  },
  {
   "cell_type": "code",
   "execution_count": 36,
   "id": "fb631ad4",
   "metadata": {},
   "outputs": [
    {
     "data": {
      "text/plain": [
       "<table class=\"table table-hover table-info\">\n",
       "<caption>\n",
       "<span style=\"float: right;\">(หน่วย: ล้านบาท)</span>\n",
       "</caption>\n",
       "<thead>\n",
       "<tr align=\"center\" valign=\"middle\">\n",
       "<th height=\"30\"><strong>งวดงบการเงิน<br/> ณ วันที่</strong></th>\n",
       "<th><strong>งบปี 61<br/>31/12/2561</strong></th>\n",
       "<th><strong>งบปี 62<br/>31/12/2562</strong></th>\n",
       "<th><strong>งบปี 63<br/>31/12/2563</strong></th>\n",
       "<th><strong>งบปี 64<br/>31/12/2564</strong></th>\n",
       "<th><strong> </strong></th>\n",
       "</tr>\n",
       "</thead>\n",
       "<tbody>\n",
       "<tr>\n",
       "<td colspan=\"5\" height=\"15\" style=\"text-align:left;\"><strong>บัญชีทางการเงินที่สำคัญ</strong></td>\n",
       "<td style=\"background-color: #EAF0FE;\"> </td>\n",
       "</tr>\n",
       "<tr>\n",
       "<td height=\"15\" style=\"text-align:left;\" valign=\"middle\">สินทรัพย์รวม</td>\n",
       "<td>1,225.98  </td>\n",
       "<td>1,372.78  </td>\n",
       "<td>1,591.65  </td>\n",
       "<td>1,770.01  </td>\n",
       "<td style=\"background-color: #EAF0FE;\">  </td>\n",
       "</tr>\n",
       "<tr>\n",
       "<td height=\"15\" style=\"text-align:left;\">หนี้สินรวม</td>\n",
       "<td>106.34  </td>\n",
       "<td>175.59  </td>\n",
       "<td>324.80  </td>\n",
       "<td>332.39  </td>\n",
       "<td style=\"background-color: #EAF0FE;\">  </td>\n",
       "</tr>\n",
       "<tr>\n",
       "<td height=\"15\" style=\"text-align:left;\">ส่วนของผู้ถือหุ้น</td>\n",
       "<td>1,119.64  </td>\n",
       "<td>1,197.19  </td>\n",
       "<td>1,265.62  </td>\n",
       "<td>1,432.02  </td>\n",
       "<td style=\"background-color: #EAF0FE;\">  </td>\n",
       "</tr>\n",
       "<tr>\n",
       "<td height=\"15\" style=\"text-align:left;\">มูลค่าหุ้นที่เรียกชำระแล้ว</td>\n",
       "<td>340.00  </td>\n",
       "<td>340.00  </td>\n",
       "<td>340.00  </td>\n",
       "<td>340.00  </td>\n",
       "<td style=\"background-color: #EAF0FE;\">  </td>\n",
       "</tr>\n",
       "<tr>\n",
       "<td height=\"15\" style=\"text-align:left;\">รายได้รวม</td>\n",
       "<td>523.23  </td>\n",
       "<td>613.86  </td>\n",
       "<td>740.35  </td>\n",
       "<td>770.49  </td>\n",
       "<td style=\"background-color: #EAF0FE;\">  </td>\n",
       "</tr>\n",
       "<tr>\n",
       "<td height=\"15\" style=\"text-align:left;\">กำไร (ขาดทุน) จากกิจกรรมอื่น</td>\n",
       "<td>-  </td>\n",
       "<td>1.93  </td>\n",
       "<td>0.93  </td>\n",
       "<td>0.01  </td>\n",
       "<td style=\"background-color: #EAF0FE;\">  </td>\n",
       "</tr>\n",
       "<tr>\n",
       "<td height=\"15\" style=\"text-align:left;\">กำไรสุทธิ</td>\n",
       "<td>121.91  </td>\n",
       "<td>146.98  </td>\n",
       "<td>165.75  </td>\n",
       "<td>169.82  </td>\n",
       "<td style=\"background-color: #EAF0FE;\">  </td>\n",
       "</tr>\n",
       "<tr>\n",
       "<td height=\"15\" style=\"text-align:left;\">กำไรต่อหุ้น (บาท)</td>\n",
       "<td>0.18  </td>\n",
       "<td>0.22  </td>\n",
       "<td>0.24  </td>\n",
       "<td>0.25  </td>\n",
       "<td style=\"background-color: #EAF0FE;\">  </td>\n",
       "</tr>\n",
       "<tr>\n",
       "<td colspan=\"5\" height=\"15\" style=\"text-align:left;\"><strong>อัตราส่วนทางการเงินที่สำคัญ</strong></td>\n",
       "<td style=\"background-color: #EAF0FE;\"> </td>\n",
       "</tr>\n",
       "<tr>\n",
       "<td height=\"15\" style=\"text-align:left;\">ROA(%)</td>\n",
       "<td>11.78  </td>\n",
       "<td>12.52  </td>\n",
       "<td>13.23  </td>\n",
       "<td>11.62  </td>\n",
       "<td style=\"background-color: #EAF0FE;\">  </td>\n",
       "</tr>\n",
       "<tr>\n",
       "<td height=\"15\" style=\"text-align:left;\">ROE(%)</td>\n",
       "<td>11.27  </td>\n",
       "<td>12.69  </td>\n",
       "<td>13.46  </td>\n",
       "<td>12.59  </td>\n",
       "<td style=\"background-color: #EAF0FE;\">  </td>\n",
       "</tr>\n",
       "<tr>\n",
       "<td height=\"15\" style=\"text-align:left;\">อัตรากำไรสุทธิ(%)</td>\n",
       "<td>23.30  </td>\n",
       "<td>23.94  </td>\n",
       "<td>22.27  </td>\n",
       "<td>21.46  </td>\n",
       "<td style=\"background-color: #EAF0FE;\">  </td>\n",
       "</tr>\n",
       "<thead>\n",
       "<tr align=\"center\" valign=\"middle\">\n",
       "<th height=\"30\"><strong>ค่าสถิติสำคัญ<br/> ณ วันที่</strong></th>\n",
       "<th><strong>28/12/2561</strong></th></tr></thead></tbody></table>"
      ]
     },
     "execution_count": 36,
     "metadata": {},
     "output_type": "execute_result"
    }
   ],
   "source": [
    "table = test_soup.find('table', {'class': 'table table-hover table-info'})\n",
    "table"
   ]
  },
  {
   "cell_type": "code",
   "execution_count": 13,
   "id": "418f9c8e",
   "metadata": {},
   "outputs": [
    {
     "data": {
      "text/plain": [
       "[<tr align=\"center\" valign=\"middle\">\n",
       " <th height=\"30\"><strong>งวดงบการเงิน<br/> ณ วันที่</strong></th>\n",
       " <th><strong>งบปี 61<br/>31/12/2561</strong></th>\n",
       " <th><strong>งบปี 62<br/>31/12/2562</strong></th>\n",
       " <th><strong>งบปี 63<br/>31/12/2563</strong></th>\n",
       " <th><strong>งบปี 64<br/>31/12/2564</strong></th>\n",
       " <th><strong> </strong></th>\n",
       " </tr>,\n",
       " <tr>\n",
       " <td colspan=\"5\" height=\"15\" style=\"text-align:left;\"><strong>บัญชีทางการเงินที่สำคัญ</strong></td>\n",
       " <td style=\"background-color: #EAF0FE;\"> </td>\n",
       " </tr>,\n",
       " <tr>\n",
       " <td height=\"15\" style=\"text-align:left;\" valign=\"middle\">สินทรัพย์รวม</td>\n",
       " <td>1,225.98  </td>\n",
       " <td>1,372.78  </td>\n",
       " <td>1,591.65  </td>\n",
       " <td>1,770.01  </td>\n",
       " <td style=\"background-color: #EAF0FE;\">  </td>\n",
       " </tr>,\n",
       " <tr>\n",
       " <td height=\"15\" style=\"text-align:left;\">หนี้สินรวม</td>\n",
       " <td>106.34  </td>\n",
       " <td>175.59  </td>\n",
       " <td>324.80  </td>\n",
       " <td>332.39  </td>\n",
       " <td style=\"background-color: #EAF0FE;\">  </td>\n",
       " </tr>,\n",
       " <tr>\n",
       " <td height=\"15\" style=\"text-align:left;\">ส่วนของผู้ถือหุ้น</td>\n",
       " <td>1,119.64  </td>\n",
       " <td>1,197.19  </td>\n",
       " <td>1,265.62  </td>\n",
       " <td>1,432.02  </td>\n",
       " <td style=\"background-color: #EAF0FE;\">  </td>\n",
       " </tr>,\n",
       " <tr>\n",
       " <td height=\"15\" style=\"text-align:left;\">มูลค่าหุ้นที่เรียกชำระแล้ว</td>\n",
       " <td>340.00  </td>\n",
       " <td>340.00  </td>\n",
       " <td>340.00  </td>\n",
       " <td>340.00  </td>\n",
       " <td style=\"background-color: #EAF0FE;\">  </td>\n",
       " </tr>,\n",
       " <tr>\n",
       " <td height=\"15\" style=\"text-align:left;\">รายได้รวม</td>\n",
       " <td>523.23  </td>\n",
       " <td>613.86  </td>\n",
       " <td>740.35  </td>\n",
       " <td>770.49  </td>\n",
       " <td style=\"background-color: #EAF0FE;\">  </td>\n",
       " </tr>,\n",
       " <tr>\n",
       " <td height=\"15\" style=\"text-align:left;\">กำไร (ขาดทุน) จากกิจกรรมอื่น</td>\n",
       " <td>-  </td>\n",
       " <td>1.93  </td>\n",
       " <td>0.93  </td>\n",
       " <td>0.01  </td>\n",
       " <td style=\"background-color: #EAF0FE;\">  </td>\n",
       " </tr>,\n",
       " <tr>\n",
       " <td height=\"15\" style=\"text-align:left;\">กำไรสุทธิ</td>\n",
       " <td>121.91  </td>\n",
       " <td>146.98  </td>\n",
       " <td>165.75  </td>\n",
       " <td>169.82  </td>\n",
       " <td style=\"background-color: #EAF0FE;\">  </td>\n",
       " </tr>,\n",
       " <tr>\n",
       " <td height=\"15\" style=\"text-align:left;\">กำไรต่อหุ้น (บาท)</td>\n",
       " <td>0.18  </td>\n",
       " <td>0.22  </td>\n",
       " <td>0.24  </td>\n",
       " <td>0.25  </td>\n",
       " <td style=\"background-color: #EAF0FE;\">  </td>\n",
       " </tr>,\n",
       " <tr>\n",
       " <td colspan=\"5\" height=\"15\" style=\"text-align:left;\"><strong>อัตราส่วนทางการเงินที่สำคัญ</strong></td>\n",
       " <td style=\"background-color: #EAF0FE;\"> </td>\n",
       " </tr>,\n",
       " <tr>\n",
       " <td height=\"15\" style=\"text-align:left;\">ROA(%)</td>\n",
       " <td>11.78  </td>\n",
       " <td>12.52  </td>\n",
       " <td>13.23  </td>\n",
       " <td>11.62  </td>\n",
       " <td style=\"background-color: #EAF0FE;\">  </td>\n",
       " </tr>,\n",
       " <tr>\n",
       " <td height=\"15\" style=\"text-align:left;\">ROE(%)</td>\n",
       " <td>11.27  </td>\n",
       " <td>12.69  </td>\n",
       " <td>13.46  </td>\n",
       " <td>12.59  </td>\n",
       " <td style=\"background-color: #EAF0FE;\">  </td>\n",
       " </tr>,\n",
       " <tr>\n",
       " <td height=\"15\" style=\"text-align:left;\">อัตรากำไรสุทธิ(%)</td>\n",
       " <td>23.30  </td>\n",
       " <td>23.94  </td>\n",
       " <td>22.27  </td>\n",
       " <td>21.46  </td>\n",
       " <td style=\"background-color: #EAF0FE;\">  </td>\n",
       " </tr>,\n",
       " <tr align=\"center\" valign=\"middle\">\n",
       " <th height=\"30\"><strong>ค่าสถิติสำคัญ<br/> ณ วันที่</strong></th>\n",
       " <th><strong>28/12/2561</strong></th></tr>]"
      ]
     },
     "execution_count": 13,
     "metadata": {},
     "output_type": "execute_result"
    }
   ],
   "source": [
    "table_rows = table.find_all('tr')\n",
    "table_rows"
   ]
  },
  {
   "cell_type": "code",
   "execution_count": 15,
   "id": "41c71e43",
   "metadata": {},
   "outputs": [
    {
     "data": {
      "text/plain": [
       "<tr>\n",
       "<td height=\"15\" style=\"text-align:left;\" valign=\"middle\">สินทรัพย์รวม</td>\n",
       "<td>1,225.98  </td>\n",
       "<td>1,372.78  </td>\n",
       "<td>1,591.65  </td>\n",
       "<td>1,770.01  </td>\n",
       "<td style=\"background-color: #EAF0FE;\">  </td>\n",
       "</tr>"
      ]
     },
     "execution_count": 15,
     "metadata": {},
     "output_type": "execute_result"
    }
   ],
   "source": [
    "table_rows[2]"
   ]
  },
  {
   "cell_type": "code",
   "execution_count": 16,
   "id": "c034e1fd",
   "metadata": {},
   "outputs": [
    {
     "data": {
      "text/plain": [
       "<tr>\n",
       "<td height=\"15\" style=\"text-align:left;\">หนี้สินรวม</td>\n",
       "<td>106.34  </td>\n",
       "<td>175.59  </td>\n",
       "<td>324.80  </td>\n",
       "<td>332.39  </td>\n",
       "<td style=\"background-color: #EAF0FE;\">  </td>\n",
       "</tr>"
      ]
     },
     "execution_count": 16,
     "metadata": {},
     "output_type": "execute_result"
    }
   ],
   "source": [
    "table_rows[3]"
   ]
  },
  {
   "cell_type": "code",
   "execution_count": 17,
   "id": "7d60dd0e",
   "metadata": {},
   "outputs": [
    {
     "data": {
      "text/plain": [
       "<tr>\n",
       "<td height=\"15\" style=\"text-align:left;\">ส่วนของผู้ถือหุ้น</td>\n",
       "<td>1,119.64  </td>\n",
       "<td>1,197.19  </td>\n",
       "<td>1,265.62  </td>\n",
       "<td>1,432.02  </td>\n",
       "<td style=\"background-color: #EAF0FE;\">  </td>\n",
       "</tr>"
      ]
     },
     "execution_count": 17,
     "metadata": {},
     "output_type": "execute_result"
    }
   ],
   "source": [
    "table_rows[4]"
   ]
  },
  {
   "cell_type": "code",
   "execution_count": 18,
   "id": "ddf9331b",
   "metadata": {},
   "outputs": [
    {
     "data": {
      "text/plain": [
       "<tr>\n",
       "<td height=\"15\" style=\"text-align:left;\">รายได้รวม</td>\n",
       "<td>523.23  </td>\n",
       "<td>613.86  </td>\n",
       "<td>740.35  </td>\n",
       "<td>770.49  </td>\n",
       "<td style=\"background-color: #EAF0FE;\">  </td>\n",
       "</tr>"
      ]
     },
     "execution_count": 18,
     "metadata": {},
     "output_type": "execute_result"
    }
   ],
   "source": [
    "table_rows[6]"
   ]
  },
  {
   "cell_type": "code",
   "execution_count": 19,
   "id": "d6a9bd2c",
   "metadata": {},
   "outputs": [
    {
     "data": {
      "text/plain": [
       "<tr>\n",
       "<td height=\"15\" style=\"text-align:left;\">ROE(%)</td>\n",
       "<td>11.27  </td>\n",
       "<td>12.69  </td>\n",
       "<td>13.46  </td>\n",
       "<td>12.59  </td>\n",
       "<td style=\"background-color: #EAF0FE;\">  </td>\n",
       "</tr>"
      ]
     },
     "execution_count": 19,
     "metadata": {},
     "output_type": "execute_result"
    }
   ],
   "source": [
    "table_rows[12]"
   ]
  },
  {
   "cell_type": "code",
   "execution_count": 20,
   "id": "09cb60f6",
   "metadata": {},
   "outputs": [
    {
     "data": {
      "text/plain": [
       "<tr>\n",
       "<td height=\"15\" style=\"text-align:left;\">อัตรากำไรสุทธิ(%)</td>\n",
       "<td>23.30  </td>\n",
       "<td>23.94  </td>\n",
       "<td>22.27  </td>\n",
       "<td>21.46  </td>\n",
       "<td style=\"background-color: #EAF0FE;\">  </td>\n",
       "</tr>"
      ]
     },
     "execution_count": 20,
     "metadata": {},
     "output_type": "execute_result"
    }
   ],
   "source": [
    "table_rows[13]"
   ]
  },
  {
   "cell_type": "code",
   "execution_count": 27,
   "id": "2d134fa6",
   "metadata": {},
   "outputs": [
    {
     "data": {
      "text/plain": [
       "<tr>\n",
       "<td colspan=\"5\" height=\"15\" style=\"text-align:left;\"><strong>บัญชีทางการเงินที่สำคัญ</strong></td>\n",
       "<td style=\"background-color: #EAF0FE;\"> </td>\n",
       "</tr>"
      ]
     },
     "execution_count": 27,
     "metadata": {},
     "output_type": "execute_result"
    }
   ],
   "source": [
    "theads = table.find_all('tr')\n",
    "theads[1]"
   ]
  },
  {
   "cell_type": "code",
   "execution_count": null,
   "id": "2fbbf51a",
   "metadata": {},
   "outputs": [],
   "source": []
  }
 ],
 "metadata": {
  "kernelspec": {
   "display_name": "Python 3",
   "language": "python",
   "name": "python3"
  },
  "language_info": {
   "codemirror_mode": {
    "name": "ipython",
    "version": 3
   },
   "file_extension": ".py",
   "mimetype": "text/x-python",
   "name": "python",
   "nbconvert_exporter": "python",
   "pygments_lexer": "ipython3",
   "version": "3.8.8"
  }
 },
 "nbformat": 4,
 "nbformat_minor": 5
}
