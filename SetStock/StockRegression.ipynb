{
 "cells": [
  {
   "cell_type": "code",
   "execution_count": 1,
   "id": "01c5f993",
   "metadata": {},
   "outputs": [],
   "source": [
    "import numpy as np\n",
    "import pandas as pd\n",
    "import matplotlib.pyplot as plt\n",
    "%matplotlib inline"
   ]
  },
  {
   "cell_type": "markdown",
   "id": "8628989c",
   "metadata": {},
   "source": [
    "### Write Function"
   ]
  },
  {
   "cell_type": "code",
   "execution_count": 4,
   "id": "ff8360f7",
   "metadata": {},
   "outputs": [],
   "source": [
    "def FindR(X, Y):\n",
    "    fraction = ((X - X.mean())*(Y - Y.mean())).sum()\n",
    "    denorminator = np.sqrt(((X - X.mean())**2).sum()*((Y - Y.mean())**2).sum())\n",
    "    r = fraction/denorminator\n",
    "    return r"
   ]
  },
  {
   "cell_type": "code",
   "execution_count": 5,
   "id": "a3ec9e32",
   "metadata": {},
   "outputs": [],
   "source": [
    "def FindAB(X, Y, X2, XY):\n",
    "    denorminator = X2.mean() - (X.mean())**2\n",
    "    a = (XY.mean() - X.mean()*Y.mean())/denorminator\n",
    "    b = (X2.mean()*Y.mean() - X.mean()*XY.mean())/denorminator\n",
    "    return a, b"
   ]
  },
  {
   "cell_type": "code",
   "execution_count": 6,
   "id": "31e0d042",
   "metadata": {},
   "outputs": [],
   "source": [
    "def FindYhat(a, X, b):\n",
    "    Yhat = a*X + b\n",
    "    return Yhat"
   ]
  },
  {
   "cell_type": "code",
   "execution_count": 7,
   "id": "41a80440",
   "metadata": {},
   "outputs": [],
   "source": [
    "def FindError(Y, Yhat):\n",
    "    Error = ((Y - Yhat)**2).sum()\n",
    "    return Error"
   ]
  },
  {
   "cell_type": "markdown",
   "id": "e6cb62c7",
   "metadata": {},
   "source": [
    "### Import Data"
   ]
  },
  {
   "cell_type": "code",
   "execution_count": 39,
   "id": "9567a28c",
   "metadata": {},
   "outputs": [
    {
     "data": {
      "text/html": [
       "<div>\n",
       "<style scoped>\n",
       "    .dataframe tbody tr th:only-of-type {\n",
       "        vertical-align: middle;\n",
       "    }\n",
       "\n",
       "    .dataframe tbody tr th {\n",
       "        vertical-align: top;\n",
       "    }\n",
       "\n",
       "    .dataframe thead th {\n",
       "        text-align: right;\n",
       "    }\n",
       "</style>\n",
       "<table border=\"1\" class=\"dataframe\">\n",
       "  <thead>\n",
       "    <tr style=\"text-align: right;\">\n",
       "      <th></th>\n",
       "      <th>timestamp</th>\n",
       "      <th>open</th>\n",
       "      <th>high</th>\n",
       "      <th>low</th>\n",
       "      <th>close</th>\n",
       "      <th>volume</th>\n",
       "      <th>close_time</th>\n",
       "      <th>qav</th>\n",
       "      <th>num_trades</th>\n",
       "      <th>taker_base_vol</th>\n",
       "      <th>taker_quote_vol</th>\n",
       "      <th>ignore</th>\n",
       "    </tr>\n",
       "  </thead>\n",
       "  <tbody>\n",
       "    <tr>\n",
       "      <th>70</th>\n",
       "      <td>1520812800000</td>\n",
       "      <td>9533.57</td>\n",
       "      <td>9888.88</td>\n",
       "      <td>8780.00</td>\n",
       "      <td>9131.34</td>\n",
       "      <td>42230.777930</td>\n",
       "      <td>1520899199999</td>\n",
       "      <td>3.955627e+08</td>\n",
       "      <td>336642</td>\n",
       "      <td>19369.697756</td>\n",
       "      <td>1.814546e+08</td>\n",
       "      <td>0</td>\n",
       "    </tr>\n",
       "    <tr>\n",
       "      <th>71</th>\n",
       "      <td>1520899200000</td>\n",
       "      <td>9131.34</td>\n",
       "      <td>9474.00</td>\n",
       "      <td>8823.00</td>\n",
       "      <td>9150.00</td>\n",
       "      <td>40191.409358</td>\n",
       "      <td>1520985599999</td>\n",
       "      <td>3.673540e+08</td>\n",
       "      <td>342734</td>\n",
       "      <td>19856.457047</td>\n",
       "      <td>1.815344e+08</td>\n",
       "      <td>0</td>\n",
       "    </tr>\n",
       "    <tr>\n",
       "      <th>72</th>\n",
       "      <td>1520985600000</td>\n",
       "      <td>9151.92</td>\n",
       "      <td>9333.78</td>\n",
       "      <td>7900.28</td>\n",
       "      <td>8170.00</td>\n",
       "      <td>49708.094108</td>\n",
       "      <td>1521071999999</td>\n",
       "      <td>4.260580e+08</td>\n",
       "      <td>399127</td>\n",
       "      <td>22883.329725</td>\n",
       "      <td>1.963442e+08</td>\n",
       "      <td>0</td>\n",
       "    </tr>\n",
       "    <tr>\n",
       "      <th>73</th>\n",
       "      <td>1521072000000</td>\n",
       "      <td>8184.01</td>\n",
       "      <td>8430.00</td>\n",
       "      <td>7650.00</td>\n",
       "      <td>8240.98</td>\n",
       "      <td>52291.022277</td>\n",
       "      <td>1521158399999</td>\n",
       "      <td>4.221307e+08</td>\n",
       "      <td>400529</td>\n",
       "      <td>26414.160251</td>\n",
       "      <td>2.133582e+08</td>\n",
       "      <td>0</td>\n",
       "    </tr>\n",
       "    <tr>\n",
       "      <th>74</th>\n",
       "      <td>1521158400000</td>\n",
       "      <td>8240.98</td>\n",
       "      <td>8611.64</td>\n",
       "      <td>7900.00</td>\n",
       "      <td>8260.00</td>\n",
       "      <td>38815.409893</td>\n",
       "      <td>1521244799999</td>\n",
       "      <td>3.223550e+08</td>\n",
       "      <td>255807</td>\n",
       "      <td>20049.433993</td>\n",
       "      <td>1.665635e+08</td>\n",
       "      <td>0</td>\n",
       "    </tr>\n",
       "    <tr>\n",
       "      <th>...</th>\n",
       "      <td>...</td>\n",
       "      <td>...</td>\n",
       "      <td>...</td>\n",
       "      <td>...</td>\n",
       "      <td>...</td>\n",
       "      <td>...</td>\n",
       "      <td>...</td>\n",
       "      <td>...</td>\n",
       "      <td>...</td>\n",
       "      <td>...</td>\n",
       "      <td>...</td>\n",
       "      <td>...</td>\n",
       "    </tr>\n",
       "    <tr>\n",
       "      <th>1538</th>\n",
       "      <td>1647648000000</td>\n",
       "      <td>41757.51</td>\n",
       "      <td>42400.00</td>\n",
       "      <td>41499.29</td>\n",
       "      <td>42201.13</td>\n",
       "      <td>29067.181080</td>\n",
       "      <td>1647734399999</td>\n",
       "      <td>1.216709e+09</td>\n",
       "      <td>801197</td>\n",
       "      <td>14463.061480</td>\n",
       "      <td>6.054807e+08</td>\n",
       "      <td>0</td>\n",
       "    </tr>\n",
       "    <tr>\n",
       "      <th>1539</th>\n",
       "      <td>1647734400000</td>\n",
       "      <td>42201.13</td>\n",
       "      <td>42296.26</td>\n",
       "      <td>40911.00</td>\n",
       "      <td>41262.11</td>\n",
       "      <td>30653.334680</td>\n",
       "      <td>1647820799999</td>\n",
       "      <td>1.273881e+09</td>\n",
       "      <td>799695</td>\n",
       "      <td>14636.726620</td>\n",
       "      <td>6.083282e+08</td>\n",
       "      <td>0</td>\n",
       "    </tr>\n",
       "    <tr>\n",
       "      <th>1540</th>\n",
       "      <td>1647820800000</td>\n",
       "      <td>41262.11</td>\n",
       "      <td>41544.22</td>\n",
       "      <td>40467.94</td>\n",
       "      <td>41002.25</td>\n",
       "      <td>39426.248770</td>\n",
       "      <td>1647907199999</td>\n",
       "      <td>1.618790e+09</td>\n",
       "      <td>947206</td>\n",
       "      <td>19079.426520</td>\n",
       "      <td>7.833662e+08</td>\n",
       "      <td>0</td>\n",
       "    </tr>\n",
       "    <tr>\n",
       "      <th>1541</th>\n",
       "      <td>1647907200000</td>\n",
       "      <td>41002.26</td>\n",
       "      <td>43361.00</td>\n",
       "      <td>40875.51</td>\n",
       "      <td>42364.13</td>\n",
       "      <td>59454.942940</td>\n",
       "      <td>1647993599999</td>\n",
       "      <td>2.525976e+09</td>\n",
       "      <td>1367343</td>\n",
       "      <td>30215.547850</td>\n",
       "      <td>1.283335e+09</td>\n",
       "      <td>0</td>\n",
       "    </tr>\n",
       "    <tr>\n",
       "      <th>1542</th>\n",
       "      <td>1647993600000</td>\n",
       "      <td>42364.13</td>\n",
       "      <td>42529.99</td>\n",
       "      <td>41751.47</td>\n",
       "      <td>42126.50</td>\n",
       "      <td>14628.762400</td>\n",
       "      <td>1648079999999</td>\n",
       "      <td>6.165218e+08</td>\n",
       "      <td>334004</td>\n",
       "      <td>6866.076490</td>\n",
       "      <td>2.893692e+08</td>\n",
       "      <td>0</td>\n",
       "    </tr>\n",
       "  </tbody>\n",
       "</table>\n",
       "<p>1473 rows × 12 columns</p>\n",
       "</div>"
      ],
      "text/plain": [
       "          timestamp      open      high       low     close        volume  \\\n",
       "70    1520812800000   9533.57   9888.88   8780.00   9131.34  42230.777930   \n",
       "71    1520899200000   9131.34   9474.00   8823.00   9150.00  40191.409358   \n",
       "72    1520985600000   9151.92   9333.78   7900.28   8170.00  49708.094108   \n",
       "73    1521072000000   8184.01   8430.00   7650.00   8240.98  52291.022277   \n",
       "74    1521158400000   8240.98   8611.64   7900.00   8260.00  38815.409893   \n",
       "...             ...       ...       ...       ...       ...           ...   \n",
       "1538  1647648000000  41757.51  42400.00  41499.29  42201.13  29067.181080   \n",
       "1539  1647734400000  42201.13  42296.26  40911.00  41262.11  30653.334680   \n",
       "1540  1647820800000  41262.11  41544.22  40467.94  41002.25  39426.248770   \n",
       "1541  1647907200000  41002.26  43361.00  40875.51  42364.13  59454.942940   \n",
       "1542  1647993600000  42364.13  42529.99  41751.47  42126.50  14628.762400   \n",
       "\n",
       "         close_time           qav  num_trades  taker_base_vol  \\\n",
       "70    1520899199999  3.955627e+08      336642    19369.697756   \n",
       "71    1520985599999  3.673540e+08      342734    19856.457047   \n",
       "72    1521071999999  4.260580e+08      399127    22883.329725   \n",
       "73    1521158399999  4.221307e+08      400529    26414.160251   \n",
       "74    1521244799999  3.223550e+08      255807    20049.433993   \n",
       "...             ...           ...         ...             ...   \n",
       "1538  1647734399999  1.216709e+09      801197    14463.061480   \n",
       "1539  1647820799999  1.273881e+09      799695    14636.726620   \n",
       "1540  1647907199999  1.618790e+09      947206    19079.426520   \n",
       "1541  1647993599999  2.525976e+09     1367343    30215.547850   \n",
       "1542  1648079999999  6.165218e+08      334004     6866.076490   \n",
       "\n",
       "      taker_quote_vol  ignore  \n",
       "70       1.814546e+08       0  \n",
       "71       1.815344e+08       0  \n",
       "72       1.963442e+08       0  \n",
       "73       2.133582e+08       0  \n",
       "74       1.665635e+08       0  \n",
       "...               ...     ...  \n",
       "1538     6.054807e+08       0  \n",
       "1539     6.083282e+08       0  \n",
       "1540     7.833662e+08       0  \n",
       "1541     1.283335e+09       0  \n",
       "1542     2.893692e+08       0  \n",
       "\n",
       "[1473 rows x 12 columns]"
      ]
     },
     "execution_count": 39,
     "metadata": {},
     "output_type": "execute_result"
    }
   ],
   "source": [
    "Data1 = pd.read_csv('BTCUSDT_1d_2022_03_23.csv')\n",
    "Data1[70:]"
   ]
  },
  {
   "cell_type": "code",
   "execution_count": 40,
   "id": "34744fc4",
   "metadata": {},
   "outputs": [
    {
     "data": {
      "text/plain": [
       "array([[1.51476480e+12, 1.37156500e+04, 1.38185500e+04, ...,\n",
       "        3.96193895e+03, 5.28097474e+07, 0.00000000e+00],\n",
       "       [1.51485120e+12, 1.33821600e+04, 1.54734900e+04, ...,\n",
       "        1.13463267e+04, 1.58080089e+08, 0.00000000e+00],\n",
       "       [1.51493760e+12, 1.46900000e+04, 1.53075600e+04, ...,\n",
       "        8.99495357e+03, 1.33587333e+08, 0.00000000e+00],\n",
       "       ...,\n",
       "       [1.64782080e+12, 4.12621100e+04, 4.15442200e+04, ...,\n",
       "        1.90794265e+04, 7.83366152e+08, 0.00000000e+00],\n",
       "       [1.64790720e+12, 4.10022600e+04, 4.33610000e+04, ...,\n",
       "        3.02155478e+04, 1.28333480e+09, 0.00000000e+00],\n",
       "       [1.64799360e+12, 4.23641300e+04, 4.25299900e+04, ...,\n",
       "        6.86607649e+03, 2.89369176e+08, 0.00000000e+00]])"
      ]
     },
     "execution_count": 40,
     "metadata": {},
     "output_type": "execute_result"
    }
   ],
   "source": [
    "DataMatrix1 = Data1.values\n",
    "DataMatrix1"
   ]
  },
  {
   "cell_type": "code",
   "execution_count": 41,
   "id": "cc107e4b",
   "metadata": {},
   "outputs": [],
   "source": [
    "X1 = DataMatrix1[-1000:, 1:2]\n",
    "# X1"
   ]
  },
  {
   "cell_type": "code",
   "execution_count": 43,
   "id": "588cb165",
   "metadata": {},
   "outputs": [
    {
     "data": {
      "text/html": [
       "<div>\n",
       "<style scoped>\n",
       "    .dataframe tbody tr th:only-of-type {\n",
       "        vertical-align: middle;\n",
       "    }\n",
       "\n",
       "    .dataframe tbody tr th {\n",
       "        vertical-align: top;\n",
       "    }\n",
       "\n",
       "    .dataframe thead th {\n",
       "        text-align: right;\n",
       "    }\n",
       "</style>\n",
       "<table border=\"1\" class=\"dataframe\">\n",
       "  <thead>\n",
       "    <tr style=\"text-align: right;\">\n",
       "      <th></th>\n",
       "      <th>timestamp</th>\n",
       "      <th>open</th>\n",
       "      <th>high</th>\n",
       "      <th>low</th>\n",
       "      <th>close</th>\n",
       "      <th>volume</th>\n",
       "      <th>close_time</th>\n",
       "      <th>qav</th>\n",
       "      <th>num_trades</th>\n",
       "      <th>taker_base_vol</th>\n",
       "      <th>taker_quote_vol</th>\n",
       "      <th>ignore</th>\n",
       "    </tr>\n",
       "  </thead>\n",
       "  <tbody>\n",
       "    <tr>\n",
       "      <th>0</th>\n",
       "      <td>1514764800000</td>\n",
       "      <td>8.5478</td>\n",
       "      <td>8.7000</td>\n",
       "      <td>7.8000</td>\n",
       "      <td>8.4500</td>\n",
       "      <td>654338.840</td>\n",
       "      <td>1514851199999</td>\n",
       "      <td>5.400588e+06</td>\n",
       "      <td>20279</td>\n",
       "      <td>284543.080</td>\n",
       "      <td>2.353359e+06</td>\n",
       "      <td>0</td>\n",
       "    </tr>\n",
       "    <tr>\n",
       "      <th>1</th>\n",
       "      <td>1514851200000</td>\n",
       "      <td>8.4500</td>\n",
       "      <td>9.1133</td>\n",
       "      <td>8.0922</td>\n",
       "      <td>8.7150</td>\n",
       "      <td>1262633.420</td>\n",
       "      <td>1514937599999</td>\n",
       "      <td>1.081123e+07</td>\n",
       "      <td>33193</td>\n",
       "      <td>570796.290</td>\n",
       "      <td>4.897457e+06</td>\n",
       "      <td>0</td>\n",
       "    </tr>\n",
       "    <tr>\n",
       "      <th>2</th>\n",
       "      <td>1514937600000</td>\n",
       "      <td>8.7151</td>\n",
       "      <td>9.4697</td>\n",
       "      <td>8.2653</td>\n",
       "      <td>9.3040</td>\n",
       "      <td>947392.650</td>\n",
       "      <td>1515023999999</td>\n",
       "      <td>8.256006e+06</td>\n",
       "      <td>27401</td>\n",
       "      <td>458242.420</td>\n",
       "      <td>4.008115e+06</td>\n",
       "      <td>0</td>\n",
       "    </tr>\n",
       "    <tr>\n",
       "      <th>3</th>\n",
       "      <td>1515024000000</td>\n",
       "      <td>9.3040</td>\n",
       "      <td>9.6511</td>\n",
       "      <td>8.5595</td>\n",
       "      <td>9.1430</td>\n",
       "      <td>964494.940</td>\n",
       "      <td>1515110399999</td>\n",
       "      <td>8.720171e+06</td>\n",
       "      <td>28847</td>\n",
       "      <td>441178.830</td>\n",
       "      <td>4.008050e+06</td>\n",
       "      <td>0</td>\n",
       "    </tr>\n",
       "    <tr>\n",
       "      <th>4</th>\n",
       "      <td>1515110400000</td>\n",
       "      <td>9.1350</td>\n",
       "      <td>16.8172</td>\n",
       "      <td>8.9651</td>\n",
       "      <td>14.8908</td>\n",
       "      <td>2764977.040</td>\n",
       "      <td>1515196799999</td>\n",
       "      <td>3.497820e+07</td>\n",
       "      <td>51841</td>\n",
       "      <td>1602589.460</td>\n",
       "      <td>2.056864e+07</td>\n",
       "      <td>0</td>\n",
       "    </tr>\n",
       "    <tr>\n",
       "      <th>...</th>\n",
       "      <td>...</td>\n",
       "      <td>...</td>\n",
       "      <td>...</td>\n",
       "      <td>...</td>\n",
       "      <td>...</td>\n",
       "      <td>...</td>\n",
       "      <td>...</td>\n",
       "      <td>...</td>\n",
       "      <td>...</td>\n",
       "      <td>...</td>\n",
       "      <td>...</td>\n",
       "      <td>...</td>\n",
       "    </tr>\n",
       "    <tr>\n",
       "      <th>1538</th>\n",
       "      <td>1647648000000</td>\n",
       "      <td>397.2000</td>\n",
       "      <td>406.4000</td>\n",
       "      <td>394.9000</td>\n",
       "      <td>399.9000</td>\n",
       "      <td>459996.613</td>\n",
       "      <td>1647734399999</td>\n",
       "      <td>1.842269e+08</td>\n",
       "      <td>285223</td>\n",
       "      <td>235946.934</td>\n",
       "      <td>9.449727e+07</td>\n",
       "      <td>0</td>\n",
       "    </tr>\n",
       "    <tr>\n",
       "      <th>1539</th>\n",
       "      <td>1647734400000</td>\n",
       "      <td>399.9000</td>\n",
       "      <td>400.8000</td>\n",
       "      <td>386.2000</td>\n",
       "      <td>390.8000</td>\n",
       "      <td>398984.429</td>\n",
       "      <td>1647820799999</td>\n",
       "      <td>1.569279e+08</td>\n",
       "      <td>265148</td>\n",
       "      <td>200256.330</td>\n",
       "      <td>7.879534e+07</td>\n",
       "      <td>0</td>\n",
       "    </tr>\n",
       "    <tr>\n",
       "      <th>1540</th>\n",
       "      <td>1647820800000</td>\n",
       "      <td>390.8000</td>\n",
       "      <td>399.5000</td>\n",
       "      <td>384.8000</td>\n",
       "      <td>396.0000</td>\n",
       "      <td>541479.780</td>\n",
       "      <td>1647907199999</td>\n",
       "      <td>2.132204e+08</td>\n",
       "      <td>282212</td>\n",
       "      <td>280819.680</td>\n",
       "      <td>1.106266e+08</td>\n",
       "      <td>0</td>\n",
       "    </tr>\n",
       "    <tr>\n",
       "      <th>1541</th>\n",
       "      <td>1647907200000</td>\n",
       "      <td>396.0000</td>\n",
       "      <td>410.0000</td>\n",
       "      <td>394.8000</td>\n",
       "      <td>404.3000</td>\n",
       "      <td>609034.607</td>\n",
       "      <td>1647993599999</td>\n",
       "      <td>2.466861e+08</td>\n",
       "      <td>315030</td>\n",
       "      <td>321120.295</td>\n",
       "      <td>1.300326e+08</td>\n",
       "      <td>0</td>\n",
       "    </tr>\n",
       "    <tr>\n",
       "      <th>1542</th>\n",
       "      <td>1647993600000</td>\n",
       "      <td>404.3000</td>\n",
       "      <td>406.5000</td>\n",
       "      <td>397.9000</td>\n",
       "      <td>402.6000</td>\n",
       "      <td>171104.055</td>\n",
       "      <td>1648079999999</td>\n",
       "      <td>6.880380e+07</td>\n",
       "      <td>92829</td>\n",
       "      <td>83942.612</td>\n",
       "      <td>3.375794e+07</td>\n",
       "      <td>0</td>\n",
       "    </tr>\n",
       "  </tbody>\n",
       "</table>\n",
       "<p>1543 rows × 12 columns</p>\n",
       "</div>"
      ],
      "text/plain": [
       "          timestamp      open      high       low     close       volume  \\\n",
       "0     1514764800000    8.5478    8.7000    7.8000    8.4500   654338.840   \n",
       "1     1514851200000    8.4500    9.1133    8.0922    8.7150  1262633.420   \n",
       "2     1514937600000    8.7151    9.4697    8.2653    9.3040   947392.650   \n",
       "3     1515024000000    9.3040    9.6511    8.5595    9.1430   964494.940   \n",
       "4     1515110400000    9.1350   16.8172    8.9651   14.8908  2764977.040   \n",
       "...             ...       ...       ...       ...       ...          ...   \n",
       "1538  1647648000000  397.2000  406.4000  394.9000  399.9000   459996.613   \n",
       "1539  1647734400000  399.9000  400.8000  386.2000  390.8000   398984.429   \n",
       "1540  1647820800000  390.8000  399.5000  384.8000  396.0000   541479.780   \n",
       "1541  1647907200000  396.0000  410.0000  394.8000  404.3000   609034.607   \n",
       "1542  1647993600000  404.3000  406.5000  397.9000  402.6000   171104.055   \n",
       "\n",
       "         close_time           qav  num_trades  taker_base_vol  \\\n",
       "0     1514851199999  5.400588e+06       20279      284543.080   \n",
       "1     1514937599999  1.081123e+07       33193      570796.290   \n",
       "2     1515023999999  8.256006e+06       27401      458242.420   \n",
       "3     1515110399999  8.720171e+06       28847      441178.830   \n",
       "4     1515196799999  3.497820e+07       51841     1602589.460   \n",
       "...             ...           ...         ...             ...   \n",
       "1538  1647734399999  1.842269e+08      285223      235946.934   \n",
       "1539  1647820799999  1.569279e+08      265148      200256.330   \n",
       "1540  1647907199999  2.132204e+08      282212      280819.680   \n",
       "1541  1647993599999  2.466861e+08      315030      321120.295   \n",
       "1542  1648079999999  6.880380e+07       92829       83942.612   \n",
       "\n",
       "      taker_quote_vol  ignore  \n",
       "0        2.353359e+06       0  \n",
       "1        4.897457e+06       0  \n",
       "2        4.008115e+06       0  \n",
       "3        4.008050e+06       0  \n",
       "4        2.056864e+07       0  \n",
       "...               ...     ...  \n",
       "1538     9.449727e+07       0  \n",
       "1539     7.879534e+07       0  \n",
       "1540     1.106266e+08       0  \n",
       "1541     1.300326e+08       0  \n",
       "1542     3.375794e+07       0  \n",
       "\n",
       "[1543 rows x 12 columns]"
      ]
     },
     "execution_count": 43,
     "metadata": {},
     "output_type": "execute_result"
    }
   ],
   "source": [
    "Data2 = pd.read_csv('BNBUSDT_1d_2022_03_23.csv')\n",
    "Data2"
   ]
  },
  {
   "cell_type": "code",
   "execution_count": 44,
   "id": "efb283ab",
   "metadata": {},
   "outputs": [
    {
     "data": {
      "text/plain": [
       "array([[1.51476480e+12, 8.54780000e+00, 8.70000000e+00, ...,\n",
       "        2.84543080e+05, 2.35335933e+06, 0.00000000e+00],\n",
       "       [1.51485120e+12, 8.45000000e+00, 9.11330000e+00, ...,\n",
       "        5.70796290e+05, 4.89745710e+06, 0.00000000e+00],\n",
       "       [1.51493760e+12, 8.71510000e+00, 9.46970000e+00, ...,\n",
       "        4.58242420e+05, 4.00811506e+06, 0.00000000e+00],\n",
       "       ...,\n",
       "       [1.64782080e+12, 3.90800000e+02, 3.99500000e+02, ...,\n",
       "        2.80819680e+05, 1.10626615e+08, 0.00000000e+00],\n",
       "       [1.64790720e+12, 3.96000000e+02, 4.10000000e+02, ...,\n",
       "        3.21120295e+05, 1.30032629e+08, 0.00000000e+00],\n",
       "       [1.64799360e+12, 4.04300000e+02, 4.06500000e+02, ...,\n",
       "        8.39426120e+04, 3.37579382e+07, 0.00000000e+00]])"
      ]
     },
     "execution_count": 44,
     "metadata": {},
     "output_type": "execute_result"
    }
   ],
   "source": [
    "DataMatrix2 = Data2.values\n",
    "DataMatrix2"
   ]
  },
  {
   "cell_type": "code",
   "execution_count": 45,
   "id": "4e365ae9",
   "metadata": {},
   "outputs": [],
   "source": [
    "Y1 = DataMatrix2[-1000:, 1:2]\n",
    "# Y1"
   ]
  },
  {
   "cell_type": "code",
   "execution_count": 46,
   "id": "c665ce59",
   "metadata": {},
   "outputs": [
    {
     "data": {
      "text/plain": [
       "(1000, 1)"
      ]
     },
     "execution_count": 46,
     "metadata": {},
     "output_type": "execute_result"
    }
   ],
   "source": [
    "X1.shape"
   ]
  },
  {
   "cell_type": "code",
   "execution_count": 47,
   "id": "04272f6e",
   "metadata": {},
   "outputs": [],
   "source": [
    "XTrain1 = X1[:700, :] # index 0 to 70\n",
    "YTrain1 = Y1[:700, :]\n",
    "\n",
    "XTest1 = X1[700:, :] # index 70 to 100\n",
    "YTest1 = Y1[700:, :]"
   ]
  },
  {
   "cell_type": "code",
   "execution_count": 48,
   "id": "256cca13",
   "metadata": {},
   "outputs": [
    {
     "data": {
      "text/plain": [
       "0.9073121103140138"
      ]
     },
     "execution_count": 48,
     "metadata": {},
     "output_type": "execute_result"
    }
   ],
   "source": [
    "r1 = FindR(X1, Y1)\n",
    "r1"
   ]
  },
  {
   "cell_type": "markdown",
   "id": "43e521f4",
   "metadata": {},
   "source": [
    "### Create Model"
   ]
  },
  {
   "cell_type": "code",
   "execution_count": 49,
   "id": "a49379a8",
   "metadata": {},
   "outputs": [],
   "source": [
    "a1, b1 = FindAB(XTrain1, YTrain1, XTrain1**2, XTrain1*YTrain1)\n",
    "YhatTrain1 = FindYhat(a1, XTrain1, b1)\n",
    "ErrorTrain1 = FindError(YTrain1, YhatTrain1)"
   ]
  },
  {
   "cell_type": "code",
   "execution_count": 55,
   "id": "95da72bc",
   "metadata": {},
   "outputs": [
    {
     "data": {
      "text/plain": [
       "<matplotlib.legend.Legend at 0x20bfe179af0>"
      ]
     },
     "execution_count": 55,
     "metadata": {},
     "output_type": "execute_result"
    },
    {
     "data": {
      "image/png": "[encoded data removed]",
      "text/plain": [
       "<Figure size 432x288 with 1 Axes>"
      ]
     },
     "metadata": {
      "needs_background": "light"
     },
     "output_type": "display_data"
    }
   ],
   "source": [
    "plt.plot(YTrain1, label='True Train Ex1')\n",
    "plt.plot(YhatTrain1, '.', label='Predict Train Ex1')\n",
    "plt.legend()"
   ]
  },
  {
   "cell_type": "code",
   "execution_count": 51,
   "id": "1ae4781f",
   "metadata": {},
   "outputs": [
    {
     "data": {
      "text/plain": [
       "4033491.9452658864"
      ]
     },
     "execution_count": 51,
     "metadata": {},
     "output_type": "execute_result"
    }
   ],
   "source": [
    "ErrorTrain1"
   ]
  },
  {
   "cell_type": "markdown",
   "id": "7791bd7a",
   "metadata": {},
   "source": [
    "### Make Prediction"
   ]
  },
  {
   "cell_type": "code",
   "execution_count": 52,
   "id": "54441e6b",
   "metadata": {},
   "outputs": [],
   "source": [
    "YhatTest1 = FindYhat(a1, XTest1, b1)\n",
    "ErrorTest1 = FindError(YTest1, YhatTest1)"
   ]
  },
  {
   "cell_type": "code",
   "execution_count": 53,
   "id": "7147d7a9",
   "metadata": {},
   "outputs": [
    {
     "data": {
      "text/plain": [
       "<matplotlib.legend.Legend at 0x20bfdfced60>"
      ]
     },
     "execution_count": 53,
     "metadata": {},
     "output_type": "execute_result"
    },
    {
     "data": {
      "image/png": "[encoded data removed]",
      "text/plain": [
       "<Figure size 432x288 with 1 Axes>"
      ]
     },
     "metadata": {
      "needs_background": "light"
     },
     "output_type": "display_data"
    }
   ],
   "source": [
    "plt.plot(YTest1, label='True Test Ex1')\n",
    "plt.plot(YhatTest1, '.', label='Predict Test Ex1')\n",
    "plt.legend()"
   ]
  },
  {
   "cell_type": "code",
   "execution_count": null,
   "id": "e24a0fb6",
   "metadata": {},
   "outputs": [],
   "source": []
  }
 ],
 "metadata": {
  "kernelspec": {
   "display_name": "Python 3",
   "language": "python",
   "name": "python3"
  },
  "language_info": {
   "codemirror_mode": {
    "name": "ipython",
    "version": 3
   },
   "file_extension": ".py",
   "mimetype": "text/x-python",
   "name": "python",
   "nbconvert_exporter": "python",
   "pygments_lexer": "ipython3",
   "version": "3.8.8"
  }
 },
 "nbformat": 4,
 "nbformat_minor": 5
}
