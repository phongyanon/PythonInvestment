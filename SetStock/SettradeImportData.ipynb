{
 "cells": [
  {
   "cell_type": "code",
   "execution_count": 3,
   "id": "f70cb91a",
   "metadata": {},
   "outputs": [
    {
     "data": {
      "text/plain": [
       "True"
      ]
     },
     "execution_count": 3,
     "metadata": {},
     "output_type": "execute_result"
    }
   ],
   "source": [
    "import os\n",
    "from dotenv import load_dotenv\n",
    "import settrade.openapi\n",
    "from settrade.openapi import Investor\n",
    "import pandas as pd\n",
    "import json\n",
    "import time\n",
    "import pandas_ta as ta\n",
    "from datetime import datetime\n",
    "load_dotenv()"
   ]
  },
  {
   "cell_type": "code",
   "execution_count": 15,
   "id": "86ee732c",
   "metadata": {},
   "outputs": [],
   "source": [
    "investor = Investor(\n",
    "    app_id = 'AdWUxtzHPkyyjnzT',\n",
    "    app_secret = 'ALTnqAKfrIyrvHOpXdBLILliFPQVtsPPGkGAt/KZRdcU',\n",
    "    broker_id = 'SANDBOX',\n",
    "    app_code = 'SANDBOX',\n",
    "    is_auto_queue = False\n",
    ")"
   ]
  },
  {
   "cell_type": "code",
   "execution_count": 16,
   "id": "9b9cbb04",
   "metadata": {},
   "outputs": [
    {
     "data": {
      "text/plain": [
       "{'success': False,\n",
       " 'status_code': 403,\n",
       " 'data': {},\n",
       " 'message': '{\"message\":\"UserAccount not found of request account:406340-E\",\"code\":\"GWD-03\"}'}"
      ]
     },
     "execution_count": 16,
     "metadata": {},
     "output_type": "execute_result"
    }
   ],
   "source": [
    "deri = investor.Derivatives(account_no=\"406340-E\")               # Your account number\n",
    "account_info = deri.get_account_info()\n",
    "account_info  "
   ]
  },
  {
   "cell_type": "code",
   "execution_count": 30,
   "id": "99078b9d",
   "metadata": {},
   "outputs": [
    {
     "data": {
      "text/plain": [
       "{'success': True,\n",
       " 'status_code': 200,\n",
       " 'data': {'last_sequence': 0,\n",
       "  'time': [1589734800, 1590339600, 1590944400, 1591549200, 1592154000],\n",
       "  'open': [197.5, 118.0, 199.5, 204.0, 97.0],\n",
       "  'high': [202.0, 119.5, 201.0, 205.0, 98.75],\n",
       "  'low': [194.5, 102.5, 193.0, 195.5, 94.0],\n",
       "  'close': [196.5, 103.0, 196.0, 195.5, 94.25],\n",
       "  'volume': [27811132, 59317189, 29084708, 22966158, 52818847]},\n",
       " 'message': ''}"
      ]
     },
     "execution_count": 30,
     "metadata": {},
     "output_type": "execute_result"
    }
   ],
   "source": [
    "market = investor.MarketData()\n",
    "mqtt = investor.MQTTWebsocket()\n",
    "###################################\n",
    "\n",
    "ChartDataResponse = market.get_candlestick(\"BBL\",\"1w\",500,\"2020-05-16T00:00:00\",\"2020-06-20T00:00:00\",True)\n",
    "ChartDataResponse"
   ]
  },
  {
   "cell_type": "code",
   "execution_count": null,
   "id": "fef8118d",
   "metadata": {},
   "outputs": [],
   "source": []
  }
 ],
 "metadata": {
  "kernelspec": {
   "display_name": "Python 3",
   "language": "python",
   "name": "python3"
  },
  "language_info": {
   "codemirror_mode": {
    "name": "ipython",
    "version": 3
   },
   "file_extension": ".py",
   "mimetype": "text/x-python",
   "name": "python",
   "nbconvert_exporter": "python",
   "pygments_lexer": "ipython3",
   "version": "3.8.8"
  }
 },
 "nbformat": 4,
 "nbformat_minor": 5
}
