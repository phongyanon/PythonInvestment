{
 "cells": [
  {
   "cell_type": "code",
   "execution_count": 65,
   "id": "603bd55b",
   "metadata": {},
   "outputs": [
    {
     "data": {
      "text/plain": [
       "True"
      ]
     },
     "execution_count": 65,
     "metadata": {},
     "output_type": "execute_result"
    }
   ],
   "source": [
    "import os\n",
    "from dotenv import load_dotenv\n",
    "import time\n",
    "from datetime import datetime\n",
    "import schedule\n",
    "import requests\n",
    "\n",
    "import pandas as pd\n",
    "import pandas_ta as ta\n",
    "import numpy as np\n",
    "\n",
    "from alpha_vantage.timeseries import TimeSeries\n",
    "from alpha_vantage.foreignexchange import ForeignExchange\n",
    "load_dotenv()"
   ]
  },
  {
   "cell_type": "code",
   "execution_count": 68,
   "id": "e7146156",
   "metadata": {},
   "outputs": [],
   "source": [
    "API_KEYS = os.getenv('ALPHA_KEYS')\n",
    "cc = ForeignExchange(key=API_KEYS)\n",
    "\n",
    "LINE_TOKEN = os.getenv('LINE_TOKEN')\n",
    "LINE_URL = 'https://notify-api.line.me/api/notify'\n",
    "LINE_HEADERS = {'content-type':'application/x-www-form-urlencoded','Authorization':'Bearer ' + LINE_TOKEN }"
   ]
  },
  {
   "cell_type": "code",
   "execution_count": 69,
   "id": "bbbf4944",
   "metadata": {},
   "outputs": [],
   "source": [
    "data, _ = cc.get_currency_exchange_rate(from_currency='EUR',to_currency='USD')\n",
    "ts = TimeSeries(key=API_KEYS, output_format='pandas')"
   ]
  },
  {
   "cell_type": "code",
   "execution_count": 70,
   "id": "980a2fcf",
   "metadata": {},
   "outputs": [
    {
     "data": {
      "text/plain": [
       "{'1. From_Currency Code': 'EUR',\n",
       " '2. From_Currency Name': 'Euro',\n",
       " '3. To_Currency Code': 'USD',\n",
       " '4. To_Currency Name': 'United States Dollar',\n",
       " '5. Exchange Rate': '1.13271000',\n",
       " '6. Last Refreshed': '2021-12-27 15:13:01',\n",
       " '7. Time Zone': 'UTC',\n",
       " '8. Bid Price': '1.13271000',\n",
       " '9. Ask Price': '1.13271000'}"
      ]
     },
     "execution_count": 70,
     "metadata": {},
     "output_type": "execute_result"
    }
   ],
   "source": [
    "data"
   ]
  },
  {
   "cell_type": "code",
   "execution_count": 10,
   "id": "1a416796",
   "metadata": {},
   "outputs": [
    {
     "data": {
      "text/html": [
       "<div>\n",
       "<style scoped>\n",
       "    .dataframe tbody tr th:only-of-type {\n",
       "        vertical-align: middle;\n",
       "    }\n",
       "\n",
       "    .dataframe tbody tr th {\n",
       "        vertical-align: top;\n",
       "    }\n",
       "\n",
       "    .dataframe thead th {\n",
       "        text-align: right;\n",
       "    }\n",
       "</style>\n",
       "<table border=\"1\" class=\"dataframe\">\n",
       "  <thead>\n",
       "    <tr style=\"text-align: right;\">\n",
       "      <th></th>\n",
       "      <th>1. open</th>\n",
       "      <th>2. high</th>\n",
       "      <th>3. low</th>\n",
       "      <th>4. close</th>\n",
       "      <th>5. volume</th>\n",
       "    </tr>\n",
       "    <tr>\n",
       "      <th>date</th>\n",
       "      <th></th>\n",
       "      <th></th>\n",
       "      <th></th>\n",
       "      <th></th>\n",
       "      <th></th>\n",
       "    </tr>\n",
       "  </thead>\n",
       "  <tbody>\n",
       "    <tr>\n",
       "      <th>2021-12-24 05:00:00</th>\n",
       "      <td>1.1340</td>\n",
       "      <td>1.1341</td>\n",
       "      <td>1.1338</td>\n",
       "      <td>1.1341</td>\n",
       "      <td>0.0</td>\n",
       "    </tr>\n",
       "    <tr>\n",
       "      <th>2021-12-24 04:30:00</th>\n",
       "      <td>1.1336</td>\n",
       "      <td>1.1342</td>\n",
       "      <td>1.1334</td>\n",
       "      <td>1.1340</td>\n",
       "      <td>0.0</td>\n",
       "    </tr>\n",
       "    <tr>\n",
       "      <th>2021-12-24 04:00:00</th>\n",
       "      <td>1.1335</td>\n",
       "      <td>1.1341</td>\n",
       "      <td>1.1333</td>\n",
       "      <td>1.1336</td>\n",
       "      <td>0.0</td>\n",
       "    </tr>\n",
       "    <tr>\n",
       "      <th>2021-12-24 03:30:00</th>\n",
       "      <td>1.1331</td>\n",
       "      <td>1.1336</td>\n",
       "      <td>1.1329</td>\n",
       "      <td>1.1334</td>\n",
       "      <td>0.0</td>\n",
       "    </tr>\n",
       "    <tr>\n",
       "      <th>2021-12-24 03:00:00</th>\n",
       "      <td>1.1332</td>\n",
       "      <td>1.1332</td>\n",
       "      <td>1.1329</td>\n",
       "      <td>1.1331</td>\n",
       "      <td>0.0</td>\n",
       "    </tr>\n",
       "    <tr>\n",
       "      <th>...</th>\n",
       "      <td>...</td>\n",
       "      <td>...</td>\n",
       "      <td>...</td>\n",
       "      <td>...</td>\n",
       "      <td>...</td>\n",
       "    </tr>\n",
       "    <tr>\n",
       "      <th>2021-12-22 05:30:00</th>\n",
       "      <td>1.1283</td>\n",
       "      <td>1.1298</td>\n",
       "      <td>1.1279</td>\n",
       "      <td>1.1294</td>\n",
       "      <td>0.0</td>\n",
       "    </tr>\n",
       "    <tr>\n",
       "      <th>2021-12-22 05:00:00</th>\n",
       "      <td>1.1274</td>\n",
       "      <td>1.1285</td>\n",
       "      <td>1.1269</td>\n",
       "      <td>1.1283</td>\n",
       "      <td>0.0</td>\n",
       "    </tr>\n",
       "    <tr>\n",
       "      <th>2021-12-22 04:30:00</th>\n",
       "      <td>1.1273</td>\n",
       "      <td>1.1280</td>\n",
       "      <td>1.1269</td>\n",
       "      <td>1.1274</td>\n",
       "      <td>0.0</td>\n",
       "    </tr>\n",
       "    <tr>\n",
       "      <th>2021-12-22 04:00:00</th>\n",
       "      <td>1.1272</td>\n",
       "      <td>1.1275</td>\n",
       "      <td>1.1267</td>\n",
       "      <td>1.1273</td>\n",
       "      <td>0.0</td>\n",
       "    </tr>\n",
       "    <tr>\n",
       "      <th>2021-12-22 03:30:00</th>\n",
       "      <td>1.1267</td>\n",
       "      <td>1.1277</td>\n",
       "      <td>1.1264</td>\n",
       "      <td>1.1271</td>\n",
       "      <td>0.0</td>\n",
       "    </tr>\n",
       "  </tbody>\n",
       "</table>\n",
       "<p>100 rows × 5 columns</p>\n",
       "</div>"
      ],
      "text/plain": [
       "                     1. open  2. high  3. low  4. close  5. volume\n",
       "date                                                              \n",
       "2021-12-24 05:00:00   1.1340   1.1341  1.1338    1.1341        0.0\n",
       "2021-12-24 04:30:00   1.1336   1.1342  1.1334    1.1340        0.0\n",
       "2021-12-24 04:00:00   1.1335   1.1341  1.1333    1.1336        0.0\n",
       "2021-12-24 03:30:00   1.1331   1.1336  1.1329    1.1334        0.0\n",
       "2021-12-24 03:00:00   1.1332   1.1332  1.1329    1.1331        0.0\n",
       "...                      ...      ...     ...       ...        ...\n",
       "2021-12-22 05:30:00   1.1283   1.1298  1.1279    1.1294        0.0\n",
       "2021-12-22 05:00:00   1.1274   1.1285  1.1269    1.1283        0.0\n",
       "2021-12-22 04:30:00   1.1273   1.1280  1.1269    1.1274        0.0\n",
       "2021-12-22 04:00:00   1.1272   1.1275  1.1267    1.1273        0.0\n",
       "2021-12-22 03:30:00   1.1267   1.1277  1.1264    1.1271        0.0\n",
       "\n",
       "[100 rows x 5 columns]"
      ]
     },
     "execution_count": 10,
     "metadata": {},
     "output_type": "execute_result"
    }
   ],
   "source": [
    "data_ts,_ = ts.get_intraday(symbol='EURUSD',interval='30min', outputsize='compact')\n",
    "data_ts"
   ]
  },
  {
   "cell_type": "code",
   "execution_count": 71,
   "id": "685d5640",
   "metadata": {},
   "outputs": [
    {
     "name": "stdout",
     "output_type": "stream",
     "text": [
      "{\"status\":200,\"message\":\"ok\"}\n"
     ]
    }
   ],
   "source": [
    "### line alert function\n",
    "def notifyMsg(*msg, url=LINE_URL, headers=LINE_HEADERS):\n",
    "    r = requests.post(url, headers=headers, data={'message': msg[0]})\n",
    "    print(r.text)"
   ]
  },
  {
   "cell_type": "code",
   "execution_count": 59,
   "id": "0e06eb2a",
   "metadata": {},
   "outputs": [],
   "source": [
    "### create technical strategy\n",
    "rsi_o2 = ta.Strategy(\n",
    "    name = 'RSI 14 Days for opposite trade',\n",
    "    description = 'RSI for alert',\n",
    "    ta = [\n",
    "        {'kind': 'ema', 'length': 200},\n",
    "        {'kind': 'rsi', 'length': 14}\n",
    "    ]\n",
    ")"
   ]
  },
  {
   "cell_type": "code",
   "execution_count": 35,
   "id": "eb17a796",
   "metadata": {},
   "outputs": [
    {
     "name": "stdout",
     "output_type": "stream",
     "text": [
      "1.1325 1.1328\n",
      "1.133 1.1328\n",
      "1.1328 1.132\n"
     ]
    }
   ],
   "source": [
    "def get_realtime(pair='EURUSD', tf='15min'):\n",
    "    bars, _ = ts.get_intraday(symbol='EURUSD',interval='15min',  outputsize='full')\n",
    "    df = pd.DataFrame({\n",
    "        'timestamp': data_test.index,\n",
    "        'open': data_test['1. open'],\n",
    "        'high': data_test['2. high'],\n",
    "        'low': data_test['3. low'],\n",
    "        'close': data_test['4. close'],\n",
    "        'volumn': data_test['5. volume']\n",
    "    }) # convert alpha vantage data to use with rsi strategy\n",
    "    \n",
    "    df['timestamp'] = pd.to_datetime(df['timestamp'], unit='ms')\n",
    "    df = df.iloc[::-1] # reverse row\n",
    "    df.reset_index(drop=True, inplace=True)\n",
    "    df.ta.strategy(rsi_o2)\n",
    "    \n",
    "    # loop count latest n bars that rsi < 30 or rsi > 70\n",
    "    sell_point = 0\n",
    "    buy_point = 0\n",
    "    n_bars = 3  # number of latest bars to backword lookup\n",
    "    for index, row in df.tail(n_bars).iterrows():\n",
    "        if (row['RSI_14'] < 30 and row['EMA_200'] > row['high']): # rsi < 30 and ema 200 > high price then send buy signal\n",
    "            buy_point = buy_point + 1\n",
    "        elif (row['RSI_14'] > 70 and row['EMA_200'] < row['low']): # if rsi > 70 and ema 200 < low price then send sell signal\n",
    "            sell_point = sell_point + 1\n",
    "    \n",
    "        if buy_point >= n_bars:\n",
    "            notifyMsg('Buy EURUSD price: ' + str(row['open']))\n",
    "        elif buy_point >= n_bars:\n",
    "            notifyMsg('Sell EURUSD price: ' + str(row['open']))\n",
    "    \n",
    "get_realtime()"
   ]
  },
  {
   "cell_type": "code",
   "execution_count": 60,
   "id": "72e28266",
   "metadata": {},
   "outputs": [
    {
     "data": {
      "text/html": [
       "<div>\n",
       "<style scoped>\n",
       "    .dataframe tbody tr th:only-of-type {\n",
       "        vertical-align: middle;\n",
       "    }\n",
       "\n",
       "    .dataframe tbody tr th {\n",
       "        vertical-align: top;\n",
       "    }\n",
       "\n",
       "    .dataframe thead th {\n",
       "        text-align: right;\n",
       "    }\n",
       "</style>\n",
       "<table border=\"1\" class=\"dataframe\">\n",
       "  <thead>\n",
       "    <tr style=\"text-align: right;\">\n",
       "      <th></th>\n",
       "      <th>timestamp</th>\n",
       "      <th>open</th>\n",
       "      <th>high</th>\n",
       "      <th>low</th>\n",
       "      <th>close</th>\n",
       "      <th>volumn</th>\n",
       "      <th>EMA_200</th>\n",
       "      <th>RSI_14</th>\n",
       "    </tr>\n",
       "  </thead>\n",
       "  <tbody>\n",
       "    <tr>\n",
       "      <th>989</th>\n",
       "      <td>2021-12-27 04:45:00</td>\n",
       "      <td>1.1309</td>\n",
       "      <td>1.1311</td>\n",
       "      <td>1.1305</td>\n",
       "      <td>1.1310</td>\n",
       "      <td>0.0</td>\n",
       "      <td>1.131900</td>\n",
       "      <td>39.154677</td>\n",
       "    </tr>\n",
       "    <tr>\n",
       "      <th>990</th>\n",
       "      <td>2021-12-27 05:00:00</td>\n",
       "      <td>1.1310</td>\n",
       "      <td>1.1312</td>\n",
       "      <td>1.1304</td>\n",
       "      <td>1.1308</td>\n",
       "      <td>0.0</td>\n",
       "      <td>1.131889</td>\n",
       "      <td>36.915771</td>\n",
       "    </tr>\n",
       "    <tr>\n",
       "      <th>991</th>\n",
       "      <td>2021-12-27 05:15:00</td>\n",
       "      <td>1.1308</td>\n",
       "      <td>1.1319</td>\n",
       "      <td>1.1305</td>\n",
       "      <td>1.1315</td>\n",
       "      <td>0.0</td>\n",
       "      <td>1.131885</td>\n",
       "      <td>48.101403</td>\n",
       "    </tr>\n",
       "    <tr>\n",
       "      <th>992</th>\n",
       "      <td>2021-12-27 05:30:00</td>\n",
       "      <td>1.1316</td>\n",
       "      <td>1.1319</td>\n",
       "      <td>1.1313</td>\n",
       "      <td>1.1318</td>\n",
       "      <td>0.0</td>\n",
       "      <td>1.131885</td>\n",
       "      <td>52.027325</td>\n",
       "    </tr>\n",
       "    <tr>\n",
       "      <th>993</th>\n",
       "      <td>2021-12-27 05:45:00</td>\n",
       "      <td>1.1318</td>\n",
       "      <td>1.1320</td>\n",
       "      <td>1.1317</td>\n",
       "      <td>1.1319</td>\n",
       "      <td>0.0</td>\n",
       "      <td>1.131885</td>\n",
       "      <td>53.295582</td>\n",
       "    </tr>\n",
       "  </tbody>\n",
       "</table>\n",
       "</div>"
      ],
      "text/plain": [
       "              timestamp    open    high     low   close  volumn   EMA_200  \\\n",
       "989 2021-12-27 04:45:00  1.1309  1.1311  1.1305  1.1310     0.0  1.131900   \n",
       "990 2021-12-27 05:00:00  1.1310  1.1312  1.1304  1.1308     0.0  1.131889   \n",
       "991 2021-12-27 05:15:00  1.1308  1.1319  1.1305  1.1315     0.0  1.131885   \n",
       "992 2021-12-27 05:30:00  1.1316  1.1319  1.1313  1.1318     0.0  1.131885   \n",
       "993 2021-12-27 05:45:00  1.1318  1.1320  1.1317  1.1319     0.0  1.131885   \n",
       "\n",
       "        RSI_14  \n",
       "989  39.154677  \n",
       "990  36.915771  \n",
       "991  48.101403  \n",
       "992  52.027325  \n",
       "993  53.295582  "
      ]
     },
     "execution_count": 60,
     "metadata": {},
     "output_type": "execute_result"
    }
   ],
   "source": [
    "### loop get latest 200 candles then monitor signal and alert\n",
    "dataEUR, _ = ts.get_intraday(symbol='EURUSD',interval='15min',  outputsize='full')\n",
    "data_test = dataEUR\n",
    "df1 = pd.DataFrame({\n",
    "    'timestamp': data_test.index,\n",
    "    'open': data_test['1. open'],\n",
    "    'high': data_test['2. high'],\n",
    "    'low': data_test['3. low'],\n",
    "    'close': data_test['4. close'],\n",
    "    'volumn': data_test['5. volume']\n",
    "})\n",
    "df1['timestamp'] = pd.to_datetime(df1['timestamp'], unit='ms')\n",
    "df1 = df1.iloc[::-1] \n",
    "df1.reset_index(drop=True, inplace=True)\n",
    "df1.ta.strategy(rsi_o2)\n",
    "df1.tail()"
   ]
  },
  {
   "cell_type": "code",
   "execution_count": 66,
   "id": "2d7ea8e7",
   "metadata": {},
   "outputs": [
    {
     "name": "stdout",
     "output_type": "stream",
     "text": [
      "{\"status\":200,\"message\":\"ok\"}\n"
     ]
    }
   ],
   "source": [
    "# notifyMsg('hello')"
   ]
  },
  {
   "cell_type": "code",
   "execution_count": 5,
   "id": "a77d3aee",
   "metadata": {},
   "outputs": [
    {
     "name": "stdout",
     "output_type": "stream",
     "text": [
      "Pandas TA - Technical Analysis Indicators - v0.3.14b0\n",
      "Total Indicators & Utilities: 205\n",
      "Abbreviations:\n",
      "    aberration, above, above_value, accbands, ad, adosc, adx, alma, amat, ao, aobv, apo, aroon, atr, bbands, below, below_value, bias, bop, brar, cci, cdl_pattern, cdl_z, cfo, cg, chop, cksp, cmf, cmo, coppock, cross, cross_value, cti, decay, decreasing, dema, dm, donchian, dpo, ebsw, efi, ema, entropy, eom, er, eri, fisher, fwma, ha, hilo, hl2, hlc3, hma, hwc, hwma, ichimoku, increasing, inertia, jma, kama, kc, kdj, kst, kurtosis, kvo, linreg, log_return, long_run, macd, mad, massi, mcgd, median, mfi, midpoint, midprice, mom, natr, nvi, obv, ohlc4, pdist, percent_return, pgo, ppo, psar, psl, pvi, pvo, pvol, pvr, pvt, pwma, qqe, qstick, quantile, rma, roc, rsi, rsx, rvgi, rvi, short_run, sinwma, skew, slope, sma, smi, squeeze, squeeze_pro, ssf, stc, stdev, stoch, stochrsi, supertrend, swma, t3, td_seq, tema, thermo, tos_stdevall, trima, trix, true_range, tsi, tsignals, ttm_trend, ui, uo, variance, vhf, vidya, vortex, vp, vwap, vwma, wcp, willr, wma, xsignals, zlma, zscore\n",
      "\n",
      "Candle Patterns:\n",
      "    2crows, 3blackcrows, 3inside, 3linestrike, 3outside, 3starsinsouth, 3whitesoldiers, abandonedbaby, advanceblock, belthold, breakaway, closingmarubozu, concealbabyswall, counterattack, darkcloudcover, doji, dojistar, dragonflydoji, engulfing, eveningdojistar, eveningstar, gapsidesidewhite, gravestonedoji, hammer, hangingman, harami, haramicross, highwave, hikkake, hikkakemod, homingpigeon, identical3crows, inneck, inside, invertedhammer, kicking, kickingbylength, ladderbottom, longleggeddoji, longline, marubozu, matchinglow, mathold, morningdojistar, morningstar, onneck, piercing, rickshawman, risefall3methods, separatinglines, shootingstar, shortline, spinningtop, stalledpattern, sticksandwich, takuri, tasukigap, thrusting, tristar, unique3river, upsidegap2crows, xsidegap3methods\n"
     ]
    }
   ],
   "source": [
    "df = pd.DataFrame()\n",
    "df.ta.indicators()"
   ]
  },
  {
   "cell_type": "code",
   "execution_count": null,
   "id": "01413e06",
   "metadata": {},
   "outputs": [],
   "source": []
  }
 ],
 "metadata": {
  "kernelspec": {
   "display_name": "Python 3",
   "language": "python",
   "name": "python3"
  },
  "language_info": {
   "codemirror_mode": {
    "name": "ipython",
    "version": 3
   },
   "file_extension": ".py",
   "mimetype": "text/x-python",
   "name": "python",
   "nbconvert_exporter": "python",
   "pygments_lexer": "ipython3",
   "version": "3.8.8"
  }
 },
 "nbformat": 4,
 "nbformat_minor": 5
}
