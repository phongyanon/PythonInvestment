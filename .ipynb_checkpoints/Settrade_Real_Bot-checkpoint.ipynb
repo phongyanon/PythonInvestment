{
 "cells": [
  {
   "cell_type": "code",
   "execution_count": 1,
   "id": "6066fc08",
   "metadata": {},
   "outputs": [],
   "source": [
    "import settrade.openapi\n",
    "from settrade.openapi import Investor\n",
    "import pandas as pd\n",
    "import json\n",
    "import time\n",
    "import pandas_ta as ta\n",
    "from datetime import datetime"
   ]
  },
  {
   "cell_type": "code",
   "execution_count": 3,
   "id": "40743d23",
   "metadata": {},
   "outputs": [
    {
     "ename": "Exception",
     "evalue": "Internal Error: illegal base64 data at input byte 4",
     "output_type": "error",
     "traceback": [
      "\u001b[1;31m---------------------------------------------------------------------------\u001b[0m",
      "\u001b[1;31mRuntimeError\u001b[0m                              Traceback (most recent call last)",
      "\u001b[1;32m~\\anaconda3\\lib\\site-packages\\settrade\\openapi\\user\\investor.py\u001b[0m in \u001b[0;36m__init__\u001b[1;34m(self, app_id, app_secret, app_code, broker_id, is_auto_queue)\u001b[0m\n\u001b[0;32m     13\u001b[0m         \u001b[1;32mtry\u001b[0m\u001b[1;33m:\u001b[0m\u001b[1;33m\u001b[0m\u001b[1;33m\u001b[0m\u001b[0m\n\u001b[1;32m---> 14\u001b[1;33m             \u001b[0msuper\u001b[0m\u001b[1;33m(\u001b[0m\u001b[1;33m)\u001b[0m\u001b[1;33m.\u001b[0m\u001b[0m__init__\u001b[0m\u001b[1;33m(\u001b[0m\u001b[0mapp_id\u001b[0m\u001b[1;33m,\u001b[0m \u001b[0mapp_secret\u001b[0m\u001b[1;33m,\u001b[0m \u001b[0mapp_code\u001b[0m\u001b[1;33m,\u001b[0m \u001b[0mbroker_id\u001b[0m\u001b[1;33m,\u001b[0m \u001b[0mis_auto_queue\u001b[0m\u001b[1;33m)\u001b[0m\u001b[1;33m\u001b[0m\u001b[1;33m\u001b[0m\u001b[0m\n\u001b[0m\u001b[0;32m     15\u001b[0m             \u001b[0mself\u001b[0m\u001b[1;33m.\u001b[0m\u001b[0m_logger\u001b[0m\u001b[1;33m.\u001b[0m\u001b[0mremove_expired_log\u001b[0m\u001b[1;33m(\u001b[0m\u001b[1;33m)\u001b[0m\u001b[1;33m\u001b[0m\u001b[1;33m\u001b[0m\u001b[0m\n",
      "\u001b[1;32m~\\anaconda3\\lib\\site-packages\\settrade\\openapi\\user\\user.py\u001b[0m in \u001b[0;36m__init__\u001b[1;34m(self, app_id, app_secret, app_code, broker_id, is_auto_queue)\u001b[0m\n\u001b[0;32m      6\u001b[0m     \u001b[1;32mdef\u001b[0m \u001b[0m__init__\u001b[0m\u001b[1;33m(\u001b[0m\u001b[0mself\u001b[0m\u001b[1;33m,\u001b[0m \u001b[0mapp_id\u001b[0m\u001b[1;33m,\u001b[0m \u001b[0mapp_secret\u001b[0m\u001b[1;33m,\u001b[0m \u001b[0mapp_code\u001b[0m\u001b[1;33m,\u001b[0m \u001b[0mbroker_id\u001b[0m\u001b[1;33m,\u001b[0m \u001b[0mis_auto_queue\u001b[0m\u001b[1;33m=\u001b[0m\u001b[1;32mFalse\u001b[0m\u001b[1;33m)\u001b[0m\u001b[1;33m:\u001b[0m\u001b[1;33m\u001b[0m\u001b[1;33m\u001b[0m\u001b[0m\n\u001b[1;32m----> 7\u001b[1;33m         \u001b[0mself\u001b[0m\u001b[1;33m.\u001b[0m\u001b[0m_context\u001b[0m \u001b[1;33m=\u001b[0m \u001b[0msoa\u001b[0m\u001b[1;33m.\u001b[0m\u001b[0mlogin\u001b[0m\u001b[1;33m(\u001b[0m\u001b[0mapp_id\u001b[0m\u001b[1;33m,\u001b[0m \u001b[0mapp_secret\u001b[0m\u001b[1;33m,\u001b[0m \u001b[0mapp_code\u001b[0m\u001b[1;33m,\u001b[0m \u001b[0mbroker_id\u001b[0m\u001b[1;33m,\u001b[0m \u001b[0mis_auto_queue\u001b[0m\u001b[1;33m)\u001b[0m\u001b[1;33m\u001b[0m\u001b[1;33m\u001b[0m\u001b[0m\n\u001b[0m\u001b[0;32m      8\u001b[0m \u001b[1;33m\u001b[0m\u001b[0m\n",
      "\u001b[1;31mRuntimeError\u001b[0m: Internal Error: illegal base64 data at input byte 4",
      "\nDuring handling of the above exception, another exception occurred:\n",
      "\u001b[1;31mException\u001b[0m                                 Traceback (most recent call last)",
      "\u001b[1;32m<ipython-input-3-d2d420d31e3a>\u001b[0m in \u001b[0;36m<module>\u001b[1;34m\u001b[0m\n\u001b[1;32m----> 1\u001b[1;33m investor = Investor(\n\u001b[0m\u001b[0;32m      2\u001b[0m     \u001b[0mapp_id\u001b[0m \u001b[1;33m=\u001b[0m \u001b[1;34m'Key'\u001b[0m\u001b[1;33m,\u001b[0m\u001b[1;33m\u001b[0m\u001b[1;33m\u001b[0m\u001b[0m\n\u001b[0;32m      3\u001b[0m     \u001b[0mapp_secret\u001b[0m \u001b[1;33m=\u001b[0m \u001b[1;34m'Secret'\u001b[0m\u001b[1;33m,\u001b[0m\u001b[1;33m\u001b[0m\u001b[1;33m\u001b[0m\u001b[0m\n\u001b[0;32m      4\u001b[0m     \u001b[0mbroker_id\u001b[0m \u001b[1;33m=\u001b[0m \u001b[1;34m'025'\u001b[0m\u001b[1;33m,\u001b[0m\u001b[1;33m\u001b[0m\u001b[1;33m\u001b[0m\u001b[0m\n\u001b[0;32m      5\u001b[0m     \u001b[0mapp_code\u001b[0m \u001b[1;33m=\u001b[0m \u001b[1;34m'ALGO'\u001b[0m\u001b[1;33m,\u001b[0m\u001b[1;33m\u001b[0m\u001b[1;33m\u001b[0m\u001b[0m\n",
      "\u001b[1;32m~\\anaconda3\\lib\\site-packages\\settrade\\openapi\\user\\investor.py\u001b[0m in \u001b[0;36m__init__\u001b[1;34m(self, app_id, app_secret, app_code, broker_id, is_auto_queue)\u001b[0m\n\u001b[0;32m     17\u001b[0m         \u001b[1;32mexcept\u001b[0m \u001b[0mException\u001b[0m \u001b[1;32mas\u001b[0m \u001b[0me\u001b[0m\u001b[1;33m:\u001b[0m\u001b[1;33m\u001b[0m\u001b[1;33m\u001b[0m\u001b[0m\n\u001b[0;32m     18\u001b[0m             \u001b[0mself\u001b[0m\u001b[1;33m.\u001b[0m\u001b[0m_logger\u001b[0m\u001b[1;33m.\u001b[0m\u001b[0mwrite\u001b[0m\u001b[1;33m(\u001b[0m\u001b[0mstart\u001b[0m\u001b[1;33m,\u001b[0m \u001b[1;34m\"PYTHON_EXCEPTION\"\u001b[0m\u001b[1;33m,\u001b[0m \u001b[1;34m\"Login_Investor\"\u001b[0m\u001b[1;33m,\u001b[0m \u001b[0me\u001b[0m\u001b[1;33m)\u001b[0m\u001b[1;33m\u001b[0m\u001b[1;33m\u001b[0m\u001b[0m\n\u001b[1;32m---> 19\u001b[1;33m             \u001b[1;32mraise\u001b[0m \u001b[0mException\u001b[0m\u001b[1;33m(\u001b[0m\u001b[0me\u001b[0m\u001b[1;33m)\u001b[0m\u001b[1;33m\u001b[0m\u001b[1;33m\u001b[0m\u001b[0m\n\u001b[0m\u001b[0;32m     20\u001b[0m \u001b[1;33m\u001b[0m\u001b[0m\n\u001b[0;32m     21\u001b[0m     \u001b[1;32mdef\u001b[0m \u001b[0mDerivatives\u001b[0m\u001b[1;33m(\u001b[0m\u001b[0mself\u001b[0m\u001b[1;33m,\u001b[0m \u001b[0maccount_no\u001b[0m\u001b[1;33m)\u001b[0m\u001b[1;33m:\u001b[0m\u001b[1;33m\u001b[0m\u001b[1;33m\u001b[0m\u001b[0m\n",
      "\u001b[1;31mException\u001b[0m: Internal Error: illegal base64 data at input byte 4"
     ]
    }
   ],
   "source": [
    "investor = Investor(\n",
    "    app_id = 'Key',\n",
    "    app_secret = 'Secret',\n",
    "    broker_id = '025',\n",
    "    app_code = 'ALGO',\n",
    "    is_auto_queue = False\n",
    ")"
   ]
  },
  {
   "cell_type": "code",
   "execution_count": 5,
   "id": "168dca0e",
   "metadata": {},
   "outputs": [
    {
     "ename": "NameError",
     "evalue": "name 'investor' is not defined",
     "output_type": "error",
     "traceback": [
      "\u001b[1;31m---------------------------------------------------------------------------\u001b[0m",
      "\u001b[1;31mNameError\u001b[0m                                 Traceback (most recent call last)",
      "\u001b[1;32m<ipython-input-5-7388054b2fb5>\u001b[0m in \u001b[0;36m<module>\u001b[1;34m\u001b[0m\n\u001b[1;32m----> 1\u001b[1;33m \u001b[0mderi\u001b[0m \u001b[1;33m=\u001b[0m \u001b[0minvestor\u001b[0m\u001b[1;33m.\u001b[0m\u001b[0mDerivatives\u001b[0m\u001b[1;33m(\u001b[0m\u001b[0maccount_no\u001b[0m \u001b[1;33m=\u001b[0m \u001b[1;34m'980149-0'\u001b[0m\u001b[1;33m)\u001b[0m\u001b[1;33m\u001b[0m\u001b[1;33m\u001b[0m\u001b[0m\n\u001b[0m",
      "\u001b[1;31mNameError\u001b[0m: name 'investor' is not defined"
     ]
    }
   ],
   "source": [
    "deri = investor.Derivatives(account_no = '980149-0')"
   ]
  },
  {
   "cell_type": "code",
   "execution_count": 6,
   "id": "1e71f959",
   "metadata": {},
   "outputs": [],
   "source": [
    "data = []"
   ]
  },
  {
   "cell_type": "code",
   "execution_count": 7,
   "id": "c9c16d04",
   "metadata": {},
   "outputs": [],
   "source": [
    "new_df = pd.DataFrame(columns=['time', 'open', 'high', 'low', 'close', 'volumn'])"
   ]
  },
  {
   "cell_type": "code",
   "execution_count": 8,
   "id": "23839bb0",
   "metadata": {},
   "outputs": [],
   "source": [
    "test_df = pd.DataFrame(columns=['time', 'open', 'high', 'low', 'close', 'volume'])"
   ]
  },
  {
   "cell_type": "code",
   "execution_count": 10,
   "id": "02a40389",
   "metadata": {},
   "outputs": [
    {
     "ename": "NameError",
     "evalue": "name 'investor' is not defined",
     "output_type": "error",
     "traceback": [
      "\u001b[1;31m---------------------------------------------------------------------------\u001b[0m",
      "\u001b[1;31mNameError\u001b[0m                                 Traceback (most recent call last)",
      "\u001b[1;32m<ipython-input-10-967b14901ead>\u001b[0m in \u001b[0;36m<module>\u001b[1;34m\u001b[0m\n\u001b[1;32m----> 1\u001b[1;33m \u001b[0mmarket\u001b[0m \u001b[1;33m=\u001b[0m \u001b[0minvestor\u001b[0m\u001b[1;33m.\u001b[0m\u001b[0mMarketData\u001b[0m\u001b[1;33m(\u001b[0m\u001b[1;33m)\u001b[0m\u001b[1;33m\u001b[0m\u001b[1;33m\u001b[0m\u001b[0m\n\u001b[0m\u001b[0;32m      2\u001b[0m \u001b[0mhis\u001b[0m \u001b[1;33m=\u001b[0m \u001b[0mmarket\u001b[0m\u001b[1;33m.\u001b[0m\u001b[0mget_candlestick\u001b[0m\u001b[1;33m(\u001b[0m\u001b[1;34m'GOU21'\u001b[0m\u001b[1;33m,\u001b[0m \u001b[1;34m'1m'\u001b[0m\u001b[1;33m,\u001b[0m \u001b[1;36m20\u001b[0m\u001b[1;33m,\u001b[0m \u001b[1;34m''\u001b[0m\u001b[1;33m,\u001b[0m \u001b[1;34m''\u001b[0m\u001b[1;33m,\u001b[0m \u001b[1;32mTrue\u001b[0m\u001b[1;33m)\u001b[0m\u001b[1;33m\u001b[0m\u001b[1;33m\u001b[0m\u001b[0m\n\u001b[0;32m      3\u001b[0m \u001b[0mdf\u001b[0m \u001b[1;33m=\u001b[0m \u001b[0mpd\u001b[0m\u001b[1;33m.\u001b[0m\u001b[0mDataFrame\u001b[0m\u001b[1;33m(\u001b[0m\u001b[0mhis\u001b[0m\u001b[1;33m[\u001b[0m\u001b[1;34m'data'\u001b[0m\u001b[1;33m]\u001b[0m\u001b[1;33m,\u001b[0m \u001b[0mcolumns\u001b[0m \u001b[1;33m=\u001b[0m \u001b[1;33m[\u001b[0m\u001b[1;34m'time'\u001b[0m\u001b[1;33m,\u001b[0m \u001b[1;34m'open'\u001b[0m\u001b[1;33m,\u001b[0m \u001b[1;34m'high'\u001b[0m\u001b[1;33m,\u001b[0m \u001b[1;34m'low'\u001b[0m\u001b[1;33m,\u001b[0m \u001b[1;34m'close'\u001b[0m\u001b[1;33m,\u001b[0m \u001b[1;34m'volume'\u001b[0m\u001b[1;33m]\u001b[0m\u001b[1;33m)\u001b[0m\u001b[1;33m\u001b[0m\u001b[1;33m\u001b[0m\u001b[0m\n\u001b[0;32m      4\u001b[0m \u001b[0mdf\u001b[0m\u001b[1;33m[\u001b[0m\u001b[1;34m'time'\u001b[0m\u001b[1;33m]\u001b[0m \u001b[1;33m=\u001b[0m \u001b[0mpd\u001b[0m\u001b[1;33m.\u001b[0m\u001b[0mto_datetime\u001b[0m\u001b[1;33m(\u001b[0m\u001b[0mdf\u001b[0m\u001b[1;33m[\u001b[0m\u001b[1;34m'time'\u001b[0m\u001b[1;33m]\u001b[0m\u001b[1;33m,\u001b[0m \u001b[0munit\u001b[0m\u001b[1;33m=\u001b[0m\u001b[1;34m's'\u001b[0m\u001b[1;33m)\u001b[0m\u001b[1;33m\u001b[0m\u001b[1;33m\u001b[0m\u001b[0m\n",
      "\u001b[1;31mNameError\u001b[0m: name 'investor' is not defined"
     ]
    }
   ],
   "source": [
    "market = investor.MarketData()\n",
    "his = market.get_candlestick('GOU21', '1m', 20, '', '', True)\n",
    "df = pd.DataFrame(his['data'], columns = ['time', 'open', 'high', 'low', 'close', 'volume'])\n",
    "df['time'] = pd.to_datetime(df['time'], unit='s')"
   ]
  },
  {
   "cell_type": "code",
   "execution_count": 11,
   "id": "890793c7",
   "metadata": {},
   "outputs": [
    {
     "ename": "NameError",
     "evalue": "name 'investor' is not defined",
     "output_type": "error",
     "traceback": [
      "\u001b[1;31m---------------------------------------------------------------------------\u001b[0m",
      "\u001b[1;31mNameError\u001b[0m                                 Traceback (most recent call last)",
      "\u001b[1;32m<ipython-input-11-5d321087259d>\u001b[0m in \u001b[0;36m<module>\u001b[1;34m\u001b[0m\n\u001b[1;32m----> 1\u001b[1;33m \u001b[0mmqtt\u001b[0m \u001b[1;33m=\u001b[0m \u001b[0minvestor\u001b[0m\u001b[1;33m.\u001b[0m\u001b[0mMQTTWebsocket\u001b[0m\u001b[1;33m(\u001b[0m\u001b[1;33m)\u001b[0m\u001b[1;33m\u001b[0m\u001b[1;33m\u001b[0m\u001b[0m\n\u001b[0m",
      "\u001b[1;31mNameError\u001b[0m: name 'investor' is not defined"
     ]
    }
   ],
   "source": [
    "mqtt = investor.MQTTWebsocket()"
   ]
  },
  {
   "cell_type": "code",
   "execution_count": 12,
   "id": "fa7bd040",
   "metadata": {},
   "outputs": [],
   "source": [
    "def strategy(df):\n",
    "    df['ema'] = ta.ema(df['close'], length=5)\n",
    "    df['sma'] = ta.sma(df['close'], length=5)\n",
    "    df['signal'] = df['ema'] > df['sma']"
   ]
  },
  {
   "cell_type": "code",
   "execution_count": 13,
   "id": "90d0db2f",
   "metadata": {},
   "outputs": [],
   "source": [
    "buy_log = []\n",
    "sell_log = []"
   ]
  },
  {
   "cell_type": "code",
   "execution_count": 15,
   "id": "f661d0c1",
   "metadata": {},
   "outputs": [
    {
     "ename": "NameError",
     "evalue": "name 'mqtt' is not defined",
     "output_type": "error",
     "traceback": [
      "\u001b[1;31m---------------------------------------------------------------------------\u001b[0m",
      "\u001b[1;31mNameError\u001b[0m                                 Traceback (most recent call last)",
      "\u001b[1;32m<ipython-input-15-7e666989a846>\u001b[0m in \u001b[0;36m<module>\u001b[1;34m\u001b[0m\n\u001b[0;32m     59\u001b[0m     \u001b[0mprint\u001b[0m\u001b[1;33m(\u001b[0m\u001b[1;34m'update'\u001b[0m\u001b[1;33m)\u001b[0m\u001b[1;33m\u001b[0m\u001b[1;33m\u001b[0m\u001b[0m\n\u001b[0;32m     60\u001b[0m \u001b[1;33m\u001b[0m\u001b[0m\n\u001b[1;32m---> 61\u001b[1;33m \u001b[0msub\u001b[0m \u001b[1;33m=\u001b[0m \u001b[0mmqtt\u001b[0m\u001b[1;33m.\u001b[0m\u001b[0msubcribe_candlestick\u001b[0m\u001b[1;33m(\u001b[0m\u001b[1;34m'GOU21'\u001b[0m\u001b[1;33m,\u001b[0m \u001b[0minterval\u001b[0m\u001b[1;33m=\u001b[0m\u001b[1;34m'1m'\u001b[0m\u001b[1;33m,\u001b[0m \u001b[0mon_message\u001b[0m \u001b[1;33m=\u001b[0m \u001b[0mget_realtime\u001b[0m\u001b[1;33m)\u001b[0m\u001b[1;33m\u001b[0m\u001b[1;33m\u001b[0m\u001b[0m\n\u001b[0m\u001b[0;32m     62\u001b[0m \u001b[0msub\u001b[0m\u001b[1;33m.\u001b[0m\u001b[0mstart\u001b[0m\u001b[1;33m(\u001b[0m\u001b[1;33m)\u001b[0m\u001b[1;33m\u001b[0m\u001b[1;33m\u001b[0m\u001b[0m\n",
      "\u001b[1;31mNameError\u001b[0m: name 'mqtt' is not defined"
     ]
    }
   ],
   "source": [
    "def get_realtime(result, subscriber):\n",
    "    global his, data, new_df, df, test_df\n",
    "    \n",
    "    t = result['data']['time']\n",
    "    t = pd.to_datetime(t, unit='s')\n",
    "    \n",
    "    c = result['data']['close']\n",
    "    o = result['data']['open']\n",
    "    h = result['data']['high']\n",
    "    l = result['data']['low']\n",
    "    v = result['data']['volume']\n",
    "    \n",
    "    data = [t, o, h, l, c, v]\n",
    "    a = len(new_df.index)\n",
    "    new_df.loc[a] = data\n",
    "    \n",
    "    if len(new_df) > 2:\n",
    "        \n",
    "        if new_df['time'].iloc[-2] != df['time'].iloc[-1]: # ถ้าข้อมูลสุดท้ายไม่เท่ากับช้อมูลสุดท้าย\n",
    "            \n",
    "            if new_df['time'].iloc[-1] != new_df['time'].iloc[-2]: # เช็คอีกทีก่อนเพิ่มอมูลใหม่\n",
    "                    \n",
    "                    test_df = pd.DataFrame(new_df.iloc[-2]).transpose()\n",
    "                    df = pd.concat([df, test_df])\n",
    "                    strategy(df)\n",
    "                    \n",
    "                    signal = df.iloc[-1, 1]\n",
    "                    per_sig = df.iloc[-2, 1]\n",
    "                    \n",
    "                    # take action\n",
    "                    if (signal == True) & (pre_sig == False):\n",
    "                        print('buy at : ' + str(datetime.now()))\n",
    "                        \n",
    "                        buy_log.append(datetime.now())\n",
    "                        \n",
    "#                         place_order = deri.place_order(\n",
    "#                             symbol = 'GOU21',\n",
    "#                             price = 0.0,\n",
    "#                             volume = 1,\n",
    "#                             price_type = 'SPECIAL_MARKET',\n",
    "#                             side = 'LONG',\n",
    "#                             position = 'AUTO',\n",
    "#                             pin = '192539'\n",
    "#                         )\n",
    "                    elif (signal == False) & (pre_sig == True):\n",
    "                        print('sell at : ', str(datetime.new()))\n",
    "            \n",
    "                        sell_log.append(datetime.now())\n",
    "                \n",
    "#                         place_order = deri.place_order(\n",
    "#                             symbol = 'GOU21',\n",
    "#                             price = 0.0,\n",
    "#                             volume = 1,\n",
    "#                             price_type = 'SPECIAL_MARKET',\n",
    "#                             side = 'SHORT',\n",
    "#                             position = 'AUTO',\n",
    "#                             pin = '192539'\n",
    "#                         )\n",
    "    print('update')\n",
    "\n",
    "sub = mqtt.subcribe_candlestick('GOU21', interval='1m', on_message = get_realtime)\n",
    "sub.start()"
   ]
  },
  {
   "cell_type": "code",
   "execution_count": 16,
   "id": "62aef328",
   "metadata": {},
   "outputs": [
    {
     "ename": "NameError",
     "evalue": "name 'df' is not defined",
     "output_type": "error",
     "traceback": [
      "\u001b[1;31m---------------------------------------------------------------------------\u001b[0m",
      "\u001b[1;31mNameError\u001b[0m                                 Traceback (most recent call last)",
      "\u001b[1;32m<ipython-input-16-00cf07b74dcd>\u001b[0m in \u001b[0;36m<module>\u001b[1;34m\u001b[0m\n\u001b[1;32m----> 1\u001b[1;33m \u001b[0mdf\u001b[0m\u001b[1;33m\u001b[0m\u001b[1;33m\u001b[0m\u001b[0m\n\u001b[0m",
      "\u001b[1;31mNameError\u001b[0m: name 'df' is not defined"
     ]
    }
   ],
   "source": [
    "df"
   ]
  },
  {
   "cell_type": "code",
   "execution_count": 17,
   "id": "90140b6d",
   "metadata": {},
   "outputs": [
    {
     "data": {
      "text/html": [
       "<div>\n",
       "<style scoped>\n",
       "    .dataframe tbody tr th:only-of-type {\n",
       "        vertical-align: middle;\n",
       "    }\n",
       "\n",
       "    .dataframe tbody tr th {\n",
       "        vertical-align: top;\n",
       "    }\n",
       "\n",
       "    .dataframe thead th {\n",
       "        text-align: right;\n",
       "    }\n",
       "</style>\n",
       "<table border=\"1\" class=\"dataframe\">\n",
       "  <thead>\n",
       "    <tr style=\"text-align: right;\">\n",
       "      <th></th>\n",
       "      <th>time</th>\n",
       "      <th>open</th>\n",
       "      <th>high</th>\n",
       "      <th>low</th>\n",
       "      <th>close</th>\n",
       "      <th>volumn</th>\n",
       "    </tr>\n",
       "  </thead>\n",
       "  <tbody>\n",
       "  </tbody>\n",
       "</table>\n",
       "</div>"
      ],
      "text/plain": [
       "Empty DataFrame\n",
       "Columns: [time, open, high, low, close, volumn]\n",
       "Index: []"
      ]
     },
     "execution_count": 17,
     "metadata": {},
     "output_type": "execute_result"
    }
   ],
   "source": [
    "new_df"
   ]
  },
  {
   "cell_type": "code",
   "execution_count": 18,
   "id": "8bc5c69b",
   "metadata": {},
   "outputs": [
    {
     "ename": "NameError",
     "evalue": "name 'sub' is not defined",
     "output_type": "error",
     "traceback": [
      "\u001b[1;31m---------------------------------------------------------------------------\u001b[0m",
      "\u001b[1;31mNameError\u001b[0m                                 Traceback (most recent call last)",
      "\u001b[1;32m<ipython-input-18-210876eec560>\u001b[0m in \u001b[0;36m<module>\u001b[1;34m\u001b[0m\n\u001b[1;32m----> 1\u001b[1;33m \u001b[0msub\u001b[0m\u001b[1;33m.\u001b[0m\u001b[0mstop\u001b[0m\u001b[1;33m(\u001b[0m\u001b[1;33m)\u001b[0m\u001b[1;33m\u001b[0m\u001b[1;33m\u001b[0m\u001b[0m\n\u001b[0m",
      "\u001b[1;31mNameError\u001b[0m: name 'sub' is not defined"
     ]
    }
   ],
   "source": [
    "sub.stop()"
   ]
  },
  {
   "cell_type": "code",
   "execution_count": 19,
   "id": "809c10e4",
   "metadata": {},
   "outputs": [
    {
     "data": {
      "text/plain": [
       "[]"
      ]
     },
     "execution_count": 19,
     "metadata": {},
     "output_type": "execute_result"
    }
   ],
   "source": [
    "buy_log"
   ]
  },
  {
   "cell_type": "code",
   "execution_count": 20,
   "id": "1a346e77",
   "metadata": {},
   "outputs": [
    {
     "data": {
      "text/plain": [
       "[]"
      ]
     },
     "execution_count": 20,
     "metadata": {},
     "output_type": "execute_result"
    }
   ],
   "source": [
    "sell_log"
   ]
  },
  {
   "cell_type": "code",
   "execution_count": null,
   "id": "f2ab5933",
   "metadata": {},
   "outputs": [],
   "source": []
  }
 ],
 "metadata": {
  "kernelspec": {
   "display_name": "Python 3",
   "language": "python",
   "name": "python3"
  },
  "language_info": {
   "codemirror_mode": {
    "name": "ipython",
    "version": 3
   },
   "file_extension": ".py",
   "mimetype": "text/x-python",
   "name": "python",
   "nbconvert_exporter": "python",
   "pygments_lexer": "ipython3",
   "version": "3.8.8"
  }
 },
 "nbformat": 4,
 "nbformat_minor": 5
}
