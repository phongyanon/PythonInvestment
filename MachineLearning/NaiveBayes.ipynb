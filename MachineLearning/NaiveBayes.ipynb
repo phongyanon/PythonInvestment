{
 "cells": [
  {
   "cell_type": "code",
   "execution_count": 1,
   "id": "d36b2263",
   "metadata": {},
   "outputs": [],
   "source": [
    "import numpy as np\n",
    "from numpy.linalg import inv\n",
    "import pandas as pd\n",
    "import matplotlib.pyplot as plt\n",
    "%matplotlib inline"
   ]
  },
  {
   "cell_type": "code",
   "execution_count": 12,
   "id": "4c0b23da",
   "metadata": {},
   "outputs": [
    {
     "data": {
      "text/html": [
       "<div>\n",
       "<style scoped>\n",
       "    .dataframe tbody tr th:only-of-type {\n",
       "        vertical-align: middle;\n",
       "    }\n",
       "\n",
       "    .dataframe tbody tr th {\n",
       "        vertical-align: top;\n",
       "    }\n",
       "\n",
       "    .dataframe thead th {\n",
       "        text-align: right;\n",
       "    }\n",
       "</style>\n",
       "<table border=\"1\" class=\"dataframe\">\n",
       "  <thead>\n",
       "    <tr style=\"text-align: right;\">\n",
       "      <th></th>\n",
       "      <th>department</th>\n",
       "      <th>status</th>\n",
       "      <th>age</th>\n",
       "      <th>salary</th>\n",
       "      <th>count</th>\n",
       "    </tr>\n",
       "  </thead>\n",
       "  <tbody>\n",
       "    <tr>\n",
       "      <th>0</th>\n",
       "      <td>sales</td>\n",
       "      <td>senior</td>\n",
       "      <td>31-35</td>\n",
       "      <td>46-50k</td>\n",
       "      <td>30</td>\n",
       "    </tr>\n",
       "    <tr>\n",
       "      <th>1</th>\n",
       "      <td>sales</td>\n",
       "      <td>junior</td>\n",
       "      <td>26-30</td>\n",
       "      <td>26-30k</td>\n",
       "      <td>40</td>\n",
       "    </tr>\n",
       "    <tr>\n",
       "      <th>2</th>\n",
       "      <td>sales</td>\n",
       "      <td>junior</td>\n",
       "      <td>31-35</td>\n",
       "      <td>31-35k</td>\n",
       "      <td>40</td>\n",
       "    </tr>\n",
       "    <tr>\n",
       "      <th>3</th>\n",
       "      <td>systems</td>\n",
       "      <td>junior</td>\n",
       "      <td>21-25</td>\n",
       "      <td>46-50k</td>\n",
       "      <td>20</td>\n",
       "    </tr>\n",
       "    <tr>\n",
       "      <th>4</th>\n",
       "      <td>systems</td>\n",
       "      <td>senior</td>\n",
       "      <td>31-35</td>\n",
       "      <td>66-70k</td>\n",
       "      <td>5</td>\n",
       "    </tr>\n",
       "    <tr>\n",
       "      <th>5</th>\n",
       "      <td>systems</td>\n",
       "      <td>junior</td>\n",
       "      <td>26-30</td>\n",
       "      <td>46-50k</td>\n",
       "      <td>3</td>\n",
       "    </tr>\n",
       "    <tr>\n",
       "      <th>6</th>\n",
       "      <td>systems</td>\n",
       "      <td>senior</td>\n",
       "      <td>41-45</td>\n",
       "      <td>66-70k</td>\n",
       "      <td>3</td>\n",
       "    </tr>\n",
       "    <tr>\n",
       "      <th>7</th>\n",
       "      <td>marketing</td>\n",
       "      <td>senior</td>\n",
       "      <td>36-40</td>\n",
       "      <td>46-50k</td>\n",
       "      <td>10</td>\n",
       "    </tr>\n",
       "    <tr>\n",
       "      <th>8</th>\n",
       "      <td>marketing</td>\n",
       "      <td>junior</td>\n",
       "      <td>31-35</td>\n",
       "      <td>41-45k</td>\n",
       "      <td>4</td>\n",
       "    </tr>\n",
       "    <tr>\n",
       "      <th>9</th>\n",
       "      <td>secretary</td>\n",
       "      <td>senior</td>\n",
       "      <td>46-50</td>\n",
       "      <td>36-40k</td>\n",
       "      <td>4</td>\n",
       "    </tr>\n",
       "    <tr>\n",
       "      <th>10</th>\n",
       "      <td>secretary</td>\n",
       "      <td>junior</td>\n",
       "      <td>26-30</td>\n",
       "      <td>26-30k</td>\n",
       "      <td>6</td>\n",
       "    </tr>\n",
       "  </tbody>\n",
       "</table>\n",
       "</div>"
      ],
      "text/plain": [
       "   department  status    age  salary  count\n",
       "0       sales  senior  31-35  46-50k     30\n",
       "1       sales  junior  26-30  26-30k     40\n",
       "2       sales  junior  31-35  31-35k     40\n",
       "3     systems  junior  21-25  46-50k     20\n",
       "4     systems  senior  31-35  66-70k      5\n",
       "5     systems  junior  26-30  46-50k      3\n",
       "6     systems  senior  41-45  66-70k      3\n",
       "7   marketing  senior  36-40  46-50k     10\n",
       "8   marketing  junior  31-35  41-45k      4\n",
       "9   secretary  senior  46-50  36-40k      4\n",
       "10  secretary  junior  26-30  26-30k      6"
      ]
     },
     "execution_count": 12,
     "metadata": {},
     "output_type": "execute_result"
    }
   ],
   "source": [
    "# Question department = systems, age = 26-30, salary = 46-50, status = ?\n",
    "data = pd.read_csv('NaiveBayesExample.csv')\n",
    "data"
   ]
  },
  {
   "cell_type": "code",
   "execution_count": 36,
   "id": "fd06034c",
   "metadata": {},
   "outputs": [
    {
     "data": {
      "text/plain": [
       "0.3151515151515151"
      ]
     },
     "execution_count": 36,
     "metadata": {},
     "output_type": "execute_result"
    }
   ],
   "source": [
    "P_status_senior = data[data['status'] == 'senior']['count'].sum() / data['count'].sum()\n",
    "P_status_junior = data[data['status'] == 'junior']['count'].sum() / data['count'].sum()\n",
    "P_status_senior"
   ]
  },
  {
   "cell_type": "code",
   "execution_count": 32,
   "id": "2191f06b",
   "metadata": {},
   "outputs": [],
   "source": [
    "# Departmnet [sales, systems, marketing, secretary]\n",
    "\n",
    "senior_count = data[data['status'] == 'senior']['count'].sum()\n",
    "P_sales_senior = data.loc[(data['department'] == 'sales') & (data['status'] == 'senior')]['count'].sum() / senior_count\n",
    "P_systems_senior = data.loc[(data['department'] == 'systems') & (data['status'] == 'senior')]['count'].sum() / senior_count\n",
    "P_marketing_senior = data.loc[(data['department'] == 'marketing') & (data['status'] == 'senior')]['count'].sum() / senior_count\n",
    "P_secretary_senior = data.loc[(data['department'] == 'secretary') & (data['status'] == 'senior')]['count'].sum() / senior_count\n",
    "\n",
    "junior_count = data[data['status'] == 'junior']['count'].sum()\n",
    "P_sales_junior = data.loc[(data['department'] == 'sales') & (data['status'] == 'junior')]['count'].sum() / junior_count\n",
    "P_systems_junior = data.loc[(data['department'] == 'systems') & (data['status'] == 'junior')]['count'].sum() / junior_count\n",
    "P_marketing_junior = data.loc[(data['department'] == 'marketing') & (data['status'] == 'junior')]['count'].sum()  / junior_count\n",
    "P_secretary_junior = data.loc[(data['department'] == 'secretary') & (data['status'] == 'junior')]['count'].sum() / junior_count\n",
    "\n",
    "# Intereset only P_systems_senior and P_systems_junior follow the question."
   ]
  },
  {
   "cell_type": "code",
   "execution_count": 38,
   "id": "6b53d011",
   "metadata": {},
   "outputs": [],
   "source": [
    "# Age\n",
    "\n",
    "P_21_25_senior = data.loc[(data['age'] == '21-25') & (data['status'] == 'senior')]['count'].sum() / senior_count\n",
    "P_26_30_senior = data.loc[(data['age'] == '26-30') & (data['status'] == 'senior')]['count'].sum() / senior_count\n",
    "P_31_35_senior = data.loc[(data['age'] == '31-35') & (data['status'] == 'senior')]['count'].sum() / senior_count\n",
    "P_36_40_senior = data.loc[(data['age'] == '36-40') & (data['status'] == 'senior')]['count'].sum() / senior_count\n",
    "P_41_45_senior = data.loc[(data['age'] == '41-45') & (data['status'] == 'senior')]['count'].sum() / senior_count\n",
    "P_46_50_senior = data.loc[(data['age'] == '46-50') & (data['status'] == 'senior')]['count'].sum() / senior_count\n",
    "\n",
    "P_21_25_junior = data.loc[(data['age'] == '21-25') & (data['status'] == 'junior')]['count'].sum() / junior_count\n",
    "P_26_30_junior = data.loc[(data['age'] == '26-30') & (data['status'] == 'junior')]['count'].sum() / junior_count\n",
    "P_31_35_junior = data.loc[(data['age'] == '31-35') & (data['status'] == 'junior')]['count'].sum() / junior_count\n",
    "P_36_40_junior = data.loc[(data['age'] == '36-40') & (data['status'] == 'junior')]['count'].sum() / junior_count\n",
    "P_41_45_junior = data.loc[(data['age'] == '41-45') & (data['status'] == 'junior')]['count'].sum() / junior_count\n",
    "P_46_50_junior = data.loc[(data['age'] == '46-50') & (data['status'] == 'junior')]['count'].sum() / junior_count\n",
    "\n",
    "# Intereset only P_26_30_senior and P_26_30_junior follow the question."
   ]
  },
  {
   "cell_type": "code",
   "execution_count": 39,
   "id": "a7203acd",
   "metadata": {},
   "outputs": [],
   "source": [
    "# Salary\n",
    "\n",
    "P_salary_46_50_senior = data.loc[(data['salary'] == '46-50k') & (data['status'] == 'senior')]['count'].sum() / senior_count\n",
    "P_salary_46_50_junior = data.loc[(data['salary'] == '46-50k') & (data['status'] == 'junior')]['count'].sum() / junior_count\n",
    "\n",
    "# Intereset only P_salary_46_50_senior and P_salary_46_50_junior follow the question."
   ]
  },
  {
   "cell_type": "code",
   "execution_count": 43,
   "id": "adde8e8b",
   "metadata": {},
   "outputs": [
    {
     "name": "stdout",
     "output_type": "stream",
     "text": [
      "0.0 0.012302997078625555\n"
     ]
    }
   ],
   "source": [
    "# Consider P(senior | systems, 26-30, 46-50k)\n",
    "P_senior_ans = P_status_senior * P_systems_senior * P_26_30_senior * P_salary_46_50_senior\n",
    "\n",
    "# Consider P(junior | systems, 26-30, 46-50k)\n",
    "P_junior_ans = P_status_junior * P_systems_junior * P_26_30_junior * P_salary_46_50_junior\n",
    "\n",
    "# P_junior_ans มีความน่าจะเป็นมากสุดจึงได้คำตอบว่า status = junior\n",
    "print(P_senior_ans, P_junior_ans)"
   ]
  },
  {
   "cell_type": "code",
   "execution_count": 44,
   "id": "7dc912ca",
   "metadata": {},
   "outputs": [
    {
     "data": {
      "text/plain": [
       "0.00024134580663891572"
      ]
     },
     "execution_count": 44,
     "metadata": {},
     "output_type": "execute_result"
    }
   ],
   "source": [
    "# P_senior_ans = 0 มีวิธีป้องกันไม่ให้ผลพยากรณ์เป็น 0\n",
    "# วิธีที่ 1 ให้บวกทุก P() ด้วยค่าเล็กๆ โดยใช้ 1/เลขที่เยอะสุดใน P()\n",
    "# ในตัวอย่างเลขเยอะสุดคือ 165 ดังนั้นใช้ 1/165 จะได้\n",
    "\n",
    "x = 1/165\n",
    "P_senior_ans = (P_status_senior+x) * (P_systems_senior+x) * (P_26_30_senior+x) * (P_salary_46_50_senior+x)\n",
    "P_senior_ans"
   ]
  },
  {
   "cell_type": "code",
   "execution_count": 47,
   "id": "22d4276a",
   "metadata": {},
   "outputs": [
    {
     "data": {
      "text/plain": [
       "(-8.329279770614406, -4.397912381356336)"
      ]
     },
     "execution_count": 47,
     "metadata": {},
     "output_type": "execute_result"
    }
   ],
   "source": [
    "# วิธีที่ 2 take log ใช้กรณีเลขติดทศนิยมมากจน memory ไม่พอจนโดนปัดลง\n",
    "np.log(P_senior_ans), np.log(P_junior_ans)"
   ]
  },
  {
   "cell_type": "code",
   "execution_count": null,
   "id": "0defb2f3",
   "metadata": {},
   "outputs": [],
   "source": []
  }
 ],
 "metadata": {
  "kernelspec": {
   "display_name": "Python 3",
   "language": "python",
   "name": "python3"
  },
  "language_info": {
   "codemirror_mode": {
    "name": "ipython",
    "version": 3
   },
   "file_extension": ".py",
   "mimetype": "text/x-python",
   "name": "python",
   "nbconvert_exporter": "python",
   "pygments_lexer": "ipython3",
   "version": "3.8.8"
  }
 },
 "nbformat": 4,
 "nbformat_minor": 5
}
