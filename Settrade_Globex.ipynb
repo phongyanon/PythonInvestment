{
 "cells": [
  {
   "cell_type": "markdown",
   "id": "4f853463",
   "metadata": {},
   "source": [
    "### Settrade Open API\n",
    "https://developer.settrade.com/open-api/document"
   ]
  },
  {
   "cell_type": "code",
   "execution_count": 24,
   "id": "f893373e",
   "metadata": {},
   "outputs": [
    {
     "data": {
      "text/plain": [
       "True"
      ]
     },
     "execution_count": 24,
     "metadata": {},
     "output_type": "execute_result"
    }
   ],
   "source": [
    "import os\n",
    "from dotenv import load_dotenv\n",
    "import settrade.openapi\n",
    "from settrade.openapi import Investor\n",
    "import pandas as pd\n",
    "import json\n",
    "import time\n",
    "import threading\n",
    "load_dotenv()"
   ]
  },
  {
   "cell_type": "code",
   "execution_count": 28,
   "id": "ec2f2330",
   "metadata": {},
   "outputs": [],
   "source": [
    "GLOBLEX_ID = os.getenv('GLOBLEX_ID')\n",
    "SETTRADE_APP_ID = os.getenv('SETTRADE_APP_ID')\n",
    "SETTRADE_APP_SECRET = os.getenv('SETTRADE_APP_SECRET')\n",
    "# GLOBLEX_ID, SETTRADE_APP_ID, SETTRADE_APP_SECRET"
   ]
  },
  {
   "cell_type": "code",
   "execution_count": 30,
   "id": "4c8c2f2d",
   "metadata": {},
   "outputs": [],
   "source": [
    "investor = Investor(\n",
    "    app_id = SETTRADE_APP_ID,\n",
    "    app_secret = SETTRADE_APP_SECRET,\n",
    "    broker_id = 'SANDBOX',\n",
    "    app_code = 'SANDBOX',\n",
    "    is_auto_queue = False\n",
    ")"
   ]
  },
  {
   "cell_type": "code",
   "execution_count": 31,
   "id": "fbd9184a",
   "metadata": {},
   "outputs": [],
   "source": [
    "deri = investor.Derivatives(account_no = '980421-D')\n",
    "account_info = deri.get_account_info()"
   ]
  },
  {
   "cell_type": "code",
   "execution_count": 32,
   "id": "60cf7a60",
   "metadata": {},
   "outputs": [
    {
     "data": {
      "text/plain": [
       "{'success': True,\n",
       " 'status_code': 200,\n",
       " 'data': {'call_force_flag': 'No',\n",
       "  'call_force_margin': 0.0,\n",
       "  'cash_balance': 10000000.0,\n",
       "  'credit_line': 10000000.0,\n",
       "  'equity': 10000000.0,\n",
       "  'excess_equity': 10000000.0,\n",
       "  'total_mm': 0.0,\n",
       "  'total_mr': 0.0},\n",
       " 'message': ''}"
      ]
     },
     "execution_count": 32,
     "metadata": {},
     "output_type": "execute_result"
    }
   ],
   "source": [
    "account_info"
   ]
  },
  {
   "cell_type": "code",
   "execution_count": 11,
   "id": "4596801a",
   "metadata": {},
   "outputs": [],
   "source": [
    "df = pd.DataFrame.from_dict(account_info)"
   ]
  },
  {
   "cell_type": "code",
   "execution_count": 12,
   "id": "37ef95d8",
   "metadata": {},
   "outputs": [
    {
     "data": {
      "text/html": [
       "<div>\n",
       "<style scoped>\n",
       "    .dataframe tbody tr th:only-of-type {\n",
       "        vertical-align: middle;\n",
       "    }\n",
       "\n",
       "    .dataframe tbody tr th {\n",
       "        vertical-align: top;\n",
       "    }\n",
       "\n",
       "    .dataframe thead th {\n",
       "        text-align: right;\n",
       "    }\n",
       "</style>\n",
       "<table border=\"1\" class=\"dataframe\">\n",
       "  <thead>\n",
       "    <tr style=\"text-align: right;\">\n",
       "      <th></th>\n",
       "      <th>success</th>\n",
       "      <th>status_code</th>\n",
       "      <th>data</th>\n",
       "      <th>message</th>\n",
       "    </tr>\n",
       "  </thead>\n",
       "  <tbody>\n",
       "    <tr>\n",
       "      <th>call_force_flag</th>\n",
       "      <td>True</td>\n",
       "      <td>200</td>\n",
       "      <td>No</td>\n",
       "      <td></td>\n",
       "    </tr>\n",
       "    <tr>\n",
       "      <th>call_force_margin</th>\n",
       "      <td>True</td>\n",
       "      <td>200</td>\n",
       "      <td>0.0</td>\n",
       "      <td></td>\n",
       "    </tr>\n",
       "    <tr>\n",
       "      <th>cash_balance</th>\n",
       "      <td>True</td>\n",
       "      <td>200</td>\n",
       "      <td>10000000.0</td>\n",
       "      <td></td>\n",
       "    </tr>\n",
       "    <tr>\n",
       "      <th>credit_line</th>\n",
       "      <td>True</td>\n",
       "      <td>200</td>\n",
       "      <td>10000000.0</td>\n",
       "      <td></td>\n",
       "    </tr>\n",
       "    <tr>\n",
       "      <th>equity</th>\n",
       "      <td>True</td>\n",
       "      <td>200</td>\n",
       "      <td>10000000.0</td>\n",
       "      <td></td>\n",
       "    </tr>\n",
       "    <tr>\n",
       "      <th>excess_equity</th>\n",
       "      <td>True</td>\n",
       "      <td>200</td>\n",
       "      <td>10000000.0</td>\n",
       "      <td></td>\n",
       "    </tr>\n",
       "    <tr>\n",
       "      <th>total_mm</th>\n",
       "      <td>True</td>\n",
       "      <td>200</td>\n",
       "      <td>0.0</td>\n",
       "      <td></td>\n",
       "    </tr>\n",
       "    <tr>\n",
       "      <th>total_mr</th>\n",
       "      <td>True</td>\n",
       "      <td>200</td>\n",
       "      <td>0.0</td>\n",
       "      <td></td>\n",
       "    </tr>\n",
       "  </tbody>\n",
       "</table>\n",
       "</div>"
      ],
      "text/plain": [
       "                   success  status_code        data message\n",
       "call_force_flag       True          200          No        \n",
       "call_force_margin     True          200         0.0        \n",
       "cash_balance          True          200  10000000.0        \n",
       "credit_line           True          200  10000000.0        \n",
       "equity                True          200  10000000.0        \n",
       "excess_equity         True          200  10000000.0        \n",
       "total_mm              True          200         0.0        \n",
       "total_mr              True          200         0.0        "
      ]
     },
     "execution_count": 12,
     "metadata": {},
     "output_type": "execute_result"
    }
   ],
   "source": [
    "df"
   ]
  },
  {
   "cell_type": "code",
   "execution_count": 13,
   "id": "cf9037b2",
   "metadata": {},
   "outputs": [
    {
     "data": {
      "text/plain": [
       "{'success': True, 'status_code': 200, 'data': [], 'message': ''}"
      ]
     },
     "execution_count": 13,
     "metadata": {},
     "output_type": "execute_result"
    }
   ],
   "source": [
    "order_list = deri.get_orders()\n",
    "order_list"
   ]
  },
  {
   "cell_type": "code",
   "execution_count": 14,
   "id": "7292458b",
   "metadata": {},
   "outputs": [
    {
     "data": {
      "text/html": [
       "<div>\n",
       "<style scoped>\n",
       "    .dataframe tbody tr th:only-of-type {\n",
       "        vertical-align: middle;\n",
       "    }\n",
       "\n",
       "    .dataframe tbody tr th {\n",
       "        vertical-align: top;\n",
       "    }\n",
       "\n",
       "    .dataframe thead th {\n",
       "        text-align: right;\n",
       "    }\n",
       "</style>\n",
       "<table border=\"1\" class=\"dataframe\">\n",
       "  <thead>\n",
       "    <tr style=\"text-align: right;\">\n",
       "      <th></th>\n",
       "      <th>success</th>\n",
       "      <th>status_code</th>\n",
       "      <th>data</th>\n",
       "      <th>message</th>\n",
       "    </tr>\n",
       "  </thead>\n",
       "  <tbody>\n",
       "  </tbody>\n",
       "</table>\n",
       "</div>"
      ],
      "text/plain": [
       "Empty DataFrame\n",
       "Columns: [success, status_code, data, message]\n",
       "Index: []"
      ]
     },
     "execution_count": 14,
     "metadata": {},
     "output_type": "execute_result"
    }
   ],
   "source": [
    "data = pd.DataFrame.from_dict(order_list)\n",
    "data"
   ]
  },
  {
   "cell_type": "code",
   "execution_count": 15,
   "id": "2226a4ef",
   "metadata": {},
   "outputs": [
    {
     "data": {
      "text/plain": [
       "{'success': False,\n",
       " 'status_code': 400,\n",
       " 'data': {},\n",
       " 'message': '{\"message\":\"U002: Invalid Pin Number\",\"code\":\"GWD-01\"}'}"
      ]
     },
     "execution_count": 15,
     "metadata": {},
     "output_type": "execute_result"
    }
   ],
   "source": [
    "# Place Order\n",
    "place_order = deri.place_order(\n",
    "    symbol = 'ADTU21',\n",
    "    price = 61.37,\n",
    "    volume = 1,\n",
    "    side = 'LONG',\n",
    "    position = 'OPEN',\n",
    "    pin = '192539'\n",
    ")\n",
    "\n",
    "place_order"
   ]
  },
  {
   "cell_type": "code",
   "execution_count": 16,
   "id": "48342259",
   "metadata": {},
   "outputs": [
    {
     "data": {
      "text/plain": [
       "{'success': True, 'status_code': 200, 'data': [], 'message': ''}"
      ]
     },
     "execution_count": 16,
     "metadata": {},
     "output_type": "execute_result"
    }
   ],
   "source": [
    "# Portfolio\n",
    "portfolio = deri.get_portfolio()\n",
    "portfolio"
   ]
  },
  {
   "cell_type": "code",
   "execution_count": 17,
   "id": "9ab76da9",
   "metadata": {},
   "outputs": [
    {
     "data": {
      "text/plain": [
       "{'success': False,\n",
       " 'data': {},\n",
       " 'message': \"get_investor_derivatives_order(): incompatible function arguments. The following argument types are supported:\\n    1. (arg0: dict, arg1: str, arg2: int) -> dict\\n\\nInvoked with: {'channel_id': 'nkfe8NOfjlLLjXbw,098,SANDBOX', 'configuration': {'enable_queue': False, 'daemon_type': 'STAND_ALONE', 'max_torelation': 0, 'rate_limit': 0}}, '980421-D', ''\",\n",
       " 'status_code': 500}"
      ]
     },
     "execution_count": 17,
     "metadata": {},
     "output_type": "execute_result"
    }
   ],
   "source": [
    "# Get Order\n",
    "order_info = deri.get_order(order_no = '')\n",
    "order_info"
   ]
  },
  {
   "cell_type": "code",
   "execution_count": 22,
   "id": "0de6f3b4",
   "metadata": {},
   "outputs": [
    {
     "ename": "NameError",
     "evalue": "name 'cencel_order' is not defined",
     "output_type": "error",
     "traceback": [
      "\u001b[1;31m---------------------------------------------------------------------------\u001b[0m",
      "\u001b[1;31mNameError\u001b[0m                                 Traceback (most recent call last)",
      "\u001b[1;32m<ipython-input-22-ef212cbd138e>\u001b[0m in \u001b[0;36m<module>\u001b[1;34m\u001b[0m\n\u001b[0;32m      1\u001b[0m \u001b[0mcancel_order\u001b[0m \u001b[1;33m=\u001b[0m \u001b[0mderi\u001b[0m\u001b[1;33m.\u001b[0m\u001b[0mcancel_order\u001b[0m\u001b[1;33m(\u001b[0m\u001b[0morder_no\u001b[0m \u001b[1;33m=\u001b[0m \u001b[1;34m''\u001b[0m\u001b[1;33m,\u001b[0m \u001b[0mpin\u001b[0m \u001b[1;33m=\u001b[0m \u001b[1;34m'123456'\u001b[0m\u001b[1;33m)\u001b[0m\u001b[1;33m\u001b[0m\u001b[1;33m\u001b[0m\u001b[0m\n\u001b[1;32m----> 2\u001b[1;33m \u001b[0mcencel_order\u001b[0m\u001b[1;33m\u001b[0m\u001b[1;33m\u001b[0m\u001b[0m\n\u001b[0m",
      "\u001b[1;31mNameError\u001b[0m: name 'cencel_order' is not defined"
     ]
    }
   ],
   "source": [
    "cancel_order = deri.cancel_order(order_no = '', pin = '123456')\n",
    "cencel_order"
   ]
  },
  {
   "cell_type": "code",
   "execution_count": 23,
   "id": "111d2b22",
   "metadata": {},
   "outputs": [
    {
     "ename": "AttributeError",
     "evalue": "'InvestorDerivatives' object has no attribute 'get_trade'",
     "output_type": "error",
     "traceback": [
      "\u001b[1;31m---------------------------------------------------------------------------\u001b[0m",
      "\u001b[1;31mAttributeError\u001b[0m                            Traceback (most recent call last)",
      "\u001b[1;32m<ipython-input-23-d77aaecdba69>\u001b[0m in \u001b[0;36m<module>\u001b[1;34m\u001b[0m\n\u001b[1;32m----> 1\u001b[1;33m \u001b[0mtrade_list\u001b[0m \u001b[1;33m=\u001b[0m \u001b[0mderi\u001b[0m\u001b[1;33m.\u001b[0m\u001b[0mget_trade\u001b[0m\u001b[1;33m(\u001b[0m\u001b[1;33m)\u001b[0m\u001b[1;33m\u001b[0m\u001b[1;33m\u001b[0m\u001b[0m\n\u001b[0m\u001b[0;32m      2\u001b[0m \u001b[0mtrade_list\u001b[0m\u001b[1;33m\u001b[0m\u001b[1;33m\u001b[0m\u001b[0m\n",
      "\u001b[1;31mAttributeError\u001b[0m: 'InvestorDerivatives' object has no attribute 'get_trade'"
     ]
    }
   ],
   "source": [
    "trade_list = deri.get_trade()\n",
    "trade_list"
   ]
  },
  {
   "cell_type": "code",
   "execution_count": null,
   "id": "cc3fc8b1",
   "metadata": {},
   "outputs": [],
   "source": []
  }
 ],
 "metadata": {
  "kernelspec": {
   "display_name": "Python 3",
   "language": "python",
   "name": "python3"
  },
  "language_info": {
   "codemirror_mode": {
    "name": "ipython",
    "version": 3
   },
   "file_extension": ".py",
   "mimetype": "text/x-python",
   "name": "python",
   "nbconvert_exporter": "python",
   "pygments_lexer": "ipython3",
   "version": "3.8.8"
  }
 },
 "nbformat": 4,
 "nbformat_minor": 5
}
