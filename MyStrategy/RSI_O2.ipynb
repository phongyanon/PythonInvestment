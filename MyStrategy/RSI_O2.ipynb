{
 "cells": [
  {
   "cell_type": "markdown",
   "id": "279ab3da",
   "metadata": {},
   "source": [
    "### RSI _Opposite_Order ( RSI_O2 ) Strategy"
   ]
  },
  {
   "cell_type": "code",
   "execution_count": 1,
   "id": "c14fb0ee",
   "metadata": {},
   "outputs": [],
   "source": [
    "import time\n",
    "from datetime import datetime\n",
    "\n",
    "import pandas as pd\n",
    "import pandas_ta as ta\n",
    "import numpy as np"
   ]
  },
  {
   "cell_type": "markdown",
   "id": "3c0c0fc6",
   "metadata": {},
   "source": [
    "### import csv"
   ]
  },
  {
   "cell_type": "code",
   "execution_count": 11,
   "id": "164686dc",
   "metadata": {},
   "outputs": [
    {
     "data": {
      "text/html": [
       "<div>\n",
       "<style scoped>\n",
       "    .dataframe tbody tr th:only-of-type {\n",
       "        vertical-align: middle;\n",
       "    }\n",
       "\n",
       "    .dataframe tbody tr th {\n",
       "        vertical-align: top;\n",
       "    }\n",
       "\n",
       "    .dataframe thead th {\n",
       "        text-align: right;\n",
       "    }\n",
       "</style>\n",
       "<table border=\"1\" class=\"dataframe\">\n",
       "  <thead>\n",
       "    <tr style=\"text-align: right;\">\n",
       "      <th></th>\n",
       "      <th>timestamp</th>\n",
       "      <th>open</th>\n",
       "      <th>high</th>\n",
       "      <th>low</th>\n",
       "      <th>close</th>\n",
       "      <th>adj close</th>\n",
       "      <th>volumn</th>\n",
       "    </tr>\n",
       "  </thead>\n",
       "  <tbody>\n",
       "    <tr>\n",
       "      <th>7212</th>\n",
       "      <td>2022-03-01 15:45:00+00:00</td>\n",
       "      <td>1.114330</td>\n",
       "      <td>1.114579</td>\n",
       "      <td>1.113586</td>\n",
       "      <td>1.114206</td>\n",
       "      <td>1.114206</td>\n",
       "      <td>0</td>\n",
       "    </tr>\n",
       "    <tr>\n",
       "      <th>7213</th>\n",
       "      <td>2022-03-01 16:00:00+00:00</td>\n",
       "      <td>1.114455</td>\n",
       "      <td>1.114579</td>\n",
       "      <td>1.113462</td>\n",
       "      <td>1.113462</td>\n",
       "      <td>1.113462</td>\n",
       "      <td>0</td>\n",
       "    </tr>\n",
       "    <tr>\n",
       "      <th>7214</th>\n",
       "      <td>2022-03-01 16:15:00+00:00</td>\n",
       "      <td>1.113090</td>\n",
       "      <td>1.113090</td>\n",
       "      <td>1.111358</td>\n",
       "      <td>1.111605</td>\n",
       "      <td>1.111605</td>\n",
       "      <td>0</td>\n",
       "    </tr>\n",
       "    <tr>\n",
       "      <th>7215</th>\n",
       "      <td>2022-03-01 16:30:00+00:00</td>\n",
       "      <td>1.111729</td>\n",
       "      <td>1.111976</td>\n",
       "      <td>1.110741</td>\n",
       "      <td>1.110741</td>\n",
       "      <td>1.110741</td>\n",
       "      <td>0</td>\n",
       "    </tr>\n",
       "    <tr>\n",
       "      <th>7216</th>\n",
       "      <td>2022-03-01 16:45:00+00:00</td>\n",
       "      <td>1.111111</td>\n",
       "      <td>1.111111</td>\n",
       "      <td>1.110494</td>\n",
       "      <td>1.110864</td>\n",
       "      <td>1.110864</td>\n",
       "      <td>0</td>\n",
       "    </tr>\n",
       "  </tbody>\n",
       "</table>\n",
       "</div>"
      ],
      "text/plain": [
       "                      timestamp      open      high       low     close  \\\n",
       "7212  2022-03-01 15:45:00+00:00  1.114330  1.114579  1.113586  1.114206   \n",
       "7213  2022-03-01 16:00:00+00:00  1.114455  1.114579  1.113462  1.113462   \n",
       "7214  2022-03-01 16:15:00+00:00  1.113090  1.113090  1.111358  1.111605   \n",
       "7215  2022-03-01 16:30:00+00:00  1.111729  1.111976  1.110741  1.110741   \n",
       "7216  2022-03-01 16:45:00+00:00  1.111111  1.111111  1.110494  1.110864   \n",
       "\n",
       "      adj close  volumn  \n",
       "7212   1.114206       0  \n",
       "7213   1.113462       0  \n",
       "7214   1.111605       0  \n",
       "7215   1.110741       0  \n",
       "7216   1.110864       0  "
      ]
     },
     "execution_count": 11,
     "metadata": {},
     "output_type": "execute_result"
    }
   ],
   "source": [
    "data = pd.read_csv('EURUSD_15m.csv')\n",
    "data.tail()"
   ]
  },
  {
   "cell_type": "markdown",
   "id": "980324b7",
   "metadata": {},
   "source": [
    "### create strategy"
   ]
  },
  {
   "cell_type": "code",
   "execution_count": 12,
   "id": "1a033069",
   "metadata": {},
   "outputs": [],
   "source": [
    "rsi_o2 = ta.Strategy(\n",
    "    name = 'RSI 14 Days for opposite trade',\n",
    "    description = 'RSI for alert',\n",
    "    ta = [\n",
    "        {'kind': 'ema', 'length': 200},\n",
    "        {'kind': 'rsi', 'length': 24},\n",
    "        {'kind': 'atr', 'length': 14}\n",
    "    ]\n",
    ")"
   ]
  },
  {
   "cell_type": "code",
   "execution_count": 13,
   "id": "eb8d7d09",
   "metadata": {},
   "outputs": [
    {
     "data": {
      "text/html": [
       "<div>\n",
       "<style scoped>\n",
       "    .dataframe tbody tr th:only-of-type {\n",
       "        vertical-align: middle;\n",
       "    }\n",
       "\n",
       "    .dataframe tbody tr th {\n",
       "        vertical-align: top;\n",
       "    }\n",
       "\n",
       "    .dataframe thead th {\n",
       "        text-align: right;\n",
       "    }\n",
       "</style>\n",
       "<table border=\"1\" class=\"dataframe\">\n",
       "  <thead>\n",
       "    <tr style=\"text-align: right;\">\n",
       "      <th></th>\n",
       "      <th>timestamp</th>\n",
       "      <th>open</th>\n",
       "      <th>high</th>\n",
       "      <th>low</th>\n",
       "      <th>close</th>\n",
       "      <th>adj close</th>\n",
       "      <th>volumn</th>\n",
       "      <th>EMA_200</th>\n",
       "      <th>RSI_24</th>\n",
       "      <th>ATRr_14</th>\n",
       "    </tr>\n",
       "  </thead>\n",
       "  <tbody>\n",
       "    <tr>\n",
       "      <th>7212</th>\n",
       "      <td>2022-03-01 15:45:00+00:00</td>\n",
       "      <td>1.114330</td>\n",
       "      <td>1.114579</td>\n",
       "      <td>1.113586</td>\n",
       "      <td>1.114206</td>\n",
       "      <td>1.114206</td>\n",
       "      <td>0</td>\n",
       "      <td>1.120351</td>\n",
       "      <td>37.721223</td>\n",
       "      <td>0.001175</td>\n",
       "    </tr>\n",
       "    <tr>\n",
       "      <th>7213</th>\n",
       "      <td>2022-03-01 16:00:00+00:00</td>\n",
       "      <td>1.114455</td>\n",
       "      <td>1.114579</td>\n",
       "      <td>1.113462</td>\n",
       "      <td>1.113462</td>\n",
       "      <td>1.113462</td>\n",
       "      <td>0</td>\n",
       "      <td>1.120283</td>\n",
       "      <td>35.956961</td>\n",
       "      <td>0.001171</td>\n",
       "    </tr>\n",
       "    <tr>\n",
       "      <th>7214</th>\n",
       "      <td>2022-03-01 16:15:00+00:00</td>\n",
       "      <td>1.113090</td>\n",
       "      <td>1.113090</td>\n",
       "      <td>1.111358</td>\n",
       "      <td>1.111605</td>\n",
       "      <td>1.111605</td>\n",
       "      <td>0</td>\n",
       "      <td>1.120197</td>\n",
       "      <td>32.055469</td>\n",
       "      <td>0.001237</td>\n",
       "    </tr>\n",
       "    <tr>\n",
       "      <th>7215</th>\n",
       "      <td>2022-03-01 16:30:00+00:00</td>\n",
       "      <td>1.111729</td>\n",
       "      <td>1.111976</td>\n",
       "      <td>1.110741</td>\n",
       "      <td>1.110741</td>\n",
       "      <td>1.110741</td>\n",
       "      <td>0</td>\n",
       "      <td>1.120102</td>\n",
       "      <td>30.450301</td>\n",
       "      <td>0.001237</td>\n",
       "    </tr>\n",
       "    <tr>\n",
       "      <th>7216</th>\n",
       "      <td>2022-03-01 16:45:00+00:00</td>\n",
       "      <td>1.111111</td>\n",
       "      <td>1.111111</td>\n",
       "      <td>1.110494</td>\n",
       "      <td>1.110864</td>\n",
       "      <td>1.110864</td>\n",
       "      <td>0</td>\n",
       "      <td>1.120011</td>\n",
       "      <td>30.965683</td>\n",
       "      <td>0.001193</td>\n",
       "    </tr>\n",
       "  </tbody>\n",
       "</table>\n",
       "</div>"
      ],
      "text/plain": [
       "                      timestamp      open      high       low     close  \\\n",
       "7212  2022-03-01 15:45:00+00:00  1.114330  1.114579  1.113586  1.114206   \n",
       "7213  2022-03-01 16:00:00+00:00  1.114455  1.114579  1.113462  1.113462   \n",
       "7214  2022-03-01 16:15:00+00:00  1.113090  1.113090  1.111358  1.111605   \n",
       "7215  2022-03-01 16:30:00+00:00  1.111729  1.111976  1.110741  1.110741   \n",
       "7216  2022-03-01 16:45:00+00:00  1.111111  1.111111  1.110494  1.110864   \n",
       "\n",
       "      adj close  volumn   EMA_200     RSI_24   ATRr_14  \n",
       "7212   1.114206       0  1.120351  37.721223  0.001175  \n",
       "7213   1.113462       0  1.120283  35.956961  0.001171  \n",
       "7214   1.111605       0  1.120197  32.055469  0.001237  \n",
       "7215   1.110741       0  1.120102  30.450301  0.001237  \n",
       "7216   1.110864       0  1.120011  30.965683  0.001193  "
      ]
     },
     "execution_count": 13,
     "metadata": {},
     "output_type": "execute_result"
    }
   ],
   "source": [
    "df = data.copy()\n",
    "df.ta.strategy(rsi_o2)\n",
    "df.tail()"
   ]
  },
  {
   "cell_type": "markdown",
   "id": "070949d0",
   "metadata": {},
   "source": [
    "### create signal"
   ]
  },
  {
   "cell_type": "code",
   "execution_count": 14,
   "id": "7abd99db",
   "metadata": {},
   "outputs": [],
   "source": [
    "def backtest_rsi_o2(df, ema_len=200, rsi_len=14, atr_len=14, overbought=70, oversold=30, rr=1.5, pip_value=0.0001):\n",
    "    \n",
    "    rsi_o2 = ta.Strategy(\n",
    "        name = 'RSI 14 Days for opposite trade',\n",
    "        description = 'RSI for alert',\n",
    "        ta = [\n",
    "            {'kind': 'ema', 'length': ema_len},\n",
    "            {'kind': 'rsi', 'length': rsi_len},\n",
    "            {'kind': 'atr', 'length': atr_len}\n",
    "        ]\n",
    "    )\n",
    "    \n",
    "    df.ta.strategy(rsi_o2)\n",
    "    df['action'] = np.nan\n",
    "\n",
    "    orders = pd.DataFrame(columns = ['action', 'open time', 'open', 'close time', 'close', 'T/P', 'S/L','result'])\n",
    "    current_action = 'close'\n",
    "    order = {}\n",
    "    unknow_result = []\n",
    "\n",
    "    for index, row in df.iterrows():\n",
    "        if current_action == 'close':\n",
    "            \n",
    "            if row['EMA_'+str(ema_len)] < row['low'] and row['RSI_'+str(rsi_len)] > overbought:\n",
    "                row['action'] = 'buy'\n",
    "                order['action'] = 'buy'\n",
    "                order['open time'] = row['timestamp']\n",
    "                order['open'] = row['open']\n",
    "                order['S/L'] = row['low'] - row['ATRr_'+str(atr_len)]\n",
    "                order['T/P'] = row['open'] + (rr * abs(row['open'] - order['S/L']))\n",
    "                current_action = 'buy'\n",
    "            \n",
    "            elif row['EMA_'+str(ema_len)] > row['high'] and row['RSI_'+str(rsi_len)] < oversold:   \n",
    "                row['action'] = 'sell'\n",
    "                order['action'] = 'sell'\n",
    "                order['open time'] = row['timestamp']\n",
    "                order['open'] = row['open']\n",
    "                order['S/L'] = row['high'] + row['ATRr_'+str(atr_len)]\n",
    "                order['T/P'] = row['open'] - (rr * abs(row['open'] - order['S/L']))\n",
    "                current_action = 'sell'\n",
    " \n",
    "        if current_action == 'buy':\n",
    "            if row['low'] <= order['S/L'] and row['high'] >= order['T/P']:\n",
    "                unknow_result.append(row)\n",
    "            if row['low'] <= order['S/L']:\n",
    "                order['result'] = 'S/L'\n",
    "                order['close time'] = row['timestamp']\n",
    "                order['close'] = order['S/L']\n",
    "                current_action = 'close'\n",
    "                orders = orders.append(order, ignore_index = True)\n",
    "                order = {}\n",
    "            elif row['high'] >= order['T/P']:\n",
    "                order['result'] = 'T/P'\n",
    "                order['close time'] = row['timestamp']\n",
    "                order['close'] = order['T/P']\n",
    "                current_action = 'close'\n",
    "                orders = orders.append(order, ignore_index = True)\n",
    "                order = {}\n",
    "                \n",
    "        elif current_action == 'sell':\n",
    "            if row['high'] >= order['S/L'] and row['low'] <= order['T/P']:\n",
    "                unknow_result.append(row)\n",
    "            if row['high'] >= order['S/L']:\n",
    "                order['result'] = 'S/L'\n",
    "                order['close time'] = row['timestamp']\n",
    "                order['close'] = order['S/L']\n",
    "                current_action = 'close'\n",
    "                orders = orders.append(order, ignore_index = True)\n",
    "                order = {}\n",
    "            elif row['low'] <= order['T/P']:\n",
    "                order['result'] = 'T/P'\n",
    "                order['close time'] = row['timestamp']\n",
    "                order['close'] = order['T/P']\n",
    "                current_action = 'close'\n",
    "                orders = orders.append(order, ignore_index = True)\n",
    "                order = {}\n",
    "\n",
    "    try:\n",
    "        win_rate = round(len(orders[orders['result'] == 'T/P']) * 100 / len(orders), 2)\n",
    "        loss_rate = round(len(orders[orders['result'] == 'S/L']) * 100 / len(orders), 2)\n",
    "\n",
    "        win_orders = int((win_rate * len(orders)) / 100 )\n",
    "        loss_orders = len(orders) - win_orders\n",
    "        gain = (win_orders * rr) - loss_orders\n",
    "        \n",
    "        result_info = f\"total orders: {len(orders)}, overbought: {overbought}, oversold: {oversold} ,rr: {rr}\\nema: {ema_len}, rsi: {rsi_len}, atr: {atr_len}, gain: {gain}\\n\"\n",
    "        return {'win_rate': win_rate, 'info': result_info, 'total_order': len(orders), 'rr': rr, 'gain': gain, 'unknow': unknow_result}\n",
    "    except:\n",
    "#         print(\"No orders to action\")\n",
    "        return {'win_rate': 0, 'info': 'No orders to action'}\n",
    "   "
   ]
  },
  {
   "cell_type": "code",
   "execution_count": 15,
   "id": "e8fb1021",
   "metadata": {},
   "outputs": [
    {
     "name": "stdout",
     "output_type": "stream",
     "text": [
      "67.22 %, total orders: 180, overbought: 70, oversold: 30 ,rr: 1.5\n",
      "ema: 200, rsi: 14, atr: 14, gain: 120.0\n",
      "\n"
     ]
    }
   ],
   "source": [
    "orders = backtest_rsi_o2(df, ema_len=200, rsi_len=14, atr_len=14, overbought=70, oversold=30, rr=1.5)\n",
    "# print(orders['win_rate'], '%,', orders['info'])\n",
    "# 69.7 %, total orders: 165, overbought: 69, oversold: 31 ,rr: 1.5\n",
    "# ema: 200, rsi: 14, atr: 14\n",
    "print(f\"{orders['win_rate']} %, {orders['info']}\")"
   ]
  },
  {
   "cell_type": "code",
   "execution_count": 16,
   "id": "f1137808",
   "metadata": {},
   "outputs": [
    {
     "data": {
      "text/plain": [
       "4840"
      ]
     },
     "execution_count": 16,
     "metadata": {},
     "output_type": "execute_result"
    }
   ],
   "source": [
    "overB = 95\n",
    "overS = 5\n",
    "ema_list = [200] # list(range(100,210, 10))\n",
    "rsi_list = list(range(10, 20+1))\n",
    "atr_list = list(range(10, 20+1))\n",
    "params_list = []\n",
    "\n",
    "for ema in ema_list:\n",
    "    for rsi in rsi_list:\n",
    "        for atr in atr_list:\n",
    "            for i in range(40):\n",
    "                params_list.append([ema, rsi, atr, overB-i, overS+i, 1.5])\n",
    "# params_list[5:10]\n",
    "len(params_list)"
   ]
  },
  {
   "cell_type": "code",
   "execution_count": 17,
   "id": "24cf9f88",
   "metadata": {},
   "outputs": [
    {
     "name": "stdout",
     "output_type": "stream",
     "text": [
      "run: 4840 to 4840\n",
      "win rate: 85.71 %\n",
      "total orders: 35, overbought: 74, oversold: 26 ,rr: 1.5\n",
      "ema: 200, rsi: 20, atr: 13, gain: 37.5\n",
      "\n"
     ]
    }
   ],
   "source": [
    "good_params = {'win': 0, 'info': ''}\n",
    "start = 0\n",
    "end = 4840\n",
    "win_start = 0\n",
    "\n",
    "loop_num = start\n",
    "for param in params_list[start:end]:\n",
    "    result = backtest_rsi_o2(df, ema_len=param[0], rsi_len=param[1], atr_len=param[2], overbought=param[3], oversold=param[4], rr=param[5])\n",
    "    if result['win_rate'] > win_start and result['total_order'] > 30:\n",
    "        win_start = result['win_rate']\n",
    "        good_params['win'] = result['win_rate']\n",
    "        good_params['info'] = result['info']\n",
    "    loop_num = loop_num + 1\n",
    "    print(f\"run: {loop_num} to {end}\", end = \"\\r\")\n",
    "    \n",
    "print(f\"\\nwin rate: {good_params['win']} %\\n{good_params['info']}\")"
   ]
  },
  {
   "cell_type": "code",
   "execution_count": 12,
   "id": "9c9dd51c",
   "metadata": {},
   "outputs": [
    {
     "data": {
      "text/plain": [
       "0.0759"
      ]
     },
     "execution_count": 12,
     "metadata": {},
     "output_type": "execute_result"
    }
   ],
   "source": [
    "# EURUSD 1 pip = 0.0001\n",
    "# GBPUSD 1 pip = 0.0001\n",
    "# USDJPY 1 pip = 0.01\n",
    "# AUDUSD 1 pip = 0.0001\n",
    "# 7.59 * 0.0001 == 0.000759\n",
    "0.000759 / 0.01"
   ]
  },
  {
   "cell_type": "markdown",
   "id": "143101ce",
   "metadata": {},
   "source": [
    "run: 1 to 2000\n",
    "* win rate: 67.38 %\n",
    "* total orders: 233, overbought: 71, oversold: 29 ,rr: 1.5\n",
    "* ema: 200, rsi: 11, atr: 11, gain: 157.0\n",
    "\n",
    "run: 2000 to 4000\n",
    "* win rate: 66.67 %\n",
    "* total orders: 159, overbought: 71, oversold: 29 ,rr: 1.5\n",
    "* ema: 200, rsi: 15, atr: 19, gain: 106.0\n",
    "\n",
    "run: 4000 to 4840\n",
    "* win rate: 64.29 %\n",
    "* total orders: 56, overbought: 73, oversold: 27 ,rr: 1.5\n",
    "* ema: 200, rsi: 20, atr: 10, gain: 34.0"
   ]
  },
  {
   "cell_type": "code",
   "execution_count": 20,
   "id": "318d10e9",
   "metadata": {},
   "outputs": [
    {
     "data": {
      "text/plain": [
       "36.5"
      ]
     },
     "execution_count": 20,
     "metadata": {},
     "output_type": "execute_result"
    }
   ],
   "source": [
    "win_rate = 75.61\n",
    "total_orders = 41\n",
    "rr = 1.5\n",
    "win_orders = int((win_rate * total_orders) / 100 )\n",
    "loss_orders = total_orders - win_orders\n",
    "gain = (win_orders * rr) - loss_orders\n",
    "gain"
   ]
  },
  {
   "cell_type": "markdown",
   "id": "9df25c6d",
   "metadata": {},
   "source": [
    "#### The best params for EURUSD 15m\n",
    "\n",
    "* win rate: 85.71 %\n",
    "* total orders: 35, overbought: 74, oversold: 26 ,rr: 1.5\n",
    "* ema: 200, rsi: 20, atr: 13\n",
    "* gain: 37.5\n",
    "\n",
    "#### The best params for GBPUSD 15m\n",
    "\n",
    "\n",
    "#### The best params for USDJPY 15m\n",
    "\n",
    "\n",
    "\n",
    "#### The best params for AUDUSD 15m\n",
    "\n",
    "* win rate: 67.38 %\n",
    "* total orders: 233, overbought: 71, oversold: 29 ,rr: 1.5\n",
    "* ema: 200, rsi: 11, atr: 11 \n",
    "* gain: 157.0"
   ]
  },
  {
   "cell_type": "markdown",
   "id": "a612703f",
   "metadata": {},
   "source": [
    "### backtest"
   ]
  },
  {
   "cell_type": "markdown",
   "id": "6ece97e6",
   "metadata": {},
   "source": [
    "#### === Todo ===\n",
    "\n",
    "- &check; import forex data from yohoo finance GBPUSD, EURUSD, USDJPY TF: 5min, 15min, 30min, 1hr, 4hr.\n",
    "- &check; backtest RSI_O2 strategy with forex.\n",
    "- &check; get data from binance BTCUSDT, ETHUSDT, BNBUSDT, ADAUSDT, SHIBUSDT, GALAUSDT, UNIUSDT, CAKEUSDT, SOLUSDT, LUNAUSDT, DOTUSDT\n",
    "   TF: 15min, 30min, 1hr, 4hr, 1day\n",
    "- &check; create EMA_3_lines strategy.\n",
    "- &check; backtest EMA_3_lines strategy with forex.\n",
    "- &check; create bot pull data from yahoo finance because they can give us last 2 months.\n"
   ]
  },
  {
   "cell_type": "code",
   "execution_count": null,
   "id": "c7ef4c37",
   "metadata": {},
   "outputs": [],
   "source": []
  }
 ],
 "metadata": {
  "kernelspec": {
   "display_name": "Python 3",
   "language": "python",
   "name": "python3"
  },
  "language_info": {
   "codemirror_mode": {
    "name": "ipython",
    "version": 3
   },
   "file_extension": ".py",
   "mimetype": "text/x-python",
   "name": "python",
   "nbconvert_exporter": "python",
   "pygments_lexer": "ipython3",
   "version": "3.8.8"
  }
 },
 "nbformat": 4,
 "nbformat_minor": 5
}
