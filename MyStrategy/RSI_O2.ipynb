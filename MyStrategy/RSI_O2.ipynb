{
 "cells": [
  {
   "cell_type": "markdown",
   "id": "279ab3da",
   "metadata": {},
   "source": [
    "### RSI _Opposite_Order ( RSI_O2 ) Strategy"
   ]
  },
  {
   "cell_type": "code",
   "execution_count": 1,
   "id": "c14fb0ee",
   "metadata": {},
   "outputs": [],
   "source": [
    "import time\n",
    "from datetime import datetime\n",
    "\n",
    "import pandas as pd\n",
    "import pandas_ta as ta\n",
    "import numpy as np"
   ]
  },
  {
   "cell_type": "markdown",
   "id": "3c0c0fc6",
   "metadata": {},
   "source": [
    "### import csv"
   ]
  },
  {
   "cell_type": "code",
   "execution_count": 2,
   "id": "164686dc",
   "metadata": {},
   "outputs": [
    {
     "data": {
      "text/html": [
       "<div>\n",
       "<style scoped>\n",
       "    .dataframe tbody tr th:only-of-type {\n",
       "        vertical-align: middle;\n",
       "    }\n",
       "\n",
       "    .dataframe tbody tr th {\n",
       "        vertical-align: top;\n",
       "    }\n",
       "\n",
       "    .dataframe thead th {\n",
       "        text-align: right;\n",
       "    }\n",
       "</style>\n",
       "<table border=\"1\" class=\"dataframe\">\n",
       "  <thead>\n",
       "    <tr style=\"text-align: right;\">\n",
       "      <th></th>\n",
       "      <th>timestamp</th>\n",
       "      <th>open</th>\n",
       "      <th>high</th>\n",
       "      <th>low</th>\n",
       "      <th>close</th>\n",
       "      <th>adj close</th>\n",
       "      <th>volumn</th>\n",
       "    </tr>\n",
       "  </thead>\n",
       "  <tbody>\n",
       "    <tr>\n",
       "      <th>3895</th>\n",
       "      <td>2021-12-31 21:15:00+00:00</td>\n",
       "      <td>0.727151</td>\n",
       "      <td>0.727431</td>\n",
       "      <td>0.727104</td>\n",
       "      <td>0.727310</td>\n",
       "      <td>0.727310</td>\n",
       "      <td>0</td>\n",
       "    </tr>\n",
       "    <tr>\n",
       "      <th>3896</th>\n",
       "      <td>2021-12-31 21:30:00+00:00</td>\n",
       "      <td>0.727299</td>\n",
       "      <td>0.727431</td>\n",
       "      <td>0.726903</td>\n",
       "      <td>0.727061</td>\n",
       "      <td>0.727061</td>\n",
       "      <td>0</td>\n",
       "    </tr>\n",
       "    <tr>\n",
       "      <th>3897</th>\n",
       "      <td>2021-12-31 21:45:00+00:00</td>\n",
       "      <td>0.726966</td>\n",
       "      <td>0.727590</td>\n",
       "      <td>0.726860</td>\n",
       "      <td>0.726908</td>\n",
       "      <td>0.726908</td>\n",
       "      <td>0</td>\n",
       "    </tr>\n",
       "    <tr>\n",
       "      <th>3898</th>\n",
       "      <td>2021-12-31 22:00:00+00:00</td>\n",
       "      <td>0.726216</td>\n",
       "      <td>0.726375</td>\n",
       "      <td>0.726216</td>\n",
       "      <td>0.726375</td>\n",
       "      <td>0.726375</td>\n",
       "      <td>0</td>\n",
       "    </tr>\n",
       "    <tr>\n",
       "      <th>3899</th>\n",
       "      <td>2021-12-31 22:15:00+00:00</td>\n",
       "      <td>0.726375</td>\n",
       "      <td>0.726375</td>\n",
       "      <td>0.726375</td>\n",
       "      <td>0.726375</td>\n",
       "      <td>0.726375</td>\n",
       "      <td>0</td>\n",
       "    </tr>\n",
       "  </tbody>\n",
       "</table>\n",
       "</div>"
      ],
      "text/plain": [
       "                      timestamp      open      high       low     close  \\\n",
       "3895  2021-12-31 21:15:00+00:00  0.727151  0.727431  0.727104  0.727310   \n",
       "3896  2021-12-31 21:30:00+00:00  0.727299  0.727431  0.726903  0.727061   \n",
       "3897  2021-12-31 21:45:00+00:00  0.726966  0.727590  0.726860  0.726908   \n",
       "3898  2021-12-31 22:00:00+00:00  0.726216  0.726375  0.726216  0.726375   \n",
       "3899  2021-12-31 22:15:00+00:00  0.726375  0.726375  0.726375  0.726375   \n",
       "\n",
       "      adj close  volumn  \n",
       "3895   0.727310       0  \n",
       "3896   0.727061       0  \n",
       "3897   0.726908       0  \n",
       "3898   0.726375       0  \n",
       "3899   0.726375       0  "
      ]
     },
     "execution_count": 2,
     "metadata": {},
     "output_type": "execute_result"
    }
   ],
   "source": [
    "data = pd.read_csv('AUDUSD_15m_2022_01_03.csv')\n",
    "data.tail()"
   ]
  },
  {
   "cell_type": "markdown",
   "id": "980324b7",
   "metadata": {},
   "source": [
    "### create strategy"
   ]
  },
  {
   "cell_type": "code",
   "execution_count": 3,
   "id": "1a033069",
   "metadata": {},
   "outputs": [],
   "source": [
    "rsi_o2 = ta.Strategy(\n",
    "    name = 'RSI 14 Days for opposite trade',\n",
    "    description = 'RSI for alert',\n",
    "    ta = [\n",
    "        {'kind': 'ema', 'length': 200},\n",
    "        {'kind': 'rsi', 'length': 24},\n",
    "        {'kind': 'atr', 'length': 14}\n",
    "    ]\n",
    ")"
   ]
  },
  {
   "cell_type": "code",
   "execution_count": 4,
   "id": "eb8d7d09",
   "metadata": {},
   "outputs": [
    {
     "data": {
      "text/html": [
       "<div>\n",
       "<style scoped>\n",
       "    .dataframe tbody tr th:only-of-type {\n",
       "        vertical-align: middle;\n",
       "    }\n",
       "\n",
       "    .dataframe tbody tr th {\n",
       "        vertical-align: top;\n",
       "    }\n",
       "\n",
       "    .dataframe thead th {\n",
       "        text-align: right;\n",
       "    }\n",
       "</style>\n",
       "<table border=\"1\" class=\"dataframe\">\n",
       "  <thead>\n",
       "    <tr style=\"text-align: right;\">\n",
       "      <th></th>\n",
       "      <th>timestamp</th>\n",
       "      <th>open</th>\n",
       "      <th>high</th>\n",
       "      <th>low</th>\n",
       "      <th>close</th>\n",
       "      <th>adj close</th>\n",
       "      <th>volumn</th>\n",
       "      <th>EMA_200</th>\n",
       "      <th>RSI_24</th>\n",
       "      <th>ATRr_14</th>\n",
       "    </tr>\n",
       "  </thead>\n",
       "  <tbody>\n",
       "    <tr>\n",
       "      <th>3895</th>\n",
       "      <td>2021-12-31 21:15:00+00:00</td>\n",
       "      <td>0.727151</td>\n",
       "      <td>0.727431</td>\n",
       "      <td>0.727104</td>\n",
       "      <td>0.727310</td>\n",
       "      <td>0.727310</td>\n",
       "      <td>0</td>\n",
       "      <td>0.725800</td>\n",
       "      <td>54.033118</td>\n",
       "      <td>0.000617</td>\n",
       "    </tr>\n",
       "    <tr>\n",
       "      <th>3896</th>\n",
       "      <td>2021-12-31 21:30:00+00:00</td>\n",
       "      <td>0.727299</td>\n",
       "      <td>0.727431</td>\n",
       "      <td>0.726903</td>\n",
       "      <td>0.727061</td>\n",
       "      <td>0.727061</td>\n",
       "      <td>0</td>\n",
       "      <td>0.725812</td>\n",
       "      <td>52.158400</td>\n",
       "      <td>0.000610</td>\n",
       "    </tr>\n",
       "    <tr>\n",
       "      <th>3897</th>\n",
       "      <td>2021-12-31 21:45:00+00:00</td>\n",
       "      <td>0.726966</td>\n",
       "      <td>0.727590</td>\n",
       "      <td>0.726860</td>\n",
       "      <td>0.726908</td>\n",
       "      <td>0.726908</td>\n",
       "      <td>0</td>\n",
       "      <td>0.725823</td>\n",
       "      <td>51.018862</td>\n",
       "      <td>0.000619</td>\n",
       "    </tr>\n",
       "    <tr>\n",
       "      <th>3898</th>\n",
       "      <td>2021-12-31 22:00:00+00:00</td>\n",
       "      <td>0.726216</td>\n",
       "      <td>0.726375</td>\n",
       "      <td>0.726216</td>\n",
       "      <td>0.726375</td>\n",
       "      <td>0.726375</td>\n",
       "      <td>0</td>\n",
       "      <td>0.725829</td>\n",
       "      <td>47.269766</td>\n",
       "      <td>0.000624</td>\n",
       "    </tr>\n",
       "    <tr>\n",
       "      <th>3899</th>\n",
       "      <td>2021-12-31 22:15:00+00:00</td>\n",
       "      <td>0.726375</td>\n",
       "      <td>0.726375</td>\n",
       "      <td>0.726375</td>\n",
       "      <td>0.726375</td>\n",
       "      <td>0.726375</td>\n",
       "      <td>0</td>\n",
       "      <td>0.725834</td>\n",
       "      <td>47.269766</td>\n",
       "      <td>0.000579</td>\n",
       "    </tr>\n",
       "  </tbody>\n",
       "</table>\n",
       "</div>"
      ],
      "text/plain": [
       "                      timestamp      open      high       low     close  \\\n",
       "3895  2021-12-31 21:15:00+00:00  0.727151  0.727431  0.727104  0.727310   \n",
       "3896  2021-12-31 21:30:00+00:00  0.727299  0.727431  0.726903  0.727061   \n",
       "3897  2021-12-31 21:45:00+00:00  0.726966  0.727590  0.726860  0.726908   \n",
       "3898  2021-12-31 22:00:00+00:00  0.726216  0.726375  0.726216  0.726375   \n",
       "3899  2021-12-31 22:15:00+00:00  0.726375  0.726375  0.726375  0.726375   \n",
       "\n",
       "      adj close  volumn   EMA_200     RSI_24   ATRr_14  \n",
       "3895   0.727310       0  0.725800  54.033118  0.000617  \n",
       "3896   0.727061       0  0.725812  52.158400  0.000610  \n",
       "3897   0.726908       0  0.725823  51.018862  0.000619  \n",
       "3898   0.726375       0  0.725829  47.269766  0.000624  \n",
       "3899   0.726375       0  0.725834  47.269766  0.000579  "
      ]
     },
     "execution_count": 4,
     "metadata": {},
     "output_type": "execute_result"
    }
   ],
   "source": [
    "df = data.copy()\n",
    "df.ta.strategy(rsi_o2)\n",
    "df.tail()"
   ]
  },
  {
   "cell_type": "markdown",
   "id": "070949d0",
   "metadata": {},
   "source": [
    "### create signal"
   ]
  },
  {
   "cell_type": "code",
   "execution_count": 5,
   "id": "7abd99db",
   "metadata": {},
   "outputs": [],
   "source": [
    "def backtest_rsi_o2(df, ema_len=200, rsi_len=14, atr_len=14, overbought=70, oversold=30, rr=1.5, pip_value=0.0001):\n",
    "    \n",
    "    rsi_o2 = ta.Strategy(\n",
    "        name = 'RSI 14 Days for opposite trade',\n",
    "        description = 'RSI for alert',\n",
    "        ta = [\n",
    "            {'kind': 'ema', 'length': ema_len},\n",
    "            {'kind': 'rsi', 'length': rsi_len},\n",
    "            {'kind': 'atr', 'length': atr_len}\n",
    "        ]\n",
    "    )\n",
    "    \n",
    "    df.ta.strategy(rsi_o2)\n",
    "    df['action'] = np.nan\n",
    "\n",
    "    orders = pd.DataFrame(columns = ['action', 'open time', 'open', 'close time', 'close', 'T/P', 'S/L','result'])\n",
    "    current_action = 'close'\n",
    "    order = {}\n",
    "    unknow_result = []\n",
    "\n",
    "    for index, row in df.iterrows():\n",
    "        if current_action == 'close':\n",
    "            \n",
    "            if row['EMA_'+str(ema_len)] < row['low'] and row['RSI_'+str(rsi_len)] > overbought:\n",
    "                row['action'] = 'buy'\n",
    "                order['action'] = 'buy'\n",
    "                order['open time'] = row['timestamp']\n",
    "                order['open'] = row['open']\n",
    "                order['S/L'] = row['low'] - row['ATRr_'+str(atr_len)]\n",
    "                order['T/P'] = row['open'] + (rr * abs(row['open'] - order['S/L']))\n",
    "                current_action = 'buy'\n",
    "            \n",
    "            elif row['EMA_'+str(ema_len)] > row['high'] and row['RSI_'+str(rsi_len)] < oversold:   \n",
    "                row['action'] = 'sell'\n",
    "                order['action'] = 'sell'\n",
    "                order['open time'] = row['timestamp']\n",
    "                order['open'] = row['open']\n",
    "                order['S/L'] = row['high'] + row['ATRr_'+str(atr_len)]\n",
    "                order['T/P'] = row['open'] - (rr * abs(row['open'] - order['S/L']))\n",
    "                current_action = 'sell'\n",
    " \n",
    "        if current_action == 'buy':\n",
    "            if row['low'] <= order['S/L'] and row['high'] >= order['T/P']:\n",
    "                unknow_result.append(row)\n",
    "            if row['low'] <= order['S/L']:\n",
    "                order['result'] = 'S/L'\n",
    "                order['close time'] = row['timestamp']\n",
    "                order['close'] = order['S/L']\n",
    "                current_action = 'close'\n",
    "                orders = orders.append(order, ignore_index = True)\n",
    "                order = {}\n",
    "            elif row['high'] >= order['T/P']:\n",
    "                order['result'] = 'T/P'\n",
    "                order['close time'] = row['timestamp']\n",
    "                order['close'] = order['T/P']\n",
    "                current_action = 'close'\n",
    "                orders = orders.append(order, ignore_index = True)\n",
    "                order = {}\n",
    "                \n",
    "        elif current_action == 'sell':\n",
    "            if row['high'] >= order['S/L'] and row['low'] <= order['T/P']:\n",
    "                unknow_result.append(row)\n",
    "            if row['high'] >= order['S/L']:\n",
    "                order['result'] = 'S/L'\n",
    "                order['close time'] = row['timestamp']\n",
    "                order['close'] = order['S/L']\n",
    "                current_action = 'close'\n",
    "                orders = orders.append(order, ignore_index = True)\n",
    "                order = {}\n",
    "            elif row['low'] <= order['T/P']:\n",
    "                order['result'] = 'T/P'\n",
    "                order['close time'] = row['timestamp']\n",
    "                order['close'] = order['T/P']\n",
    "                current_action = 'close'\n",
    "                orders = orders.append(order, ignore_index = True)\n",
    "                order = {}\n",
    "\n",
    "    try:\n",
    "        win_rate = round(len(orders[orders['result'] == 'T/P']) * 100 / len(orders), 2)\n",
    "        loss_rate = round(len(orders[orders['result'] == 'S/L']) * 100 / len(orders), 2)\n",
    "\n",
    "        win_orders = int((win_rate * len(orders)) / 100 )\n",
    "        loss_orders = len(orders) - win_orders\n",
    "        gain = (win_orders * rr) - loss_orders\n",
    "        \n",
    "        result_info = f\"total orders: {len(orders)}, overbought: {overbought}, oversold: {oversold} ,rr: {rr}\\nema: {ema_len}, rsi: {rsi_len}, atr: {atr_len}, gain: {gain}\\n\"\n",
    "        return {'win_rate': win_rate, 'info': result_info, 'total_order': len(orders), 'rr': rr, 'gain': gain, 'unknow': unknow_result}\n",
    "    except:\n",
    "#         print(\"No orders to action\")\n",
    "        return {'win_rate': 0, 'info': 'No orders to action'}\n",
    "   "
   ]
  },
  {
   "cell_type": "code",
   "execution_count": 6,
   "id": "e8fb1021",
   "metadata": {},
   "outputs": [
    {
     "name": "stdout",
     "output_type": "stream",
     "text": [
      "59.26 %, total orders: 81, overbought: 70, oversold: 30 ,rr: 1.5\n",
      "ema: 200, rsi: 14, atr: 14, gain: 39.0\n",
      "\n"
     ]
    }
   ],
   "source": [
    "orders = backtest_rsi_o2(df, ema_len=200, rsi_len=14, atr_len=14, overbought=70, oversold=30, rr=1.5)\n",
    "# print(orders['win_rate'], '%,', orders['info'])\n",
    "# 69.7 %, total orders: 165, overbought: 69, oversold: 31 ,rr: 1.5\n",
    "# ema: 200, rsi: 14, atr: 14\n",
    "print(f\"{orders['win_rate']} %, {orders['info']}\")"
   ]
  },
  {
   "cell_type": "code",
   "execution_count": 7,
   "id": "f1137808",
   "metadata": {},
   "outputs": [
    {
     "data": {
      "text/plain": [
       "4840"
      ]
     },
     "execution_count": 7,
     "metadata": {},
     "output_type": "execute_result"
    }
   ],
   "source": [
    "overB = 95\n",
    "overS = 5\n",
    "ema_list = [200] # list(range(100,210, 10))\n",
    "rsi_list = list(range(10, 20+1))\n",
    "atr_list = list(range(10, 20+1))\n",
    "params_list = []\n",
    "\n",
    "for ema in ema_list:\n",
    "    for rsi in rsi_list:\n",
    "        for atr in atr_list:\n",
    "            for i in range(40):\n",
    "                params_list.append([ema, rsi, atr, overB-i, overS+i, 1.5])\n",
    "# params_list[5:10]\n",
    "len(params_list)"
   ]
  },
  {
   "cell_type": "code",
   "execution_count": 8,
   "id": "24cf9f88",
   "metadata": {},
   "outputs": [
    {
     "name": "stdout",
     "output_type": "stream",
     "text": [
      "run: 4840 to 4840\n",
      "win rate: 61.96 %\n",
      "total orders: 92, overbought: 66, oversold: 34 ,rr: 1.5\n",
      "ema: 200, rsi: 20, atr: 13, gain: 50.5\n",
      "\n"
     ]
    }
   ],
   "source": [
    "good_params = {'win': 0, 'info': ''}\n",
    "start = 4000\n",
    "end = 4840\n",
    "win_start = 0\n",
    "\n",
    "loop_num = start\n",
    "for param in params_list[start:end]:\n",
    "    result = backtest_rsi_o2(df, ema_len=param[0], rsi_len=param[1], atr_len=param[2], overbought=param[3], oversold=param[4], rr=param[5])\n",
    "    if result['win_rate'] > win_start and result['total_order'] > 30:\n",
    "        win_start = result['win_rate']\n",
    "        good_params['win'] = result['win_rate']\n",
    "        good_params['info'] = result['info']\n",
    "    loop_num = loop_num + 1\n",
    "    print(f\"run: {loop_num} to {end}\", end = \"\\r\")\n",
    "    \n",
    "print(f\"\\nwin rate: {good_params['win']} %\\n{good_params['info']}\")"
   ]
  },
  {
   "cell_type": "code",
   "execution_count": 12,
   "id": "9c9dd51c",
   "metadata": {},
   "outputs": [
    {
     "data": {
      "text/plain": [
       "0.0759"
      ]
     },
     "execution_count": 12,
     "metadata": {},
     "output_type": "execute_result"
    }
   ],
   "source": [
    "# EURUSD 1 pip = 0.0001\n",
    "# GBPUSD 1 pip = 0.0001\n",
    "# USDJPY 1 pip = 0.01\n",
    "# AUDUSD 1 pip = 0.0001\n",
    "# 7.59 * 0.0001 == 0.000759\n",
    "0.000759 / 0.01"
   ]
  },
  {
   "cell_type": "markdown",
   "id": "143101ce",
   "metadata": {},
   "source": [
    "run: 1 to 1000\n",
    "* win rate: 65.08 %\n",
    "* total orders: 63, overbought: 74, oversold: 26 ,rr: 1.5\n",
    "* ema: 200, rsi: 12, atr: 10, gain: 39.5\n",
    "\n",
    "run: 1001 to 2000\n",
    "* win rate: 65.62 %\n",
    "* total orders: 64, overbought: 74, oversold: 26 ,rr: 1.5\n",
    "* ema: 200, rsi: 12, atr: 15, gain: 38.5\n",
    "\n",
    "run: 2001 to 3000\n",
    "* win rate: 63.24 %\n",
    "* total orders: 68, overbought: 71, oversold: 29 ,rr: 1.5\n",
    "* ema: 200, rsi: 15, atr: 15, gain: 39.5\n",
    "\n",
    "run: 3001 to 4000\n",
    "* win rate: 61.95 %\n",
    "* total orders: 113, overbought: 65, oversold: 35 ,rr: 1.5\n",
    "* ema: 200, rsi: 17, atr: 11, gain: 62.0\n",
    "\n",
    "run: 4801 to 4840\n",
    "* win rate: 61.96 %\n",
    "* total orders: 92, overbought: 66, oversold: 34 ,rr: 1.5\n",
    "* ema: 200, rsi: 20, atr: 13, gain: 50.5"
   ]
  },
  {
   "cell_type": "code",
   "execution_count": 20,
   "id": "318d10e9",
   "metadata": {},
   "outputs": [
    {
     "data": {
      "text/plain": [
       "36.5"
      ]
     },
     "execution_count": 20,
     "metadata": {},
     "output_type": "execute_result"
    }
   ],
   "source": [
    "win_rate = 75.61\n",
    "total_orders = 41\n",
    "rr = 1.5\n",
    "win_orders = int((win_rate * total_orders) / 100 )\n",
    "loss_orders = total_orders - win_orders\n",
    "gain = (win_orders * rr) - loss_orders\n",
    "gain"
   ]
  },
  {
   "cell_type": "markdown",
   "id": "9df25c6d",
   "metadata": {},
   "source": [
    "#### The best params for EURUSD 15m\n",
    "\n",
    "* win rate: 77.27 %\n",
    "* total orders: 66, overbought: 76, oversold: 24 ,rr: 1.5\n",
    "* ema: 200, rsi: 10, atr: 15\n",
    "* gain 59\n",
    "\n",
    "#### The best params for GBPUSD 15m\n",
    "\n",
    "* win rate: 75.61 %\n",
    "* total orders: 41, overbought: 72, oversold: 28 ,rr: 1.5\n",
    "* ema: 200, rsi: 17, atr: 10\n",
    "* OR\n",
    "* total orders: 41, overbought: 70, oversold: 30 ,rr: 1.5\n",
    "* ema: 200, rsi: 20, atr: 10\n",
    "* gain: 36.5\n",
    "\n",
    "#### The best params for USDJPY 15m\n",
    "\n",
    "* win rate: 71.43 %\n",
    "* total orders: 63, overbought: 73, oversold: 27 ,rr: 1.5\n",
    "* ema: 200, rsi: 12, atr: 17\n",
    "* gain: 49.5\n",
    "\n",
    "#### The best params for AUDUSD 15m\n",
    "\n",
    "* win rate: 61.95 %\n",
    "* total orders: 113, overbought: 65, oversold: 35 ,rr: 1.5\n",
    "* ema: 200, rsi: 17, atr: 11\n",
    "* gain: 62.0"
   ]
  },
  {
   "cell_type": "markdown",
   "id": "a612703f",
   "metadata": {},
   "source": [
    "### backtest"
   ]
  },
  {
   "cell_type": "code",
   "execution_count": null,
   "id": "e7da405e",
   "metadata": {},
   "outputs": [],
   "source": [
    "'''\n",
    "=== Todo ===\n",
    "[/] import forex data from yohoo finance GBPUSD, EURUSD, USDJPY TF: 5min, 15min, 30min, 1hr, 4hr.\n",
    "[/] backtest RSI_O2 strategy with forex.\n",
    "[/] get data from binance BTCUSDT, ETHUSDT, BNBUSDT, ADAUSDT, SHIBUSDT, GALAUSDT, UNIUSDT, CAKEUSDT, SOLUSDT, LUNAUSDT, DOTUSDT\n",
    "   TF: 15min, 30min, 1hr, 4hr, 1day\n",
    "[] create EMA_3_lines strategy.\n",
    "[] backtest EMA_3_lines strategy with forex.\n",
    "[] create bot pull data from yahoo finance because they can give us last 2 months.\n",
    "[] Get Free trial 30 days of Tradingview.\n",
    "'''"
   ]
  }
 ],
 "metadata": {
  "kernelspec": {
   "display_name": "Python 3",
   "language": "python",
   "name": "python3"
  },
  "language_info": {
   "codemirror_mode": {
    "name": "ipython",
    "version": 3
   },
   "file_extension": ".py",
   "mimetype": "text/x-python",
   "name": "python",
   "nbconvert_exporter": "python",
   "pygments_lexer": "ipython3",
   "version": "3.8.8"
  }
 },
 "nbformat": 4,
 "nbformat_minor": 5
}
