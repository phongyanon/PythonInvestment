{
 "cells": [
  {
   "cell_type": "code",
   "execution_count": 1,
   "id": "c14fb0ee",
   "metadata": {},
   "outputs": [],
   "source": [
    "import time\n",
    "from datetime import datetime\n",
    "\n",
    "import pandas as pd\n",
    "import pandas_ta as ta\n",
    "import numpy as np"
   ]
  },
  {
   "cell_type": "markdown",
   "id": "279ab3da",
   "metadata": {},
   "source": [
    "### RSI _Opposite_Order ( RSI_O2 ) Strategy"
   ]
  },
  {
   "cell_type": "markdown",
   "id": "3c0c0fc6",
   "metadata": {},
   "source": [
    "### import csv"
   ]
  },
  {
   "cell_type": "markdown",
   "id": "980324b7",
   "metadata": {},
   "source": [
    "### create strategy"
   ]
  },
  {
   "cell_type": "markdown",
   "id": "070949d0",
   "metadata": {},
   "source": [
    "### create signal"
   ]
  },
  {
   "cell_type": "markdown",
   "id": "a612703f",
   "metadata": {},
   "source": [
    "### backtest"
   ]
  },
  {
   "cell_type": "code",
   "execution_count": null,
   "id": "e7da405e",
   "metadata": {},
   "outputs": [],
   "source": [
    "'''\n",
    "=== Todo ===\n",
    "[] import forex data from yohoo finance GBPUSD, EURUSD, USDJPY TF: 5min, 15min, 1hr, 4hr.\n",
    "[] backtest RSI_O2 strategy with forex.\n",
    "[] get data from binance BTCUSDT, ETHUSDT, BNBUSDT, ADAUSDT, SHIBUSDT, GALAUSDT, UNIUSDT, CAKEUSDT, SOLUSDT, LUNAUSDT, DOTUSDT\n",
    "   TF: 15min, 30min, 1hr, 4hr, 1day\n",
    "[] create EMA_3_lines strategy.\n",
    "[] backtest EMA_3_lines strategy with forex.\n",
    "[] Get Free trial 30 days of Tradingview.\n",
    "[] create bot pull data from yahoo finance because they can give us last 2 months.\n",
    "'''"
   ]
  }
 ],
 "metadata": {
  "kernelspec": {
   "display_name": "Python 3",
   "language": "python",
   "name": "python3"
  },
  "language_info": {
   "codemirror_mode": {
    "name": "ipython",
    "version": 3
   },
   "file_extension": ".py",
   "mimetype": "text/x-python",
   "name": "python",
   "nbconvert_exporter": "python",
   "pygments_lexer": "ipython3",
   "version": "3.8.8"
  }
 },
 "nbformat": 4,
 "nbformat_minor": 5
}
