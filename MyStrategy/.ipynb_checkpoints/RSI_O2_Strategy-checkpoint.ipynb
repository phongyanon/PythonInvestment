{
 "cells": [
  {
   "cell_type": "markdown",
   "id": "279ab3da",
   "metadata": {},
   "source": [
    "### RSI _Opposite_Order ( RSI_O2 ) Strategy"
   ]
  },
  {
   "cell_type": "code",
   "execution_count": 1,
   "id": "c14fb0ee",
   "metadata": {},
   "outputs": [],
   "source": [
    "import time\n",
    "from datetime import datetime\n",
    "\n",
    "import pandas as pd\n",
    "import pandas_ta as ta\n",
    "import numpy as np"
   ]
  },
  {
   "cell_type": "markdown",
   "id": "3c0c0fc6",
   "metadata": {},
   "source": [
    "### import csv"
   ]
  },
  {
   "cell_type": "code",
   "execution_count": 16,
   "id": "164686dc",
   "metadata": {},
   "outputs": [
    {
     "data": {
      "text/html": [
       "<div>\n",
       "<style scoped>\n",
       "    .dataframe tbody tr th:only-of-type {\n",
       "        vertical-align: middle;\n",
       "    }\n",
       "\n",
       "    .dataframe tbody tr th {\n",
       "        vertical-align: top;\n",
       "    }\n",
       "\n",
       "    .dataframe thead th {\n",
       "        text-align: right;\n",
       "    }\n",
       "</style>\n",
       "<table border=\"1\" class=\"dataframe\">\n",
       "  <thead>\n",
       "    <tr style=\"text-align: right;\">\n",
       "      <th></th>\n",
       "      <th>timestamp</th>\n",
       "      <th>open</th>\n",
       "      <th>high</th>\n",
       "      <th>low</th>\n",
       "      <th>close</th>\n",
       "      <th>adj close</th>\n",
       "      <th>volumn</th>\n",
       "    </tr>\n",
       "  </thead>\n",
       "  <tbody>\n",
       "    <tr>\n",
       "      <th>3887</th>\n",
       "      <td>2021-12-31 20:45:00+00:00</td>\n",
       "      <td>115.051003</td>\n",
       "      <td>115.110001</td>\n",
       "      <td>115.010002</td>\n",
       "      <td>115.095001</td>\n",
       "      <td>115.095001</td>\n",
       "      <td>0</td>\n",
       "    </tr>\n",
       "    <tr>\n",
       "      <th>3888</th>\n",
       "      <td>2021-12-31 21:00:00+00:00</td>\n",
       "      <td>115.091003</td>\n",
       "      <td>115.095001</td>\n",
       "      <td>115.029999</td>\n",
       "      <td>115.056999</td>\n",
       "      <td>115.056999</td>\n",
       "      <td>0</td>\n",
       "    </tr>\n",
       "    <tr>\n",
       "      <th>3889</th>\n",
       "      <td>2021-12-31 21:15:00+00:00</td>\n",
       "      <td>115.056999</td>\n",
       "      <td>115.073997</td>\n",
       "      <td>115.019997</td>\n",
       "      <td>115.061996</td>\n",
       "      <td>115.061996</td>\n",
       "      <td>0</td>\n",
       "    </tr>\n",
       "    <tr>\n",
       "      <th>3890</th>\n",
       "      <td>2021-12-31 21:30:00+00:00</td>\n",
       "      <td>115.061996</td>\n",
       "      <td>115.087997</td>\n",
       "      <td>115.040001</td>\n",
       "      <td>115.070000</td>\n",
       "      <td>115.070000</td>\n",
       "      <td>0</td>\n",
       "    </tr>\n",
       "    <tr>\n",
       "      <th>3891</th>\n",
       "      <td>2021-12-31 21:45:00+00:00</td>\n",
       "      <td>115.080002</td>\n",
       "      <td>115.116997</td>\n",
       "      <td>115.050003</td>\n",
       "      <td>115.102997</td>\n",
       "      <td>115.102997</td>\n",
       "      <td>0</td>\n",
       "    </tr>\n",
       "  </tbody>\n",
       "</table>\n",
       "</div>"
      ],
      "text/plain": [
       "                      timestamp        open        high         low  \\\n",
       "3887  2021-12-31 20:45:00+00:00  115.051003  115.110001  115.010002   \n",
       "3888  2021-12-31 21:00:00+00:00  115.091003  115.095001  115.029999   \n",
       "3889  2021-12-31 21:15:00+00:00  115.056999  115.073997  115.019997   \n",
       "3890  2021-12-31 21:30:00+00:00  115.061996  115.087997  115.040001   \n",
       "3891  2021-12-31 21:45:00+00:00  115.080002  115.116997  115.050003   \n",
       "\n",
       "           close   adj close  volumn  \n",
       "3887  115.095001  115.095001       0  \n",
       "3888  115.056999  115.056999       0  \n",
       "3889  115.061996  115.061996       0  \n",
       "3890  115.070000  115.070000       0  \n",
       "3891  115.102997  115.102997       0  "
      ]
     },
     "execution_count": 16,
     "metadata": {},
     "output_type": "execute_result"
    }
   ],
   "source": [
    "data = pd.read_csv('USDJPY_15m_2022_01_03.csv')\n",
    "data.tail()"
   ]
  },
  {
   "cell_type": "markdown",
   "id": "980324b7",
   "metadata": {},
   "source": [
    "### create strategy"
   ]
  },
  {
   "cell_type": "code",
   "execution_count": 17,
   "id": "1a033069",
   "metadata": {},
   "outputs": [],
   "source": [
    "rsi_o2 = ta.Strategy(\n",
    "    name = 'RSI 14 Days for opposite trade',\n",
    "    description = 'RSI for alert',\n",
    "    ta = [\n",
    "        {'kind': 'ema', 'length': 200},\n",
    "        {'kind': 'rsi', 'length': 14}\n",
    "    ]\n",
    ")"
   ]
  },
  {
   "cell_type": "code",
   "execution_count": 18,
   "id": "eb8d7d09",
   "metadata": {},
   "outputs": [],
   "source": [
    "df = data.copy()\n",
    "df.ta.strategy(rsi_o2)"
   ]
  },
  {
   "cell_type": "markdown",
   "id": "070949d0",
   "metadata": {},
   "source": [
    "### create signal"
   ]
  },
  {
   "cell_type": "code",
   "execution_count": 19,
   "id": "7abd99db",
   "metadata": {},
   "outputs": [],
   "source": [
    "def backtest_rsi_o2(df, n=3, tp=0.001, sl=0.001):\n",
    "    n_bars = n  # number of latest bars to backword lookup\n",
    "\n",
    "    for i in range(n_bars):\n",
    "        df['RSI_14_pre_'+str(i)] = df['RSI_14'].shift(i)\n",
    "        df['EMA_200_pre_'+str(i)] = df['EMA_200'].shift(i)\n",
    "        df['high_pre_'+str(i)] = df['high'].shift(i)\n",
    "        df['low_pre_'+str(i)] = df['low'].shift(i)\n",
    "\n",
    "    df['action'] = np.nan\n",
    "\n",
    "    orders = pd.DataFrame(columns = ['action', 'open time', 'open', 'close time', 'close', 'result'])\n",
    "    previous_action = 'close'\n",
    "    order = {}\n",
    "    tp_gap = tp\n",
    "    sl_gap = sl\n",
    "    for index, row in df.iterrows():\n",
    "        sell_point = 0\n",
    "        buy_point = 0\n",
    "\n",
    "        for i in range(n_bars):\n",
    "            if (row['RSI_14_pre_'+str(i)] < 30 and row['EMA_200_pre_'+str(i)] > row['high_pre_'+str(i)]):\n",
    "                sell_point = sell_point + 1\n",
    "            elif (row['RSI_14_pre_'+str(i)] > 70 and row['EMA_200_pre_'+str(i)] < row['low_pre_'+str(i)]):\n",
    "                buy_point = buy_point + 1\n",
    "\n",
    "        if buy_point >= n_bars and previous_action == 'close':\n",
    "            row['action'] = 'buy'\n",
    "            order['action'] = 'buy'\n",
    "            order['open time'] = row['timestamp']\n",
    "            order['open'] = row['open']\n",
    "            previous_action = 'buy'\n",
    "        elif sell_point >= n_bars and previous_action == 'close':\n",
    "            row['action'] = 'sell'\n",
    "            order['action'] = 'sell'\n",
    "            order['open time'] = row['timestamp']\n",
    "            order['open'] = row['open']\n",
    "            previous_action = 'sell'\n",
    "\n",
    "        if previous_action == 'buy' and row['high'] >= order['open'] + tp_gap:\n",
    "            order['result'] = 'TP'\n",
    "            order['close time'] = row['timestamp']\n",
    "            order['close'] = order['open'] + tp_gap\n",
    "            previous_action = 'close'\n",
    "            orders = orders.append(order, ignore_index = True)\n",
    "            order = {}\n",
    "        elif previous_action == 'buy' and row['low'] <= order['open'] - sl_gap:\n",
    "            order['result'] = 'SL'\n",
    "            order['close time'] = row['timestamp']\n",
    "            order['close'] = order['open'] - sl_gap\n",
    "            previous_action = 'close'\n",
    "            orders = orders.append(order, ignore_index = True)\n",
    "            order = {}\n",
    "        elif previous_action == 'sell' and row['low'] <= order['open'] - tp_gap:\n",
    "            order['result'] = 'TP'\n",
    "            order['close time'] = row['timestamp']\n",
    "            order['close'] = order['open'] - tp_gap\n",
    "            previous_action = 'close'\n",
    "            orders = orders.append(order, ignore_index = True)\n",
    "            order = {}\n",
    "        elif previous_action == 'sell' and row['high'] >= order['open'] + sl_gap:\n",
    "            order['result'] = 'SL'\n",
    "            order['close time'] = row['timestamp']\n",
    "            order['close'] = order['open'] + sl_gap\n",
    "            previous_action = 'close'\n",
    "            orders = orders.append(order, ignore_index = True)\n",
    "            order = {}\n",
    "\n",
    "    win_rate = round(len(orders[orders['result'] == 'TP']) * 100 / len(orders), 2)\n",
    "    loss_rate = round(len(orders[orders['result'] == 'SL']) * 100 / len(orders), 2)\n",
    "    print(f\"n bars = {n_bars}, rr = {tp_gap} : {sl_gap} \\nwin rate: {str(win_rate)} %\\n\")"
   ]
  },
  {
   "cell_type": "code",
   "execution_count": 20,
   "id": "e8fb1021",
   "metadata": {},
   "outputs": [
    {
     "name": "stdout",
     "output_type": "stream",
     "text": [
      "n bars = 3, rr = 0.001 : 0.001 \n",
      "win rate: 98.09 %\n",
      "\n"
     ]
    }
   ],
   "source": [
    "backtest_rsi_o2(df, n=3, tp=0.001, sl=0.001)"
   ]
  },
  {
   "cell_type": "code",
   "execution_count": 22,
   "id": "f1137808",
   "metadata": {},
   "outputs": [
    {
     "name": "stdout",
     "output_type": "stream",
     "text": [
      "n bars = 1, rr = 0.001 : 0.001 \n",
      "win rate: 99.0 %\n",
      "\n",
      "n bars = 1, rr = 0.0011 : 0.001 \n",
      "win rate: 99.0 %\n",
      "\n",
      "n bars = 1, rr = 0.0012000000000000001 : 0.001 \n",
      "win rate: 99.0 %\n",
      "\n",
      "n bars = 1, rr = 0.0013 : 0.001 \n",
      "win rate: 99.0 %\n",
      "\n",
      "n bars = 1, rr = 0.0014 : 0.001 \n",
      "win rate: 99.0 %\n",
      "\n",
      "n bars = 2, rr = 0.001 : 0.001 \n",
      "win rate: 98.58 %\n",
      "\n",
      "n bars = 2, rr = 0.0011 : 0.001 \n",
      "win rate: 98.58 %\n",
      "\n",
      "n bars = 2, rr = 0.0012000000000000001 : 0.001 \n",
      "win rate: 98.58 %\n",
      "\n",
      "n bars = 2, rr = 0.0013 : 0.001 \n",
      "win rate: 98.58 %\n",
      "\n",
      "n bars = 2, rr = 0.0014 : 0.001 \n",
      "win rate: 98.58 %\n",
      "\n",
      "n bars = 3, rr = 0.001 : 0.001 \n",
      "win rate: 98.09 %\n",
      "\n",
      "n bars = 3, rr = 0.0011 : 0.001 \n",
      "win rate: 98.09 %\n",
      "\n",
      "n bars = 3, rr = 0.0012000000000000001 : 0.001 \n",
      "win rate: 98.09 %\n",
      "\n",
      "n bars = 3, rr = 0.0013 : 0.001 \n",
      "win rate: 98.09 %\n",
      "\n",
      "n bars = 3, rr = 0.0014 : 0.001 \n",
      "win rate: 98.09 %\n",
      "\n",
      "n bars = 4, rr = 0.001 : 0.001 \n",
      "win rate: 97.54 %\n",
      "\n",
      "n bars = 4, rr = 0.0011 : 0.001 \n",
      "win rate: 97.54 %\n",
      "\n",
      "n bars = 4, rr = 0.0012000000000000001 : 0.001 \n",
      "win rate: 97.54 %\n",
      "\n",
      "n bars = 4, rr = 0.0013 : 0.001 \n",
      "win rate: 97.54 %\n",
      "\n",
      "n bars = 4, rr = 0.0014 : 0.001 \n",
      "win rate: 97.54 %\n",
      "\n",
      "n bars = 5, rr = 0.001 : 0.001 \n",
      "win rate: 96.88 %\n",
      "\n",
      "n bars = 5, rr = 0.0011 : 0.001 \n",
      "win rate: 96.88 %\n",
      "\n",
      "n bars = 5, rr = 0.0012000000000000001 : 0.001 \n",
      "win rate: 96.88 %\n",
      "\n",
      "n bars = 5, rr = 0.0013 : 0.001 \n",
      "win rate: 96.88 %\n",
      "\n",
      "n bars = 5, rr = 0.0014 : 0.001 \n",
      "win rate: 96.88 %\n",
      "\n"
     ]
    }
   ],
   "source": [
    "for i in range(5):\n",
    "    for j in range(5):\n",
    "        backtest_rsi_o2(df, n=i+1, tp=0.001 + (j * 0.0001), sl=0.001)"
   ]
  },
  {
   "cell_type": "markdown",
   "id": "a612703f",
   "metadata": {},
   "source": [
    "### backtest"
   ]
  },
  {
   "cell_type": "code",
   "execution_count": null,
   "id": "e7da405e",
   "metadata": {},
   "outputs": [],
   "source": [
    "'''\n",
    "=== Todo ===\n",
    "[/] import forex data from yohoo finance GBPUSD, EURUSD, USDJPY TF: 5min, 15min, 30min, 1hr, 4hr.\n",
    "[/] backtest RSI_O2 strategy with forex.\n",
    "[/] get data from binance BTCUSDT, ETHUSDT, BNBUSDT, ADAUSDT, SHIBUSDT, GALAUSDT, UNIUSDT, CAKEUSDT, SOLUSDT, LUNAUSDT, DOTUSDT\n",
    "   TF: 15min, 30min, 1hr, 4hr, 1day\n",
    "[] create EMA_3_lines strategy.\n",
    "[] backtest EMA_3_lines strategy with forex.\n",
    "[] create bot pull data from yahoo finance because they can give us last 2 months.\n",
    "[] Get Free trial 30 days of Tradingview.\n",
    "'''"
   ]
  }
 ],
 "metadata": {
  "kernelspec": {
   "display_name": "Python 3",
   "language": "python",
   "name": "python3"
  },
  "language_info": {
   "codemirror_mode": {
    "name": "ipython",
    "version": 3
   },
   "file_extension": ".py",
   "mimetype": "text/x-python",
   "name": "python",
   "nbconvert_exporter": "python",
   "pygments_lexer": "ipython3",
   "version": "3.8.8"
  }
 },
 "nbformat": 4,
 "nbformat_minor": 5
}
