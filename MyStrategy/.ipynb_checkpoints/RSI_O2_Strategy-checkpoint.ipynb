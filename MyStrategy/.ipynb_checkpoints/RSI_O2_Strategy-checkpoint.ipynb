{
 "cells": [
  {
   "cell_type": "markdown",
   "id": "279ab3da",
   "metadata": {},
   "source": [
    "### RSI _Opposite_Order ( RSI_O2 ) Strategy"
   ]
  },
  {
   "cell_type": "code",
   "execution_count": 1,
   "id": "c14fb0ee",
   "metadata": {},
   "outputs": [],
   "source": [
    "import time\n",
    "from datetime import datetime\n",
    "\n",
    "import pandas as pd\n",
    "import pandas_ta as ta\n",
    "import numpy as np"
   ]
  },
  {
   "cell_type": "markdown",
   "id": "3c0c0fc6",
   "metadata": {},
   "source": [
    "### import csv"
   ]
  },
  {
   "cell_type": "code",
   "execution_count": 2,
   "id": "164686dc",
   "metadata": {},
   "outputs": [
    {
     "data": {
      "text/html": [
       "<div>\n",
       "<style scoped>\n",
       "    .dataframe tbody tr th:only-of-type {\n",
       "        vertical-align: middle;\n",
       "    }\n",
       "\n",
       "    .dataframe tbody tr th {\n",
       "        vertical-align: top;\n",
       "    }\n",
       "\n",
       "    .dataframe thead th {\n",
       "        text-align: right;\n",
       "    }\n",
       "</style>\n",
       "<table border=\"1\" class=\"dataframe\">\n",
       "  <thead>\n",
       "    <tr style=\"text-align: right;\">\n",
       "      <th></th>\n",
       "      <th>timestamp</th>\n",
       "      <th>open</th>\n",
       "      <th>high</th>\n",
       "      <th>low</th>\n",
       "      <th>close</th>\n",
       "      <th>adj close</th>\n",
       "      <th>volumn</th>\n",
       "    </tr>\n",
       "  </thead>\n",
       "  <tbody>\n",
       "    <tr>\n",
       "      <th>3863</th>\n",
       "      <td>2021-12-27 15:45:00+00:00</td>\n",
       "      <td>1.342282</td>\n",
       "      <td>1.342282</td>\n",
       "      <td>1.341022</td>\n",
       "      <td>1.341976</td>\n",
       "      <td>1.341976</td>\n",
       "      <td>0</td>\n",
       "    </tr>\n",
       "    <tr>\n",
       "      <th>3864</th>\n",
       "      <td>2021-12-27 16:00:00+00:00</td>\n",
       "      <td>1.341562</td>\n",
       "      <td>1.342913</td>\n",
       "      <td>1.341526</td>\n",
       "      <td>1.342642</td>\n",
       "      <td>1.342642</td>\n",
       "      <td>0</td>\n",
       "    </tr>\n",
       "    <tr>\n",
       "      <th>3865</th>\n",
       "      <td>2021-12-27 16:15:00+00:00</td>\n",
       "      <td>1.342606</td>\n",
       "      <td>1.343544</td>\n",
       "      <td>1.342588</td>\n",
       "      <td>1.343544</td>\n",
       "      <td>1.343544</td>\n",
       "      <td>0</td>\n",
       "    </tr>\n",
       "    <tr>\n",
       "      <th>3866</th>\n",
       "      <td>2021-12-27 16:30:00+00:00</td>\n",
       "      <td>1.343508</td>\n",
       "      <td>1.344104</td>\n",
       "      <td>1.343075</td>\n",
       "      <td>1.343400</td>\n",
       "      <td>1.343400</td>\n",
       "      <td>0</td>\n",
       "    </tr>\n",
       "    <tr>\n",
       "      <th>3867</th>\n",
       "      <td>2021-12-27 16:45:00+00:00</td>\n",
       "      <td>1.343292</td>\n",
       "      <td>1.343743</td>\n",
       "      <td>1.343093</td>\n",
       "      <td>1.343292</td>\n",
       "      <td>1.343292</td>\n",
       "      <td>0</td>\n",
       "    </tr>\n",
       "  </tbody>\n",
       "</table>\n",
       "</div>"
      ],
      "text/plain": [
       "                      timestamp      open      high       low     close  \\\n",
       "3863  2021-12-27 15:45:00+00:00  1.342282  1.342282  1.341022  1.341976   \n",
       "3864  2021-12-27 16:00:00+00:00  1.341562  1.342913  1.341526  1.342642   \n",
       "3865  2021-12-27 16:15:00+00:00  1.342606  1.343544  1.342588  1.343544   \n",
       "3866  2021-12-27 16:30:00+00:00  1.343508  1.344104  1.343075  1.343400   \n",
       "3867  2021-12-27 16:45:00+00:00  1.343292  1.343743  1.343093  1.343292   \n",
       "\n",
       "      adj close  volumn  \n",
       "3863   1.341976       0  \n",
       "3864   1.342642       0  \n",
       "3865   1.343544       0  \n",
       "3866   1.343400       0  \n",
       "3867   1.343292       0  "
      ]
     },
     "execution_count": 2,
     "metadata": {},
     "output_type": "execute_result"
    }
   ],
   "source": [
    "data = pd.read_csv('EURUSD_m15_2021_12_28.csv')\n",
    "data.tail()"
   ]
  },
  {
   "cell_type": "markdown",
   "id": "980324b7",
   "metadata": {},
   "source": [
    "### create strategy"
   ]
  },
  {
   "cell_type": "code",
   "execution_count": 3,
   "id": "1a033069",
   "metadata": {},
   "outputs": [],
   "source": [
    "rsi_o2 = ta.Strategy(\n",
    "    name = 'RSI 14 Days for opposite trade',\n",
    "    description = 'RSI for alert',\n",
    "    ta = [\n",
    "        {'kind': 'ema', 'length': 200},\n",
    "        {'kind': 'rsi', 'length': 14}\n",
    "    ]\n",
    ")"
   ]
  },
  {
   "cell_type": "code",
   "execution_count": 4,
   "id": "eb8d7d09",
   "metadata": {},
   "outputs": [],
   "source": [
    "df = data.copy()\n",
    "df.ta.strategy(rsi_o2)"
   ]
  },
  {
   "cell_type": "markdown",
   "id": "070949d0",
   "metadata": {},
   "source": [
    "### create signal"
   ]
  },
  {
   "cell_type": "code",
   "execution_count": 26,
   "id": "7abd99db",
   "metadata": {},
   "outputs": [],
   "source": [
    "def backtest_rsi_o2(df, n=3, tp=0.001, sl=0.001):\n",
    "    n_bars = n  # number of latest bars to backword lookup\n",
    "\n",
    "    for i in range(n_bars):\n",
    "        df['RSI_14_pre_'+str(i)] = df['RSI_14'].shift(i)\n",
    "        df['EMA_200_pre_'+str(i)] = df['EMA_200'].shift(i)\n",
    "        df['high_pre_'+str(i)] = df['high'].shift(i)\n",
    "        df['low_pre_'+str(i)] = df['low'].shift(i)\n",
    "\n",
    "    df['action'] = np.nan\n",
    "\n",
    "    orders = pd.DataFrame(columns = ['action', 'open time', 'open', 'close time', 'close', 'result'])\n",
    "    previous_action = 'close'\n",
    "    order = {}\n",
    "    tp_gap = tp\n",
    "    sl_gap = sl\n",
    "    for index, row in df.iterrows():\n",
    "        sell_point = 0\n",
    "        buy_point = 0\n",
    "\n",
    "        for i in range(n_bars):\n",
    "            if (row['RSI_14_pre_'+str(i)] < 30 and row['EMA_200_pre_'+str(i)] > row['high_pre_'+str(i)]):\n",
    "                sell_point = sell_point + 1\n",
    "            elif (row['RSI_14_pre_'+str(i)] > 70 and row['EMA_200_pre_'+str(i)] < row['low_pre_'+str(i)]):\n",
    "                buy_point = buy_point + 1\n",
    "\n",
    "        if buy_point >= n_bars and previous_action == 'close':\n",
    "            row['action'] = 'buy'\n",
    "            order['action'] = 'buy'\n",
    "            order['open time'] = row['timestamp']\n",
    "            order['open'] = row['open']\n",
    "            previous_action = 'buy'\n",
    "        elif sell_point >= n_bars and previous_action == 'close':\n",
    "            row['action'] = 'sell'\n",
    "            order['action'] = 'sell'\n",
    "            order['open time'] = row['timestamp']\n",
    "            order['open'] = row['open']\n",
    "            previous_action = 'sell'\n",
    "\n",
    "        if previous_action == 'buy' and row['high'] >= order['open'] + tp_gap:\n",
    "            order['result'] = 'TP'\n",
    "            order['close time'] = row['timestamp']\n",
    "            order['close'] = order['open'] + tp_gap\n",
    "            previous_action = 'close'\n",
    "            orders = orders.append(order, ignore_index = True)\n",
    "            order = {}\n",
    "        elif previous_action == 'buy' and row['low'] <= order['open'] - sl_gap:\n",
    "            order['result'] = 'SL'\n",
    "            order['close time'] = row['timestamp']\n",
    "            order['close'] = order['open'] - sl_gap\n",
    "            previous_action = 'close'\n",
    "            orders = orders.append(order, ignore_index = True)\n",
    "            order = {}\n",
    "        elif previous_action == 'sell' and row['low'] <= order['open'] - tp_gap:\n",
    "            order['result'] = 'TP'\n",
    "            order['close time'] = row['timestamp']\n",
    "            order['close'] = order['open'] - tp_gap\n",
    "            previous_action = 'close'\n",
    "            orders = orders.append(order, ignore_index = True)\n",
    "            order = {}\n",
    "        elif previous_action == 'sell' and row['high'] >= order['open'] + sl_gap:\n",
    "            order['result'] = 'SL'\n",
    "            order['close time'] = row['timestamp']\n",
    "            order['close'] = order['open'] + sl_gap\n",
    "            previous_action = 'close'\n",
    "            orders = orders.append(order, ignore_index = True)\n",
    "            order = {}\n",
    "\n",
    "    win_rate = round(len(orders[orders['result'] == 'TP']) * 100 / len(orders), 2)\n",
    "    loss_rate = round(len(orders[orders['result'] == 'SL']) * 100 / len(orders), 2)\n",
    "    print(f\"n bars = {n_bars}, rr = {tp_gap} : {sl_gap} \\nwin rate: {str(win_rate)} %\\n\")"
   ]
  },
  {
   "cell_type": "code",
   "execution_count": 27,
   "id": "e8fb1021",
   "metadata": {},
   "outputs": [
    {
     "name": "stdout",
     "output_type": "stream",
     "text": [
      "n bars = 3, rr = 0.001 : 0.001 \n",
      "win rate: 59.68 %\n",
      "\n"
     ]
    }
   ],
   "source": [
    "backtest_rsi_o2(df, n=3, tp=0.001, sl=0.001)"
   ]
  },
  {
   "cell_type": "code",
   "execution_count": 30,
   "id": "f1137808",
   "metadata": {},
   "outputs": [
    {
     "name": "stdout",
     "output_type": "stream",
     "text": [
      "n bars = 1, rr = 0.001 : 0.001 \n",
      "win rate: 73.88 %\n",
      "\n",
      "n bars = 1, rr = 0.0011 : 0.001 \n",
      "win rate: 70.23 %\n",
      "\n",
      "n bars = 1, rr = 0.0012000000000000001 : 0.001 \n",
      "win rate: 68.8 %\n",
      "\n",
      "n bars = 2, rr = 0.001 : 0.001 \n",
      "win rate: 68.13 %\n",
      "\n",
      "n bars = 2, rr = 0.0011 : 0.001 \n",
      "win rate: 63.22 %\n",
      "\n",
      "n bars = 2, rr = 0.0012000000000000001 : 0.001 \n",
      "win rate: 61.73 %\n",
      "\n",
      "n bars = 3, rr = 0.001 : 0.001 \n",
      "win rate: 59.68 %\n",
      "\n",
      "n bars = 3, rr = 0.0011 : 0.001 \n",
      "win rate: 58.33 %\n",
      "\n",
      "n bars = 3, rr = 0.0012000000000000001 : 0.001 \n",
      "win rate: 54.39 %\n",
      "\n"
     ]
    }
   ],
   "source": [
    "for i in range(3):\n",
    "    for j in range(3):\n",
    "        backtest_rsi_o2(df, n=i+1, tp=0.001 + (j * 0.0001), sl=0.001)"
   ]
  },
  {
   "cell_type": "markdown",
   "id": "a612703f",
   "metadata": {},
   "source": [
    "### backtest"
   ]
  },
  {
   "cell_type": "code",
   "execution_count": null,
   "id": "e7da405e",
   "metadata": {},
   "outputs": [],
   "source": [
    "'''\n",
    "=== Todo ===\n",
    "[/] import forex data from yohoo finance GBPUSD, EURUSD, USDJPY TF: 5min, 15min, 30min, 1hr, 4hr.\n",
    "[/] backtest RSI_O2 strategy with forex.\n",
    "[] get data from binance BTCUSDT, ETHUSDT, BNBUSDT, ADAUSDT, SHIBUSDT, GALAUSDT, UNIUSDT, CAKEUSDT, SOLUSDT, LUNAUSDT, DOTUSDT\n",
    "   TF: 15min, 30min, 1hr, 4hr, 1day\n",
    "[] create EMA_3_lines strategy.\n",
    "[] backtest EMA_3_lines strategy with forex.\n",
    "[] Get Free trial 30 days of Tradingview.\n",
    "[] create bot pull data from yahoo finance because they can give us last 2 months.\n",
    "'''"
   ]
  }
 ],
 "metadata": {
  "kernelspec": {
   "display_name": "Python 3",
   "language": "python",
   "name": "python3"
  },
  "language_info": {
   "codemirror_mode": {
    "name": "ipython",
    "version": 3
   },
   "file_extension": ".py",
   "mimetype": "text/x-python",
   "name": "python",
   "nbconvert_exporter": "python",
   "pygments_lexer": "ipython3",
   "version": "3.8.8"
  }
 },
 "nbformat": 4,
 "nbformat_minor": 5
}
