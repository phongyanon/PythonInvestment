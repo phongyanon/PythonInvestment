{
 "cells": [
  {
   "cell_type": "markdown",
   "id": "e5e8b269",
   "metadata": {},
   "source": [
    "### Gloden cross strategy"
   ]
  },
  {
   "cell_type": "code",
   "execution_count": 1,
   "id": "b641d810",
   "metadata": {},
   "outputs": [],
   "source": [
    "import time\n",
    "from datetime import datetime\n",
    "\n",
    "import pandas as pd\n",
    "import pandas_ta as ta\n",
    "import numpy as np\n",
    "import mplfinance as mpf"
   ]
  },
  {
   "cell_type": "markdown",
   "id": "06857a71",
   "metadata": {},
   "source": [
    "### import csv"
   ]
  },
  {
   "cell_type": "code",
   "execution_count": 16,
   "id": "28ecd71a",
   "metadata": {},
   "outputs": [
    {
     "data": {
      "text/html": [
       "<div>\n",
       "<style scoped>\n",
       "    .dataframe tbody tr th:only-of-type {\n",
       "        vertical-align: middle;\n",
       "    }\n",
       "\n",
       "    .dataframe tbody tr th {\n",
       "        vertical-align: top;\n",
       "    }\n",
       "\n",
       "    .dataframe thead th {\n",
       "        text-align: right;\n",
       "    }\n",
       "</style>\n",
       "<table border=\"1\" class=\"dataframe\">\n",
       "  <thead>\n",
       "    <tr style=\"text-align: right;\">\n",
       "      <th></th>\n",
       "      <th>timestamp</th>\n",
       "      <th>open</th>\n",
       "      <th>high</th>\n",
       "      <th>low</th>\n",
       "      <th>close</th>\n",
       "      <th>adj close</th>\n",
       "      <th>volumn</th>\n",
       "    </tr>\n",
       "  </thead>\n",
       "  <tbody>\n",
       "    <tr>\n",
       "      <th>3887</th>\n",
       "      <td>2021-12-31 20:45:00+00:00</td>\n",
       "      <td>115.051003</td>\n",
       "      <td>115.110001</td>\n",
       "      <td>115.010002</td>\n",
       "      <td>115.095001</td>\n",
       "      <td>115.095001</td>\n",
       "      <td>0</td>\n",
       "    </tr>\n",
       "    <tr>\n",
       "      <th>3888</th>\n",
       "      <td>2021-12-31 21:00:00+00:00</td>\n",
       "      <td>115.091003</td>\n",
       "      <td>115.095001</td>\n",
       "      <td>115.029999</td>\n",
       "      <td>115.056999</td>\n",
       "      <td>115.056999</td>\n",
       "      <td>0</td>\n",
       "    </tr>\n",
       "    <tr>\n",
       "      <th>3889</th>\n",
       "      <td>2021-12-31 21:15:00+00:00</td>\n",
       "      <td>115.056999</td>\n",
       "      <td>115.073997</td>\n",
       "      <td>115.019997</td>\n",
       "      <td>115.061996</td>\n",
       "      <td>115.061996</td>\n",
       "      <td>0</td>\n",
       "    </tr>\n",
       "    <tr>\n",
       "      <th>3890</th>\n",
       "      <td>2021-12-31 21:30:00+00:00</td>\n",
       "      <td>115.061996</td>\n",
       "      <td>115.087997</td>\n",
       "      <td>115.040001</td>\n",
       "      <td>115.070000</td>\n",
       "      <td>115.070000</td>\n",
       "      <td>0</td>\n",
       "    </tr>\n",
       "    <tr>\n",
       "      <th>3891</th>\n",
       "      <td>2021-12-31 21:45:00+00:00</td>\n",
       "      <td>115.080002</td>\n",
       "      <td>115.116997</td>\n",
       "      <td>115.050003</td>\n",
       "      <td>115.102997</td>\n",
       "      <td>115.102997</td>\n",
       "      <td>0</td>\n",
       "    </tr>\n",
       "  </tbody>\n",
       "</table>\n",
       "</div>"
      ],
      "text/plain": [
       "                      timestamp        open        high         low  \\\n",
       "3887  2021-12-31 20:45:00+00:00  115.051003  115.110001  115.010002   \n",
       "3888  2021-12-31 21:00:00+00:00  115.091003  115.095001  115.029999   \n",
       "3889  2021-12-31 21:15:00+00:00  115.056999  115.073997  115.019997   \n",
       "3890  2021-12-31 21:30:00+00:00  115.061996  115.087997  115.040001   \n",
       "3891  2021-12-31 21:45:00+00:00  115.080002  115.116997  115.050003   \n",
       "\n",
       "           close   adj close  volumn  \n",
       "3887  115.095001  115.095001       0  \n",
       "3888  115.056999  115.056999       0  \n",
       "3889  115.061996  115.061996       0  \n",
       "3890  115.070000  115.070000       0  \n",
       "3891  115.102997  115.102997       0  "
      ]
     },
     "execution_count": 16,
     "metadata": {},
     "output_type": "execute_result"
    }
   ],
   "source": [
    "data = pd.read_csv('USDJPY_15m_2022_01_03.csv')\n",
    "data.tail()"
   ]
  },
  {
   "cell_type": "code",
   "execution_count": 17,
   "id": "dfbe8eb9",
   "metadata": {},
   "outputs": [],
   "source": [
    "df = data.copy()"
   ]
  },
  {
   "cell_type": "markdown",
   "id": "d1440fff",
   "metadata": {},
   "source": [
    "### Create strategy"
   ]
  },
  {
   "cell_type": "code",
   "execution_count": 18,
   "id": "d04ad6da",
   "metadata": {},
   "outputs": [],
   "source": [
    "gloden_cross = ta.Strategy(\n",
    "    name = 'Gloden cross',\n",
    "    description = 'Gloden cross by EMA 2 Line',\n",
    "    ta = [\n",
    "        {'kind': 'ema', 'length': 200},\n",
    "        {'kind': 'ema', 'length': 10},\n",
    "        {'kind': 'ema', 'length': 50}\n",
    "    ]\n",
    ")\n",
    "df.ta.strategy(gloden_cross)"
   ]
  },
  {
   "cell_type": "markdown",
   "id": "25632d0a",
   "metadata": {},
   "source": [
    "### Create signal"
   ]
  },
  {
   "cell_type": "code",
   "execution_count": 19,
   "id": "3306ee67",
   "metadata": {},
   "outputs": [],
   "source": [
    "class BacktestGlodenCross:\n",
    "    def __init__(self, params):\n",
    "        self.orders = pd.DataFrame(columns = ['action', 'open time', 'open', 'close time', 'close', 'T/P', 'S/L', 'result'])\n",
    "        self.order = {'action': None, 'open time': None, 'open': None, 'close time': None, \\\n",
    "                      'close': None, 'T/P': None, 'S/L': None,'result': None}\n",
    "        self.unknow_result = []\n",
    "        \n",
    "        self.current_action = 'close'\n",
    "        self.atr_len = params['atr_len']\n",
    "        self.ema_1 = params['ema_1']\n",
    "        self.ema_2 = params['ema_2']\n",
    "        \n",
    "        self.pip_value = params['pip_value']\n",
    "        self.rr = params['rr']\n",
    "        self.df = params['df']\n",
    "        \n",
    "    def reset_order(self):\n",
    "        self.order = {'action': None, 'open time': None, 'open': None, 'close time': None, \\\n",
    "                      'close': None, 'T/P': None, 'S/L': None,'result': None}\n",
    "        \n",
    "    def backtest(self):\n",
    "        n_bars = 3\n",
    "        gloden_cross = ta.Strategy(\n",
    "            name = 'Gloden cross',\n",
    "            description = 'Gloden cross by EMA 2 Line',\n",
    "            ta = [\n",
    "                {'kind': 'ema', 'length': 200},\n",
    "                {'kind': 'ema', 'length': self.ema_1},\n",
    "                {'kind': 'ema', 'length': self.ema_2},\n",
    "                {'kind': 'atr', 'length': self.atr_len}\n",
    "            ]\n",
    "        )\n",
    "        self.df.ta.strategy(gloden_cross)\n",
    "        self.df.dropna()\n",
    "        \n",
    "        for index, row in self.df.iterrows():\n",
    "            entry = 0\n",
    "            \n",
    "            if self.current_action == 'close':\n",
    "            \n",
    "                if (row['EMA_'+str(self.ema_1)] > row['EMA_'+str(self.ema_2)]) and (row['low'] > row['EMA_'+str(200)]):\n",
    "                    # check if previous n bars ema_1 < ema_2 then buy.\n",
    "                    if index > n_bars:\n",
    "                        for pre_index, pre_row in self.df.iloc[index-n_bars:index].iterrows():\n",
    "                            if (pre_row['EMA_'+str(self.ema_1)] < pre_row['EMA_'+str(self.ema_2)]):\n",
    "                                row['action'] = 'buy'\n",
    "                                self.order['action'] = 'buy'\n",
    "                                self.order['open time'] = row['timestamp']\n",
    "                                self.order['open'] = row['open']\n",
    "                                self.order['S/L'] = row['open'] - row['ATRr_'+str(self.atr_len)]\n",
    "                                self.order['T/P'] = row['open'] + (self.rr * abs(row['open'] - self.order['S/L']))\n",
    "                                self.current_action = 'buy'\n",
    "                        \n",
    "                elif (row['EMA_'+str(self.ema_1)] < row['EMA_'+str(self.ema_2)]) and (row['high'] < row['EMA_'+str(200)]):\n",
    "                    # check if previous n bars ema_1 > ema_2 then sell.\n",
    "                    if index > n_bars:\n",
    "                        for pre_index, pre_row in self.df.iloc[index-n_bars:index].iterrows():\n",
    "                            if (pre_row['EMA_'+str(self.ema_1)] > pre_row['EMA_'+str(self.ema_2)]):\n",
    "                                row['action'] = 'sell'\n",
    "                                self.order['action'] = 'sell'\n",
    "                                self.order['open time'] = row['timestamp']\n",
    "                                self.order['open'] = row['open']\n",
    "                                self.order['S/L'] = row['open'] + row['ATRr_'+str(self.atr_len)]\n",
    "                                self.order['T/P'] = row['open'] - (self.rr * abs(row['open'] - self.order['S/L']))\n",
    "                                self.current_action = 'sell'\n",
    "        \n",
    "            if self.current_action == 'buy':\n",
    "                if row['low'] <= self.order['S/L'] and row['high'] >= self.order['T/P']:\n",
    "                    self.unknow_result.append(row)\n",
    "                    \n",
    "                if row['low'] <= self.order['S/L']:\n",
    "                    self.order['result'] = 'S/L'\n",
    "                    self.order['close time'] = row['timestamp']\n",
    "                    self.order['close'] = self.order['S/L']\n",
    "                    \n",
    "                    self.current_action = 'close'\n",
    "                    self.orders = self.orders.append(self.order, ignore_index = True)\n",
    "                    self.reset_order()\n",
    "                    \n",
    "                elif row['high'] >= self.order['T/P']:\n",
    "                    self.order['result'] = 'T/P'\n",
    "                    self.order['close time'] = row['timestamp']\n",
    "                    self.order['close'] = self.order['T/P']\n",
    "                    \n",
    "                    self.current_action = 'close'\n",
    "                    self.orders = self.orders.append(self.order, ignore_index = True)\n",
    "                    self.reset_order()\n",
    "\n",
    "            elif self.current_action == 'sell':\n",
    "                if row['high'] >= self.order['S/L'] and row['low'] <= self.order['T/P']:\n",
    "                    self.unknow_result.append(row)\n",
    "                    \n",
    "                if row['high'] >= self.order['S/L']:\n",
    "                    self.order['result'] = 'S/L'\n",
    "                    self.order['close time'] = row['timestamp']\n",
    "                    self.order['close'] = self.order['S/L']\n",
    "                    \n",
    "                    self.current_action = 'close'\n",
    "                    self.orders = self.orders.append(self.order, ignore_index = True)\n",
    "                    self.reset_order()\n",
    "                    \n",
    "                elif row['low'] <= self.order['T/P']:\n",
    "                    self.order['result'] = 'T/P'\n",
    "                    self.order['close time'] = row['timestamp']\n",
    "                    self.order['close'] = self.order['T/P']\n",
    "                    \n",
    "                    self.current_action = 'close'\n",
    "                    self.orders = self.orders.append(self.order, ignore_index = True)\n",
    "                    self.reset_order()\n",
    "\n",
    "        try:\n",
    "            win_rate = round(len(self.orders[self.orders['result'] == 'T/P']) * 100 / len(self.orders), 2)\n",
    "            loss_rate = round(len(self.orders[self.orders['result'] == 'S/L']) * 100 / len(self.orders), 2)\n",
    "\n",
    "            win_orders = int((win_rate * len(self.orders)) / 100 )\n",
    "            loss_orders = len(self.orders) - win_orders\n",
    "            gain = (win_orders * self.rr) - loss_orders\n",
    "\n",
    "            result_info = f\"total orders: {len(self.orders)}\\nema_1: {self.ema_1}, ema_2: {self.ema_2}, atr: {self.atr_len}, gain: {gain}\\n\"\n",
    "            return {'win_rate': win_rate, 'info': result_info, 'total_order': len(self.orders), 'rr': self.rr, 'gain': gain, 'unknow': self.unknow_result}\n",
    "        except:\n",
    "    #         print(\"No orders to action\")\n",
    "            return {'win_rate': 0, 'info': 'No orders to action'}"
   ]
  },
  {
   "cell_type": "code",
   "execution_count": 20,
   "id": "fcee382f",
   "metadata": {},
   "outputs": [
    {
     "data": {
      "text/plain": [
       "{'win_rate': 44.64,\n",
       " 'info': 'total orders: 56\\nema_1: 10, ema_2: 50, atr: 14, gain: 4.0\\n',\n",
       " 'total_order': 56,\n",
       " 'rr': 1.5,\n",
       " 'gain': 4.0,\n",
       " 'unknow': []}"
      ]
     },
     "execution_count": 20,
     "metadata": {},
     "output_type": "execute_result"
    }
   ],
   "source": [
    "eurusd = BacktestGlodenCross({\n",
    "    'atr_len': 14,\n",
    "    'ema_1': 10,\n",
    "    'ema_2': 50,\n",
    "    'pip_value': 0.001,\n",
    "    'rr': 1.5,\n",
    "    'df': df\n",
    "})\n",
    "eurusd.backtest()"
   ]
  },
  {
   "cell_type": "code",
   "execution_count": 21,
   "id": "8abac3b4",
   "metadata": {},
   "outputs": [
    {
     "data": {
      "text/plain": [
       "1515"
      ]
     },
     "execution_count": 21,
     "metadata": {},
     "output_type": "execute_result"
    }
   ],
   "source": [
    "\"\"\"\n",
    "Grid parameter example\n",
    "line 1: 10 -> 40\n",
    "line 2: 30 -> 80\n",
    "condition line 1 < line 2 < line 3\n",
    "\"\"\"\n",
    "def create_grid_params(line1_start, line1_end, line2_start, line2_end):\n",
    "    params = []\n",
    "    for i in range(line1_start, line1_end+1):\n",
    "        for j in range(line2_start, line2_end+1):\n",
    "            if( i < j ):\n",
    "                params.append([i, j])\n",
    "    return params\n",
    "params_list = create_grid_params(10, 40, 30, 80)\n",
    "len(params_list)"
   ]
  },
  {
   "cell_type": "code",
   "execution_count": 22,
   "id": "84c2fb9b",
   "metadata": {},
   "outputs": [
    {
     "name": "stdout",
     "output_type": "stream",
     "text": [
      "run: 1515 to 1515\n",
      "win rate: 69.7 %\n",
      "total orders: 33\n",
      "ema_1: 20, ema_2: 76, atr: 14, gain: 24.5\n",
      "\n"
     ]
    }
   ],
   "source": [
    "good_params = {'win': 0, 'info': ''}\n",
    "start = 0\n",
    "end = 1515\n",
    "win_start = 0\n",
    "\n",
    "loop_num = start\n",
    "for param in params_list[start:end]:\n",
    "    obj = BacktestGlodenCross({'atr_len': 14, 'ema_1': param[0], 'ema_2': param[1], 'pip_value': 0.001, 'rr': 1.5, 'df': df})\n",
    "    result = obj.backtest()\n",
    "    if result['win_rate'] > win_start and result['total_order'] > 30:\n",
    "        win_start = result['win_rate']\n",
    "        good_params['win'] = result['win_rate']\n",
    "        good_params['info'] = result['info']\n",
    "    loop_num = loop_num + 1\n",
    "    print(f\"run: {loop_num} to {end}\", end = \"\\r\")\n",
    "    \n",
    "print(f\"\\nwin rate: {good_params['win']} %\\n{good_params['info']}\")"
   ]
  },
  {
   "cell_type": "markdown",
   "id": "668e4cc1",
   "metadata": {},
   "source": [
    "#### eurusd\n",
    "* win rate: 65.22 %\n",
    "* total orders: 46\n",
    "* ema_1: 25, ema_2: 80, atr: 14, gain: 29.0\n",
    "\n",
    "#### gbpusd\n",
    "* win rate: 66.67 %\n",
    "* total orders: 48\n",
    "* ema_1: 22, ema_2: 73, atr: 14, gain: 32.0\n",
    "\n",
    "#### audusd\n",
    "* win rate: 71.64 %\n",
    "* total orders: 67\n",
    "* ema_1: 17, ema_2: 31, atr: 14, gain: 50.5\n",
    "\n",
    "#### usdjpy\n",
    "* win rate: 69.7 %\n",
    "* total orders: 33\n",
    "* ema_1: 20, ema_2: 76, atr: 14, gain: 24.5"
   ]
  },
  {
   "cell_type": "code",
   "execution_count": null,
   "id": "f1e5a267",
   "metadata": {},
   "outputs": [],
   "source": []
  }
 ],
 "metadata": {
  "kernelspec": {
   "display_name": "Python 3",
   "language": "python",
   "name": "python3"
  },
  "language_info": {
   "codemirror_mode": {
    "name": "ipython",
    "version": 3
   },
   "file_extension": ".py",
   "mimetype": "text/x-python",
   "name": "python",
   "nbconvert_exporter": "python",
   "pygments_lexer": "ipython3",
   "version": "3.8.8"
  }
 },
 "nbformat": 4,
 "nbformat_minor": 5
}
