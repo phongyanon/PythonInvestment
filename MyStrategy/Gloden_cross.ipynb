{
 "cells": [
  {
   "cell_type": "markdown",
   "id": "6fe46f2e",
   "metadata": {},
   "source": [
    "### Gloden cross strategy"
   ]
  },
  {
   "cell_type": "code",
   "execution_count": 1,
   "id": "c331011d",
   "metadata": {},
   "outputs": [],
   "source": [
    "import time\n",
    "from datetime import datetime\n",
    "\n",
    "import pandas as pd\n",
    "import pandas_ta as ta\n",
    "import numpy as np\n",
    "import mplfinance as mpf"
   ]
  },
  {
   "cell_type": "markdown",
   "id": "97d7f47a",
   "metadata": {},
   "source": [
    "### import csv"
   ]
  },
  {
   "cell_type": "code",
   "execution_count": 2,
   "id": "3767020c",
   "metadata": {},
   "outputs": [
    {
     "data": {
      "text/html": [
       "<div>\n",
       "<style scoped>\n",
       "    .dataframe tbody tr th:only-of-type {\n",
       "        vertical-align: middle;\n",
       "    }\n",
       "\n",
       "    .dataframe tbody tr th {\n",
       "        vertical-align: top;\n",
       "    }\n",
       "\n",
       "    .dataframe thead th {\n",
       "        text-align: right;\n",
       "    }\n",
       "</style>\n",
       "<table border=\"1\" class=\"dataframe\">\n",
       "  <thead>\n",
       "    <tr style=\"text-align: right;\">\n",
       "      <th></th>\n",
       "      <th>timestamp</th>\n",
       "      <th>open</th>\n",
       "      <th>high</th>\n",
       "      <th>low</th>\n",
       "      <th>close</th>\n",
       "      <th>adj close</th>\n",
       "      <th>volumn</th>\n",
       "    </tr>\n",
       "  </thead>\n",
       "  <tbody>\n",
       "    <tr>\n",
       "      <th>3501</th>\n",
       "      <td>2021-12-31 20:45:00+00:00</td>\n",
       "      <td>1.138952</td>\n",
       "      <td>1.139212</td>\n",
       "      <td>1.138174</td>\n",
       "      <td>1.138174</td>\n",
       "      <td>1.138174</td>\n",
       "      <td>0</td>\n",
       "    </tr>\n",
       "    <tr>\n",
       "      <th>3502</th>\n",
       "      <td>2021-12-31 21:00:00+00:00</td>\n",
       "      <td>1.138045</td>\n",
       "      <td>1.138304</td>\n",
       "      <td>1.137915</td>\n",
       "      <td>1.138174</td>\n",
       "      <td>1.138174</td>\n",
       "      <td>0</td>\n",
       "    </tr>\n",
       "    <tr>\n",
       "      <th>3503</th>\n",
       "      <td>2021-12-31 21:30:00+00:00</td>\n",
       "      <td>1.138174</td>\n",
       "      <td>1.138174</td>\n",
       "      <td>1.138045</td>\n",
       "      <td>1.138045</td>\n",
       "      <td>1.138045</td>\n",
       "      <td>0</td>\n",
       "    </tr>\n",
       "    <tr>\n",
       "      <th>3504</th>\n",
       "      <td>2021-12-31 21:45:00+00:00</td>\n",
       "      <td>1.138174</td>\n",
       "      <td>1.138563</td>\n",
       "      <td>1.137010</td>\n",
       "      <td>1.137268</td>\n",
       "      <td>1.137268</td>\n",
       "      <td>0</td>\n",
       "    </tr>\n",
       "    <tr>\n",
       "      <th>3505</th>\n",
       "      <td>2021-12-31 22:00:00+00:00</td>\n",
       "      <td>1.137268</td>\n",
       "      <td>1.137268</td>\n",
       "      <td>1.137268</td>\n",
       "      <td>1.137268</td>\n",
       "      <td>1.137268</td>\n",
       "      <td>0</td>\n",
       "    </tr>\n",
       "  </tbody>\n",
       "</table>\n",
       "</div>"
      ],
      "text/plain": [
       "                      timestamp      open      high       low     close  \\\n",
       "3501  2021-12-31 20:45:00+00:00  1.138952  1.139212  1.138174  1.138174   \n",
       "3502  2021-12-31 21:00:00+00:00  1.138045  1.138304  1.137915  1.138174   \n",
       "3503  2021-12-31 21:30:00+00:00  1.138174  1.138174  1.138045  1.138045   \n",
       "3504  2021-12-31 21:45:00+00:00  1.138174  1.138563  1.137010  1.137268   \n",
       "3505  2021-12-31 22:00:00+00:00  1.137268  1.137268  1.137268  1.137268   \n",
       "\n",
       "      adj close  volumn  \n",
       "3501   1.138174       0  \n",
       "3502   1.138174       0  \n",
       "3503   1.138045       0  \n",
       "3504   1.137268       0  \n",
       "3505   1.137268       0  "
      ]
     },
     "execution_count": 2,
     "metadata": {},
     "output_type": "execute_result"
    }
   ],
   "source": [
    "data = pd.read_csv('EURUSD_15m_2022_01_03.csv')\n",
    "data.tail()"
   ]
  },
  {
   "cell_type": "code",
   "execution_count": 3,
   "id": "35a69a2b",
   "metadata": {},
   "outputs": [],
   "source": [
    "df = data.copy()"
   ]
  },
  {
   "cell_type": "markdown",
   "id": "4ae4317f",
   "metadata": {},
   "source": [
    "### Create strategy"
   ]
  },
  {
   "cell_type": "code",
   "execution_count": 5,
   "id": "c3548047",
   "metadata": {},
   "outputs": [],
   "source": [
    "gloden_cross = ta.Strategy(\n",
    "    name = 'Gloden cross',\n",
    "    description = 'Gloden cross by EMA 2 Line',\n",
    "    ta = [\n",
    "        {'kind': 'ema', 'length': 200},\n",
    "        {'kind': 'ema', 'length': 10},\n",
    "        {'kind': 'ema', 'length': 50}\n",
    "    ]\n",
    ")"
   ]
  },
  {
   "cell_type": "markdown",
   "id": "01ea43f7",
   "metadata": {},
   "source": [
    "### Create signal"
   ]
  },
  {
   "cell_type": "code",
   "execution_count": 8,
   "id": "b913c2dc",
   "metadata": {},
   "outputs": [],
   "source": [
    "class BacktestGlodenCross:\n",
    "    def __init__(self, params):\n",
    "        self.pair = params['pair']\n",
    "        self.orders = pd.DataFrame(columns = ['action', 'open time', 'open', 'close time', 'close', 'T/P', 'S/L', 'result'])\n",
    "        self.order = {'action': None, 'open time': None, 'open': None, 'close time': None, \\\n",
    "                      'close': None, 'T/P': None, 'S/L': None,'result': None}\n",
    "        self.unknow_result = []\n",
    "        \n",
    "        self.current_action = 'close'\n",
    "        self.atr_len = params['atr_len']\n",
    "        self.ema_1 = params['ema_1']\n",
    "        self.ema_2 = params['ema_2']\n",
    "        \n",
    "        self.n_bars = params['n_bars']\n",
    "        self.pip_value = params['pip_value']\n",
    "        self.rr = params['rr']\n",
    "        self.df = params['df']\n",
    "        \n",
    "    def backtest(self):\n",
    "        n_bars = 3\n",
    "        gloden_cross = ta.Strategy(\n",
    "            name = 'Gloden cross',\n",
    "            description = 'Gloden cross by EMA 2 Line',\n",
    "            ta = [\n",
    "                {'kind': 'ema', 'length': 200},\n",
    "                {'kind': 'ema', 'length': self.ema_1},\n",
    "                {'kind': 'ema', 'length': self.ema_2}\n",
    "            ]\n",
    "        )\n",
    "        self.df.ta.strategy(gloden_cross)\n",
    "        # drop na \n",
    "        \n",
    "        for index, row in self.df.iterrows():\n",
    "            entry = 0\n",
    "            \n",
    "            if self.current_action == 'close':\n",
    "            \n",
    "                if (row['EMA_'+str(self.ema_1)] > row['EMA_'+str(self.ema_2)]) and (row['low'] > row['EMA_'+str(200)]):\n",
    "                    # check if previous n bars ema_1 <= ema_2 then buy.\n",
    "                    pass\n",
    "                        \n",
    "                elif (row['EMA_'+str(self.ema_1)] < row['EMA_'+str(self.ema_2)]) and (row['high'] < row['EMA_'+str(200)]):\n",
    "                    # check if previous n bars ema_1 >= ema_2 then sell.\n",
    "                    pass\n",
    "        "
   ]
  },
  {
   "cell_type": "code",
   "execution_count": null,
   "id": "7454300b",
   "metadata": {},
   "outputs": [],
   "source": []
  }
 ],
 "metadata": {
  "kernelspec": {
   "display_name": "Python 3",
   "language": "python",
   "name": "python3"
  },
  "language_info": {
   "codemirror_mode": {
    "name": "ipython",
    "version": 3
   },
   "file_extension": ".py",
   "mimetype": "text/x-python",
   "name": "python",
   "nbconvert_exporter": "python",
   "pygments_lexer": "ipython3",
   "version": "3.8.8"
  }
 },
 "nbformat": 4,
 "nbformat_minor": 5
}
