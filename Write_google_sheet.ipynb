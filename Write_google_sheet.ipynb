{
 "cells": [
  {
   "cell_type": "code",
   "execution_count": 123,
   "id": "d0cde1b6",
   "metadata": {},
   "outputs": [
    {
     "data": {
      "text/plain": [
       "True"
      ]
     },
     "execution_count": 123,
     "metadata": {},
     "output_type": "execute_result"
    }
   ],
   "source": [
    "import os\n",
    "from dotenv import load_dotenv\n",
    "import pandas as pd\n",
    "import json\n",
    "import csv\n",
    "from google.oauth2 import service_account\n",
    "import pygsheets\n",
    "\n",
    "load_dotenv()"
   ]
  },
  {
   "cell_type": "code",
   "execution_count": 130,
   "id": "9a12b6dc",
   "metadata": {},
   "outputs": [
    {
     "data": {
      "text/plain": [
       "'1WTJj8qkV9GeM_Fz8m2bLH3gZNNpSfRnqtzBiv3XaFsc'"
      ]
     },
     "execution_count": 130,
     "metadata": {},
     "output_type": "execute_result"
    }
   ],
   "source": [
    "with open('service_account.json') as source:\n",
    "    info = json.load(source)\n",
    "credentials = service_account.Credentials.from_service_account_info(info)\n",
    "\n",
    "client = pygsheets.authorize(service_account_file='service_account.json')\n",
    "spreadsheet_url = os.getenv('TRADE_SHEET')\n",
    "data = client.sheet.get(os.getenv('TRADE_SHEET_ID'))\n",
    "data['spreadsheetId']"
   ]
  },
  {
   "cell_type": "code",
   "execution_count": 128,
   "id": "adfd58e6",
   "metadata": {},
   "outputs": [
    {
     "name": "stdout",
     "output_type": "stream",
     "text": [
      "<Spreadsheet 'TradeJourney 2021' Sheets:5>\n"
     ]
    }
   ],
   "source": [
    "# sheet = client.open('TradeJourney 2021')\n",
    "# sheet = client.open_by_key('1WTJj8qkV9GeM_Fz8m2bLH3gZNNpSfRnqtzBiv3XaFsc')\n",
    "sheet = client.open_by_url(spreadsheet_url)\n",
    "work = sheet.worksheet_by_title('test')"
   ]
  },
  {
   "cell_type": "code",
   "execution_count": null,
   "id": "79b5c496",
   "metadata": {},
   "outputs": [],
   "source": [
    "file_name = 'close_test.csv'\n",
    "work_title ='test'\n",
    "\n",
    "new_row = [] # convert data from Xstation.\n",
    "worksheet = sheet.worksheet_by_title(work_title)\n",
    "cells = worksheet.get_all_values(include_tailing_empty_rows=False, include_tailing_empty=False, returnas='matrix')\n",
    "last_row = len(cells)\n",
    "\n",
    "row_num = 0\n",
    "try:\n",
    "    row_num = int(cells[len(cells) - 1][0]) \n",
    "except:\n",
    "    print('First row is column name.')\n",
    "\n",
    "with open(file_name) as file:\n",
    "    lines = file.readlines()\n",
    "    for line in lines:\n",
    "        col = line.rstrip().split(';')\n",
    "        if len(col) == 12:\n",
    "            result = lambda x : 'win' if (x == '[T/P]') else 'loss'\n",
    "            new_row.append([ str(row_num), str(col[0]), str(col[2]).split(' ')[0], str(col[4]), \n",
    "                            str(col[5]), str(col[6]), str(col[7]), result(col[11])])\n",
    "            row_num = row_num + 1\n",
    "            \n",
    "new_row = new_row[1:]\n",
    "worksheet = worksheet.insert_rows(last_row, number=1, values= new_row)\n",
    "# new_row"
   ]
  },
  {
   "cell_type": "code",
   "execution_count": 138,
   "id": "7ed2b625",
   "metadata": {},
   "outputs": [
    {
     "data": {
      "text/plain": [
       "6"
      ]
     },
     "execution_count": 138,
     "metadata": {},
     "output_type": "execute_result"
    }
   ],
   "source": [
    "int(cells[len(cells) - 1][0]) +1"
   ]
  },
  {
   "cell_type": "code",
   "execution_count": null,
   "id": "e4fb72c5",
   "metadata": {},
   "outputs": [],
   "source": []
  }
 ],
 "metadata": {
  "kernelspec": {
   "display_name": "Python 3",
   "language": "python",
   "name": "python3"
  },
  "language_info": {
   "codemirror_mode": {
    "name": "ipython",
    "version": 3
   },
   "file_extension": ".py",
   "mimetype": "text/x-python",
   "name": "python",
   "nbconvert_exporter": "python",
   "pygments_lexer": "ipython3",
   "version": "3.8.8"
  }
 },
 "nbformat": 4,
 "nbformat_minor": 5
}
