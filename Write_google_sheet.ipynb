{
 "cells": [
  {
   "cell_type": "code",
   "execution_count": 9,
   "id": "d0cde1b6",
   "metadata": {},
   "outputs": [
    {
     "data": {
      "text/plain": [
       "True"
      ]
     },
     "execution_count": 9,
     "metadata": {},
     "output_type": "execute_result"
    }
   ],
   "source": [
    "import os\n",
    "from dotenv import load_dotenv\n",
    "import pandas as pd\n",
    "import json\n",
    "import csv\n",
    "from google.oauth2 import service_account\n",
    "import pygsheets\n",
    "\n",
    "load_dotenv()"
   ]
  },
  {
   "cell_type": "code",
   "execution_count": 10,
   "id": "367501db",
   "metadata": {},
   "outputs": [
    {
     "data": {
      "text/plain": [
       "'1WTJj8qkV9GeM_Fz8m2bLH3gZNNpSfRnqtzBiv3XaFsc'"
      ]
     },
     "execution_count": 10,
     "metadata": {},
     "output_type": "execute_result"
    }
   ],
   "source": [
    "with open('service_account.json') as source:\n",
    "    info = json.load(source)\n",
    "credentials = service_account.Credentials.from_service_account_info(info)\n",
    "\n",
    "client = pygsheets.authorize(service_account_file='service_account.json')\n",
    "spreadsheet_url = os.getenv('TRADE_SHEET')\n",
    "data = client.sheet.get(os.getenv('TRADE_SHEET_ID'))\n",
    "data['spreadsheetId']"
   ]
  },
  {
   "cell_type": "code",
   "execution_count": 11,
   "id": "1eddb031",
   "metadata": {},
   "outputs": [],
   "source": [
    "def UpdateTradeLog(file, spreadsheet_url, work_title): # only xStation log only\n",
    "    new_row = [] # convert data from Xstation.\n",
    "    sheet = client.open_by_url(spreadsheet_url)\n",
    "    worksheet = sheet.worksheet_by_title(work_title)\n",
    "    cells = worksheet.get_all_values(include_tailing_empty_rows=False, include_tailing_empty=False, returnas='matrix')\n",
    "    last_row = len(cells)\n",
    "    # print(cells[len(cells) - 1])\n",
    "\n",
    "    row_num = 0\n",
    "    try:\n",
    "        row_num = int(cells[len(cells) - 1][0])\n",
    "    except:\n",
    "        print('First row is column name.')\n",
    "\n",
    "    with open(file_name) as file:\n",
    "        lines = file.readlines()\n",
    "        for line in lines:\n",
    "            col = line.rstrip().split(';')\n",
    "            if len(col) == 12:\n",
    "                result = lambda x : 'win' if (x == '[T/P]') else 'loss'\n",
    "                new_row.append([ str(row_num), str(col[2]).split(' ')[0], str(col[0]), str(col[4]), \n",
    "                                str(col[5]), str(col[6]), str(col[7]), result(col[11])])\n",
    "                row_num = row_num + 1\n",
    "\n",
    "    new_row = new_row[1:]\n",
    "    worksheet = worksheet.insert_rows(last_row, number=1, values= new_row)\n",
    "    print('done...')"
   ]
  },
  {
   "cell_type": "code",
   "execution_count": 13,
   "id": "3f846692",
   "metadata": {},
   "outputs": [
    {
     "name": "stdout",
     "output_type": "stream",
     "text": [
      "done...\n"
     ]
    }
   ],
   "source": [
    "file_name = 'close_test.csv'\n",
    "work_title ='Trade'\n",
    "\n",
    "UpdateTradeLog(file_name, spreadsheet_url, work_title)"
   ]
  },
  {
   "cell_type": "code",
   "execution_count": 3,
   "id": "2f9eab08",
   "metadata": {},
   "outputs": [],
   "source": [
    "# sheet = client.open('TradeJourney 2021')\n",
    "# sheet = client.open_by_key('1WTJj8qkV9GeM_Fz8m2bLH3gZNNpSfRnqtzBiv3XaFsc')\n",
    "# sheet = client.open_by_url(spreadsheet_url)\n",
    "# work = sheet.worksheet_by_title('test')"
   ]
  }
 ],
 "metadata": {
  "kernelspec": {
   "display_name": "Python 3",
   "language": "python",
   "name": "python3"
  },
  "language_info": {
   "codemirror_mode": {
    "name": "ipython",
    "version": 3
   },
   "file_extension": ".py",
   "mimetype": "text/x-python",
   "name": "python",
   "nbconvert_exporter": "python",
   "pygments_lexer": "ipython3",
   "version": "3.8.8"
  }
 },
 "nbformat": 4,
 "nbformat_minor": 5
}
