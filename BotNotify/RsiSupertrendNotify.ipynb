{
 "cells": [
  {
   "cell_type": "code",
   "execution_count": 11,
   "id": "9626dacc",
   "metadata": {},
   "outputs": [
    {
     "data": {
      "text/plain": [
       "True"
      ]
     },
     "execution_count": 11,
     "metadata": {},
     "output_type": "execute_result"
    }
   ],
   "source": [
    "import os, csv, json\n",
    "from dotenv import load_dotenv\n",
    "import time\n",
    "from datetime import datetime\n",
    "import schedule\n",
    "import requests\n",
    "\n",
    "import pandas as pd\n",
    "import pandas_ta as ta\n",
    "import numpy as np\n",
    "\n",
    "import yfinance as yf\n",
    "yf.pdr_override()\n",
    "from google.oauth2 import service_account\n",
    "import pygsheets\n",
    "\n",
    "load_dotenv()"
   ]
  },
  {
   "cell_type": "code",
   "execution_count": 12,
   "id": "c00e8f4b",
   "metadata": {},
   "outputs": [
    {
     "data": {
      "text/plain": [
       "'1WTJj8qkV9GeM_Fz8m2bLH3gZNNpSfRnqtzBiv3XaFsc'"
      ]
     },
     "execution_count": 12,
     "metadata": {},
     "output_type": "execute_result"
    }
   ],
   "source": [
    "with open(\"..\\service_account.json\") as source:\n",
    "    info = json.load(source)\n",
    "credentials = service_account.Credentials.from_service_account_info(info)\n",
    "\n",
    "CLIENT = pygsheets.authorize(service_account_file='..\\service_account.json')\n",
    "SHEET_URL = os.getenv('TRADE_SHEET')\n",
    "data = CLIENT.sheet.get(os.getenv('TRADE_SHEET_ID'))\n",
    "data['spreadsheetId']"
   ]
  },
  {
   "cell_type": "code",
   "execution_count": 13,
   "id": "98b03fcb",
   "metadata": {},
   "outputs": [],
   "source": [
    "LINE_TOKEN = os.getenv('LINE_TOKEN')\n",
    "LINE_URL = 'https://notify-api.line.me/api/notify'\n",
    "LINE_HEADERS = {'content-type':'application/x-www-form-urlencoded','Authorization':'Bearer ' + LINE_TOKEN }"
   ]
  },
  {
   "cell_type": "code",
   "execution_count": 14,
   "id": "48c95a67",
   "metadata": {},
   "outputs": [],
   "source": [
    "def writeTradeLog(row, pair): # only xStation log only\n",
    "    new_row = [] # convert data from Xstation.\n",
    "    sheet = CLIENT.open_by_url(SHEET_URL)\n",
    "    worksheet = sheet.worksheet_by_title('FowardTest')\n",
    "    cells = worksheet.get_all_values(include_tailing_empty_rows=False, include_tailing_empty=False, returnas='matrix')\n",
    "    last_row = len(cells)\n",
    "\n",
    "    new_row.append([\n",
    "        str(last_row), pair, row['action'], row['open time'], row['open'], row['close time'], row['close'],\n",
    "        row['result'], row['strategy'], row['size']\n",
    "    ])\n",
    "    \n",
    "    worksheet = worksheet.insert_rows(last_row, number=1, values= new_row)\n",
    "    print(last_row, new_row)\n",
    "    print('done...')"
   ]
  },
  {
   "cell_type": "code",
   "execution_count": 15,
   "id": "4943c627",
   "metadata": {},
   "outputs": [],
   "source": [
    "def notifyMsg(*msg):\n",
    "    r = requests.post(LINE_URL, headers=LINE_HEADERS, data={'message': msg[0]})\n",
    "    print(r.text)"
   ]
  },
  {
   "cell_type": "code",
   "execution_count": 16,
   "id": "55ee8742",
   "metadata": {},
   "outputs": [],
   "source": [
    "class RsiSupertrendNotify:\n",
    "    def __init__(self, params):\n",
    "        self.name = 'Rsi_Supertrend'\n",
    "        \n",
    "        self.willr_status = 'idle' # idle, overbought, oversold\n",
    "        self.pair = params['pair']\n",
    "        self.tf = params['tf']\n",
    "        self.order = {'action': None, 'open time': None, 'open': None, 'close time': None, \\\n",
    "                      'close': None, 'T/P': None, 'S/L': None,'result': None, 'strategy': self.name, 'size': 0}\n",
    "        \n",
    "        self.current_action = 'close'\n",
    "        self.atr = params['atr']\n",
    "        self.rsi = params['rsi']\n",
    "        \n",
    "        self.overbought = params['overbought']\n",
    "        self.oversold = params['oversold']\n",
    "        self.supertrend = params['supertrend']\n",
    "        \n",
    "        self.pip = params['pip']\n",
    "        self.pip_value = params['pip_value']\n",
    "        self.rr = params['rr']\n",
    "        \n",
    "        self.lot_size = 0.01\n",
    "        self.target = 10\n",
    "        self.round = params['round']\n",
    "        self.df = None\n",
    "        \n",
    "    def get_bars(self, period_bars='3d'):\n",
    "        ticker_yahoo = yf.Ticker(self.pair+'=x')\n",
    "        bars = ticker_yahoo.history(period=period_bars, interval=self.tf)\n",
    "        df = pd.DataFrame({\n",
    "            'datetime': bars.index,\n",
    "            'open': bars['Open'],\n",
    "            'high': bars['High'],\n",
    "            'low': bars['Low'],\n",
    "            'close': bars['Close'],\n",
    "            'volumn': bars['Volume']\n",
    "        }) # convert alpha vantage data to use with strategy\n",
    "\n",
    "        df['timestamp'] = pd.to_datetime(df['datetime']).values.astype(np.int64) // 10**9\n",
    "        df['datetime'] = pd.to_datetime(df['timestamp'] * 10**9, utc=True).dt.tz_convert('Asia/Bangkok')\n",
    "        df.reset_index(drop=True, inplace=True)\n",
    "        return df\n",
    "        \n",
    "    def initial_bars(self):\n",
    "        init_df = self.get_bars(period_bars='3d')\n",
    "        self.df = init_df\n",
    "        \n",
    "    def reset_order(self):\n",
    "        self.order = {'action': None, 'open time': None, 'open': None, 'close time': None, \\\n",
    "                      'close': None, 'T/P': None, 'S/L': None,'result': None, 'strategy': self.name, 'size': 0}\n",
    "    \n",
    "    def calLotSize(self, entry, exit):\n",
    "        self.lot_size = abs(round(self.target / (((entry - exit) / self.pip ) * self.pip_value ) , 2))\n",
    "        print(f'lot_size: {str(self.lot_size)}')\n",
    "        \n",
    "    def longCondition(self, row):\n",
    "        if row['SUPERTd_'+str(self.supertrend)+'_3.0'] == 1 and row['RSI_'+str(self.rsi)] > self.overbought and \\\n",
    "            row['prev_rsi'] < self.overbought:\n",
    "            \n",
    "            row['action'] = 'long'\n",
    "            self.order['action'] = 'long'\n",
    "            self.order['open time'] = row['timestamp']\n",
    "            self.order['open'] = row['open']\n",
    "            self.order['S/L'] = row['open'] - row['ATRr_'+str(self.atr)]\n",
    "            self.order['T/P'] = row['open'] + (self.rr * abs(row['open'] - self.order['S/L']))\n",
    "            self.current_action = 'long'\n",
    "                        \n",
    "            notifyMsg(f\"Buy {self.pair} {self.name}\\nprice: {str(self.order['open'])}\\nTP: {str(self.order['T/P'])}\\nSL: {str(self.order['S/L'])}\")\n",
    "            self.calLotSize(self.order['open'], self.order['T/P'])\n",
    "                \n",
    "    def longResult(self, row):\n",
    "        if (row['low'] <= self.order['S/L']):\n",
    "            self.order['result'] = 'S/L'\n",
    "            self.order['close time'] = row['timestamp']\n",
    "            self.order['close'] = self.order['S/L']\n",
    "                \n",
    "            self.current_action = 'close'\n",
    "            notifyMsg(f\"S/L Buy {self.pair} {self.name}\\nprice: {self.order['close']}\")\n",
    "            self.order['size'] = self.lot_size\n",
    "            writeTradeLog(self.order, self.pair)\n",
    "                \n",
    "            self.reset_order()\n",
    "                \n",
    "        elif (row['high'] >= self.order['T/P']):\n",
    "            self.order['result'] = 'T/P'\n",
    "            self.order['close time'] = row['timestamp']\n",
    "            self.order['close'] = self.order['T/P']\n",
    "                \n",
    "            self.current_action = 'close'\n",
    "            notifyMsg(f\"T/P Buy {self.pair} {self.name}\\nprice: {self.order['close']}\")\n",
    "            self.order['size'] = self.lot_size\n",
    "            writeTradeLog(self.order, self.pair)\n",
    "                \n",
    "            self.reset_order()\n",
    "        \n",
    "    def shortCondition(self, row):\n",
    "        if row['SUPERTd_'+str(self.supertrend)+'_3.0'] == -1 and row['RSI_'+str(self.rsi)] < self.oversold and \\\n",
    "            row['prev_rsi'] > self.oversold:\n",
    "            \n",
    "            row['action'] = 'short'\n",
    "            self.order['action'] = 'short'\n",
    "            self.order['open time'] = row['timestamp']\n",
    "            self.order['open'] = row['open']\n",
    "            self.order['S/L'] = row['open'] + row['ATRr_'+str(self.atr)]\n",
    "            self.order['T/P'] = row['open'] - (self.rr * abs(row['open'] - self.order['S/L']))\n",
    "            self.current_action = 'short'\n",
    "                        \n",
    "            notifyMsg(f\"Sell {self.pair} {self.name}\\nprice: {str(self.order['open'])}\\nTP: {str(self.order['T/P'])}\\nSL: {str(self.order['S/L'])}\")\n",
    "            self.calLotSize(self.order['open'], self.order['T/P'])\n",
    "                \n",
    "    def shortResult(self, row):\n",
    "        if (row['high'] >= self.order['S/L']):\n",
    "            self.order['result'] = 'S/L'\n",
    "            self.order['close time'] = row['timestamp']\n",
    "            self.order['close'] = self.order['S/L']\n",
    "                \n",
    "            self.current_action = 'close'\n",
    "            notifyMsg(f\"S/L Sell {self.pair} {self.name}\\nprice: {self.order['close']}\")\n",
    "            self.order['size'] = self.lot_size\n",
    "            writeTradeLog(self.order, self.pair)\n",
    "                \n",
    "            self.reset_order()\n",
    "                \n",
    "        elif (row['low'] <= self.order['T/P']):\n",
    "            self.order['result'] = 'T/P'\n",
    "            self.order['close time'] = row['timestamp']\n",
    "            self.order['close'] = self.order['T/P']\n",
    "                \n",
    "            self.current_action = 'close'\n",
    "            notifyMsg(f\"T/P Sell {self.pair} {self.name}\\nprice: {self.order['close']}\")\n",
    "            self.order['size'] = self.lot_size\n",
    "            writeTradeLog(self.order, self.pair)\n",
    "                \n",
    "            self.reset_order()\n",
    "        \n",
    "    def createStrategy(self):\n",
    "        rsi_supertrend = ta.Strategy(\n",
    "            name = 'RSI and Supertrend',\n",
    "            description = 'RSI and Supertrend',\n",
    "            ta = [\n",
    "                {'kind': 'supertrend', 'length': self.supertrend},\n",
    "                {'kind': 'rsi', 'length': self.rsi},\n",
    "                {'kind': 'atr', 'length': self.atr}\n",
    "            ]\n",
    "        )\n",
    "        self.df.ta.strategy(rsi_supertrend)\n",
    "        self.df['prev_rsi'] = self.df['RSI_'+str(self.rsi)].shift(1)\n",
    "        \n",
    "    def realtime_long(self):\n",
    "        incoming_df = self.get_bars(period_bars='1d')\n",
    "        if (incoming_df['timestamp'].iloc[0] != self.df['timestamp'].iloc[-1]):\n",
    "            self.df = self.df.append(incoming_df.tail(1), ignore_index = True)\n",
    "        self.createStrategy()\n",
    "        \n",
    "        row = self.df.tail(1).to_dict('records')[0]\n",
    "        if self.current_action == 'close':\n",
    "            self.longCondition(row)\n",
    "        else:\n",
    "            self.longResult(row)\n",
    "    \n",
    "    def realtime_short(self):\n",
    "        incoming_df = self.get_bars(period_bars='1d')\n",
    "        if (incoming_df['timestamp'].iloc[0] != self.df['timestamp'].iloc[-1]):\n",
    "            self.df = self.df.append(incoming_df.tail(1), ignore_index = True)\n",
    "        self.createStrategy()\n",
    "        \n",
    "        row = self.df.tail(1).to_dict('records')[0]\n",
    "        if self.current_action == 'close':\n",
    "            self.shortCondition(row)\n",
    "        else:\n",
    "            self.shortResult(row)\n",
    "    \n",
    "    def realtime_both(self):\n",
    "        incoming_df = self.get_bars(period_bars='1d')\n",
    "        if (incoming_df['timestamp'].iloc[0] != self.df['timestamp'].iloc[-1]):\n",
    "            self.df = self.df.append(incoming_df.tail(1), ignore_index = True)\n",
    "        self.createStrategy()\n",
    "        \n",
    "        row = self.df.tail(1).to_dict('records')[0]\n",
    "        if self.current_action == 'close':\n",
    "            self.longCondition(row)\n",
    "            self.shortCondition(row)\n",
    "            \n",
    "        elif self.current_action == 'long':\n",
    "            self.longResult(row)\n",
    "                    \n",
    "        elif self.current_action == 'short':\n",
    "            self.shortResult(row)\n",
    "    "
   ]
  },
  {
   "cell_type": "code",
   "execution_count": 17,
   "id": "6dd66398",
   "metadata": {},
   "outputs": [],
   "source": [
    "eurusd = RsiSupertrendNotify({\n",
    "    'pair': 'EURUSD',\n",
    "    'tf': '15m',\n",
    "    'atr': 17,\n",
    "    'supertrend': 35,\n",
    "    'rsi': 10,\n",
    "    'overbought': 73,\n",
    "    'oversold': 27,\n",
    "    'pip': 0.0001,\n",
    "    'pip_value': 10,\n",
    "    'rr': 1.5,\n",
    "    'round': 5\n",
    "})"
   ]
  },
  {
   "cell_type": "code",
   "execution_count": 18,
   "id": "99e4f2e2",
   "metadata": {},
   "outputs": [],
   "source": [
    "eurusd.initial_bars()"
   ]
  },
  {
   "cell_type": "code",
   "execution_count": 19,
   "id": "8b0e4ac4",
   "metadata": {},
   "outputs": [
    {
     "data": {
      "text/plain": [
       "Every 900 seconds do get_all_realtime() (last run: [never], next run: 2022-08-26 15:04:38)"
      ]
     },
     "execution_count": 19,
     "metadata": {},
     "output_type": "execute_result"
    }
   ],
   "source": [
    "def get_all_realtime():\n",
    "#     eurusd.get_realtime()\n",
    "    eurusd.realtime_both()\n",
    "    \n",
    "schedule.every(60 * 15).seconds.do(get_all_realtime) "
   ]
  },
  {
   "cell_type": "code",
   "execution_count": null,
   "id": "dd064e1b",
   "metadata": {},
   "outputs": [
    {
     "name": "stdout",
     "output_type": "stream",
     "text": [
      "{\"status\":200,\"message\":\"ok\"}\n",
      "lot_size: 0.15\n",
      "{\"status\":200,\"message\":\"ok\"}\n",
      "23 [['23', 'EURUSD', 'long', 1661503732, 0.9989012479782104, 1661505533, 0.9995533454160064, 'T/P', 'Rsi_Supertrend', 0.15]]\n",
      "done...\n"
     ]
    }
   ],
   "source": [
    "while True:\n",
    "    schedule.run_pending()\n",
    "    time.sleep(1)"
   ]
  },
  {
   "cell_type": "code",
   "execution_count": null,
   "id": "094a0551",
   "metadata": {},
   "outputs": [],
   "source": []
  }
 ],
 "metadata": {
  "kernelspec": {
   "display_name": "Python 3",
   "language": "python",
   "name": "python3"
  },
  "language_info": {
   "codemirror_mode": {
    "name": "ipython",
    "version": 3
   },
   "file_extension": ".py",
   "mimetype": "text/x-python",
   "name": "python",
   "nbconvert_exporter": "python",
   "pygments_lexer": "ipython3",
   "version": "3.8.8"
  }
 },
 "nbformat": 4,
 "nbformat_minor": 5
}
