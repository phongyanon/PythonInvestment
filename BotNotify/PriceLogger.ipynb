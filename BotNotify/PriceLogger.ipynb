{
 "cells": [
  {
   "cell_type": "code",
   "execution_count": 31,
   "id": "5a07af94",
   "metadata": {},
   "outputs": [
    {
     "data": {
      "text/plain": [
       "True"
      ]
     },
     "execution_count": 31,
     "metadata": {},
     "output_type": "execute_result"
    }
   ],
   "source": [
    "import os, csv, json\n",
    "from dotenv import load_dotenv\n",
    "import time\n",
    "from datetime import datetime\n",
    "import schedule\n",
    "import requests\n",
    "\n",
    "import yfinance as yf\n",
    "yf.pdr_override()\n",
    "\n",
    "import pandas as pd\n",
    "import pandas_ta as ta\n",
    "import numpy as np\n",
    "\n",
    "from google.oauth2 import service_account\n",
    "import pygsheets\n",
    "\n",
    "load_dotenv()"
   ]
  },
  {
   "cell_type": "code",
   "execution_count": 32,
   "id": "a0aa3ca0",
   "metadata": {},
   "outputs": [
    {
     "data": {
      "text/plain": [
       "'1WTJj8qkV9GeM_Fz8m2bLH3gZNNpSfRnqtzBiv3XaFsc'"
      ]
     },
     "execution_count": 32,
     "metadata": {},
     "output_type": "execute_result"
    }
   ],
   "source": [
    "with open(\"..\\service_account.json\") as source:\n",
    "    info = json.load(source)\n",
    "credentials = service_account.Credentials.from_service_account_info(info)\n",
    "\n",
    "CLIENT = pygsheets.authorize(service_account_file='..\\service_account.json')\n",
    "SHEET_URL = os.getenv('TRADE_SHEET')\n",
    "data = CLIENT.sheet.get(os.getenv('TRADE_SHEET_ID'))\n",
    "data['spreadsheetId']"
   ]
  },
  {
   "cell_type": "code",
   "execution_count": 45,
   "id": "cc1ddd93",
   "metadata": {},
   "outputs": [],
   "source": [
    "def writePriceLog(title, new_rows):\n",
    "    sheet = CLIENT.open_by_url(SHEET_URL)\n",
    "    worksheet = sheet.worksheet_by_title(title)\n",
    "    cells = worksheet.get_all_values(include_tailing_empty_rows=False, include_tailing_empty=False, returnas='matrix')\n",
    "    last_row = len(cells)\n",
    "    \n",
    "    worksheet = worksheet.insert_rows(last_row, number=1, values= new_rows)\n",
    "    print(title + ' done...')"
   ]
  },
  {
   "cell_type": "code",
   "execution_count": 46,
   "id": "49f4de9b",
   "metadata": {},
   "outputs": [],
   "source": [
    "def initial_bars(pair, tf):\n",
    "    ticker_yahoo = yf.Ticker(pair+'=x')\n",
    "    bars = ticker_yahoo.history(period='3d', interval=tf)\n",
    "    df = pd.DataFrame({\n",
    "        'datetime': bars.index,\n",
    "        'open': bars['Open'],\n",
    "        'high': bars['High'],\n",
    "        'low': bars['Low'],\n",
    "        'close': bars['Close']\n",
    "#         'volumn': bars['Volume']\n",
    "    }) # convert alpha vantage data to use with strategy\n",
    "\n",
    "    df['timestamp'] = pd.to_datetime(df['datetime']).values.astype(np.int64) // 10**9\n",
    "    df['datetime'] = pd.to_datetime(df['timestamp'] * 10**9, utc=True).dt.tz_convert('Asia/Bangkok')\n",
    "    df = df.astype({'datetime':'string'})\n",
    "    df.reset_index(drop=True, inplace=True)\n",
    "\n",
    "    return df"
   ]
  },
  {
   "cell_type": "code",
   "execution_count": 50,
   "id": "c3091981",
   "metadata": {},
   "outputs": [
    {
     "data": {
      "text/html": [
       "<div>\n",
       "<style scoped>\n",
       "    .dataframe tbody tr th:only-of-type {\n",
       "        vertical-align: middle;\n",
       "    }\n",
       "\n",
       "    .dataframe tbody tr th {\n",
       "        vertical-align: top;\n",
       "    }\n",
       "\n",
       "    .dataframe thead th {\n",
       "        text-align: right;\n",
       "    }\n",
       "</style>\n",
       "<table border=\"1\" class=\"dataframe\">\n",
       "  <thead>\n",
       "    <tr style=\"text-align: right;\">\n",
       "      <th></th>\n",
       "      <th>datetime</th>\n",
       "      <th>open</th>\n",
       "      <th>high</th>\n",
       "      <th>low</th>\n",
       "      <th>close</th>\n",
       "      <th>timestamp</th>\n",
       "    </tr>\n",
       "  </thead>\n",
       "  <tbody>\n",
       "    <tr>\n",
       "      <th>0</th>\n",
       "      <td>2022-08-08 06:00:00+07:00</td>\n",
       "      <td>1.017605</td>\n",
       "      <td>1.018019</td>\n",
       "      <td>1.017294</td>\n",
       "      <td>1.017501</td>\n",
       "      <td>1659913200</td>\n",
       "    </tr>\n",
       "    <tr>\n",
       "      <th>1</th>\n",
       "      <td>2022-08-08 07:00:00+07:00</td>\n",
       "      <td>1.017501</td>\n",
       "      <td>1.017501</td>\n",
       "      <td>1.016260</td>\n",
       "      <td>1.016880</td>\n",
       "      <td>1659916800</td>\n",
       "    </tr>\n",
       "    <tr>\n",
       "      <th>2</th>\n",
       "      <td>2022-08-08 08:00:00+07:00</td>\n",
       "      <td>1.017191</td>\n",
       "      <td>1.018019</td>\n",
       "      <td>1.016880</td>\n",
       "      <td>1.017812</td>\n",
       "      <td>1659920400</td>\n",
       "    </tr>\n",
       "    <tr>\n",
       "      <th>3</th>\n",
       "      <td>2022-08-08 09:00:00+07:00</td>\n",
       "      <td>1.018226</td>\n",
       "      <td>1.018745</td>\n",
       "      <td>1.017501</td>\n",
       "      <td>1.018330</td>\n",
       "      <td>1659924000</td>\n",
       "    </tr>\n",
       "    <tr>\n",
       "      <th>4</th>\n",
       "      <td>2022-08-08 10:00:00+07:00</td>\n",
       "      <td>1.018330</td>\n",
       "      <td>1.018952</td>\n",
       "      <td>1.018123</td>\n",
       "      <td>1.018952</td>\n",
       "      <td>1659927600</td>\n",
       "    </tr>\n",
       "  </tbody>\n",
       "</table>\n",
       "</div>"
      ],
      "text/plain": [
       "                    datetime      open      high       low     close  \\\n",
       "0  2022-08-08 06:00:00+07:00  1.017605  1.018019  1.017294  1.017501   \n",
       "1  2022-08-08 07:00:00+07:00  1.017501  1.017501  1.016260  1.016880   \n",
       "2  2022-08-08 08:00:00+07:00  1.017191  1.018019  1.016880  1.017812   \n",
       "3  2022-08-08 09:00:00+07:00  1.018226  1.018745  1.017501  1.018330   \n",
       "4  2022-08-08 10:00:00+07:00  1.018330  1.018952  1.018123  1.018952   \n",
       "\n",
       "    timestamp  \n",
       "0  1659913200  \n",
       "1  1659916800  \n",
       "2  1659920400  \n",
       "3  1659924000  \n",
       "4  1659927600  "
      ]
     },
     "execution_count": 50,
     "metadata": {},
     "output_type": "execute_result"
    }
   ],
   "source": [
    "dt = initial_bars('EURUSD', '1h')\n",
    "dt.head()"
   ]
  },
  {
   "cell_type": "code",
   "execution_count": 48,
   "id": "ccb246cf",
   "metadata": {},
   "outputs": [
    {
     "name": "stdout",
     "output_type": "stream",
     "text": [
      "done...\n"
     ]
    }
   ],
   "source": [
    "rows = dt.values.tolist()\n",
    "writePriceLog('EURUSD_1h', rows)"
   ]
  },
  {
   "cell_type": "code",
   "execution_count": null,
   "id": "99d9c158",
   "metadata": {},
   "outputs": [],
   "source": []
  }
 ],
 "metadata": {
  "kernelspec": {
   "display_name": "Python 3",
   "language": "python",
   "name": "python3"
  },
  "language_info": {
   "codemirror_mode": {
    "name": "ipython",
    "version": 3
   },
   "file_extension": ".py",
   "mimetype": "text/x-python",
   "name": "python",
   "nbconvert_exporter": "python",
   "pygments_lexer": "ipython3",
   "version": "3.8.8"
  }
 },
 "nbformat": 4,
 "nbformat_minor": 5
}
