{
  "nbformat": 4,
  "nbformat_minor": 0,
  "metadata": {
    "colab": {
      "name": "Return_new",
      "provenance": [],
      "collapsed_sections": []
    },
    "kernelspec": {
      "name": "python3",
      "display_name": "Python 3"
    },
    "language_info": {
      "name": "python"
    }
  },
  "cells": [
    {
      "cell_type": "code",
      "metadata": {
        "colab": {
          "base_uri": "https://localhost:8080/"
        },
        "id": "YBR32BmV-WBW",
        "outputId": "0bf5f6fc-7bac-473e-8d0b-89d0cbc125e0"
      },
      "source": [
        "!pip install yfinance"
      ],
      "execution_count": null,
      "outputs": [
        {
          "output_type": "stream",
          "text": [
            "Requirement already satisfied: yfinance in /usr/local/lib/python3.7/dist-packages (0.1.63)\n",
            "Requirement already satisfied: requests>=2.20 in /usr/local/lib/python3.7/dist-packages (from yfinance) (2.23.0)\n",
            "Requirement already satisfied: numpy>=1.15 in /usr/local/lib/python3.7/dist-packages (from yfinance) (1.19.5)\n",
            "Requirement already satisfied: multitasking>=0.0.7 in /usr/local/lib/python3.7/dist-packages (from yfinance) (0.0.9)\n",
            "Requirement already satisfied: pandas>=0.24 in /usr/local/lib/python3.7/dist-packages (from yfinance) (1.1.5)\n",
            "Requirement already satisfied: lxml>=4.5.1 in /usr/local/lib/python3.7/dist-packages (from yfinance) (4.6.3)\n",
            "Requirement already satisfied: pytz>=2017.2 in /usr/local/lib/python3.7/dist-packages (from pandas>=0.24->yfinance) (2018.9)\n",
            "Requirement already satisfied: python-dateutil>=2.7.3 in /usr/local/lib/python3.7/dist-packages (from pandas>=0.24->yfinance) (2.8.1)\n",
            "Requirement already satisfied: six>=1.5 in /usr/local/lib/python3.7/dist-packages (from python-dateutil>=2.7.3->pandas>=0.24->yfinance) (1.15.0)\n",
            "Requirement already satisfied: chardet<4,>=3.0.2 in /usr/local/lib/python3.7/dist-packages (from requests>=2.20->yfinance) (3.0.4)\n",
            "Requirement already satisfied: idna<3,>=2.5 in /usr/local/lib/python3.7/dist-packages (from requests>=2.20->yfinance) (2.10)\n",
            "Requirement already satisfied: certifi>=2017.4.17 in /usr/local/lib/python3.7/dist-packages (from requests>=2.20->yfinance) (2021.5.30)\n",
            "Requirement already satisfied: urllib3!=1.25.0,!=1.25.1,<1.26,>=1.21.1 in /usr/local/lib/python3.7/dist-packages (from requests>=2.20->yfinance) (1.24.3)\n"
          ],
          "name": "stdout"
        }
      ]
    },
    {
      "cell_type": "code",
      "metadata": {
        "id": "30ZL3yMlbrn_"
      },
      "source": [
        "import pandas as pd\n",
        "import matplotlib.pyplot as plt"
      ],
      "execution_count": null,
      "outputs": []
    },
    {
      "cell_type": "code",
      "metadata": {
        "id": "XNxZqQi7cK8g"
      },
      "source": [
        "from pandas_datareader import data as web\n",
        "import yfinance as yf\n",
        "yf.pdr_override()"
      ],
      "execution_count": null,
      "outputs": []
    },
    {
      "cell_type": "code",
      "metadata": {
        "id": "IpkzOsPkcXir"
      },
      "source": [
        "start = '2019-01-01'\n",
        "end = '2021-01-01'"
      ],
      "execution_count": null,
      "outputs": []
    },
    {
      "cell_type": "code",
      "metadata": {
        "id": "J9HYzR1Ace1l",
        "colab": {
          "base_uri": "https://localhost:8080/"
        },
        "outputId": "c62c41d8-df3b-4e06-918a-c770455dba68"
      },
      "source": [
        "tsla = web.get_data_yahoo('TSLA', start=start, end=end)"
      ],
      "execution_count": null,
      "outputs": [
        {
          "output_type": "stream",
          "text": [
            "\r[*********************100%***********************]  1 of 1 completed\n"
          ],
          "name": "stdout"
        }
      ]
    },
    {
      "cell_type": "code",
      "metadata": {
        "id": "rgzi53znclu4",
        "colab": {
          "base_uri": "https://localhost:8080/",
          "height": 450
        },
        "outputId": "89e470a3-2816-4b21-d0ec-7f20d43645c0"
      },
      "source": [
        "tsla"
      ],
      "execution_count": null,
      "outputs": [
        {
          "output_type": "execute_result",
          "data": {
            "text/html": [
              "<div>\n",
              "<style scoped>\n",
              "    .dataframe tbody tr th:only-of-type {\n",
              "        vertical-align: middle;\n",
              "    }\n",
              "\n",
              "    .dataframe tbody tr th {\n",
              "        vertical-align: top;\n",
              "    }\n",
              "\n",
              "    .dataframe thead th {\n",
              "        text-align: right;\n",
              "    }\n",
              "</style>\n",
              "<table border=\"1\" class=\"dataframe\">\n",
              "  <thead>\n",
              "    <tr style=\"text-align: right;\">\n",
              "      <th></th>\n",
              "      <th>Open</th>\n",
              "      <th>High</th>\n",
              "      <th>Low</th>\n",
              "      <th>Close</th>\n",
              "      <th>Adj Close</th>\n",
              "      <th>Volume</th>\n",
              "    </tr>\n",
              "    <tr>\n",
              "      <th>Date</th>\n",
              "      <th></th>\n",
              "      <th></th>\n",
              "      <th></th>\n",
              "      <th></th>\n",
              "      <th></th>\n",
              "      <th></th>\n",
              "    </tr>\n",
              "  </thead>\n",
              "  <tbody>\n",
              "    <tr>\n",
              "      <th>2019-01-02</th>\n",
              "      <td>61.220001</td>\n",
              "      <td>63.026001</td>\n",
              "      <td>59.759998</td>\n",
              "      <td>62.023998</td>\n",
              "      <td>62.023998</td>\n",
              "      <td>58293000</td>\n",
              "    </tr>\n",
              "    <tr>\n",
              "      <th>2019-01-03</th>\n",
              "      <td>61.400002</td>\n",
              "      <td>61.880001</td>\n",
              "      <td>59.476002</td>\n",
              "      <td>60.071999</td>\n",
              "      <td>60.071999</td>\n",
              "      <td>34826000</td>\n",
              "    </tr>\n",
              "    <tr>\n",
              "      <th>2019-01-04</th>\n",
              "      <td>61.200001</td>\n",
              "      <td>63.599998</td>\n",
              "      <td>60.546001</td>\n",
              "      <td>63.537998</td>\n",
              "      <td>63.537998</td>\n",
              "      <td>36970500</td>\n",
              "    </tr>\n",
              "    <tr>\n",
              "      <th>2019-01-07</th>\n",
              "      <td>64.344002</td>\n",
              "      <td>67.348000</td>\n",
              "      <td>63.549999</td>\n",
              "      <td>66.991997</td>\n",
              "      <td>66.991997</td>\n",
              "      <td>37756000</td>\n",
              "    </tr>\n",
              "    <tr>\n",
              "      <th>2019-01-08</th>\n",
              "      <td>68.391998</td>\n",
              "      <td>68.802002</td>\n",
              "      <td>65.403999</td>\n",
              "      <td>67.070000</td>\n",
              "      <td>67.070000</td>\n",
              "      <td>35042500</td>\n",
              "    </tr>\n",
              "    <tr>\n",
              "      <th>...</th>\n",
              "      <td>...</td>\n",
              "      <td>...</td>\n",
              "      <td>...</td>\n",
              "      <td>...</td>\n",
              "      <td>...</td>\n",
              "      <td>...</td>\n",
              "    </tr>\n",
              "    <tr>\n",
              "      <th>2020-12-24</th>\n",
              "      <td>642.989990</td>\n",
              "      <td>666.090027</td>\n",
              "      <td>641.000000</td>\n",
              "      <td>661.770020</td>\n",
              "      <td>661.770020</td>\n",
              "      <td>22865600</td>\n",
              "    </tr>\n",
              "    <tr>\n",
              "      <th>2020-12-28</th>\n",
              "      <td>674.510010</td>\n",
              "      <td>681.400024</td>\n",
              "      <td>660.799988</td>\n",
              "      <td>663.690002</td>\n",
              "      <td>663.690002</td>\n",
              "      <td>32278600</td>\n",
              "    </tr>\n",
              "    <tr>\n",
              "      <th>2020-12-29</th>\n",
              "      <td>661.000000</td>\n",
              "      <td>669.900024</td>\n",
              "      <td>655.000000</td>\n",
              "      <td>665.989990</td>\n",
              "      <td>665.989990</td>\n",
              "      <td>22910800</td>\n",
              "    </tr>\n",
              "    <tr>\n",
              "      <th>2020-12-30</th>\n",
              "      <td>672.000000</td>\n",
              "      <td>696.599976</td>\n",
              "      <td>668.359985</td>\n",
              "      <td>694.780029</td>\n",
              "      <td>694.780029</td>\n",
              "      <td>42846000</td>\n",
              "    </tr>\n",
              "    <tr>\n",
              "      <th>2020-12-31</th>\n",
              "      <td>699.989990</td>\n",
              "      <td>718.719971</td>\n",
              "      <td>691.119995</td>\n",
              "      <td>705.669983</td>\n",
              "      <td>705.669983</td>\n",
              "      <td>49649900</td>\n",
              "    </tr>\n",
              "  </tbody>\n",
              "</table>\n",
              "<p>505 rows × 6 columns</p>\n",
              "</div>"
            ],
            "text/plain": [
              "                  Open        High  ...   Adj Close    Volume\n",
              "Date                                ...                      \n",
              "2019-01-02   61.220001   63.026001  ...   62.023998  58293000\n",
              "2019-01-03   61.400002   61.880001  ...   60.071999  34826000\n",
              "2019-01-04   61.200001   63.599998  ...   63.537998  36970500\n",
              "2019-01-07   64.344002   67.348000  ...   66.991997  37756000\n",
              "2019-01-08   68.391998   68.802002  ...   67.070000  35042500\n",
              "...                ...         ...  ...         ...       ...\n",
              "2020-12-24  642.989990  666.090027  ...  661.770020  22865600\n",
              "2020-12-28  674.510010  681.400024  ...  663.690002  32278600\n",
              "2020-12-29  661.000000  669.900024  ...  665.989990  22910800\n",
              "2020-12-30  672.000000  696.599976  ...  694.780029  42846000\n",
              "2020-12-31  699.989990  718.719971  ...  705.669983  49649900\n",
              "\n",
              "[505 rows x 6 columns]"
            ]
          },
          "metadata": {
            "tags": []
          },
          "execution_count": 15
        }
      ]
    },
    {
      "cell_type": "code",
      "metadata": {
        "id": "SCMpwzVlf115"
      },
      "source": [
        ""
      ],
      "execution_count": null,
      "outputs": []
    },
    {
      "cell_type": "code",
      "metadata": {
        "id": "KMFvrTDmcpGG"
      },
      "source": [
        "price = tsla['Adj Close']"
      ],
      "execution_count": null,
      "outputs": []
    },
    {
      "cell_type": "code",
      "metadata": {
        "id": "g9vxvfoYcsZu"
      },
      "source": [
        "ret_manual = price/price.shift(1) - 1"
      ],
      "execution_count": null,
      "outputs": []
    },
    {
      "cell_type": "code",
      "metadata": {
        "id": "FMC5WdWQcw7R",
        "colab": {
          "base_uri": "https://localhost:8080/"
        },
        "outputId": "0c8a3d37-3190-4c91-95cf-1ba4a6986366"
      },
      "source": [
        "ret_manual"
      ],
      "execution_count": null,
      "outputs": [
        {
          "output_type": "execute_result",
          "data": {
            "text/plain": [
              "Date\n",
              "2019-01-02         NaN\n",
              "2019-01-03   -0.031472\n",
              "2019-01-04    0.057697\n",
              "2019-01-07    0.054361\n",
              "2019-01-08    0.001164\n",
              "                ...   \n",
              "2020-12-24    0.024444\n",
              "2020-12-28    0.002901\n",
              "2020-12-29    0.003465\n",
              "2020-12-30    0.043229\n",
              "2020-12-31    0.015674\n",
              "Name: Adj Close, Length: 505, dtype: float64"
            ]
          },
          "metadata": {
            "tags": []
          },
          "execution_count": 18
        }
      ]
    },
    {
      "cell_type": "code",
      "metadata": {
        "id": "2PwSySG3c1Oo"
      },
      "source": [
        "ret = price.pct_change()"
      ],
      "execution_count": null,
      "outputs": []
    },
    {
      "cell_type": "code",
      "metadata": {
        "id": "-bExfO6QdGey",
        "colab": {
          "base_uri": "https://localhost:8080/"
        },
        "outputId": "e171bebf-c472-47cd-d580-df0bbd49323d"
      },
      "source": [
        "ret"
      ],
      "execution_count": null,
      "outputs": [
        {
          "output_type": "execute_result",
          "data": {
            "text/plain": [
              "Date\n",
              "2019-01-02         NaN\n",
              "2019-01-03   -0.031472\n",
              "2019-01-04    0.057697\n",
              "2019-01-07    0.054361\n",
              "2019-01-08    0.001164\n",
              "                ...   \n",
              "2020-12-24    0.024444\n",
              "2020-12-28    0.002901\n",
              "2020-12-29    0.003465\n",
              "2020-12-30    0.043229\n",
              "2020-12-31    0.015674\n",
              "Name: Adj Close, Length: 505, dtype: float64"
            ]
          },
          "metadata": {
            "tags": []
          },
          "execution_count": 20
        }
      ]
    },
    {
      "cell_type": "code",
      "metadata": {
        "id": "kIPw4_cAf4HX"
      },
      "source": [
        ""
      ],
      "execution_count": null,
      "outputs": []
    },
    {
      "cell_type": "code",
      "metadata": {
        "id": "n-Xky2qXdsF7"
      },
      "source": [
        "#Backward Return"
      ],
      "execution_count": null,
      "outputs": []
    },
    {
      "cell_type": "code",
      "metadata": {
        "id": "qhbPLH15dO4p"
      },
      "source": [
        "m3b_ret = price.pct_change(60)"
      ],
      "execution_count": null,
      "outputs": []
    },
    {
      "cell_type": "code",
      "metadata": {
        "id": "gvbq5235n4FU"
      },
      "source": [
        "m6b_ret = price.pct_change(126)"
      ],
      "execution_count": null,
      "outputs": []
    },
    {
      "cell_type": "code",
      "metadata": {
        "id": "1ocacHb5dTgE"
      },
      "source": [
        "y_ret = price.pct_change(252)"
      ],
      "execution_count": null,
      "outputs": []
    },
    {
      "cell_type": "code",
      "metadata": {
        "id": "-ZOLO2M0dcD9"
      },
      "source": [
        "#Forward Return"
      ],
      "execution_count": null,
      "outputs": []
    },
    {
      "cell_type": "code",
      "metadata": {
        "id": "b0OxIbEXderE"
      },
      "source": [
        "three_month_ret = price.pct_change(-60)"
      ],
      "execution_count": null,
      "outputs": []
    },
    {
      "cell_type": "code",
      "metadata": {
        "id": "DIPSXCaan9v3"
      },
      "source": [
        "six_month_ret = price.pct_change(-126)"
      ],
      "execution_count": null,
      "outputs": []
    },
    {
      "cell_type": "code",
      "metadata": {
        "id": "jMrZVKhRdmLX"
      },
      "source": [
        "one_year_ret = price.pct_change(-252)"
      ],
      "execution_count": null,
      "outputs": []
    },
    {
      "cell_type": "markdown",
      "metadata": {
        "id": "30PEk_qnAmYo"
      },
      "source": [
        "หาราคาหุ้น เป็นรายสัปดาห์ เริ่มต้นวันจันทร์"
      ]
    },
    {
      "cell_type": "code",
      "metadata": {
        "id": "DiBRYcS9dv94"
      },
      "source": [
        "weekly_price = price.asfreq('W-Mon')"
      ],
      "execution_count": null,
      "outputs": []
    },
    {
      "cell_type": "code",
      "metadata": {
        "id": "C6P6oGvzd4U0",
        "colab": {
          "base_uri": "https://localhost:8080/"
        },
        "outputId": "aa3a98b0-2836-442a-f53b-06408d39e676"
      },
      "source": [
        "weekly_price"
      ],
      "execution_count": null,
      "outputs": [
        {
          "output_type": "execute_result",
          "data": {
            "text/plain": [
              "Date\n",
              "2019-01-07     66.991997\n",
              "2019-01-14     66.879997\n",
              "2019-01-21           NaN\n",
              "2019-01-28     59.276001\n",
              "2019-02-04     62.577999\n",
              "                 ...    \n",
              "2020-11-30    567.599976\n",
              "2020-12-07    641.760010\n",
              "2020-12-14    639.830017\n",
              "2020-12-21    649.859985\n",
              "2020-12-28    663.690002\n",
              "Freq: W-MON, Name: Adj Close, Length: 104, dtype: float64"
            ]
          },
          "metadata": {
            "tags": []
          },
          "execution_count": 34
        }
      ]
    },
    {
      "cell_type": "code",
      "metadata": {
        "id": "8piF-JfOd7d1"
      },
      "source": [
        "weekly_ret = weekly_price.pct_change()"
      ],
      "execution_count": null,
      "outputs": []
    },
    {
      "cell_type": "markdown",
      "metadata": {
        "id": "Edc5TRP9AqQ1"
      },
      "source": [
        "หาราคาหุ้น เป็นรายสัปดาห์ ปกติเราจะใช้วันศุกร์"
      ]
    },
    {
      "cell_type": "code",
      "metadata": {
        "id": "PtjfbJAZAuuj"
      },
      "source": [
        "weekly_price = price.asfreq(<ลองเปลี่ยนเป็นวันศุกร์>)"
      ],
      "execution_count": null,
      "outputs": []
    },
    {
      "cell_type": "markdown",
      "metadata": {
        "id": "3xYcLpt7AkNi"
      },
      "source": [
        "หาราคาหุ้น เป็นรายเดือน"
      ]
    },
    {
      "cell_type": "code",
      "metadata": {
        "id": "9zV828qxoqOB"
      },
      "source": [
        "monthly_price = price.resample('M').last()"
      ],
      "execution_count": null,
      "outputs": []
    },
    {
      "cell_type": "code",
      "metadata": {
        "id": "et9DrW7uoqbm",
        "colab": {
          "base_uri": "https://localhost:8080/"
        },
        "outputId": "63aa8b9d-bc39-409f-b88d-012a1e355be7"
      },
      "source": [
        "monthly_price"
      ],
      "execution_count": null,
      "outputs": [
        {
          "output_type": "execute_result",
          "data": {
            "text/plain": [
              "Date\n",
              "2019-01-31     61.403999\n",
              "2019-02-28     63.976002\n",
              "2019-03-31     55.972000\n",
              "2019-04-30     47.737999\n",
              "2019-05-31     37.032001\n",
              "2019-06-30     44.692001\n",
              "2019-07-31     48.321999\n",
              "2019-08-31     45.122002\n",
              "2019-09-30     48.174000\n",
              "2019-10-31     62.984001\n",
              "2019-11-30     65.987999\n",
              "2019-12-31     83.666000\n",
              "2020-01-31    130.113998\n",
              "2020-02-29    133.598007\n",
              "2020-03-31    104.800003\n",
              "2020-04-30    156.376007\n",
              "2020-05-31    167.000000\n",
              "2020-06-30    215.962006\n",
              "2020-07-31    286.152008\n",
              "2020-08-31    498.320007\n",
              "2020-09-30    429.010010\n",
              "2020-10-31    388.040009\n",
              "2020-11-30    567.599976\n",
              "2020-12-31    705.669983\n",
              "Freq: M, Name: Adj Close, dtype: float64"
            ]
          },
          "metadata": {
            "tags": []
          },
          "execution_count": 41
        }
      ]
    },
    {
      "cell_type": "code",
      "metadata": {
        "id": "bLmricq5oqi8"
      },
      "source": [
        "monthly_ret = monthly_price.pct_change()"
      ],
      "execution_count": null,
      "outputs": []
    },
    {
      "cell_type": "code",
      "metadata": {
        "colab": {
          "base_uri": "https://localhost:8080/"
        },
        "id": "7otGv04qAZdp",
        "outputId": "1f0e395f-9d1c-4deb-a4d5-9ff58db7f7cd"
      },
      "source": [
        "monthly_ret"
      ],
      "execution_count": null,
      "outputs": [
        {
          "output_type": "execute_result",
          "data": {
            "text/plain": [
              "Date\n",
              "2019-01-31         NaN\n",
              "2019-02-28    0.041887\n",
              "2019-03-31   -0.125109\n",
              "2019-04-30   -0.147109\n",
              "2019-05-31   -0.224266\n",
              "2019-06-30    0.206848\n",
              "2019-07-31    0.081223\n",
              "2019-08-31   -0.066222\n",
              "2019-09-30    0.067639\n",
              "2019-10-31    0.307427\n",
              "2019-11-30    0.047695\n",
              "2019-12-31    0.267897\n",
              "2020-01-31    0.555160\n",
              "2020-02-29    0.026777\n",
              "2020-03-31   -0.215557\n",
              "2020-04-30    0.492137\n",
              "2020-05-31    0.067939\n",
              "2020-06-30    0.293186\n",
              "2020-07-31    0.325011\n",
              "2020-08-31    0.741452\n",
              "2020-09-30   -0.139087\n",
              "2020-10-31   -0.095499\n",
              "2020-11-30    0.462736\n",
              "2020-12-31    0.243252\n",
              "Freq: M, Name: Adj Close, dtype: float64"
            ]
          },
          "metadata": {
            "tags": []
          },
          "execution_count": 47
        }
      ]
    },
    {
      "cell_type": "code",
      "metadata": {
        "id": "chuZFbDQAb8J"
      },
      "source": [
        ""
      ],
      "execution_count": null,
      "outputs": []
    }
  ]
}