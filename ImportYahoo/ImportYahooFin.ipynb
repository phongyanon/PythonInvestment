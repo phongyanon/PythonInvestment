{
 "cells": [
  {
   "cell_type": "code",
   "execution_count": 1,
   "id": "9cd48068",
   "metadata": {},
   "outputs": [],
   "source": [
    "from datetime import datetime, timedelta\n",
    "from pandas_datareader import data as pdr\n",
    "import pandas as pd\n",
    "\n",
    "import yfinance as yf\n",
    "yf.pdr_override()"
   ]
  },
  {
   "cell_type": "markdown",
   "id": "d6511a73",
   "metadata": {},
   "source": [
    "### Import Yahoo and save to csv function"
   ]
  },
  {
   "cell_type": "code",
   "execution_count": 43,
   "id": "32e0d1cb",
   "metadata": {},
   "outputs": [],
   "source": [
    "# use \"period\" instead of start/end\n",
    "# valid periods: 1d,5d,1mo,3mo,6mo,1y,2y,5y,10y,ytd,max\n",
    "# (optional, default is '1mo') period = \"ytd\"\n",
    "\n",
    "# fetch data by interval (including intraday if period < 60 days)\n",
    "# valid intervals: 1m,2m,5m,15m,30m,60m,90m,1h,1d,5d,1wk,1mo,3mo\n",
    "# (optional, default is '1d')\n",
    "\n",
    "def ImportYahooFin(name, pair, period_time=None, start_time=None, end_time=None, interval_time=\"1h\"):\n",
    "    data = None\n",
    "    if (period_time is None):\n",
    "        data = pdr.get_data_yahoo(pair+'=x', start=start_time, end=end_time, interval=interval_time)\n",
    "    else:\n",
    "        data = pdr.get_data_yahoo(pair+'=x', period=period_time, interval=interval_time)\n",
    "        \n",
    "    bars = data\n",
    "    df = pd.DataFrame({\n",
    "        'timestamp': bars.index,\n",
    "        'open': bars['Open'],\n",
    "        'high': bars['High'],\n",
    "        'low': bars['Low'],\n",
    "        'close': bars['Close'],\n",
    "        'adj close': bars['Adj Close'],\n",
    "        'volumn': bars['Volume']\n",
    "    })\n",
    "    \n",
    "    df['timestamp'] = pd.to_datetime(df['timestamp'], unit='ms')\n",
    "    df.reset_index(drop=True, inplace=True)\n",
    "    df.to_csv(name+'.csv', index=False)\n",
    "    df"
   ]
  },
  {
   "cell_type": "code",
   "execution_count": 44,
   "id": "03a9df66",
   "metadata": {},
   "outputs": [
    {
     "name": "stdout",
     "output_type": "stream",
     "text": [
      "2022-01-03 2021-11-05\n"
     ]
    }
   ],
   "source": [
    "date_now = datetime.today().strftime('%Y-%m-%d')\n",
    "date_pre60 = (datetime.today() - timedelta(days=59)).strftime('%Y-%m-%d')\n",
    "print(date_now, date_pre60)"
   ]
  },
  {
   "cell_type": "code",
   "execution_count": 48,
   "id": "9c662b7b",
   "metadata": {},
   "outputs": [
    {
     "name": "stdout",
     "output_type": "stream",
     "text": [
      "[*********************100%***********************]  1 of 1 completed\n",
      "[*********************100%***********************]  1 of 1 completed\n",
      "[*********************100%***********************]  1 of 1 completed\n",
      "[*********************100%***********************]  1 of 1 completed\n",
      "[*********************100%***********************]  1 of 1 completed\n",
      "[*********************100%***********************]  1 of 1 completed\n",
      "[*********************100%***********************]  1 of 1 completed\n",
      "[*********************100%***********************]  1 of 1 completed\n",
      "[*********************100%***********************]  1 of 1 completed\n",
      "[*********************100%***********************]  1 of 1 completed\n",
      "[*********************100%***********************]  1 of 1 completed\n",
      "[*********************100%***********************]  1 of 1 completed\n",
      "[*********************100%***********************]  1 of 1 completed\n",
      "[*********************100%***********************]  1 of 1 completed\n",
      "[*********************100%***********************]  1 of 1 completed\n",
      "[*********************100%***********************]  1 of 1 completed\n"
     ]
    }
   ],
   "source": [
    "tf_list = ['5m', '15m', '30m', '1h']\n",
    "pair_list = ['EURUSD', 'GBPUSD', 'USDJPY', 'AUDUSD']\n",
    "\n",
    "for pair in pair_list:\n",
    "    t_now = datetime.today().strftime('%Y_%m_%d')\n",
    "    for tf in tf_list:\n",
    "        ImportYahooFin(f\"{pair}_{tf}_{t_now}\", pair, None, date_pre60, date_now, tf)"
   ]
  },
  {
   "cell_type": "code",
   "execution_count": 37,
   "id": "edcad3a4",
   "metadata": {},
   "outputs": [
    {
     "name": "stdout",
     "output_type": "stream",
     "text": [
      "[*********************100%***********************]  1 of 1 completed\n"
     ]
    }
   ],
   "source": [
    "ImportYahooFin('EURUSD_m30_2022_01_03', 'EURUSD', None, date_pre60, date_now, '30m')"
   ]
  },
  {
   "cell_type": "markdown",
   "id": "4378fd00",
   "metadata": {},
   "source": [
    "### === test code  below ==="
   ]
  },
  {
   "cell_type": "code",
   "execution_count": 39,
   "id": "34bc1051",
   "metadata": {},
   "outputs": [
    {
     "name": "stdout",
     "output_type": "stream",
     "text": [
      "[*********************100%***********************]  1 of 1 completed\n"
     ]
    },
    {
     "data": {
      "text/html": [
       "<div>\n",
       "<style scoped>\n",
       "    .dataframe tbody tr th:only-of-type {\n",
       "        vertical-align: middle;\n",
       "    }\n",
       "\n",
       "    .dataframe tbody tr th {\n",
       "        vertical-align: top;\n",
       "    }\n",
       "\n",
       "    .dataframe thead th {\n",
       "        text-align: right;\n",
       "    }\n",
       "</style>\n",
       "<table border=\"1\" class=\"dataframe\">\n",
       "  <thead>\n",
       "    <tr style=\"text-align: right;\">\n",
       "      <th></th>\n",
       "      <th>Open</th>\n",
       "      <th>High</th>\n",
       "      <th>Low</th>\n",
       "      <th>Close</th>\n",
       "      <th>Adj Close</th>\n",
       "      <th>Volume</th>\n",
       "    </tr>\n",
       "    <tr>\n",
       "      <th>Date</th>\n",
       "      <th></th>\n",
       "      <th></th>\n",
       "      <th></th>\n",
       "      <th></th>\n",
       "      <th></th>\n",
       "      <th></th>\n",
       "    </tr>\n",
       "  </thead>\n",
       "  <tbody>\n",
       "    <tr>\n",
       "      <th>2020-12-31</th>\n",
       "      <td>1.229906</td>\n",
       "      <td>1.230951</td>\n",
       "      <td>1.222300</td>\n",
       "      <td>1.229990</td>\n",
       "      <td>1.229990</td>\n",
       "      <td>0</td>\n",
       "    </tr>\n",
       "    <tr>\n",
       "      <th>2021-01-01</th>\n",
       "      <td>1.217285</td>\n",
       "      <td>1.221699</td>\n",
       "      <td>1.213499</td>\n",
       "      <td>1.218027</td>\n",
       "      <td>1.218027</td>\n",
       "      <td>0</td>\n",
       "    </tr>\n",
       "    <tr>\n",
       "      <th>2021-01-04</th>\n",
       "      <td>1.224905</td>\n",
       "      <td>1.230999</td>\n",
       "      <td>1.217137</td>\n",
       "      <td>1.225070</td>\n",
       "      <td>1.225070</td>\n",
       "      <td>0</td>\n",
       "    </tr>\n",
       "    <tr>\n",
       "      <th>2021-01-05</th>\n",
       "      <td>1.225295</td>\n",
       "      <td>1.229483</td>\n",
       "      <td>1.224995</td>\n",
       "      <td>1.225160</td>\n",
       "      <td>1.225160</td>\n",
       "      <td>0</td>\n",
       "    </tr>\n",
       "    <tr>\n",
       "      <th>2021-01-06</th>\n",
       "      <td>1.229861</td>\n",
       "      <td>1.235025</td>\n",
       "      <td>1.226693</td>\n",
       "      <td>1.230027</td>\n",
       "      <td>1.230027</td>\n",
       "      <td>0</td>\n",
       "    </tr>\n",
       "    <tr>\n",
       "      <th>...</th>\n",
       "      <td>...</td>\n",
       "      <td>...</td>\n",
       "      <td>...</td>\n",
       "      <td>...</td>\n",
       "      <td>...</td>\n",
       "      <td>...</td>\n",
       "    </tr>\n",
       "    <tr>\n",
       "      <th>2021-06-24</th>\n",
       "      <td>1.193161</td>\n",
       "      <td>1.195672</td>\n",
       "      <td>1.191995</td>\n",
       "      <td>1.193317</td>\n",
       "      <td>1.193317</td>\n",
       "      <td>0</td>\n",
       "    </tr>\n",
       "    <tr>\n",
       "      <th>2021-06-25</th>\n",
       "      <td>1.192791</td>\n",
       "      <td>1.197447</td>\n",
       "      <td>1.192791</td>\n",
       "      <td>1.193033</td>\n",
       "      <td>1.193033</td>\n",
       "      <td>0</td>\n",
       "    </tr>\n",
       "    <tr>\n",
       "      <th>2021-06-28</th>\n",
       "      <td>1.194215</td>\n",
       "      <td>1.194600</td>\n",
       "      <td>1.190462</td>\n",
       "      <td>1.194215</td>\n",
       "      <td>1.194215</td>\n",
       "      <td>0</td>\n",
       "    </tr>\n",
       "    <tr>\n",
       "      <th>2021-06-29</th>\n",
       "      <td>1.193033</td>\n",
       "      <td>1.193033</td>\n",
       "      <td>1.188044</td>\n",
       "      <td>1.192890</td>\n",
       "      <td>1.192890</td>\n",
       "      <td>0</td>\n",
       "    </tr>\n",
       "    <tr>\n",
       "      <th>2021-06-30</th>\n",
       "      <td>1.189994</td>\n",
       "      <td>1.191043</td>\n",
       "      <td>1.184582</td>\n",
       "      <td>1.190193</td>\n",
       "      <td>1.190193</td>\n",
       "      <td>0</td>\n",
       "    </tr>\n",
       "  </tbody>\n",
       "</table>\n",
       "<p>130 rows × 6 columns</p>\n",
       "</div>"
      ],
      "text/plain": [
       "                Open      High       Low     Close  Adj Close  Volume\n",
       "Date                                                                 \n",
       "2020-12-31  1.229906  1.230951  1.222300  1.229990   1.229990       0\n",
       "2021-01-01  1.217285  1.221699  1.213499  1.218027   1.218027       0\n",
       "2021-01-04  1.224905  1.230999  1.217137  1.225070   1.225070       0\n",
       "2021-01-05  1.225295  1.229483  1.224995  1.225160   1.225160       0\n",
       "2021-01-06  1.229861  1.235025  1.226693  1.230027   1.230027       0\n",
       "...              ...       ...       ...       ...        ...     ...\n",
       "2021-06-24  1.193161  1.195672  1.191995  1.193317   1.193317       0\n",
       "2021-06-25  1.192791  1.197447  1.192791  1.193033   1.193033       0\n",
       "2021-06-28  1.194215  1.194600  1.190462  1.194215   1.194215       0\n",
       "2021-06-29  1.193033  1.193033  1.188044  1.192890   1.192890       0\n",
       "2021-06-30  1.189994  1.191043  1.184582  1.190193   1.190193       0\n",
       "\n",
       "[130 rows x 6 columns]"
      ]
     },
     "execution_count": 39,
     "metadata": {},
     "output_type": "execute_result"
    }
   ],
   "source": [
    "EURUSD = pdr.get_data_yahoo(\"EURUSD=x\", start='2021-01-01', end='2021-07-01')\n",
    "EURUSD"
   ]
  },
  {
   "cell_type": "code",
   "execution_count": 9,
   "id": "8b40cd96",
   "metadata": {},
   "outputs": [],
   "source": [
    "data = EURUSD"
   ]
  },
  {
   "cell_type": "code",
   "execution_count": 10,
   "id": "25f2b27d",
   "metadata": {},
   "outputs": [
    {
     "data": {
      "text/plain": [
       "<AxesSubplot:xlabel='Date'>"
      ]
     },
     "execution_count": 10,
     "metadata": {},
     "output_type": "execute_result"
    },
    {
     "data": {
      "image/png": "[encoded data removed]",
      "text/plain": [
       "<Figure size 432x288 with 1 Axes>"
      ]
     },
     "metadata": {
      "needs_background": "light"
     },
     "output_type": "display_data"
    }
   ],
   "source": [
    "data.Close.plot()"
   ]
  },
  {
   "cell_type": "code",
   "execution_count": 4,
   "id": "a4e2ba67",
   "metadata": {},
   "outputs": [
    {
     "name": "stdout",
     "output_type": "stream",
     "text": [
      "[*********************100%***********************]  1 of 1 completed\n"
     ]
    },
    {
     "data": {
      "text/html": [
       "<div>\n",
       "<style scoped>\n",
       "    .dataframe tbody tr th:only-of-type {\n",
       "        vertical-align: middle;\n",
       "    }\n",
       "\n",
       "    .dataframe tbody tr th {\n",
       "        vertical-align: top;\n",
       "    }\n",
       "\n",
       "    .dataframe thead th {\n",
       "        text-align: right;\n",
       "    }\n",
       "</style>\n",
       "<table border=\"1\" class=\"dataframe\">\n",
       "  <thead>\n",
       "    <tr style=\"text-align: right;\">\n",
       "      <th></th>\n",
       "      <th>Open</th>\n",
       "      <th>High</th>\n",
       "      <th>Low</th>\n",
       "      <th>Close</th>\n",
       "      <th>Adj Close</th>\n",
       "      <th>Volume</th>\n",
       "    </tr>\n",
       "    <tr>\n",
       "      <th>Datetime</th>\n",
       "      <th></th>\n",
       "      <th></th>\n",
       "      <th></th>\n",
       "      <th></th>\n",
       "      <th></th>\n",
       "      <th></th>\n",
       "    </tr>\n",
       "  </thead>\n",
       "  <tbody>\n",
       "    <tr>\n",
       "      <th>2021-11-01 17:00:00+00:00</th>\n",
       "      <td>1.366195</td>\n",
       "      <td>1.366382</td>\n",
       "      <td>1.365672</td>\n",
       "      <td>1.366251</td>\n",
       "      <td>1.366251</td>\n",
       "      <td>0</td>\n",
       "    </tr>\n",
       "    <tr>\n",
       "      <th>2021-11-01 17:15:00+00:00</th>\n",
       "      <td>1.366382</td>\n",
       "      <td>1.366419</td>\n",
       "      <td>1.365822</td>\n",
       "      <td>1.365896</td>\n",
       "      <td>1.365896</td>\n",
       "      <td>0</td>\n",
       "    </tr>\n",
       "    <tr>\n",
       "      <th>2021-11-01 17:30:00+00:00</th>\n",
       "      <td>1.365430</td>\n",
       "      <td>1.366288</td>\n",
       "      <td>1.365393</td>\n",
       "      <td>1.365393</td>\n",
       "      <td>1.365393</td>\n",
       "      <td>0</td>\n",
       "    </tr>\n",
       "    <tr>\n",
       "      <th>2021-11-01 17:45:00+00:00</th>\n",
       "      <td>1.365467</td>\n",
       "      <td>1.365952</td>\n",
       "      <td>1.365095</td>\n",
       "      <td>1.365915</td>\n",
       "      <td>1.365915</td>\n",
       "      <td>0</td>\n",
       "    </tr>\n",
       "    <tr>\n",
       "      <th>2021-11-01 18:00:00+00:00</th>\n",
       "      <td>1.366102</td>\n",
       "      <td>1.366176</td>\n",
       "      <td>1.365300</td>\n",
       "      <td>1.366008</td>\n",
       "      <td>1.366008</td>\n",
       "      <td>0</td>\n",
       "    </tr>\n",
       "    <tr>\n",
       "      <th>...</th>\n",
       "      <td>...</td>\n",
       "      <td>...</td>\n",
       "      <td>...</td>\n",
       "      <td>...</td>\n",
       "      <td>...</td>\n",
       "      <td>...</td>\n",
       "    </tr>\n",
       "    <tr>\n",
       "      <th>2021-12-30 15:45:00+00:00</th>\n",
       "      <td>1.350202</td>\n",
       "      <td>1.350311</td>\n",
       "      <td>1.349418</td>\n",
       "      <td>1.349655</td>\n",
       "      <td>1.349655</td>\n",
       "      <td>0</td>\n",
       "    </tr>\n",
       "    <tr>\n",
       "      <th>2021-12-30 16:00:00+00:00</th>\n",
       "      <td>1.349819</td>\n",
       "      <td>1.350020</td>\n",
       "      <td>1.349018</td>\n",
       "      <td>1.349746</td>\n",
       "      <td>1.349746</td>\n",
       "      <td>0</td>\n",
       "    </tr>\n",
       "    <tr>\n",
       "      <th>2021-12-30 16:15:00+00:00</th>\n",
       "      <td>1.349673</td>\n",
       "      <td>1.350384</td>\n",
       "      <td>1.349309</td>\n",
       "      <td>1.349837</td>\n",
       "      <td>1.349837</td>\n",
       "      <td>0</td>\n",
       "    </tr>\n",
       "    <tr>\n",
       "      <th>2021-12-30 16:30:00+00:00</th>\n",
       "      <td>1.349837</td>\n",
       "      <td>1.349983</td>\n",
       "      <td>1.349309</td>\n",
       "      <td>1.349928</td>\n",
       "      <td>1.349928</td>\n",
       "      <td>0</td>\n",
       "    </tr>\n",
       "    <tr>\n",
       "      <th>2021-12-30 16:45:00+00:00</th>\n",
       "      <td>1.349710</td>\n",
       "      <td>1.350129</td>\n",
       "      <td>1.349254</td>\n",
       "      <td>1.349947</td>\n",
       "      <td>1.349947</td>\n",
       "      <td>0</td>\n",
       "    </tr>\n",
       "  </tbody>\n",
       "</table>\n",
       "<p>4070 rows × 6 columns</p>\n",
       "</div>"
      ],
      "text/plain": [
       "                               Open      High       Low     Close  Adj Close  \\\n",
       "Datetime                                                                       \n",
       "2021-11-01 17:00:00+00:00  1.366195  1.366382  1.365672  1.366251   1.366251   \n",
       "2021-11-01 17:15:00+00:00  1.366382  1.366419  1.365822  1.365896   1.365896   \n",
       "2021-11-01 17:30:00+00:00  1.365430  1.366288  1.365393  1.365393   1.365393   \n",
       "2021-11-01 17:45:00+00:00  1.365467  1.365952  1.365095  1.365915   1.365915   \n",
       "2021-11-01 18:00:00+00:00  1.366102  1.366176  1.365300  1.366008   1.366008   \n",
       "...                             ...       ...       ...       ...        ...   \n",
       "2021-12-30 15:45:00+00:00  1.350202  1.350311  1.349418  1.349655   1.349655   \n",
       "2021-12-30 16:00:00+00:00  1.349819  1.350020  1.349018  1.349746   1.349746   \n",
       "2021-12-30 16:15:00+00:00  1.349673  1.350384  1.349309  1.349837   1.349837   \n",
       "2021-12-30 16:30:00+00:00  1.349837  1.349983  1.349309  1.349928   1.349928   \n",
       "2021-12-30 16:45:00+00:00  1.349710  1.350129  1.349254  1.349947   1.349947   \n",
       "\n",
       "                           Volume  \n",
       "Datetime                           \n",
       "2021-11-01 17:00:00+00:00       0  \n",
       "2021-11-01 17:15:00+00:00       0  \n",
       "2021-11-01 17:30:00+00:00       0  \n",
       "2021-11-01 17:45:00+00:00       0  \n",
       "2021-11-01 18:00:00+00:00       0  \n",
       "...                           ...  \n",
       "2021-12-30 15:45:00+00:00       0  \n",
       "2021-12-30 16:00:00+00:00       0  \n",
       "2021-12-30 16:15:00+00:00       0  \n",
       "2021-12-30 16:30:00+00:00       0  \n",
       "2021-12-30 16:45:00+00:00       0  \n",
       "\n",
       "[4070 rows x 6 columns]"
      ]
     },
     "execution_count": 4,
     "metadata": {},
     "output_type": "execute_result"
    }
   ],
   "source": [
    "GBPUSD = pdr.get_data_yahoo(\"GBPUSD=x\", start='2021-11-02', end='2021-12-31', interval = \"15m\")\n",
    "GBPUSD"
   ]
  }
 ],
 "metadata": {
  "kernelspec": {
   "display_name": "Python 3",
   "language": "python",
   "name": "python3"
  },
  "language_info": {
   "codemirror_mode": {
    "name": "ipython",
    "version": 3
   },
   "file_extension": ".py",
   "mimetype": "text/x-python",
   "name": "python",
   "nbconvert_exporter": "python",
   "pygments_lexer": "ipython3",
   "version": "3.8.8"
  }
 },
 "nbformat": 4,
 "nbformat_minor": 5
}
